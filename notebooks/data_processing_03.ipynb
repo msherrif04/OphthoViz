{
 "cells": [
  {
   "cell_type": "code",
   "execution_count": 152,
   "metadata": {},
   "outputs": [],
   "source": [
    "import pandas as pd\n",
    "import numpy as np\n",
    "import plotly.express as px\n",
    "import plotly.graph_objects as go\n",
    "from collections import Counter\n",
    "\n"
   ]
  },
  {
   "cell_type": "code",
   "execution_count": 2,
   "metadata": {},
   "outputs": [
    {
     "data": {
      "text/html": [
       "<div>\n",
       "<style scoped>\n",
       "    .dataframe tbody tr th:only-of-type {\n",
       "        vertical-align: middle;\n",
       "    }\n",
       "\n",
       "    .dataframe tbody tr th {\n",
       "        vertical-align: top;\n",
       "    }\n",
       "\n",
       "    .dataframe thead th {\n",
       "        text-align: right;\n",
       "    }\n",
       "</style>\n",
       "<table border=\"1\" class=\"dataframe\">\n",
       "  <thead>\n",
       "    <tr style=\"text-align: right;\">\n",
       "      <th></th>\n",
       "      <th>Title</th>\n",
       "      <th>Year</th>\n",
       "      <th>Source title</th>\n",
       "      <th>Abstract</th>\n",
       "      <th>Index Keywords</th>\n",
       "      <th>Cited by</th>\n",
       "      <th>Publisher</th>\n",
       "      <th>Language of Original Document</th>\n",
       "      <th>Document Type</th>\n",
       "      <th>countries</th>\n",
       "      <th>Funding Entities</th>\n",
       "      <th>Main Country</th>\n",
       "      <th>Period</th>\n",
       "      <th>Number of collaborators</th>\n",
       "    </tr>\n",
       "  </thead>\n",
       "  <tbody>\n",
       "    <tr>\n",
       "      <th>0</th>\n",
       "      <td>Severe proliferative retinopathy in a patient ...</td>\n",
       "      <td>2023</td>\n",
       "      <td>American Journal of Ophthalmology Case Reports</td>\n",
       "      <td>[No abstract available]</td>\n",
       "      <td>['adult', '  Article', '  autoimmune hepatitis...</td>\n",
       "      <td>0.0</td>\n",
       "      <td>Elsevier Inc.</td>\n",
       "      <td>English</td>\n",
       "      <td>Article</td>\n",
       "      <td>['United States']</td>\n",
       "      <td>[]</td>\n",
       "      <td>['United States']</td>\n",
       "      <td>2014 - 2023</td>\n",
       "      <td>1</td>\n",
       "    </tr>\n",
       "    <tr>\n",
       "      <th>1</th>\n",
       "      <td>Plasma levels of E-selectin are associated wit...</td>\n",
       "      <td>2023</td>\n",
       "      <td>European Journal of Haematology</td>\n",
       "      <td>Background: The vascular endothelium is marked...</td>\n",
       "      <td>['creatinine', '  endothelial leukocyte adhesi...</td>\n",
       "      <td>0.0</td>\n",
       "      <td>John Wiley and Sons Inc</td>\n",
       "      <td>English</td>\n",
       "      <td>Article</td>\n",
       "      <td>['France', ' Guadeloupe']</td>\n",
       "      <td>[]</td>\n",
       "      <td>['France']</td>\n",
       "      <td>2014 - 2023</td>\n",
       "      <td>2</td>\n",
       "    </tr>\n",
       "    <tr>\n",
       "      <th>2</th>\n",
       "      <td>Routine Ophthalmological Examination Rates in ...</td>\n",
       "      <td>2023</td>\n",
       "      <td>International Journal of Environmental Researc...</td>\n",
       "      <td>The American Academy of Ophthalmology and the ...</td>\n",
       "      <td>['blood', '  cell organelle', '  COVID-19', ' ...</td>\n",
       "      <td>0.0</td>\n",
       "      <td>MDPI</td>\n",
       "      <td>English</td>\n",
       "      <td>Article</td>\n",
       "      <td>['United States']</td>\n",
       "      <td>[Albert Einstein College of Medicine, Yeshiva ...</td>\n",
       "      <td>['United States']</td>\n",
       "      <td>2014 - 2023</td>\n",
       "      <td>1</td>\n",
       "    </tr>\n",
       "    <tr>\n",
       "      <th>3</th>\n",
       "      <td>Progress in and Prospects of Genome Editing To...</td>\n",
       "      <td>2023</td>\n",
       "      <td>Genes</td>\n",
       "      <td>Programmable nucleases, such as zinc finger nu...</td>\n",
       "      <td>['atonal BHLH transcription factor 1', '  beta...</td>\n",
       "      <td>0.0</td>\n",
       "      <td>MDPI</td>\n",
       "      <td>English</td>\n",
       "      <td>Review</td>\n",
       "      <td>['South Korea']</td>\n",
       "      <td>[National Research Foundation]</td>\n",
       "      <td>[]</td>\n",
       "      <td>2014 - 2023</td>\n",
       "      <td>1</td>\n",
       "    </tr>\n",
       "    <tr>\n",
       "      <th>4</th>\n",
       "      <td>Screening for sickle-cell retinopathy</td>\n",
       "      <td>2023</td>\n",
       "      <td>Eye (Basingstoke)</td>\n",
       "      <td>[No abstract available]</td>\n",
       "      <td>['crizanlizumab', '  vasculotropin antibody', ...</td>\n",
       "      <td>0.0</td>\n",
       "      <td>Springer Nature</td>\n",
       "      <td>English</td>\n",
       "      <td>Letter</td>\n",
       "      <td>['United Kingdom']</td>\n",
       "      <td>[]</td>\n",
       "      <td>['United Kingdom']</td>\n",
       "      <td>2014 - 2023</td>\n",
       "      <td>1</td>\n",
       "    </tr>\n",
       "  </tbody>\n",
       "</table>\n",
       "</div>"
      ],
      "text/plain": [
       "                                               Title  Year  \\\n",
       "0  Severe proliferative retinopathy in a patient ...  2023   \n",
       "1  Plasma levels of E-selectin are associated wit...  2023   \n",
       "2  Routine Ophthalmological Examination Rates in ...  2023   \n",
       "3  Progress in and Prospects of Genome Editing To...  2023   \n",
       "4              Screening for sickle-cell retinopathy  2023   \n",
       "\n",
       "                                        Source title  \\\n",
       "0     American Journal of Ophthalmology Case Reports   \n",
       "1                    European Journal of Haematology   \n",
       "2  International Journal of Environmental Researc...   \n",
       "3                                              Genes   \n",
       "4                                  Eye (Basingstoke)   \n",
       "\n",
       "                                            Abstract  \\\n",
       "0                            [No abstract available]   \n",
       "1  Background: The vascular endothelium is marked...   \n",
       "2  The American Academy of Ophthalmology and the ...   \n",
       "3  Programmable nucleases, such as zinc finger nu...   \n",
       "4                            [No abstract available]   \n",
       "\n",
       "                                      Index Keywords  Cited by  \\\n",
       "0  ['adult', '  Article', '  autoimmune hepatitis...       0.0   \n",
       "1  ['creatinine', '  endothelial leukocyte adhesi...       0.0   \n",
       "2  ['blood', '  cell organelle', '  COVID-19', ' ...       0.0   \n",
       "3  ['atonal BHLH transcription factor 1', '  beta...       0.0   \n",
       "4  ['crizanlizumab', '  vasculotropin antibody', ...       0.0   \n",
       "\n",
       "                 Publisher Language of Original Document Document Type  \\\n",
       "0            Elsevier Inc.                       English       Article   \n",
       "1  John Wiley and Sons Inc                       English       Article   \n",
       "2                     MDPI                       English       Article   \n",
       "3                     MDPI                       English        Review   \n",
       "4          Springer Nature                       English        Letter   \n",
       "\n",
       "                   countries  \\\n",
       "0          ['United States']   \n",
       "1  ['France', ' Guadeloupe']   \n",
       "2          ['United States']   \n",
       "3            ['South Korea']   \n",
       "4         ['United Kingdom']   \n",
       "\n",
       "                                    Funding Entities        Main Country  \\\n",
       "0                                                 []   ['United States']   \n",
       "1                                                 []          ['France']   \n",
       "2  [Albert Einstein College of Medicine, Yeshiva ...   ['United States']   \n",
       "3                     [National Research Foundation]                  []   \n",
       "4                                                 []  ['United Kingdom']   \n",
       "\n",
       "        Period  Number of collaborators  \n",
       "0  2014 - 2023                        1  \n",
       "1  2014 - 2023                        2  \n",
       "2  2014 - 2023                        1  \n",
       "3  2014 - 2023                        1  \n",
       "4  2014 - 2023                        1  "
      ]
     },
     "execution_count": 2,
     "metadata": {},
     "output_type": "execute_result"
    }
   ],
   "source": [
    "data = pd.read_csv('../data/interim/data_02.csv', index_col=0)\n",
    "data.head()"
   ]
  },
  {
   "attachments": {},
   "cell_type": "markdown",
   "metadata": {},
   "source": [
    "## Pubilcation count Over the years"
   ]
  },
  {
   "cell_type": "code",
   "execution_count": 24,
   "metadata": {},
   "outputs": [
    {
     "data": {
      "text/html": [
       "<div>\n",
       "<style scoped>\n",
       "    .dataframe tbody tr th:only-of-type {\n",
       "        vertical-align: middle;\n",
       "    }\n",
       "\n",
       "    .dataframe tbody tr th {\n",
       "        vertical-align: top;\n",
       "    }\n",
       "\n",
       "    .dataframe thead th {\n",
       "        text-align: right;\n",
       "    }\n",
       "</style>\n",
       "<table border=\"1\" class=\"dataframe\">\n",
       "  <thead>\n",
       "    <tr style=\"text-align: right;\">\n",
       "      <th></th>\n",
       "      <th>Year</th>\n",
       "      <th>Period</th>\n",
       "      <th>countries</th>\n",
       "      <th>Document Type</th>\n",
       "    </tr>\n",
       "  </thead>\n",
       "  <tbody>\n",
       "    <tr>\n",
       "      <th>0</th>\n",
       "      <td>2023</td>\n",
       "      <td>2014 - 2023</td>\n",
       "      <td>['United States']</td>\n",
       "      <td>Article</td>\n",
       "    </tr>\n",
       "    <tr>\n",
       "      <th>1</th>\n",
       "      <td>2023</td>\n",
       "      <td>2014 - 2023</td>\n",
       "      <td>['France', ' Guadeloupe']</td>\n",
       "      <td>Article</td>\n",
       "    </tr>\n",
       "    <tr>\n",
       "      <th>2</th>\n",
       "      <td>2023</td>\n",
       "      <td>2014 - 2023</td>\n",
       "      <td>['United States']</td>\n",
       "      <td>Article</td>\n",
       "    </tr>\n",
       "    <tr>\n",
       "      <th>3</th>\n",
       "      <td>2023</td>\n",
       "      <td>2014 - 2023</td>\n",
       "      <td>['South Korea']</td>\n",
       "      <td>Review</td>\n",
       "    </tr>\n",
       "    <tr>\n",
       "      <th>4</th>\n",
       "      <td>2023</td>\n",
       "      <td>2014 - 2023</td>\n",
       "      <td>['United Kingdom']</td>\n",
       "      <td>Letter</td>\n",
       "    </tr>\n",
       "  </tbody>\n",
       "</table>\n",
       "</div>"
      ],
      "text/plain": [
       "   Year       Period                  countries Document Type\n",
       "0  2023  2014 - 2023          ['United States']       Article\n",
       "1  2023  2014 - 2023  ['France', ' Guadeloupe']       Article\n",
       "2  2023  2014 - 2023          ['United States']       Article\n",
       "3  2023  2014 - 2023            ['South Korea']        Review\n",
       "4  2023  2014 - 2023         ['United Kingdom']        Letter"
      ]
     },
     "execution_count": 24,
     "metadata": {},
     "output_type": "execute_result"
    }
   ],
   "source": [
    "cols = ['Year','Period','countries','Document Type']\n",
    "pub_count_df = data[cols]\n",
    "pub_count_df.head()"
   ]
  },
  {
   "attachments": {},
   "cell_type": "markdown",
   "metadata": {},
   "source": [
    "# Pubilcations across the years"
   ]
  },
  {
   "cell_type": "code",
   "execution_count": 25,
   "metadata": {},
   "outputs": [
    {
     "data": {
      "text/html": [
       "<div>\n",
       "<style scoped>\n",
       "    .dataframe tbody tr th:only-of-type {\n",
       "        vertical-align: middle;\n",
       "    }\n",
       "\n",
       "    .dataframe tbody tr th {\n",
       "        vertical-align: top;\n",
       "    }\n",
       "\n",
       "    .dataframe thead th {\n",
       "        text-align: right;\n",
       "    }\n",
       "</style>\n",
       "<table border=\"1\" class=\"dataframe\">\n",
       "  <thead>\n",
       "    <tr style=\"text-align: right;\">\n",
       "      <th></th>\n",
       "      <th>Year</th>\n",
       "      <th>Document Type</th>\n",
       "      <th>counts</th>\n",
       "    </tr>\n",
       "  </thead>\n",
       "  <tbody>\n",
       "    <tr>\n",
       "      <th>0</th>\n",
       "      <td>1954</td>\n",
       "      <td>Article</td>\n",
       "      <td>1</td>\n",
       "    </tr>\n",
       "    <tr>\n",
       "      <th>1</th>\n",
       "      <td>1958</td>\n",
       "      <td>Article</td>\n",
       "      <td>1</td>\n",
       "    </tr>\n",
       "    <tr>\n",
       "      <th>2</th>\n",
       "      <td>1960</td>\n",
       "      <td>Article</td>\n",
       "      <td>1</td>\n",
       "    </tr>\n",
       "    <tr>\n",
       "      <th>3</th>\n",
       "      <td>1963</td>\n",
       "      <td>Review</td>\n",
       "      <td>1</td>\n",
       "    </tr>\n",
       "    <tr>\n",
       "      <th>4</th>\n",
       "      <td>1964</td>\n",
       "      <td>Article</td>\n",
       "      <td>1</td>\n",
       "    </tr>\n",
       "  </tbody>\n",
       "</table>\n",
       "</div>"
      ],
      "text/plain": [
       "   Year Document Type  counts\n",
       "0  1954       Article       1\n",
       "1  1958       Article       1\n",
       "2  1960       Article       1\n",
       "3  1963        Review       1\n",
       "4  1964       Article       1"
      ]
     },
     "execution_count": 25,
     "metadata": {},
     "output_type": "execute_result"
    }
   ],
   "source": [
    "year_counts = pub_count_df.groupby(['Year','Document Type'])['Year'].count().reset_index(name='counts')\n",
    "year_counts.head()\n"
   ]
  },
  {
   "cell_type": "code",
   "execution_count": 26,
   "metadata": {},
   "outputs": [
    {
     "data": {
      "application/vnd.plotly.v1+json": {
       "config": {
        "plotlyServerURL": "https://plot.ly"
       },
       "data": [
        {
         "alignmentgroup": "True",
         "hovertemplate": "Document Type=Article<br>Year=%{x}<br>counts=%{y}<extra></extra>",
         "legendgroup": "Article",
         "marker": {
          "color": "#636efa",
          "pattern": {
           "shape": ""
          }
         },
         "name": "Article",
         "offsetgroup": "Article",
         "orientation": "v",
         "showlegend": true,
         "textposition": "auto",
         "type": "bar",
         "x": [
          1954,
          1958,
          1960,
          1964,
          1967,
          1969,
          1970,
          1971,
          1972,
          1973,
          1974,
          1975,
          1976,
          1977,
          1978,
          1979,
          1980,
          1981,
          1982,
          1983,
          1984,
          1985,
          1986,
          1987,
          1988,
          1989,
          1990,
          1991,
          1992,
          1993,
          1994,
          1995,
          1996,
          1997,
          1998,
          1999,
          2000,
          2001,
          2002,
          2003,
          2004,
          2005,
          2006,
          2007,
          2008,
          2009,
          2010,
          2011,
          2012,
          2013,
          2014,
          2015,
          2016,
          2017,
          2018,
          2019,
          2020,
          2021,
          2022,
          2023
         ],
         "xaxis": "x",
         "y": [
          1,
          1,
          1,
          1,
          3,
          2,
          2,
          5,
          7,
          5,
          9,
          13,
          11,
          11,
          6,
          7,
          9,
          10,
          9,
          12,
          6,
          4,
          9,
          17,
          9,
          6,
          12,
          16,
          3,
          6,
          8,
          8,
          6,
          6,
          3,
          4,
          5,
          4,
          3,
          6,
          6,
          8,
          4,
          4,
          11,
          10,
          9,
          11,
          9,
          11,
          11,
          23,
          21,
          23,
          20,
          31,
          26,
          29,
          30,
          11
         ],
         "yaxis": "y"
        },
        {
         "alignmentgroup": "True",
         "hovertemplate": "Document Type=Review<br>Year=%{x}<br>counts=%{y}<extra></extra>",
         "legendgroup": "Review",
         "marker": {
          "color": "#EF553B",
          "pattern": {
           "shape": ""
          }
         },
         "name": "Review",
         "offsetgroup": "Review",
         "orientation": "v",
         "showlegend": true,
         "textposition": "auto",
         "type": "bar",
         "x": [
          1963,
          1972,
          1973,
          1976,
          1977,
          1978,
          1979,
          1980,
          1981,
          1982,
          1987,
          1989,
          1991,
          1992,
          1993,
          1994,
          1995,
          1997,
          1998,
          1999,
          2001,
          2002,
          2003,
          2004,
          2005,
          2006,
          2007,
          2008,
          2009,
          2010,
          2011,
          2012,
          2013,
          2014,
          2015,
          2016,
          2017,
          2018,
          2019,
          2020,
          2021,
          2022,
          2023
         ],
         "xaxis": "x",
         "y": [
          1,
          1,
          1,
          2,
          2,
          1,
          1,
          1,
          2,
          1,
          2,
          1,
          1,
          1,
          2,
          2,
          2,
          2,
          2,
          2,
          2,
          1,
          1,
          3,
          2,
          4,
          3,
          4,
          4,
          4,
          4,
          4,
          3,
          8,
          2,
          6,
          8,
          4,
          7,
          3,
          11,
          5,
          2
         ],
         "yaxis": "y"
        },
        {
         "alignmentgroup": "True",
         "hovertemplate": "Document Type=Letter<br>Year=%{x}<br>counts=%{y}<extra></extra>",
         "legendgroup": "Letter",
         "marker": {
          "color": "#00cc96",
          "pattern": {
           "shape": ""
          }
         },
         "name": "Letter",
         "offsetgroup": "Letter",
         "orientation": "v",
         "showlegend": true,
         "textposition": "auto",
         "type": "bar",
         "x": [
          1978,
          1981,
          1987,
          1988,
          1992,
          1994,
          1997,
          2002,
          2006,
          2011,
          2012,
          2014,
          2015,
          2017,
          2018,
          2019,
          2020,
          2021,
          2022,
          2023
         ],
         "xaxis": "x",
         "y": [
          1,
          1,
          2,
          1,
          1,
          1,
          1,
          1,
          2,
          1,
          1,
          2,
          2,
          2,
          6,
          5,
          2,
          3,
          3,
          1
         ],
         "yaxis": "y"
        },
        {
         "alignmentgroup": "True",
         "hovertemplate": "Document Type=Editorial<br>Year=%{x}<br>counts=%{y}<extra></extra>",
         "legendgroup": "Editorial",
         "marker": {
          "color": "#ab63fa",
          "pattern": {
           "shape": ""
          }
         },
         "name": "Editorial",
         "offsetgroup": "Editorial",
         "orientation": "v",
         "showlegend": true,
         "textposition": "auto",
         "type": "bar",
         "x": [
          1994,
          2001,
          2008,
          2015,
          2022
         ],
         "xaxis": "x",
         "y": [
          1,
          1,
          1,
          1,
          1
         ],
         "yaxis": "y"
        },
        {
         "alignmentgroup": "True",
         "hovertemplate": "Document Type=Note<br>Year=%{x}<br>counts=%{y}<extra></extra>",
         "legendgroup": "Note",
         "marker": {
          "color": "#FFA15A",
          "pattern": {
           "shape": ""
          }
         },
         "name": "Note",
         "offsetgroup": "Note",
         "orientation": "v",
         "showlegend": true,
         "textposition": "auto",
         "type": "bar",
         "x": [
          1997,
          2003,
          2005,
          2006,
          2010,
          2014,
          2016,
          2017,
          2018,
          2020,
          2021,
          2022,
          2023
         ],
         "xaxis": "x",
         "y": [
          1,
          1,
          1,
          1,
          1,
          1,
          1,
          1,
          1,
          3,
          4,
          2,
          1
         ],
         "yaxis": "y"
        },
        {
         "alignmentgroup": "True",
         "hovertemplate": "Document Type=Conference Paper<br>Year=%{x}<br>counts=%{y}<extra></extra>",
         "legendgroup": "Conference Paper",
         "marker": {
          "color": "#19d3f3",
          "pattern": {
           "shape": ""
          }
         },
         "name": "Conference Paper",
         "offsetgroup": "Conference Paper",
         "orientation": "v",
         "showlegend": true,
         "textposition": "auto",
         "type": "bar",
         "x": [
          2001,
          2005,
          2008,
          2015,
          2016,
          2019,
          2020,
          2021
         ],
         "xaxis": "x",
         "y": [
          1,
          3,
          1,
          1,
          2,
          1,
          1,
          2
         ],
         "yaxis": "y"
        },
        {
         "alignmentgroup": "True",
         "hovertemplate": "Document Type=Book Chapter<br>Year=%{x}<br>counts=%{y}<extra></extra>",
         "legendgroup": "Book Chapter",
         "marker": {
          "color": "#FF6692",
          "pattern": {
           "shape": ""
          }
         },
         "name": "Book Chapter",
         "offsetgroup": "Book Chapter",
         "orientation": "v",
         "showlegend": true,
         "textposition": "auto",
         "type": "bar",
         "x": [
          2007,
          2009,
          2010,
          2012,
          2014,
          2016,
          2019,
          2022
         ],
         "xaxis": "x",
         "y": [
          3,
          1,
          2,
          1,
          1,
          3,
          2,
          3
         ],
         "yaxis": "y"
        },
        {
         "alignmentgroup": "True",
         "hovertemplate": "Document Type=Short Survey<br>Year=%{x}<br>counts=%{y}<extra></extra>",
         "legendgroup": "Short Survey",
         "marker": {
          "color": "#B6E880",
          "pattern": {
           "shape": ""
          }
         },
         "name": "Short Survey",
         "offsetgroup": "Short Survey",
         "orientation": "v",
         "showlegend": true,
         "textposition": "auto",
         "type": "bar",
         "x": [
          2010,
          2021
         ],
         "xaxis": "x",
         "y": [
          1,
          1
         ],
         "yaxis": "y"
        },
        {
         "alignmentgroup": "True",
         "hovertemplate": "Document Type=Book<br>Year=%{x}<br>counts=%{y}<extra></extra>",
         "legendgroup": "Book",
         "marker": {
          "color": "#FF97FF",
          "pattern": {
           "shape": ""
          }
         },
         "name": "Book",
         "offsetgroup": "Book",
         "orientation": "v",
         "showlegend": true,
         "textposition": "auto",
         "type": "bar",
         "x": [
          2017
         ],
         "xaxis": "x",
         "y": [
          1
         ],
         "yaxis": "y"
        },
        {
         "alignmentgroup": "True",
         "hovertemplate": "Document Type=Erratum<br>Year=%{x}<br>counts=%{y}<extra></extra>",
         "legendgroup": "Erratum",
         "marker": {
          "color": "#FECB52",
          "pattern": {
           "shape": ""
          }
         },
         "name": "Erratum",
         "offsetgroup": "Erratum",
         "orientation": "v",
         "showlegend": true,
         "textposition": "auto",
         "type": "bar",
         "x": [
          2019,
          2022
         ],
         "xaxis": "x",
         "y": [
          1,
          1
         ],
         "yaxis": "y"
        },
        {
         "alignmentgroup": "True",
         "hovertemplate": "Document Type=Data Paper<br>Year=%{x}<br>counts=%{y}<extra></extra>",
         "legendgroup": "Data Paper",
         "marker": {
          "color": "#636efa",
          "pattern": {
           "shape": ""
          }
         },
         "name": "Data Paper",
         "offsetgroup": "Data Paper",
         "orientation": "v",
         "showlegend": true,
         "textposition": "auto",
         "type": "bar",
         "x": [
          2020
         ],
         "xaxis": "x",
         "y": [
          1
         ],
         "yaxis": "y"
        }
       ],
       "layout": {
        "barmode": "relative",
        "legend": {
         "title": {
          "text": "Document Type"
         },
         "tracegroupgap": 0
        },
        "template": {
         "data": {
          "bar": [
           {
            "error_x": {
             "color": "#2a3f5f"
            },
            "error_y": {
             "color": "#2a3f5f"
            },
            "marker": {
             "line": {
              "color": "#E5ECF6",
              "width": 0.5
             },
             "pattern": {
              "fillmode": "overlay",
              "size": 10,
              "solidity": 0.2
             }
            },
            "type": "bar"
           }
          ],
          "barpolar": [
           {
            "marker": {
             "line": {
              "color": "#E5ECF6",
              "width": 0.5
             },
             "pattern": {
              "fillmode": "overlay",
              "size": 10,
              "solidity": 0.2
             }
            },
            "type": "barpolar"
           }
          ],
          "carpet": [
           {
            "aaxis": {
             "endlinecolor": "#2a3f5f",
             "gridcolor": "white",
             "linecolor": "white",
             "minorgridcolor": "white",
             "startlinecolor": "#2a3f5f"
            },
            "baxis": {
             "endlinecolor": "#2a3f5f",
             "gridcolor": "white",
             "linecolor": "white",
             "minorgridcolor": "white",
             "startlinecolor": "#2a3f5f"
            },
            "type": "carpet"
           }
          ],
          "choropleth": [
           {
            "colorbar": {
             "outlinewidth": 0,
             "ticks": ""
            },
            "type": "choropleth"
           }
          ],
          "contour": [
           {
            "colorbar": {
             "outlinewidth": 0,
             "ticks": ""
            },
            "colorscale": [
             [
              0,
              "#0d0887"
             ],
             [
              0.1111111111111111,
              "#46039f"
             ],
             [
              0.2222222222222222,
              "#7201a8"
             ],
             [
              0.3333333333333333,
              "#9c179e"
             ],
             [
              0.4444444444444444,
              "#bd3786"
             ],
             [
              0.5555555555555556,
              "#d8576b"
             ],
             [
              0.6666666666666666,
              "#ed7953"
             ],
             [
              0.7777777777777778,
              "#fb9f3a"
             ],
             [
              0.8888888888888888,
              "#fdca26"
             ],
             [
              1,
              "#f0f921"
             ]
            ],
            "type": "contour"
           }
          ],
          "contourcarpet": [
           {
            "colorbar": {
             "outlinewidth": 0,
             "ticks": ""
            },
            "type": "contourcarpet"
           }
          ],
          "heatmap": [
           {
            "colorbar": {
             "outlinewidth": 0,
             "ticks": ""
            },
            "colorscale": [
             [
              0,
              "#0d0887"
             ],
             [
              0.1111111111111111,
              "#46039f"
             ],
             [
              0.2222222222222222,
              "#7201a8"
             ],
             [
              0.3333333333333333,
              "#9c179e"
             ],
             [
              0.4444444444444444,
              "#bd3786"
             ],
             [
              0.5555555555555556,
              "#d8576b"
             ],
             [
              0.6666666666666666,
              "#ed7953"
             ],
             [
              0.7777777777777778,
              "#fb9f3a"
             ],
             [
              0.8888888888888888,
              "#fdca26"
             ],
             [
              1,
              "#f0f921"
             ]
            ],
            "type": "heatmap"
           }
          ],
          "heatmapgl": [
           {
            "colorbar": {
             "outlinewidth": 0,
             "ticks": ""
            },
            "colorscale": [
             [
              0,
              "#0d0887"
             ],
             [
              0.1111111111111111,
              "#46039f"
             ],
             [
              0.2222222222222222,
              "#7201a8"
             ],
             [
              0.3333333333333333,
              "#9c179e"
             ],
             [
              0.4444444444444444,
              "#bd3786"
             ],
             [
              0.5555555555555556,
              "#d8576b"
             ],
             [
              0.6666666666666666,
              "#ed7953"
             ],
             [
              0.7777777777777778,
              "#fb9f3a"
             ],
             [
              0.8888888888888888,
              "#fdca26"
             ],
             [
              1,
              "#f0f921"
             ]
            ],
            "type": "heatmapgl"
           }
          ],
          "histogram": [
           {
            "marker": {
             "pattern": {
              "fillmode": "overlay",
              "size": 10,
              "solidity": 0.2
             }
            },
            "type": "histogram"
           }
          ],
          "histogram2d": [
           {
            "colorbar": {
             "outlinewidth": 0,
             "ticks": ""
            },
            "colorscale": [
             [
              0,
              "#0d0887"
             ],
             [
              0.1111111111111111,
              "#46039f"
             ],
             [
              0.2222222222222222,
              "#7201a8"
             ],
             [
              0.3333333333333333,
              "#9c179e"
             ],
             [
              0.4444444444444444,
              "#bd3786"
             ],
             [
              0.5555555555555556,
              "#d8576b"
             ],
             [
              0.6666666666666666,
              "#ed7953"
             ],
             [
              0.7777777777777778,
              "#fb9f3a"
             ],
             [
              0.8888888888888888,
              "#fdca26"
             ],
             [
              1,
              "#f0f921"
             ]
            ],
            "type": "histogram2d"
           }
          ],
          "histogram2dcontour": [
           {
            "colorbar": {
             "outlinewidth": 0,
             "ticks": ""
            },
            "colorscale": [
             [
              0,
              "#0d0887"
             ],
             [
              0.1111111111111111,
              "#46039f"
             ],
             [
              0.2222222222222222,
              "#7201a8"
             ],
             [
              0.3333333333333333,
              "#9c179e"
             ],
             [
              0.4444444444444444,
              "#bd3786"
             ],
             [
              0.5555555555555556,
              "#d8576b"
             ],
             [
              0.6666666666666666,
              "#ed7953"
             ],
             [
              0.7777777777777778,
              "#fb9f3a"
             ],
             [
              0.8888888888888888,
              "#fdca26"
             ],
             [
              1,
              "#f0f921"
             ]
            ],
            "type": "histogram2dcontour"
           }
          ],
          "mesh3d": [
           {
            "colorbar": {
             "outlinewidth": 0,
             "ticks": ""
            },
            "type": "mesh3d"
           }
          ],
          "parcoords": [
           {
            "line": {
             "colorbar": {
              "outlinewidth": 0,
              "ticks": ""
             }
            },
            "type": "parcoords"
           }
          ],
          "pie": [
           {
            "automargin": true,
            "type": "pie"
           }
          ],
          "scatter": [
           {
            "fillpattern": {
             "fillmode": "overlay",
             "size": 10,
             "solidity": 0.2
            },
            "type": "scatter"
           }
          ],
          "scatter3d": [
           {
            "line": {
             "colorbar": {
              "outlinewidth": 0,
              "ticks": ""
             }
            },
            "marker": {
             "colorbar": {
              "outlinewidth": 0,
              "ticks": ""
             }
            },
            "type": "scatter3d"
           }
          ],
          "scattercarpet": [
           {
            "marker": {
             "colorbar": {
              "outlinewidth": 0,
              "ticks": ""
             }
            },
            "type": "scattercarpet"
           }
          ],
          "scattergeo": [
           {
            "marker": {
             "colorbar": {
              "outlinewidth": 0,
              "ticks": ""
             }
            },
            "type": "scattergeo"
           }
          ],
          "scattergl": [
           {
            "marker": {
             "colorbar": {
              "outlinewidth": 0,
              "ticks": ""
             }
            },
            "type": "scattergl"
           }
          ],
          "scattermapbox": [
           {
            "marker": {
             "colorbar": {
              "outlinewidth": 0,
              "ticks": ""
             }
            },
            "type": "scattermapbox"
           }
          ],
          "scatterpolar": [
           {
            "marker": {
             "colorbar": {
              "outlinewidth": 0,
              "ticks": ""
             }
            },
            "type": "scatterpolar"
           }
          ],
          "scatterpolargl": [
           {
            "marker": {
             "colorbar": {
              "outlinewidth": 0,
              "ticks": ""
             }
            },
            "type": "scatterpolargl"
           }
          ],
          "scatterternary": [
           {
            "marker": {
             "colorbar": {
              "outlinewidth": 0,
              "ticks": ""
             }
            },
            "type": "scatterternary"
           }
          ],
          "surface": [
           {
            "colorbar": {
             "outlinewidth": 0,
             "ticks": ""
            },
            "colorscale": [
             [
              0,
              "#0d0887"
             ],
             [
              0.1111111111111111,
              "#46039f"
             ],
             [
              0.2222222222222222,
              "#7201a8"
             ],
             [
              0.3333333333333333,
              "#9c179e"
             ],
             [
              0.4444444444444444,
              "#bd3786"
             ],
             [
              0.5555555555555556,
              "#d8576b"
             ],
             [
              0.6666666666666666,
              "#ed7953"
             ],
             [
              0.7777777777777778,
              "#fb9f3a"
             ],
             [
              0.8888888888888888,
              "#fdca26"
             ],
             [
              1,
              "#f0f921"
             ]
            ],
            "type": "surface"
           }
          ],
          "table": [
           {
            "cells": {
             "fill": {
              "color": "#EBF0F8"
             },
             "line": {
              "color": "white"
             }
            },
            "header": {
             "fill": {
              "color": "#C8D4E3"
             },
             "line": {
              "color": "white"
             }
            },
            "type": "table"
           }
          ]
         },
         "layout": {
          "annotationdefaults": {
           "arrowcolor": "#2a3f5f",
           "arrowhead": 0,
           "arrowwidth": 1
          },
          "autotypenumbers": "strict",
          "coloraxis": {
           "colorbar": {
            "outlinewidth": 0,
            "ticks": ""
           }
          },
          "colorscale": {
           "diverging": [
            [
             0,
             "#8e0152"
            ],
            [
             0.1,
             "#c51b7d"
            ],
            [
             0.2,
             "#de77ae"
            ],
            [
             0.3,
             "#f1b6da"
            ],
            [
             0.4,
             "#fde0ef"
            ],
            [
             0.5,
             "#f7f7f7"
            ],
            [
             0.6,
             "#e6f5d0"
            ],
            [
             0.7,
             "#b8e186"
            ],
            [
             0.8,
             "#7fbc41"
            ],
            [
             0.9,
             "#4d9221"
            ],
            [
             1,
             "#276419"
            ]
           ],
           "sequential": [
            [
             0,
             "#0d0887"
            ],
            [
             0.1111111111111111,
             "#46039f"
            ],
            [
             0.2222222222222222,
             "#7201a8"
            ],
            [
             0.3333333333333333,
             "#9c179e"
            ],
            [
             0.4444444444444444,
             "#bd3786"
            ],
            [
             0.5555555555555556,
             "#d8576b"
            ],
            [
             0.6666666666666666,
             "#ed7953"
            ],
            [
             0.7777777777777778,
             "#fb9f3a"
            ],
            [
             0.8888888888888888,
             "#fdca26"
            ],
            [
             1,
             "#f0f921"
            ]
           ],
           "sequentialminus": [
            [
             0,
             "#0d0887"
            ],
            [
             0.1111111111111111,
             "#46039f"
            ],
            [
             0.2222222222222222,
             "#7201a8"
            ],
            [
             0.3333333333333333,
             "#9c179e"
            ],
            [
             0.4444444444444444,
             "#bd3786"
            ],
            [
             0.5555555555555556,
             "#d8576b"
            ],
            [
             0.6666666666666666,
             "#ed7953"
            ],
            [
             0.7777777777777778,
             "#fb9f3a"
            ],
            [
             0.8888888888888888,
             "#fdca26"
            ],
            [
             1,
             "#f0f921"
            ]
           ]
          },
          "colorway": [
           "#636efa",
           "#EF553B",
           "#00cc96",
           "#ab63fa",
           "#FFA15A",
           "#19d3f3",
           "#FF6692",
           "#B6E880",
           "#FF97FF",
           "#FECB52"
          ],
          "font": {
           "color": "#2a3f5f"
          },
          "geo": {
           "bgcolor": "white",
           "lakecolor": "white",
           "landcolor": "#E5ECF6",
           "showlakes": true,
           "showland": true,
           "subunitcolor": "white"
          },
          "hoverlabel": {
           "align": "left"
          },
          "hovermode": "closest",
          "mapbox": {
           "style": "light"
          },
          "paper_bgcolor": "white",
          "plot_bgcolor": "#E5ECF6",
          "polar": {
           "angularaxis": {
            "gridcolor": "white",
            "linecolor": "white",
            "ticks": ""
           },
           "bgcolor": "#E5ECF6",
           "radialaxis": {
            "gridcolor": "white",
            "linecolor": "white",
            "ticks": ""
           }
          },
          "scene": {
           "xaxis": {
            "backgroundcolor": "#E5ECF6",
            "gridcolor": "white",
            "gridwidth": 2,
            "linecolor": "white",
            "showbackground": true,
            "ticks": "",
            "zerolinecolor": "white"
           },
           "yaxis": {
            "backgroundcolor": "#E5ECF6",
            "gridcolor": "white",
            "gridwidth": 2,
            "linecolor": "white",
            "showbackground": true,
            "ticks": "",
            "zerolinecolor": "white"
           },
           "zaxis": {
            "backgroundcolor": "#E5ECF6",
            "gridcolor": "white",
            "gridwidth": 2,
            "linecolor": "white",
            "showbackground": true,
            "ticks": "",
            "zerolinecolor": "white"
           }
          },
          "shapedefaults": {
           "line": {
            "color": "#2a3f5f"
           }
          },
          "ternary": {
           "aaxis": {
            "gridcolor": "white",
            "linecolor": "white",
            "ticks": ""
           },
           "baxis": {
            "gridcolor": "white",
            "linecolor": "white",
            "ticks": ""
           },
           "bgcolor": "#E5ECF6",
           "caxis": {
            "gridcolor": "white",
            "linecolor": "white",
            "ticks": ""
           }
          },
          "title": {
           "x": 0.05
          },
          "xaxis": {
           "automargin": true,
           "gridcolor": "white",
           "linecolor": "white",
           "ticks": "",
           "title": {
            "standoff": 15
           },
           "zerolinecolor": "white",
           "zerolinewidth": 2
          },
          "yaxis": {
           "automargin": true,
           "gridcolor": "white",
           "linecolor": "white",
           "ticks": "",
           "title": {
            "standoff": 15
           },
           "zerolinecolor": "white",
           "zerolinewidth": 2
          }
         }
        },
        "title": {
         "text": "Number of publications over the years"
        },
        "xaxis": {
         "anchor": "y",
         "domain": [
          0,
          1
         ],
         "title": {
          "text": "Year"
         }
        },
        "yaxis": {
         "anchor": "x",
         "domain": [
          0,
          1
         ],
         "title": {
          "text": "counts"
         }
        }
       }
      }
     },
     "metadata": {},
     "output_type": "display_data"
    }
   ],
   "source": [
    "x= year_counts['Year']\n",
    "y= year_counts['counts']\n",
    "stack = year_counts['Document Type']\n",
    "fig = px.bar(data_frame= year_counts, x= 'Year', y='counts', color='Document Type', title='Number of publications over the years')\n",
    "fig.show()"
   ]
  },
  {
   "attachments": {},
   "cell_type": "markdown",
   "metadata": {},
   "source": [
    "# Publications counts over ten year periods"
   ]
  },
  {
   "cell_type": "code",
   "execution_count": 27,
   "metadata": {},
   "outputs": [
    {
     "data": {
      "application/vnd.plotly.v1+json": {
       "config": {
        "plotlyServerURL": "https://plot.ly"
       },
       "data": [
        {
         "alignmentgroup": "True",
         "hovertemplate": "Document Type=Article<br>Period=%{x}<br>counts=%{y}<extra></extra>",
         "legendgroup": "Article",
         "marker": {
          "color": "#636efa",
          "pattern": {
           "shape": ""
          }
         },
         "name": "Article",
         "offsetgroup": "Article",
         "orientation": "v",
         "showlegend": true,
         "textposition": "auto",
         "type": "bar",
         "x": [
          "1954 - 1963",
          "1964 - 1973",
          "1974 - 1983",
          "1984 - 1993",
          "1994 - 2003",
          "2004 - 2013",
          "2014 - 2023"
         ],
         "xaxis": "x",
         "y": [
          3,
          25,
          97,
          88,
          53,
          83,
          225
         ],
         "yaxis": "y"
        },
        {
         "alignmentgroup": "True",
         "hovertemplate": "Document Type=Review<br>Period=%{x}<br>counts=%{y}<extra></extra>",
         "legendgroup": "Review",
         "marker": {
          "color": "#EF553B",
          "pattern": {
           "shape": ""
          }
         },
         "name": "Review",
         "offsetgroup": "Review",
         "orientation": "v",
         "showlegend": true,
         "textposition": "auto",
         "type": "bar",
         "x": [
          "1954 - 1963",
          "1964 - 1973",
          "1974 - 1983",
          "1984 - 1993",
          "1994 - 2003",
          "2004 - 2013",
          "2014 - 2023"
         ],
         "xaxis": "x",
         "y": [
          1,
          2,
          10,
          7,
          14,
          35,
          56
         ],
         "yaxis": "y"
        },
        {
         "alignmentgroup": "True",
         "hovertemplate": "Document Type=Letter<br>Period=%{x}<br>counts=%{y}<extra></extra>",
         "legendgroup": "Letter",
         "marker": {
          "color": "#00cc96",
          "pattern": {
           "shape": ""
          }
         },
         "name": "Letter",
         "offsetgroup": "Letter",
         "orientation": "v",
         "showlegend": true,
         "textposition": "auto",
         "type": "bar",
         "x": [
          "1974 - 1983",
          "1984 - 1993",
          "1994 - 2003",
          "2004 - 2013",
          "2014 - 2023"
         ],
         "xaxis": "x",
         "y": [
          2,
          4,
          3,
          4,
          26
         ],
         "yaxis": "y"
        },
        {
         "alignmentgroup": "True",
         "hovertemplate": "Document Type=Conference Paper<br>Period=%{x}<br>counts=%{y}<extra></extra>",
         "legendgroup": "Conference Paper",
         "marker": {
          "color": "#ab63fa",
          "pattern": {
           "shape": ""
          }
         },
         "name": "Conference Paper",
         "offsetgroup": "Conference Paper",
         "orientation": "v",
         "showlegend": true,
         "textposition": "auto",
         "type": "bar",
         "x": [
          "1994 - 2003",
          "2004 - 2013",
          "2014 - 2023"
         ],
         "xaxis": "x",
         "y": [
          1,
          4,
          7
         ],
         "yaxis": "y"
        },
        {
         "alignmentgroup": "True",
         "hovertemplate": "Document Type=Editorial<br>Period=%{x}<br>counts=%{y}<extra></extra>",
         "legendgroup": "Editorial",
         "marker": {
          "color": "#FFA15A",
          "pattern": {
           "shape": ""
          }
         },
         "name": "Editorial",
         "offsetgroup": "Editorial",
         "orientation": "v",
         "showlegend": true,
         "textposition": "auto",
         "type": "bar",
         "x": [
          "1994 - 2003",
          "2004 - 2013",
          "2014 - 2023"
         ],
         "xaxis": "x",
         "y": [
          2,
          1,
          2
         ],
         "yaxis": "y"
        },
        {
         "alignmentgroup": "True",
         "hovertemplate": "Document Type=Note<br>Period=%{x}<br>counts=%{y}<extra></extra>",
         "legendgroup": "Note",
         "marker": {
          "color": "#19d3f3",
          "pattern": {
           "shape": ""
          }
         },
         "name": "Note",
         "offsetgroup": "Note",
         "orientation": "v",
         "showlegend": true,
         "textposition": "auto",
         "type": "bar",
         "x": [
          "1994 - 2003",
          "2004 - 2013",
          "2014 - 2023"
         ],
         "xaxis": "x",
         "y": [
          2,
          3,
          14
         ],
         "yaxis": "y"
        },
        {
         "alignmentgroup": "True",
         "hovertemplate": "Document Type=Book Chapter<br>Period=%{x}<br>counts=%{y}<extra></extra>",
         "legendgroup": "Book Chapter",
         "marker": {
          "color": "#FF6692",
          "pattern": {
           "shape": ""
          }
         },
         "name": "Book Chapter",
         "offsetgroup": "Book Chapter",
         "orientation": "v",
         "showlegend": true,
         "textposition": "auto",
         "type": "bar",
         "x": [
          "2004 - 2013",
          "2014 - 2023"
         ],
         "xaxis": "x",
         "y": [
          7,
          9
         ],
         "yaxis": "y"
        },
        {
         "alignmentgroup": "True",
         "hovertemplate": "Document Type=Short Survey<br>Period=%{x}<br>counts=%{y}<extra></extra>",
         "legendgroup": "Short Survey",
         "marker": {
          "color": "#B6E880",
          "pattern": {
           "shape": ""
          }
         },
         "name": "Short Survey",
         "offsetgroup": "Short Survey",
         "orientation": "v",
         "showlegend": true,
         "textposition": "auto",
         "type": "bar",
         "x": [
          "2004 - 2013",
          "2014 - 2023"
         ],
         "xaxis": "x",
         "y": [
          1,
          1
         ],
         "yaxis": "y"
        },
        {
         "alignmentgroup": "True",
         "hovertemplate": "Document Type=Book<br>Period=%{x}<br>counts=%{y}<extra></extra>",
         "legendgroup": "Book",
         "marker": {
          "color": "#FF97FF",
          "pattern": {
           "shape": ""
          }
         },
         "name": "Book",
         "offsetgroup": "Book",
         "orientation": "v",
         "showlegend": true,
         "textposition": "auto",
         "type": "bar",
         "x": [
          "2014 - 2023"
         ],
         "xaxis": "x",
         "y": [
          1
         ],
         "yaxis": "y"
        },
        {
         "alignmentgroup": "True",
         "hovertemplate": "Document Type=Data Paper<br>Period=%{x}<br>counts=%{y}<extra></extra>",
         "legendgroup": "Data Paper",
         "marker": {
          "color": "#FECB52",
          "pattern": {
           "shape": ""
          }
         },
         "name": "Data Paper",
         "offsetgroup": "Data Paper",
         "orientation": "v",
         "showlegend": true,
         "textposition": "auto",
         "type": "bar",
         "x": [
          "2014 - 2023"
         ],
         "xaxis": "x",
         "y": [
          1
         ],
         "yaxis": "y"
        },
        {
         "alignmentgroup": "True",
         "hovertemplate": "Document Type=Erratum<br>Period=%{x}<br>counts=%{y}<extra></extra>",
         "legendgroup": "Erratum",
         "marker": {
          "color": "#636efa",
          "pattern": {
           "shape": ""
          }
         },
         "name": "Erratum",
         "offsetgroup": "Erratum",
         "orientation": "v",
         "showlegend": true,
         "textposition": "auto",
         "type": "bar",
         "x": [
          "2014 - 2023"
         ],
         "xaxis": "x",
         "y": [
          2
         ],
         "yaxis": "y"
        }
       ],
       "layout": {
        "barmode": "relative",
        "legend": {
         "title": {
          "text": "Document Type"
         },
         "tracegroupgap": 0
        },
        "template": {
         "data": {
          "bar": [
           {
            "error_x": {
             "color": "#2a3f5f"
            },
            "error_y": {
             "color": "#2a3f5f"
            },
            "marker": {
             "line": {
              "color": "#E5ECF6",
              "width": 0.5
             },
             "pattern": {
              "fillmode": "overlay",
              "size": 10,
              "solidity": 0.2
             }
            },
            "type": "bar"
           }
          ],
          "barpolar": [
           {
            "marker": {
             "line": {
              "color": "#E5ECF6",
              "width": 0.5
             },
             "pattern": {
              "fillmode": "overlay",
              "size": 10,
              "solidity": 0.2
             }
            },
            "type": "barpolar"
           }
          ],
          "carpet": [
           {
            "aaxis": {
             "endlinecolor": "#2a3f5f",
             "gridcolor": "white",
             "linecolor": "white",
             "minorgridcolor": "white",
             "startlinecolor": "#2a3f5f"
            },
            "baxis": {
             "endlinecolor": "#2a3f5f",
             "gridcolor": "white",
             "linecolor": "white",
             "minorgridcolor": "white",
             "startlinecolor": "#2a3f5f"
            },
            "type": "carpet"
           }
          ],
          "choropleth": [
           {
            "colorbar": {
             "outlinewidth": 0,
             "ticks": ""
            },
            "type": "choropleth"
           }
          ],
          "contour": [
           {
            "colorbar": {
             "outlinewidth": 0,
             "ticks": ""
            },
            "colorscale": [
             [
              0,
              "#0d0887"
             ],
             [
              0.1111111111111111,
              "#46039f"
             ],
             [
              0.2222222222222222,
              "#7201a8"
             ],
             [
              0.3333333333333333,
              "#9c179e"
             ],
             [
              0.4444444444444444,
              "#bd3786"
             ],
             [
              0.5555555555555556,
              "#d8576b"
             ],
             [
              0.6666666666666666,
              "#ed7953"
             ],
             [
              0.7777777777777778,
              "#fb9f3a"
             ],
             [
              0.8888888888888888,
              "#fdca26"
             ],
             [
              1,
              "#f0f921"
             ]
            ],
            "type": "contour"
           }
          ],
          "contourcarpet": [
           {
            "colorbar": {
             "outlinewidth": 0,
             "ticks": ""
            },
            "type": "contourcarpet"
           }
          ],
          "heatmap": [
           {
            "colorbar": {
             "outlinewidth": 0,
             "ticks": ""
            },
            "colorscale": [
             [
              0,
              "#0d0887"
             ],
             [
              0.1111111111111111,
              "#46039f"
             ],
             [
              0.2222222222222222,
              "#7201a8"
             ],
             [
              0.3333333333333333,
              "#9c179e"
             ],
             [
              0.4444444444444444,
              "#bd3786"
             ],
             [
              0.5555555555555556,
              "#d8576b"
             ],
             [
              0.6666666666666666,
              "#ed7953"
             ],
             [
              0.7777777777777778,
              "#fb9f3a"
             ],
             [
              0.8888888888888888,
              "#fdca26"
             ],
             [
              1,
              "#f0f921"
             ]
            ],
            "type": "heatmap"
           }
          ],
          "heatmapgl": [
           {
            "colorbar": {
             "outlinewidth": 0,
             "ticks": ""
            },
            "colorscale": [
             [
              0,
              "#0d0887"
             ],
             [
              0.1111111111111111,
              "#46039f"
             ],
             [
              0.2222222222222222,
              "#7201a8"
             ],
             [
              0.3333333333333333,
              "#9c179e"
             ],
             [
              0.4444444444444444,
              "#bd3786"
             ],
             [
              0.5555555555555556,
              "#d8576b"
             ],
             [
              0.6666666666666666,
              "#ed7953"
             ],
             [
              0.7777777777777778,
              "#fb9f3a"
             ],
             [
              0.8888888888888888,
              "#fdca26"
             ],
             [
              1,
              "#f0f921"
             ]
            ],
            "type": "heatmapgl"
           }
          ],
          "histogram": [
           {
            "marker": {
             "pattern": {
              "fillmode": "overlay",
              "size": 10,
              "solidity": 0.2
             }
            },
            "type": "histogram"
           }
          ],
          "histogram2d": [
           {
            "colorbar": {
             "outlinewidth": 0,
             "ticks": ""
            },
            "colorscale": [
             [
              0,
              "#0d0887"
             ],
             [
              0.1111111111111111,
              "#46039f"
             ],
             [
              0.2222222222222222,
              "#7201a8"
             ],
             [
              0.3333333333333333,
              "#9c179e"
             ],
             [
              0.4444444444444444,
              "#bd3786"
             ],
             [
              0.5555555555555556,
              "#d8576b"
             ],
             [
              0.6666666666666666,
              "#ed7953"
             ],
             [
              0.7777777777777778,
              "#fb9f3a"
             ],
             [
              0.8888888888888888,
              "#fdca26"
             ],
             [
              1,
              "#f0f921"
             ]
            ],
            "type": "histogram2d"
           }
          ],
          "histogram2dcontour": [
           {
            "colorbar": {
             "outlinewidth": 0,
             "ticks": ""
            },
            "colorscale": [
             [
              0,
              "#0d0887"
             ],
             [
              0.1111111111111111,
              "#46039f"
             ],
             [
              0.2222222222222222,
              "#7201a8"
             ],
             [
              0.3333333333333333,
              "#9c179e"
             ],
             [
              0.4444444444444444,
              "#bd3786"
             ],
             [
              0.5555555555555556,
              "#d8576b"
             ],
             [
              0.6666666666666666,
              "#ed7953"
             ],
             [
              0.7777777777777778,
              "#fb9f3a"
             ],
             [
              0.8888888888888888,
              "#fdca26"
             ],
             [
              1,
              "#f0f921"
             ]
            ],
            "type": "histogram2dcontour"
           }
          ],
          "mesh3d": [
           {
            "colorbar": {
             "outlinewidth": 0,
             "ticks": ""
            },
            "type": "mesh3d"
           }
          ],
          "parcoords": [
           {
            "line": {
             "colorbar": {
              "outlinewidth": 0,
              "ticks": ""
             }
            },
            "type": "parcoords"
           }
          ],
          "pie": [
           {
            "automargin": true,
            "type": "pie"
           }
          ],
          "scatter": [
           {
            "fillpattern": {
             "fillmode": "overlay",
             "size": 10,
             "solidity": 0.2
            },
            "type": "scatter"
           }
          ],
          "scatter3d": [
           {
            "line": {
             "colorbar": {
              "outlinewidth": 0,
              "ticks": ""
             }
            },
            "marker": {
             "colorbar": {
              "outlinewidth": 0,
              "ticks": ""
             }
            },
            "type": "scatter3d"
           }
          ],
          "scattercarpet": [
           {
            "marker": {
             "colorbar": {
              "outlinewidth": 0,
              "ticks": ""
             }
            },
            "type": "scattercarpet"
           }
          ],
          "scattergeo": [
           {
            "marker": {
             "colorbar": {
              "outlinewidth": 0,
              "ticks": ""
             }
            },
            "type": "scattergeo"
           }
          ],
          "scattergl": [
           {
            "marker": {
             "colorbar": {
              "outlinewidth": 0,
              "ticks": ""
             }
            },
            "type": "scattergl"
           }
          ],
          "scattermapbox": [
           {
            "marker": {
             "colorbar": {
              "outlinewidth": 0,
              "ticks": ""
             }
            },
            "type": "scattermapbox"
           }
          ],
          "scatterpolar": [
           {
            "marker": {
             "colorbar": {
              "outlinewidth": 0,
              "ticks": ""
             }
            },
            "type": "scatterpolar"
           }
          ],
          "scatterpolargl": [
           {
            "marker": {
             "colorbar": {
              "outlinewidth": 0,
              "ticks": ""
             }
            },
            "type": "scatterpolargl"
           }
          ],
          "scatterternary": [
           {
            "marker": {
             "colorbar": {
              "outlinewidth": 0,
              "ticks": ""
             }
            },
            "type": "scatterternary"
           }
          ],
          "surface": [
           {
            "colorbar": {
             "outlinewidth": 0,
             "ticks": ""
            },
            "colorscale": [
             [
              0,
              "#0d0887"
             ],
             [
              0.1111111111111111,
              "#46039f"
             ],
             [
              0.2222222222222222,
              "#7201a8"
             ],
             [
              0.3333333333333333,
              "#9c179e"
             ],
             [
              0.4444444444444444,
              "#bd3786"
             ],
             [
              0.5555555555555556,
              "#d8576b"
             ],
             [
              0.6666666666666666,
              "#ed7953"
             ],
             [
              0.7777777777777778,
              "#fb9f3a"
             ],
             [
              0.8888888888888888,
              "#fdca26"
             ],
             [
              1,
              "#f0f921"
             ]
            ],
            "type": "surface"
           }
          ],
          "table": [
           {
            "cells": {
             "fill": {
              "color": "#EBF0F8"
             },
             "line": {
              "color": "white"
             }
            },
            "header": {
             "fill": {
              "color": "#C8D4E3"
             },
             "line": {
              "color": "white"
             }
            },
            "type": "table"
           }
          ]
         },
         "layout": {
          "annotationdefaults": {
           "arrowcolor": "#2a3f5f",
           "arrowhead": 0,
           "arrowwidth": 1
          },
          "autotypenumbers": "strict",
          "coloraxis": {
           "colorbar": {
            "outlinewidth": 0,
            "ticks": ""
           }
          },
          "colorscale": {
           "diverging": [
            [
             0,
             "#8e0152"
            ],
            [
             0.1,
             "#c51b7d"
            ],
            [
             0.2,
             "#de77ae"
            ],
            [
             0.3,
             "#f1b6da"
            ],
            [
             0.4,
             "#fde0ef"
            ],
            [
             0.5,
             "#f7f7f7"
            ],
            [
             0.6,
             "#e6f5d0"
            ],
            [
             0.7,
             "#b8e186"
            ],
            [
             0.8,
             "#7fbc41"
            ],
            [
             0.9,
             "#4d9221"
            ],
            [
             1,
             "#276419"
            ]
           ],
           "sequential": [
            [
             0,
             "#0d0887"
            ],
            [
             0.1111111111111111,
             "#46039f"
            ],
            [
             0.2222222222222222,
             "#7201a8"
            ],
            [
             0.3333333333333333,
             "#9c179e"
            ],
            [
             0.4444444444444444,
             "#bd3786"
            ],
            [
             0.5555555555555556,
             "#d8576b"
            ],
            [
             0.6666666666666666,
             "#ed7953"
            ],
            [
             0.7777777777777778,
             "#fb9f3a"
            ],
            [
             0.8888888888888888,
             "#fdca26"
            ],
            [
             1,
             "#f0f921"
            ]
           ],
           "sequentialminus": [
            [
             0,
             "#0d0887"
            ],
            [
             0.1111111111111111,
             "#46039f"
            ],
            [
             0.2222222222222222,
             "#7201a8"
            ],
            [
             0.3333333333333333,
             "#9c179e"
            ],
            [
             0.4444444444444444,
             "#bd3786"
            ],
            [
             0.5555555555555556,
             "#d8576b"
            ],
            [
             0.6666666666666666,
             "#ed7953"
            ],
            [
             0.7777777777777778,
             "#fb9f3a"
            ],
            [
             0.8888888888888888,
             "#fdca26"
            ],
            [
             1,
             "#f0f921"
            ]
           ]
          },
          "colorway": [
           "#636efa",
           "#EF553B",
           "#00cc96",
           "#ab63fa",
           "#FFA15A",
           "#19d3f3",
           "#FF6692",
           "#B6E880",
           "#FF97FF",
           "#FECB52"
          ],
          "font": {
           "color": "#2a3f5f"
          },
          "geo": {
           "bgcolor": "white",
           "lakecolor": "white",
           "landcolor": "#E5ECF6",
           "showlakes": true,
           "showland": true,
           "subunitcolor": "white"
          },
          "hoverlabel": {
           "align": "left"
          },
          "hovermode": "closest",
          "mapbox": {
           "style": "light"
          },
          "paper_bgcolor": "white",
          "plot_bgcolor": "#E5ECF6",
          "polar": {
           "angularaxis": {
            "gridcolor": "white",
            "linecolor": "white",
            "ticks": ""
           },
           "bgcolor": "#E5ECF6",
           "radialaxis": {
            "gridcolor": "white",
            "linecolor": "white",
            "ticks": ""
           }
          },
          "scene": {
           "xaxis": {
            "backgroundcolor": "#E5ECF6",
            "gridcolor": "white",
            "gridwidth": 2,
            "linecolor": "white",
            "showbackground": true,
            "ticks": "",
            "zerolinecolor": "white"
           },
           "yaxis": {
            "backgroundcolor": "#E5ECF6",
            "gridcolor": "white",
            "gridwidth": 2,
            "linecolor": "white",
            "showbackground": true,
            "ticks": "",
            "zerolinecolor": "white"
           },
           "zaxis": {
            "backgroundcolor": "#E5ECF6",
            "gridcolor": "white",
            "gridwidth": 2,
            "linecolor": "white",
            "showbackground": true,
            "ticks": "",
            "zerolinecolor": "white"
           }
          },
          "shapedefaults": {
           "line": {
            "color": "#2a3f5f"
           }
          },
          "ternary": {
           "aaxis": {
            "gridcolor": "white",
            "linecolor": "white",
            "ticks": ""
           },
           "baxis": {
            "gridcolor": "white",
            "linecolor": "white",
            "ticks": ""
           },
           "bgcolor": "#E5ECF6",
           "caxis": {
            "gridcolor": "white",
            "linecolor": "white",
            "ticks": ""
           }
          },
          "title": {
           "x": 0.05
          },
          "xaxis": {
           "automargin": true,
           "gridcolor": "white",
           "linecolor": "white",
           "ticks": "",
           "title": {
            "standoff": 15
           },
           "zerolinecolor": "white",
           "zerolinewidth": 2
          },
          "yaxis": {
           "automargin": true,
           "gridcolor": "white",
           "linecolor": "white",
           "ticks": "",
           "title": {
            "standoff": 15
           },
           "zerolinecolor": "white",
           "zerolinewidth": 2
          }
         }
        },
        "title": {
         "text": "Number of publications over 10 years"
        },
        "xaxis": {
         "anchor": "y",
         "domain": [
          0,
          1
         ],
         "title": {
          "text": "Period"
         }
        },
        "yaxis": {
         "anchor": "x",
         "domain": [
          0,
          1
         ],
         "title": {
          "text": "counts"
         }
        }
       }
      }
     },
     "metadata": {},
     "output_type": "display_data"
    }
   ],
   "source": [
    "period_count =  pub_count_df.groupby(['Period','Document Type'])['Period'].count().reset_index(name='counts')\n",
    "fig = px.bar(data_frame= period_count, x= 'Period', y='counts', color='Document Type', title='Number of publications over 10 years')\n",
    "fig.show()"
   ]
  },
  {
   "attachments": {},
   "cell_type": "markdown",
   "metadata": {},
   "source": [
    "## Exploding the countries"
   ]
  },
  {
   "cell_type": "code",
   "execution_count": 29,
   "metadata": {},
   "outputs": [
    {
     "data": {
      "text/html": [
       "<div>\n",
       "<style scoped>\n",
       "    .dataframe tbody tr th:only-of-type {\n",
       "        vertical-align: middle;\n",
       "    }\n",
       "\n",
       "    .dataframe tbody tr th {\n",
       "        vertical-align: top;\n",
       "    }\n",
       "\n",
       "    .dataframe thead th {\n",
       "        text-align: right;\n",
       "    }\n",
       "</style>\n",
       "<table border=\"1\" class=\"dataframe\">\n",
       "  <thead>\n",
       "    <tr style=\"text-align: right;\">\n",
       "      <th></th>\n",
       "      <th>Year</th>\n",
       "      <th>Period</th>\n",
       "      <th>countries</th>\n",
       "      <th>Document Type</th>\n",
       "    </tr>\n",
       "  </thead>\n",
       "  <tbody>\n",
       "    <tr>\n",
       "      <th>0</th>\n",
       "      <td>2023</td>\n",
       "      <td>2014 - 2023</td>\n",
       "      <td>['United States']</td>\n",
       "      <td>Article</td>\n",
       "    </tr>\n",
       "    <tr>\n",
       "      <th>1</th>\n",
       "      <td>2023</td>\n",
       "      <td>2014 - 2023</td>\n",
       "      <td>['France', ' Guadeloupe']</td>\n",
       "      <td>Article</td>\n",
       "    </tr>\n",
       "    <tr>\n",
       "      <th>2</th>\n",
       "      <td>2023</td>\n",
       "      <td>2014 - 2023</td>\n",
       "      <td>['United States']</td>\n",
       "      <td>Article</td>\n",
       "    </tr>\n",
       "    <tr>\n",
       "      <th>3</th>\n",
       "      <td>2023</td>\n",
       "      <td>2014 - 2023</td>\n",
       "      <td>['South Korea']</td>\n",
       "      <td>Review</td>\n",
       "    </tr>\n",
       "    <tr>\n",
       "      <th>4</th>\n",
       "      <td>2023</td>\n",
       "      <td>2014 - 2023</td>\n",
       "      <td>['United Kingdom']</td>\n",
       "      <td>Letter</td>\n",
       "    </tr>\n",
       "    <tr>\n",
       "      <th>...</th>\n",
       "      <td>...</td>\n",
       "      <td>...</td>\n",
       "      <td>...</td>\n",
       "      <td>...</td>\n",
       "    </tr>\n",
       "    <tr>\n",
       "      <th>794</th>\n",
       "      <td>1964</td>\n",
       "      <td>1964 - 1973</td>\n",
       "      <td>['']</td>\n",
       "      <td>Article</td>\n",
       "    </tr>\n",
       "    <tr>\n",
       "      <th>795</th>\n",
       "      <td>1963</td>\n",
       "      <td>1954 - 1963</td>\n",
       "      <td>['']</td>\n",
       "      <td>Review</td>\n",
       "    </tr>\n",
       "    <tr>\n",
       "      <th>796</th>\n",
       "      <td>1960</td>\n",
       "      <td>1954 - 1963</td>\n",
       "      <td>['']</td>\n",
       "      <td>Article</td>\n",
       "    </tr>\n",
       "    <tr>\n",
       "      <th>797</th>\n",
       "      <td>1958</td>\n",
       "      <td>1954 - 1963</td>\n",
       "      <td>['']</td>\n",
       "      <td>Article</td>\n",
       "    </tr>\n",
       "    <tr>\n",
       "      <th>798</th>\n",
       "      <td>1954</td>\n",
       "      <td>1954 - 1963</td>\n",
       "      <td>['United States']</td>\n",
       "      <td>Article</td>\n",
       "    </tr>\n",
       "  </tbody>\n",
       "</table>\n",
       "<p>799 rows × 4 columns</p>\n",
       "</div>"
      ],
      "text/plain": [
       "     Year       Period                  countries Document Type\n",
       "0    2023  2014 - 2023          ['United States']       Article\n",
       "1    2023  2014 - 2023  ['France', ' Guadeloupe']       Article\n",
       "2    2023  2014 - 2023          ['United States']       Article\n",
       "3    2023  2014 - 2023            ['South Korea']        Review\n",
       "4    2023  2014 - 2023         ['United Kingdom']        Letter\n",
       "..    ...          ...                        ...           ...\n",
       "794  1964  1964 - 1973                       ['']       Article\n",
       "795  1963  1954 - 1963                       ['']        Review\n",
       "796  1960  1954 - 1963                       ['']       Article\n",
       "797  1958  1954 - 1963                       ['']       Article\n",
       "798  1954  1954 - 1963          ['United States']       Article\n",
       "\n",
       "[799 rows x 4 columns]"
      ]
     },
     "execution_count": 29,
     "metadata": {},
     "output_type": "execute_result"
    }
   ],
   "source": [
    "df = pub_count_df\n",
    "df"
   ]
  },
  {
   "cell_type": "code",
   "execution_count": 37,
   "metadata": {},
   "outputs": [
    {
     "name": "stderr",
     "output_type": "stream",
     "text": [
      "C:\\Users\\Sherrif\\AppData\\Local\\Temp\\ipykernel_17892\\2150531759.py:1: SettingWithCopyWarning:\n",
      "\n",
      "\n",
      "A value is trying to be set on a copy of a slice from a DataFrame.\n",
      "Try using .loc[row_indexer,col_indexer] = value instead\n",
      "\n",
      "See the caveats in the documentation: https://pandas.pydata.org/pandas-docs/stable/user_guide/indexing.html#returning-a-view-versus-a-copy\n",
      "\n"
     ]
    },
    {
     "data": {
      "text/html": [
       "<div>\n",
       "<style scoped>\n",
       "    .dataframe tbody tr th:only-of-type {\n",
       "        vertical-align: middle;\n",
       "    }\n",
       "\n",
       "    .dataframe tbody tr th {\n",
       "        vertical-align: top;\n",
       "    }\n",
       "\n",
       "    .dataframe thead th {\n",
       "        text-align: right;\n",
       "    }\n",
       "</style>\n",
       "<table border=\"1\" class=\"dataframe\">\n",
       "  <thead>\n",
       "    <tr style=\"text-align: right;\">\n",
       "      <th></th>\n",
       "      <th>Year</th>\n",
       "      <th>Period</th>\n",
       "      <th>countries</th>\n",
       "      <th>Document Type</th>\n",
       "    </tr>\n",
       "  </thead>\n",
       "  <tbody>\n",
       "    <tr>\n",
       "      <th>0</th>\n",
       "      <td>2023</td>\n",
       "      <td>2014 - 2023</td>\n",
       "      <td>United States</td>\n",
       "      <td>Article</td>\n",
       "    </tr>\n",
       "    <tr>\n",
       "      <th>1</th>\n",
       "      <td>2023</td>\n",
       "      <td>2014 - 2023</td>\n",
       "      <td>France,  Guadeloupe</td>\n",
       "      <td>Article</td>\n",
       "    </tr>\n",
       "    <tr>\n",
       "      <th>2</th>\n",
       "      <td>2023</td>\n",
       "      <td>2014 - 2023</td>\n",
       "      <td>United States</td>\n",
       "      <td>Article</td>\n",
       "    </tr>\n",
       "    <tr>\n",
       "      <th>3</th>\n",
       "      <td>2023</td>\n",
       "      <td>2014 - 2023</td>\n",
       "      <td>South Korea</td>\n",
       "      <td>Review</td>\n",
       "    </tr>\n",
       "    <tr>\n",
       "      <th>4</th>\n",
       "      <td>2023</td>\n",
       "      <td>2014 - 2023</td>\n",
       "      <td>United Kingdom</td>\n",
       "      <td>Letter</td>\n",
       "    </tr>\n",
       "  </tbody>\n",
       "</table>\n",
       "</div>"
      ],
      "text/plain": [
       "   Year       Period            countries Document Type\n",
       "0  2023  2014 - 2023        United States       Article\n",
       "1  2023  2014 - 2023  France,  Guadeloupe       Article\n",
       "2  2023  2014 - 2023        United States       Article\n",
       "3  2023  2014 - 2023          South Korea        Review\n",
       "4  2023  2014 - 2023       United Kingdom        Letter"
      ]
     },
     "execution_count": 37,
     "metadata": {},
     "output_type": "execute_result"
    }
   ],
   "source": [
    "df['countries'] = df['countries'].str.replace(\"[\",'').str.replace(\"]\",'').str.replace(\"'\",'')\n",
    "df.head()"
   ]
  },
  {
   "cell_type": "code",
   "execution_count": 38,
   "metadata": {},
   "outputs": [
    {
     "name": "stderr",
     "output_type": "stream",
     "text": [
      "C:\\Users\\Sherrif\\AppData\\Local\\Temp\\ipykernel_17892\\197004597.py:1: SettingWithCopyWarning:\n",
      "\n",
      "\n",
      "A value is trying to be set on a copy of a slice from a DataFrame.\n",
      "Try using .loc[row_indexer,col_indexer] = value instead\n",
      "\n",
      "See the caveats in the documentation: https://pandas.pydata.org/pandas-docs/stable/user_guide/indexing.html#returning-a-view-versus-a-copy\n",
      "\n"
     ]
    },
    {
     "data": {
      "text/html": [
       "<div>\n",
       "<style scoped>\n",
       "    .dataframe tbody tr th:only-of-type {\n",
       "        vertical-align: middle;\n",
       "    }\n",
       "\n",
       "    .dataframe tbody tr th {\n",
       "        vertical-align: top;\n",
       "    }\n",
       "\n",
       "    .dataframe thead th {\n",
       "        text-align: right;\n",
       "    }\n",
       "</style>\n",
       "<table border=\"1\" class=\"dataframe\">\n",
       "  <thead>\n",
       "    <tr style=\"text-align: right;\">\n",
       "      <th></th>\n",
       "      <th>Year</th>\n",
       "      <th>Period</th>\n",
       "      <th>countries</th>\n",
       "      <th>Document Type</th>\n",
       "    </tr>\n",
       "  </thead>\n",
       "  <tbody>\n",
       "    <tr>\n",
       "      <th>0</th>\n",
       "      <td>2023</td>\n",
       "      <td>2014 - 2023</td>\n",
       "      <td>[United States]</td>\n",
       "      <td>Article</td>\n",
       "    </tr>\n",
       "    <tr>\n",
       "      <th>1</th>\n",
       "      <td>2023</td>\n",
       "      <td>2014 - 2023</td>\n",
       "      <td>[France,   Guadeloupe]</td>\n",
       "      <td>Article</td>\n",
       "    </tr>\n",
       "    <tr>\n",
       "      <th>2</th>\n",
       "      <td>2023</td>\n",
       "      <td>2014 - 2023</td>\n",
       "      <td>[United States]</td>\n",
       "      <td>Article</td>\n",
       "    </tr>\n",
       "    <tr>\n",
       "      <th>3</th>\n",
       "      <td>2023</td>\n",
       "      <td>2014 - 2023</td>\n",
       "      <td>[South Korea]</td>\n",
       "      <td>Review</td>\n",
       "    </tr>\n",
       "    <tr>\n",
       "      <th>4</th>\n",
       "      <td>2023</td>\n",
       "      <td>2014 - 2023</td>\n",
       "      <td>[United Kingdom]</td>\n",
       "      <td>Letter</td>\n",
       "    </tr>\n",
       "    <tr>\n",
       "      <th>...</th>\n",
       "      <td>...</td>\n",
       "      <td>...</td>\n",
       "      <td>...</td>\n",
       "      <td>...</td>\n",
       "    </tr>\n",
       "    <tr>\n",
       "      <th>794</th>\n",
       "      <td>1964</td>\n",
       "      <td>1964 - 1973</td>\n",
       "      <td>[]</td>\n",
       "      <td>Article</td>\n",
       "    </tr>\n",
       "    <tr>\n",
       "      <th>795</th>\n",
       "      <td>1963</td>\n",
       "      <td>1954 - 1963</td>\n",
       "      <td>[]</td>\n",
       "      <td>Review</td>\n",
       "    </tr>\n",
       "    <tr>\n",
       "      <th>796</th>\n",
       "      <td>1960</td>\n",
       "      <td>1954 - 1963</td>\n",
       "      <td>[]</td>\n",
       "      <td>Article</td>\n",
       "    </tr>\n",
       "    <tr>\n",
       "      <th>797</th>\n",
       "      <td>1958</td>\n",
       "      <td>1954 - 1963</td>\n",
       "      <td>[]</td>\n",
       "      <td>Article</td>\n",
       "    </tr>\n",
       "    <tr>\n",
       "      <th>798</th>\n",
       "      <td>1954</td>\n",
       "      <td>1954 - 1963</td>\n",
       "      <td>[United States]</td>\n",
       "      <td>Article</td>\n",
       "    </tr>\n",
       "  </tbody>\n",
       "</table>\n",
       "<p>799 rows × 4 columns</p>\n",
       "</div>"
      ],
      "text/plain": [
       "     Year       Period               countries Document Type\n",
       "0    2023  2014 - 2023         [United States]       Article\n",
       "1    2023  2014 - 2023  [France,   Guadeloupe]       Article\n",
       "2    2023  2014 - 2023         [United States]       Article\n",
       "3    2023  2014 - 2023           [South Korea]        Review\n",
       "4    2023  2014 - 2023        [United Kingdom]        Letter\n",
       "..    ...          ...                     ...           ...\n",
       "794  1964  1964 - 1973                      []       Article\n",
       "795  1963  1954 - 1963                      []        Review\n",
       "796  1960  1954 - 1963                      []       Article\n",
       "797  1958  1954 - 1963                      []       Article\n",
       "798  1954  1954 - 1963         [United States]       Article\n",
       "\n",
       "[799 rows x 4 columns]"
      ]
     },
     "execution_count": 38,
     "metadata": {},
     "output_type": "execute_result"
    }
   ],
   "source": [
    "df['countries'] = df['countries'].str.split(',')\n",
    "df"
   ]
  },
  {
   "cell_type": "code",
   "execution_count": 39,
   "metadata": {},
   "outputs": [
    {
     "name": "stdout",
     "output_type": "stream",
     "text": [
      "<class 'list'> ['United States']\n",
      "<class 'list'> ['France', '  Guadeloupe']\n",
      "<class 'list'> ['United States']\n",
      "<class 'list'> ['South Korea']\n",
      "<class 'list'> ['United Kingdom']\n",
      "<class 'list'> ['Pakistan', '  South Korea']\n",
      "<class 'list'> ['United Kingdom', '  Ghana', '  Niger', '  Nigeria', '  South Africa']\n",
      "<class 'list'> ['France']\n",
      "<class 'list'> ['France', '  Tunisia']\n",
      "<class 'list'> ['Brazil']\n",
      "<class 'list'> ['India']\n",
      "<class 'list'> ['Germany']\n",
      "<class 'list'> ['United States']\n",
      "<class 'list'> ['Iran']\n",
      "<class 'list'> ['Egypt']\n",
      "<class 'list'> ['Malaysia']\n",
      "<class 'list'> ['Bahrain']\n",
      "<class 'list'> ['United States']\n",
      "<class 'list'> ['United States']\n",
      "<class 'list'> ['']\n",
      "<class 'list'> ['Jordan', '  Kuwait', '  Qatar', '  United States']\n",
      "<class 'list'> ['United States']\n",
      "<class 'list'> ['France']\n",
      "<class 'list'> ['France']\n",
      "<class 'list'> ['United States']\n",
      "<class 'list'> ['Australia', '  Germany', '  Denmark', '  Netherlands', '  Sweden', '  United States', '  South Africa']\n",
      "<class 'list'> ['France']\n",
      "<class 'list'> ['Germany']\n",
      "<class 'list'> ['Qatar']\n",
      "<class 'list'> ['Uganda']\n",
      "<class 'list'> ['United States']\n",
      "<class 'list'> ['France']\n",
      "<class 'list'> ['United States']\n",
      "<class 'list'> ['United States']\n",
      "<class 'list'> ['Canada']\n",
      "<class 'list'> ['United States']\n",
      "<class 'list'> ['Cuba']\n",
      "<class 'list'> ['United States']\n",
      "<class 'list'> ['Saudi Arabia']\n",
      "<class 'list'> ['France']\n",
      "<class 'list'> ['United States']\n",
      "<class 'list'> ['United Kingdom']\n",
      "<class 'list'> ['United States']\n",
      "<class 'list'> ['United States']\n",
      "<class 'list'> ['United States']\n",
      "<class 'list'> ['United States']\n",
      "<class 'list'> ['South Africa']\n",
      "<class 'list'> ['United States']\n",
      "<class 'list'> ['United States']\n",
      "<class 'list'> ['France']\n",
      "<class 'list'> ['France']\n",
      "<class 'list'> ['United States']\n",
      "<class 'list'> ['Japan', '  United States']\n",
      "<class 'list'> ['United States']\n",
      "<class 'list'> ['India', '  United States']\n",
      "<class 'list'> ['France']\n",
      "<class 'list'> ['Argentina']\n",
      "<class 'list'> ['Egypt', '  Saudi Arabia']\n",
      "<class 'list'> ['United States']\n",
      "<class 'list'> ['French Guiana']\n",
      "<class 'list'> ['Egypt']\n",
      "<class 'list'> ['Poland']\n",
      "<class 'list'> ['Niger', '  Nigeria', '  United States']\n",
      "<class 'list'> ['France']\n",
      "<class 'list'> ['Canada', '  France', '  United States']\n",
      "<class 'list'> ['India']\n",
      "<class 'list'> ['United Kingdom', '  Malaysia']\n",
      "<class 'list'> ['United Kingdom']\n",
      "<class 'list'> ['United Kingdom', '  Ghana']\n",
      "<class 'list'> ['Malaysia']\n",
      "<class 'list'> ['United Kingdom']\n",
      "<class 'list'> ['Niger', '  Nigeria']\n",
      "<class 'list'> ['France', '  Italy']\n",
      "<class 'list'> ['United States']\n",
      "<class 'list'> ['Germany']\n",
      "<class 'list'> ['United States']\n",
      "<class 'list'> ['United States']\n",
      "<class 'list'> ['Niger', '  Nigeria']\n",
      "<class 'list'> ['United States']\n",
      "<class 'list'> ['Canada', '  Jamaica', '  Canada']\n",
      "<class 'list'> ['Canada', '  Hong Kong', '  Kuwait', '  Canada']\n",
      "<class 'list'> ['France']\n",
      "<class 'list'> ['India', '  United States']\n",
      "<class 'list'> ['United States']\n",
      "<class 'list'> ['United States']\n",
      "<class 'list'> ['United States']\n",
      "<class 'list'> ['China', '  United States']\n",
      "<class 'list'> ['United Kingdom', '  Malaysia']\n",
      "<class 'list'> ['France', '  Netherlands', '  United States']\n",
      "<class 'list'> ['France', '  Guadeloupe']\n",
      "<class 'list'> ['United States']\n",
      "<class 'list'> ['United States']\n",
      "<class 'list'> ['United States']\n",
      "<class 'list'> ['United States']\n",
      "<class 'list'> ['Brazil', '  United States']\n",
      "<class 'list'> ['France', '  Mali', '  Senegal']\n",
      "<class 'list'> ['Canada', '  France', '  United States']\n",
      "<class 'list'> ['China', '  Japan']\n",
      "<class 'list'> ['France']\n",
      "<class 'list'> ['United States']\n",
      "<class 'list'> ['Turkey']\n",
      "<class 'list'> ['Niger', '  Nigeria', '  United States']\n",
      "<class 'list'> ['United States']\n",
      "<class 'list'> ['Italy']\n",
      "<class 'list'> ['Turkey']\n",
      "<class 'list'> ['Jordan']\n",
      "<class 'list'> ['Russian Federation']\n",
      "<class 'list'> ['United States']\n",
      "<class 'list'> ['Italy']\n",
      "<class 'list'> ['Jordan']\n",
      "<class 'list'> ['Niger', '  Nigeria', '  Zimbabwe']\n",
      "<class 'list'> ['France']\n",
      "<class 'list'> ['United Kingdom']\n",
      "<class 'list'> ['United States']\n",
      "<class 'list'> ['Canada', '  India', '  United States']\n",
      "<class 'list'> ['Italy']\n",
      "<class 'list'> ['Australia', '  Switzerland']\n",
      "<class 'list'> ['Canada']\n",
      "<class 'list'> ['Brazil', '  France', '  Italy', '  Monaco', '  Senegal']\n",
      "<class 'list'> ['']\n",
      "<class 'list'> ['Portugal']\n",
      "<class 'list'> ['Canada']\n",
      "<class 'list'> ['United States']\n",
      "<class 'list'> ['France']\n",
      "<class 'list'> ['Italy', '  United States']\n",
      "<class 'list'> ['India']\n",
      "<class 'list'> ['Jordan', '  Qatar']\n",
      "<class 'list'> ['France']\n",
      "<class 'list'> ['United States']\n",
      "<class 'list'> ['United States']\n",
      "<class 'list'> ['United States']\n",
      "<class 'list'> ['Tunisia']\n",
      "<class 'list'> ['United States']\n",
      "<class 'list'> ['Brazil']\n",
      "<class 'list'> ['United States']\n",
      "<class 'list'> ['Niger', '  Nigeria']\n",
      "<class 'list'> ['Turkey', '  United States']\n",
      "<class 'list'> ['Turkey', '  United States']\n",
      "<class 'list'> ['Georgia', '  United States']\n",
      "<class 'list'> ['United States']\n",
      "<class 'list'> ['Mexico', '  United States']\n",
      "<class 'list'> ['Brazil']\n",
      "<class 'list'> ['Niger', '  Nigeria']\n",
      "<class 'list'> ['United States']\n",
      "<class 'list'> ['France']\n",
      "<class 'list'> ['Netherlands']\n",
      "<class 'list'> ['United States']\n",
      "<class 'list'> ['France']\n",
      "<class 'list'> ['Greece']\n",
      "<class 'list'> ['China', '  United States']\n",
      "<class 'list'> ['Switzerland']\n",
      "<class 'list'> ['']\n",
      "<class 'list'> ['United States']\n",
      "<class 'list'> ['India']\n",
      "<class 'list'> ['France']\n",
      "<class 'list'> ['Brazil', '  United Kingdom', '  United States']\n",
      "<class 'list'> ['France']\n",
      "<class 'list'> ['Brazil']\n",
      "<class 'list'> ['Netherlands']\n",
      "<class 'list'> ['Turkey']\n",
      "<class 'list'> ['United States']\n",
      "<class 'list'> ['France']\n",
      "<class 'list'> ['Egypt']\n",
      "<class 'list'> ['United Kingdom', '  United States']\n",
      "<class 'list'> ['France']\n",
      "<class 'list'> ['United States']\n",
      "<class 'list'> ['United States']\n",
      "<class 'list'> ['Germany', '  United Kingdom']\n",
      "<class 'list'> ['']\n",
      "<class 'list'> ['Ghana', '  Niger', '  Nigeria']\n",
      "<class 'list'> ['Spain']\n",
      "<class 'list'> ['Brazil']\n",
      "<class 'list'> ['United States']\n",
      "<class 'list'> ['United States']\n",
      "<class 'list'> ['Saudi Arabia']\n",
      "<class 'list'> ['United States']\n",
      "<class 'list'> ['Germany']\n",
      "<class 'list'> ['Turkey', '  United States']\n",
      "<class 'list'> ['Lithuania']\n",
      "<class 'list'> ['United States']\n",
      "<class 'list'> ['Niger', '  Nigeria']\n",
      "<class 'list'> ['Italy', '  United States']\n",
      "<class 'list'> ['United Kingdom', '  Jamaica']\n",
      "<class 'list'> ['United States']\n",
      "<class 'list'> ['United States']\n",
      "<class 'list'> ['United Arab Emirates', '  Saudi Arabia', '  Sweden']\n",
      "<class 'list'> ['France', '  Guadeloupe']\n",
      "<class 'list'> ['Brazil']\n",
      "<class 'list'> ['France', '  Guadeloupe']\n",
      "<class 'list'> ['United Kingdom', '  Singapore']\n",
      "<class 'list'> ['\"Cote dIvoire\"']\n",
      "<class 'list'> ['United States']\n",
      "<class 'list'> ['United States']\n",
      "<class 'list'> ['United States']\n",
      "<class 'list'> ['France', '  Senegal']\n",
      "<class 'list'> ['United States']\n",
      "<class 'list'> ['Brazil']\n",
      "<class 'list'> ['China']\n",
      "<class 'list'> ['Brazil']\n",
      "<class 'list'> ['Brazil']\n",
      "<class 'list'> ['United States']\n",
      "<class 'list'> ['France']\n",
      "<class 'list'> ['China']\n",
      "<class 'list'> ['United Arab Emirates', '  United Kingdom']\n",
      "<class 'list'> ['United Kingdom']\n",
      "<class 'list'> ['Saudi Arabia']\n",
      "<class 'list'> ['France']\n",
      "<class 'list'> ['United Kingdom', '  Ghana']\n",
      "<class 'list'> ['United States']\n",
      "<class 'list'> ['United Kingdom']\n",
      "<class 'list'> ['Canada', '  Canada']\n",
      "<class 'list'> ['India']\n",
      "<class 'list'> ['United States']\n",
      "<class 'list'> ['United States']\n",
      "<class 'list'> ['India', '  United States']\n",
      "<class 'list'> ['United States']\n",
      "<class 'list'> ['United Kingdom']\n",
      "<class 'list'> ['United States']\n",
      "<class 'list'> ['United States']\n",
      "<class 'list'> ['Italy', '  United States']\n",
      "<class 'list'> ['Italy']\n",
      "<class 'list'> ['United Kingdom']\n",
      "<class 'list'> ['United States']\n",
      "<class 'list'> ['Cameroon', '  France', '  South Africa']\n",
      "<class 'list'> ['Brazil']\n",
      "<class 'list'> ['United States']\n",
      "<class 'list'> ['United States']\n",
      "<class 'list'> ['United States']\n",
      "<class 'list'> ['United States']\n",
      "<class 'list'> ['Italy']\n",
      "<class 'list'> ['Netherlands']\n",
      "<class 'list'> ['Pakistan', '  United States']\n",
      "<class 'list'> ['United States']\n",
      "<class 'list'> ['United States']\n",
      "<class 'list'> ['France']\n",
      "<class 'list'> ['Brazil', '  United Kingdom', '  United States']\n",
      "<class 'list'> ['France', '  Mali']\n",
      "<class 'list'> ['France', '  Pakistan', '  United States']\n",
      "<class 'list'> ['United States']\n",
      "<class 'list'> ['United States']\n",
      "<class 'list'> ['Spain']\n",
      "<class 'list'> ['Morocco']\n",
      "<class 'list'> ['United Kingdom', '  Malawi', '  United States']\n",
      "<class 'list'> ['United Kingdom']\n",
      "<class 'list'> ['India']\n",
      "<class 'list'> ['France', '  United States']\n",
      "<class 'list'> ['Niger', '  Nigeria']\n",
      "<class 'list'> ['United States']\n",
      "<class 'list'> ['United States']\n",
      "<class 'list'> ['United States']\n",
      "<class 'list'> ['Morocco']\n",
      "<class 'list'> ['United States']\n",
      "<class 'list'> ['Greece']\n",
      "<class 'list'> ['Morocco']\n",
      "<class 'list'> ['Brazil']\n",
      "<class 'list'> ['United Kingdom']\n",
      "<class 'list'> ['United States']\n",
      "<class 'list'> ['United States']\n",
      "<class 'list'> ['Brazil']\n",
      "<class 'list'> ['Egypt', '  United States']\n",
      "<class 'list'> ['Georgia', '  United States']\n",
      "<class 'list'> ['United States']\n",
      "<class 'list'> ['United States']\n",
      "<class 'list'> ['France', '  Italy']\n",
      "<class 'list'> ['United States']\n",
      "<class 'list'> ['United States']\n",
      "<class 'list'> ['United States']\n",
      "<class 'list'> ['United States']\n",
      "<class 'list'> ['United Kingdom']\n",
      "<class 'list'> ['Niger', '  Nigeria']\n",
      "<class 'list'> ['United States']\n",
      "<class 'list'> ['Brazil']\n",
      "<class 'list'> ['Saudi Arabia', '  Sweden']\n",
      "<class 'list'> ['United States']\n",
      "<class 'list'> ['Brazil']\n",
      "<class 'list'> ['United States']\n",
      "<class 'list'> ['India', '  United States']\n",
      "<class 'list'> ['United States']\n",
      "<class 'list'> ['France', '  Guadeloupe', '  United States']\n",
      "<class 'list'> ['']\n",
      "<class 'list'> ['United States']\n",
      "<class 'list'> ['Egypt']\n",
      "<class 'list'> ['France', '  Guadeloupe']\n",
      "<class 'list'> ['United Kingdom', '  United States']\n",
      "<class 'list'> ['United States']\n",
      "<class 'list'> ['Lebanon']\n",
      "<class 'list'> ['Brazil']\n",
      "<class 'list'> ['United States']\n",
      "<class 'list'> ['United States']\n",
      "<class 'list'> ['United States']\n",
      "<class 'list'> ['United States']\n",
      "<class 'list'> ['India']\n",
      "<class 'list'> ['United States']\n",
      "<class 'list'> ['United States']\n",
      "<class 'list'> ['United States']\n",
      "<class 'list'> ['Brazil']\n",
      "<class 'list'> ['Canada']\n",
      "<class 'list'> ['Malaysia']\n",
      "<class 'list'> ['United States']\n",
      "<class 'list'> ['India']\n",
      "<class 'list'> ['Canada', '  United States', '  Canada']\n",
      "<class 'list'> ['Denmark', '  United Kingdom']\n",
      "<class 'list'> ['France']\n",
      "<class 'list'> ['Brazil', '  Canada', '  United States', '  Canada']\n",
      "<class 'list'> ['United Kingdom', '  United States']\n",
      "<class 'list'> ['United States']\n",
      "<class 'list'> ['Switzerland', '  France']\n",
      "<class 'list'> ['United States']\n",
      "<class 'list'> ['United States']\n",
      "<class 'list'> ['United States']\n",
      "<class 'list'> ['France']\n",
      "<class 'list'> ['Brazil']\n",
      "<class 'list'> ['Brazil']\n",
      "<class 'list'> ['Portugal']\n",
      "<class 'list'> ['Burkina Faso']\n",
      "<class 'list'> ['Mexico']\n",
      "<class 'list'> ['Brazil']\n",
      "<class 'list'> ['Brazil', '  Portugal']\n",
      "<class 'list'> ['United Kingdom']\n",
      "<class 'list'> ['Brazil']\n",
      "<class 'list'> ['Brazil']\n",
      "<class 'list'> ['United States']\n",
      "<class 'list'> ['Egypt']\n",
      "<class 'list'> ['Ghana']\n",
      "<class 'list'> ['Spain']\n",
      "<class 'list'> ['France']\n",
      "<class 'list'> ['United States']\n",
      "<class 'list'> ['Brazil']\n",
      "<class 'list'> ['Brazil']\n",
      "<class 'list'> ['France', '  Guadeloupe']\n",
      "<class 'list'> ['Israel']\n",
      "<class 'list'> ['France', '  United Kingdom']\n",
      "<class 'list'> ['Mexico', '  United States']\n",
      "<class 'list'> ['Niger', '  Nigeria']\n",
      "<class 'list'> ['South Africa']\n",
      "<class 'list'> ['Georgia', '  United States']\n",
      "<class 'list'> ['Japan']\n",
      "<class 'list'> ['Brazil']\n",
      "<class 'list'> ['United States']\n",
      "<class 'list'> ['Cuba']\n",
      "<class 'list'> ['France', '  Guadeloupe']\n",
      "<class 'list'> ['United States']\n",
      "<class 'list'> ['United States']\n",
      "<class 'list'> ['United States']\n",
      "<class 'list'> ['Guadeloupe']\n",
      "<class 'list'> ['Malaysia']\n",
      "<class 'list'> ['United States']\n",
      "<class 'list'> ['Brazil']\n",
      "<class 'list'> ['United States']\n",
      "<class 'list'> ['Georgia', '  United States']\n",
      "<class 'list'> ['United States']\n",
      "<class 'list'> ['United States']\n",
      "<class 'list'> ['United States']\n",
      "<class 'list'> ['Egypt']\n",
      "<class 'list'> ['India']\n",
      "<class 'list'> ['United States']\n",
      "<class 'list'> ['United Kingdom', '  Singapore']\n",
      "<class 'list'> ['Brazil']\n",
      "<class 'list'> ['United States']\n",
      "<class 'list'> ['Mexico', '  United States']\n",
      "<class 'list'> ['United States']\n",
      "<class 'list'> ['Egypt', '  Qatar']\n",
      "<class 'list'> ['United States']\n",
      "<class 'list'> ['Brazil']\n",
      "<class 'list'> ['United Kingdom']\n",
      "<class 'list'> ['France']\n",
      "<class 'list'> ['United States']\n",
      "<class 'list'> ['Italy']\n",
      "<class 'list'> ['France']\n",
      "<class 'list'> ['United States']\n",
      "<class 'list'> ['Pakistan']\n",
      "<class 'list'> ['Jamaica']\n",
      "<class 'list'> ['Portugal']\n",
      "<class 'list'> ['United States', '  Zambia']\n",
      "<class 'list'> ['United States']\n",
      "<class 'list'> ['Brazil']\n",
      "<class 'list'> ['France']\n",
      "<class 'list'> ['United Kingdom']\n",
      "<class 'list'> ['Brazil']\n",
      "<class 'list'> ['Germany', '  Ghana', '  Kenya']\n",
      "<class 'list'> ['United States']\n",
      "<class 'list'> ['United States']\n",
      "<class 'list'> ['United States']\n",
      "<class 'list'> ['United States']\n",
      "<class 'list'> ['United States']\n",
      "<class 'list'> ['Brazil']\n",
      "<class 'list'> ['United States']\n",
      "<class 'list'> ['India']\n",
      "<class 'list'> ['United States']\n",
      "<class 'list'> ['Nigeria']\n",
      "<class 'list'> ['Italy']\n",
      "<class 'list'> ['Argentina', '  United States']\n",
      "<class 'list'> ['Curaçao', '  Netherlands']\n",
      "<class 'list'> ['Egypt', '  United Kingdom']\n",
      "<class 'list'> ['United States']\n",
      "<class 'list'> ['Denmark', '  United Kingdom']\n",
      "<class 'list'> ['Belgium']\n",
      "<class 'list'> ['United States']\n",
      "<class 'list'> ['Curaçao', '  Netherlands']\n",
      "<class 'list'> ['Niger', '  Nigeria']\n",
      "<class 'list'> ['Brazil', '  United Kingdom']\n",
      "<class 'list'> ['Norway', '  United States']\n",
      "<class 'list'> ['United States']\n",
      "<class 'list'> ['United States']\n",
      "<class 'list'> ['United States']\n",
      "<class 'list'> ['Brazil']\n",
      "<class 'list'> ['Benin']\n",
      "<class 'list'> ['']\n",
      "<class 'list'> ['Curaçao', '  Netherlands']\n",
      "<class 'list'> ['Pakistan']\n",
      "<class 'list'> ['Curaçao', '  Netherlands']\n",
      "<class 'list'> ['Burkina Faso', '  France']\n",
      "<class 'list'> ['United States']\n",
      "<class 'list'> ['Cuba']\n",
      "<class 'list'> ['United Kingdom']\n",
      "<class 'list'> ['Israel']\n",
      "<class 'list'> ['United States']\n",
      "<class 'list'> ['Brazil']\n",
      "<class 'list'> ['Burkina Faso']\n",
      "<class 'list'> ['France']\n",
      "<class 'list'> ['United Kingdom']\n",
      "<class 'list'> ['France', '  Martinique']\n",
      "<class 'list'> ['Saudi Arabia']\n",
      "<class 'list'> ['United States']\n",
      "<class 'list'> ['France']\n",
      "<class 'list'> ['United States']\n",
      "<class 'list'> ['Japan']\n",
      "<class 'list'> ['Germany']\n",
      "<class 'list'> ['Italy']\n",
      "<class 'list'> ['Tunisia']\n",
      "<class 'list'> ['United States']\n",
      "<class 'list'> ['France']\n",
      "<class 'list'> ['Mexico', '  United States']\n",
      "<class 'list'> ['United Kingdom']\n",
      "<class 'list'> ['']\n",
      "<class 'list'> ['United States']\n",
      "<class 'list'> ['France', '  Italy']\n",
      "<class 'list'> ['Canada', '  Canada']\n",
      "<class 'list'> ['United Kingdom', '  Netherlands', '  United States']\n",
      "<class 'list'> ['Germany', '  United States']\n",
      "<class 'list'> ['United States', '  United States']\n",
      "<class 'list'> ['Brazil']\n",
      "<class 'list'> ['United States']\n",
      "<class 'list'> ['Turkey']\n",
      "<class 'list'> ['United Kingdom']\n",
      "<class 'list'> ['United States']\n",
      "<class 'list'> ['United States']\n",
      "<class 'list'> ['Jersey', '  United States']\n",
      "<class 'list'> ['Brazil', '  United States']\n",
      "<class 'list'> ['Kenya']\n",
      "<class 'list'> ['United States']\n",
      "<class 'list'> ['United States']\n",
      "<class 'list'> ['Mali']\n",
      "<class 'list'> ['United Kingdom']\n",
      "<class 'list'> ['United States']\n",
      "<class 'list'> ['Niger', '  Nigeria']\n",
      "<class 'list'> ['Turkey']\n",
      "<class 'list'> ['Brazil']\n",
      "<class 'list'> ['United States']\n",
      "<class 'list'> ['United States']\n",
      "<class 'list'> ['United States']\n",
      "<class 'list'> ['United States']\n",
      "<class 'list'> ['United States']\n",
      "<class 'list'> ['United States']\n",
      "<class 'list'> ['']\n",
      "<class 'list'> ['United States']\n",
      "<class 'list'> ['United States']\n",
      "<class 'list'> ['United Kingdom']\n",
      "<class 'list'> ['Italy', '  United States']\n",
      "<class 'list'> ['Niger', '  Nigeria']\n",
      "<class 'list'> ['United Kingdom', '  Jamaica', '  United States']\n",
      "<class 'list'> ['\"Cote dIvoire\"']\n",
      "<class 'list'> ['United States']\n",
      "<class 'list'> ['Brazil']\n",
      "<class 'list'> ['France']\n",
      "<class 'list'> ['United States']\n",
      "<class 'list'> ['Italy']\n",
      "<class 'list'> ['United States']\n",
      "<class 'list'> ['\"Cote dIvoire\"']\n",
      "<class 'list'> ['Germany', '  Kenya']\n",
      "<class 'list'> ['Niger', '  Nigeria']\n",
      "<class 'list'> ['United States']\n",
      "<class 'list'> ['India']\n",
      "<class 'list'> ['United States']\n",
      "<class 'list'> ['Georgia', '  United States']\n",
      "<class 'list'> ['Japan', '  Netherlands', '  United States']\n",
      "<class 'list'> ['India']\n",
      "<class 'list'> ['United States']\n",
      "<class 'list'> ['Canada', '  United States', '  Canada']\n",
      "<class 'list'> ['France']\n",
      "<class 'list'> ['United Kingdom']\n",
      "<class 'list'> ['United States']\n",
      "<class 'list'> ['United States']\n",
      "<class 'list'> ['United States']\n",
      "<class 'list'> ['Niger', '  Nigeria']\n",
      "<class 'list'> ['France']\n",
      "<class 'list'> ['United States']\n",
      "<class 'list'> ['Niger', '  Nigeria']\n",
      "<class 'list'> ['United Kingdom']\n",
      "<class 'list'> ['United Kingdom']\n",
      "<class 'list'> ['United Kingdom']\n",
      "<class 'list'> ['United States']\n",
      "<class 'list'> ['Germany']\n",
      "<class 'list'> ['United States']\n",
      "<class 'list'> ['Brazil']\n",
      "<class 'list'> ['United States']\n",
      "<class 'list'> ['United States']\n",
      "<class 'list'> ['Oman']\n",
      "<class 'list'> ['United States']\n",
      "<class 'list'> ['Germany']\n",
      "<class 'list'> ['United States']\n",
      "<class 'list'> ['United States']\n",
      "<class 'list'> ['United States']\n",
      "<class 'list'> ['United States']\n",
      "<class 'list'> ['United States']\n",
      "<class 'list'> ['United States']\n",
      "<class 'list'> ['Georgia', '  United States']\n",
      "<class 'list'> ['Jamaica']\n",
      "<class 'list'> ['Japan']\n",
      "<class 'list'> ['']\n",
      "<class 'list'> ['United States']\n",
      "<class 'list'> ['Togo']\n",
      "<class 'list'> ['United States']\n",
      "<class 'list'> ['United States']\n",
      "<class 'list'> ['United Kingdom']\n",
      "<class 'list'> ['United States']\n",
      "<class 'list'> ['United States']\n",
      "<class 'list'> ['United States']\n",
      "<class 'list'> ['United States']\n",
      "<class 'list'> ['France', '  Togo']\n",
      "<class 'list'> ['United States']\n",
      "<class 'list'> ['United Kingdom', '  Jamaica', '  United States']\n",
      "<class 'list'> ['United States']\n",
      "<class 'list'> ['United Kingdom']\n",
      "<class 'list'> ['United States']\n",
      "<class 'list'> ['Togo']\n",
      "<class 'list'> ['United States']\n",
      "<class 'list'> ['']\n",
      "<class 'list'> ['United States']\n",
      "<class 'list'> ['Belgium']\n",
      "<class 'list'> ['Jersey', '  United States']\n",
      "<class 'list'> ['Italy']\n",
      "<class 'list'> ['Canada', '  Germany', '  United Kingdom', '  Jamaica', '  Saudi Arabia']\n",
      "<class 'list'> ['United Kingdom']\n",
      "<class 'list'> ['United States']\n",
      "<class 'list'> ['United States']\n",
      "<class 'list'> ['United States']\n",
      "<class 'list'> ['United States']\n",
      "<class 'list'> ['United Kingdom']\n",
      "<class 'list'> ['United Kingdom']\n",
      "<class 'list'> ['United States']\n",
      "<class 'list'> ['United States']\n",
      "<class 'list'> ['United States']\n",
      "<class 'list'> ['United States']\n",
      "<class 'list'> ['United States']\n",
      "<class 'list'> ['United States']\n",
      "<class 'list'> ['United Kingdom', '  Jamaica', '  United States']\n",
      "<class 'list'> ['United States']\n",
      "<class 'list'> ['Belgium']\n",
      "<class 'list'> ['Jamaica']\n",
      "<class 'list'> ['United Kingdom', '  Jamaica']\n",
      "<class 'list'> ['United States']\n",
      "<class 'list'> ['United States']\n",
      "<class 'list'> ['United States']\n",
      "<class 'list'> ['United States']\n",
      "<class 'list'> ['United States']\n",
      "<class 'list'> ['Italy']\n",
      "<class 'list'> ['United States']\n",
      "<class 'list'> ['Jamaica']\n",
      "<class 'list'> ['United States']\n",
      "<class 'list'> ['']\n",
      "<class 'list'> ['Netherlands']\n",
      "<class 'list'> ['United States']\n",
      "<class 'list'> ['United States']\n",
      "<class 'list'> ['United States']\n",
      "<class 'list'> ['Netherlands']\n",
      "<class 'list'> ['Jamaica']\n",
      "<class 'list'> ['Jamaica', '  United States']\n",
      "<class 'list'> ['United States']\n",
      "<class 'list'> ['Jamaica', '  United States']\n",
      "<class 'list'> ['Jordan']\n",
      "<class 'list'> ['Jamaica', '  United States']\n",
      "<class 'list'> ['United States']\n",
      "<class 'list'> ['United States']\n",
      "<class 'list'> ['United States']\n",
      "<class 'list'> ['United States']\n",
      "<class 'list'> ['United States']\n",
      "<class 'list'> ['Niger', '  Nigeria']\n",
      "<class 'list'> ['Jersey']\n",
      "<class 'list'> ['Netherlands']\n",
      "<class 'list'> ['United States']\n",
      "<class 'list'> ['United States']\n",
      "<class 'list'> ['United States']\n",
      "<class 'list'> ['United Kingdom']\n",
      "<class 'list'> ['Jamaica']\n",
      "<class 'list'> ['Jamaica', '  Trinidad and Tobago']\n",
      "<class 'list'> ['Jordan']\n",
      "<class 'list'> ['New Zealand']\n",
      "<class 'list'> ['Jersey', '  United States']\n",
      "<class 'list'> ['France']\n",
      "<class 'list'> ['United States']\n",
      "<class 'list'> ['United States']\n",
      "<class 'list'> ['United States']\n",
      "<class 'list'> ['United States']\n",
      "<class 'list'> ['United States']\n",
      "<class 'list'> ['United States']\n",
      "<class 'list'> ['']\n",
      "<class 'list'> ['United States']\n",
      "<class 'list'> ['United States']\n",
      "<class 'list'> ['']\n",
      "<class 'list'> ['United States']\n",
      "<class 'list'> ['Jamaica']\n",
      "<class 'list'> ['United States']\n",
      "<class 'list'> ['Jamaica']\n",
      "<class 'list'> ['United States']\n",
      "<class 'list'> ['Brazil']\n",
      "<class 'list'> ['United States']\n",
      "<class 'list'> ['United States']\n",
      "<class 'list'> ['United States']\n",
      "<class 'list'> ['']\n",
      "<class 'list'> ['United States']\n",
      "<class 'list'> ['United States']\n",
      "<class 'list'> ['Jamaica']\n",
      "<class 'list'> ['New Zealand', '  United States']\n",
      "<class 'list'> ['United States']\n",
      "<class 'list'> ['United States']\n",
      "<class 'list'> ['Jamaica', '  United States']\n",
      "<class 'list'> ['United Kingdom']\n",
      "<class 'list'> ['United States']\n",
      "<class 'list'> ['Jamaica', '  United States']\n",
      "<class 'list'> ['New Zealand']\n",
      "<class 'list'> ['United States']\n",
      "<class 'list'> ['Jamaica']\n",
      "<class 'list'> ['United States']\n",
      "<class 'list'> ['United States']\n",
      "<class 'list'> ['United States']\n",
      "<class 'list'> ['']\n",
      "<class 'list'> ['United Kingdom']\n",
      "<class 'list'> ['United States']\n",
      "<class 'list'> ['United States']\n",
      "<class 'list'> ['United States']\n",
      "<class 'list'> ['United States']\n",
      "<class 'list'> ['United Kingdom', '  Jamaica']\n",
      "<class 'list'> ['United States']\n",
      "<class 'list'> ['United Kingdom', '  Jamaica']\n",
      "<class 'list'> ['']\n",
      "<class 'list'> ['']\n",
      "<class 'list'> ['Jamaica']\n",
      "<class 'list'> ['Jamaica']\n",
      "<class 'list'> ['Germany']\n",
      "<class 'list'> ['United Kingdom', '  Jamaica']\n",
      "<class 'list'> ['Jamaica', '  United States']\n",
      "<class 'list'> ['United States']\n",
      "<class 'list'> ['United States']\n",
      "<class 'list'> ['Niger', '  Nigeria']\n",
      "<class 'list'> ['United States']\n",
      "<class 'list'> ['']\n",
      "<class 'list'> ['France']\n",
      "<class 'list'> ['United States']\n",
      "<class 'list'> ['Jamaica']\n",
      "<class 'list'> ['United States']\n",
      "<class 'list'> ['France']\n",
      "<class 'list'> ['Germany']\n",
      "<class 'list'> ['']\n",
      "<class 'list'> ['United States']\n",
      "<class 'list'> ['Jamaica', '  United States']\n",
      "<class 'list'> ['United States']\n",
      "<class 'list'> ['United States']\n",
      "<class 'list'> ['United States']\n",
      "<class 'list'> ['United States']\n",
      "<class 'list'> ['United States']\n",
      "<class 'list'> ['']\n",
      "<class 'list'> ['United Kingdom']\n",
      "<class 'list'> ['United States']\n",
      "<class 'list'> ['United States']\n",
      "<class 'list'> ['United States']\n",
      "<class 'list'> ['United States']\n",
      "<class 'list'> ['']\n",
      "<class 'list'> ['']\n",
      "<class 'list'> ['\"Cote dIvoire\"']\n",
      "<class 'list'> ['Jamaica']\n",
      "<class 'list'> ['Ireland']\n",
      "<class 'list'> ['']\n",
      "<class 'list'> ['']\n",
      "<class 'list'> ['United States']\n",
      "<class 'list'> ['Jamaica']\n",
      "<class 'list'> ['United States']\n",
      "<class 'list'> ['Greece']\n",
      "<class 'list'> ['United States']\n",
      "<class 'list'> ['Jamaica']\n",
      "<class 'list'> ['United States']\n",
      "<class 'list'> ['Jamaica']\n",
      "<class 'list'> ['United States']\n",
      "<class 'list'> ['United States']\n",
      "<class 'list'> ['United States']\n",
      "<class 'list'> ['United States']\n",
      "<class 'list'> ['United States']\n",
      "<class 'list'> ['Jamaica']\n",
      "<class 'list'> ['Jamaica']\n",
      "<class 'list'> ['United States']\n",
      "<class 'list'> ['United States']\n",
      "<class 'list'> ['Niger', '  Nigeria']\n",
      "<class 'list'> ['United States']\n",
      "<class 'list'> ['United States']\n",
      "<class 'list'> ['Jamaica']\n",
      "<class 'list'> ['United Kingdom']\n",
      "<class 'list'> ['United States']\n",
      "<class 'list'> ['United States']\n",
      "<class 'list'> ['United States']\n",
      "<class 'list'> ['Niger', '  Nigeria']\n",
      "<class 'list'> ['United States']\n",
      "<class 'list'> ['Belgium', '  United States']\n",
      "<class 'list'> ['United States']\n",
      "<class 'list'> ['United States']\n",
      "<class 'list'> ['United States']\n",
      "<class 'list'> ['']\n",
      "<class 'list'> ['United States']\n",
      "<class 'list'> ['Switzerland']\n",
      "<class 'list'> ['United Kingdom']\n",
      "<class 'list'> ['']\n",
      "<class 'list'> ['']\n",
      "<class 'list'> ['United States']\n",
      "<class 'list'> ['United States']\n",
      "<class 'list'> ['United States']\n",
      "<class 'list'> ['United States']\n",
      "<class 'list'> ['United States']\n",
      "<class 'list'> ['United States']\n",
      "<class 'list'> ['United States']\n",
      "<class 'list'> ['Germany']\n",
      "<class 'list'> ['']\n",
      "<class 'list'> ['']\n",
      "<class 'list'> ['Ireland']\n",
      "<class 'list'> ['United States']\n",
      "<class 'list'> ['United Kingdom']\n",
      "<class 'list'> ['']\n",
      "<class 'list'> ['United States']\n",
      "<class 'list'> ['United Kingdom']\n",
      "<class 'list'> ['United States']\n",
      "<class 'list'> ['Nigeria']\n",
      "<class 'list'> ['United States']\n",
      "<class 'list'> ['Jersey', '  United States']\n",
      "<class 'list'> ['Ireland', '  Jamaica']\n",
      "<class 'list'> ['United States']\n",
      "<class 'list'> ['Brazil', '  United States']\n",
      "<class 'list'> ['United States']\n",
      "<class 'list'> ['United States']\n",
      "<class 'list'> ['United States']\n",
      "<class 'list'> ['United States']\n",
      "<class 'list'> ['United States']\n",
      "<class 'list'> ['United States']\n",
      "<class 'list'> ['Ireland']\n",
      "<class 'list'> ['United States']\n",
      "<class 'list'> ['United States']\n",
      "<class 'list'> ['United States']\n",
      "<class 'list'> ['United States']\n",
      "<class 'list'> ['United States']\n",
      "<class 'list'> ['']\n",
      "<class 'list'> ['']\n",
      "<class 'list'> ['']\n",
      "<class 'list'> ['']\n",
      "<class 'list'> ['United States']\n",
      "<class 'list'> ['United States']\n",
      "<class 'list'> ['United States']\n",
      "<class 'list'> ['United Kingdom']\n",
      "<class 'list'> ['United States']\n",
      "<class 'list'> ['Jamaica']\n",
      "<class 'list'> ['United States']\n",
      "<class 'list'> ['France']\n",
      "<class 'list'> ['United States']\n",
      "<class 'list'> ['']\n",
      "<class 'list'> ['United States']\n",
      "<class 'list'> ['United States']\n",
      "<class 'list'> ['United States']\n",
      "<class 'list'> ['United States']\n",
      "<class 'list'> ['']\n",
      "<class 'list'> ['']\n",
      "<class 'list'> ['']\n",
      "<class 'list'> ['United Kingdom', '  Jamaica']\n",
      "<class 'list'> ['United Kingdom', '  Jamaica']\n",
      "<class 'list'> ['United States']\n",
      "<class 'list'> ['United States']\n",
      "<class 'list'> ['United Kingdom', '  Jamaica']\n",
      "<class 'list'> ['']\n",
      "<class 'list'> ['United States']\n",
      "<class 'list'> ['United States']\n",
      "<class 'list'> ['United States']\n",
      "<class 'list'> ['United States']\n",
      "<class 'list'> ['']\n",
      "<class 'list'> ['']\n",
      "<class 'list'> ['United States']\n",
      "<class 'list'> ['']\n",
      "<class 'list'> ['United States']\n",
      "<class 'list'> ['']\n",
      "<class 'list'> ['']\n",
      "<class 'list'> ['']\n",
      "<class 'list'> ['']\n",
      "<class 'list'> ['']\n",
      "<class 'list'> ['']\n",
      "<class 'list'> ['United States']\n"
     ]
    }
   ],
   "source": [
    "for index, row in df.iterrows():\n",
    "    print (type(row[2]), row[2])"
   ]
  },
  {
   "cell_type": "code",
   "execution_count": 41,
   "metadata": {},
   "outputs": [
    {
     "data": {
      "text/html": [
       "<div>\n",
       "<style scoped>\n",
       "    .dataframe tbody tr th:only-of-type {\n",
       "        vertical-align: middle;\n",
       "    }\n",
       "\n",
       "    .dataframe tbody tr th {\n",
       "        vertical-align: top;\n",
       "    }\n",
       "\n",
       "    .dataframe thead th {\n",
       "        text-align: right;\n",
       "    }\n",
       "</style>\n",
       "<table border=\"1\" class=\"dataframe\">\n",
       "  <thead>\n",
       "    <tr style=\"text-align: right;\">\n",
       "      <th></th>\n",
       "      <th>Year</th>\n",
       "      <th>Period</th>\n",
       "      <th>countries</th>\n",
       "      <th>Document Type</th>\n",
       "    </tr>\n",
       "  </thead>\n",
       "  <tbody>\n",
       "    <tr>\n",
       "      <th>0</th>\n",
       "      <td>2023</td>\n",
       "      <td>2014 - 2023</td>\n",
       "      <td>United States</td>\n",
       "      <td>Article</td>\n",
       "    </tr>\n",
       "    <tr>\n",
       "      <th>1</th>\n",
       "      <td>2023</td>\n",
       "      <td>2014 - 2023</td>\n",
       "      <td>France</td>\n",
       "      <td>Article</td>\n",
       "    </tr>\n",
       "    <tr>\n",
       "      <th>1</th>\n",
       "      <td>2023</td>\n",
       "      <td>2014 - 2023</td>\n",
       "      <td>Guadeloupe</td>\n",
       "      <td>Article</td>\n",
       "    </tr>\n",
       "    <tr>\n",
       "      <th>2</th>\n",
       "      <td>2023</td>\n",
       "      <td>2014 - 2023</td>\n",
       "      <td>United States</td>\n",
       "      <td>Article</td>\n",
       "    </tr>\n",
       "    <tr>\n",
       "      <th>3</th>\n",
       "      <td>2023</td>\n",
       "      <td>2014 - 2023</td>\n",
       "      <td>South Korea</td>\n",
       "      <td>Review</td>\n",
       "    </tr>\n",
       "    <tr>\n",
       "      <th>...</th>\n",
       "      <td>...</td>\n",
       "      <td>...</td>\n",
       "      <td>...</td>\n",
       "      <td>...</td>\n",
       "    </tr>\n",
       "    <tr>\n",
       "      <th>794</th>\n",
       "      <td>1964</td>\n",
       "      <td>1964 - 1973</td>\n",
       "      <td></td>\n",
       "      <td>Article</td>\n",
       "    </tr>\n",
       "    <tr>\n",
       "      <th>795</th>\n",
       "      <td>1963</td>\n",
       "      <td>1954 - 1963</td>\n",
       "      <td></td>\n",
       "      <td>Review</td>\n",
       "    </tr>\n",
       "    <tr>\n",
       "      <th>796</th>\n",
       "      <td>1960</td>\n",
       "      <td>1954 - 1963</td>\n",
       "      <td></td>\n",
       "      <td>Article</td>\n",
       "    </tr>\n",
       "    <tr>\n",
       "      <th>797</th>\n",
       "      <td>1958</td>\n",
       "      <td>1954 - 1963</td>\n",
       "      <td></td>\n",
       "      <td>Article</td>\n",
       "    </tr>\n",
       "    <tr>\n",
       "      <th>798</th>\n",
       "      <td>1954</td>\n",
       "      <td>1954 - 1963</td>\n",
       "      <td>United States</td>\n",
       "      <td>Article</td>\n",
       "    </tr>\n",
       "  </tbody>\n",
       "</table>\n",
       "<p>1000 rows × 4 columns</p>\n",
       "</div>"
      ],
      "text/plain": [
       "     Year       Period      countries Document Type\n",
       "0    2023  2014 - 2023  United States       Article\n",
       "1    2023  2014 - 2023         France       Article\n",
       "1    2023  2014 - 2023     Guadeloupe       Article\n",
       "2    2023  2014 - 2023  United States       Article\n",
       "3    2023  2014 - 2023    South Korea        Review\n",
       "..    ...          ...            ...           ...\n",
       "794  1964  1964 - 1973                      Article\n",
       "795  1963  1954 - 1963                       Review\n",
       "796  1960  1954 - 1963                      Article\n",
       "797  1958  1954 - 1963                      Article\n",
       "798  1954  1954 - 1963  United States       Article\n",
       "\n",
       "[1000 rows x 4 columns]"
      ]
     },
     "execution_count": 41,
     "metadata": {},
     "output_type": "execute_result"
    }
   ],
   "source": [
    "df2 = df.explode('countries')\n",
    "df2"
   ]
  },
  {
   "cell_type": "code",
   "execution_count": 53,
   "metadata": {},
   "outputs": [
    {
     "data": {
      "text/plain": [
       "Year             0\n",
       "Period           0\n",
       "countries        0\n",
       "Document Type    1\n",
       "dtype: int64"
      ]
     },
     "execution_count": 53,
     "metadata": {},
     "output_type": "execute_result"
    }
   ],
   "source": [
    "df2 = df2[df2['countries']!='']\n",
    "df2.isnull().sum()"
   ]
  },
  {
   "cell_type": "code",
   "execution_count": 54,
   "metadata": {},
   "outputs": [],
   "source": [
    "df2= df2.dropna()"
   ]
  },
  {
   "cell_type": "code",
   "execution_count": 57,
   "metadata": {},
   "outputs": [
    {
     "data": {
      "text/html": [
       "<div>\n",
       "<style scoped>\n",
       "    .dataframe tbody tr th:only-of-type {\n",
       "        vertical-align: middle;\n",
       "    }\n",
       "\n",
       "    .dataframe tbody tr th {\n",
       "        vertical-align: top;\n",
       "    }\n",
       "\n",
       "    .dataframe thead th {\n",
       "        text-align: right;\n",
       "    }\n",
       "</style>\n",
       "<table border=\"1\" class=\"dataframe\">\n",
       "  <thead>\n",
       "    <tr style=\"text-align: right;\">\n",
       "      <th></th>\n",
       "      <th>Year</th>\n",
       "      <th>Period</th>\n",
       "      <th>countries</th>\n",
       "      <th>Document Type</th>\n",
       "    </tr>\n",
       "  </thead>\n",
       "  <tbody>\n",
       "    <tr>\n",
       "      <th>0</th>\n",
       "      <td>2023</td>\n",
       "      <td>2014 - 2023</td>\n",
       "      <td>United States</td>\n",
       "      <td>Article</td>\n",
       "    </tr>\n",
       "    <tr>\n",
       "      <th>1</th>\n",
       "      <td>2023</td>\n",
       "      <td>2014 - 2023</td>\n",
       "      <td>France</td>\n",
       "      <td>Article</td>\n",
       "    </tr>\n",
       "    <tr>\n",
       "      <th>1</th>\n",
       "      <td>2023</td>\n",
       "      <td>2014 - 2023</td>\n",
       "      <td>Guadeloupe</td>\n",
       "      <td>Article</td>\n",
       "    </tr>\n",
       "    <tr>\n",
       "      <th>2</th>\n",
       "      <td>2023</td>\n",
       "      <td>2014 - 2023</td>\n",
       "      <td>United States</td>\n",
       "      <td>Article</td>\n",
       "    </tr>\n",
       "    <tr>\n",
       "      <th>3</th>\n",
       "      <td>2023</td>\n",
       "      <td>2014 - 2023</td>\n",
       "      <td>South Korea</td>\n",
       "      <td>Review</td>\n",
       "    </tr>\n",
       "    <tr>\n",
       "      <th>...</th>\n",
       "      <td>...</td>\n",
       "      <td>...</td>\n",
       "      <td>...</td>\n",
       "      <td>...</td>\n",
       "    </tr>\n",
       "    <tr>\n",
       "      <th>785</th>\n",
       "      <td>1971</td>\n",
       "      <td>1964 - 1973</td>\n",
       "      <td>United States</td>\n",
       "      <td>Article</td>\n",
       "    </tr>\n",
       "    <tr>\n",
       "      <th>786</th>\n",
       "      <td>1971</td>\n",
       "      <td>1964 - 1973</td>\n",
       "      <td>United States</td>\n",
       "      <td>Article</td>\n",
       "    </tr>\n",
       "    <tr>\n",
       "      <th>789</th>\n",
       "      <td>1969</td>\n",
       "      <td>1964 - 1973</td>\n",
       "      <td>United States</td>\n",
       "      <td>Article</td>\n",
       "    </tr>\n",
       "    <tr>\n",
       "      <th>791</th>\n",
       "      <td>1967</td>\n",
       "      <td>1964 - 1973</td>\n",
       "      <td>United States</td>\n",
       "      <td>Article</td>\n",
       "    </tr>\n",
       "    <tr>\n",
       "      <th>798</th>\n",
       "      <td>1954</td>\n",
       "      <td>1954 - 1963</td>\n",
       "      <td>United States</td>\n",
       "      <td>Article</td>\n",
       "    </tr>\n",
       "  </tbody>\n",
       "</table>\n",
       "<p>951 rows × 4 columns</p>\n",
       "</div>"
      ],
      "text/plain": [
       "     Year       Period      countries Document Type\n",
       "0    2023  2014 - 2023  United States       Article\n",
       "1    2023  2014 - 2023         France       Article\n",
       "1    2023  2014 - 2023     Guadeloupe       Article\n",
       "2    2023  2014 - 2023  United States       Article\n",
       "3    2023  2014 - 2023    South Korea        Review\n",
       "..    ...          ...            ...           ...\n",
       "785  1971  1964 - 1973  United States       Article\n",
       "786  1971  1964 - 1973  United States       Article\n",
       "789  1969  1964 - 1973  United States       Article\n",
       "791  1967  1964 - 1973  United States       Article\n",
       "798  1954  1954 - 1963  United States       Article\n",
       "\n",
       "[951 rows x 4 columns]"
      ]
     },
     "execution_count": 57,
     "metadata": {},
     "output_type": "execute_result"
    }
   ],
   "source": [
    "country_pub_count_df = df2\n",
    "country_pub_count_df"
   ]
  },
  {
   "cell_type": "code",
   "execution_count": 58,
   "metadata": {},
   "outputs": [
    {
     "data": {
      "text/plain": [
       "countries\n",
       "  Canada                  8\n",
       "  Denmark                 1\n",
       "  France                  6\n",
       "  Germany                 2\n",
       "  Ghana                   4\n",
       "                       ... \n",
       "Turkey                    8\n",
       "Uganda                    1\n",
       "United Arab Emirates      2\n",
       "United Kingdom           61\n",
       "United States           327\n",
       "Name: countries, Length: 99, dtype: int64"
      ]
     },
     "execution_count": 58,
     "metadata": {},
     "output_type": "execute_result"
    }
   ],
   "source": [
    "df2.groupby('countries')['countries'].count()"
   ]
  },
  {
   "cell_type": "code",
   "execution_count": 66,
   "metadata": {},
   "outputs": [
    {
     "data": {
      "application/vnd.plotly.v1+json": {
       "config": {
        "plotlyServerURL": "https://plot.ly"
       },
       "data": [
        {
         "alignmentgroup": "True",
         "hovertemplate": "Document Type=Article<br>Year=%{x}<br>counts=%{y}<extra></extra>",
         "legendgroup": "Article",
         "marker": {
          "color": "#636efa",
          "pattern": {
           "shape": ""
          }
         },
         "name": "Article",
         "offsetgroup": "Article",
         "orientation": "v",
         "showlegend": true,
         "textposition": "auto",
         "type": "bar",
         "x": [
          1972,
          1974,
          1976,
          1977,
          1979,
          1982,
          1984,
          1986,
          1987,
          1990,
          1993,
          1994,
          1995,
          1996,
          2001,
          2005,
          2009,
          2012,
          2013,
          2015,
          2016,
          2017,
          2018,
          2019,
          2020,
          2021,
          2023
         ],
         "xaxis": "x",
         "y": [
          3,
          1,
          1,
          1,
          1,
          1,
          1,
          3,
          1,
          1,
          1,
          3,
          1,
          2,
          1,
          2,
          1,
          1,
          1,
          1,
          1,
          2,
          3,
          3,
          1,
          3,
          1
         ],
         "yaxis": "y"
        },
        {
         "alignmentgroup": "True",
         "hovertemplate": "Document Type=Letter<br>Year=%{x}<br>counts=%{y}<extra></extra>",
         "legendgroup": "Letter",
         "marker": {
          "color": "#EF553B",
          "pattern": {
           "shape": ""
          }
         },
         "name": "Letter",
         "offsetgroup": "Letter",
         "orientation": "v",
         "showlegend": true,
         "textposition": "auto",
         "type": "bar",
         "x": [
          1997,
          2002,
          2023
         ],
         "xaxis": "x",
         "y": [
          1,
          1,
          1
         ],
         "yaxis": "y"
        },
        {
         "alignmentgroup": "True",
         "hovertemplate": "Document Type=Editorial<br>Year=%{x}<br>counts=%{y}<extra></extra>",
         "legendgroup": "Editorial",
         "marker": {
          "color": "#00cc96",
          "pattern": {
           "shape": ""
          }
         },
         "name": "Editorial",
         "offsetgroup": "Editorial",
         "orientation": "v",
         "showlegend": true,
         "textposition": "auto",
         "type": "bar",
         "x": [
          2001,
          2015,
          2022
         ],
         "xaxis": "x",
         "y": [
          1,
          1,
          1
         ],
         "yaxis": "y"
        },
        {
         "alignmentgroup": "True",
         "hovertemplate": "Document Type=Review<br>Year=%{x}<br>counts=%{y}<extra></extra>",
         "legendgroup": "Review",
         "marker": {
          "color": "#ab63fa",
          "pattern": {
           "shape": ""
          }
         },
         "name": "Review",
         "offsetgroup": "Review",
         "orientation": "v",
         "showlegend": true,
         "textposition": "auto",
         "type": "bar",
         "x": [
          2001,
          2006,
          2007,
          2011,
          2018
         ],
         "xaxis": "x",
         "y": [
          1,
          1,
          1,
          1,
          1
         ],
         "yaxis": "y"
        },
        {
         "alignmentgroup": "True",
         "hovertemplate": "Document Type=Book Chapter<br>Year=%{x}<br>counts=%{y}<extra></extra>",
         "legendgroup": "Book Chapter",
         "marker": {
          "color": "#FFA15A",
          "pattern": {
           "shape": ""
          }
         },
         "name": "Book Chapter",
         "offsetgroup": "Book Chapter",
         "orientation": "v",
         "showlegend": true,
         "textposition": "auto",
         "type": "bar",
         "x": [
          2007,
          2009,
          2016
         ],
         "xaxis": "x",
         "y": [
          1,
          1,
          1
         ],
         "yaxis": "y"
        },
        {
         "alignmentgroup": "True",
         "hovertemplate": "Document Type=Conference Paper<br>Year=%{x}<br>counts=%{y}<extra></extra>",
         "legendgroup": "Conference Paper",
         "marker": {
          "color": "#19d3f3",
          "pattern": {
           "shape": ""
          }
         },
         "name": "Conference Paper",
         "offsetgroup": "Conference Paper",
         "orientation": "v",
         "showlegend": true,
         "textposition": "auto",
         "type": "bar",
         "x": [
          2008
         ],
         "xaxis": "x",
         "y": [
          1
         ],
         "yaxis": "y"
        },
        {
         "alignmentgroup": "True",
         "hovertemplate": "Document Type=Book<br>Year=%{x}<br>counts=%{y}<extra></extra>",
         "legendgroup": "Book",
         "marker": {
          "color": "#FF6692",
          "pattern": {
           "shape": ""
          }
         },
         "name": "Book",
         "offsetgroup": "Book",
         "orientation": "v",
         "showlegend": true,
         "textposition": "auto",
         "type": "bar",
         "x": [
          2017
         ],
         "xaxis": "x",
         "y": [
          1
         ],
         "yaxis": "y"
        },
        {
         "alignmentgroup": "True",
         "hovertemplate": "Document Type=Note<br>Year=%{x}<br>counts=%{y}<extra></extra>",
         "legendgroup": "Note",
         "marker": {
          "color": "#B6E880",
          "pattern": {
           "shape": ""
          }
         },
         "name": "Note",
         "offsetgroup": "Note",
         "orientation": "v",
         "showlegend": true,
         "textposition": "auto",
         "type": "bar",
         "x": [
          2018,
          2021
         ],
         "xaxis": "x",
         "y": [
          1,
          1
         ],
         "yaxis": "y"
        },
        {
         "alignmentgroup": "True",
         "hovertemplate": "Document Type=Short Survey<br>Year=%{x}<br>counts=%{y}<extra></extra>",
         "legendgroup": "Short Survey",
         "marker": {
          "color": "#FF97FF",
          "pattern": {
           "shape": ""
          }
         },
         "name": "Short Survey",
         "offsetgroup": "Short Survey",
         "orientation": "v",
         "showlegend": true,
         "textposition": "auto",
         "type": "bar",
         "x": [
          2021
         ],
         "xaxis": "x",
         "y": [
          1
         ],
         "yaxis": "y"
        }
       ],
       "layout": {
        "barmode": "relative",
        "legend": {
         "title": {
          "text": "Document Type"
         },
         "tracegroupgap": 0
        },
        "margin": {
         "t": 60
        },
        "template": {
         "data": {
          "bar": [
           {
            "error_x": {
             "color": "#2a3f5f"
            },
            "error_y": {
             "color": "#2a3f5f"
            },
            "marker": {
             "line": {
              "color": "#E5ECF6",
              "width": 0.5
             },
             "pattern": {
              "fillmode": "overlay",
              "size": 10,
              "solidity": 0.2
             }
            },
            "type": "bar"
           }
          ],
          "barpolar": [
           {
            "marker": {
             "line": {
              "color": "#E5ECF6",
              "width": 0.5
             },
             "pattern": {
              "fillmode": "overlay",
              "size": 10,
              "solidity": 0.2
             }
            },
            "type": "barpolar"
           }
          ],
          "carpet": [
           {
            "aaxis": {
             "endlinecolor": "#2a3f5f",
             "gridcolor": "white",
             "linecolor": "white",
             "minorgridcolor": "white",
             "startlinecolor": "#2a3f5f"
            },
            "baxis": {
             "endlinecolor": "#2a3f5f",
             "gridcolor": "white",
             "linecolor": "white",
             "minorgridcolor": "white",
             "startlinecolor": "#2a3f5f"
            },
            "type": "carpet"
           }
          ],
          "choropleth": [
           {
            "colorbar": {
             "outlinewidth": 0,
             "ticks": ""
            },
            "type": "choropleth"
           }
          ],
          "contour": [
           {
            "colorbar": {
             "outlinewidth": 0,
             "ticks": ""
            },
            "colorscale": [
             [
              0,
              "#0d0887"
             ],
             [
              0.1111111111111111,
              "#46039f"
             ],
             [
              0.2222222222222222,
              "#7201a8"
             ],
             [
              0.3333333333333333,
              "#9c179e"
             ],
             [
              0.4444444444444444,
              "#bd3786"
             ],
             [
              0.5555555555555556,
              "#d8576b"
             ],
             [
              0.6666666666666666,
              "#ed7953"
             ],
             [
              0.7777777777777778,
              "#fb9f3a"
             ],
             [
              0.8888888888888888,
              "#fdca26"
             ],
             [
              1,
              "#f0f921"
             ]
            ],
            "type": "contour"
           }
          ],
          "contourcarpet": [
           {
            "colorbar": {
             "outlinewidth": 0,
             "ticks": ""
            },
            "type": "contourcarpet"
           }
          ],
          "heatmap": [
           {
            "colorbar": {
             "outlinewidth": 0,
             "ticks": ""
            },
            "colorscale": [
             [
              0,
              "#0d0887"
             ],
             [
              0.1111111111111111,
              "#46039f"
             ],
             [
              0.2222222222222222,
              "#7201a8"
             ],
             [
              0.3333333333333333,
              "#9c179e"
             ],
             [
              0.4444444444444444,
              "#bd3786"
             ],
             [
              0.5555555555555556,
              "#d8576b"
             ],
             [
              0.6666666666666666,
              "#ed7953"
             ],
             [
              0.7777777777777778,
              "#fb9f3a"
             ],
             [
              0.8888888888888888,
              "#fdca26"
             ],
             [
              1,
              "#f0f921"
             ]
            ],
            "type": "heatmap"
           }
          ],
          "heatmapgl": [
           {
            "colorbar": {
             "outlinewidth": 0,
             "ticks": ""
            },
            "colorscale": [
             [
              0,
              "#0d0887"
             ],
             [
              0.1111111111111111,
              "#46039f"
             ],
             [
              0.2222222222222222,
              "#7201a8"
             ],
             [
              0.3333333333333333,
              "#9c179e"
             ],
             [
              0.4444444444444444,
              "#bd3786"
             ],
             [
              0.5555555555555556,
              "#d8576b"
             ],
             [
              0.6666666666666666,
              "#ed7953"
             ],
             [
              0.7777777777777778,
              "#fb9f3a"
             ],
             [
              0.8888888888888888,
              "#fdca26"
             ],
             [
              1,
              "#f0f921"
             ]
            ],
            "type": "heatmapgl"
           }
          ],
          "histogram": [
           {
            "marker": {
             "pattern": {
              "fillmode": "overlay",
              "size": 10,
              "solidity": 0.2
             }
            },
            "type": "histogram"
           }
          ],
          "histogram2d": [
           {
            "colorbar": {
             "outlinewidth": 0,
             "ticks": ""
            },
            "colorscale": [
             [
              0,
              "#0d0887"
             ],
             [
              0.1111111111111111,
              "#46039f"
             ],
             [
              0.2222222222222222,
              "#7201a8"
             ],
             [
              0.3333333333333333,
              "#9c179e"
             ],
             [
              0.4444444444444444,
              "#bd3786"
             ],
             [
              0.5555555555555556,
              "#d8576b"
             ],
             [
              0.6666666666666666,
              "#ed7953"
             ],
             [
              0.7777777777777778,
              "#fb9f3a"
             ],
             [
              0.8888888888888888,
              "#fdca26"
             ],
             [
              1,
              "#f0f921"
             ]
            ],
            "type": "histogram2d"
           }
          ],
          "histogram2dcontour": [
           {
            "colorbar": {
             "outlinewidth": 0,
             "ticks": ""
            },
            "colorscale": [
             [
              0,
              "#0d0887"
             ],
             [
              0.1111111111111111,
              "#46039f"
             ],
             [
              0.2222222222222222,
              "#7201a8"
             ],
             [
              0.3333333333333333,
              "#9c179e"
             ],
             [
              0.4444444444444444,
              "#bd3786"
             ],
             [
              0.5555555555555556,
              "#d8576b"
             ],
             [
              0.6666666666666666,
              "#ed7953"
             ],
             [
              0.7777777777777778,
              "#fb9f3a"
             ],
             [
              0.8888888888888888,
              "#fdca26"
             ],
             [
              1,
              "#f0f921"
             ]
            ],
            "type": "histogram2dcontour"
           }
          ],
          "mesh3d": [
           {
            "colorbar": {
             "outlinewidth": 0,
             "ticks": ""
            },
            "type": "mesh3d"
           }
          ],
          "parcoords": [
           {
            "line": {
             "colorbar": {
              "outlinewidth": 0,
              "ticks": ""
             }
            },
            "type": "parcoords"
           }
          ],
          "pie": [
           {
            "automargin": true,
            "type": "pie"
           }
          ],
          "scatter": [
           {
            "fillpattern": {
             "fillmode": "overlay",
             "size": 10,
             "solidity": 0.2
            },
            "type": "scatter"
           }
          ],
          "scatter3d": [
           {
            "line": {
             "colorbar": {
              "outlinewidth": 0,
              "ticks": ""
             }
            },
            "marker": {
             "colorbar": {
              "outlinewidth": 0,
              "ticks": ""
             }
            },
            "type": "scatter3d"
           }
          ],
          "scattercarpet": [
           {
            "marker": {
             "colorbar": {
              "outlinewidth": 0,
              "ticks": ""
             }
            },
            "type": "scattercarpet"
           }
          ],
          "scattergeo": [
           {
            "marker": {
             "colorbar": {
              "outlinewidth": 0,
              "ticks": ""
             }
            },
            "type": "scattergeo"
           }
          ],
          "scattergl": [
           {
            "marker": {
             "colorbar": {
              "outlinewidth": 0,
              "ticks": ""
             }
            },
            "type": "scattergl"
           }
          ],
          "scattermapbox": [
           {
            "marker": {
             "colorbar": {
              "outlinewidth": 0,
              "ticks": ""
             }
            },
            "type": "scattermapbox"
           }
          ],
          "scatterpolar": [
           {
            "marker": {
             "colorbar": {
              "outlinewidth": 0,
              "ticks": ""
             }
            },
            "type": "scatterpolar"
           }
          ],
          "scatterpolargl": [
           {
            "marker": {
             "colorbar": {
              "outlinewidth": 0,
              "ticks": ""
             }
            },
            "type": "scatterpolargl"
           }
          ],
          "scatterternary": [
           {
            "marker": {
             "colorbar": {
              "outlinewidth": 0,
              "ticks": ""
             }
            },
            "type": "scatterternary"
           }
          ],
          "surface": [
           {
            "colorbar": {
             "outlinewidth": 0,
             "ticks": ""
            },
            "colorscale": [
             [
              0,
              "#0d0887"
             ],
             [
              0.1111111111111111,
              "#46039f"
             ],
             [
              0.2222222222222222,
              "#7201a8"
             ],
             [
              0.3333333333333333,
              "#9c179e"
             ],
             [
              0.4444444444444444,
              "#bd3786"
             ],
             [
              0.5555555555555556,
              "#d8576b"
             ],
             [
              0.6666666666666666,
              "#ed7953"
             ],
             [
              0.7777777777777778,
              "#fb9f3a"
             ],
             [
              0.8888888888888888,
              "#fdca26"
             ],
             [
              1,
              "#f0f921"
             ]
            ],
            "type": "surface"
           }
          ],
          "table": [
           {
            "cells": {
             "fill": {
              "color": "#EBF0F8"
             },
             "line": {
              "color": "white"
             }
            },
            "header": {
             "fill": {
              "color": "#C8D4E3"
             },
             "line": {
              "color": "white"
             }
            },
            "type": "table"
           }
          ]
         },
         "layout": {
          "annotationdefaults": {
           "arrowcolor": "#2a3f5f",
           "arrowhead": 0,
           "arrowwidth": 1
          },
          "autotypenumbers": "strict",
          "coloraxis": {
           "colorbar": {
            "outlinewidth": 0,
            "ticks": ""
           }
          },
          "colorscale": {
           "diverging": [
            [
             0,
             "#8e0152"
            ],
            [
             0.1,
             "#c51b7d"
            ],
            [
             0.2,
             "#de77ae"
            ],
            [
             0.3,
             "#f1b6da"
            ],
            [
             0.4,
             "#fde0ef"
            ],
            [
             0.5,
             "#f7f7f7"
            ],
            [
             0.6,
             "#e6f5d0"
            ],
            [
             0.7,
             "#b8e186"
            ],
            [
             0.8,
             "#7fbc41"
            ],
            [
             0.9,
             "#4d9221"
            ],
            [
             1,
             "#276419"
            ]
           ],
           "sequential": [
            [
             0,
             "#0d0887"
            ],
            [
             0.1111111111111111,
             "#46039f"
            ],
            [
             0.2222222222222222,
             "#7201a8"
            ],
            [
             0.3333333333333333,
             "#9c179e"
            ],
            [
             0.4444444444444444,
             "#bd3786"
            ],
            [
             0.5555555555555556,
             "#d8576b"
            ],
            [
             0.6666666666666666,
             "#ed7953"
            ],
            [
             0.7777777777777778,
             "#fb9f3a"
            ],
            [
             0.8888888888888888,
             "#fdca26"
            ],
            [
             1,
             "#f0f921"
            ]
           ],
           "sequentialminus": [
            [
             0,
             "#0d0887"
            ],
            [
             0.1111111111111111,
             "#46039f"
            ],
            [
             0.2222222222222222,
             "#7201a8"
            ],
            [
             0.3333333333333333,
             "#9c179e"
            ],
            [
             0.4444444444444444,
             "#bd3786"
            ],
            [
             0.5555555555555556,
             "#d8576b"
            ],
            [
             0.6666666666666666,
             "#ed7953"
            ],
            [
             0.7777777777777778,
             "#fb9f3a"
            ],
            [
             0.8888888888888888,
             "#fdca26"
            ],
            [
             1,
             "#f0f921"
            ]
           ]
          },
          "colorway": [
           "#636efa",
           "#EF553B",
           "#00cc96",
           "#ab63fa",
           "#FFA15A",
           "#19d3f3",
           "#FF6692",
           "#B6E880",
           "#FF97FF",
           "#FECB52"
          ],
          "font": {
           "color": "#2a3f5f"
          },
          "geo": {
           "bgcolor": "white",
           "lakecolor": "white",
           "landcolor": "#E5ECF6",
           "showlakes": true,
           "showland": true,
           "subunitcolor": "white"
          },
          "hoverlabel": {
           "align": "left"
          },
          "hovermode": "closest",
          "mapbox": {
           "style": "light"
          },
          "paper_bgcolor": "white",
          "plot_bgcolor": "#E5ECF6",
          "polar": {
           "angularaxis": {
            "gridcolor": "white",
            "linecolor": "white",
            "ticks": ""
           },
           "bgcolor": "#E5ECF6",
           "radialaxis": {
            "gridcolor": "white",
            "linecolor": "white",
            "ticks": ""
           }
          },
          "scene": {
           "xaxis": {
            "backgroundcolor": "#E5ECF6",
            "gridcolor": "white",
            "gridwidth": 2,
            "linecolor": "white",
            "showbackground": true,
            "ticks": "",
            "zerolinecolor": "white"
           },
           "yaxis": {
            "backgroundcolor": "#E5ECF6",
            "gridcolor": "white",
            "gridwidth": 2,
            "linecolor": "white",
            "showbackground": true,
            "ticks": "",
            "zerolinecolor": "white"
           },
           "zaxis": {
            "backgroundcolor": "#E5ECF6",
            "gridcolor": "white",
            "gridwidth": 2,
            "linecolor": "white",
            "showbackground": true,
            "ticks": "",
            "zerolinecolor": "white"
           }
          },
          "shapedefaults": {
           "line": {
            "color": "#2a3f5f"
           }
          },
          "ternary": {
           "aaxis": {
            "gridcolor": "white",
            "linecolor": "white",
            "ticks": ""
           },
           "baxis": {
            "gridcolor": "white",
            "linecolor": "white",
            "ticks": ""
           },
           "bgcolor": "#E5ECF6",
           "caxis": {
            "gridcolor": "white",
            "linecolor": "white",
            "ticks": ""
           }
          },
          "title": {
           "x": 0.05
          },
          "xaxis": {
           "automargin": true,
           "gridcolor": "white",
           "linecolor": "white",
           "ticks": "",
           "title": {
            "standoff": 15
           },
           "zerolinecolor": "white",
           "zerolinewidth": 2
          },
          "yaxis": {
           "automargin": true,
           "gridcolor": "white",
           "linecolor": "white",
           "ticks": "",
           "title": {
            "standoff": 15
           },
           "zerolinecolor": "white",
           "zerolinewidth": 2
          }
         }
        },
        "xaxis": {
         "anchor": "y",
         "domain": [
          0,
          1
         ],
         "title": {
          "text": "Year"
         }
        },
        "yaxis": {
         "anchor": "x",
         "domain": [
          0,
          1
         ],
         "title": {
          "text": "counts"
         }
        }
       }
      }
     },
     "metadata": {},
     "output_type": "display_data"
    }
   ],
   "source": [
    "plot_df = df2[df2['countries']=='United Kingdom'].groupby(['Year','Document Type'])['Year'].count().reset_index(name='counts')\n",
    "fig = px.bar(plot_df, x='Year', y='counts', color='Document Type')\n",
    "fig.show()\n",
    "\n"
   ]
  },
  {
   "cell_type": "code",
   "execution_count": 67,
   "metadata": {},
   "outputs": [],
   "source": [
    "country_pub_count_df.to_csv('../data/processed/publication_count.csv')"
   ]
  },
  {
   "attachments": {},
   "cell_type": "markdown",
   "metadata": {},
   "source": [
    "# Citation counts"
   ]
  },
  {
   "cell_type": "code",
   "execution_count": 110,
   "metadata": {},
   "outputs": [
    {
     "data": {
      "text/html": [
       "<div>\n",
       "<style scoped>\n",
       "    .dataframe tbody tr th:only-of-type {\n",
       "        vertical-align: middle;\n",
       "    }\n",
       "\n",
       "    .dataframe tbody tr th {\n",
       "        vertical-align: top;\n",
       "    }\n",
       "\n",
       "    .dataframe thead th {\n",
       "        text-align: right;\n",
       "    }\n",
       "</style>\n",
       "<table border=\"1\" class=\"dataframe\">\n",
       "  <thead>\n",
       "    <tr style=\"text-align: right;\">\n",
       "      <th></th>\n",
       "      <th>Year</th>\n",
       "      <th>Period</th>\n",
       "      <th>countries</th>\n",
       "      <th>Document Type</th>\n",
       "      <th>Cited by</th>\n",
       "    </tr>\n",
       "  </thead>\n",
       "  <tbody>\n",
       "    <tr>\n",
       "      <th>0</th>\n",
       "      <td>2023</td>\n",
       "      <td>2014 - 2023</td>\n",
       "      <td>['United States']</td>\n",
       "      <td>Article</td>\n",
       "      <td>0.0</td>\n",
       "    </tr>\n",
       "    <tr>\n",
       "      <th>1</th>\n",
       "      <td>2023</td>\n",
       "      <td>2014 - 2023</td>\n",
       "      <td>['France', ' Guadeloupe']</td>\n",
       "      <td>Article</td>\n",
       "      <td>0.0</td>\n",
       "    </tr>\n",
       "    <tr>\n",
       "      <th>2</th>\n",
       "      <td>2023</td>\n",
       "      <td>2014 - 2023</td>\n",
       "      <td>['United States']</td>\n",
       "      <td>Article</td>\n",
       "      <td>0.0</td>\n",
       "    </tr>\n",
       "    <tr>\n",
       "      <th>3</th>\n",
       "      <td>2023</td>\n",
       "      <td>2014 - 2023</td>\n",
       "      <td>['South Korea']</td>\n",
       "      <td>Review</td>\n",
       "      <td>0.0</td>\n",
       "    </tr>\n",
       "    <tr>\n",
       "      <th>4</th>\n",
       "      <td>2023</td>\n",
       "      <td>2014 - 2023</td>\n",
       "      <td>['United Kingdom']</td>\n",
       "      <td>Letter</td>\n",
       "      <td>0.0</td>\n",
       "    </tr>\n",
       "  </tbody>\n",
       "</table>\n",
       "</div>"
      ],
      "text/plain": [
       "   Year       Period                  countries Document Type  Cited by\n",
       "0  2023  2014 - 2023          ['United States']       Article       0.0\n",
       "1  2023  2014 - 2023  ['France', ' Guadeloupe']       Article       0.0\n",
       "2  2023  2014 - 2023          ['United States']       Article       0.0\n",
       "3  2023  2014 - 2023            ['South Korea']        Review       0.0\n",
       "4  2023  2014 - 2023         ['United Kingdom']        Letter       0.0"
      ]
     },
     "execution_count": 110,
     "metadata": {},
     "output_type": "execute_result"
    }
   ],
   "source": [
    "cols = ['Year','Period','countries','Document Type','Cited by']\n",
    "citation_count_df = data[cols]\n",
    "citation_count_df.head()"
   ]
  },
  {
   "cell_type": "code",
   "execution_count": 111,
   "metadata": {},
   "outputs": [],
   "source": [
    "citation_count_df = citation_count_df[citation_count_df['Cited by'] != 0]\n"
   ]
  },
  {
   "cell_type": "code",
   "execution_count": 112,
   "metadata": {},
   "outputs": [
    {
     "data": {
      "text/html": [
       "<div>\n",
       "<style scoped>\n",
       "    .dataframe tbody tr th:only-of-type {\n",
       "        vertical-align: middle;\n",
       "    }\n",
       "\n",
       "    .dataframe tbody tr th {\n",
       "        vertical-align: top;\n",
       "    }\n",
       "\n",
       "    .dataframe thead th {\n",
       "        text-align: right;\n",
       "    }\n",
       "</style>\n",
       "<table border=\"1\" class=\"dataframe\">\n",
       "  <thead>\n",
       "    <tr style=\"text-align: right;\">\n",
       "      <th></th>\n",
       "      <th>Year</th>\n",
       "      <th>Period</th>\n",
       "      <th>countries</th>\n",
       "      <th>Document Type</th>\n",
       "      <th>Cited by</th>\n",
       "    </tr>\n",
       "  </thead>\n",
       "  <tbody>\n",
       "    <tr>\n",
       "      <th>13</th>\n",
       "      <td>2023</td>\n",
       "      <td>2014 - 2023</td>\n",
       "      <td>Iran</td>\n",
       "      <td>Review</td>\n",
       "      <td>1.0</td>\n",
       "    </tr>\n",
       "    <tr>\n",
       "      <th>15</th>\n",
       "      <td>2022</td>\n",
       "      <td>2014 - 2023</td>\n",
       "      <td>Malaysia</td>\n",
       "      <td>Article</td>\n",
       "      <td>1.0</td>\n",
       "    </tr>\n",
       "    <tr>\n",
       "      <th>20</th>\n",
       "      <td>2022</td>\n",
       "      <td>2014 - 2023</td>\n",
       "      <td>Jordan,  Kuwait,  Qatar,  United States</td>\n",
       "      <td>Article</td>\n",
       "      <td>1.0</td>\n",
       "    </tr>\n",
       "    <tr>\n",
       "      <th>23</th>\n",
       "      <td>2022</td>\n",
       "      <td>2014 - 2023</td>\n",
       "      <td>France</td>\n",
       "      <td>Article</td>\n",
       "      <td>1.0</td>\n",
       "    </tr>\n",
       "    <tr>\n",
       "      <th>25</th>\n",
       "      <td>2022</td>\n",
       "      <td>2014 - 2023</td>\n",
       "      <td>Australia,  Germany,  Denmark,  Netherlands,  ...</td>\n",
       "      <td>Article</td>\n",
       "      <td>11.0</td>\n",
       "    </tr>\n",
       "  </tbody>\n",
       "</table>\n",
       "</div>"
      ],
      "text/plain": [
       "    Year       Period                                          countries  \\\n",
       "13  2023  2014 - 2023                                               Iran   \n",
       "15  2022  2014 - 2023                                           Malaysia   \n",
       "20  2022  2014 - 2023            Jordan,  Kuwait,  Qatar,  United States   \n",
       "23  2022  2014 - 2023                                             France   \n",
       "25  2022  2014 - 2023  Australia,  Germany,  Denmark,  Netherlands,  ...   \n",
       "\n",
       "   Document Type  Cited by  \n",
       "13        Review       1.0  \n",
       "15       Article       1.0  \n",
       "20       Article       1.0  \n",
       "23       Article       1.0  \n",
       "25       Article      11.0  "
      ]
     },
     "execution_count": 112,
     "metadata": {},
     "output_type": "execute_result"
    }
   ],
   "source": [
    "citation_count_df['countries'] = citation_count_df['countries'].str.replace(\"[\",'').str.replace(\"]\",'').str.replace(\"'\",'')\n",
    "citation_count_df.head()"
   ]
  },
  {
   "cell_type": "code",
   "execution_count": 113,
   "metadata": {},
   "outputs": [],
   "source": [
    "citation_count_df['countries'] = citation_count_df['countries'].str.split(',')\n"
   ]
  },
  {
   "cell_type": "code",
   "execution_count": 114,
   "metadata": {},
   "outputs": [
    {
     "data": {
      "text/html": [
       "<div>\n",
       "<style scoped>\n",
       "    .dataframe tbody tr th:only-of-type {\n",
       "        vertical-align: middle;\n",
       "    }\n",
       "\n",
       "    .dataframe tbody tr th {\n",
       "        vertical-align: top;\n",
       "    }\n",
       "\n",
       "    .dataframe thead th {\n",
       "        text-align: right;\n",
       "    }\n",
       "</style>\n",
       "<table border=\"1\" class=\"dataframe\">\n",
       "  <thead>\n",
       "    <tr style=\"text-align: right;\">\n",
       "      <th></th>\n",
       "      <th>Year</th>\n",
       "      <th>Period</th>\n",
       "      <th>countries</th>\n",
       "      <th>Document Type</th>\n",
       "      <th>Cited by</th>\n",
       "    </tr>\n",
       "  </thead>\n",
       "  <tbody>\n",
       "    <tr>\n",
       "      <th>13</th>\n",
       "      <td>2023</td>\n",
       "      <td>2014 - 2023</td>\n",
       "      <td>Iran</td>\n",
       "      <td>Review</td>\n",
       "      <td>1.0</td>\n",
       "    </tr>\n",
       "    <tr>\n",
       "      <th>15</th>\n",
       "      <td>2022</td>\n",
       "      <td>2014 - 2023</td>\n",
       "      <td>Malaysia</td>\n",
       "      <td>Article</td>\n",
       "      <td>1.0</td>\n",
       "    </tr>\n",
       "    <tr>\n",
       "      <th>20</th>\n",
       "      <td>2022</td>\n",
       "      <td>2014 - 2023</td>\n",
       "      <td>Jordan</td>\n",
       "      <td>Article</td>\n",
       "      <td>1.0</td>\n",
       "    </tr>\n",
       "    <tr>\n",
       "      <th>20</th>\n",
       "      <td>2022</td>\n",
       "      <td>2014 - 2023</td>\n",
       "      <td>Kuwait</td>\n",
       "      <td>Article</td>\n",
       "      <td>1.0</td>\n",
       "    </tr>\n",
       "    <tr>\n",
       "      <th>20</th>\n",
       "      <td>2022</td>\n",
       "      <td>2014 - 2023</td>\n",
       "      <td>Qatar</td>\n",
       "      <td>Article</td>\n",
       "      <td>1.0</td>\n",
       "    </tr>\n",
       "  </tbody>\n",
       "</table>\n",
       "</div>"
      ],
      "text/plain": [
       "    Year       Period countries Document Type  Cited by\n",
       "13  2023  2014 - 2023      Iran        Review       1.0\n",
       "15  2022  2014 - 2023  Malaysia       Article       1.0\n",
       "20  2022  2014 - 2023    Jordan       Article       1.0\n",
       "20  2022  2014 - 2023    Kuwait       Article       1.0\n",
       "20  2022  2014 - 2023     Qatar       Article       1.0"
      ]
     },
     "execution_count": 114,
     "metadata": {},
     "output_type": "execute_result"
    }
   ],
   "source": [
    "citation_count_df = citation_count_df.explode('countries')\n",
    "citation_count_df.head()"
   ]
  },
  {
   "cell_type": "code",
   "execution_count": 115,
   "metadata": {},
   "outputs": [
    {
     "data": {
      "text/plain": [
       "countries\n",
       "United States           350\n",
       "United Kingdom           63\n",
       "France                   52\n",
       "Brazil                   42\n",
       "Jamaica                  42\n",
       "                       ... \n",
       "Cameroon                  1\n",
       "United Arab Emirates      1\n",
       "Hong Kong                 1\n",
       "Poland                    1\n",
       "Monaco                    1\n",
       "Name: count, Length: 64, dtype: int64"
      ]
     },
     "execution_count": 115,
     "metadata": {},
     "output_type": "execute_result"
    }
   ],
   "source": [
    "citation_count_df['countries'] = citation_count_df['countries'].str.strip()\n",
    "citation_count_df['countries'].value_counts()"
   ]
  },
  {
   "cell_type": "code",
   "execution_count": 118,
   "metadata": {},
   "outputs": [
    {
     "data": {
      "text/html": [
       "<div>\n",
       "<style scoped>\n",
       "    .dataframe tbody tr th:only-of-type {\n",
       "        vertical-align: middle;\n",
       "    }\n",
       "\n",
       "    .dataframe tbody tr th {\n",
       "        vertical-align: top;\n",
       "    }\n",
       "\n",
       "    .dataframe thead th {\n",
       "        text-align: right;\n",
       "    }\n",
       "</style>\n",
       "<table border=\"1\" class=\"dataframe\">\n",
       "  <thead>\n",
       "    <tr style=\"text-align: right;\">\n",
       "      <th></th>\n",
       "      <th>Year</th>\n",
       "      <th>Period</th>\n",
       "      <th>countries</th>\n",
       "      <th>Document Type</th>\n",
       "      <th>Cited by</th>\n",
       "    </tr>\n",
       "  </thead>\n",
       "  <tbody>\n",
       "    <tr>\n",
       "      <th>13</th>\n",
       "      <td>2023</td>\n",
       "      <td>2014 - 2023</td>\n",
       "      <td>Iran</td>\n",
       "      <td>Review</td>\n",
       "      <td>1.0</td>\n",
       "    </tr>\n",
       "    <tr>\n",
       "      <th>15</th>\n",
       "      <td>2022</td>\n",
       "      <td>2014 - 2023</td>\n",
       "      <td>Malaysia</td>\n",
       "      <td>Article</td>\n",
       "      <td>1.0</td>\n",
       "    </tr>\n",
       "    <tr>\n",
       "      <th>20</th>\n",
       "      <td>2022</td>\n",
       "      <td>2014 - 2023</td>\n",
       "      <td>Jordan</td>\n",
       "      <td>Article</td>\n",
       "      <td>1.0</td>\n",
       "    </tr>\n",
       "    <tr>\n",
       "      <th>20</th>\n",
       "      <td>2022</td>\n",
       "      <td>2014 - 2023</td>\n",
       "      <td>Kuwait</td>\n",
       "      <td>Article</td>\n",
       "      <td>1.0</td>\n",
       "    </tr>\n",
       "    <tr>\n",
       "      <th>20</th>\n",
       "      <td>2022</td>\n",
       "      <td>2014 - 2023</td>\n",
       "      <td>Qatar</td>\n",
       "      <td>Article</td>\n",
       "      <td>1.0</td>\n",
       "    </tr>\n",
       "    <tr>\n",
       "      <th>...</th>\n",
       "      <td>...</td>\n",
       "      <td>...</td>\n",
       "      <td>...</td>\n",
       "      <td>...</td>\n",
       "      <td>...</td>\n",
       "    </tr>\n",
       "    <tr>\n",
       "      <th>785</th>\n",
       "      <td>1971</td>\n",
       "      <td>1964 - 1973</td>\n",
       "      <td>United States</td>\n",
       "      <td>Article</td>\n",
       "      <td>120.0</td>\n",
       "    </tr>\n",
       "    <tr>\n",
       "      <th>786</th>\n",
       "      <td>1971</td>\n",
       "      <td>1964 - 1973</td>\n",
       "      <td>United States</td>\n",
       "      <td>Article</td>\n",
       "      <td>203.0</td>\n",
       "    </tr>\n",
       "    <tr>\n",
       "      <th>789</th>\n",
       "      <td>1969</td>\n",
       "      <td>1964 - 1973</td>\n",
       "      <td>United States</td>\n",
       "      <td>Article</td>\n",
       "      <td>7.0</td>\n",
       "    </tr>\n",
       "    <tr>\n",
       "      <th>791</th>\n",
       "      <td>1967</td>\n",
       "      <td>1964 - 1973</td>\n",
       "      <td>United States</td>\n",
       "      <td>Article</td>\n",
       "      <td>5.0</td>\n",
       "    </tr>\n",
       "    <tr>\n",
       "      <th>798</th>\n",
       "      <td>1954</td>\n",
       "      <td>1954 - 1963</td>\n",
       "      <td>United States</td>\n",
       "      <td>Article</td>\n",
       "      <td>15.0</td>\n",
       "    </tr>\n",
       "  </tbody>\n",
       "</table>\n",
       "<p>801 rows × 5 columns</p>\n",
       "</div>"
      ],
      "text/plain": [
       "     Year       Period      countries Document Type  Cited by\n",
       "13   2023  2014 - 2023           Iran        Review       1.0\n",
       "15   2022  2014 - 2023       Malaysia       Article       1.0\n",
       "20   2022  2014 - 2023         Jordan       Article       1.0\n",
       "20   2022  2014 - 2023         Kuwait       Article       1.0\n",
       "20   2022  2014 - 2023          Qatar       Article       1.0\n",
       "..    ...          ...            ...           ...       ...\n",
       "785  1971  1964 - 1973  United States       Article     120.0\n",
       "786  1971  1964 - 1973  United States       Article     203.0\n",
       "789  1969  1964 - 1973  United States       Article       7.0\n",
       "791  1967  1964 - 1973  United States       Article       5.0\n",
       "798  1954  1954 - 1963  United States       Article      15.0\n",
       "\n",
       "[801 rows x 5 columns]"
      ]
     },
     "execution_count": 118,
     "metadata": {},
     "output_type": "execute_result"
    }
   ],
   "source": [
    "#dropping rows with empty countries\n",
    "citation_count_df = citation_count_df[citation_count_df['countries']!='']\n",
    "citation_count_df\n"
   ]
  },
  {
   "cell_type": "code",
   "execution_count": 122,
   "metadata": {},
   "outputs": [
    {
     "data": {
      "text/html": [
       "<div>\n",
       "<style scoped>\n",
       "    .dataframe tbody tr th:only-of-type {\n",
       "        vertical-align: middle;\n",
       "    }\n",
       "\n",
       "    .dataframe tbody tr th {\n",
       "        vertical-align: top;\n",
       "    }\n",
       "\n",
       "    .dataframe thead th {\n",
       "        text-align: right;\n",
       "    }\n",
       "</style>\n",
       "<table border=\"1\" class=\"dataframe\">\n",
       "  <thead>\n",
       "    <tr style=\"text-align: right;\">\n",
       "      <th></th>\n",
       "      <th>countries</th>\n",
       "      <th>Cited by</th>\n",
       "    </tr>\n",
       "  </thead>\n",
       "  <tbody>\n",
       "    <tr>\n",
       "      <th>0</th>\n",
       "      <td>\"Cote dIvoire\"</td>\n",
       "      <td>12.0</td>\n",
       "    </tr>\n",
       "    <tr>\n",
       "      <th>1</th>\n",
       "      <td>Argentina</td>\n",
       "      <td>25.0</td>\n",
       "    </tr>\n",
       "    <tr>\n",
       "      <th>2</th>\n",
       "      <td>Australia</td>\n",
       "      <td>56.0</td>\n",
       "    </tr>\n",
       "    <tr>\n",
       "      <th>3</th>\n",
       "      <td>Belgium</td>\n",
       "      <td>8.0</td>\n",
       "    </tr>\n",
       "    <tr>\n",
       "      <th>4</th>\n",
       "      <td>Benin</td>\n",
       "      <td>2.0</td>\n",
       "    </tr>\n",
       "    <tr>\n",
       "      <th>...</th>\n",
       "      <td>...</td>\n",
       "      <td>...</td>\n",
       "    </tr>\n",
       "    <tr>\n",
       "      <th>58</th>\n",
       "      <td>Turkey</td>\n",
       "      <td>87.0</td>\n",
       "    </tr>\n",
       "    <tr>\n",
       "      <th>59</th>\n",
       "      <td>United Arab Emirates</td>\n",
       "      <td>24.0</td>\n",
       "    </tr>\n",
       "    <tr>\n",
       "      <th>60</th>\n",
       "      <td>United Kingdom</td>\n",
       "      <td>1468.0</td>\n",
       "    </tr>\n",
       "    <tr>\n",
       "      <th>61</th>\n",
       "      <td>United States</td>\n",
       "      <td>12244.0</td>\n",
       "    </tr>\n",
       "    <tr>\n",
       "      <th>62</th>\n",
       "      <td>Zambia</td>\n",
       "      <td>3.0</td>\n",
       "    </tr>\n",
       "  </tbody>\n",
       "</table>\n",
       "<p>63 rows × 2 columns</p>\n",
       "</div>"
      ],
      "text/plain": [
       "               countries  Cited by\n",
       "0         \"Cote dIvoire\"      12.0\n",
       "1              Argentina      25.0\n",
       "2              Australia      56.0\n",
       "3                Belgium       8.0\n",
       "4                  Benin       2.0\n",
       "..                   ...       ...\n",
       "58                Turkey      87.0\n",
       "59  United Arab Emirates      24.0\n",
       "60        United Kingdom    1468.0\n",
       "61         United States   12244.0\n",
       "62                Zambia       3.0\n",
       "\n",
       "[63 rows x 2 columns]"
      ]
     },
     "execution_count": 122,
     "metadata": {},
     "output_type": "execute_result"
    }
   ],
   "source": [
    "citation_count_df.groupby(['countries'], as_index=False)['Cited by'].sum()"
   ]
  },
  {
   "cell_type": "code",
   "execution_count": 124,
   "metadata": {},
   "outputs": [
    {
     "data": {
      "application/vnd.plotly.v1+json": {
       "config": {
        "plotlyServerURL": "https://plot.ly"
       },
       "data": [
        {
         "alignmentgroup": "True",
         "hovertemplate": "countries=%{x}<br>Cited by=%{y}<extra></extra>",
         "legendgroup": "",
         "marker": {
          "color": "#636efa",
          "pattern": {
           "shape": ""
          }
         },
         "name": "",
         "offsetgroup": "",
         "orientation": "v",
         "showlegend": false,
         "textposition": "auto",
         "type": "bar",
         "x": [
          "\"Cote dIvoire\"",
          "Argentina",
          "Australia",
          "Belgium",
          "Benin",
          "Brazil",
          "Burkina Faso",
          "Cameroon",
          "Canada",
          "China",
          "Cuba",
          "Curaçao",
          "Denmark",
          "Egypt",
          "France",
          "Georgia",
          "Germany",
          "Ghana",
          "Greece",
          "Guadeloupe",
          "Hong Kong",
          "India",
          "Iran",
          "Ireland",
          "Israel",
          "Italy",
          "Jamaica",
          "Japan",
          "Jersey",
          "Jordan",
          "Kenya",
          "Kuwait",
          "Malawi",
          "Malaysia",
          "Mali",
          "Martinique",
          "Mexico",
          "Monaco",
          "Morocco",
          "Netherlands",
          "New Zealand",
          "Niger",
          "Nigeria",
          "Norway",
          "Oman",
          "Pakistan",
          "Poland",
          "Portugal",
          "Qatar",
          "Saudi Arabia",
          "Senegal",
          "Singapore",
          "South Africa",
          "Spain",
          "Sweden",
          "Switzerland",
          "Togo",
          "Trinidad and Tobago",
          "Turkey",
          "United Arab Emirates",
          "United Kingdom",
          "United States",
          "Zambia"
         ],
         "xaxis": "x",
         "y": [
          12,
          25,
          56,
          8,
          2,
          646,
          23,
          1,
          533,
          50,
          1,
          103,
          92,
          154,
          849,
          120,
          110,
          44,
          13,
          186,
          7,
          95,
          1,
          62,
          195,
          256,
          1221,
          73,
          35,
          20,
          31,
          8,
          16,
          46,
          23,
          28,
          77,
          7,
          5,
          270,
          1145,
          137,
          139,
          32,
          6,
          40,
          6,
          46,
          10,
          53,
          24,
          8,
          27,
          30,
          44,
          60,
          22,
          67,
          87,
          24,
          1468,
          12244,
          3
         ],
         "yaxis": "y"
        }
       ],
       "layout": {
        "barmode": "relative",
        "legend": {
         "tracegroupgap": 0
        },
        "margin": {
         "t": 60
        },
        "template": {
         "data": {
          "bar": [
           {
            "error_x": {
             "color": "#2a3f5f"
            },
            "error_y": {
             "color": "#2a3f5f"
            },
            "marker": {
             "line": {
              "color": "#E5ECF6",
              "width": 0.5
             },
             "pattern": {
              "fillmode": "overlay",
              "size": 10,
              "solidity": 0.2
             }
            },
            "type": "bar"
           }
          ],
          "barpolar": [
           {
            "marker": {
             "line": {
              "color": "#E5ECF6",
              "width": 0.5
             },
             "pattern": {
              "fillmode": "overlay",
              "size": 10,
              "solidity": 0.2
             }
            },
            "type": "barpolar"
           }
          ],
          "carpet": [
           {
            "aaxis": {
             "endlinecolor": "#2a3f5f",
             "gridcolor": "white",
             "linecolor": "white",
             "minorgridcolor": "white",
             "startlinecolor": "#2a3f5f"
            },
            "baxis": {
             "endlinecolor": "#2a3f5f",
             "gridcolor": "white",
             "linecolor": "white",
             "minorgridcolor": "white",
             "startlinecolor": "#2a3f5f"
            },
            "type": "carpet"
           }
          ],
          "choropleth": [
           {
            "colorbar": {
             "outlinewidth": 0,
             "ticks": ""
            },
            "type": "choropleth"
           }
          ],
          "contour": [
           {
            "colorbar": {
             "outlinewidth": 0,
             "ticks": ""
            },
            "colorscale": [
             [
              0,
              "#0d0887"
             ],
             [
              0.1111111111111111,
              "#46039f"
             ],
             [
              0.2222222222222222,
              "#7201a8"
             ],
             [
              0.3333333333333333,
              "#9c179e"
             ],
             [
              0.4444444444444444,
              "#bd3786"
             ],
             [
              0.5555555555555556,
              "#d8576b"
             ],
             [
              0.6666666666666666,
              "#ed7953"
             ],
             [
              0.7777777777777778,
              "#fb9f3a"
             ],
             [
              0.8888888888888888,
              "#fdca26"
             ],
             [
              1,
              "#f0f921"
             ]
            ],
            "type": "contour"
           }
          ],
          "contourcarpet": [
           {
            "colorbar": {
             "outlinewidth": 0,
             "ticks": ""
            },
            "type": "contourcarpet"
           }
          ],
          "heatmap": [
           {
            "colorbar": {
             "outlinewidth": 0,
             "ticks": ""
            },
            "colorscale": [
             [
              0,
              "#0d0887"
             ],
             [
              0.1111111111111111,
              "#46039f"
             ],
             [
              0.2222222222222222,
              "#7201a8"
             ],
             [
              0.3333333333333333,
              "#9c179e"
             ],
             [
              0.4444444444444444,
              "#bd3786"
             ],
             [
              0.5555555555555556,
              "#d8576b"
             ],
             [
              0.6666666666666666,
              "#ed7953"
             ],
             [
              0.7777777777777778,
              "#fb9f3a"
             ],
             [
              0.8888888888888888,
              "#fdca26"
             ],
             [
              1,
              "#f0f921"
             ]
            ],
            "type": "heatmap"
           }
          ],
          "heatmapgl": [
           {
            "colorbar": {
             "outlinewidth": 0,
             "ticks": ""
            },
            "colorscale": [
             [
              0,
              "#0d0887"
             ],
             [
              0.1111111111111111,
              "#46039f"
             ],
             [
              0.2222222222222222,
              "#7201a8"
             ],
             [
              0.3333333333333333,
              "#9c179e"
             ],
             [
              0.4444444444444444,
              "#bd3786"
             ],
             [
              0.5555555555555556,
              "#d8576b"
             ],
             [
              0.6666666666666666,
              "#ed7953"
             ],
             [
              0.7777777777777778,
              "#fb9f3a"
             ],
             [
              0.8888888888888888,
              "#fdca26"
             ],
             [
              1,
              "#f0f921"
             ]
            ],
            "type": "heatmapgl"
           }
          ],
          "histogram": [
           {
            "marker": {
             "pattern": {
              "fillmode": "overlay",
              "size": 10,
              "solidity": 0.2
             }
            },
            "type": "histogram"
           }
          ],
          "histogram2d": [
           {
            "colorbar": {
             "outlinewidth": 0,
             "ticks": ""
            },
            "colorscale": [
             [
              0,
              "#0d0887"
             ],
             [
              0.1111111111111111,
              "#46039f"
             ],
             [
              0.2222222222222222,
              "#7201a8"
             ],
             [
              0.3333333333333333,
              "#9c179e"
             ],
             [
              0.4444444444444444,
              "#bd3786"
             ],
             [
              0.5555555555555556,
              "#d8576b"
             ],
             [
              0.6666666666666666,
              "#ed7953"
             ],
             [
              0.7777777777777778,
              "#fb9f3a"
             ],
             [
              0.8888888888888888,
              "#fdca26"
             ],
             [
              1,
              "#f0f921"
             ]
            ],
            "type": "histogram2d"
           }
          ],
          "histogram2dcontour": [
           {
            "colorbar": {
             "outlinewidth": 0,
             "ticks": ""
            },
            "colorscale": [
             [
              0,
              "#0d0887"
             ],
             [
              0.1111111111111111,
              "#46039f"
             ],
             [
              0.2222222222222222,
              "#7201a8"
             ],
             [
              0.3333333333333333,
              "#9c179e"
             ],
             [
              0.4444444444444444,
              "#bd3786"
             ],
             [
              0.5555555555555556,
              "#d8576b"
             ],
             [
              0.6666666666666666,
              "#ed7953"
             ],
             [
              0.7777777777777778,
              "#fb9f3a"
             ],
             [
              0.8888888888888888,
              "#fdca26"
             ],
             [
              1,
              "#f0f921"
             ]
            ],
            "type": "histogram2dcontour"
           }
          ],
          "mesh3d": [
           {
            "colorbar": {
             "outlinewidth": 0,
             "ticks": ""
            },
            "type": "mesh3d"
           }
          ],
          "parcoords": [
           {
            "line": {
             "colorbar": {
              "outlinewidth": 0,
              "ticks": ""
             }
            },
            "type": "parcoords"
           }
          ],
          "pie": [
           {
            "automargin": true,
            "type": "pie"
           }
          ],
          "scatter": [
           {
            "fillpattern": {
             "fillmode": "overlay",
             "size": 10,
             "solidity": 0.2
            },
            "type": "scatter"
           }
          ],
          "scatter3d": [
           {
            "line": {
             "colorbar": {
              "outlinewidth": 0,
              "ticks": ""
             }
            },
            "marker": {
             "colorbar": {
              "outlinewidth": 0,
              "ticks": ""
             }
            },
            "type": "scatter3d"
           }
          ],
          "scattercarpet": [
           {
            "marker": {
             "colorbar": {
              "outlinewidth": 0,
              "ticks": ""
             }
            },
            "type": "scattercarpet"
           }
          ],
          "scattergeo": [
           {
            "marker": {
             "colorbar": {
              "outlinewidth": 0,
              "ticks": ""
             }
            },
            "type": "scattergeo"
           }
          ],
          "scattergl": [
           {
            "marker": {
             "colorbar": {
              "outlinewidth": 0,
              "ticks": ""
             }
            },
            "type": "scattergl"
           }
          ],
          "scattermapbox": [
           {
            "marker": {
             "colorbar": {
              "outlinewidth": 0,
              "ticks": ""
             }
            },
            "type": "scattermapbox"
           }
          ],
          "scatterpolar": [
           {
            "marker": {
             "colorbar": {
              "outlinewidth": 0,
              "ticks": ""
             }
            },
            "type": "scatterpolar"
           }
          ],
          "scatterpolargl": [
           {
            "marker": {
             "colorbar": {
              "outlinewidth": 0,
              "ticks": ""
             }
            },
            "type": "scatterpolargl"
           }
          ],
          "scatterternary": [
           {
            "marker": {
             "colorbar": {
              "outlinewidth": 0,
              "ticks": ""
             }
            },
            "type": "scatterternary"
           }
          ],
          "surface": [
           {
            "colorbar": {
             "outlinewidth": 0,
             "ticks": ""
            },
            "colorscale": [
             [
              0,
              "#0d0887"
             ],
             [
              0.1111111111111111,
              "#46039f"
             ],
             [
              0.2222222222222222,
              "#7201a8"
             ],
             [
              0.3333333333333333,
              "#9c179e"
             ],
             [
              0.4444444444444444,
              "#bd3786"
             ],
             [
              0.5555555555555556,
              "#d8576b"
             ],
             [
              0.6666666666666666,
              "#ed7953"
             ],
             [
              0.7777777777777778,
              "#fb9f3a"
             ],
             [
              0.8888888888888888,
              "#fdca26"
             ],
             [
              1,
              "#f0f921"
             ]
            ],
            "type": "surface"
           }
          ],
          "table": [
           {
            "cells": {
             "fill": {
              "color": "#EBF0F8"
             },
             "line": {
              "color": "white"
             }
            },
            "header": {
             "fill": {
              "color": "#C8D4E3"
             },
             "line": {
              "color": "white"
             }
            },
            "type": "table"
           }
          ]
         },
         "layout": {
          "annotationdefaults": {
           "arrowcolor": "#2a3f5f",
           "arrowhead": 0,
           "arrowwidth": 1
          },
          "autotypenumbers": "strict",
          "coloraxis": {
           "colorbar": {
            "outlinewidth": 0,
            "ticks": ""
           }
          },
          "colorscale": {
           "diverging": [
            [
             0,
             "#8e0152"
            ],
            [
             0.1,
             "#c51b7d"
            ],
            [
             0.2,
             "#de77ae"
            ],
            [
             0.3,
             "#f1b6da"
            ],
            [
             0.4,
             "#fde0ef"
            ],
            [
             0.5,
             "#f7f7f7"
            ],
            [
             0.6,
             "#e6f5d0"
            ],
            [
             0.7,
             "#b8e186"
            ],
            [
             0.8,
             "#7fbc41"
            ],
            [
             0.9,
             "#4d9221"
            ],
            [
             1,
             "#276419"
            ]
           ],
           "sequential": [
            [
             0,
             "#0d0887"
            ],
            [
             0.1111111111111111,
             "#46039f"
            ],
            [
             0.2222222222222222,
             "#7201a8"
            ],
            [
             0.3333333333333333,
             "#9c179e"
            ],
            [
             0.4444444444444444,
             "#bd3786"
            ],
            [
             0.5555555555555556,
             "#d8576b"
            ],
            [
             0.6666666666666666,
             "#ed7953"
            ],
            [
             0.7777777777777778,
             "#fb9f3a"
            ],
            [
             0.8888888888888888,
             "#fdca26"
            ],
            [
             1,
             "#f0f921"
            ]
           ],
           "sequentialminus": [
            [
             0,
             "#0d0887"
            ],
            [
             0.1111111111111111,
             "#46039f"
            ],
            [
             0.2222222222222222,
             "#7201a8"
            ],
            [
             0.3333333333333333,
             "#9c179e"
            ],
            [
             0.4444444444444444,
             "#bd3786"
            ],
            [
             0.5555555555555556,
             "#d8576b"
            ],
            [
             0.6666666666666666,
             "#ed7953"
            ],
            [
             0.7777777777777778,
             "#fb9f3a"
            ],
            [
             0.8888888888888888,
             "#fdca26"
            ],
            [
             1,
             "#f0f921"
            ]
           ]
          },
          "colorway": [
           "#636efa",
           "#EF553B",
           "#00cc96",
           "#ab63fa",
           "#FFA15A",
           "#19d3f3",
           "#FF6692",
           "#B6E880",
           "#FF97FF",
           "#FECB52"
          ],
          "font": {
           "color": "#2a3f5f"
          },
          "geo": {
           "bgcolor": "white",
           "lakecolor": "white",
           "landcolor": "#E5ECF6",
           "showlakes": true,
           "showland": true,
           "subunitcolor": "white"
          },
          "hoverlabel": {
           "align": "left"
          },
          "hovermode": "closest",
          "mapbox": {
           "style": "light"
          },
          "paper_bgcolor": "white",
          "plot_bgcolor": "#E5ECF6",
          "polar": {
           "angularaxis": {
            "gridcolor": "white",
            "linecolor": "white",
            "ticks": ""
           },
           "bgcolor": "#E5ECF6",
           "radialaxis": {
            "gridcolor": "white",
            "linecolor": "white",
            "ticks": ""
           }
          },
          "scene": {
           "xaxis": {
            "backgroundcolor": "#E5ECF6",
            "gridcolor": "white",
            "gridwidth": 2,
            "linecolor": "white",
            "showbackground": true,
            "ticks": "",
            "zerolinecolor": "white"
           },
           "yaxis": {
            "backgroundcolor": "#E5ECF6",
            "gridcolor": "white",
            "gridwidth": 2,
            "linecolor": "white",
            "showbackground": true,
            "ticks": "",
            "zerolinecolor": "white"
           },
           "zaxis": {
            "backgroundcolor": "#E5ECF6",
            "gridcolor": "white",
            "gridwidth": 2,
            "linecolor": "white",
            "showbackground": true,
            "ticks": "",
            "zerolinecolor": "white"
           }
          },
          "shapedefaults": {
           "line": {
            "color": "#2a3f5f"
           }
          },
          "ternary": {
           "aaxis": {
            "gridcolor": "white",
            "linecolor": "white",
            "ticks": ""
           },
           "baxis": {
            "gridcolor": "white",
            "linecolor": "white",
            "ticks": ""
           },
           "bgcolor": "#E5ECF6",
           "caxis": {
            "gridcolor": "white",
            "linecolor": "white",
            "ticks": ""
           }
          },
          "title": {
           "x": 0.05
          },
          "xaxis": {
           "automargin": true,
           "gridcolor": "white",
           "linecolor": "white",
           "ticks": "",
           "title": {
            "standoff": 15
           },
           "zerolinecolor": "white",
           "zerolinewidth": 2
          },
          "yaxis": {
           "automargin": true,
           "gridcolor": "white",
           "linecolor": "white",
           "ticks": "",
           "title": {
            "standoff": 15
           },
           "zerolinecolor": "white",
           "zerolinewidth": 2
          }
         }
        },
        "xaxis": {
         "anchor": "y",
         "domain": [
          0,
          1
         ],
         "title": {
          "text": "countries"
         }
        },
        "yaxis": {
         "anchor": "x",
         "domain": [
          0,
          1
         ],
         "title": {
          "text": "Cited by"
         }
        }
       }
      }
     },
     "metadata": {},
     "output_type": "display_data"
    }
   ],
   "source": [
    "graph_df = citation_count_df.groupby(['countries'], as_index=False)['Cited by'].sum()\n",
    "fig = px.bar(graph_df, x='countries', y='Cited by')\n",
    "fig.show()"
   ]
  },
  {
   "cell_type": "code",
   "execution_count": 393,
   "metadata": {},
   "outputs": [],
   "source": [
    "citation_df = citation_count_df.groupby(['countries'], as_index=False)['Cited by'].sum()\n",
    "citation_df.to_csv('../data/processed/citation_count.csv')"
   ]
  },
  {
   "attachments": {},
   "cell_type": "markdown",
   "metadata": {},
   "source": [
    "# Collaboration"
   ]
  },
  {
   "cell_type": "code",
   "execution_count": 377,
   "metadata": {},
   "outputs": [
    {
     "name": "stdout",
     "output_type": "stream",
     "text": [
      "Canada,  Jamaica,  Canada\n",
      "['Canada', '  Jamaica', '  Canada']\n",
      "['Canada', 'Hong Kong', 'Kuwait', 'Canada']\n"
     ]
    },
    {
     "name": "stderr",
     "output_type": "stream",
     "text": [
      "C:\\Users\\Sherrif\\AppData\\Local\\Temp\\ipykernel_17892\\1987561357.py:2: SettingWithCopyWarning:\n",
      "\n",
      "\n",
      "A value is trying to be set on a copy of a slice from a DataFrame.\n",
      "Try using .loc[row_indexer,col_indexer] = value instead\n",
      "\n",
      "See the caveats in the documentation: https://pandas.pydata.org/pandas-docs/stable/user_guide/indexing.html#returning-a-view-versus-a-copy\n",
      "\n",
      "C:\\Users\\Sherrif\\AppData\\Local\\Temp\\ipykernel_17892\\1987561357.py:3: SettingWithCopyWarning:\n",
      "\n",
      "\n",
      "A value is trying to be set on a copy of a slice from a DataFrame.\n",
      "Try using .loc[row_indexer,col_indexer] = value instead\n",
      "\n",
      "See the caveats in the documentation: https://pandas.pydata.org/pandas-docs/stable/user_guide/indexing.html#returning-a-view-versus-a-copy\n",
      "\n",
      "C:\\Users\\Sherrif\\AppData\\Local\\Temp\\ipykernel_17892\\1987561357.py:5: SettingWithCopyWarning:\n",
      "\n",
      "\n",
      "A value is trying to be set on a copy of a slice from a DataFrame.\n",
      "Try using .loc[row_indexer,col_indexer] = value instead\n",
      "\n",
      "See the caveats in the documentation: https://pandas.pydata.org/pandas-docs/stable/user_guide/indexing.html#returning-a-view-versus-a-copy\n",
      "\n",
      "C:\\Users\\Sherrif\\AppData\\Local\\Temp\\ipykernel_17892\\1987561357.py:14: SettingWithCopyWarning:\n",
      "\n",
      "\n",
      "A value is trying to be set on a copy of a slice from a DataFrame\n",
      "\n",
      "See the caveats in the documentation: https://pandas.pydata.org/pandas-docs/stable/user_guide/indexing.html#returning-a-view-versus-a-copy\n",
      "\n",
      "C:\\Users\\Sherrif\\AppData\\Local\\Temp\\ipykernel_17892\\1987561357.py:18: SettingWithCopyWarning:\n",
      "\n",
      "\n",
      "A value is trying to be set on a copy of a slice from a DataFrame.\n",
      "Try using .loc[row_indexer,col_indexer] = value instead\n",
      "\n",
      "See the caveats in the documentation: https://pandas.pydata.org/pandas-docs/stable/user_guide/indexing.html#returning-a-view-versus-a-copy\n",
      "\n",
      "C:\\Users\\Sherrif\\AppData\\Local\\Temp\\ipykernel_17892\\1987561357.py:22: SettingWithCopyWarning:\n",
      "\n",
      "\n",
      "A value is trying to be set on a copy of a slice from a DataFrame.\n",
      "Try using .loc[row_indexer,col_indexer] = value instead\n",
      "\n",
      "See the caveats in the documentation: https://pandas.pydata.org/pandas-docs/stable/user_guide/indexing.html#returning-a-view-versus-a-copy\n",
      "\n"
     ]
    }
   ],
   "source": [
    "colab_df = data[['countries']]\n",
    "colab_df['countries'] = colab_df['countries'].str.replace(\"[\",'').str.replace(\"]\",'').str.replace(\"'\",'')\n",
    "colab_df['countries']= colab_df['countries'].str.strip()\n",
    "print (colab_df['countries'].iloc[79])\n",
    "colab_df['countries']=colab_df['countries'].str.split(',')\n",
    "print (colab_df['countries'].iloc[79])\n",
    "\n",
    "to_delete = list()\n",
    "for index,row in colab_df.iterrows():\n",
    "    if row[0][0] == '':\n",
    "        to_delete.append(index)\n",
    "\n",
    "#deleting empty rows\n",
    "colab_df.drop(to_delete, inplace=True)\n",
    "\n",
    "#removing any unnecessary negative space that might make 'canada' = ' canada'\n",
    "\n",
    "colab_df['countries'] = colab_df['countries'].apply(lambda row: [x.strip() for x in row])\n",
    "print (colab_df['countries'].iloc[79])\n",
    "\n",
    "#removing duplicate countries from collaborators list\n",
    "colab_df['countries'] = colab_df['countries'].apply(lambda row: [*set(row)])\n"
   ]
  },
  {
   "cell_type": "code",
   "execution_count": 282,
   "metadata": {},
   "outputs": [
    {
     "name": "stderr",
     "output_type": "stream",
     "text": [
      "C:\\Users\\Sherrif\\AppData\\Local\\Temp\\ipykernel_17892\\158266411.py:2: SettingWithCopyWarning:\n",
      "\n",
      "\n",
      "A value is trying to be set on a copy of a slice from a DataFrame.\n",
      "Try using .loc[row_indexer,col_indexer] = value instead\n",
      "\n",
      "See the caveats in the documentation: https://pandas.pydata.org/pandas-docs/stable/user_guide/indexing.html#returning-a-view-versus-a-copy\n",
      "\n"
     ]
    },
    {
     "data": {
      "text/html": [
       "<div>\n",
       "<style scoped>\n",
       "    .dataframe tbody tr th:only-of-type {\n",
       "        vertical-align: middle;\n",
       "    }\n",
       "\n",
       "    .dataframe tbody tr th {\n",
       "        vertical-align: top;\n",
       "    }\n",
       "\n",
       "    .dataframe thead th {\n",
       "        text-align: right;\n",
       "    }\n",
       "</style>\n",
       "<table border=\"1\" class=\"dataframe\">\n",
       "  <thead>\n",
       "    <tr style=\"text-align: right;\">\n",
       "      <th></th>\n",
       "      <th>countries</th>\n",
       "    </tr>\n",
       "  </thead>\n",
       "  <tbody>\n",
       "    <tr>\n",
       "      <th>0</th>\n",
       "      <td>United States</td>\n",
       "    </tr>\n",
       "    <tr>\n",
       "      <th>1</th>\n",
       "      <td>France,  Guadeloupe</td>\n",
       "    </tr>\n",
       "    <tr>\n",
       "      <th>2</th>\n",
       "      <td>United States</td>\n",
       "    </tr>\n",
       "    <tr>\n",
       "      <th>3</th>\n",
       "      <td>South Korea</td>\n",
       "    </tr>\n",
       "    <tr>\n",
       "      <th>4</th>\n",
       "      <td>United Kingdom</td>\n",
       "    </tr>\n",
       "    <tr>\n",
       "      <th>...</th>\n",
       "      <td>...</td>\n",
       "    </tr>\n",
       "    <tr>\n",
       "      <th>794</th>\n",
       "      <td></td>\n",
       "    </tr>\n",
       "    <tr>\n",
       "      <th>795</th>\n",
       "      <td></td>\n",
       "    </tr>\n",
       "    <tr>\n",
       "      <th>796</th>\n",
       "      <td></td>\n",
       "    </tr>\n",
       "    <tr>\n",
       "      <th>797</th>\n",
       "      <td></td>\n",
       "    </tr>\n",
       "    <tr>\n",
       "      <th>798</th>\n",
       "      <td>United States</td>\n",
       "    </tr>\n",
       "  </tbody>\n",
       "</table>\n",
       "<p>799 rows × 1 columns</p>\n",
       "</div>"
      ],
      "text/plain": [
       "               countries\n",
       "0          United States\n",
       "1    France,  Guadeloupe\n",
       "2          United States\n",
       "3            South Korea\n",
       "4         United Kingdom\n",
       "..                   ...\n",
       "794                     \n",
       "795                     \n",
       "796                     \n",
       "797                     \n",
       "798        United States\n",
       "\n",
       "[799 rows x 1 columns]"
      ]
     },
     "execution_count": 282,
     "metadata": {},
     "output_type": "execute_result"
    }
   ],
   "source": [
    "#removing the punctuation marks to make it convertible into a list\n",
    "colab_df['countries'] = colab_df['countries'].str.replace(\"[\",'').str.replace(\"]\",'').str.replace(\"'\",'')\n",
    "colab_df\n"
   ]
  },
  {
   "cell_type": "code",
   "execution_count": 283,
   "metadata": {},
   "outputs": [
    {
     "name": "stderr",
     "output_type": "stream",
     "text": [
      "C:\\Users\\Sherrif\\AppData\\Local\\Temp\\ipykernel_17892\\2419257378.py:2: SettingWithCopyWarning:\n",
      "\n",
      "\n",
      "A value is trying to be set on a copy of a slice from a DataFrame.\n",
      "Try using .loc[row_indexer,col_indexer] = value instead\n",
      "\n",
      "See the caveats in the documentation: https://pandas.pydata.org/pandas-docs/stable/user_guide/indexing.html#returning-a-view-versus-a-copy\n",
      "\n"
     ]
    },
    {
     "data": {
      "text/plain": [
       "'Canada,  Jamaica,  Canada'"
      ]
     },
     "execution_count": 283,
     "metadata": {},
     "output_type": "execute_result"
    }
   ],
   "source": [
    "#removing any unnecessary negative space that might make 'canada' = ' canada'\n",
    "colab_df['countries']= colab_df['countries'].str.strip()\n",
    "colab_df['countries'].iloc[79]\n"
   ]
  },
  {
   "cell_type": "code",
   "execution_count": 284,
   "metadata": {},
   "outputs": [
    {
     "name": "stderr",
     "output_type": "stream",
     "text": [
      "C:\\Users\\Sherrif\\AppData\\Local\\Temp\\ipykernel_17892\\254903945.py:2: SettingWithCopyWarning:\n",
      "\n",
      "\n",
      "A value is trying to be set on a copy of a slice from a DataFrame.\n",
      "Try using .loc[row_indexer,col_indexer] = value instead\n",
      "\n",
      "See the caveats in the documentation: https://pandas.pydata.org/pandas-docs/stable/user_guide/indexing.html#returning-a-view-versus-a-copy\n",
      "\n"
     ]
    },
    {
     "data": {
      "text/plain": [
       "['Canada', '  Jamaica', '  Canada']"
      ]
     },
     "execution_count": 284,
     "metadata": {},
     "output_type": "execute_result"
    }
   ],
   "source": [
    "#splitting the str into a list of countries\n",
    "colab_df['countries']=colab_df['countries'].str.split(',')\n",
    "colab_df['countries'].iloc[79]\n"
   ]
  },
  {
   "cell_type": "code",
   "execution_count": 268,
   "metadata": {},
   "outputs": [
    {
     "data": {
      "text/plain": [
       "[19,\n",
       " 119,\n",
       " 151,\n",
       " 168,\n",
       " 279,\n",
       " 407,\n",
       " 434,\n",
       " 464,\n",
       " 519,\n",
       " 537,\n",
       " 570,\n",
       " 606,\n",
       " 609,\n",
       " 619,\n",
       " 636,\n",
       " 645,\n",
       " 646,\n",
       " 656,\n",
       " 663,\n",
       " 671,\n",
       " 677,\n",
       " 678,\n",
       " 682,\n",
       " 683,\n",
       " 715,\n",
       " 719,\n",
       " 720,\n",
       " 729,\n",
       " 730,\n",
       " 734,\n",
       " 756,\n",
       " 757,\n",
       " 758,\n",
       " 759,\n",
       " 769,\n",
       " 774,\n",
       " 775,\n",
       " 776,\n",
       " 782,\n",
       " 787,\n",
       " 788,\n",
       " 790,\n",
       " 792,\n",
       " 793,\n",
       " 794,\n",
       " 795,\n",
       " 796,\n",
       " 797]"
      ]
     },
     "execution_count": 268,
     "metadata": {},
     "output_type": "execute_result"
    }
   ],
   "source": [
    "to_delete = list()\n",
    "for index,row in colab_df.iterrows():\n",
    "    if row[0][0] == '':\n",
    "        to_delete.append(index)\n",
    "to_delete"
   ]
  },
  {
   "cell_type": "code",
   "execution_count": 285,
   "metadata": {},
   "outputs": [
    {
     "name": "stderr",
     "output_type": "stream",
     "text": [
      "C:\\Users\\Sherrif\\AppData\\Local\\Temp\\ipykernel_17892\\960603256.py:2: SettingWithCopyWarning:\n",
      "\n",
      "\n",
      "A value is trying to be set on a copy of a slice from a DataFrame\n",
      "\n",
      "See the caveats in the documentation: https://pandas.pydata.org/pandas-docs/stable/user_guide/indexing.html#returning-a-view-versus-a-copy\n",
      "\n"
     ]
    }
   ],
   "source": [
    "#deleting empty rows\n",
    "colab_df.drop(to_delete, inplace=True)"
   ]
  },
  {
   "cell_type": "code",
   "execution_count": 286,
   "metadata": {},
   "outputs": [
    {
     "data": {
      "text/html": [
       "<div>\n",
       "<style scoped>\n",
       "    .dataframe tbody tr th:only-of-type {\n",
       "        vertical-align: middle;\n",
       "    }\n",
       "\n",
       "    .dataframe tbody tr th {\n",
       "        vertical-align: top;\n",
       "    }\n",
       "\n",
       "    .dataframe thead th {\n",
       "        text-align: right;\n",
       "    }\n",
       "</style>\n",
       "<table border=\"1\" class=\"dataframe\">\n",
       "  <thead>\n",
       "    <tr style=\"text-align: right;\">\n",
       "      <th></th>\n",
       "      <th>countries</th>\n",
       "    </tr>\n",
       "  </thead>\n",
       "  <tbody>\n",
       "    <tr>\n",
       "      <th>0</th>\n",
       "      <td>[United States]</td>\n",
       "    </tr>\n",
       "    <tr>\n",
       "      <th>1</th>\n",
       "      <td>[France,   Guadeloupe]</td>\n",
       "    </tr>\n",
       "    <tr>\n",
       "      <th>2</th>\n",
       "      <td>[United States]</td>\n",
       "    </tr>\n",
       "    <tr>\n",
       "      <th>3</th>\n",
       "      <td>[South Korea]</td>\n",
       "    </tr>\n",
       "    <tr>\n",
       "      <th>4</th>\n",
       "      <td>[United Kingdom]</td>\n",
       "    </tr>\n",
       "    <tr>\n",
       "      <th>...</th>\n",
       "      <td>...</td>\n",
       "    </tr>\n",
       "    <tr>\n",
       "      <th>785</th>\n",
       "      <td>[United States]</td>\n",
       "    </tr>\n",
       "    <tr>\n",
       "      <th>786</th>\n",
       "      <td>[United States]</td>\n",
       "    </tr>\n",
       "    <tr>\n",
       "      <th>789</th>\n",
       "      <td>[United States]</td>\n",
       "    </tr>\n",
       "    <tr>\n",
       "      <th>791</th>\n",
       "      <td>[United States]</td>\n",
       "    </tr>\n",
       "    <tr>\n",
       "      <th>798</th>\n",
       "      <td>[United States]</td>\n",
       "    </tr>\n",
       "  </tbody>\n",
       "</table>\n",
       "<p>751 rows × 1 columns</p>\n",
       "</div>"
      ],
      "text/plain": [
       "                  countries\n",
       "0           [United States]\n",
       "1    [France,   Guadeloupe]\n",
       "2           [United States]\n",
       "3             [South Korea]\n",
       "4          [United Kingdom]\n",
       "..                      ...\n",
       "785         [United States]\n",
       "786         [United States]\n",
       "789         [United States]\n",
       "791         [United States]\n",
       "798         [United States]\n",
       "\n",
       "[751 rows x 1 columns]"
      ]
     },
     "execution_count": 286,
     "metadata": {},
     "output_type": "execute_result"
    }
   ],
   "source": [
    "colab_df"
   ]
  },
  {
   "cell_type": "code",
   "execution_count": 287,
   "metadata": {},
   "outputs": [
    {
     "name": "stderr",
     "output_type": "stream",
     "text": [
      "C:\\Users\\Sherrif\\AppData\\Local\\Temp\\ipykernel_17892\\841956423.py:3: SettingWithCopyWarning:\n",
      "\n",
      "\n",
      "A value is trying to be set on a copy of a slice from a DataFrame.\n",
      "Try using .loc[row_indexer,col_indexer] = value instead\n",
      "\n",
      "See the caveats in the documentation: https://pandas.pydata.org/pandas-docs/stable/user_guide/indexing.html#returning-a-view-versus-a-copy\n",
      "\n"
     ]
    },
    {
     "data": {
      "text/plain": [
       "['Canada', 'Hong Kong', 'Kuwait', 'Canada']"
      ]
     },
     "execution_count": 287,
     "metadata": {},
     "output_type": "execute_result"
    }
   ],
   "source": [
    "#removing any unnecessary negative space that might make 'canada' = ' canada'\n",
    "\n",
    "colab_df['countries'] = colab_df['countries'].apply(lambda row: [x.strip() for x in row])\n",
    "colab_df['countries'].iloc[79]\n"
   ]
  },
  {
   "cell_type": "code",
   "execution_count": 288,
   "metadata": {},
   "outputs": [
    {
     "name": "stderr",
     "output_type": "stream",
     "text": [
      "C:\\Users\\Sherrif\\AppData\\Local\\Temp\\ipykernel_17892\\3634684226.py:2: SettingWithCopyWarning:\n",
      "\n",
      "\n",
      "A value is trying to be set on a copy of a slice from a DataFrame.\n",
      "Try using .loc[row_indexer,col_indexer] = value instead\n",
      "\n",
      "See the caveats in the documentation: https://pandas.pydata.org/pandas-docs/stable/user_guide/indexing.html#returning-a-view-versus-a-copy\n",
      "\n"
     ]
    },
    {
     "data": {
      "text/html": [
       "<div>\n",
       "<style scoped>\n",
       "    .dataframe tbody tr th:only-of-type {\n",
       "        vertical-align: middle;\n",
       "    }\n",
       "\n",
       "    .dataframe tbody tr th {\n",
       "        vertical-align: top;\n",
       "    }\n",
       "\n",
       "    .dataframe thead th {\n",
       "        text-align: right;\n",
       "    }\n",
       "</style>\n",
       "<table border=\"1\" class=\"dataframe\">\n",
       "  <thead>\n",
       "    <tr style=\"text-align: right;\">\n",
       "      <th></th>\n",
       "      <th>countries</th>\n",
       "    </tr>\n",
       "  </thead>\n",
       "  <tbody>\n",
       "    <tr>\n",
       "      <th>0</th>\n",
       "      <td>[United States]</td>\n",
       "    </tr>\n",
       "    <tr>\n",
       "      <th>1</th>\n",
       "      <td>[Guadeloupe, France]</td>\n",
       "    </tr>\n",
       "    <tr>\n",
       "      <th>2</th>\n",
       "      <td>[United States]</td>\n",
       "    </tr>\n",
       "    <tr>\n",
       "      <th>3</th>\n",
       "      <td>[South Korea]</td>\n",
       "    </tr>\n",
       "    <tr>\n",
       "      <th>4</th>\n",
       "      <td>[United Kingdom]</td>\n",
       "    </tr>\n",
       "    <tr>\n",
       "      <th>...</th>\n",
       "      <td>...</td>\n",
       "    </tr>\n",
       "    <tr>\n",
       "      <th>785</th>\n",
       "      <td>[United States]</td>\n",
       "    </tr>\n",
       "    <tr>\n",
       "      <th>786</th>\n",
       "      <td>[United States]</td>\n",
       "    </tr>\n",
       "    <tr>\n",
       "      <th>789</th>\n",
       "      <td>[United States]</td>\n",
       "    </tr>\n",
       "    <tr>\n",
       "      <th>791</th>\n",
       "      <td>[United States]</td>\n",
       "    </tr>\n",
       "    <tr>\n",
       "      <th>798</th>\n",
       "      <td>[United States]</td>\n",
       "    </tr>\n",
       "  </tbody>\n",
       "</table>\n",
       "<p>751 rows × 1 columns</p>\n",
       "</div>"
      ],
      "text/plain": [
       "                countries\n",
       "0         [United States]\n",
       "1    [Guadeloupe, France]\n",
       "2         [United States]\n",
       "3           [South Korea]\n",
       "4        [United Kingdom]\n",
       "..                    ...\n",
       "785       [United States]\n",
       "786       [United States]\n",
       "789       [United States]\n",
       "791       [United States]\n",
       "798       [United States]\n",
       "\n",
       "[751 rows x 1 columns]"
      ]
     },
     "execution_count": 288,
     "metadata": {},
     "output_type": "execute_result"
    }
   ],
   "source": [
    "#removing duplicate countries from collaborators list\n",
    "colab_df['countries'] = colab_df['countries'].apply(lambda row: [*set(row)])\n",
    "colab_df"
   ]
  },
  {
   "cell_type": "code",
   "execution_count": 346,
   "metadata": {},
   "outputs": [
    {
     "data": {
      "text/html": [
       "<div>\n",
       "<style scoped>\n",
       "    .dataframe tbody tr th:only-of-type {\n",
       "        vertical-align: middle;\n",
       "    }\n",
       "\n",
       "    .dataframe tbody tr th {\n",
       "        vertical-align: top;\n",
       "    }\n",
       "\n",
       "    .dataframe thead th {\n",
       "        text-align: right;\n",
       "    }\n",
       "</style>\n",
       "<table border=\"1\" class=\"dataframe\">\n",
       "  <thead>\n",
       "    <tr style=\"text-align: right;\">\n",
       "      <th></th>\n",
       "      <th>countries</th>\n",
       "    </tr>\n",
       "  </thead>\n",
       "  <tbody>\n",
       "    <tr>\n",
       "      <th>0</th>\n",
       "      <td>[United States]</td>\n",
       "    </tr>\n",
       "    <tr>\n",
       "      <th>1</th>\n",
       "      <td>[Guadeloupe, France]</td>\n",
       "    </tr>\n",
       "    <tr>\n",
       "      <th>2</th>\n",
       "      <td>[United States]</td>\n",
       "    </tr>\n",
       "    <tr>\n",
       "      <th>3</th>\n",
       "      <td>[South Korea]</td>\n",
       "    </tr>\n",
       "    <tr>\n",
       "      <th>4</th>\n",
       "      <td>[United Kingdom]</td>\n",
       "    </tr>\n",
       "    <tr>\n",
       "      <th>...</th>\n",
       "      <td>...</td>\n",
       "    </tr>\n",
       "    <tr>\n",
       "      <th>785</th>\n",
       "      <td>[United States]</td>\n",
       "    </tr>\n",
       "    <tr>\n",
       "      <th>786</th>\n",
       "      <td>[United States]</td>\n",
       "    </tr>\n",
       "    <tr>\n",
       "      <th>789</th>\n",
       "      <td>[United States]</td>\n",
       "    </tr>\n",
       "    <tr>\n",
       "      <th>791</th>\n",
       "      <td>[United States]</td>\n",
       "    </tr>\n",
       "    <tr>\n",
       "      <th>798</th>\n",
       "      <td>[United States]</td>\n",
       "    </tr>\n",
       "  </tbody>\n",
       "</table>\n",
       "<p>751 rows × 1 columns</p>\n",
       "</div>"
      ],
      "text/plain": [
       "                countries\n",
       "0         [United States]\n",
       "1    [Guadeloupe, France]\n",
       "2         [United States]\n",
       "3           [South Korea]\n",
       "4        [United Kingdom]\n",
       "..                    ...\n",
       "785       [United States]\n",
       "786       [United States]\n",
       "789       [United States]\n",
       "791       [United States]\n",
       "798       [United States]\n",
       "\n",
       "[751 rows x 1 columns]"
      ]
     },
     "execution_count": 346,
     "metadata": {},
     "output_type": "execute_result"
    }
   ],
   "source": [
    "colab_df"
   ]
  },
  {
   "cell_type": "code",
   "execution_count": 378,
   "metadata": {},
   "outputs": [],
   "source": [
    "colabs = colab_df[['countries']]\n",
    "colabs.reset_index(drop=True, inplace=True)"
   ]
  },
  {
   "cell_type": "code",
   "execution_count": 348,
   "metadata": {},
   "outputs": [
    {
     "data": {
      "text/html": [
       "<div>\n",
       "<style scoped>\n",
       "    .dataframe tbody tr th:only-of-type {\n",
       "        vertical-align: middle;\n",
       "    }\n",
       "\n",
       "    .dataframe tbody tr th {\n",
       "        vertical-align: top;\n",
       "    }\n",
       "\n",
       "    .dataframe thead th {\n",
       "        text-align: right;\n",
       "    }\n",
       "</style>\n",
       "<table border=\"1\" class=\"dataframe\">\n",
       "  <thead>\n",
       "    <tr style=\"text-align: right;\">\n",
       "      <th></th>\n",
       "      <th>countries</th>\n",
       "    </tr>\n",
       "  </thead>\n",
       "  <tbody>\n",
       "    <tr>\n",
       "      <th>0</th>\n",
       "      <td>[United States]</td>\n",
       "    </tr>\n",
       "    <tr>\n",
       "      <th>1</th>\n",
       "      <td>[Guadeloupe, France]</td>\n",
       "    </tr>\n",
       "    <tr>\n",
       "      <th>2</th>\n",
       "      <td>[United States]</td>\n",
       "    </tr>\n",
       "    <tr>\n",
       "      <th>3</th>\n",
       "      <td>[South Korea]</td>\n",
       "    </tr>\n",
       "    <tr>\n",
       "      <th>4</th>\n",
       "      <td>[United Kingdom]</td>\n",
       "    </tr>\n",
       "    <tr>\n",
       "      <th>...</th>\n",
       "      <td>...</td>\n",
       "    </tr>\n",
       "    <tr>\n",
       "      <th>746</th>\n",
       "      <td>[United States]</td>\n",
       "    </tr>\n",
       "    <tr>\n",
       "      <th>747</th>\n",
       "      <td>[United States]</td>\n",
       "    </tr>\n",
       "    <tr>\n",
       "      <th>748</th>\n",
       "      <td>[United States]</td>\n",
       "    </tr>\n",
       "    <tr>\n",
       "      <th>749</th>\n",
       "      <td>[United States]</td>\n",
       "    </tr>\n",
       "    <tr>\n",
       "      <th>750</th>\n",
       "      <td>[United States]</td>\n",
       "    </tr>\n",
       "  </tbody>\n",
       "</table>\n",
       "<p>751 rows × 1 columns</p>\n",
       "</div>"
      ],
      "text/plain": [
       "                countries\n",
       "0         [United States]\n",
       "1    [Guadeloupe, France]\n",
       "2         [United States]\n",
       "3           [South Korea]\n",
       "4        [United Kingdom]\n",
       "..                    ...\n",
       "746       [United States]\n",
       "747       [United States]\n",
       "748       [United States]\n",
       "749       [United States]\n",
       "750       [United States]\n",
       "\n",
       "[751 rows x 1 columns]"
      ]
     },
     "execution_count": 348,
     "metadata": {},
     "output_type": "execute_result"
    }
   ],
   "source": [
    "colabs"
   ]
  },
  {
   "cell_type": "code",
   "execution_count": 349,
   "metadata": {},
   "outputs": [
    {
     "data": {
      "text/plain": [
       "750"
      ]
     },
     "execution_count": 349,
     "metadata": {},
     "output_type": "execute_result"
    }
   ],
   "source": [
    "colabs.index[-1]"
   ]
  },
  {
   "cell_type": "code",
   "execution_count": 350,
   "metadata": {},
   "outputs": [
    {
     "name": "stdout",
     "output_type": "stream",
     "text": [
      "['Kuwait', 'Hong Kong', 'Canada']\n",
      "Kuwait ['Hong Kong', 'Canada']\n",
      "Hong Kong ['Canada']\n"
     ]
    }
   ],
   "source": [
    "test = ['Kuwait', 'Hong Kong', 'Canada']\n",
    "print(test)\n",
    "while len(test)>1:\n",
    "    source = test.pop(0)\n",
    "    target = test\n",
    "    print(source, target)"
   ]
  },
  {
   "cell_type": "code",
   "execution_count": 381,
   "metadata": {},
   "outputs": [
    {
     "data": {
      "text/plain": [
       "[{'source': 'Guadeloupe', 'target': ['France']},\n",
       " {'source': 'South Korea', 'target': ['Pakistan']},\n",
       " {'source': 'Niger',\n",
       "  'target': ['United Kingdom', 'Nigeria', 'South Africa', 'Ghana']},\n",
       " {'source': 'United Kingdom', 'target': ['Nigeria', 'South Africa', 'Ghana']},\n",
       " {'source': 'Nigeria', 'target': ['South Africa', 'Ghana']},\n",
       " {'source': 'South Africa', 'target': ['Ghana']},\n",
       " {'source': 'Tunisia', 'target': ['France']},\n",
       " {'source': 'Qatar', 'target': ['United States', 'Jordan', 'Kuwait']},\n",
       " {'source': 'United States', 'target': ['Jordan', 'Kuwait']},\n",
       " {'source': 'Jordan', 'target': ['Kuwait']},\n",
       " {'source': 'Germany',\n",
       "  'target': ['United States',\n",
       "   'Australia',\n",
       "   'Sweden',\n",
       "   'Netherlands',\n",
       "   'South Africa',\n",
       "   'Denmark']},\n",
       " {'source': 'United States',\n",
       "  'target': ['Australia', 'Sweden', 'Netherlands', 'South Africa', 'Denmark']},\n",
       " {'source': 'Australia',\n",
       "  'target': ['Sweden', 'Netherlands', 'South Africa', 'Denmark']},\n",
       " {'source': 'Sweden', 'target': ['Netherlands', 'South Africa', 'Denmark']},\n",
       " {'source': 'Netherlands', 'target': ['South Africa', 'Denmark']},\n",
       " {'source': 'South Africa', 'target': ['Denmark']},\n",
       " {'source': 'Japan', 'target': ['United States']},\n",
       " {'source': 'India', 'target': ['United States']},\n",
       " {'source': 'Saudi Arabia', 'target': ['Egypt']},\n",
       " {'source': 'Nigeria', 'target': ['Niger', 'United States']},\n",
       " {'source': 'Niger', 'target': ['United States']},\n",
       " {'source': 'United States', 'target': ['France', 'Canada']},\n",
       " {'source': 'France', 'target': ['Canada']},\n",
       " {'source': 'Malaysia', 'target': ['United Kingdom']},\n",
       " {'source': 'Ghana', 'target': ['United Kingdom']},\n",
       " {'source': 'Nigeria', 'target': ['Niger']},\n",
       " {'source': 'Italy', 'target': ['France']},\n",
       " {'source': 'Nigeria', 'target': ['Niger']},\n",
       " {'source': 'Jamaica', 'target': ['Canada']},\n",
       " {'source': 'Kuwait', 'target': ['Hong Kong', 'Canada']},\n",
       " {'source': 'Hong Kong', 'target': ['Canada']},\n",
       " {'source': 'India', 'target': ['United States']},\n",
       " {'source': 'China', 'target': ['United States']},\n",
       " {'source': 'Malaysia', 'target': ['United Kingdom']},\n",
       " {'source': 'United States', 'target': ['France', 'Netherlands']},\n",
       " {'source': 'France', 'target': ['Netherlands']},\n",
       " {'source': 'Guadeloupe', 'target': ['France']},\n",
       " {'source': 'Brazil', 'target': ['United States']},\n",
       " {'source': 'Mali', 'target': ['France', 'Senegal']},\n",
       " {'source': 'France', 'target': ['Senegal']},\n",
       " {'source': 'United States', 'target': ['France', 'Canada']},\n",
       " {'source': 'France', 'target': ['Canada']},\n",
       " {'source': 'China', 'target': ['Japan']},\n",
       " {'source': 'Nigeria', 'target': ['Niger', 'United States']},\n",
       " {'source': 'Niger', 'target': ['United States']},\n",
       " {'source': 'Nigeria', 'target': ['Niger', 'Zimbabwe']},\n",
       " {'source': 'Niger', 'target': ['Zimbabwe']},\n",
       " {'source': 'India', 'target': ['United States', 'Canada']},\n",
       " {'source': 'United States', 'target': ['Canada']},\n",
       " {'source': 'Australia', 'target': ['Switzerland']},\n",
       " {'source': 'Brazil', 'target': ['Italy', 'France', 'Senegal', 'Monaco']},\n",
       " {'source': 'Italy', 'target': ['France', 'Senegal', 'Monaco']},\n",
       " {'source': 'France', 'target': ['Senegal', 'Monaco']},\n",
       " {'source': 'Senegal', 'target': ['Monaco']},\n",
       " {'source': 'United States', 'target': ['Italy']},\n",
       " {'source': 'Qatar', 'target': ['Jordan']},\n",
       " {'source': 'Nigeria', 'target': ['Niger']},\n",
       " {'source': 'Turkey', 'target': ['United States']},\n",
       " {'source': 'Turkey', 'target': ['United States']},\n",
       " {'source': 'Georgia', 'target': ['United States']},\n",
       " {'source': 'United States', 'target': ['Mexico']},\n",
       " {'source': 'Nigeria', 'target': ['Niger']},\n",
       " {'source': 'China', 'target': ['United States']},\n",
       " {'source': 'Brazil', 'target': ['United States', 'United Kingdom']},\n",
       " {'source': 'United States', 'target': ['United Kingdom']},\n",
       " {'source': 'United States', 'target': ['United Kingdom']},\n",
       " {'source': 'Germany', 'target': ['United Kingdom']},\n",
       " {'source': 'Nigeria', 'target': ['Niger', 'Ghana']},\n",
       " {'source': 'Niger', 'target': ['Ghana']},\n",
       " {'source': 'Turkey', 'target': ['United States']},\n",
       " {'source': 'Nigeria', 'target': ['Niger']},\n",
       " {'source': 'United States', 'target': ['Italy']},\n",
       " {'source': 'Jamaica', 'target': ['United Kingdom']},\n",
       " {'source': 'Saudi Arabia', 'target': ['Sweden', 'United Arab Emirates']},\n",
       " {'source': 'Sweden', 'target': ['United Arab Emirates']},\n",
       " {'source': 'Guadeloupe', 'target': ['France']},\n",
       " {'source': 'Guadeloupe', 'target': ['France']},\n",
       " {'source': 'Singapore', 'target': ['United Kingdom']},\n",
       " {'source': 'France', 'target': ['Senegal']},\n",
       " {'source': 'United Arab Emirates', 'target': ['United Kingdom']},\n",
       " {'source': 'Ghana', 'target': ['United Kingdom']},\n",
       " {'source': 'India', 'target': ['United States']},\n",
       " {'source': 'United States', 'target': ['Italy']},\n",
       " {'source': 'South Africa', 'target': ['Cameroon', 'France']},\n",
       " {'source': 'Cameroon', 'target': ['France']},\n",
       " {'source': 'Pakistan', 'target': ['United States']},\n",
       " {'source': 'Brazil', 'target': ['United States', 'United Kingdom']},\n",
       " {'source': 'United States', 'target': ['United Kingdom']},\n",
       " {'source': 'Mali', 'target': ['France']},\n",
       " {'source': 'Pakistan', 'target': ['France', 'United States']},\n",
       " {'source': 'France', 'target': ['United States']},\n",
       " {'source': 'Malawi', 'target': ['United States', 'United Kingdom']},\n",
       " {'source': 'United States', 'target': ['United Kingdom']},\n",
       " {'source': 'United States', 'target': ['France']},\n",
       " {'source': 'Nigeria', 'target': ['Niger']},\n",
       " {'source': 'Egypt', 'target': ['United States']},\n",
       " {'source': 'Georgia', 'target': ['United States']},\n",
       " {'source': 'Italy', 'target': ['France']},\n",
       " {'source': 'Nigeria', 'target': ['Niger']},\n",
       " {'source': 'Saudi Arabia', 'target': ['Sweden']},\n",
       " {'source': 'India', 'target': ['United States']},\n",
       " {'source': 'Guadeloupe', 'target': ['United States', 'France']},\n",
       " {'source': 'United States', 'target': ['France']},\n",
       " {'source': 'Guadeloupe', 'target': ['France']},\n",
       " {'source': 'United States', 'target': ['United Kingdom']},\n",
       " {'source': 'United States', 'target': ['Canada']},\n",
       " {'source': 'Denmark', 'target': ['United Kingdom']},\n",
       " {'source': 'Brazil', 'target': ['United States', 'Canada']},\n",
       " {'source': 'United States', 'target': ['Canada']},\n",
       " {'source': 'United States', 'target': ['United Kingdom']},\n",
       " {'source': 'Switzerland', 'target': ['France']},\n",
       " {'source': 'Portugal', 'target': ['Brazil']},\n",
       " {'source': 'Guadeloupe', 'target': ['France']},\n",
       " {'source': 'France', 'target': ['United Kingdom']},\n",
       " {'source': 'United States', 'target': ['Mexico']},\n",
       " {'source': 'Nigeria', 'target': ['Niger']},\n",
       " {'source': 'Georgia', 'target': ['United States']},\n",
       " {'source': 'Guadeloupe', 'target': ['France']},\n",
       " {'source': 'Georgia', 'target': ['United States']},\n",
       " {'source': 'Singapore', 'target': ['United Kingdom']},\n",
       " {'source': 'United States', 'target': ['Mexico']},\n",
       " {'source': 'Qatar', 'target': ['Egypt']},\n",
       " {'source': 'United States', 'target': ['Zambia']},\n",
       " {'source': 'Germany', 'target': ['Ghana', 'Kenya']},\n",
       " {'source': 'Ghana', 'target': ['Kenya']},\n",
       " {'source': 'United States', 'target': ['Argentina']},\n",
       " {'source': 'Curaçao', 'target': ['Netherlands']},\n",
       " {'source': 'Egypt', 'target': ['United Kingdom']},\n",
       " {'source': 'Denmark', 'target': ['United Kingdom']},\n",
       " {'source': 'Curaçao', 'target': ['Netherlands']},\n",
       " {'source': 'Nigeria', 'target': ['Niger']},\n",
       " {'source': 'Brazil', 'target': ['United Kingdom']},\n",
       " {'source': 'United States', 'target': ['Norway']},\n",
       " {'source': 'Curaçao', 'target': ['Netherlands']},\n",
       " {'source': 'Curaçao', 'target': ['Netherlands']},\n",
       " {'source': 'Burkina Faso', 'target': ['France']},\n",
       " {'source': 'Martinique', 'target': ['France']},\n",
       " {'source': 'United States', 'target': ['Mexico']},\n",
       " {'source': 'Italy', 'target': ['France']},\n",
       " {'source': 'Netherlands', 'target': ['United States', 'United Kingdom']},\n",
       " {'source': 'United States', 'target': ['United Kingdom']},\n",
       " {'source': 'Germany', 'target': ['United States']},\n",
       " {'source': 'Jersey', 'target': ['United States']},\n",
       " {'source': 'Brazil', 'target': ['United States']},\n",
       " {'source': 'Nigeria', 'target': ['Niger']},\n",
       " {'source': 'United States', 'target': ['Italy']},\n",
       " {'source': 'Nigeria', 'target': ['Niger']},\n",
       " {'source': 'Jamaica', 'target': ['United States', 'United Kingdom']},\n",
       " {'source': 'United States', 'target': ['United Kingdom']},\n",
       " {'source': 'Germany', 'target': ['Kenya']},\n",
       " {'source': 'Nigeria', 'target': ['Niger']},\n",
       " {'source': 'Georgia', 'target': ['United States']},\n",
       " {'source': 'Japan', 'target': ['United States', 'Netherlands']},\n",
       " {'source': 'United States', 'target': ['Netherlands']},\n",
       " {'source': 'United States', 'target': ['Canada']},\n",
       " {'source': 'Nigeria', 'target': ['Niger']},\n",
       " {'source': 'Nigeria', 'target': ['Niger']},\n",
       " {'source': 'Georgia', 'target': ['United States']},\n",
       " {'source': 'France', 'target': ['Togo']},\n",
       " {'source': 'Jamaica', 'target': ['United States', 'United Kingdom']},\n",
       " {'source': 'United States', 'target': ['United Kingdom']},\n",
       " {'source': 'Jersey', 'target': ['United States']},\n",
       " {'source': 'Saudi Arabia',\n",
       "  'target': ['Canada', 'United Kingdom', 'Jamaica', 'Germany']},\n",
       " {'source': 'Canada', 'target': ['United Kingdom', 'Jamaica', 'Germany']},\n",
       " {'source': 'United Kingdom', 'target': ['Jamaica', 'Germany']},\n",
       " {'source': 'Jamaica', 'target': ['Germany']},\n",
       " {'source': 'Jamaica', 'target': ['United States', 'United Kingdom']},\n",
       " {'source': 'United States', 'target': ['United Kingdom']},\n",
       " {'source': 'Jamaica', 'target': ['United Kingdom']},\n",
       " {'source': 'Jamaica', 'target': ['United States']},\n",
       " {'source': 'Jamaica', 'target': ['United States']},\n",
       " {'source': 'Jamaica', 'target': ['United States']},\n",
       " {'source': 'Nigeria', 'target': ['Niger']},\n",
       " {'source': 'Jamaica', 'target': ['Trinidad and Tobago']},\n",
       " {'source': 'Jersey', 'target': ['United States']},\n",
       " {'source': 'New Zealand', 'target': ['United States']},\n",
       " {'source': 'Jamaica', 'target': ['United States']},\n",
       " {'source': 'Jamaica', 'target': ['United States']},\n",
       " {'source': 'Jamaica', 'target': ['United Kingdom']},\n",
       " {'source': 'Jamaica', 'target': ['United Kingdom']},\n",
       " {'source': 'Jamaica', 'target': ['United Kingdom']},\n",
       " {'source': 'Jamaica', 'target': ['United States']},\n",
       " {'source': 'Nigeria', 'target': ['Niger']},\n",
       " {'source': 'Jamaica', 'target': ['United States']},\n",
       " {'source': 'Nigeria', 'target': ['Niger']},\n",
       " {'source': 'Nigeria', 'target': ['Niger']},\n",
       " {'source': 'Belgium', 'target': ['United States']},\n",
       " {'source': 'Jersey', 'target': ['United States']},\n",
       " {'source': 'Jamaica', 'target': ['Ireland']},\n",
       " {'source': 'Brazil', 'target': ['United States']},\n",
       " {'source': 'Jamaica', 'target': ['United Kingdom']},\n",
       " {'source': 'Jamaica', 'target': ['United Kingdom']},\n",
       " {'source': 'Jamaica', 'target': ['United Kingdom']}]"
      ]
     },
     "execution_count": 381,
     "metadata": {},
     "output_type": "execute_result"
    }
   ],
   "source": [
    "#creating sources and target\n",
    "country_relations=[]\n",
    "i= 0\n",
    "while i in range(colabs.index[-1]):\n",
    "    country_list = colabs.loc[i].countries\n",
    "    to_remove = []\n",
    "    if len(country_list) > 1:\n",
    "        for index,country in enumerate(country_list[:-1]):\n",
    "            source = country\n",
    "            to_remove.append(country)\n",
    "            target = [x for x in country_list if x not in to_remove]\n",
    "            # print (source,target)\n",
    "        \n",
    "        # while len(country_list)>1:\n",
    "        #     source = country_list.pop(0)\n",
    "        #     target = country_list\n",
    "\n",
    "        #     print (source,target)\n",
    "            country_relations.append({'source': source, 'target': target})\n",
    "    i += 1\n",
    "country_relations"
   ]
  },
  {
   "cell_type": "code",
   "execution_count": 382,
   "metadata": {},
   "outputs": [
    {
     "data": {
      "text/html": [
       "<div>\n",
       "<style scoped>\n",
       "    .dataframe tbody tr th:only-of-type {\n",
       "        vertical-align: middle;\n",
       "    }\n",
       "\n",
       "    .dataframe tbody tr th {\n",
       "        vertical-align: top;\n",
       "    }\n",
       "\n",
       "    .dataframe thead th {\n",
       "        text-align: right;\n",
       "    }\n",
       "</style>\n",
       "<table border=\"1\" class=\"dataframe\">\n",
       "  <thead>\n",
       "    <tr style=\"text-align: right;\">\n",
       "      <th></th>\n",
       "      <th>source</th>\n",
       "      <th>target</th>\n",
       "    </tr>\n",
       "  </thead>\n",
       "  <tbody>\n",
       "    <tr>\n",
       "      <th>0</th>\n",
       "      <td>Guadeloupe</td>\n",
       "      <td>[France]</td>\n",
       "    </tr>\n",
       "    <tr>\n",
       "      <th>1</th>\n",
       "      <td>South Korea</td>\n",
       "      <td>[Pakistan]</td>\n",
       "    </tr>\n",
       "    <tr>\n",
       "      <th>2</th>\n",
       "      <td>Niger</td>\n",
       "      <td>[United Kingdom, Nigeria, South Africa, Ghana]</td>\n",
       "    </tr>\n",
       "    <tr>\n",
       "      <th>3</th>\n",
       "      <td>United Kingdom</td>\n",
       "      <td>[Nigeria, South Africa, Ghana]</td>\n",
       "    </tr>\n",
       "    <tr>\n",
       "      <th>4</th>\n",
       "      <td>Nigeria</td>\n",
       "      <td>[South Africa, Ghana]</td>\n",
       "    </tr>\n",
       "    <tr>\n",
       "      <th>...</th>\n",
       "      <td>...</td>\n",
       "      <td>...</td>\n",
       "    </tr>\n",
       "    <tr>\n",
       "      <th>188</th>\n",
       "      <td>Jamaica</td>\n",
       "      <td>[Ireland]</td>\n",
       "    </tr>\n",
       "    <tr>\n",
       "      <th>189</th>\n",
       "      <td>Brazil</td>\n",
       "      <td>[United States]</td>\n",
       "    </tr>\n",
       "    <tr>\n",
       "      <th>190</th>\n",
       "      <td>Jamaica</td>\n",
       "      <td>[United Kingdom]</td>\n",
       "    </tr>\n",
       "    <tr>\n",
       "      <th>191</th>\n",
       "      <td>Jamaica</td>\n",
       "      <td>[United Kingdom]</td>\n",
       "    </tr>\n",
       "    <tr>\n",
       "      <th>192</th>\n",
       "      <td>Jamaica</td>\n",
       "      <td>[United Kingdom]</td>\n",
       "    </tr>\n",
       "  </tbody>\n",
       "</table>\n",
       "<p>193 rows × 2 columns</p>\n",
       "</div>"
      ],
      "text/plain": [
       "             source                                          target\n",
       "0        Guadeloupe                                        [France]\n",
       "1       South Korea                                      [Pakistan]\n",
       "2             Niger  [United Kingdom, Nigeria, South Africa, Ghana]\n",
       "3    United Kingdom                  [Nigeria, South Africa, Ghana]\n",
       "4           Nigeria                           [South Africa, Ghana]\n",
       "..              ...                                             ...\n",
       "188         Jamaica                                       [Ireland]\n",
       "189          Brazil                                 [United States]\n",
       "190         Jamaica                                [United Kingdom]\n",
       "191         Jamaica                                [United Kingdom]\n",
       "192         Jamaica                                [United Kingdom]\n",
       "\n",
       "[193 rows x 2 columns]"
      ]
     },
     "execution_count": 382,
     "metadata": {},
     "output_type": "execute_result"
    }
   ],
   "source": [
    "collaborators_df = pd.DataFrame(country_relations)\n",
    "collaborators_df"
   ]
  },
  {
   "cell_type": "code",
   "execution_count": 385,
   "metadata": {},
   "outputs": [
    {
     "data": {
      "text/html": [
       "<div>\n",
       "<style scoped>\n",
       "    .dataframe tbody tr th:only-of-type {\n",
       "        vertical-align: middle;\n",
       "    }\n",
       "\n",
       "    .dataframe tbody tr th {\n",
       "        vertical-align: top;\n",
       "    }\n",
       "\n",
       "    .dataframe thead th {\n",
       "        text-align: right;\n",
       "    }\n",
       "</style>\n",
       "<table border=\"1\" class=\"dataframe\">\n",
       "  <thead>\n",
       "    <tr style=\"text-align: right;\">\n",
       "      <th></th>\n",
       "      <th>source</th>\n",
       "      <th>target</th>\n",
       "    </tr>\n",
       "  </thead>\n",
       "  <tbody>\n",
       "    <tr>\n",
       "      <th>0</th>\n",
       "      <td>Guadeloupe</td>\n",
       "      <td>France</td>\n",
       "    </tr>\n",
       "    <tr>\n",
       "      <th>1</th>\n",
       "      <td>South Korea</td>\n",
       "      <td>Pakistan</td>\n",
       "    </tr>\n",
       "    <tr>\n",
       "      <th>2</th>\n",
       "      <td>Niger</td>\n",
       "      <td>United Kingdom</td>\n",
       "    </tr>\n",
       "    <tr>\n",
       "      <th>2</th>\n",
       "      <td>Niger</td>\n",
       "      <td>Nigeria</td>\n",
       "    </tr>\n",
       "    <tr>\n",
       "      <th>2</th>\n",
       "      <td>Niger</td>\n",
       "      <td>South Africa</td>\n",
       "    </tr>\n",
       "    <tr>\n",
       "      <th>...</th>\n",
       "      <td>...</td>\n",
       "      <td>...</td>\n",
       "    </tr>\n",
       "    <tr>\n",
       "      <th>188</th>\n",
       "      <td>Jamaica</td>\n",
       "      <td>Ireland</td>\n",
       "    </tr>\n",
       "    <tr>\n",
       "      <th>189</th>\n",
       "      <td>Brazil</td>\n",
       "      <td>United States</td>\n",
       "    </tr>\n",
       "    <tr>\n",
       "      <th>190</th>\n",
       "      <td>Jamaica</td>\n",
       "      <td>United Kingdom</td>\n",
       "    </tr>\n",
       "    <tr>\n",
       "      <th>191</th>\n",
       "      <td>Jamaica</td>\n",
       "      <td>United Kingdom</td>\n",
       "    </tr>\n",
       "    <tr>\n",
       "      <th>192</th>\n",
       "      <td>Jamaica</td>\n",
       "      <td>United Kingdom</td>\n",
       "    </tr>\n",
       "  </tbody>\n",
       "</table>\n",
       "<p>253 rows × 2 columns</p>\n",
       "</div>"
      ],
      "text/plain": [
       "          source          target\n",
       "0     Guadeloupe          France\n",
       "1    South Korea        Pakistan\n",
       "2          Niger  United Kingdom\n",
       "2          Niger         Nigeria\n",
       "2          Niger    South Africa\n",
       "..           ...             ...\n",
       "188      Jamaica         Ireland\n",
       "189       Brazil   United States\n",
       "190      Jamaica  United Kingdom\n",
       "191      Jamaica  United Kingdom\n",
       "192      Jamaica  United Kingdom\n",
       "\n",
       "[253 rows x 2 columns]"
      ]
     },
     "execution_count": 385,
     "metadata": {},
     "output_type": "execute_result"
    }
   ],
   "source": [
    "collaborators_df = collaborators_df.explode('target')\n",
    "collaborators_df"
   ]
  },
  {
   "cell_type": "code",
   "execution_count": 389,
   "metadata": {},
   "outputs": [
    {
     "data": {
      "text/html": [
       "<div>\n",
       "<style scoped>\n",
       "    .dataframe tbody tr th:only-of-type {\n",
       "        vertical-align: middle;\n",
       "    }\n",
       "\n",
       "    .dataframe tbody tr th {\n",
       "        vertical-align: top;\n",
       "    }\n",
       "\n",
       "    .dataframe thead th {\n",
       "        text-align: right;\n",
       "    }\n",
       "</style>\n",
       "<table border=\"1\" class=\"dataframe\">\n",
       "  <thead>\n",
       "    <tr style=\"text-align: right;\">\n",
       "      <th></th>\n",
       "      <th>source</th>\n",
       "      <th>target</th>\n",
       "    </tr>\n",
       "  </thead>\n",
       "  <tbody>\n",
       "    <tr>\n",
       "      <th>0</th>\n",
       "      <td>France</td>\n",
       "      <td>Guadeloupe</td>\n",
       "    </tr>\n",
       "    <tr>\n",
       "      <th>1</th>\n",
       "      <td>Pakistan</td>\n",
       "      <td>South Korea</td>\n",
       "    </tr>\n",
       "    <tr>\n",
       "      <th>2</th>\n",
       "      <td>Niger</td>\n",
       "      <td>United Kingdom</td>\n",
       "    </tr>\n",
       "    <tr>\n",
       "      <th>3</th>\n",
       "      <td>Niger</td>\n",
       "      <td>Nigeria</td>\n",
       "    </tr>\n",
       "    <tr>\n",
       "      <th>4</th>\n",
       "      <td>Niger</td>\n",
       "      <td>South Africa</td>\n",
       "    </tr>\n",
       "    <tr>\n",
       "      <th>...</th>\n",
       "      <td>...</td>\n",
       "      <td>...</td>\n",
       "    </tr>\n",
       "    <tr>\n",
       "      <th>248</th>\n",
       "      <td>Ireland</td>\n",
       "      <td>Jamaica</td>\n",
       "    </tr>\n",
       "    <tr>\n",
       "      <th>249</th>\n",
       "      <td>Brazil</td>\n",
       "      <td>United States</td>\n",
       "    </tr>\n",
       "    <tr>\n",
       "      <th>250</th>\n",
       "      <td>Jamaica</td>\n",
       "      <td>United Kingdom</td>\n",
       "    </tr>\n",
       "    <tr>\n",
       "      <th>251</th>\n",
       "      <td>Jamaica</td>\n",
       "      <td>United Kingdom</td>\n",
       "    </tr>\n",
       "    <tr>\n",
       "      <th>252</th>\n",
       "      <td>Jamaica</td>\n",
       "      <td>United Kingdom</td>\n",
       "    </tr>\n",
       "  </tbody>\n",
       "</table>\n",
       "<p>253 rows × 2 columns</p>\n",
       "</div>"
      ],
      "text/plain": [
       "       source          target\n",
       "0      France      Guadeloupe\n",
       "1    Pakistan     South Korea\n",
       "2       Niger  United Kingdom\n",
       "3       Niger         Nigeria\n",
       "4       Niger    South Africa\n",
       "..        ...             ...\n",
       "248   Ireland         Jamaica\n",
       "249    Brazil   United States\n",
       "250   Jamaica  United Kingdom\n",
       "251   Jamaica  United Kingdom\n",
       "252   Jamaica  United Kingdom\n",
       "\n",
       "[253 rows x 2 columns]"
      ]
     },
     "execution_count": 389,
     "metadata": {},
     "output_type": "execute_result"
    }
   ],
   "source": [
    "#sort rows column wise to fix any reverse interactions  eg a->b = b->a\n",
    "collaborators_df = pd.DataFrame(np.sort(collaborators_df.values,axis = 1), columns = collaborators_df.columns)\n",
    "collaborators_df"
   ]
  },
  {
   "cell_type": "code",
   "execution_count": 390,
   "metadata": {},
   "outputs": [
    {
     "data": {
      "text/html": [
       "<div>\n",
       "<style scoped>\n",
       "    .dataframe tbody tr th:only-of-type {\n",
       "        vertical-align: middle;\n",
       "    }\n",
       "\n",
       "    .dataframe tbody tr th {\n",
       "        vertical-align: top;\n",
       "    }\n",
       "\n",
       "    .dataframe thead th {\n",
       "        text-align: right;\n",
       "    }\n",
       "</style>\n",
       "<table border=\"1\" class=\"dataframe\">\n",
       "  <thead>\n",
       "    <tr style=\"text-align: right;\">\n",
       "      <th></th>\n",
       "      <th>source</th>\n",
       "      <th>target</th>\n",
       "      <th>value</th>\n",
       "    </tr>\n",
       "  </thead>\n",
       "  <tbody>\n",
       "    <tr>\n",
       "      <th>0</th>\n",
       "      <td>France</td>\n",
       "      <td>Guadeloupe</td>\n",
       "      <td>8</td>\n",
       "    </tr>\n",
       "    <tr>\n",
       "      <th>1</th>\n",
       "      <td>Pakistan</td>\n",
       "      <td>South Korea</td>\n",
       "      <td>1</td>\n",
       "    </tr>\n",
       "    <tr>\n",
       "      <th>2</th>\n",
       "      <td>Niger</td>\n",
       "      <td>United Kingdom</td>\n",
       "      <td>1</td>\n",
       "    </tr>\n",
       "    <tr>\n",
       "      <th>3</th>\n",
       "      <td>Niger</td>\n",
       "      <td>Nigeria</td>\n",
       "      <td>23</td>\n",
       "    </tr>\n",
       "    <tr>\n",
       "      <th>4</th>\n",
       "      <td>Niger</td>\n",
       "      <td>South Africa</td>\n",
       "      <td>1</td>\n",
       "    </tr>\n",
       "    <tr>\n",
       "      <th>...</th>\n",
       "      <td>...</td>\n",
       "      <td>...</td>\n",
       "      <td>...</td>\n",
       "    </tr>\n",
       "    <tr>\n",
       "      <th>122</th>\n",
       "      <td>Germany</td>\n",
       "      <td>Jamaica</td>\n",
       "      <td>1</td>\n",
       "    </tr>\n",
       "    <tr>\n",
       "      <th>123</th>\n",
       "      <td>Jamaica</td>\n",
       "      <td>Trinidad and Tobago</td>\n",
       "      <td>1</td>\n",
       "    </tr>\n",
       "    <tr>\n",
       "      <th>124</th>\n",
       "      <td>New Zealand</td>\n",
       "      <td>United States</td>\n",
       "      <td>1</td>\n",
       "    </tr>\n",
       "    <tr>\n",
       "      <th>125</th>\n",
       "      <td>Belgium</td>\n",
       "      <td>United States</td>\n",
       "      <td>1</td>\n",
       "    </tr>\n",
       "    <tr>\n",
       "      <th>126</th>\n",
       "      <td>Ireland</td>\n",
       "      <td>Jamaica</td>\n",
       "      <td>1</td>\n",
       "    </tr>\n",
       "  </tbody>\n",
       "</table>\n",
       "<p>127 rows × 3 columns</p>\n",
       "</div>"
      ],
      "text/plain": [
       "          source               target  value\n",
       "0         France           Guadeloupe      8\n",
       "1       Pakistan          South Korea      1\n",
       "2          Niger       United Kingdom      1\n",
       "3          Niger              Nigeria     23\n",
       "4          Niger         South Africa      1\n",
       "..           ...                  ...    ...\n",
       "122      Germany              Jamaica      1\n",
       "123      Jamaica  Trinidad and Tobago      1\n",
       "124  New Zealand        United States      1\n",
       "125      Belgium        United States      1\n",
       "126      Ireland              Jamaica      1\n",
       "\n",
       "[127 rows x 3 columns]"
      ]
     },
     "execution_count": 390,
     "metadata": {},
     "output_type": "execute_result"
    }
   ],
   "source": [
    "#aggregate collaborations for each country pair and add a wieght column\n",
    "collaborators_df['value']= 1\n",
    "collaborators_df = collaborators_df.groupby(['source','target'],sort=False, as_index=False).sum()\n",
    "collaborators_df"
   ]
  },
  {
   "cell_type": "code",
   "execution_count": 391,
   "metadata": {},
   "outputs": [],
   "source": [
    "collaborators_df.to_csv('../data/processed/collaborations.csv')"
   ]
  },
  {
   "attachments": {},
   "cell_type": "markdown",
   "metadata": {},
   "source": [
    "# Journals"
   ]
  },
  {
   "cell_type": "code",
   "execution_count": 408,
   "metadata": {},
   "outputs": [
    {
     "data": {
      "text/html": [
       "<div>\n",
       "<style scoped>\n",
       "    .dataframe tbody tr th:only-of-type {\n",
       "        vertical-align: middle;\n",
       "    }\n",
       "\n",
       "    .dataframe tbody tr th {\n",
       "        vertical-align: top;\n",
       "    }\n",
       "\n",
       "    .dataframe thead th {\n",
       "        text-align: right;\n",
       "    }\n",
       "</style>\n",
       "<table border=\"1\" class=\"dataframe\">\n",
       "  <thead>\n",
       "    <tr style=\"text-align: right;\">\n",
       "      <th></th>\n",
       "      <th>Year</th>\n",
       "      <th>Source title</th>\n",
       "      <th>Period</th>\n",
       "    </tr>\n",
       "  </thead>\n",
       "  <tbody>\n",
       "    <tr>\n",
       "      <th>0</th>\n",
       "      <td>2023</td>\n",
       "      <td>American Journal of Ophthalmology Case Reports</td>\n",
       "      <td>2014 - 2023</td>\n",
       "    </tr>\n",
       "    <tr>\n",
       "      <th>1</th>\n",
       "      <td>2023</td>\n",
       "      <td>European Journal of Haematology</td>\n",
       "      <td>2014 - 2023</td>\n",
       "    </tr>\n",
       "    <tr>\n",
       "      <th>2</th>\n",
       "      <td>2023</td>\n",
       "      <td>International Journal of Environmental Researc...</td>\n",
       "      <td>2014 - 2023</td>\n",
       "    </tr>\n",
       "    <tr>\n",
       "      <th>3</th>\n",
       "      <td>2023</td>\n",
       "      <td>Genes</td>\n",
       "      <td>2014 - 2023</td>\n",
       "    </tr>\n",
       "    <tr>\n",
       "      <th>4</th>\n",
       "      <td>2023</td>\n",
       "      <td>Eye (Basingstoke)</td>\n",
       "      <td>2014 - 2023</td>\n",
       "    </tr>\n",
       "    <tr>\n",
       "      <th>...</th>\n",
       "      <td>...</td>\n",
       "      <td>...</td>\n",
       "      <td>...</td>\n",
       "    </tr>\n",
       "    <tr>\n",
       "      <th>794</th>\n",
       "      <td>1964</td>\n",
       "      <td>Transactions - American Academy of Ophthalmolo...</td>\n",
       "      <td>1964 - 1973</td>\n",
       "    </tr>\n",
       "    <tr>\n",
       "      <th>795</th>\n",
       "      <td>1963</td>\n",
       "      <td>Belgisch tijdschrift voor geneeskunde</td>\n",
       "      <td>1954 - 1963</td>\n",
       "    </tr>\n",
       "    <tr>\n",
       "      <th>796</th>\n",
       "      <td>1960</td>\n",
       "      <td>Klinische Monatsblätter für Augenheilkunde und...</td>\n",
       "      <td>1954 - 1963</td>\n",
       "    </tr>\n",
       "    <tr>\n",
       "      <th>797</th>\n",
       "      <td>1958</td>\n",
       "      <td>The Mississippi doctor</td>\n",
       "      <td>1954 - 1963</td>\n",
       "    </tr>\n",
       "    <tr>\n",
       "      <th>798</th>\n",
       "      <td>1954</td>\n",
       "      <td>American Journal of Ophthalmology</td>\n",
       "      <td>1954 - 1963</td>\n",
       "    </tr>\n",
       "  </tbody>\n",
       "</table>\n",
       "<p>799 rows × 3 columns</p>\n",
       "</div>"
      ],
      "text/plain": [
       "     Year                                       Source title       Period\n",
       "0    2023     American Journal of Ophthalmology Case Reports  2014 - 2023\n",
       "1    2023                    European Journal of Haematology  2014 - 2023\n",
       "2    2023  International Journal of Environmental Researc...  2014 - 2023\n",
       "3    2023                                              Genes  2014 - 2023\n",
       "4    2023                                  Eye (Basingstoke)  2014 - 2023\n",
       "..    ...                                                ...          ...\n",
       "794  1964  Transactions - American Academy of Ophthalmolo...  1964 - 1973\n",
       "795  1963              Belgisch tijdschrift voor geneeskunde  1954 - 1963\n",
       "796  1960  Klinische Monatsblätter für Augenheilkunde und...  1954 - 1963\n",
       "797  1958                             The Mississippi doctor  1954 - 1963\n",
       "798  1954                  American Journal of Ophthalmology  1954 - 1963\n",
       "\n",
       "[799 rows x 3 columns]"
      ]
     },
     "execution_count": 408,
     "metadata": {},
     "output_type": "execute_result"
    }
   ],
   "source": [
    "cols = ['Year', 'Source title','Period']\n",
    "journals = data[cols]\n",
    "journals\n"
   ]
  },
  {
   "cell_type": "code",
   "execution_count": 411,
   "metadata": {},
   "outputs": [
    {
     "name": "stderr",
     "output_type": "stream",
     "text": [
      "C:\\Users\\Sherrif\\AppData\\Local\\Temp\\ipykernel_17892\\150703565.py:1: SettingWithCopyWarning:\n",
      "\n",
      "\n",
      "A value is trying to be set on a copy of a slice from a DataFrame.\n",
      "Try using .loc[row_indexer,col_indexer] = value instead\n",
      "\n",
      "See the caveats in the documentation: https://pandas.pydata.org/pandas-docs/stable/user_guide/indexing.html#returning-a-view-versus-a-copy\n",
      "\n"
     ]
    },
    {
     "data": {
      "text/html": [
       "<div>\n",
       "<style scoped>\n",
       "    .dataframe tbody tr th:only-of-type {\n",
       "        vertical-align: middle;\n",
       "    }\n",
       "\n",
       "    .dataframe tbody tr th {\n",
       "        vertical-align: top;\n",
       "    }\n",
       "\n",
       "    .dataframe thead th {\n",
       "        text-align: right;\n",
       "    }\n",
       "</style>\n",
       "<table border=\"1\" class=\"dataframe\">\n",
       "  <thead>\n",
       "    <tr style=\"text-align: right;\">\n",
       "      <th></th>\n",
       "      <th>Source title</th>\n",
       "      <th>Period</th>\n",
       "      <th>Year</th>\n",
       "      <th>counts</th>\n",
       "    </tr>\n",
       "  </thead>\n",
       "  <tbody>\n",
       "    <tr>\n",
       "      <th>0</th>\n",
       "      <td>American Journal of Ophthalmology</td>\n",
       "      <td>1954 - 1963</td>\n",
       "      <td>1954</td>\n",
       "      <td>1</td>\n",
       "    </tr>\n",
       "    <tr>\n",
       "      <th>1</th>\n",
       "      <td>American Journal of Ophthalmology</td>\n",
       "      <td>1964 - 1973</td>\n",
       "      <td>13799</td>\n",
       "      <td>7</td>\n",
       "    </tr>\n",
       "    <tr>\n",
       "      <th>2</th>\n",
       "      <td>American Journal of Ophthalmology</td>\n",
       "      <td>1974 - 1983</td>\n",
       "      <td>29675</td>\n",
       "      <td>15</td>\n",
       "    </tr>\n",
       "    <tr>\n",
       "      <th>3</th>\n",
       "      <td>American Journal of Ophthalmology</td>\n",
       "      <td>1984 - 1993</td>\n",
       "      <td>5967</td>\n",
       "      <td>3</td>\n",
       "    </tr>\n",
       "    <tr>\n",
       "      <th>4</th>\n",
       "      <td>American Journal of Ophthalmology</td>\n",
       "      <td>1994 - 2003</td>\n",
       "      <td>3997</td>\n",
       "      <td>2</td>\n",
       "    </tr>\n",
       "    <tr>\n",
       "      <th>5</th>\n",
       "      <td>American Journal of Ophthalmology</td>\n",
       "      <td>2004 - 2013</td>\n",
       "      <td>4022</td>\n",
       "      <td>2</td>\n",
       "    </tr>\n",
       "    <tr>\n",
       "      <th>6</th>\n",
       "      <td>American Journal of Ophthalmology</td>\n",
       "      <td>2014 - 2023</td>\n",
       "      <td>20177</td>\n",
       "      <td>10</td>\n",
       "    </tr>\n",
       "  </tbody>\n",
       "</table>\n",
       "</div>"
      ],
      "text/plain": [
       "                        Source title       Period   Year  counts\n",
       "0  American Journal of Ophthalmology  1954 - 1963   1954       1\n",
       "1  American Journal of Ophthalmology  1964 - 1973  13799       7\n",
       "2  American Journal of Ophthalmology  1974 - 1983  29675      15\n",
       "3  American Journal of Ophthalmology  1984 - 1993   5967       3\n",
       "4  American Journal of Ophthalmology  1994 - 2003   3997       2\n",
       "5  American Journal of Ophthalmology  2004 - 2013   4022       2\n",
       "6  American Journal of Ophthalmology  2014 - 2023  20177      10"
      ]
     },
     "execution_count": 411,
     "metadata": {},
     "output_type": "execute_result"
    }
   ],
   "source": [
    "journals['counts'] = 1\n",
    "plot = journals[journals['Source title']=='American Journal of Ophthalmology']\n",
    "plot.groupby(['Source title', 'Period'],sort=True, as_index=False).sum()\n",
    "\n",
    "\n",
    "\n"
   ]
  },
  {
   "cell_type": "code",
   "execution_count": 413,
   "metadata": {},
   "outputs": [],
   "source": [
    "journals.to_csv('../data/processed/journals_df.csv')"
   ]
  },
  {
   "cell_type": "code",
   "execution_count": 414,
   "metadata": {},
   "outputs": [
    {
     "data": {
      "text/plain": [
       "Index(['Title', 'Year', 'Source title', 'Abstract', 'Index Keywords',\n",
       "       'Cited by', 'Publisher', 'Language of Original Document',\n",
       "       'Document Type', 'countries', 'Funding Entities', 'Main Country',\n",
       "       'Period', 'Number of collaborators'],\n",
       "      dtype='object')"
      ]
     },
     "execution_count": 414,
     "metadata": {},
     "output_type": "execute_result"
    }
   ],
   "source": [
    "data.columns"
   ]
  },
  {
   "attachments": {},
   "cell_type": "markdown",
   "metadata": {},
   "source": [
    "# Publications Languages and Document type"
   ]
  },
  {
   "cell_type": "code",
   "execution_count": 416,
   "metadata": {},
   "outputs": [
    {
     "data": {
      "text/html": [
       "<div>\n",
       "<style scoped>\n",
       "    .dataframe tbody tr th:only-of-type {\n",
       "        vertical-align: middle;\n",
       "    }\n",
       "\n",
       "    .dataframe tbody tr th {\n",
       "        vertical-align: top;\n",
       "    }\n",
       "\n",
       "    .dataframe thead th {\n",
       "        text-align: right;\n",
       "    }\n",
       "</style>\n",
       "<table border=\"1\" class=\"dataframe\">\n",
       "  <thead>\n",
       "    <tr style=\"text-align: right;\">\n",
       "      <th></th>\n",
       "      <th>Language of Original Document</th>\n",
       "      <th>Document Type</th>\n",
       "    </tr>\n",
       "  </thead>\n",
       "  <tbody>\n",
       "    <tr>\n",
       "      <th>0</th>\n",
       "      <td>English</td>\n",
       "      <td>Article</td>\n",
       "    </tr>\n",
       "    <tr>\n",
       "      <th>1</th>\n",
       "      <td>English</td>\n",
       "      <td>Article</td>\n",
       "    </tr>\n",
       "    <tr>\n",
       "      <th>2</th>\n",
       "      <td>English</td>\n",
       "      <td>Article</td>\n",
       "    </tr>\n",
       "    <tr>\n",
       "      <th>3</th>\n",
       "      <td>English</td>\n",
       "      <td>Review</td>\n",
       "    </tr>\n",
       "    <tr>\n",
       "      <th>4</th>\n",
       "      <td>English</td>\n",
       "      <td>Letter</td>\n",
       "    </tr>\n",
       "    <tr>\n",
       "      <th>...</th>\n",
       "      <td>...</td>\n",
       "      <td>...</td>\n",
       "    </tr>\n",
       "    <tr>\n",
       "      <th>794</th>\n",
       "      <td>English</td>\n",
       "      <td>Article</td>\n",
       "    </tr>\n",
       "    <tr>\n",
       "      <th>795</th>\n",
       "      <td>Dutch</td>\n",
       "      <td>Review</td>\n",
       "    </tr>\n",
       "    <tr>\n",
       "      <th>796</th>\n",
       "      <td>German</td>\n",
       "      <td>Article</td>\n",
       "    </tr>\n",
       "    <tr>\n",
       "      <th>797</th>\n",
       "      <td>English</td>\n",
       "      <td>Article</td>\n",
       "    </tr>\n",
       "    <tr>\n",
       "      <th>798</th>\n",
       "      <td>English</td>\n",
       "      <td>Article</td>\n",
       "    </tr>\n",
       "  </tbody>\n",
       "</table>\n",
       "<p>799 rows × 2 columns</p>\n",
       "</div>"
      ],
      "text/plain": [
       "    Language of Original Document Document Type\n",
       "0                         English       Article\n",
       "1                         English       Article\n",
       "2                         English       Article\n",
       "3                         English        Review\n",
       "4                         English        Letter\n",
       "..                            ...           ...\n",
       "794                       English       Article\n",
       "795                         Dutch        Review\n",
       "796                        German       Article\n",
       "797                       English       Article\n",
       "798                       English       Article\n",
       "\n",
       "[799 rows x 2 columns]"
      ]
     },
     "execution_count": 416,
     "metadata": {},
     "output_type": "execute_result"
    }
   ],
   "source": [
    "cols = ['Language of Original Document','Document Type']\n",
    "pub_doc = data[cols]\n",
    "pub_doc\n"
   ]
  },
  {
   "cell_type": "code",
   "execution_count": 417,
   "metadata": {},
   "outputs": [
    {
     "data": {
      "text/plain": [
       "Language of Original Document    0\n",
       "Document Type                    3\n",
       "dtype: int64"
      ]
     },
     "execution_count": 417,
     "metadata": {},
     "output_type": "execute_result"
    }
   ],
   "source": [
    "pub_doc.isnull().sum()"
   ]
  },
  {
   "cell_type": "code",
   "execution_count": 418,
   "metadata": {},
   "outputs": [
    {
     "data": {
      "text/plain": [
       "Language of Original Document\n",
       "English                726\n",
       "French                  28\n",
       "English; French         11\n",
       "German                  10\n",
       "Portuguese               9\n",
       "Spanish                  3\n",
       "English; Portuguese      2\n",
       "English; Spanish         2\n",
       "Italian                  2\n",
       "Japanese                 2\n",
       "Dutch                    2\n",
       "Chinese                  1\n",
       "Russian                  1\n",
       "Name: count, dtype: int64"
      ]
     },
     "execution_count": 418,
     "metadata": {},
     "output_type": "execute_result"
    }
   ],
   "source": [
    "pub_doc['Language of Original Document'].value_counts()"
   ]
  },
  {
   "cell_type": "code",
   "execution_count": 425,
   "metadata": {},
   "outputs": [
    {
     "data": {
      "application/vnd.plotly.v1+json": {
       "config": {
        "plotlyServerURL": "https://plot.ly"
       },
       "data": [
        {
         "alignmentgroup": "True",
         "hovertemplate": "Language of Original Document=%{x}<br>counts=%{y}<extra></extra>",
         "legendgroup": "",
         "marker": {
          "color": "#636efa",
          "pattern": {
           "shape": ""
          }
         },
         "name": "",
         "offsetgroup": "",
         "orientation": "v",
         "showlegend": false,
         "textposition": "auto",
         "type": "bar",
         "x": [
          "Chinese",
          "Dutch",
          "English",
          "English; French",
          "English; Portuguese",
          "English; Spanish",
          "French",
          "German",
          "Italian",
          "Japanese",
          "Portuguese",
          "Russian",
          "Spanish"
         ],
         "xaxis": "x",
         "y": [
          1,
          2,
          726,
          11,
          2,
          2,
          28,
          10,
          2,
          2,
          9,
          1,
          3
         ],
         "yaxis": "y"
        }
       ],
       "layout": {
        "barmode": "relative",
        "legend": {
         "tracegroupgap": 0
        },
        "margin": {
         "t": 60
        },
        "template": {
         "data": {
          "bar": [
           {
            "error_x": {
             "color": "#2a3f5f"
            },
            "error_y": {
             "color": "#2a3f5f"
            },
            "marker": {
             "line": {
              "color": "#E5ECF6",
              "width": 0.5
             },
             "pattern": {
              "fillmode": "overlay",
              "size": 10,
              "solidity": 0.2
             }
            },
            "type": "bar"
           }
          ],
          "barpolar": [
           {
            "marker": {
             "line": {
              "color": "#E5ECF6",
              "width": 0.5
             },
             "pattern": {
              "fillmode": "overlay",
              "size": 10,
              "solidity": 0.2
             }
            },
            "type": "barpolar"
           }
          ],
          "carpet": [
           {
            "aaxis": {
             "endlinecolor": "#2a3f5f",
             "gridcolor": "white",
             "linecolor": "white",
             "minorgridcolor": "white",
             "startlinecolor": "#2a3f5f"
            },
            "baxis": {
             "endlinecolor": "#2a3f5f",
             "gridcolor": "white",
             "linecolor": "white",
             "minorgridcolor": "white",
             "startlinecolor": "#2a3f5f"
            },
            "type": "carpet"
           }
          ],
          "choropleth": [
           {
            "colorbar": {
             "outlinewidth": 0,
             "ticks": ""
            },
            "type": "choropleth"
           }
          ],
          "contour": [
           {
            "colorbar": {
             "outlinewidth": 0,
             "ticks": ""
            },
            "colorscale": [
             [
              0,
              "#0d0887"
             ],
             [
              0.1111111111111111,
              "#46039f"
             ],
             [
              0.2222222222222222,
              "#7201a8"
             ],
             [
              0.3333333333333333,
              "#9c179e"
             ],
             [
              0.4444444444444444,
              "#bd3786"
             ],
             [
              0.5555555555555556,
              "#d8576b"
             ],
             [
              0.6666666666666666,
              "#ed7953"
             ],
             [
              0.7777777777777778,
              "#fb9f3a"
             ],
             [
              0.8888888888888888,
              "#fdca26"
             ],
             [
              1,
              "#f0f921"
             ]
            ],
            "type": "contour"
           }
          ],
          "contourcarpet": [
           {
            "colorbar": {
             "outlinewidth": 0,
             "ticks": ""
            },
            "type": "contourcarpet"
           }
          ],
          "heatmap": [
           {
            "colorbar": {
             "outlinewidth": 0,
             "ticks": ""
            },
            "colorscale": [
             [
              0,
              "#0d0887"
             ],
             [
              0.1111111111111111,
              "#46039f"
             ],
             [
              0.2222222222222222,
              "#7201a8"
             ],
             [
              0.3333333333333333,
              "#9c179e"
             ],
             [
              0.4444444444444444,
              "#bd3786"
             ],
             [
              0.5555555555555556,
              "#d8576b"
             ],
             [
              0.6666666666666666,
              "#ed7953"
             ],
             [
              0.7777777777777778,
              "#fb9f3a"
             ],
             [
              0.8888888888888888,
              "#fdca26"
             ],
             [
              1,
              "#f0f921"
             ]
            ],
            "type": "heatmap"
           }
          ],
          "heatmapgl": [
           {
            "colorbar": {
             "outlinewidth": 0,
             "ticks": ""
            },
            "colorscale": [
             [
              0,
              "#0d0887"
             ],
             [
              0.1111111111111111,
              "#46039f"
             ],
             [
              0.2222222222222222,
              "#7201a8"
             ],
             [
              0.3333333333333333,
              "#9c179e"
             ],
             [
              0.4444444444444444,
              "#bd3786"
             ],
             [
              0.5555555555555556,
              "#d8576b"
             ],
             [
              0.6666666666666666,
              "#ed7953"
             ],
             [
              0.7777777777777778,
              "#fb9f3a"
             ],
             [
              0.8888888888888888,
              "#fdca26"
             ],
             [
              1,
              "#f0f921"
             ]
            ],
            "type": "heatmapgl"
           }
          ],
          "histogram": [
           {
            "marker": {
             "pattern": {
              "fillmode": "overlay",
              "size": 10,
              "solidity": 0.2
             }
            },
            "type": "histogram"
           }
          ],
          "histogram2d": [
           {
            "colorbar": {
             "outlinewidth": 0,
             "ticks": ""
            },
            "colorscale": [
             [
              0,
              "#0d0887"
             ],
             [
              0.1111111111111111,
              "#46039f"
             ],
             [
              0.2222222222222222,
              "#7201a8"
             ],
             [
              0.3333333333333333,
              "#9c179e"
             ],
             [
              0.4444444444444444,
              "#bd3786"
             ],
             [
              0.5555555555555556,
              "#d8576b"
             ],
             [
              0.6666666666666666,
              "#ed7953"
             ],
             [
              0.7777777777777778,
              "#fb9f3a"
             ],
             [
              0.8888888888888888,
              "#fdca26"
             ],
             [
              1,
              "#f0f921"
             ]
            ],
            "type": "histogram2d"
           }
          ],
          "histogram2dcontour": [
           {
            "colorbar": {
             "outlinewidth": 0,
             "ticks": ""
            },
            "colorscale": [
             [
              0,
              "#0d0887"
             ],
             [
              0.1111111111111111,
              "#46039f"
             ],
             [
              0.2222222222222222,
              "#7201a8"
             ],
             [
              0.3333333333333333,
              "#9c179e"
             ],
             [
              0.4444444444444444,
              "#bd3786"
             ],
             [
              0.5555555555555556,
              "#d8576b"
             ],
             [
              0.6666666666666666,
              "#ed7953"
             ],
             [
              0.7777777777777778,
              "#fb9f3a"
             ],
             [
              0.8888888888888888,
              "#fdca26"
             ],
             [
              1,
              "#f0f921"
             ]
            ],
            "type": "histogram2dcontour"
           }
          ],
          "mesh3d": [
           {
            "colorbar": {
             "outlinewidth": 0,
             "ticks": ""
            },
            "type": "mesh3d"
           }
          ],
          "parcoords": [
           {
            "line": {
             "colorbar": {
              "outlinewidth": 0,
              "ticks": ""
             }
            },
            "type": "parcoords"
           }
          ],
          "pie": [
           {
            "automargin": true,
            "type": "pie"
           }
          ],
          "scatter": [
           {
            "fillpattern": {
             "fillmode": "overlay",
             "size": 10,
             "solidity": 0.2
            },
            "type": "scatter"
           }
          ],
          "scatter3d": [
           {
            "line": {
             "colorbar": {
              "outlinewidth": 0,
              "ticks": ""
             }
            },
            "marker": {
             "colorbar": {
              "outlinewidth": 0,
              "ticks": ""
             }
            },
            "type": "scatter3d"
           }
          ],
          "scattercarpet": [
           {
            "marker": {
             "colorbar": {
              "outlinewidth": 0,
              "ticks": ""
             }
            },
            "type": "scattercarpet"
           }
          ],
          "scattergeo": [
           {
            "marker": {
             "colorbar": {
              "outlinewidth": 0,
              "ticks": ""
             }
            },
            "type": "scattergeo"
           }
          ],
          "scattergl": [
           {
            "marker": {
             "colorbar": {
              "outlinewidth": 0,
              "ticks": ""
             }
            },
            "type": "scattergl"
           }
          ],
          "scattermapbox": [
           {
            "marker": {
             "colorbar": {
              "outlinewidth": 0,
              "ticks": ""
             }
            },
            "type": "scattermapbox"
           }
          ],
          "scatterpolar": [
           {
            "marker": {
             "colorbar": {
              "outlinewidth": 0,
              "ticks": ""
             }
            },
            "type": "scatterpolar"
           }
          ],
          "scatterpolargl": [
           {
            "marker": {
             "colorbar": {
              "outlinewidth": 0,
              "ticks": ""
             }
            },
            "type": "scatterpolargl"
           }
          ],
          "scatterternary": [
           {
            "marker": {
             "colorbar": {
              "outlinewidth": 0,
              "ticks": ""
             }
            },
            "type": "scatterternary"
           }
          ],
          "surface": [
           {
            "colorbar": {
             "outlinewidth": 0,
             "ticks": ""
            },
            "colorscale": [
             [
              0,
              "#0d0887"
             ],
             [
              0.1111111111111111,
              "#46039f"
             ],
             [
              0.2222222222222222,
              "#7201a8"
             ],
             [
              0.3333333333333333,
              "#9c179e"
             ],
             [
              0.4444444444444444,
              "#bd3786"
             ],
             [
              0.5555555555555556,
              "#d8576b"
             ],
             [
              0.6666666666666666,
              "#ed7953"
             ],
             [
              0.7777777777777778,
              "#fb9f3a"
             ],
             [
              0.8888888888888888,
              "#fdca26"
             ],
             [
              1,
              "#f0f921"
             ]
            ],
            "type": "surface"
           }
          ],
          "table": [
           {
            "cells": {
             "fill": {
              "color": "#EBF0F8"
             },
             "line": {
              "color": "white"
             }
            },
            "header": {
             "fill": {
              "color": "#C8D4E3"
             },
             "line": {
              "color": "white"
             }
            },
            "type": "table"
           }
          ]
         },
         "layout": {
          "annotationdefaults": {
           "arrowcolor": "#2a3f5f",
           "arrowhead": 0,
           "arrowwidth": 1
          },
          "autotypenumbers": "strict",
          "coloraxis": {
           "colorbar": {
            "outlinewidth": 0,
            "ticks": ""
           }
          },
          "colorscale": {
           "diverging": [
            [
             0,
             "#8e0152"
            ],
            [
             0.1,
             "#c51b7d"
            ],
            [
             0.2,
             "#de77ae"
            ],
            [
             0.3,
             "#f1b6da"
            ],
            [
             0.4,
             "#fde0ef"
            ],
            [
             0.5,
             "#f7f7f7"
            ],
            [
             0.6,
             "#e6f5d0"
            ],
            [
             0.7,
             "#b8e186"
            ],
            [
             0.8,
             "#7fbc41"
            ],
            [
             0.9,
             "#4d9221"
            ],
            [
             1,
             "#276419"
            ]
           ],
           "sequential": [
            [
             0,
             "#0d0887"
            ],
            [
             0.1111111111111111,
             "#46039f"
            ],
            [
             0.2222222222222222,
             "#7201a8"
            ],
            [
             0.3333333333333333,
             "#9c179e"
            ],
            [
             0.4444444444444444,
             "#bd3786"
            ],
            [
             0.5555555555555556,
             "#d8576b"
            ],
            [
             0.6666666666666666,
             "#ed7953"
            ],
            [
             0.7777777777777778,
             "#fb9f3a"
            ],
            [
             0.8888888888888888,
             "#fdca26"
            ],
            [
             1,
             "#f0f921"
            ]
           ],
           "sequentialminus": [
            [
             0,
             "#0d0887"
            ],
            [
             0.1111111111111111,
             "#46039f"
            ],
            [
             0.2222222222222222,
             "#7201a8"
            ],
            [
             0.3333333333333333,
             "#9c179e"
            ],
            [
             0.4444444444444444,
             "#bd3786"
            ],
            [
             0.5555555555555556,
             "#d8576b"
            ],
            [
             0.6666666666666666,
             "#ed7953"
            ],
            [
             0.7777777777777778,
             "#fb9f3a"
            ],
            [
             0.8888888888888888,
             "#fdca26"
            ],
            [
             1,
             "#f0f921"
            ]
           ]
          },
          "colorway": [
           "#636efa",
           "#EF553B",
           "#00cc96",
           "#ab63fa",
           "#FFA15A",
           "#19d3f3",
           "#FF6692",
           "#B6E880",
           "#FF97FF",
           "#FECB52"
          ],
          "font": {
           "color": "#2a3f5f"
          },
          "geo": {
           "bgcolor": "white",
           "lakecolor": "white",
           "landcolor": "#E5ECF6",
           "showlakes": true,
           "showland": true,
           "subunitcolor": "white"
          },
          "hoverlabel": {
           "align": "left"
          },
          "hovermode": "closest",
          "mapbox": {
           "style": "light"
          },
          "paper_bgcolor": "white",
          "plot_bgcolor": "#E5ECF6",
          "polar": {
           "angularaxis": {
            "gridcolor": "white",
            "linecolor": "white",
            "ticks": ""
           },
           "bgcolor": "#E5ECF6",
           "radialaxis": {
            "gridcolor": "white",
            "linecolor": "white",
            "ticks": ""
           }
          },
          "scene": {
           "xaxis": {
            "backgroundcolor": "#E5ECF6",
            "gridcolor": "white",
            "gridwidth": 2,
            "linecolor": "white",
            "showbackground": true,
            "ticks": "",
            "zerolinecolor": "white"
           },
           "yaxis": {
            "backgroundcolor": "#E5ECF6",
            "gridcolor": "white",
            "gridwidth": 2,
            "linecolor": "white",
            "showbackground": true,
            "ticks": "",
            "zerolinecolor": "white"
           },
           "zaxis": {
            "backgroundcolor": "#E5ECF6",
            "gridcolor": "white",
            "gridwidth": 2,
            "linecolor": "white",
            "showbackground": true,
            "ticks": "",
            "zerolinecolor": "white"
           }
          },
          "shapedefaults": {
           "line": {
            "color": "#2a3f5f"
           }
          },
          "ternary": {
           "aaxis": {
            "gridcolor": "white",
            "linecolor": "white",
            "ticks": ""
           },
           "baxis": {
            "gridcolor": "white",
            "linecolor": "white",
            "ticks": ""
           },
           "bgcolor": "#E5ECF6",
           "caxis": {
            "gridcolor": "white",
            "linecolor": "white",
            "ticks": ""
           }
          },
          "title": {
           "x": 0.05
          },
          "xaxis": {
           "automargin": true,
           "gridcolor": "white",
           "linecolor": "white",
           "ticks": "",
           "title": {
            "standoff": 15
           },
           "zerolinecolor": "white",
           "zerolinewidth": 2
          },
          "yaxis": {
           "automargin": true,
           "gridcolor": "white",
           "linecolor": "white",
           "ticks": "",
           "title": {
            "standoff": 15
           },
           "zerolinecolor": "white",
           "zerolinewidth": 2
          }
         }
        },
        "xaxis": {
         "anchor": "y",
         "domain": [
          0,
          1
         ],
         "title": {
          "text": "Language of Original Document"
         }
        },
        "yaxis": {
         "anchor": "x",
         "domain": [
          0,
          1
         ],
         "title": {
          "text": "counts"
         }
        }
       }
      }
     },
     "metadata": {},
     "output_type": "display_data"
    }
   ],
   "source": [
    "lang_df = pub_doc[['Language of Original Document']]\n",
    "lang_df['counts']=1\n",
    "lang_df = lang_df.groupby('Language of Original Document',as_index=False).sum()\n",
    "fig = px.bar(lang_df, x='Language of Original Document', y='counts')\n",
    "fig.show()"
   ]
  },
  {
   "cell_type": "code",
   "execution_count": 427,
   "metadata": {},
   "outputs": [],
   "source": [
    "lang_df.to_csv('../data/processed/lang_data.csv')"
   ]
  },
  {
   "cell_type": "code",
   "execution_count": 428,
   "metadata": {},
   "outputs": [
    {
     "data": {
      "text/plain": [
       "Document Type\n",
       "Article             574\n",
       "Review              125\n",
       "Letter               39\n",
       "Note                 19\n",
       "Book Chapter         16\n",
       "Conference Paper     12\n",
       "Editorial             5\n",
       "Erratum               2\n",
       "Short Survey          2\n",
       "Data Paper            1\n",
       "Book                  1\n",
       "Name: count, dtype: int64"
      ]
     },
     "execution_count": 428,
     "metadata": {},
     "output_type": "execute_result"
    }
   ],
   "source": [
    "pub_doc['Document Type'].value_counts()"
   ]
  },
  {
   "cell_type": "code",
   "execution_count": 429,
   "metadata": {},
   "outputs": [
    {
     "data": {
      "application/vnd.plotly.v1+json": {
       "config": {
        "plotlyServerURL": "https://plot.ly"
       },
       "data": [
        {
         "alignmentgroup": "True",
         "hovertemplate": "Document Type=%{x}<br>counts=%{y}<extra></extra>",
         "legendgroup": "",
         "marker": {
          "color": "#636efa",
          "pattern": {
           "shape": ""
          }
         },
         "name": "",
         "offsetgroup": "",
         "orientation": "v",
         "showlegend": false,
         "textposition": "auto",
         "type": "bar",
         "x": [
          "Article",
          "Book",
          "Book Chapter",
          "Conference Paper",
          "Data Paper",
          "Editorial",
          "Erratum",
          "Letter",
          "Note",
          "Review",
          "Short Survey"
         ],
         "xaxis": "x",
         "y": [
          574,
          1,
          16,
          12,
          1,
          5,
          2,
          39,
          19,
          125,
          2
         ],
         "yaxis": "y"
        }
       ],
       "layout": {
        "barmode": "relative",
        "legend": {
         "tracegroupgap": 0
        },
        "margin": {
         "t": 60
        },
        "template": {
         "data": {
          "bar": [
           {
            "error_x": {
             "color": "#2a3f5f"
            },
            "error_y": {
             "color": "#2a3f5f"
            },
            "marker": {
             "line": {
              "color": "#E5ECF6",
              "width": 0.5
             },
             "pattern": {
              "fillmode": "overlay",
              "size": 10,
              "solidity": 0.2
             }
            },
            "type": "bar"
           }
          ],
          "barpolar": [
           {
            "marker": {
             "line": {
              "color": "#E5ECF6",
              "width": 0.5
             },
             "pattern": {
              "fillmode": "overlay",
              "size": 10,
              "solidity": 0.2
             }
            },
            "type": "barpolar"
           }
          ],
          "carpet": [
           {
            "aaxis": {
             "endlinecolor": "#2a3f5f",
             "gridcolor": "white",
             "linecolor": "white",
             "minorgridcolor": "white",
             "startlinecolor": "#2a3f5f"
            },
            "baxis": {
             "endlinecolor": "#2a3f5f",
             "gridcolor": "white",
             "linecolor": "white",
             "minorgridcolor": "white",
             "startlinecolor": "#2a3f5f"
            },
            "type": "carpet"
           }
          ],
          "choropleth": [
           {
            "colorbar": {
             "outlinewidth": 0,
             "ticks": ""
            },
            "type": "choropleth"
           }
          ],
          "contour": [
           {
            "colorbar": {
             "outlinewidth": 0,
             "ticks": ""
            },
            "colorscale": [
             [
              0,
              "#0d0887"
             ],
             [
              0.1111111111111111,
              "#46039f"
             ],
             [
              0.2222222222222222,
              "#7201a8"
             ],
             [
              0.3333333333333333,
              "#9c179e"
             ],
             [
              0.4444444444444444,
              "#bd3786"
             ],
             [
              0.5555555555555556,
              "#d8576b"
             ],
             [
              0.6666666666666666,
              "#ed7953"
             ],
             [
              0.7777777777777778,
              "#fb9f3a"
             ],
             [
              0.8888888888888888,
              "#fdca26"
             ],
             [
              1,
              "#f0f921"
             ]
            ],
            "type": "contour"
           }
          ],
          "contourcarpet": [
           {
            "colorbar": {
             "outlinewidth": 0,
             "ticks": ""
            },
            "type": "contourcarpet"
           }
          ],
          "heatmap": [
           {
            "colorbar": {
             "outlinewidth": 0,
             "ticks": ""
            },
            "colorscale": [
             [
              0,
              "#0d0887"
             ],
             [
              0.1111111111111111,
              "#46039f"
             ],
             [
              0.2222222222222222,
              "#7201a8"
             ],
             [
              0.3333333333333333,
              "#9c179e"
             ],
             [
              0.4444444444444444,
              "#bd3786"
             ],
             [
              0.5555555555555556,
              "#d8576b"
             ],
             [
              0.6666666666666666,
              "#ed7953"
             ],
             [
              0.7777777777777778,
              "#fb9f3a"
             ],
             [
              0.8888888888888888,
              "#fdca26"
             ],
             [
              1,
              "#f0f921"
             ]
            ],
            "type": "heatmap"
           }
          ],
          "heatmapgl": [
           {
            "colorbar": {
             "outlinewidth": 0,
             "ticks": ""
            },
            "colorscale": [
             [
              0,
              "#0d0887"
             ],
             [
              0.1111111111111111,
              "#46039f"
             ],
             [
              0.2222222222222222,
              "#7201a8"
             ],
             [
              0.3333333333333333,
              "#9c179e"
             ],
             [
              0.4444444444444444,
              "#bd3786"
             ],
             [
              0.5555555555555556,
              "#d8576b"
             ],
             [
              0.6666666666666666,
              "#ed7953"
             ],
             [
              0.7777777777777778,
              "#fb9f3a"
             ],
             [
              0.8888888888888888,
              "#fdca26"
             ],
             [
              1,
              "#f0f921"
             ]
            ],
            "type": "heatmapgl"
           }
          ],
          "histogram": [
           {
            "marker": {
             "pattern": {
              "fillmode": "overlay",
              "size": 10,
              "solidity": 0.2
             }
            },
            "type": "histogram"
           }
          ],
          "histogram2d": [
           {
            "colorbar": {
             "outlinewidth": 0,
             "ticks": ""
            },
            "colorscale": [
             [
              0,
              "#0d0887"
             ],
             [
              0.1111111111111111,
              "#46039f"
             ],
             [
              0.2222222222222222,
              "#7201a8"
             ],
             [
              0.3333333333333333,
              "#9c179e"
             ],
             [
              0.4444444444444444,
              "#bd3786"
             ],
             [
              0.5555555555555556,
              "#d8576b"
             ],
             [
              0.6666666666666666,
              "#ed7953"
             ],
             [
              0.7777777777777778,
              "#fb9f3a"
             ],
             [
              0.8888888888888888,
              "#fdca26"
             ],
             [
              1,
              "#f0f921"
             ]
            ],
            "type": "histogram2d"
           }
          ],
          "histogram2dcontour": [
           {
            "colorbar": {
             "outlinewidth": 0,
             "ticks": ""
            },
            "colorscale": [
             [
              0,
              "#0d0887"
             ],
             [
              0.1111111111111111,
              "#46039f"
             ],
             [
              0.2222222222222222,
              "#7201a8"
             ],
             [
              0.3333333333333333,
              "#9c179e"
             ],
             [
              0.4444444444444444,
              "#bd3786"
             ],
             [
              0.5555555555555556,
              "#d8576b"
             ],
             [
              0.6666666666666666,
              "#ed7953"
             ],
             [
              0.7777777777777778,
              "#fb9f3a"
             ],
             [
              0.8888888888888888,
              "#fdca26"
             ],
             [
              1,
              "#f0f921"
             ]
            ],
            "type": "histogram2dcontour"
           }
          ],
          "mesh3d": [
           {
            "colorbar": {
             "outlinewidth": 0,
             "ticks": ""
            },
            "type": "mesh3d"
           }
          ],
          "parcoords": [
           {
            "line": {
             "colorbar": {
              "outlinewidth": 0,
              "ticks": ""
             }
            },
            "type": "parcoords"
           }
          ],
          "pie": [
           {
            "automargin": true,
            "type": "pie"
           }
          ],
          "scatter": [
           {
            "fillpattern": {
             "fillmode": "overlay",
             "size": 10,
             "solidity": 0.2
            },
            "type": "scatter"
           }
          ],
          "scatter3d": [
           {
            "line": {
             "colorbar": {
              "outlinewidth": 0,
              "ticks": ""
             }
            },
            "marker": {
             "colorbar": {
              "outlinewidth": 0,
              "ticks": ""
             }
            },
            "type": "scatter3d"
           }
          ],
          "scattercarpet": [
           {
            "marker": {
             "colorbar": {
              "outlinewidth": 0,
              "ticks": ""
             }
            },
            "type": "scattercarpet"
           }
          ],
          "scattergeo": [
           {
            "marker": {
             "colorbar": {
              "outlinewidth": 0,
              "ticks": ""
             }
            },
            "type": "scattergeo"
           }
          ],
          "scattergl": [
           {
            "marker": {
             "colorbar": {
              "outlinewidth": 0,
              "ticks": ""
             }
            },
            "type": "scattergl"
           }
          ],
          "scattermapbox": [
           {
            "marker": {
             "colorbar": {
              "outlinewidth": 0,
              "ticks": ""
             }
            },
            "type": "scattermapbox"
           }
          ],
          "scatterpolar": [
           {
            "marker": {
             "colorbar": {
              "outlinewidth": 0,
              "ticks": ""
             }
            },
            "type": "scatterpolar"
           }
          ],
          "scatterpolargl": [
           {
            "marker": {
             "colorbar": {
              "outlinewidth": 0,
              "ticks": ""
             }
            },
            "type": "scatterpolargl"
           }
          ],
          "scatterternary": [
           {
            "marker": {
             "colorbar": {
              "outlinewidth": 0,
              "ticks": ""
             }
            },
            "type": "scatterternary"
           }
          ],
          "surface": [
           {
            "colorbar": {
             "outlinewidth": 0,
             "ticks": ""
            },
            "colorscale": [
             [
              0,
              "#0d0887"
             ],
             [
              0.1111111111111111,
              "#46039f"
             ],
             [
              0.2222222222222222,
              "#7201a8"
             ],
             [
              0.3333333333333333,
              "#9c179e"
             ],
             [
              0.4444444444444444,
              "#bd3786"
             ],
             [
              0.5555555555555556,
              "#d8576b"
             ],
             [
              0.6666666666666666,
              "#ed7953"
             ],
             [
              0.7777777777777778,
              "#fb9f3a"
             ],
             [
              0.8888888888888888,
              "#fdca26"
             ],
             [
              1,
              "#f0f921"
             ]
            ],
            "type": "surface"
           }
          ],
          "table": [
           {
            "cells": {
             "fill": {
              "color": "#EBF0F8"
             },
             "line": {
              "color": "white"
             }
            },
            "header": {
             "fill": {
              "color": "#C8D4E3"
             },
             "line": {
              "color": "white"
             }
            },
            "type": "table"
           }
          ]
         },
         "layout": {
          "annotationdefaults": {
           "arrowcolor": "#2a3f5f",
           "arrowhead": 0,
           "arrowwidth": 1
          },
          "autotypenumbers": "strict",
          "coloraxis": {
           "colorbar": {
            "outlinewidth": 0,
            "ticks": ""
           }
          },
          "colorscale": {
           "diverging": [
            [
             0,
             "#8e0152"
            ],
            [
             0.1,
             "#c51b7d"
            ],
            [
             0.2,
             "#de77ae"
            ],
            [
             0.3,
             "#f1b6da"
            ],
            [
             0.4,
             "#fde0ef"
            ],
            [
             0.5,
             "#f7f7f7"
            ],
            [
             0.6,
             "#e6f5d0"
            ],
            [
             0.7,
             "#b8e186"
            ],
            [
             0.8,
             "#7fbc41"
            ],
            [
             0.9,
             "#4d9221"
            ],
            [
             1,
             "#276419"
            ]
           ],
           "sequential": [
            [
             0,
             "#0d0887"
            ],
            [
             0.1111111111111111,
             "#46039f"
            ],
            [
             0.2222222222222222,
             "#7201a8"
            ],
            [
             0.3333333333333333,
             "#9c179e"
            ],
            [
             0.4444444444444444,
             "#bd3786"
            ],
            [
             0.5555555555555556,
             "#d8576b"
            ],
            [
             0.6666666666666666,
             "#ed7953"
            ],
            [
             0.7777777777777778,
             "#fb9f3a"
            ],
            [
             0.8888888888888888,
             "#fdca26"
            ],
            [
             1,
             "#f0f921"
            ]
           ],
           "sequentialminus": [
            [
             0,
             "#0d0887"
            ],
            [
             0.1111111111111111,
             "#46039f"
            ],
            [
             0.2222222222222222,
             "#7201a8"
            ],
            [
             0.3333333333333333,
             "#9c179e"
            ],
            [
             0.4444444444444444,
             "#bd3786"
            ],
            [
             0.5555555555555556,
             "#d8576b"
            ],
            [
             0.6666666666666666,
             "#ed7953"
            ],
            [
             0.7777777777777778,
             "#fb9f3a"
            ],
            [
             0.8888888888888888,
             "#fdca26"
            ],
            [
             1,
             "#f0f921"
            ]
           ]
          },
          "colorway": [
           "#636efa",
           "#EF553B",
           "#00cc96",
           "#ab63fa",
           "#FFA15A",
           "#19d3f3",
           "#FF6692",
           "#B6E880",
           "#FF97FF",
           "#FECB52"
          ],
          "font": {
           "color": "#2a3f5f"
          },
          "geo": {
           "bgcolor": "white",
           "lakecolor": "white",
           "landcolor": "#E5ECF6",
           "showlakes": true,
           "showland": true,
           "subunitcolor": "white"
          },
          "hoverlabel": {
           "align": "left"
          },
          "hovermode": "closest",
          "mapbox": {
           "style": "light"
          },
          "paper_bgcolor": "white",
          "plot_bgcolor": "#E5ECF6",
          "polar": {
           "angularaxis": {
            "gridcolor": "white",
            "linecolor": "white",
            "ticks": ""
           },
           "bgcolor": "#E5ECF6",
           "radialaxis": {
            "gridcolor": "white",
            "linecolor": "white",
            "ticks": ""
           }
          },
          "scene": {
           "xaxis": {
            "backgroundcolor": "#E5ECF6",
            "gridcolor": "white",
            "gridwidth": 2,
            "linecolor": "white",
            "showbackground": true,
            "ticks": "",
            "zerolinecolor": "white"
           },
           "yaxis": {
            "backgroundcolor": "#E5ECF6",
            "gridcolor": "white",
            "gridwidth": 2,
            "linecolor": "white",
            "showbackground": true,
            "ticks": "",
            "zerolinecolor": "white"
           },
           "zaxis": {
            "backgroundcolor": "#E5ECF6",
            "gridcolor": "white",
            "gridwidth": 2,
            "linecolor": "white",
            "showbackground": true,
            "ticks": "",
            "zerolinecolor": "white"
           }
          },
          "shapedefaults": {
           "line": {
            "color": "#2a3f5f"
           }
          },
          "ternary": {
           "aaxis": {
            "gridcolor": "white",
            "linecolor": "white",
            "ticks": ""
           },
           "baxis": {
            "gridcolor": "white",
            "linecolor": "white",
            "ticks": ""
           },
           "bgcolor": "#E5ECF6",
           "caxis": {
            "gridcolor": "white",
            "linecolor": "white",
            "ticks": ""
           }
          },
          "title": {
           "x": 0.05
          },
          "xaxis": {
           "automargin": true,
           "gridcolor": "white",
           "linecolor": "white",
           "ticks": "",
           "title": {
            "standoff": 15
           },
           "zerolinecolor": "white",
           "zerolinewidth": 2
          },
          "yaxis": {
           "automargin": true,
           "gridcolor": "white",
           "linecolor": "white",
           "ticks": "",
           "title": {
            "standoff": 15
           },
           "zerolinecolor": "white",
           "zerolinewidth": 2
          }
         }
        },
        "xaxis": {
         "anchor": "y",
         "domain": [
          0,
          1
         ],
         "title": {
          "text": "Document Type"
         }
        },
        "yaxis": {
         "anchor": "x",
         "domain": [
          0,
          1
         ],
         "title": {
          "text": "counts"
         }
        }
       }
      }
     },
     "metadata": {},
     "output_type": "display_data"
    }
   ],
   "source": [
    "doc_type = pub_doc[['Document Type']]\n",
    "doc_type['counts']=1\n",
    "doc_type =doc_type.groupby('Document Type',as_index=False).sum()\n",
    "fig = px.bar(doc_type, x='Document Type', y='counts')\n",
    "fig.show()"
   ]
  },
  {
   "cell_type": "code",
   "execution_count": 431,
   "metadata": {},
   "outputs": [],
   "source": [
    "doc_type.to_csv('../data/processed/doc_type.csv')"
   ]
  },
  {
   "attachments": {},
   "cell_type": "markdown",
   "metadata": {},
   "source": [
    "# Funding entities and Number of collaborators"
   ]
  },
  {
   "cell_type": "code",
   "execution_count": 3,
   "metadata": {},
   "outputs": [
    {
     "data": {
      "text/plain": [
       "Index(['Title', 'Year', 'Source title', 'Abstract', 'Index Keywords',\n",
       "       'Cited by', 'Publisher', 'Language of Original Document',\n",
       "       'Document Type', 'countries', 'Funding Entities', 'Main Country',\n",
       "       'Period', 'Number of collaborators'],\n",
       "      dtype='object')"
      ]
     },
     "execution_count": 3,
     "metadata": {},
     "output_type": "execute_result"
    }
   ],
   "source": [
    "data.columns"
   ]
  },
  {
   "cell_type": "code",
   "execution_count": 4,
   "metadata": {},
   "outputs": [
    {
     "data": {
      "text/html": [
       "<div>\n",
       "<style scoped>\n",
       "    .dataframe tbody tr th:only-of-type {\n",
       "        vertical-align: middle;\n",
       "    }\n",
       "\n",
       "    .dataframe tbody tr th {\n",
       "        vertical-align: top;\n",
       "    }\n",
       "\n",
       "    .dataframe thead th {\n",
       "        text-align: right;\n",
       "    }\n",
       "</style>\n",
       "<table border=\"1\" class=\"dataframe\">\n",
       "  <thead>\n",
       "    <tr style=\"text-align: right;\">\n",
       "      <th></th>\n",
       "      <th>Year</th>\n",
       "      <th>Number of collaborators</th>\n",
       "      <th>Period</th>\n",
       "      <th>Funding Entities</th>\n",
       "    </tr>\n",
       "  </thead>\n",
       "  <tbody>\n",
       "    <tr>\n",
       "      <th>0</th>\n",
       "      <td>2023</td>\n",
       "      <td>1</td>\n",
       "      <td>2014 - 2023</td>\n",
       "      <td>[]</td>\n",
       "    </tr>\n",
       "    <tr>\n",
       "      <th>1</th>\n",
       "      <td>2023</td>\n",
       "      <td>2</td>\n",
       "      <td>2014 - 2023</td>\n",
       "      <td>[]</td>\n",
       "    </tr>\n",
       "    <tr>\n",
       "      <th>2</th>\n",
       "      <td>2023</td>\n",
       "      <td>1</td>\n",
       "      <td>2014 - 2023</td>\n",
       "      <td>[Albert Einstein College of Medicine, Yeshiva ...</td>\n",
       "    </tr>\n",
       "    <tr>\n",
       "      <th>3</th>\n",
       "      <td>2023</td>\n",
       "      <td>1</td>\n",
       "      <td>2014 - 2023</td>\n",
       "      <td>[National Research Foundation]</td>\n",
       "    </tr>\n",
       "    <tr>\n",
       "      <th>4</th>\n",
       "      <td>2023</td>\n",
       "      <td>1</td>\n",
       "      <td>2014 - 2023</td>\n",
       "      <td>[]</td>\n",
       "    </tr>\n",
       "  </tbody>\n",
       "</table>\n",
       "</div>"
      ],
      "text/plain": [
       "   Year  Number of collaborators       Period  \\\n",
       "0  2023                        1  2014 - 2023   \n",
       "1  2023                        2  2014 - 2023   \n",
       "2  2023                        1  2014 - 2023   \n",
       "3  2023                        1  2014 - 2023   \n",
       "4  2023                        1  2014 - 2023   \n",
       "\n",
       "                                    Funding Entities  \n",
       "0                                                 []  \n",
       "1                                                 []  \n",
       "2  [Albert Einstein College of Medicine, Yeshiva ...  \n",
       "3                     [National Research Foundation]  \n",
       "4                                                 []  "
      ]
     },
     "execution_count": 4,
     "metadata": {},
     "output_type": "execute_result"
    }
   ],
   "source": [
    "cols=['Year','Number of collaborators','Period','Funding Entities']\n",
    "df=data[cols]\n",
    "df.head()"
   ]
  },
  {
   "cell_type": "code",
   "execution_count": 26,
   "metadata": {},
   "outputs": [
    {
     "data": {
      "text/plain": [
       "Number of collaborators\n",
       "1    643\n",
       "2    124\n",
       "3     25\n",
       "5      3\n",
       "4      3\n",
       "7      1\n",
       "Name: count, dtype: int64"
      ]
     },
     "execution_count": 26,
     "metadata": {},
     "output_type": "execute_result"
    }
   ],
   "source": [
    "df['Number of collaborators'].value_counts()"
   ]
  },
  {
   "cell_type": "code",
   "execution_count": 27,
   "metadata": {},
   "outputs": [
    {
     "data": {
      "text/html": [
       "<div>\n",
       "<style scoped>\n",
       "    .dataframe tbody tr th:only-of-type {\n",
       "        vertical-align: middle;\n",
       "    }\n",
       "\n",
       "    .dataframe tbody tr th {\n",
       "        vertical-align: top;\n",
       "    }\n",
       "\n",
       "    .dataframe thead th {\n",
       "        text-align: right;\n",
       "    }\n",
       "</style>\n",
       "<table border=\"1\" class=\"dataframe\">\n",
       "  <thead>\n",
       "    <tr style=\"text-align: right;\">\n",
       "      <th></th>\n",
       "      <th>Number of collaborators</th>\n",
       "      <th>Year</th>\n",
       "    </tr>\n",
       "  </thead>\n",
       "  <tbody>\n",
       "    <tr>\n",
       "      <th>0</th>\n",
       "      <td>1</td>\n",
       "      <td>2023</td>\n",
       "    </tr>\n",
       "    <tr>\n",
       "      <th>1</th>\n",
       "      <td>2</td>\n",
       "      <td>2023</td>\n",
       "    </tr>\n",
       "    <tr>\n",
       "      <th>2</th>\n",
       "      <td>1</td>\n",
       "      <td>2023</td>\n",
       "    </tr>\n",
       "    <tr>\n",
       "      <th>3</th>\n",
       "      <td>1</td>\n",
       "      <td>2023</td>\n",
       "    </tr>\n",
       "    <tr>\n",
       "      <th>4</th>\n",
       "      <td>1</td>\n",
       "      <td>2023</td>\n",
       "    </tr>\n",
       "    <tr>\n",
       "      <th>...</th>\n",
       "      <td>...</td>\n",
       "      <td>...</td>\n",
       "    </tr>\n",
       "    <tr>\n",
       "      <th>794</th>\n",
       "      <td>1</td>\n",
       "      <td>1964</td>\n",
       "    </tr>\n",
       "    <tr>\n",
       "      <th>795</th>\n",
       "      <td>1</td>\n",
       "      <td>1963</td>\n",
       "    </tr>\n",
       "    <tr>\n",
       "      <th>796</th>\n",
       "      <td>1</td>\n",
       "      <td>1960</td>\n",
       "    </tr>\n",
       "    <tr>\n",
       "      <th>797</th>\n",
       "      <td>1</td>\n",
       "      <td>1958</td>\n",
       "    </tr>\n",
       "    <tr>\n",
       "      <th>798</th>\n",
       "      <td>1</td>\n",
       "      <td>1954</td>\n",
       "    </tr>\n",
       "  </tbody>\n",
       "</table>\n",
       "<p>799 rows × 2 columns</p>\n",
       "</div>"
      ],
      "text/plain": [
       "     Number of collaborators  Year\n",
       "0                          1  2023\n",
       "1                          2  2023\n",
       "2                          1  2023\n",
       "3                          1  2023\n",
       "4                          1  2023\n",
       "..                       ...   ...\n",
       "794                        1  1964\n",
       "795                        1  1963\n",
       "796                        1  1960\n",
       "797                        1  1958\n",
       "798                        1  1954\n",
       "\n",
       "[799 rows x 2 columns]"
      ]
     },
     "execution_count": 27,
     "metadata": {},
     "output_type": "execute_result"
    }
   ],
   "source": [
    "plot_df= df[['Number of collaborators','Year']]\n",
    "plot_df"
   ]
  },
  {
   "cell_type": "code",
   "execution_count": 28,
   "metadata": {},
   "outputs": [
    {
     "data": {
      "text/plain": [
       "0      single country\n",
       "1       two countries\n",
       "2      single country\n",
       "3      single country\n",
       "4      single country\n",
       "            ...      \n",
       "794    single country\n",
       "795    single country\n",
       "796    single country\n",
       "797    single country\n",
       "798    single country\n",
       "Name: Number of collaborators, Length: 799, dtype: category\n",
       "Categories (3, object): ['single country' < 'two countries' < '> 2 countries']"
      ]
     },
     "execution_count": 28,
     "metadata": {},
     "output_type": "execute_result"
    }
   ],
   "source": [
    "category = pd.cut(plot_df['Number of collaborators'], bins=[0,1,2,8], labels=['single country', 'two countries','> 2 countries'])\n",
    "category"
   ]
  },
  {
   "cell_type": "code",
   "execution_count": 29,
   "metadata": {},
   "outputs": [
    {
     "name": "stderr",
     "output_type": "stream",
     "text": [
      "C:\\Users\\Sherrif\\AppData\\Local\\Temp\\ipykernel_23052\\618861208.py:1: SettingWithCopyWarning: \n",
      "A value is trying to be set on a copy of a slice from a DataFrame.\n",
      "Try using .loc[row_indexer,col_indexer] = value instead\n",
      "\n",
      "See the caveats in the documentation: https://pandas.pydata.org/pandas-docs/stable/user_guide/indexing.html#returning-a-view-versus-a-copy\n",
      "  df['Number of Countries'] = category\n"
     ]
    },
    {
     "data": {
      "text/html": [
       "<div>\n",
       "<style scoped>\n",
       "    .dataframe tbody tr th:only-of-type {\n",
       "        vertical-align: middle;\n",
       "    }\n",
       "\n",
       "    .dataframe tbody tr th {\n",
       "        vertical-align: top;\n",
       "    }\n",
       "\n",
       "    .dataframe thead th {\n",
       "        text-align: right;\n",
       "    }\n",
       "</style>\n",
       "<table border=\"1\" class=\"dataframe\">\n",
       "  <thead>\n",
       "    <tr style=\"text-align: right;\">\n",
       "      <th></th>\n",
       "      <th>Year</th>\n",
       "      <th>Number of collaborators</th>\n",
       "      <th>Period</th>\n",
       "      <th>Funding Entities</th>\n",
       "      <th>Number of Countries</th>\n",
       "    </tr>\n",
       "  </thead>\n",
       "  <tbody>\n",
       "    <tr>\n",
       "      <th>0</th>\n",
       "      <td>2023</td>\n",
       "      <td>1</td>\n",
       "      <td>2014 - 2023</td>\n",
       "      <td>[]</td>\n",
       "      <td>single country</td>\n",
       "    </tr>\n",
       "    <tr>\n",
       "      <th>1</th>\n",
       "      <td>2023</td>\n",
       "      <td>2</td>\n",
       "      <td>2014 - 2023</td>\n",
       "      <td>[]</td>\n",
       "      <td>two countries</td>\n",
       "    </tr>\n",
       "    <tr>\n",
       "      <th>2</th>\n",
       "      <td>2023</td>\n",
       "      <td>1</td>\n",
       "      <td>2014 - 2023</td>\n",
       "      <td>[Albert Einstein College of Medicine, Yeshiva ...</td>\n",
       "      <td>single country</td>\n",
       "    </tr>\n",
       "    <tr>\n",
       "      <th>3</th>\n",
       "      <td>2023</td>\n",
       "      <td>1</td>\n",
       "      <td>2014 - 2023</td>\n",
       "      <td>[National Research Foundation]</td>\n",
       "      <td>single country</td>\n",
       "    </tr>\n",
       "    <tr>\n",
       "      <th>4</th>\n",
       "      <td>2023</td>\n",
       "      <td>1</td>\n",
       "      <td>2014 - 2023</td>\n",
       "      <td>[]</td>\n",
       "      <td>single country</td>\n",
       "    </tr>\n",
       "    <tr>\n",
       "      <th>...</th>\n",
       "      <td>...</td>\n",
       "      <td>...</td>\n",
       "      <td>...</td>\n",
       "      <td>...</td>\n",
       "      <td>...</td>\n",
       "    </tr>\n",
       "    <tr>\n",
       "      <th>794</th>\n",
       "      <td>1964</td>\n",
       "      <td>1</td>\n",
       "      <td>1964 - 1973</td>\n",
       "      <td>[]</td>\n",
       "      <td>single country</td>\n",
       "    </tr>\n",
       "    <tr>\n",
       "      <th>795</th>\n",
       "      <td>1963</td>\n",
       "      <td>1</td>\n",
       "      <td>1954 - 1963</td>\n",
       "      <td>[]</td>\n",
       "      <td>single country</td>\n",
       "    </tr>\n",
       "    <tr>\n",
       "      <th>796</th>\n",
       "      <td>1960</td>\n",
       "      <td>1</td>\n",
       "      <td>1954 - 1963</td>\n",
       "      <td>[]</td>\n",
       "      <td>single country</td>\n",
       "    </tr>\n",
       "    <tr>\n",
       "      <th>797</th>\n",
       "      <td>1958</td>\n",
       "      <td>1</td>\n",
       "      <td>1954 - 1963</td>\n",
       "      <td>[]</td>\n",
       "      <td>single country</td>\n",
       "    </tr>\n",
       "    <tr>\n",
       "      <th>798</th>\n",
       "      <td>1954</td>\n",
       "      <td>1</td>\n",
       "      <td>1954 - 1963</td>\n",
       "      <td>[]</td>\n",
       "      <td>single country</td>\n",
       "    </tr>\n",
       "  </tbody>\n",
       "</table>\n",
       "<p>799 rows × 5 columns</p>\n",
       "</div>"
      ],
      "text/plain": [
       "     Year  Number of collaborators       Period  \\\n",
       "0    2023                        1  2014 - 2023   \n",
       "1    2023                        2  2014 - 2023   \n",
       "2    2023                        1  2014 - 2023   \n",
       "3    2023                        1  2014 - 2023   \n",
       "4    2023                        1  2014 - 2023   \n",
       "..    ...                      ...          ...   \n",
       "794  1964                        1  1964 - 1973   \n",
       "795  1963                        1  1954 - 1963   \n",
       "796  1960                        1  1954 - 1963   \n",
       "797  1958                        1  1954 - 1963   \n",
       "798  1954                        1  1954 - 1963   \n",
       "\n",
       "                                      Funding Entities Number of Countries  \n",
       "0                                                   []      single country  \n",
       "1                                                   []       two countries  \n",
       "2    [Albert Einstein College of Medicine, Yeshiva ...      single country  \n",
       "3                       [National Research Foundation]      single country  \n",
       "4                                                   []      single country  \n",
       "..                                                 ...                 ...  \n",
       "794                                                 []      single country  \n",
       "795                                                 []      single country  \n",
       "796                                                 []      single country  \n",
       "797                                                 []      single country  \n",
       "798                                                 []      single country  \n",
       "\n",
       "[799 rows x 5 columns]"
      ]
     },
     "execution_count": 29,
     "metadata": {},
     "output_type": "execute_result"
    }
   ],
   "source": [
    "df['Number of Countries'] = category\n",
    "df"
   ]
  },
  {
   "cell_type": "code",
   "execution_count": 32,
   "metadata": {},
   "outputs": [
    {
     "data": {
      "text/plain": [
       "<Axes: >"
      ]
     },
     "execution_count": 32,
     "metadata": {},
     "output_type": "execute_result"
    },
    {
     "data": {
      "image/png": "[encoded data removed]",
      "text/plain": [
       "<Figure size 640x480 with 1 Axes>"
      ]
     },
     "metadata": {},
     "output_type": "display_data"
    }
   ],
   "source": [
    "import matplotlib\n",
    "df['Number of Countries'].hist()"
   ]
  },
  {
   "cell_type": "code",
   "execution_count": 38,
   "metadata": {},
   "outputs": [],
   "source": [
    "test_df = df[['Year','Number of Countries']]"
   ]
  },
  {
   "cell_type": "code",
   "execution_count": 40,
   "metadata": {},
   "outputs": [
    {
     "name": "stderr",
     "output_type": "stream",
     "text": [
      "C:\\Users\\Sherrif\\AppData\\Local\\Temp\\ipykernel_23052\\3475202038.py:1: SettingWithCopyWarning: \n",
      "A value is trying to be set on a copy of a slice from a DataFrame.\n",
      "Try using .loc[row_indexer,col_indexer] = value instead\n",
      "\n",
      "See the caveats in the documentation: https://pandas.pydata.org/pandas-docs/stable/user_guide/indexing.html#returning-a-view-versus-a-copy\n",
      "  test_df['count']=1\n"
     ]
    },
    {
     "data": {
      "text/html": [
       "<div>\n",
       "<style scoped>\n",
       "    .dataframe tbody tr th:only-of-type {\n",
       "        vertical-align: middle;\n",
       "    }\n",
       "\n",
       "    .dataframe tbody tr th {\n",
       "        vertical-align: top;\n",
       "    }\n",
       "\n",
       "    .dataframe thead th {\n",
       "        text-align: right;\n",
       "    }\n",
       "</style>\n",
       "<table border=\"1\" class=\"dataframe\">\n",
       "  <thead>\n",
       "    <tr style=\"text-align: right;\">\n",
       "      <th></th>\n",
       "      <th></th>\n",
       "      <th>count</th>\n",
       "    </tr>\n",
       "    <tr>\n",
       "      <th>Year</th>\n",
       "      <th>Number of Countries</th>\n",
       "      <th></th>\n",
       "    </tr>\n",
       "  </thead>\n",
       "  <tbody>\n",
       "    <tr>\n",
       "      <th rowspan=\"3\" valign=\"top\">1954</th>\n",
       "      <th>single country</th>\n",
       "      <td>1</td>\n",
       "    </tr>\n",
       "    <tr>\n",
       "      <th>two countries</th>\n",
       "      <td>0</td>\n",
       "    </tr>\n",
       "    <tr>\n",
       "      <th>&gt; 2 countries</th>\n",
       "      <td>0</td>\n",
       "    </tr>\n",
       "    <tr>\n",
       "      <th rowspan=\"2\" valign=\"top\">1958</th>\n",
       "      <th>single country</th>\n",
       "      <td>1</td>\n",
       "    </tr>\n",
       "    <tr>\n",
       "      <th>two countries</th>\n",
       "      <td>0</td>\n",
       "    </tr>\n",
       "    <tr>\n",
       "      <th>...</th>\n",
       "      <th>...</th>\n",
       "      <td>...</td>\n",
       "    </tr>\n",
       "    <tr>\n",
       "      <th rowspan=\"2\" valign=\"top\">2022</th>\n",
       "      <th>two countries</th>\n",
       "      <td>3</td>\n",
       "    </tr>\n",
       "    <tr>\n",
       "      <th>&gt; 2 countries</th>\n",
       "      <td>2</td>\n",
       "    </tr>\n",
       "    <tr>\n",
       "      <th rowspan=\"3\" valign=\"top\">2023</th>\n",
       "      <th>single country</th>\n",
       "      <td>11</td>\n",
       "    </tr>\n",
       "    <tr>\n",
       "      <th>two countries</th>\n",
       "      <td>3</td>\n",
       "    </tr>\n",
       "    <tr>\n",
       "      <th>&gt; 2 countries</th>\n",
       "      <td>1</td>\n",
       "    </tr>\n",
       "  </tbody>\n",
       "</table>\n",
       "<p>183 rows × 1 columns</p>\n",
       "</div>"
      ],
      "text/plain": [
       "                          count\n",
       "Year Number of Countries       \n",
       "1954 single country           1\n",
       "     two countries            0\n",
       "     > 2 countries            0\n",
       "1958 single country           1\n",
       "     two countries            0\n",
       "...                         ...\n",
       "2022 two countries            3\n",
       "     > 2 countries            2\n",
       "2023 single country          11\n",
       "     two countries            3\n",
       "     > 2 countries            1\n",
       "\n",
       "[183 rows x 1 columns]"
      ]
     },
     "execution_count": 40,
     "metadata": {},
     "output_type": "execute_result"
    }
   ],
   "source": [
    "test_df['count']=1\n",
    "test_df = test_df.groupby(['Year','Number of Countries']).count()\n",
    "test_df"
   ]
  },
  {
   "cell_type": "code",
   "execution_count": 44,
   "metadata": {},
   "outputs": [],
   "source": [
    "test_df = test_df.reset_index()"
   ]
  },
  {
   "cell_type": "code",
   "execution_count": 46,
   "metadata": {},
   "outputs": [
    {
     "data": {
      "text/html": [
       "<div>\n",
       "<style scoped>\n",
       "    .dataframe tbody tr th:only-of-type {\n",
       "        vertical-align: middle;\n",
       "    }\n",
       "\n",
       "    .dataframe tbody tr th {\n",
       "        vertical-align: top;\n",
       "    }\n",
       "\n",
       "    .dataframe thead th {\n",
       "        text-align: right;\n",
       "    }\n",
       "</style>\n",
       "<table border=\"1\" class=\"dataframe\">\n",
       "  <thead>\n",
       "    <tr style=\"text-align: right;\">\n",
       "      <th>Number of Countries</th>\n",
       "      <th>single country</th>\n",
       "      <th>two countries</th>\n",
       "      <th>&gt; 2 countries</th>\n",
       "    </tr>\n",
       "    <tr>\n",
       "      <th>Year</th>\n",
       "      <th></th>\n",
       "      <th></th>\n",
       "      <th></th>\n",
       "    </tr>\n",
       "  </thead>\n",
       "  <tbody>\n",
       "    <tr>\n",
       "      <th>1954</th>\n",
       "      <td>1</td>\n",
       "      <td>0</td>\n",
       "      <td>0</td>\n",
       "    </tr>\n",
       "    <tr>\n",
       "      <th>1958</th>\n",
       "      <td>1</td>\n",
       "      <td>0</td>\n",
       "      <td>0</td>\n",
       "    </tr>\n",
       "    <tr>\n",
       "      <th>1960</th>\n",
       "      <td>1</td>\n",
       "      <td>0</td>\n",
       "      <td>0</td>\n",
       "    </tr>\n",
       "    <tr>\n",
       "      <th>1963</th>\n",
       "      <td>1</td>\n",
       "      <td>0</td>\n",
       "      <td>0</td>\n",
       "    </tr>\n",
       "    <tr>\n",
       "      <th>1964</th>\n",
       "      <td>1</td>\n",
       "      <td>0</td>\n",
       "      <td>0</td>\n",
       "    </tr>\n",
       "    <tr>\n",
       "      <th>...</th>\n",
       "      <td>...</td>\n",
       "      <td>...</td>\n",
       "      <td>...</td>\n",
       "    </tr>\n",
       "    <tr>\n",
       "      <th>2019</th>\n",
       "      <td>34</td>\n",
       "      <td>10</td>\n",
       "      <td>3</td>\n",
       "    </tr>\n",
       "    <tr>\n",
       "      <th>2020</th>\n",
       "      <td>24</td>\n",
       "      <td>9</td>\n",
       "      <td>3</td>\n",
       "    </tr>\n",
       "    <tr>\n",
       "      <th>2021</th>\n",
       "      <td>31</td>\n",
       "      <td>11</td>\n",
       "      <td>8</td>\n",
       "    </tr>\n",
       "    <tr>\n",
       "      <th>2022</th>\n",
       "      <td>40</td>\n",
       "      <td>3</td>\n",
       "      <td>2</td>\n",
       "    </tr>\n",
       "    <tr>\n",
       "      <th>2023</th>\n",
       "      <td>11</td>\n",
       "      <td>3</td>\n",
       "      <td>1</td>\n",
       "    </tr>\n",
       "  </tbody>\n",
       "</table>\n",
       "<p>61 rows × 3 columns</p>\n",
       "</div>"
      ],
      "text/plain": [
       "Number of Countries  single country  two countries  > 2 countries\n",
       "Year                                                             \n",
       "1954                              1              0              0\n",
       "1958                              1              0              0\n",
       "1960                              1              0              0\n",
       "1963                              1              0              0\n",
       "1964                              1              0              0\n",
       "...                             ...            ...            ...\n",
       "2019                             34             10              3\n",
       "2020                             24              9              3\n",
       "2021                             31             11              8\n",
       "2022                             40              3              2\n",
       "2023                             11              3              1\n",
       "\n",
       "[61 rows x 3 columns]"
      ]
     },
     "execution_count": 46,
     "metadata": {},
     "output_type": "execute_result"
    }
   ],
   "source": [
    "test_df = test_df.pivot(index='Year', columns='Number of Countries', values='count')\n",
    "test_df "
   ]
  },
  {
   "cell_type": "code",
   "execution_count": 50,
   "metadata": {},
   "outputs": [],
   "source": [
    "test_df=test_df.reset_index()"
   ]
  },
  {
   "cell_type": "code",
   "execution_count": 51,
   "metadata": {},
   "outputs": [
    {
     "data": {
      "application/vnd.plotly.v1+json": {
       "config": {
        "plotlyServerURL": "https://plot.ly"
       },
       "data": [
        {
         "hovertemplate": "variable=single country<br>Year=%{x}<br>value=%{y}<extra></extra>",
         "legendgroup": "single country",
         "line": {
          "color": "#636efa",
          "dash": "solid"
         },
         "marker": {
          "symbol": "circle"
         },
         "mode": "lines",
         "name": "single country",
         "orientation": "v",
         "showlegend": true,
         "type": "scatter",
         "x": [
          1954,
          1958,
          1960,
          1963,
          1964,
          1967,
          1969,
          1970,
          1971,
          1972,
          1973,
          1974,
          1975,
          1976,
          1977,
          1978,
          1979,
          1980,
          1981,
          1982,
          1983,
          1984,
          1985,
          1986,
          1987,
          1988,
          1989,
          1990,
          1991,
          1992,
          1993,
          1994,
          1995,
          1996,
          1997,
          1998,
          1999,
          2000,
          2001,
          2002,
          2003,
          2004,
          2005,
          2006,
          2007,
          2008,
          2009,
          2010,
          2011,
          2012,
          2013,
          2014,
          2015,
          2016,
          2017,
          2018,
          2019,
          2020,
          2021,
          2022,
          2023
         ],
         "xaxis": "x",
         "y": [
          1,
          1,
          1,
          1,
          1,
          3,
          2,
          2,
          5,
          5,
          6,
          9,
          13,
          12,
          14,
          6,
          7,
          10,
          13,
          10,
          11,
          3,
          4,
          7,
          18,
          10,
          7,
          9,
          14,
          5,
          7,
          11,
          8,
          4,
          10,
          4,
          6,
          5,
          7,
          4,
          5,
          7,
          11,
          9,
          6,
          13,
          12,
          9,
          14,
          13,
          12,
          17,
          23,
          24,
          28,
          24,
          34,
          24,
          31,
          40,
          11
         ],
         "yaxis": "y"
        },
        {
         "hovertemplate": "variable=two countries<br>Year=%{x}<br>value=%{y}<extra></extra>",
         "legendgroup": "two countries",
         "line": {
          "color": "#EF553B",
          "dash": "solid"
         },
         "marker": {
          "symbol": "circle"
         },
         "mode": "lines",
         "name": "two countries",
         "orientation": "v",
         "showlegend": true,
         "type": "scatter",
         "x": [
          1954,
          1958,
          1960,
          1963,
          1964,
          1967,
          1969,
          1970,
          1971,
          1972,
          1973,
          1974,
          1975,
          1976,
          1977,
          1978,
          1979,
          1980,
          1981,
          1982,
          1983,
          1984,
          1985,
          1986,
          1987,
          1988,
          1989,
          1990,
          1991,
          1992,
          1993,
          1994,
          1995,
          1996,
          1997,
          1998,
          1999,
          2000,
          2001,
          2002,
          2003,
          2004,
          2005,
          2006,
          2007,
          2008,
          2009,
          2010,
          2011,
          2012,
          2013,
          2014,
          2015,
          2016,
          2017,
          2018,
          2019,
          2020,
          2021,
          2022,
          2023
         ],
         "xaxis": "x",
         "y": [
          0,
          0,
          0,
          0,
          0,
          0,
          0,
          0,
          0,
          3,
          0,
          0,
          0,
          3,
          0,
          2,
          1,
          0,
          0,
          0,
          1,
          3,
          0,
          2,
          3,
          0,
          0,
          3,
          3,
          0,
          1,
          0,
          1,
          1,
          0,
          1,
          0,
          0,
          1,
          1,
          1,
          2,
          2,
          2,
          3,
          4,
          3,
          8,
          1,
          2,
          2,
          6,
          4,
          8,
          4,
          6,
          10,
          9,
          11,
          3,
          3
         ],
         "yaxis": "y"
        },
        {
         "hovertemplate": "variable=> 2 countries<br>Year=%{x}<br>value=%{y}<extra></extra>",
         "legendgroup": "> 2 countries",
         "line": {
          "color": "#00cc96",
          "dash": "solid"
         },
         "marker": {
          "symbol": "circle"
         },
         "mode": "lines",
         "name": "> 2 countries",
         "orientation": "v",
         "showlegend": true,
         "type": "scatter",
         "x": [
          1954,
          1958,
          1960,
          1963,
          1964,
          1967,
          1969,
          1970,
          1971,
          1972,
          1973,
          1974,
          1975,
          1976,
          1977,
          1978,
          1979,
          1980,
          1981,
          1982,
          1983,
          1984,
          1985,
          1986,
          1987,
          1988,
          1989,
          1990,
          1991,
          1992,
          1993,
          1994,
          1995,
          1996,
          1997,
          1998,
          1999,
          2000,
          2001,
          2002,
          2003,
          2004,
          2005,
          2006,
          2007,
          2008,
          2009,
          2010,
          2011,
          2012,
          2013,
          2014,
          2015,
          2016,
          2017,
          2018,
          2019,
          2020,
          2021,
          2022,
          2023
         ],
         "xaxis": "x",
         "y": [
          0,
          0,
          0,
          0,
          0,
          0,
          0,
          0,
          0,
          0,
          0,
          0,
          0,
          0,
          0,
          0,
          0,
          0,
          0,
          0,
          0,
          0,
          0,
          0,
          0,
          0,
          0,
          0,
          0,
          0,
          0,
          1,
          1,
          1,
          0,
          0,
          0,
          0,
          0,
          0,
          2,
          0,
          1,
          0,
          1,
          0,
          0,
          0,
          1,
          0,
          0,
          0,
          2,
          1,
          3,
          1,
          3,
          3,
          8,
          2,
          1
         ],
         "yaxis": "y"
        }
       ],
       "layout": {
        "legend": {
         "title": {
          "text": "variable"
         },
         "tracegroupgap": 0
        },
        "margin": {
         "t": 60
        },
        "template": {
         "data": {
          "bar": [
           {
            "error_x": {
             "color": "#2a3f5f"
            },
            "error_y": {
             "color": "#2a3f5f"
            },
            "marker": {
             "line": {
              "color": "#E5ECF6",
              "width": 0.5
             },
             "pattern": {
              "fillmode": "overlay",
              "size": 10,
              "solidity": 0.2
             }
            },
            "type": "bar"
           }
          ],
          "barpolar": [
           {
            "marker": {
             "line": {
              "color": "#E5ECF6",
              "width": 0.5
             },
             "pattern": {
              "fillmode": "overlay",
              "size": 10,
              "solidity": 0.2
             }
            },
            "type": "barpolar"
           }
          ],
          "carpet": [
           {
            "aaxis": {
             "endlinecolor": "#2a3f5f",
             "gridcolor": "white",
             "linecolor": "white",
             "minorgridcolor": "white",
             "startlinecolor": "#2a3f5f"
            },
            "baxis": {
             "endlinecolor": "#2a3f5f",
             "gridcolor": "white",
             "linecolor": "white",
             "minorgridcolor": "white",
             "startlinecolor": "#2a3f5f"
            },
            "type": "carpet"
           }
          ],
          "choropleth": [
           {
            "colorbar": {
             "outlinewidth": 0,
             "ticks": ""
            },
            "type": "choropleth"
           }
          ],
          "contour": [
           {
            "colorbar": {
             "outlinewidth": 0,
             "ticks": ""
            },
            "colorscale": [
             [
              0,
              "#0d0887"
             ],
             [
              0.1111111111111111,
              "#46039f"
             ],
             [
              0.2222222222222222,
              "#7201a8"
             ],
             [
              0.3333333333333333,
              "#9c179e"
             ],
             [
              0.4444444444444444,
              "#bd3786"
             ],
             [
              0.5555555555555556,
              "#d8576b"
             ],
             [
              0.6666666666666666,
              "#ed7953"
             ],
             [
              0.7777777777777778,
              "#fb9f3a"
             ],
             [
              0.8888888888888888,
              "#fdca26"
             ],
             [
              1,
              "#f0f921"
             ]
            ],
            "type": "contour"
           }
          ],
          "contourcarpet": [
           {
            "colorbar": {
             "outlinewidth": 0,
             "ticks": ""
            },
            "type": "contourcarpet"
           }
          ],
          "heatmap": [
           {
            "colorbar": {
             "outlinewidth": 0,
             "ticks": ""
            },
            "colorscale": [
             [
              0,
              "#0d0887"
             ],
             [
              0.1111111111111111,
              "#46039f"
             ],
             [
              0.2222222222222222,
              "#7201a8"
             ],
             [
              0.3333333333333333,
              "#9c179e"
             ],
             [
              0.4444444444444444,
              "#bd3786"
             ],
             [
              0.5555555555555556,
              "#d8576b"
             ],
             [
              0.6666666666666666,
              "#ed7953"
             ],
             [
              0.7777777777777778,
              "#fb9f3a"
             ],
             [
              0.8888888888888888,
              "#fdca26"
             ],
             [
              1,
              "#f0f921"
             ]
            ],
            "type": "heatmap"
           }
          ],
          "heatmapgl": [
           {
            "colorbar": {
             "outlinewidth": 0,
             "ticks": ""
            },
            "colorscale": [
             [
              0,
              "#0d0887"
             ],
             [
              0.1111111111111111,
              "#46039f"
             ],
             [
              0.2222222222222222,
              "#7201a8"
             ],
             [
              0.3333333333333333,
              "#9c179e"
             ],
             [
              0.4444444444444444,
              "#bd3786"
             ],
             [
              0.5555555555555556,
              "#d8576b"
             ],
             [
              0.6666666666666666,
              "#ed7953"
             ],
             [
              0.7777777777777778,
              "#fb9f3a"
             ],
             [
              0.8888888888888888,
              "#fdca26"
             ],
             [
              1,
              "#f0f921"
             ]
            ],
            "type": "heatmapgl"
           }
          ],
          "histogram": [
           {
            "marker": {
             "pattern": {
              "fillmode": "overlay",
              "size": 10,
              "solidity": 0.2
             }
            },
            "type": "histogram"
           }
          ],
          "histogram2d": [
           {
            "colorbar": {
             "outlinewidth": 0,
             "ticks": ""
            },
            "colorscale": [
             [
              0,
              "#0d0887"
             ],
             [
              0.1111111111111111,
              "#46039f"
             ],
             [
              0.2222222222222222,
              "#7201a8"
             ],
             [
              0.3333333333333333,
              "#9c179e"
             ],
             [
              0.4444444444444444,
              "#bd3786"
             ],
             [
              0.5555555555555556,
              "#d8576b"
             ],
             [
              0.6666666666666666,
              "#ed7953"
             ],
             [
              0.7777777777777778,
              "#fb9f3a"
             ],
             [
              0.8888888888888888,
              "#fdca26"
             ],
             [
              1,
              "#f0f921"
             ]
            ],
            "type": "histogram2d"
           }
          ],
          "histogram2dcontour": [
           {
            "colorbar": {
             "outlinewidth": 0,
             "ticks": ""
            },
            "colorscale": [
             [
              0,
              "#0d0887"
             ],
             [
              0.1111111111111111,
              "#46039f"
             ],
             [
              0.2222222222222222,
              "#7201a8"
             ],
             [
              0.3333333333333333,
              "#9c179e"
             ],
             [
              0.4444444444444444,
              "#bd3786"
             ],
             [
              0.5555555555555556,
              "#d8576b"
             ],
             [
              0.6666666666666666,
              "#ed7953"
             ],
             [
              0.7777777777777778,
              "#fb9f3a"
             ],
             [
              0.8888888888888888,
              "#fdca26"
             ],
             [
              1,
              "#f0f921"
             ]
            ],
            "type": "histogram2dcontour"
           }
          ],
          "mesh3d": [
           {
            "colorbar": {
             "outlinewidth": 0,
             "ticks": ""
            },
            "type": "mesh3d"
           }
          ],
          "parcoords": [
           {
            "line": {
             "colorbar": {
              "outlinewidth": 0,
              "ticks": ""
             }
            },
            "type": "parcoords"
           }
          ],
          "pie": [
           {
            "automargin": true,
            "type": "pie"
           }
          ],
          "scatter": [
           {
            "fillpattern": {
             "fillmode": "overlay",
             "size": 10,
             "solidity": 0.2
            },
            "type": "scatter"
           }
          ],
          "scatter3d": [
           {
            "line": {
             "colorbar": {
              "outlinewidth": 0,
              "ticks": ""
             }
            },
            "marker": {
             "colorbar": {
              "outlinewidth": 0,
              "ticks": ""
             }
            },
            "type": "scatter3d"
           }
          ],
          "scattercarpet": [
           {
            "marker": {
             "colorbar": {
              "outlinewidth": 0,
              "ticks": ""
             }
            },
            "type": "scattercarpet"
           }
          ],
          "scattergeo": [
           {
            "marker": {
             "colorbar": {
              "outlinewidth": 0,
              "ticks": ""
             }
            },
            "type": "scattergeo"
           }
          ],
          "scattergl": [
           {
            "marker": {
             "colorbar": {
              "outlinewidth": 0,
              "ticks": ""
             }
            },
            "type": "scattergl"
           }
          ],
          "scattermapbox": [
           {
            "marker": {
             "colorbar": {
              "outlinewidth": 0,
              "ticks": ""
             }
            },
            "type": "scattermapbox"
           }
          ],
          "scatterpolar": [
           {
            "marker": {
             "colorbar": {
              "outlinewidth": 0,
              "ticks": ""
             }
            },
            "type": "scatterpolar"
           }
          ],
          "scatterpolargl": [
           {
            "marker": {
             "colorbar": {
              "outlinewidth": 0,
              "ticks": ""
             }
            },
            "type": "scatterpolargl"
           }
          ],
          "scatterternary": [
           {
            "marker": {
             "colorbar": {
              "outlinewidth": 0,
              "ticks": ""
             }
            },
            "type": "scatterternary"
           }
          ],
          "surface": [
           {
            "colorbar": {
             "outlinewidth": 0,
             "ticks": ""
            },
            "colorscale": [
             [
              0,
              "#0d0887"
             ],
             [
              0.1111111111111111,
              "#46039f"
             ],
             [
              0.2222222222222222,
              "#7201a8"
             ],
             [
              0.3333333333333333,
              "#9c179e"
             ],
             [
              0.4444444444444444,
              "#bd3786"
             ],
             [
              0.5555555555555556,
              "#d8576b"
             ],
             [
              0.6666666666666666,
              "#ed7953"
             ],
             [
              0.7777777777777778,
              "#fb9f3a"
             ],
             [
              0.8888888888888888,
              "#fdca26"
             ],
             [
              1,
              "#f0f921"
             ]
            ],
            "type": "surface"
           }
          ],
          "table": [
           {
            "cells": {
             "fill": {
              "color": "#EBF0F8"
             },
             "line": {
              "color": "white"
             }
            },
            "header": {
             "fill": {
              "color": "#C8D4E3"
             },
             "line": {
              "color": "white"
             }
            },
            "type": "table"
           }
          ]
         },
         "layout": {
          "annotationdefaults": {
           "arrowcolor": "#2a3f5f",
           "arrowhead": 0,
           "arrowwidth": 1
          },
          "autotypenumbers": "strict",
          "coloraxis": {
           "colorbar": {
            "outlinewidth": 0,
            "ticks": ""
           }
          },
          "colorscale": {
           "diverging": [
            [
             0,
             "#8e0152"
            ],
            [
             0.1,
             "#c51b7d"
            ],
            [
             0.2,
             "#de77ae"
            ],
            [
             0.3,
             "#f1b6da"
            ],
            [
             0.4,
             "#fde0ef"
            ],
            [
             0.5,
             "#f7f7f7"
            ],
            [
             0.6,
             "#e6f5d0"
            ],
            [
             0.7,
             "#b8e186"
            ],
            [
             0.8,
             "#7fbc41"
            ],
            [
             0.9,
             "#4d9221"
            ],
            [
             1,
             "#276419"
            ]
           ],
           "sequential": [
            [
             0,
             "#0d0887"
            ],
            [
             0.1111111111111111,
             "#46039f"
            ],
            [
             0.2222222222222222,
             "#7201a8"
            ],
            [
             0.3333333333333333,
             "#9c179e"
            ],
            [
             0.4444444444444444,
             "#bd3786"
            ],
            [
             0.5555555555555556,
             "#d8576b"
            ],
            [
             0.6666666666666666,
             "#ed7953"
            ],
            [
             0.7777777777777778,
             "#fb9f3a"
            ],
            [
             0.8888888888888888,
             "#fdca26"
            ],
            [
             1,
             "#f0f921"
            ]
           ],
           "sequentialminus": [
            [
             0,
             "#0d0887"
            ],
            [
             0.1111111111111111,
             "#46039f"
            ],
            [
             0.2222222222222222,
             "#7201a8"
            ],
            [
             0.3333333333333333,
             "#9c179e"
            ],
            [
             0.4444444444444444,
             "#bd3786"
            ],
            [
             0.5555555555555556,
             "#d8576b"
            ],
            [
             0.6666666666666666,
             "#ed7953"
            ],
            [
             0.7777777777777778,
             "#fb9f3a"
            ],
            [
             0.8888888888888888,
             "#fdca26"
            ],
            [
             1,
             "#f0f921"
            ]
           ]
          },
          "colorway": [
           "#636efa",
           "#EF553B",
           "#00cc96",
           "#ab63fa",
           "#FFA15A",
           "#19d3f3",
           "#FF6692",
           "#B6E880",
           "#FF97FF",
           "#FECB52"
          ],
          "font": {
           "color": "#2a3f5f"
          },
          "geo": {
           "bgcolor": "white",
           "lakecolor": "white",
           "landcolor": "#E5ECF6",
           "showlakes": true,
           "showland": true,
           "subunitcolor": "white"
          },
          "hoverlabel": {
           "align": "left"
          },
          "hovermode": "closest",
          "mapbox": {
           "style": "light"
          },
          "paper_bgcolor": "white",
          "plot_bgcolor": "#E5ECF6",
          "polar": {
           "angularaxis": {
            "gridcolor": "white",
            "linecolor": "white",
            "ticks": ""
           },
           "bgcolor": "#E5ECF6",
           "radialaxis": {
            "gridcolor": "white",
            "linecolor": "white",
            "ticks": ""
           }
          },
          "scene": {
           "xaxis": {
            "backgroundcolor": "#E5ECF6",
            "gridcolor": "white",
            "gridwidth": 2,
            "linecolor": "white",
            "showbackground": true,
            "ticks": "",
            "zerolinecolor": "white"
           },
           "yaxis": {
            "backgroundcolor": "#E5ECF6",
            "gridcolor": "white",
            "gridwidth": 2,
            "linecolor": "white",
            "showbackground": true,
            "ticks": "",
            "zerolinecolor": "white"
           },
           "zaxis": {
            "backgroundcolor": "#E5ECF6",
            "gridcolor": "white",
            "gridwidth": 2,
            "linecolor": "white",
            "showbackground": true,
            "ticks": "",
            "zerolinecolor": "white"
           }
          },
          "shapedefaults": {
           "line": {
            "color": "#2a3f5f"
           }
          },
          "ternary": {
           "aaxis": {
            "gridcolor": "white",
            "linecolor": "white",
            "ticks": ""
           },
           "baxis": {
            "gridcolor": "white",
            "linecolor": "white",
            "ticks": ""
           },
           "bgcolor": "#E5ECF6",
           "caxis": {
            "gridcolor": "white",
            "linecolor": "white",
            "ticks": ""
           }
          },
          "title": {
           "x": 0.05
          },
          "xaxis": {
           "automargin": true,
           "gridcolor": "white",
           "linecolor": "white",
           "ticks": "",
           "title": {
            "standoff": 15
           },
           "zerolinecolor": "white",
           "zerolinewidth": 2
          },
          "yaxis": {
           "automargin": true,
           "gridcolor": "white",
           "linecolor": "white",
           "ticks": "",
           "title": {
            "standoff": 15
           },
           "zerolinecolor": "white",
           "zerolinewidth": 2
          }
         }
        },
        "xaxis": {
         "anchor": "y",
         "domain": [
          0,
          1
         ],
         "title": {
          "text": "Year"
         }
        },
        "yaxis": {
         "anchor": "x",
         "domain": [
          0,
          1
         ],
         "title": {
          "text": "value"
         }
        }
       }
      }
     },
     "metadata": {},
     "output_type": "display_data"
    }
   ],
   "source": [
    "fig = px.line(test_df, x='Year', y=['single country','two countries','> 2 countries'])\n",
    "fig.show()"
   ]
  },
  {
   "cell_type": "code",
   "execution_count": 52,
   "metadata": {},
   "outputs": [],
   "source": [
    "test_df.to_csv('../data/processed/number_of_countries.csv')"
   ]
  },
  {
   "cell_type": "code",
   "execution_count": 127,
   "metadata": {},
   "outputs": [],
   "source": [
    "funding_df = df[['Funding Entities']]"
   ]
  },
  {
   "cell_type": "code",
   "execution_count": 128,
   "metadata": {},
   "outputs": [
    {
     "name": "stderr",
     "output_type": "stream",
     "text": [
      "C:\\Users\\Sherrif\\AppData\\Local\\Temp\\ipykernel_23052\\1817027175.py:1: SettingWithCopyWarning:\n",
      "\n",
      "\n",
      "A value is trying to be set on a copy of a slice from a DataFrame.\n",
      "Try using .loc[row_indexer,col_indexer] = value instead\n",
      "\n",
      "See the caveats in the documentation: https://pandas.pydata.org/pandas-docs/stable/user_guide/indexing.html#returning-a-view-versus-a-copy\n",
      "\n",
      "C:\\Users\\Sherrif\\AppData\\Local\\Temp\\ipykernel_23052\\1817027175.py:2: SettingWithCopyWarning:\n",
      "\n",
      "\n",
      "A value is trying to be set on a copy of a slice from a DataFrame.\n",
      "Try using .loc[row_indexer,col_indexer] = value instead\n",
      "\n",
      "See the caveats in the documentation: https://pandas.pydata.org/pandas-docs/stable/user_guide/indexing.html#returning-a-view-versus-a-copy\n",
      "\n"
     ]
    },
    {
     "data": {
      "text/html": [
       "<div>\n",
       "<style scoped>\n",
       "    .dataframe tbody tr th:only-of-type {\n",
       "        vertical-align: middle;\n",
       "    }\n",
       "\n",
       "    .dataframe tbody tr th {\n",
       "        vertical-align: top;\n",
       "    }\n",
       "\n",
       "    .dataframe thead th {\n",
       "        text-align: right;\n",
       "    }\n",
       "</style>\n",
       "<table border=\"1\" class=\"dataframe\">\n",
       "  <thead>\n",
       "    <tr style=\"text-align: right;\">\n",
       "      <th></th>\n",
       "      <th>Funding Entities</th>\n",
       "    </tr>\n",
       "  </thead>\n",
       "  <tbody>\n",
       "    <tr>\n",
       "      <th>0</th>\n",
       "      <td>[]</td>\n",
       "    </tr>\n",
       "    <tr>\n",
       "      <th>1</th>\n",
       "      <td>[]</td>\n",
       "    </tr>\n",
       "    <tr>\n",
       "      <th>2</th>\n",
       "      <td>[Albert Einstein College of Medicine,  Yeshiva...</td>\n",
       "    </tr>\n",
       "    <tr>\n",
       "      <th>3</th>\n",
       "      <td>[National Research Foundation]</td>\n",
       "    </tr>\n",
       "    <tr>\n",
       "      <th>4</th>\n",
       "      <td>[]</td>\n",
       "    </tr>\n",
       "    <tr>\n",
       "      <th>...</th>\n",
       "      <td>...</td>\n",
       "    </tr>\n",
       "    <tr>\n",
       "      <th>794</th>\n",
       "      <td>[]</td>\n",
       "    </tr>\n",
       "    <tr>\n",
       "      <th>795</th>\n",
       "      <td>[]</td>\n",
       "    </tr>\n",
       "    <tr>\n",
       "      <th>796</th>\n",
       "      <td>[]</td>\n",
       "    </tr>\n",
       "    <tr>\n",
       "      <th>797</th>\n",
       "      <td>[]</td>\n",
       "    </tr>\n",
       "    <tr>\n",
       "      <th>798</th>\n",
       "      <td>[]</td>\n",
       "    </tr>\n",
       "  </tbody>\n",
       "</table>\n",
       "<p>799 rows × 1 columns</p>\n",
       "</div>"
      ],
      "text/plain": [
       "                                      Funding Entities\n",
       "0                                                   []\n",
       "1                                                   []\n",
       "2    [Albert Einstein College of Medicine,  Yeshiva...\n",
       "3                       [National Research Foundation]\n",
       "4                                                   []\n",
       "..                                                 ...\n",
       "794                                                 []\n",
       "795                                                 []\n",
       "796                                                 []\n",
       "797                                                 []\n",
       "798                                                 []\n",
       "\n",
       "[799 rows x 1 columns]"
      ]
     },
     "execution_count": 128,
     "metadata": {},
     "output_type": "execute_result"
    }
   ],
   "source": [
    "funding_df ['Funding Entities'] = funding_df ['Funding Entities'].str.replace('[','').str.replace(\"'\",'').str.replace(']','')\n",
    "funding_df ['Funding Entities']=funding_df ['Funding Entities'].str.split(',')\n",
    "funding_df"
   ]
  },
  {
   "cell_type": "code",
   "execution_count": 129,
   "metadata": {},
   "outputs": [],
   "source": [
    "funding_df = funding_df.explode('Funding Entities')"
   ]
  },
  {
   "cell_type": "code",
   "execution_count": 130,
   "metadata": {},
   "outputs": [
    {
     "data": {
      "text/plain": [
       "Funding Entities\n",
       "National Heart                         72\n",
       "Blood Institute                        70\n",
       "National Eye Institute                 65\n",
       "National Institutes of Health          49\n",
       "NIH                                    47\n",
       "                                       ..\n",
       "de Pessoal de N&#x00ED;vel Superior     1\n",
       "Victoria University                     1\n",
       "ANR                                     1\n",
       "Agence Nationale de la Recherche        1\n",
       "RTI                                     1\n",
       "Name: count, Length: 168, dtype: int64"
      ]
     },
     "execution_count": 130,
     "metadata": {},
     "output_type": "execute_result"
    }
   ],
   "source": [
    "funding_df= funding_df[funding_df['Funding Entities']!='']\n",
    "funding_df = funding_df['Funding Entities'].str.strip()\n",
    "funding_df.value_counts()"
   ]
  },
  {
   "cell_type": "code",
   "execution_count": 131,
   "metadata": {},
   "outputs": [],
   "source": [
    "funding_df = funding_df.to_frame('Funding Entites')"
   ]
  },
  {
   "cell_type": "code",
   "execution_count": 132,
   "metadata": {},
   "outputs": [],
   "source": [
    "to_replace = ['Blood Institute','National Heart','Lung Institute']\n",
    "funding_df['Funding Entites'].loc[funding_df['Funding Entites'].isin(to_replace)] = 'National Heart,Lung and Blood Institute'"
   ]
  },
  {
   "cell_type": "code",
   "execution_count": 133,
   "metadata": {},
   "outputs": [
    {
     "data": {
      "text/html": [
       "<div>\n",
       "<style scoped>\n",
       "    .dataframe tbody tr th:only-of-type {\n",
       "        vertical-align: middle;\n",
       "    }\n",
       "\n",
       "    .dataframe tbody tr th {\n",
       "        vertical-align: top;\n",
       "    }\n",
       "\n",
       "    .dataframe thead th {\n",
       "        text-align: right;\n",
       "    }\n",
       "</style>\n",
       "<table border=\"1\" class=\"dataframe\">\n",
       "  <thead>\n",
       "    <tr style=\"text-align: right;\">\n",
       "      <th></th>\n",
       "      <th>counts</th>\n",
       "    </tr>\n",
       "    <tr>\n",
       "      <th>Funding Entites</th>\n",
       "      <th></th>\n",
       "    </tr>\n",
       "  </thead>\n",
       "  <tbody>\n",
       "    <tr>\n",
       "      <th>ACC</th>\n",
       "      <td>1</td>\n",
       "    </tr>\n",
       "    <tr>\n",
       "      <th>AHA</th>\n",
       "      <td>1</td>\n",
       "    </tr>\n",
       "    <tr>\n",
       "      <th>ANR</th>\n",
       "      <td>1</td>\n",
       "    </tr>\n",
       "    <tr>\n",
       "      <th>ANR‐11‐IDEX‐0005‐02</th>\n",
       "      <td>1</td>\n",
       "    </tr>\n",
       "    <tr>\n",
       "      <th>ASH</th>\n",
       "      <td>1</td>\n",
       "    </tr>\n",
       "    <tr>\n",
       "      <th>...</th>\n",
       "      <td>...</td>\n",
       "    </tr>\n",
       "    <tr>\n",
       "      <th>Yale University</th>\n",
       "      <td>1</td>\n",
       "    </tr>\n",
       "    <tr>\n",
       "      <th>Yeshiva University</th>\n",
       "      <td>1</td>\n",
       "    </tr>\n",
       "    <tr>\n",
       "      <th>Z01DK075008</th>\n",
       "      <td>1</td>\n",
       "    </tr>\n",
       "    <tr>\n",
       "      <th>de Pessoal de N&amp;#x00ED;vel Superior</th>\n",
       "      <td>1</td>\n",
       "    </tr>\n",
       "    <tr>\n",
       "      <th>the National Institutes of Health</th>\n",
       "      <td>2</td>\n",
       "    </tr>\n",
       "  </tbody>\n",
       "</table>\n",
       "<p>166 rows × 1 columns</p>\n",
       "</div>"
      ],
      "text/plain": [
       "                                     counts\n",
       "Funding Entites                            \n",
       "ACC                                       1\n",
       "AHA                                       1\n",
       "ANR                                       1\n",
       "ANR‐11‐IDEX‐0005‐02                       1\n",
       "ASH                                       1\n",
       "...                                     ...\n",
       "Yale University                           1\n",
       "Yeshiva University                        1\n",
       "Z01DK075008                               1\n",
       "de Pessoal de N&#x00ED;vel Superior       1\n",
       "the National Institutes of Health         2\n",
       "\n",
       "[166 rows x 1 columns]"
      ]
     },
     "execution_count": 133,
     "metadata": {},
     "output_type": "execute_result"
    }
   ],
   "source": [
    "funding_df['counts']=1\n",
    "funding_df = funding_df.groupby('Funding Entites').count()\n",
    "funding_df\n"
   ]
  },
  {
   "cell_type": "code",
   "execution_count": 134,
   "metadata": {},
   "outputs": [],
   "source": [
    "funding_df = funding_df.reset_index()"
   ]
  },
  {
   "cell_type": "code",
   "execution_count": 135,
   "metadata": {},
   "outputs": [
    {
     "data": {
      "application/vnd.plotly.v1+json": {
       "config": {
        "plotlyServerURL": "https://plot.ly"
       },
       "data": [
        {
         "alignmentgroup": "True",
         "hovertemplate": "Funding Entites=%{x}<br>counts=%{y}<extra></extra>",
         "legendgroup": "",
         "marker": {
          "color": "#636efa",
          "pattern": {
           "shape": ""
          }
         },
         "name": "",
         "offsetgroup": "",
         "orientation": "v",
         "showlegend": false,
         "textposition": "auto",
         "type": "bar",
         "x": [
          "ACC",
          "AHA",
          "ANR",
          "ANR‐11‐IDEX‐0005‐02",
          "ASH",
          "Agence Nationale de la Recherche",
          "Albert Einstein College of Medicine",
          "American Association for Dental",
          "American Heart Association",
          "American Society of Hematology",
          "BID",
          "BP 6006",
          "Bayer",
          "Biomedical Laboratory Research and Development",
          "Blood Transfusion Research",
          "Brandan’s Eye Research Foundation",
          "British Society for Haematology",
          "C06RR016511",
          "CAPES",
          "CDC",
          "CU",
          "Campus France",
          "Canada Research Chairs",
          "Canadian Institutes of Health Research",
          "Center for Outcomes Research and Evaluation",
          "Centers for Disease Control and Prevention",
          "Centro de Investigaciones Energéticas",
          "Colgate-Palmolive Company",
          "Consejo Nacional de Investigaciones Científicas",
          "Conselho Nacional de Desenvolvimento Científico",
          "Coordenação de Aperfeiçoamento de Pessoal de Nível Superior",
          "Craniofacial Research",
          "DDCF",
          "De La Salle University",
          "Department of Science and Technology",
          "Deutsche Forschungsgemeinschaft",
          "Doris Duke Charitable Foundation",
          "EY01765",
          "EYEY001765",
          "Estado de Minas Gerais",
          "FFB",
          "FFS",
          "FIC",
          "FIOCRUZ",
          "FNIH",
          "FUNTTEL",
          "Fogarty International Center",
          "Fondation",
          "Fondazione Città",
          "Fondo",
          "Fundação de Amparo à Pesquisa",
          "Future Planning",
          "G0000111",
          "GHF",
          "Genentech",
          "Georgia Regents University",
          "Gilead Sciences",
          "Grant Healthcare Foundation",
          "HHS",
          "HOF",
          "Health Services Research and Development",
          "Heed Ophthalmic Foundation",
          "Horizon 2020 Framework Programme",
          "ICT",
          "Icahn School of Medicine",
          "Institut National de la Santé et de la Recherche Médicale",
          "Instituto Nacional de Ciência e Tecnologia de Estudos",
          "Janssen Pharmaceuticals",
          "Jilin University",
          "Johns Hopkins University",
          "K08-EY021189",
          "K23-EY022947-01A1",
          "K23HL119627",
          "LSBR",
          "Landsteiner Foundation",
          "MRC",
          "MU",
          "Macula Foundation",
          "Marrus Family Foundation",
          "Massachusetts Lions Eye Research Fund",
          "Medical Research Council",
          "Medioambientales y Tecnológicas",
          "Milbank Foundation",
          "Ministry of Science",
          "Ministry of Science and Technology",
          "Moorfields Eye Hospital NHS Foundation Trust",
          "NCI",
          "NEI",
          "NIDDK",
          "NIH",
          "NIHR",
          "NIHR Bristol Biomedical Research Centre",
          "NPC",
          "NSF",
          "NWO",
          "National Cancer Institute",
          "National Center for Advancing Translational Sciences",
          "National Center for Research Resources",
          "National Eye Institute",
          "National Heart,Lung and Blood Institute",
          "National Institute for Health Research",
          "National Institute for Health Research Biomedical Research Centre",
          "National Institute for Health and Care Research",
          "National Institute of Diabetes and",
          "National Institute of General Medical Sciences",
          "National Institute of Neurological Disorders and Stroke",
          "National Institutes of Health",
          "National Research Foundation",
          "National Science Foundation",
          "New York Eye",
          "NorthShore University HealthSystem",
          "Novartis Pharmaceuticals Corporation",
          "OC-AR PICT N",
          "ORD",
          "Office of Research and Development",
          "P01HL055552",
          "P20GM103446",
          "P30CA008748",
          "P30EY001765",
          "PHS",
          "Pfizer",
          "R00NS060764",
          "R01 EY023522 R01",
          "R01EY009357",
          "R01EY011766",
          "R01EY024969",
          "R01EY030101",
          "R01HL068922",
          "R01HL070215",
          "R01HL111659",
          "RBC",
          "RBF",
          "RPB",
          "RTI",
          "Regeneron Pharmaceuticals",
          "Research Triangle Institute",
          "Research to Prevent Blindness",
          "Rockefeller Brothers Fund",
          "Royal Bank of Canada",
          "SECYT",
          "U.S. Department",
          "U.S. Department of Defense",
          "U.S. Department of Health and Human Services",
          "U.S. Public Health Service",
          "U01EY025477",
          "UCL Institute of Ophthalmology",
          "UIC",
          "UL1TR001873",
          "UNC",
          "USPHS",
          "Universidad de Buenos Aires",
          "University of Colorado",
          "University of Illinois",
          "University of Illinois at Chicago",
          "University of Missouri",
          "Veterans Affairs",
          "Victoria University",
          "VitreoRetinal Surgery Foundation",
          "WT",
          "Wellcome Trust",
          "Yale School of Medicine",
          "Yale University",
          "Yeshiva University",
          "Z01DK075008",
          "de Pessoal de N&#x00ED;vel Superior",
          "the National Institutes of Health"
         ],
         "xaxis": "x",
         "y": [
          1,
          1,
          1,
          1,
          1,
          1,
          1,
          1,
          1,
          3,
          1,
          1,
          1,
          1,
          1,
          1,
          2,
          1,
          2,
          1,
          1,
          1,
          1,
          2,
          1,
          1,
          1,
          1,
          1,
          4,
          1,
          1,
          5,
          1,
          1,
          1,
          6,
          2,
          1,
          1,
          3,
          1,
          1,
          1,
          1,
          1,
          1,
          2,
          2,
          2,
          7,
          1,
          1,
          1,
          4,
          1,
          1,
          1,
          1,
          1,
          1,
          1,
          2,
          1,
          1,
          3,
          1,
          1,
          1,
          1,
          1,
          1,
          1,
          1,
          1,
          1,
          1,
          1,
          3,
          1,
          5,
          1,
          1,
          1,
          1,
          2,
          3,
          6,
          4,
          47,
          1,
          1,
          3,
          3,
          1,
          3,
          5,
          2,
          65,
          145,
          1,
          1,
          1,
          5,
          2,
          2,
          49,
          2,
          3,
          1,
          1,
          3,
          1,
          2,
          2,
          2,
          1,
          1,
          14,
          1,
          2,
          1,
          1,
          2,
          1,
          2,
          1,
          2,
          1,
          2,
          1,
          1,
          27,
          1,
          1,
          1,
          1,
          1,
          1,
          1,
          2,
          2,
          1,
          7,
          1,
          1,
          1,
          2,
          1,
          7,
          1,
          1,
          1,
          1,
          1,
          2,
          1,
          1,
          4,
          7,
          1,
          1,
          1,
          1,
          1,
          2
         ],
         "yaxis": "y"
        }
       ],
       "layout": {
        "barmode": "relative",
        "legend": {
         "tracegroupgap": 0
        },
        "margin": {
         "t": 60
        },
        "template": {
         "data": {
          "bar": [
           {
            "error_x": {
             "color": "#2a3f5f"
            },
            "error_y": {
             "color": "#2a3f5f"
            },
            "marker": {
             "line": {
              "color": "#E5ECF6",
              "width": 0.5
             },
             "pattern": {
              "fillmode": "overlay",
              "size": 10,
              "solidity": 0.2
             }
            },
            "type": "bar"
           }
          ],
          "barpolar": [
           {
            "marker": {
             "line": {
              "color": "#E5ECF6",
              "width": 0.5
             },
             "pattern": {
              "fillmode": "overlay",
              "size": 10,
              "solidity": 0.2
             }
            },
            "type": "barpolar"
           }
          ],
          "carpet": [
           {
            "aaxis": {
             "endlinecolor": "#2a3f5f",
             "gridcolor": "white",
             "linecolor": "white",
             "minorgridcolor": "white",
             "startlinecolor": "#2a3f5f"
            },
            "baxis": {
             "endlinecolor": "#2a3f5f",
             "gridcolor": "white",
             "linecolor": "white",
             "minorgridcolor": "white",
             "startlinecolor": "#2a3f5f"
            },
            "type": "carpet"
           }
          ],
          "choropleth": [
           {
            "colorbar": {
             "outlinewidth": 0,
             "ticks": ""
            },
            "type": "choropleth"
           }
          ],
          "contour": [
           {
            "colorbar": {
             "outlinewidth": 0,
             "ticks": ""
            },
            "colorscale": [
             [
              0,
              "#0d0887"
             ],
             [
              0.1111111111111111,
              "#46039f"
             ],
             [
              0.2222222222222222,
              "#7201a8"
             ],
             [
              0.3333333333333333,
              "#9c179e"
             ],
             [
              0.4444444444444444,
              "#bd3786"
             ],
             [
              0.5555555555555556,
              "#d8576b"
             ],
             [
              0.6666666666666666,
              "#ed7953"
             ],
             [
              0.7777777777777778,
              "#fb9f3a"
             ],
             [
              0.8888888888888888,
              "#fdca26"
             ],
             [
              1,
              "#f0f921"
             ]
            ],
            "type": "contour"
           }
          ],
          "contourcarpet": [
           {
            "colorbar": {
             "outlinewidth": 0,
             "ticks": ""
            },
            "type": "contourcarpet"
           }
          ],
          "heatmap": [
           {
            "colorbar": {
             "outlinewidth": 0,
             "ticks": ""
            },
            "colorscale": [
             [
              0,
              "#0d0887"
             ],
             [
              0.1111111111111111,
              "#46039f"
             ],
             [
              0.2222222222222222,
              "#7201a8"
             ],
             [
              0.3333333333333333,
              "#9c179e"
             ],
             [
              0.4444444444444444,
              "#bd3786"
             ],
             [
              0.5555555555555556,
              "#d8576b"
             ],
             [
              0.6666666666666666,
              "#ed7953"
             ],
             [
              0.7777777777777778,
              "#fb9f3a"
             ],
             [
              0.8888888888888888,
              "#fdca26"
             ],
             [
              1,
              "#f0f921"
             ]
            ],
            "type": "heatmap"
           }
          ],
          "heatmapgl": [
           {
            "colorbar": {
             "outlinewidth": 0,
             "ticks": ""
            },
            "colorscale": [
             [
              0,
              "#0d0887"
             ],
             [
              0.1111111111111111,
              "#46039f"
             ],
             [
              0.2222222222222222,
              "#7201a8"
             ],
             [
              0.3333333333333333,
              "#9c179e"
             ],
             [
              0.4444444444444444,
              "#bd3786"
             ],
             [
              0.5555555555555556,
              "#d8576b"
             ],
             [
              0.6666666666666666,
              "#ed7953"
             ],
             [
              0.7777777777777778,
              "#fb9f3a"
             ],
             [
              0.8888888888888888,
              "#fdca26"
             ],
             [
              1,
              "#f0f921"
             ]
            ],
            "type": "heatmapgl"
           }
          ],
          "histogram": [
           {
            "marker": {
             "pattern": {
              "fillmode": "overlay",
              "size": 10,
              "solidity": 0.2
             }
            },
            "type": "histogram"
           }
          ],
          "histogram2d": [
           {
            "colorbar": {
             "outlinewidth": 0,
             "ticks": ""
            },
            "colorscale": [
             [
              0,
              "#0d0887"
             ],
             [
              0.1111111111111111,
              "#46039f"
             ],
             [
              0.2222222222222222,
              "#7201a8"
             ],
             [
              0.3333333333333333,
              "#9c179e"
             ],
             [
              0.4444444444444444,
              "#bd3786"
             ],
             [
              0.5555555555555556,
              "#d8576b"
             ],
             [
              0.6666666666666666,
              "#ed7953"
             ],
             [
              0.7777777777777778,
              "#fb9f3a"
             ],
             [
              0.8888888888888888,
              "#fdca26"
             ],
             [
              1,
              "#f0f921"
             ]
            ],
            "type": "histogram2d"
           }
          ],
          "histogram2dcontour": [
           {
            "colorbar": {
             "outlinewidth": 0,
             "ticks": ""
            },
            "colorscale": [
             [
              0,
              "#0d0887"
             ],
             [
              0.1111111111111111,
              "#46039f"
             ],
             [
              0.2222222222222222,
              "#7201a8"
             ],
             [
              0.3333333333333333,
              "#9c179e"
             ],
             [
              0.4444444444444444,
              "#bd3786"
             ],
             [
              0.5555555555555556,
              "#d8576b"
             ],
             [
              0.6666666666666666,
              "#ed7953"
             ],
             [
              0.7777777777777778,
              "#fb9f3a"
             ],
             [
              0.8888888888888888,
              "#fdca26"
             ],
             [
              1,
              "#f0f921"
             ]
            ],
            "type": "histogram2dcontour"
           }
          ],
          "mesh3d": [
           {
            "colorbar": {
             "outlinewidth": 0,
             "ticks": ""
            },
            "type": "mesh3d"
           }
          ],
          "parcoords": [
           {
            "line": {
             "colorbar": {
              "outlinewidth": 0,
              "ticks": ""
             }
            },
            "type": "parcoords"
           }
          ],
          "pie": [
           {
            "automargin": true,
            "type": "pie"
           }
          ],
          "scatter": [
           {
            "fillpattern": {
             "fillmode": "overlay",
             "size": 10,
             "solidity": 0.2
            },
            "type": "scatter"
           }
          ],
          "scatter3d": [
           {
            "line": {
             "colorbar": {
              "outlinewidth": 0,
              "ticks": ""
             }
            },
            "marker": {
             "colorbar": {
              "outlinewidth": 0,
              "ticks": ""
             }
            },
            "type": "scatter3d"
           }
          ],
          "scattercarpet": [
           {
            "marker": {
             "colorbar": {
              "outlinewidth": 0,
              "ticks": ""
             }
            },
            "type": "scattercarpet"
           }
          ],
          "scattergeo": [
           {
            "marker": {
             "colorbar": {
              "outlinewidth": 0,
              "ticks": ""
             }
            },
            "type": "scattergeo"
           }
          ],
          "scattergl": [
           {
            "marker": {
             "colorbar": {
              "outlinewidth": 0,
              "ticks": ""
             }
            },
            "type": "scattergl"
           }
          ],
          "scattermapbox": [
           {
            "marker": {
             "colorbar": {
              "outlinewidth": 0,
              "ticks": ""
             }
            },
            "type": "scattermapbox"
           }
          ],
          "scatterpolar": [
           {
            "marker": {
             "colorbar": {
              "outlinewidth": 0,
              "ticks": ""
             }
            },
            "type": "scatterpolar"
           }
          ],
          "scatterpolargl": [
           {
            "marker": {
             "colorbar": {
              "outlinewidth": 0,
              "ticks": ""
             }
            },
            "type": "scatterpolargl"
           }
          ],
          "scatterternary": [
           {
            "marker": {
             "colorbar": {
              "outlinewidth": 0,
              "ticks": ""
             }
            },
            "type": "scatterternary"
           }
          ],
          "surface": [
           {
            "colorbar": {
             "outlinewidth": 0,
             "ticks": ""
            },
            "colorscale": [
             [
              0,
              "#0d0887"
             ],
             [
              0.1111111111111111,
              "#46039f"
             ],
             [
              0.2222222222222222,
              "#7201a8"
             ],
             [
              0.3333333333333333,
              "#9c179e"
             ],
             [
              0.4444444444444444,
              "#bd3786"
             ],
             [
              0.5555555555555556,
              "#d8576b"
             ],
             [
              0.6666666666666666,
              "#ed7953"
             ],
             [
              0.7777777777777778,
              "#fb9f3a"
             ],
             [
              0.8888888888888888,
              "#fdca26"
             ],
             [
              1,
              "#f0f921"
             ]
            ],
            "type": "surface"
           }
          ],
          "table": [
           {
            "cells": {
             "fill": {
              "color": "#EBF0F8"
             },
             "line": {
              "color": "white"
             }
            },
            "header": {
             "fill": {
              "color": "#C8D4E3"
             },
             "line": {
              "color": "white"
             }
            },
            "type": "table"
           }
          ]
         },
         "layout": {
          "annotationdefaults": {
           "arrowcolor": "#2a3f5f",
           "arrowhead": 0,
           "arrowwidth": 1
          },
          "autotypenumbers": "strict",
          "coloraxis": {
           "colorbar": {
            "outlinewidth": 0,
            "ticks": ""
           }
          },
          "colorscale": {
           "diverging": [
            [
             0,
             "#8e0152"
            ],
            [
             0.1,
             "#c51b7d"
            ],
            [
             0.2,
             "#de77ae"
            ],
            [
             0.3,
             "#f1b6da"
            ],
            [
             0.4,
             "#fde0ef"
            ],
            [
             0.5,
             "#f7f7f7"
            ],
            [
             0.6,
             "#e6f5d0"
            ],
            [
             0.7,
             "#b8e186"
            ],
            [
             0.8,
             "#7fbc41"
            ],
            [
             0.9,
             "#4d9221"
            ],
            [
             1,
             "#276419"
            ]
           ],
           "sequential": [
            [
             0,
             "#0d0887"
            ],
            [
             0.1111111111111111,
             "#46039f"
            ],
            [
             0.2222222222222222,
             "#7201a8"
            ],
            [
             0.3333333333333333,
             "#9c179e"
            ],
            [
             0.4444444444444444,
             "#bd3786"
            ],
            [
             0.5555555555555556,
             "#d8576b"
            ],
            [
             0.6666666666666666,
             "#ed7953"
            ],
            [
             0.7777777777777778,
             "#fb9f3a"
            ],
            [
             0.8888888888888888,
             "#fdca26"
            ],
            [
             1,
             "#f0f921"
            ]
           ],
           "sequentialminus": [
            [
             0,
             "#0d0887"
            ],
            [
             0.1111111111111111,
             "#46039f"
            ],
            [
             0.2222222222222222,
             "#7201a8"
            ],
            [
             0.3333333333333333,
             "#9c179e"
            ],
            [
             0.4444444444444444,
             "#bd3786"
            ],
            [
             0.5555555555555556,
             "#d8576b"
            ],
            [
             0.6666666666666666,
             "#ed7953"
            ],
            [
             0.7777777777777778,
             "#fb9f3a"
            ],
            [
             0.8888888888888888,
             "#fdca26"
            ],
            [
             1,
             "#f0f921"
            ]
           ]
          },
          "colorway": [
           "#636efa",
           "#EF553B",
           "#00cc96",
           "#ab63fa",
           "#FFA15A",
           "#19d3f3",
           "#FF6692",
           "#B6E880",
           "#FF97FF",
           "#FECB52"
          ],
          "font": {
           "color": "#2a3f5f"
          },
          "geo": {
           "bgcolor": "white",
           "lakecolor": "white",
           "landcolor": "#E5ECF6",
           "showlakes": true,
           "showland": true,
           "subunitcolor": "white"
          },
          "hoverlabel": {
           "align": "left"
          },
          "hovermode": "closest",
          "mapbox": {
           "style": "light"
          },
          "paper_bgcolor": "white",
          "plot_bgcolor": "#E5ECF6",
          "polar": {
           "angularaxis": {
            "gridcolor": "white",
            "linecolor": "white",
            "ticks": ""
           },
           "bgcolor": "#E5ECF6",
           "radialaxis": {
            "gridcolor": "white",
            "linecolor": "white",
            "ticks": ""
           }
          },
          "scene": {
           "xaxis": {
            "backgroundcolor": "#E5ECF6",
            "gridcolor": "white",
            "gridwidth": 2,
            "linecolor": "white",
            "showbackground": true,
            "ticks": "",
            "zerolinecolor": "white"
           },
           "yaxis": {
            "backgroundcolor": "#E5ECF6",
            "gridcolor": "white",
            "gridwidth": 2,
            "linecolor": "white",
            "showbackground": true,
            "ticks": "",
            "zerolinecolor": "white"
           },
           "zaxis": {
            "backgroundcolor": "#E5ECF6",
            "gridcolor": "white",
            "gridwidth": 2,
            "linecolor": "white",
            "showbackground": true,
            "ticks": "",
            "zerolinecolor": "white"
           }
          },
          "shapedefaults": {
           "line": {
            "color": "#2a3f5f"
           }
          },
          "ternary": {
           "aaxis": {
            "gridcolor": "white",
            "linecolor": "white",
            "ticks": ""
           },
           "baxis": {
            "gridcolor": "white",
            "linecolor": "white",
            "ticks": ""
           },
           "bgcolor": "#E5ECF6",
           "caxis": {
            "gridcolor": "white",
            "linecolor": "white",
            "ticks": ""
           }
          },
          "title": {
           "x": 0.05
          },
          "xaxis": {
           "automargin": true,
           "gridcolor": "white",
           "linecolor": "white",
           "ticks": "",
           "title": {
            "standoff": 15
           },
           "zerolinecolor": "white",
           "zerolinewidth": 2
          },
          "yaxis": {
           "automargin": true,
           "gridcolor": "white",
           "linecolor": "white",
           "ticks": "",
           "title": {
            "standoff": 15
           },
           "zerolinecolor": "white",
           "zerolinewidth": 2
          }
         }
        },
        "xaxis": {
         "anchor": "y",
         "domain": [
          0,
          1
         ],
         "title": {
          "text": "Funding Entites"
         }
        },
        "yaxis": {
         "anchor": "x",
         "domain": [
          0,
          1
         ],
         "title": {
          "text": "counts"
         }
        }
       }
      }
     },
     "metadata": {},
     "output_type": "display_data"
    }
   ],
   "source": [
    "fig = px.bar(funding_df, x='Funding Entites', y='counts')\n",
    "fig.show()"
   ]
  },
  {
   "cell_type": "code",
   "execution_count": 136,
   "metadata": {},
   "outputs": [],
   "source": [
    "funding_df.to_csv('../data/processed/funding_data.csv')"
   ]
  },
  {
   "cell_type": "markdown",
   "metadata": {},
   "source": [
    "# Keywords "
   ]
  },
  {
   "cell_type": "code",
   "execution_count": 139,
   "metadata": {},
   "outputs": [
    {
     "data": {
      "text/plain": [
       "Index(['Title', 'Year', 'Source title', 'Abstract', 'Index Keywords',\n",
       "       'Cited by', 'Publisher', 'Language of Original Document',\n",
       "       'Document Type', 'countries', 'Funding Entities', 'Main Country',\n",
       "       'Period', 'Number of collaborators'],\n",
       "      dtype='object')"
      ]
     },
     "execution_count": 139,
     "metadata": {},
     "output_type": "execute_result"
    }
   ],
   "source": [
    "data.columns"
   ]
  },
  {
   "cell_type": "code",
   "execution_count": 181,
   "metadata": {},
   "outputs": [
    {
     "data": {
      "text/html": [
       "<div>\n",
       "<style scoped>\n",
       "    .dataframe tbody tr th:only-of-type {\n",
       "        vertical-align: middle;\n",
       "    }\n",
       "\n",
       "    .dataframe tbody tr th {\n",
       "        vertical-align: top;\n",
       "    }\n",
       "\n",
       "    .dataframe thead th {\n",
       "        text-align: right;\n",
       "    }\n",
       "</style>\n",
       "<table border=\"1\" class=\"dataframe\">\n",
       "  <thead>\n",
       "    <tr style=\"text-align: right;\">\n",
       "      <th></th>\n",
       "      <th>Year</th>\n",
       "      <th>Period</th>\n",
       "      <th>Index Keywords</th>\n",
       "    </tr>\n",
       "  </thead>\n",
       "  <tbody>\n",
       "    <tr>\n",
       "      <th>0</th>\n",
       "      <td>2023</td>\n",
       "      <td>2014 - 2023</td>\n",
       "      <td>['adult', '  Article', '  autoimmune hepatitis...</td>\n",
       "    </tr>\n",
       "    <tr>\n",
       "      <th>1</th>\n",
       "      <td>2023</td>\n",
       "      <td>2014 - 2023</td>\n",
       "      <td>['creatinine', '  endothelial leukocyte adhesi...</td>\n",
       "    </tr>\n",
       "    <tr>\n",
       "      <th>2</th>\n",
       "      <td>2023</td>\n",
       "      <td>2014 - 2023</td>\n",
       "      <td>['blood', '  cell organelle', '  COVID-19', ' ...</td>\n",
       "    </tr>\n",
       "    <tr>\n",
       "      <th>3</th>\n",
       "      <td>2023</td>\n",
       "      <td>2014 - 2023</td>\n",
       "      <td>['atonal BHLH transcription factor 1', '  beta...</td>\n",
       "    </tr>\n",
       "    <tr>\n",
       "      <th>4</th>\n",
       "      <td>2023</td>\n",
       "      <td>2014 - 2023</td>\n",
       "      <td>['crizanlizumab', '  vasculotropin antibody', ...</td>\n",
       "    </tr>\n",
       "    <tr>\n",
       "      <th>...</th>\n",
       "      <td>...</td>\n",
       "      <td>...</td>\n",
       "      <td>...</td>\n",
       "    </tr>\n",
       "    <tr>\n",
       "      <th>794</th>\n",
       "      <td>1964</td>\n",
       "      <td>1964 - 1973</td>\n",
       "      <td>['hemoglobin', '  article', '  diabetes mellit...</td>\n",
       "    </tr>\n",
       "    <tr>\n",
       "      <th>795</th>\n",
       "      <td>1963</td>\n",
       "      <td>1954 - 1963</td>\n",
       "      <td>['angioid streak', '  aorta aneurysm', '  bloo...</td>\n",
       "    </tr>\n",
       "    <tr>\n",
       "      <th>796</th>\n",
       "      <td>1960</td>\n",
       "      <td>1954 - 1963</td>\n",
       "      <td>['complication', '  diseases', '  retina', '  ...</td>\n",
       "    </tr>\n",
       "    <tr>\n",
       "      <th>797</th>\n",
       "      <td>1958</td>\n",
       "      <td>1954 - 1963</td>\n",
       "      <td>['bleeding', '  complication', '  retina', '  ...</td>\n",
       "    </tr>\n",
       "    <tr>\n",
       "      <th>798</th>\n",
       "      <td>1954</td>\n",
       "      <td>1954 - 1963</td>\n",
       "      <td>['bleeding', '  diseases', '  retina', '  sick...</td>\n",
       "    </tr>\n",
       "  </tbody>\n",
       "</table>\n",
       "<p>799 rows × 3 columns</p>\n",
       "</div>"
      ],
      "text/plain": [
       "     Year       Period                                     Index Keywords\n",
       "0    2023  2014 - 2023  ['adult', '  Article', '  autoimmune hepatitis...\n",
       "1    2023  2014 - 2023  ['creatinine', '  endothelial leukocyte adhesi...\n",
       "2    2023  2014 - 2023  ['blood', '  cell organelle', '  COVID-19', ' ...\n",
       "3    2023  2014 - 2023  ['atonal BHLH transcription factor 1', '  beta...\n",
       "4    2023  2014 - 2023  ['crizanlizumab', '  vasculotropin antibody', ...\n",
       "..    ...          ...                                                ...\n",
       "794  1964  1964 - 1973  ['hemoglobin', '  article', '  diabetes mellit...\n",
       "795  1963  1954 - 1963  ['angioid streak', '  aorta aneurysm', '  bloo...\n",
       "796  1960  1954 - 1963  ['complication', '  diseases', '  retina', '  ...\n",
       "797  1958  1954 - 1963  ['bleeding', '  complication', '  retina', '  ...\n",
       "798  1954  1954 - 1963  ['bleeding', '  diseases', '  retina', '  sick...\n",
       "\n",
       "[799 rows x 3 columns]"
      ]
     },
     "execution_count": 181,
     "metadata": {},
     "output_type": "execute_result"
    }
   ],
   "source": [
    "cols = [ 'Year','Period','Index Keywords']\n",
    "keywords_df = data[cols]\n",
    "keywords_df"
   ]
  },
  {
   "cell_type": "code",
   "execution_count": 182,
   "metadata": {},
   "outputs": [
    {
     "name": "stderr",
     "output_type": "stream",
     "text": [
      "C:\\Users\\Sherrif\\AppData\\Local\\Temp\\ipykernel_23052\\1108680909.py:1: SettingWithCopyWarning:\n",
      "\n",
      "\n",
      "A value is trying to be set on a copy of a slice from a DataFrame.\n",
      "Try using .loc[row_indexer,col_indexer] = value instead\n",
      "\n",
      "See the caveats in the documentation: https://pandas.pydata.org/pandas-docs/stable/user_guide/indexing.html#returning-a-view-versus-a-copy\n",
      "\n",
      "C:\\Users\\Sherrif\\AppData\\Local\\Temp\\ipykernel_23052\\1108680909.py:2: SettingWithCopyWarning:\n",
      "\n",
      "\n",
      "A value is trying to be set on a copy of a slice from a DataFrame.\n",
      "Try using .loc[row_indexer,col_indexer] = value instead\n",
      "\n",
      "See the caveats in the documentation: https://pandas.pydata.org/pandas-docs/stable/user_guide/indexing.html#returning-a-view-versus-a-copy\n",
      "\n"
     ]
    },
    {
     "data": {
      "text/html": [
       "<div>\n",
       "<style scoped>\n",
       "    .dataframe tbody tr th:only-of-type {\n",
       "        vertical-align: middle;\n",
       "    }\n",
       "\n",
       "    .dataframe tbody tr th {\n",
       "        vertical-align: top;\n",
       "    }\n",
       "\n",
       "    .dataframe thead th {\n",
       "        text-align: right;\n",
       "    }\n",
       "</style>\n",
       "<table border=\"1\" class=\"dataframe\">\n",
       "  <thead>\n",
       "    <tr style=\"text-align: right;\">\n",
       "      <th></th>\n",
       "      <th>Year</th>\n",
       "      <th>Period</th>\n",
       "      <th>Index Keywords</th>\n",
       "    </tr>\n",
       "  </thead>\n",
       "  <tbody>\n",
       "    <tr>\n",
       "      <th>0</th>\n",
       "      <td>2023</td>\n",
       "      <td>2014 - 2023</td>\n",
       "      <td>adult,   Article,   autoimmune hepatitis,   bl...</td>\n",
       "    </tr>\n",
       "    <tr>\n",
       "      <th>1</th>\n",
       "      <td>2023</td>\n",
       "      <td>2014 - 2023</td>\n",
       "      <td>creatinine,   endothelial leukocyte adhesion m...</td>\n",
       "    </tr>\n",
       "    <tr>\n",
       "      <th>2</th>\n",
       "      <td>2023</td>\n",
       "      <td>2014 - 2023</td>\n",
       "      <td>blood,   cell organelle,   COVID-19,   epidemi...</td>\n",
       "    </tr>\n",
       "    <tr>\n",
       "      <th>3</th>\n",
       "      <td>2023</td>\n",
       "      <td>2014 - 2023</td>\n",
       "      <td>atonal BHLH transcription factor 1,   beta act...</td>\n",
       "    </tr>\n",
       "    <tr>\n",
       "      <th>4</th>\n",
       "      <td>2023</td>\n",
       "      <td>2014 - 2023</td>\n",
       "      <td>crizanlizumab,   vasculotropin antibody,   cli...</td>\n",
       "    </tr>\n",
       "    <tr>\n",
       "      <th>...</th>\n",
       "      <td>...</td>\n",
       "      <td>...</td>\n",
       "      <td>...</td>\n",
       "    </tr>\n",
       "    <tr>\n",
       "      <th>794</th>\n",
       "      <td>1964</td>\n",
       "      <td>1964 - 1973</td>\n",
       "      <td>hemoglobin,   article,   diabetes mellitus,   ...</td>\n",
       "    </tr>\n",
       "    <tr>\n",
       "      <th>795</th>\n",
       "      <td>1963</td>\n",
       "      <td>1954 - 1963</td>\n",
       "      <td>angioid streak,   aorta aneurysm,   blood clot...</td>\n",
       "    </tr>\n",
       "    <tr>\n",
       "      <th>796</th>\n",
       "      <td>1960</td>\n",
       "      <td>1954 - 1963</td>\n",
       "      <td>complication,   diseases,   retina,   sickle c...</td>\n",
       "    </tr>\n",
       "    <tr>\n",
       "      <th>797</th>\n",
       "      <td>1958</td>\n",
       "      <td>1954 - 1963</td>\n",
       "      <td>bleeding,   complication,   retina,   sickle c...</td>\n",
       "    </tr>\n",
       "    <tr>\n",
       "      <th>798</th>\n",
       "      <td>1954</td>\n",
       "      <td>1954 - 1963</td>\n",
       "      <td>bleeding,   diseases,   retina,   sickle cell ...</td>\n",
       "    </tr>\n",
       "  </tbody>\n",
       "</table>\n",
       "<p>799 rows × 3 columns</p>\n",
       "</div>"
      ],
      "text/plain": [
       "     Year       Period                                     Index Keywords\n",
       "0    2023  2014 - 2023  adult,   Article,   autoimmune hepatitis,   bl...\n",
       "1    2023  2014 - 2023  creatinine,   endothelial leukocyte adhesion m...\n",
       "2    2023  2014 - 2023  blood,   cell organelle,   COVID-19,   epidemi...\n",
       "3    2023  2014 - 2023  atonal BHLH transcription factor 1,   beta act...\n",
       "4    2023  2014 - 2023  crizanlizumab,   vasculotropin antibody,   cli...\n",
       "..    ...          ...                                                ...\n",
       "794  1964  1964 - 1973  hemoglobin,   article,   diabetes mellitus,   ...\n",
       "795  1963  1954 - 1963  angioid streak,   aorta aneurysm,   blood clot...\n",
       "796  1960  1954 - 1963  complication,   diseases,   retina,   sickle c...\n",
       "797  1958  1954 - 1963  bleeding,   complication,   retina,   sickle c...\n",
       "798  1954  1954 - 1963  bleeding,   diseases,   retina,   sickle cell ...\n",
       "\n",
       "[799 rows x 3 columns]"
      ]
     },
     "execution_count": 182,
     "metadata": {},
     "output_type": "execute_result"
    }
   ],
   "source": [
    "keywords_df['Index Keywords']=keywords_df['Index Keywords'].str.replace('[','').str.replace(\"'\",'').str.replace(']','')\n",
    "keywords_df['Index Keywords'] = keywords_df['Index Keywords'].str.strip()\n",
    "keywords_df"
   ]
  },
  {
   "cell_type": "code",
   "execution_count": 183,
   "metadata": {},
   "outputs": [
    {
     "name": "stderr",
     "output_type": "stream",
     "text": [
      "C:\\Users\\Sherrif\\AppData\\Local\\Temp\\ipykernel_23052\\4058073483.py:1: SettingWithCopyWarning:\n",
      "\n",
      "\n",
      "A value is trying to be set on a copy of a slice from a DataFrame.\n",
      "Try using .loc[row_indexer,col_indexer] = value instead\n",
      "\n",
      "See the caveats in the documentation: https://pandas.pydata.org/pandas-docs/stable/user_guide/indexing.html#returning-a-view-versus-a-copy\n",
      "\n"
     ]
    },
    {
     "data": {
      "text/html": [
       "<div>\n",
       "<style scoped>\n",
       "    .dataframe tbody tr th:only-of-type {\n",
       "        vertical-align: middle;\n",
       "    }\n",
       "\n",
       "    .dataframe tbody tr th {\n",
       "        vertical-align: top;\n",
       "    }\n",
       "\n",
       "    .dataframe thead th {\n",
       "        text-align: right;\n",
       "    }\n",
       "</style>\n",
       "<table border=\"1\" class=\"dataframe\">\n",
       "  <thead>\n",
       "    <tr style=\"text-align: right;\">\n",
       "      <th></th>\n",
       "      <th>Year</th>\n",
       "      <th>Period</th>\n",
       "      <th>Index Keywords</th>\n",
       "    </tr>\n",
       "  </thead>\n",
       "  <tbody>\n",
       "    <tr>\n",
       "      <th>0</th>\n",
       "      <td>2023</td>\n",
       "      <td>2014 - 2023</td>\n",
       "      <td>[adult,    article,    autoimmune hepatitis,  ...</td>\n",
       "    </tr>\n",
       "    <tr>\n",
       "      <th>1</th>\n",
       "      <td>2023</td>\n",
       "      <td>2014 - 2023</td>\n",
       "      <td>[creatinine,    endothelial leukocyte adhesion...</td>\n",
       "    </tr>\n",
       "    <tr>\n",
       "      <th>2</th>\n",
       "      <td>2023</td>\n",
       "      <td>2014 - 2023</td>\n",
       "      <td>[blood,    cell organelle,    covid-19,    epi...</td>\n",
       "    </tr>\n",
       "    <tr>\n",
       "      <th>3</th>\n",
       "      <td>2023</td>\n",
       "      <td>2014 - 2023</td>\n",
       "      <td>[atonal bhlh transcription factor 1,    beta a...</td>\n",
       "    </tr>\n",
       "    <tr>\n",
       "      <th>4</th>\n",
       "      <td>2023</td>\n",
       "      <td>2014 - 2023</td>\n",
       "      <td>[crizanlizumab,    vasculotropin antibody,    ...</td>\n",
       "    </tr>\n",
       "    <tr>\n",
       "      <th>...</th>\n",
       "      <td>...</td>\n",
       "      <td>...</td>\n",
       "      <td>...</td>\n",
       "    </tr>\n",
       "    <tr>\n",
       "      <th>794</th>\n",
       "      <td>1964</td>\n",
       "      <td>1964 - 1973</td>\n",
       "      <td>[hemoglobin,    article,    diabetes mellitus,...</td>\n",
       "    </tr>\n",
       "    <tr>\n",
       "      <th>795</th>\n",
       "      <td>1963</td>\n",
       "      <td>1954 - 1963</td>\n",
       "      <td>[angioid streak,    aorta aneurysm,    blood c...</td>\n",
       "    </tr>\n",
       "    <tr>\n",
       "      <th>796</th>\n",
       "      <td>1960</td>\n",
       "      <td>1954 - 1963</td>\n",
       "      <td>[complication,    diseases,    retina,    sick...</td>\n",
       "    </tr>\n",
       "    <tr>\n",
       "      <th>797</th>\n",
       "      <td>1958</td>\n",
       "      <td>1954 - 1963</td>\n",
       "      <td>[bleeding,    complication,    retina,    sick...</td>\n",
       "    </tr>\n",
       "    <tr>\n",
       "      <th>798</th>\n",
       "      <td>1954</td>\n",
       "      <td>1954 - 1963</td>\n",
       "      <td>[bleeding,    diseases,    retina,    sickle c...</td>\n",
       "    </tr>\n",
       "  </tbody>\n",
       "</table>\n",
       "<p>799 rows × 3 columns</p>\n",
       "</div>"
      ],
      "text/plain": [
       "     Year       Period                                     Index Keywords\n",
       "0    2023  2014 - 2023  [adult,    article,    autoimmune hepatitis,  ...\n",
       "1    2023  2014 - 2023  [creatinine,    endothelial leukocyte adhesion...\n",
       "2    2023  2014 - 2023  [blood,    cell organelle,    covid-19,    epi...\n",
       "3    2023  2014 - 2023  [atonal bhlh transcription factor 1,    beta a...\n",
       "4    2023  2014 - 2023  [crizanlizumab,    vasculotropin antibody,    ...\n",
       "..    ...          ...                                                ...\n",
       "794  1964  1964 - 1973  [hemoglobin,    article,    diabetes mellitus,...\n",
       "795  1963  1954 - 1963  [angioid streak,    aorta aneurysm,    blood c...\n",
       "796  1960  1954 - 1963  [complication,    diseases,    retina,    sick...\n",
       "797  1958  1954 - 1963  [bleeding,    complication,    retina,    sick...\n",
       "798  1954  1954 - 1963  [bleeding,    diseases,    retina,    sickle c...\n",
       "\n",
       "[799 rows x 3 columns]"
      ]
     },
     "execution_count": 183,
     "metadata": {},
     "output_type": "execute_result"
    }
   ],
   "source": [
    "keywords_df['Index Keywords']=keywords_df['Index Keywords'].str.lower().str.split(',')\n",
    "keywords_df"
   ]
  },
  {
   "cell_type": "code",
   "execution_count": 186,
   "metadata": {},
   "outputs": [
    {
     "data": {
      "text/plain": [
       "Year              0\n",
       "Period            0\n",
       "Index Keywords    0\n",
       "dtype: int64"
      ]
     },
     "execution_count": 186,
     "metadata": {},
     "output_type": "execute_result"
    }
   ],
   "source": [
    "keywords_df.isnull().sum()"
   ]
  },
  {
   "cell_type": "code",
   "execution_count": 185,
   "metadata": {},
   "outputs": [
    {
     "name": "stderr",
     "output_type": "stream",
     "text": [
      "C:\\Users\\Sherrif\\AppData\\Local\\Temp\\ipykernel_23052\\753494095.py:1: SettingWithCopyWarning:\n",
      "\n",
      "\n",
      "A value is trying to be set on a copy of a slice from a DataFrame\n",
      "\n",
      "See the caveats in the documentation: https://pandas.pydata.org/pandas-docs/stable/user_guide/indexing.html#returning-a-view-versus-a-copy\n",
      "\n"
     ]
    }
   ],
   "source": [
    "keywords_df.dropna(inplace=True)"
   ]
  },
  {
   "cell_type": "code",
   "execution_count": 187,
   "metadata": {},
   "outputs": [
    {
     "data": {
      "text/html": [
       "<div>\n",
       "<style scoped>\n",
       "    .dataframe tbody tr th:only-of-type {\n",
       "        vertical-align: middle;\n",
       "    }\n",
       "\n",
       "    .dataframe tbody tr th {\n",
       "        vertical-align: top;\n",
       "    }\n",
       "\n",
       "    .dataframe thead th {\n",
       "        text-align: right;\n",
       "    }\n",
       "</style>\n",
       "<table border=\"1\" class=\"dataframe\">\n",
       "  <thead>\n",
       "    <tr style=\"text-align: right;\">\n",
       "      <th></th>\n",
       "      <th>Year</th>\n",
       "      <th>Index Keywords</th>\n",
       "      <th>Period</th>\n",
       "    </tr>\n",
       "  </thead>\n",
       "  <tbody>\n",
       "    <tr>\n",
       "      <th>0</th>\n",
       "      <td>1954</td>\n",
       "      <td>[bleeding,    diseases,    retina,    sickle c...</td>\n",
       "      <td>1954 - 1963</td>\n",
       "    </tr>\n",
       "    <tr>\n",
       "      <th>1</th>\n",
       "      <td>1958</td>\n",
       "      <td>[bleeding,    complication,    retina,    sick...</td>\n",
       "      <td>1954 - 1963</td>\n",
       "    </tr>\n",
       "    <tr>\n",
       "      <th>2</th>\n",
       "      <td>1960</td>\n",
       "      <td>[complication,    diseases,    retina,    sick...</td>\n",
       "      <td>1954 - 1963</td>\n",
       "    </tr>\n",
       "    <tr>\n",
       "      <th>3</th>\n",
       "      <td>1963</td>\n",
       "      <td>[angioid streak,    aorta aneurysm,    blood c...</td>\n",
       "      <td>1954 - 1963</td>\n",
       "    </tr>\n",
       "    <tr>\n",
       "      <th>4</th>\n",
       "      <td>1964</td>\n",
       "      <td>[hemoglobin,    article,    diabetes mellitus,...</td>\n",
       "      <td>1964 - 1973</td>\n",
       "    </tr>\n",
       "    <tr>\n",
       "      <th>...</th>\n",
       "      <td>...</td>\n",
       "      <td>...</td>\n",
       "      <td>...</td>\n",
       "    </tr>\n",
       "    <tr>\n",
       "      <th>56</th>\n",
       "      <td>2019</td>\n",
       "      <td>[diagnostic imaging,    disease severity,    f...</td>\n",
       "      <td>2014 - 2023</td>\n",
       "    </tr>\n",
       "    <tr>\n",
       "      <th>57</th>\n",
       "      <td>2020</td>\n",
       "      <td>[bevacizumab,    ceftazidime,    cotrimoxazole...</td>\n",
       "      <td>2014 - 2023</td>\n",
       "    </tr>\n",
       "    <tr>\n",
       "      <th>58</th>\n",
       "      <td>2021</td>\n",
       "      <td>[deferasirox,    deferiprone,    deferoxamine,...</td>\n",
       "      <td>2014 - 2023</td>\n",
       "    </tr>\n",
       "    <tr>\n",
       "      <th>59</th>\n",
       "      <td>2022</td>\n",
       "      <td>[adult,    adverse event,    age,    article, ...</td>\n",
       "      <td>2014 - 2023</td>\n",
       "    </tr>\n",
       "    <tr>\n",
       "      <th>60</th>\n",
       "      <td>2023</td>\n",
       "      <td>[adult,    article,    autoimmune hepatitis,  ...</td>\n",
       "      <td>2014 - 2023</td>\n",
       "    </tr>\n",
       "  </tbody>\n",
       "</table>\n",
       "<p>61 rows × 3 columns</p>\n",
       "</div>"
      ],
      "text/plain": [
       "    Year                                     Index Keywords       Period\n",
       "0   1954  [bleeding,    diseases,    retina,    sickle c...  1954 - 1963\n",
       "1   1958  [bleeding,    complication,    retina,    sick...  1954 - 1963\n",
       "2   1960  [complication,    diseases,    retina,    sick...  1954 - 1963\n",
       "3   1963  [angioid streak,    aorta aneurysm,    blood c...  1954 - 1963\n",
       "4   1964  [hemoglobin,    article,    diabetes mellitus,...  1964 - 1973\n",
       "..   ...                                                ...          ...\n",
       "56  2019  [diagnostic imaging,    disease severity,    f...  2014 - 2023\n",
       "57  2020  [bevacizumab,    ceftazidime,    cotrimoxazole...  2014 - 2023\n",
       "58  2021  [deferasirox,    deferiprone,    deferoxamine,...  2014 - 2023\n",
       "59  2022  [adult,    adverse event,    age,    article, ...  2014 - 2023\n",
       "60  2023  [adult,    article,    autoimmune hepatitis,  ...  2014 - 2023\n",
       "\n",
       "[61 rows x 3 columns]"
      ]
     },
     "execution_count": 187,
     "metadata": {},
     "output_type": "execute_result"
    }
   ],
   "source": [
    "keywords_year = keywords_df.groupby(['Year']).agg({'Index Keywords':'sum', 'Period':'first'}).reset_index()\n",
    "keywords_year\n"
   ]
  },
  {
   "cell_type": "code",
   "execution_count": 188,
   "metadata": {},
   "outputs": [
    {
     "data": {
      "text/html": [
       "<div>\n",
       "<style scoped>\n",
       "    .dataframe tbody tr th:only-of-type {\n",
       "        vertical-align: middle;\n",
       "    }\n",
       "\n",
       "    .dataframe tbody tr th {\n",
       "        vertical-align: top;\n",
       "    }\n",
       "\n",
       "    .dataframe thead th {\n",
       "        text-align: right;\n",
       "    }\n",
       "</style>\n",
       "<table border=\"1\" class=\"dataframe\">\n",
       "  <thead>\n",
       "    <tr style=\"text-align: right;\">\n",
       "      <th></th>\n",
       "      <th>Period</th>\n",
       "      <th>Index Keywords</th>\n",
       "    </tr>\n",
       "  </thead>\n",
       "  <tbody>\n",
       "    <tr>\n",
       "      <th>0</th>\n",
       "      <td>1954 - 1963</td>\n",
       "      <td>[angioid streak,    aorta aneurysm,    blood c...</td>\n",
       "    </tr>\n",
       "    <tr>\n",
       "      <th>1</th>\n",
       "      <td>1964 - 1973</td>\n",
       "      <td>[blindness,    diabetes mellitus,    hemoglobi...</td>\n",
       "    </tr>\n",
       "    <tr>\n",
       "      <th>2</th>\n",
       "      <td>1974 - 1983</td>\n",
       "      <td>[diagnostic agent,    fibrin,    fluorescein, ...</td>\n",
       "    </tr>\n",
       "    <tr>\n",
       "      <th>3</th>\n",
       "      <td>1984 - 1993</td>\n",
       "      <td>[adult,    aged,    article,    biomicroscopy,...</td>\n",
       "    </tr>\n",
       "    <tr>\n",
       "      <th>4</th>\n",
       "      <td>1994 - 2003</td>\n",
       "      <td>[anemia,    cataract,    clinical feature,    ...</td>\n",
       "    </tr>\n",
       "    <tr>\n",
       "      <th>5</th>\n",
       "      <td>2004 - 2013</td>\n",
       "      <td>[article,    blood rheology,    blood viscosit...</td>\n",
       "    </tr>\n",
       "    <tr>\n",
       "      <th>6</th>\n",
       "      <td>2014 - 2023</td>\n",
       "      <td>[adult,    article,    autoimmune hepatitis,  ...</td>\n",
       "    </tr>\n",
       "  </tbody>\n",
       "</table>\n",
       "</div>"
      ],
      "text/plain": [
       "        Period                                     Index Keywords\n",
       "0  1954 - 1963  [angioid streak,    aorta aneurysm,    blood c...\n",
       "1  1964 - 1973  [blindness,    diabetes mellitus,    hemoglobi...\n",
       "2  1974 - 1983  [diagnostic agent,    fibrin,    fluorescein, ...\n",
       "3  1984 - 1993  [adult,    aged,    article,    biomicroscopy,...\n",
       "4  1994 - 2003  [anemia,    cataract,    clinical feature,    ...\n",
       "5  2004 - 2013  [article,    blood rheology,    blood viscosit...\n",
       "6  2014 - 2023  [adult,    article,    autoimmune hepatitis,  ..."
      ]
     },
     "execution_count": 188,
     "metadata": {},
     "output_type": "execute_result"
    }
   ],
   "source": [
    "keywords_decade = keywords_df.groupby(['Period']).agg({'Index Keywords':'sum'}).reset_index()\n",
    "keywords_decade"
   ]
  },
  {
   "cell_type": "code",
   "execution_count": 221,
   "metadata": {},
   "outputs": [
    {
     "data": {
      "text/html": [
       "<div>\n",
       "<style scoped>\n",
       "    .dataframe tbody tr th:only-of-type {\n",
       "        vertical-align: middle;\n",
       "    }\n",
       "\n",
       "    .dataframe tbody tr th {\n",
       "        vertical-align: top;\n",
       "    }\n",
       "\n",
       "    .dataframe thead th {\n",
       "        text-align: right;\n",
       "    }\n",
       "</style>\n",
       "<table border=\"1\" class=\"dataframe\">\n",
       "  <thead>\n",
       "    <tr style=\"text-align: right;\">\n",
       "      <th></th>\n",
       "      <th>Period</th>\n",
       "      <th>Index Keywords</th>\n",
       "    </tr>\n",
       "  </thead>\n",
       "  <tbody>\n",
       "    <tr>\n",
       "      <th>0</th>\n",
       "      <td>1954 - 1963</td>\n",
       "      <td>angioid streak</td>\n",
       "    </tr>\n",
       "    <tr>\n",
       "      <th>0</th>\n",
       "      <td>1954 - 1963</td>\n",
       "      <td>aorta aneurysm</td>\n",
       "    </tr>\n",
       "    <tr>\n",
       "      <th>0</th>\n",
       "      <td>1954 - 1963</td>\n",
       "      <td>blood clotting disorder</td>\n",
       "    </tr>\n",
       "    <tr>\n",
       "      <th>0</th>\n",
       "      <td>1954 - 1963</td>\n",
       "      <td>cardiovascular disease</td>\n",
       "    </tr>\n",
       "    <tr>\n",
       "      <th>0</th>\n",
       "      <td>1954 - 1963</td>\n",
       "      <td>ehlers danlos syndrome</td>\n",
       "    </tr>\n",
       "    <tr>\n",
       "      <th>...</th>\n",
       "      <td>...</td>\n",
       "      <td>...</td>\n",
       "    </tr>\n",
       "    <tr>\n",
       "      <th>6</th>\n",
       "      <td>2014 - 2023</td>\n",
       "      <td>treatment outcome</td>\n",
       "    </tr>\n",
       "    <tr>\n",
       "      <th>6</th>\n",
       "      <td>2014 - 2023</td>\n",
       "      <td>vitrectomy</td>\n",
       "    </tr>\n",
       "    <tr>\n",
       "      <th>6</th>\n",
       "      <td>2014 - 2023</td>\n",
       "      <td>vitreoretinal surgery</td>\n",
       "    </tr>\n",
       "    <tr>\n",
       "      <th>6</th>\n",
       "      <td>2014 - 2023</td>\n",
       "      <td>vitreous hemorrhage</td>\n",
       "    </tr>\n",
       "    <tr>\n",
       "      <th>6</th>\n",
       "      <td>2014 - 2023</td>\n",
       "      <td>young adult</td>\n",
       "    </tr>\n",
       "  </tbody>\n",
       "</table>\n",
       "<p>28190 rows × 2 columns</p>\n",
       "</div>"
      ],
      "text/plain": [
       "         Period              Index Keywords\n",
       "0   1954 - 1963              angioid streak\n",
       "0   1954 - 1963              aorta aneurysm\n",
       "0   1954 - 1963     blood clotting disorder\n",
       "0   1954 - 1963      cardiovascular disease\n",
       "0   1954 - 1963      ehlers danlos syndrome\n",
       "..          ...                         ...\n",
       "6   2014 - 2023           treatment outcome\n",
       "6   2014 - 2023                  vitrectomy\n",
       "6   2014 - 2023       vitreoretinal surgery\n",
       "6   2014 - 2023         vitreous hemorrhage\n",
       "6   2014 - 2023                 young adult\n",
       "\n",
       "[28190 rows x 2 columns]"
      ]
     },
     "execution_count": 221,
     "metadata": {},
     "output_type": "execute_result"
    }
   ],
   "source": [
    "keywords_decade = keywords_decade.explode('Index Keywords')\n",
    "keywords_decade"
   ]
  },
  {
   "cell_type": "code",
   "execution_count": 225,
   "metadata": {},
   "outputs": [
    {
     "data": {
      "text/html": [
       "<div>\n",
       "<style scoped>\n",
       "    .dataframe tbody tr th:only-of-type {\n",
       "        vertical-align: middle;\n",
       "    }\n",
       "\n",
       "    .dataframe tbody tr th {\n",
       "        vertical-align: top;\n",
       "    }\n",
       "\n",
       "    .dataframe thead th {\n",
       "        text-align: right;\n",
       "    }\n",
       "</style>\n",
       "<table border=\"1\" class=\"dataframe\">\n",
       "  <thead>\n",
       "    <tr style=\"text-align: right;\">\n",
       "      <th></th>\n",
       "      <th></th>\n",
       "      <th>count</th>\n",
       "    </tr>\n",
       "    <tr>\n",
       "      <th>Index Keywords</th>\n",
       "      <th>Period</th>\n",
       "      <th></th>\n",
       "    </tr>\n",
       "  </thead>\n",
       "  <tbody>\n",
       "    <tr>\n",
       "      <th>1 (4 dimethylamino 3 methylbenzyl) 5 diphenylacetyl 4</th>\n",
       "      <th>2014 - 2023</th>\n",
       "      <td>1</td>\n",
       "    </tr>\n",
       "    <tr>\n",
       "      <th>13-valent pneumococcal vaccine</th>\n",
       "      <th>2014 - 2023</th>\n",
       "      <td>1</td>\n",
       "    </tr>\n",
       "    <tr>\n",
       "      <th>2</th>\n",
       "      <th>2004 - 2013</th>\n",
       "      <td>1</td>\n",
       "    </tr>\n",
       "    <tr>\n",
       "      <th>23 gauge vitrectomy</th>\n",
       "      <th>2014 - 2023</th>\n",
       "      <td>1</td>\n",
       "    </tr>\n",
       "    <tr>\n",
       "      <th>23-valent pneumococcal capsular polysaccharide vaccine</th>\n",
       "      <th>2014 - 2023</th>\n",
       "      <td>1</td>\n",
       "    </tr>\n",
       "    <tr>\n",
       "      <th>...</th>\n",
       "      <th>...</th>\n",
       "      <td>...</td>\n",
       "    </tr>\n",
       "    <tr>\n",
       "      <th>vasculotropin inhibitor</th>\n",
       "      <th>2014 - 2023</th>\n",
       "      <td>1</td>\n",
       "    </tr>\n",
       "    <tr>\n",
       "      <th>visual pigment</th>\n",
       "      <th>2004 - 2013</th>\n",
       "      <td>1</td>\n",
       "    </tr>\n",
       "    <tr>\n",
       "      <th>von hippel lindau protein</th>\n",
       "      <th>2014 - 2023</th>\n",
       "      <td>1</td>\n",
       "    </tr>\n",
       "    <tr>\n",
       "      <th rowspan=\"2\" valign=\"top\">xenon</th>\n",
       "      <th>1974 - 1983</th>\n",
       "      <td>1</td>\n",
       "    </tr>\n",
       "    <tr>\n",
       "      <th>1984 - 1993</th>\n",
       "      <td>1</td>\n",
       "    </tr>\n",
       "  </tbody>\n",
       "</table>\n",
       "<p>7678 rows × 1 columns</p>\n",
       "</div>"
      ],
      "text/plain": [
       "                                                                count\n",
       "Index Keywords                                     Period            \n",
       "   1 (4 dimethylamino 3 methylbenzyl) 5 dipheny... 2014 - 2023      1\n",
       "   13-valent pneumococcal vaccine                  2014 - 2023      1\n",
       "   2                                               2004 - 2013      1\n",
       "   23 gauge vitrectomy                             2014 - 2023      1\n",
       "   23-valent pneumococcal capsular polysacchari... 2014 - 2023      1\n",
       "...                                                               ...\n",
       "vasculotropin inhibitor                            2014 - 2023      1\n",
       "visual pigment                                     2004 - 2013      1\n",
       "von hippel lindau protein                          2014 - 2023      1\n",
       "xenon                                              1974 - 1983      1\n",
       "                                                   1984 - 1993      1\n",
       "\n",
       "[7678 rows x 1 columns]"
      ]
     },
     "execution_count": 225,
     "metadata": {},
     "output_type": "execute_result"
    }
   ],
   "source": [
    "keywords_decade['count']=1\n",
    "keywords_decade = keywords_decade.groupby(['Index Keywords','Period']).count()\n",
    "keywords_decade"
   ]
  },
  {
   "cell_type": "code",
   "execution_count": 227,
   "metadata": {},
   "outputs": [
    {
     "data": {
      "text/html": [
       "<div>\n",
       "<style scoped>\n",
       "    .dataframe tbody tr th:only-of-type {\n",
       "        vertical-align: middle;\n",
       "    }\n",
       "\n",
       "    .dataframe tbody tr th {\n",
       "        vertical-align: top;\n",
       "    }\n",
       "\n",
       "    .dataframe thead th {\n",
       "        text-align: right;\n",
       "    }\n",
       "</style>\n",
       "<table border=\"1\" class=\"dataframe\">\n",
       "  <thead>\n",
       "    <tr style=\"text-align: right;\">\n",
       "      <th>Period</th>\n",
       "      <th>1954 - 1963</th>\n",
       "      <th>1964 - 1973</th>\n",
       "      <th>1974 - 1983</th>\n",
       "      <th>1984 - 1993</th>\n",
       "      <th>1994 - 2003</th>\n",
       "      <th>2004 - 2013</th>\n",
       "      <th>2014 - 2023</th>\n",
       "    </tr>\n",
       "    <tr>\n",
       "      <th>Index Keywords</th>\n",
       "      <th></th>\n",
       "      <th></th>\n",
       "      <th></th>\n",
       "      <th></th>\n",
       "      <th></th>\n",
       "      <th></th>\n",
       "      <th></th>\n",
       "    </tr>\n",
       "  </thead>\n",
       "  <tbody>\n",
       "    <tr>\n",
       "      <th>1 (4 dimethylamino 3 methylbenzyl) 5 diphenylacetyl 4</th>\n",
       "      <td>NaN</td>\n",
       "      <td>NaN</td>\n",
       "      <td>NaN</td>\n",
       "      <td>NaN</td>\n",
       "      <td>NaN</td>\n",
       "      <td>NaN</td>\n",
       "      <td>1.0</td>\n",
       "    </tr>\n",
       "    <tr>\n",
       "      <th>13-valent pneumococcal vaccine</th>\n",
       "      <td>NaN</td>\n",
       "      <td>NaN</td>\n",
       "      <td>NaN</td>\n",
       "      <td>NaN</td>\n",
       "      <td>NaN</td>\n",
       "      <td>NaN</td>\n",
       "      <td>1.0</td>\n",
       "    </tr>\n",
       "    <tr>\n",
       "      <th>2</th>\n",
       "      <td>NaN</td>\n",
       "      <td>NaN</td>\n",
       "      <td>NaN</td>\n",
       "      <td>NaN</td>\n",
       "      <td>NaN</td>\n",
       "      <td>1.0</td>\n",
       "      <td>NaN</td>\n",
       "    </tr>\n",
       "    <tr>\n",
       "      <th>23 gauge vitrectomy</th>\n",
       "      <td>NaN</td>\n",
       "      <td>NaN</td>\n",
       "      <td>NaN</td>\n",
       "      <td>NaN</td>\n",
       "      <td>NaN</td>\n",
       "      <td>NaN</td>\n",
       "      <td>1.0</td>\n",
       "    </tr>\n",
       "    <tr>\n",
       "      <th>23-valent pneumococcal capsular polysaccharide vaccine</th>\n",
       "      <td>NaN</td>\n",
       "      <td>NaN</td>\n",
       "      <td>NaN</td>\n",
       "      <td>NaN</td>\n",
       "      <td>NaN</td>\n",
       "      <td>NaN</td>\n",
       "      <td>1.0</td>\n",
       "    </tr>\n",
       "    <tr>\n",
       "      <th>...</th>\n",
       "      <td>...</td>\n",
       "      <td>...</td>\n",
       "      <td>...</td>\n",
       "      <td>...</td>\n",
       "      <td>...</td>\n",
       "      <td>...</td>\n",
       "      <td>...</td>\n",
       "    </tr>\n",
       "    <tr>\n",
       "      <th>vasculotropin</th>\n",
       "      <td>NaN</td>\n",
       "      <td>NaN</td>\n",
       "      <td>NaN</td>\n",
       "      <td>NaN</td>\n",
       "      <td>NaN</td>\n",
       "      <td>NaN</td>\n",
       "      <td>1.0</td>\n",
       "    </tr>\n",
       "    <tr>\n",
       "      <th>vasculotropin inhibitor</th>\n",
       "      <td>NaN</td>\n",
       "      <td>NaN</td>\n",
       "      <td>NaN</td>\n",
       "      <td>NaN</td>\n",
       "      <td>NaN</td>\n",
       "      <td>NaN</td>\n",
       "      <td>1.0</td>\n",
       "    </tr>\n",
       "    <tr>\n",
       "      <th>visual pigment</th>\n",
       "      <td>NaN</td>\n",
       "      <td>NaN</td>\n",
       "      <td>NaN</td>\n",
       "      <td>NaN</td>\n",
       "      <td>NaN</td>\n",
       "      <td>1.0</td>\n",
       "      <td>NaN</td>\n",
       "    </tr>\n",
       "    <tr>\n",
       "      <th>von hippel lindau protein</th>\n",
       "      <td>NaN</td>\n",
       "      <td>NaN</td>\n",
       "      <td>NaN</td>\n",
       "      <td>NaN</td>\n",
       "      <td>NaN</td>\n",
       "      <td>NaN</td>\n",
       "      <td>1.0</td>\n",
       "    </tr>\n",
       "    <tr>\n",
       "      <th>xenon</th>\n",
       "      <td>NaN</td>\n",
       "      <td>NaN</td>\n",
       "      <td>1.0</td>\n",
       "      <td>1.0</td>\n",
       "      <td>NaN</td>\n",
       "      <td>NaN</td>\n",
       "      <td>NaN</td>\n",
       "    </tr>\n",
       "  </tbody>\n",
       "</table>\n",
       "<p>5119 rows × 7 columns</p>\n",
       "</div>"
      ],
      "text/plain": [
       "Period                                              1954 - 1963  1964 - 1973  \\\n",
       "Index Keywords                                                                 \n",
       "   1 (4 dimethylamino 3 methylbenzyl) 5 dipheny...          NaN          NaN   \n",
       "   13-valent pneumococcal vaccine                           NaN          NaN   \n",
       "   2                                                        NaN          NaN   \n",
       "   23 gauge vitrectomy                                      NaN          NaN   \n",
       "   23-valent pneumococcal capsular polysacchari...          NaN          NaN   \n",
       "...                                                         ...          ...   \n",
       "vasculotropin                                               NaN          NaN   \n",
       "vasculotropin inhibitor                                     NaN          NaN   \n",
       "visual pigment                                              NaN          NaN   \n",
       "von hippel lindau protein                                   NaN          NaN   \n",
       "xenon                                                       NaN          NaN   \n",
       "\n",
       "Period                                              1974 - 1983  1984 - 1993  \\\n",
       "Index Keywords                                                                 \n",
       "   1 (4 dimethylamino 3 methylbenzyl) 5 dipheny...          NaN          NaN   \n",
       "   13-valent pneumococcal vaccine                           NaN          NaN   \n",
       "   2                                                        NaN          NaN   \n",
       "   23 gauge vitrectomy                                      NaN          NaN   \n",
       "   23-valent pneumococcal capsular polysacchari...          NaN          NaN   \n",
       "...                                                         ...          ...   \n",
       "vasculotropin                                               NaN          NaN   \n",
       "vasculotropin inhibitor                                     NaN          NaN   \n",
       "visual pigment                                              NaN          NaN   \n",
       "von hippel lindau protein                                   NaN          NaN   \n",
       "xenon                                                       1.0          1.0   \n",
       "\n",
       "Period                                              1994 - 2003  2004 - 2013  \\\n",
       "Index Keywords                                                                 \n",
       "   1 (4 dimethylamino 3 methylbenzyl) 5 dipheny...          NaN          NaN   \n",
       "   13-valent pneumococcal vaccine                           NaN          NaN   \n",
       "   2                                                        NaN          1.0   \n",
       "   23 gauge vitrectomy                                      NaN          NaN   \n",
       "   23-valent pneumococcal capsular polysacchari...          NaN          NaN   \n",
       "...                                                         ...          ...   \n",
       "vasculotropin                                               NaN          NaN   \n",
       "vasculotropin inhibitor                                     NaN          NaN   \n",
       "visual pigment                                              NaN          1.0   \n",
       "von hippel lindau protein                                   NaN          NaN   \n",
       "xenon                                                       NaN          NaN   \n",
       "\n",
       "Period                                              2014 - 2023  \n",
       "Index Keywords                                                   \n",
       "   1 (4 dimethylamino 3 methylbenzyl) 5 dipheny...          1.0  \n",
       "   13-valent pneumococcal vaccine                           1.0  \n",
       "   2                                                        NaN  \n",
       "   23 gauge vitrectomy                                      1.0  \n",
       "   23-valent pneumococcal capsular polysacchari...          1.0  \n",
       "...                                                         ...  \n",
       "vasculotropin                                               1.0  \n",
       "vasculotropin inhibitor                                     1.0  \n",
       "visual pigment                                              NaN  \n",
       "von hippel lindau protein                                   1.0  \n",
       "xenon                                                       NaN  \n",
       "\n",
       "[5119 rows x 7 columns]"
      ]
     },
     "execution_count": 227,
     "metadata": {},
     "output_type": "execute_result"
    }
   ],
   "source": [
    "keywords_decade = keywords_decade.reset_index()\n",
    "keywords_decade = keywords_decade.pivot(index='Index Keywords', columns='Period', values='count')\n",
    "keywords_decade"
   ]
  },
  {
   "cell_type": "code",
   "execution_count": 228,
   "metadata": {},
   "outputs": [
    {
     "data": {
      "text/html": [
       "<div>\n",
       "<style scoped>\n",
       "    .dataframe tbody tr th:only-of-type {\n",
       "        vertical-align: middle;\n",
       "    }\n",
       "\n",
       "    .dataframe tbody tr th {\n",
       "        vertical-align: top;\n",
       "    }\n",
       "\n",
       "    .dataframe thead th {\n",
       "        text-align: right;\n",
       "    }\n",
       "</style>\n",
       "<table border=\"1\" class=\"dataframe\">\n",
       "  <thead>\n",
       "    <tr style=\"text-align: right;\">\n",
       "      <th>Period</th>\n",
       "      <th>1954 - 1963</th>\n",
       "      <th>1964 - 1973</th>\n",
       "      <th>1974 - 1983</th>\n",
       "      <th>1984 - 1993</th>\n",
       "      <th>1994 - 2003</th>\n",
       "      <th>2004 - 2013</th>\n",
       "      <th>2014 - 2023</th>\n",
       "    </tr>\n",
       "    <tr>\n",
       "      <th>Index Keywords</th>\n",
       "      <th></th>\n",
       "      <th></th>\n",
       "      <th></th>\n",
       "      <th></th>\n",
       "      <th></th>\n",
       "      <th></th>\n",
       "      <th></th>\n",
       "    </tr>\n",
       "  </thead>\n",
       "  <tbody>\n",
       "    <tr>\n",
       "      <th>1 (4 dimethylamino 3 methylbenzyl) 5 diphenylacetyl 4</th>\n",
       "      <td>0.0</td>\n",
       "      <td>0.0</td>\n",
       "      <td>0.0</td>\n",
       "      <td>0.0</td>\n",
       "      <td>0.0</td>\n",
       "      <td>0.0</td>\n",
       "      <td>1.0</td>\n",
       "    </tr>\n",
       "    <tr>\n",
       "      <th>13-valent pneumococcal vaccine</th>\n",
       "      <td>0.0</td>\n",
       "      <td>0.0</td>\n",
       "      <td>0.0</td>\n",
       "      <td>0.0</td>\n",
       "      <td>0.0</td>\n",
       "      <td>0.0</td>\n",
       "      <td>1.0</td>\n",
       "    </tr>\n",
       "    <tr>\n",
       "      <th>2</th>\n",
       "      <td>0.0</td>\n",
       "      <td>0.0</td>\n",
       "      <td>0.0</td>\n",
       "      <td>0.0</td>\n",
       "      <td>0.0</td>\n",
       "      <td>1.0</td>\n",
       "      <td>0.0</td>\n",
       "    </tr>\n",
       "    <tr>\n",
       "      <th>23 gauge vitrectomy</th>\n",
       "      <td>0.0</td>\n",
       "      <td>0.0</td>\n",
       "      <td>0.0</td>\n",
       "      <td>0.0</td>\n",
       "      <td>0.0</td>\n",
       "      <td>0.0</td>\n",
       "      <td>1.0</td>\n",
       "    </tr>\n",
       "    <tr>\n",
       "      <th>23-valent pneumococcal capsular polysaccharide vaccine</th>\n",
       "      <td>0.0</td>\n",
       "      <td>0.0</td>\n",
       "      <td>0.0</td>\n",
       "      <td>0.0</td>\n",
       "      <td>0.0</td>\n",
       "      <td>0.0</td>\n",
       "      <td>1.0</td>\n",
       "    </tr>\n",
       "    <tr>\n",
       "      <th>...</th>\n",
       "      <td>...</td>\n",
       "      <td>...</td>\n",
       "      <td>...</td>\n",
       "      <td>...</td>\n",
       "      <td>...</td>\n",
       "      <td>...</td>\n",
       "      <td>...</td>\n",
       "    </tr>\n",
       "    <tr>\n",
       "      <th>vasculotropin</th>\n",
       "      <td>0.0</td>\n",
       "      <td>0.0</td>\n",
       "      <td>0.0</td>\n",
       "      <td>0.0</td>\n",
       "      <td>0.0</td>\n",
       "      <td>0.0</td>\n",
       "      <td>1.0</td>\n",
       "    </tr>\n",
       "    <tr>\n",
       "      <th>vasculotropin inhibitor</th>\n",
       "      <td>0.0</td>\n",
       "      <td>0.0</td>\n",
       "      <td>0.0</td>\n",
       "      <td>0.0</td>\n",
       "      <td>0.0</td>\n",
       "      <td>0.0</td>\n",
       "      <td>1.0</td>\n",
       "    </tr>\n",
       "    <tr>\n",
       "      <th>visual pigment</th>\n",
       "      <td>0.0</td>\n",
       "      <td>0.0</td>\n",
       "      <td>0.0</td>\n",
       "      <td>0.0</td>\n",
       "      <td>0.0</td>\n",
       "      <td>1.0</td>\n",
       "      <td>0.0</td>\n",
       "    </tr>\n",
       "    <tr>\n",
       "      <th>von hippel lindau protein</th>\n",
       "      <td>0.0</td>\n",
       "      <td>0.0</td>\n",
       "      <td>0.0</td>\n",
       "      <td>0.0</td>\n",
       "      <td>0.0</td>\n",
       "      <td>0.0</td>\n",
       "      <td>1.0</td>\n",
       "    </tr>\n",
       "    <tr>\n",
       "      <th>xenon</th>\n",
       "      <td>0.0</td>\n",
       "      <td>0.0</td>\n",
       "      <td>1.0</td>\n",
       "      <td>1.0</td>\n",
       "      <td>0.0</td>\n",
       "      <td>0.0</td>\n",
       "      <td>0.0</td>\n",
       "    </tr>\n",
       "  </tbody>\n",
       "</table>\n",
       "<p>5119 rows × 7 columns</p>\n",
       "</div>"
      ],
      "text/plain": [
       "Period                                              1954 - 1963  1964 - 1973  \\\n",
       "Index Keywords                                                                 \n",
       "   1 (4 dimethylamino 3 methylbenzyl) 5 dipheny...          0.0          0.0   \n",
       "   13-valent pneumococcal vaccine                           0.0          0.0   \n",
       "   2                                                        0.0          0.0   \n",
       "   23 gauge vitrectomy                                      0.0          0.0   \n",
       "   23-valent pneumococcal capsular polysacchari...          0.0          0.0   \n",
       "...                                                         ...          ...   \n",
       "vasculotropin                                               0.0          0.0   \n",
       "vasculotropin inhibitor                                     0.0          0.0   \n",
       "visual pigment                                              0.0          0.0   \n",
       "von hippel lindau protein                                   0.0          0.0   \n",
       "xenon                                                       0.0          0.0   \n",
       "\n",
       "Period                                              1974 - 1983  1984 - 1993  \\\n",
       "Index Keywords                                                                 \n",
       "   1 (4 dimethylamino 3 methylbenzyl) 5 dipheny...          0.0          0.0   \n",
       "   13-valent pneumococcal vaccine                           0.0          0.0   \n",
       "   2                                                        0.0          0.0   \n",
       "   23 gauge vitrectomy                                      0.0          0.0   \n",
       "   23-valent pneumococcal capsular polysacchari...          0.0          0.0   \n",
       "...                                                         ...          ...   \n",
       "vasculotropin                                               0.0          0.0   \n",
       "vasculotropin inhibitor                                     0.0          0.0   \n",
       "visual pigment                                              0.0          0.0   \n",
       "von hippel lindau protein                                   0.0          0.0   \n",
       "xenon                                                       1.0          1.0   \n",
       "\n",
       "Period                                              1994 - 2003  2004 - 2013  \\\n",
       "Index Keywords                                                                 \n",
       "   1 (4 dimethylamino 3 methylbenzyl) 5 dipheny...          0.0          0.0   \n",
       "   13-valent pneumococcal vaccine                           0.0          0.0   \n",
       "   2                                                        0.0          1.0   \n",
       "   23 gauge vitrectomy                                      0.0          0.0   \n",
       "   23-valent pneumococcal capsular polysacchari...          0.0          0.0   \n",
       "...                                                         ...          ...   \n",
       "vasculotropin                                               0.0          0.0   \n",
       "vasculotropin inhibitor                                     0.0          0.0   \n",
       "visual pigment                                              0.0          1.0   \n",
       "von hippel lindau protein                                   0.0          0.0   \n",
       "xenon                                                       0.0          0.0   \n",
       "\n",
       "Period                                              2014 - 2023  \n",
       "Index Keywords                                                   \n",
       "   1 (4 dimethylamino 3 methylbenzyl) 5 dipheny...          1.0  \n",
       "   13-valent pneumococcal vaccine                           1.0  \n",
       "   2                                                        0.0  \n",
       "   23 gauge vitrectomy                                      1.0  \n",
       "   23-valent pneumococcal capsular polysacchari...          1.0  \n",
       "...                                                         ...  \n",
       "vasculotropin                                               1.0  \n",
       "vasculotropin inhibitor                                     1.0  \n",
       "visual pigment                                              0.0  \n",
       "von hippel lindau protein                                   1.0  \n",
       "xenon                                                       0.0  \n",
       "\n",
       "[5119 rows x 7 columns]"
      ]
     },
     "execution_count": 228,
     "metadata": {},
     "output_type": "execute_result"
    }
   ],
   "source": [
    "keywords_decade.fillna(0, inplace=True)\n",
    "keywords_decade"
   ]
  },
  {
   "cell_type": "markdown",
   "metadata": {},
   "source": [
    "# choropleth data"
   ]
  },
  {
   "cell_type": "code",
   "execution_count": 290,
   "metadata": {},
   "outputs": [
    {
     "data": {
      "text/html": [
       "<div>\n",
       "<style scoped>\n",
       "    .dataframe tbody tr th:only-of-type {\n",
       "        vertical-align: middle;\n",
       "    }\n",
       "\n",
       "    .dataframe tbody tr th {\n",
       "        vertical-align: top;\n",
       "    }\n",
       "\n",
       "    .dataframe thead th {\n",
       "        text-align: right;\n",
       "    }\n",
       "</style>\n",
       "<table border=\"1\" class=\"dataframe\">\n",
       "  <thead>\n",
       "    <tr style=\"text-align: right;\">\n",
       "      <th></th>\n",
       "      <th>Year</th>\n",
       "      <th>Period</th>\n",
       "      <th>countries</th>\n",
       "      <th>Document Type</th>\n",
       "    </tr>\n",
       "  </thead>\n",
       "  <tbody>\n",
       "    <tr>\n",
       "      <th>0</th>\n",
       "      <td>2023</td>\n",
       "      <td>2014 - 2023</td>\n",
       "      <td>United States</td>\n",
       "      <td>Article</td>\n",
       "    </tr>\n",
       "    <tr>\n",
       "      <th>1</th>\n",
       "      <td>2023</td>\n",
       "      <td>2014 - 2023</td>\n",
       "      <td>France</td>\n",
       "      <td>Article</td>\n",
       "    </tr>\n",
       "    <tr>\n",
       "      <th>1</th>\n",
       "      <td>2023</td>\n",
       "      <td>2014 - 2023</td>\n",
       "      <td>Guadeloupe</td>\n",
       "      <td>Article</td>\n",
       "    </tr>\n",
       "    <tr>\n",
       "      <th>2</th>\n",
       "      <td>2023</td>\n",
       "      <td>2014 - 2023</td>\n",
       "      <td>United States</td>\n",
       "      <td>Article</td>\n",
       "    </tr>\n",
       "    <tr>\n",
       "      <th>3</th>\n",
       "      <td>2023</td>\n",
       "      <td>2014 - 2023</td>\n",
       "      <td>South Korea</td>\n",
       "      <td>Review</td>\n",
       "    </tr>\n",
       "  </tbody>\n",
       "</table>\n",
       "</div>"
      ],
      "text/plain": [
       "   Year       Period      countries Document Type\n",
       "0  2023  2014 - 2023  United States       Article\n",
       "1  2023  2014 - 2023         France       Article\n",
       "1  2023  2014 - 2023     Guadeloupe       Article\n",
       "2  2023  2014 - 2023  United States       Article\n",
       "3  2023  2014 - 2023    South Korea        Review"
      ]
     },
     "execution_count": 290,
     "metadata": {},
     "output_type": "execute_result"
    }
   ],
   "source": [
    "data = pd.read_csv('../data/processed/publication_count.csv', index_col=0)\n",
    "data.head()"
   ]
  },
  {
   "cell_type": "code",
   "execution_count": 291,
   "metadata": {},
   "outputs": [],
   "source": [
    "import pycountry"
   ]
  },
  {
   "cell_type": "code",
   "execution_count": 292,
   "metadata": {},
   "outputs": [],
   "source": [
    "def get_alpha(country):\n",
    "    try:\n",
    "        return pycountry.countries.get(name=country.strip()).alpha_3\n",
    "    except:\n",
    "        return(\"not found\")"
   ]
  },
  {
   "cell_type": "code",
   "execution_count": 293,
   "metadata": {},
   "outputs": [
    {
     "data": {
      "text/html": [
       "<div>\n",
       "<style scoped>\n",
       "    .dataframe tbody tr th:only-of-type {\n",
       "        vertical-align: middle;\n",
       "    }\n",
       "\n",
       "    .dataframe tbody tr th {\n",
       "        vertical-align: top;\n",
       "    }\n",
       "\n",
       "    .dataframe thead th {\n",
       "        text-align: right;\n",
       "    }\n",
       "</style>\n",
       "<table border=\"1\" class=\"dataframe\">\n",
       "  <thead>\n",
       "    <tr style=\"text-align: right;\">\n",
       "      <th></th>\n",
       "      <th>Year</th>\n",
       "      <th>Period</th>\n",
       "      <th>countries</th>\n",
       "      <th>Document Type</th>\n",
       "      <th>code</th>\n",
       "    </tr>\n",
       "  </thead>\n",
       "  <tbody>\n",
       "    <tr>\n",
       "      <th>0</th>\n",
       "      <td>2023</td>\n",
       "      <td>2014 - 2023</td>\n",
       "      <td>United States</td>\n",
       "      <td>Article</td>\n",
       "      <td>USA</td>\n",
       "    </tr>\n",
       "    <tr>\n",
       "      <th>1</th>\n",
       "      <td>2023</td>\n",
       "      <td>2014 - 2023</td>\n",
       "      <td>France</td>\n",
       "      <td>Article</td>\n",
       "      <td>FRA</td>\n",
       "    </tr>\n",
       "    <tr>\n",
       "      <th>1</th>\n",
       "      <td>2023</td>\n",
       "      <td>2014 - 2023</td>\n",
       "      <td>Guadeloupe</td>\n",
       "      <td>Article</td>\n",
       "      <td>GLP</td>\n",
       "    </tr>\n",
       "    <tr>\n",
       "      <th>2</th>\n",
       "      <td>2023</td>\n",
       "      <td>2014 - 2023</td>\n",
       "      <td>United States</td>\n",
       "      <td>Article</td>\n",
       "      <td>USA</td>\n",
       "    </tr>\n",
       "    <tr>\n",
       "      <th>3</th>\n",
       "      <td>2023</td>\n",
       "      <td>2014 - 2023</td>\n",
       "      <td>South Korea</td>\n",
       "      <td>Review</td>\n",
       "      <td>not found</td>\n",
       "    </tr>\n",
       "    <tr>\n",
       "      <th>...</th>\n",
       "      <td>...</td>\n",
       "      <td>...</td>\n",
       "      <td>...</td>\n",
       "      <td>...</td>\n",
       "      <td>...</td>\n",
       "    </tr>\n",
       "    <tr>\n",
       "      <th>785</th>\n",
       "      <td>1971</td>\n",
       "      <td>1964 - 1973</td>\n",
       "      <td>United States</td>\n",
       "      <td>Article</td>\n",
       "      <td>USA</td>\n",
       "    </tr>\n",
       "    <tr>\n",
       "      <th>786</th>\n",
       "      <td>1971</td>\n",
       "      <td>1964 - 1973</td>\n",
       "      <td>United States</td>\n",
       "      <td>Article</td>\n",
       "      <td>USA</td>\n",
       "    </tr>\n",
       "    <tr>\n",
       "      <th>789</th>\n",
       "      <td>1969</td>\n",
       "      <td>1964 - 1973</td>\n",
       "      <td>United States</td>\n",
       "      <td>Article</td>\n",
       "      <td>USA</td>\n",
       "    </tr>\n",
       "    <tr>\n",
       "      <th>791</th>\n",
       "      <td>1967</td>\n",
       "      <td>1964 - 1973</td>\n",
       "      <td>United States</td>\n",
       "      <td>Article</td>\n",
       "      <td>USA</td>\n",
       "    </tr>\n",
       "    <tr>\n",
       "      <th>798</th>\n",
       "      <td>1954</td>\n",
       "      <td>1954 - 1963</td>\n",
       "      <td>United States</td>\n",
       "      <td>Article</td>\n",
       "      <td>USA</td>\n",
       "    </tr>\n",
       "  </tbody>\n",
       "</table>\n",
       "<p>951 rows × 5 columns</p>\n",
       "</div>"
      ],
      "text/plain": [
       "     Year       Period      countries Document Type       code\n",
       "0    2023  2014 - 2023  United States       Article        USA\n",
       "1    2023  2014 - 2023         France       Article        FRA\n",
       "1    2023  2014 - 2023     Guadeloupe       Article        GLP\n",
       "2    2023  2014 - 2023  United States       Article        USA\n",
       "3    2023  2014 - 2023    South Korea        Review  not found\n",
       "..    ...          ...            ...           ...        ...\n",
       "785  1971  1964 - 1973  United States       Article        USA\n",
       "786  1971  1964 - 1973  United States       Article        USA\n",
       "789  1969  1964 - 1973  United States       Article        USA\n",
       "791  1967  1964 - 1973  United States       Article        USA\n",
       "798  1954  1954 - 1963  United States       Article        USA\n",
       "\n",
       "[951 rows x 5 columns]"
      ]
     },
     "execution_count": 293,
     "metadata": {},
     "output_type": "execute_result"
    }
   ],
   "source": [
    "data['code'] = data['countries'].apply(lambda row: get_alpha(row))\n",
    "data"
   ]
  },
  {
   "cell_type": "code",
   "execution_count": 303,
   "metadata": {},
   "outputs": [
    {
     "name": "stderr",
     "output_type": "stream",
     "text": [
      "C:\\Users\\Sherrif\\AppData\\Local\\Temp\\ipykernel_23052\\1766407675.py:1: SettingWithCopyWarning:\n",
      "\n",
      "\n",
      "A value is trying to be set on a copy of a slice from a DataFrame\n",
      "\n",
      "See the caveats in the documentation: https://pandas.pydata.org/pandas-docs/stable/user_guide/indexing.html#returning-a-view-versus-a-copy\n",
      "\n"
     ]
    }
   ],
   "source": [
    "data['code'][data['countries']=='\"Cote dIvoire\"'] = data['code'][data['countries']=='\"Cote dIvoire\"'].replace(['not found'],'CIV')"
   ]
  },
  {
   "cell_type": "code",
   "execution_count": 304,
   "metadata": {},
   "outputs": [
    {
     "data": {
      "text/html": [
       "<div>\n",
       "<style scoped>\n",
       "    .dataframe tbody tr th:only-of-type {\n",
       "        vertical-align: middle;\n",
       "    }\n",
       "\n",
       "    .dataframe tbody tr th {\n",
       "        vertical-align: top;\n",
       "    }\n",
       "\n",
       "    .dataframe thead th {\n",
       "        text-align: right;\n",
       "    }\n",
       "</style>\n",
       "<table border=\"1\" class=\"dataframe\">\n",
       "  <thead>\n",
       "    <tr style=\"text-align: right;\">\n",
       "      <th></th>\n",
       "      <th>Year</th>\n",
       "      <th>Period</th>\n",
       "      <th>countries</th>\n",
       "      <th>Document Type</th>\n",
       "      <th>code</th>\n",
       "    </tr>\n",
       "  </thead>\n",
       "  <tbody>\n",
       "    <tr>\n",
       "      <th>5</th>\n",
       "      <td>2023</td>\n",
       "      <td>2014 - 2023</td>\n",
       "      <td>South Korea</td>\n",
       "      <td>Article</td>\n",
       "      <td>not found</td>\n",
       "    </tr>\n",
       "  </tbody>\n",
       "</table>\n",
       "</div>"
      ],
      "text/plain": [
       "   Year       Period      countries Document Type       code\n",
       "5  2023  2014 - 2023    South Korea       Article  not found"
      ]
     },
     "execution_count": 304,
     "metadata": {},
     "output_type": "execute_result"
    }
   ],
   "source": [
    "data[data['code']=='not found']"
   ]
  },
  {
   "cell_type": "code",
   "execution_count": 266,
   "metadata": {},
   "outputs": [
    {
     "data": {
      "text/plain": [
       "'CIV'"
      ]
     },
     "execution_count": 266,
     "metadata": {},
     "output_type": "execute_result"
    }
   ],
   "source": [
    "pycountry.countries.get(name=\"Côte d'Ivoire\").alpha_3"
   ]
  },
  {
   "cell_type": "code",
   "execution_count": 300,
   "metadata": {},
   "outputs": [
    {
     "data": {
      "text/plain": [
       "[Country(alpha_2='CI', alpha_3='CIV', flag='🇨🇮', name=\"Côte d'Ivoire\", numeric='384', official_name=\"Republic of Côte d'Ivoire\"),\n",
       " Country(alpha_2='FR', alpha_3='FRA', flag='🇫🇷', name='France', numeric='250', official_name='French Republic'),\n",
       " Country(alpha_2='HN', alpha_3='HND', flag='🇭🇳', name='Honduras', numeric='340', official_name='Republic of Honduras')]"
      ]
     },
     "execution_count": 300,
     "metadata": {},
     "output_type": "execute_result"
    }
   ],
   "source": [
    "pycountry.countries.search_fuzzy('Cote')"
   ]
  },
  {
   "cell_type": "code",
   "execution_count": 305,
   "metadata": {},
   "outputs": [],
   "source": [
    "data['count']=1\n",
    "data = data.groupby(['countries']).agg({'count':'sum', 'code':'first'})\n",
    "data = data.reset_index()"
   ]
  },
  {
   "cell_type": "code",
   "execution_count": 306,
   "metadata": {},
   "outputs": [
    {
     "data": {
      "text/html": [
       "<div>\n",
       "<style scoped>\n",
       "    .dataframe tbody tr th:only-of-type {\n",
       "        vertical-align: middle;\n",
       "    }\n",
       "\n",
       "    .dataframe tbody tr th {\n",
       "        vertical-align: top;\n",
       "    }\n",
       "\n",
       "    .dataframe thead th {\n",
       "        text-align: right;\n",
       "    }\n",
       "</style>\n",
       "<table border=\"1\" class=\"dataframe\">\n",
       "  <thead>\n",
       "    <tr style=\"text-align: right;\">\n",
       "      <th></th>\n",
       "      <th>countries</th>\n",
       "      <th>count</th>\n",
       "      <th>code</th>\n",
       "    </tr>\n",
       "  </thead>\n",
       "  <tbody>\n",
       "    <tr>\n",
       "      <th>0</th>\n",
       "      <td>Canada</td>\n",
       "      <td>8</td>\n",
       "      <td>CAN</td>\n",
       "    </tr>\n",
       "    <tr>\n",
       "      <th>1</th>\n",
       "      <td>Denmark</td>\n",
       "      <td>1</td>\n",
       "      <td>DNK</td>\n",
       "    </tr>\n",
       "    <tr>\n",
       "      <th>2</th>\n",
       "      <td>France</td>\n",
       "      <td>6</td>\n",
       "      <td>FRA</td>\n",
       "    </tr>\n",
       "    <tr>\n",
       "      <th>3</th>\n",
       "      <td>Germany</td>\n",
       "      <td>2</td>\n",
       "      <td>DEU</td>\n",
       "    </tr>\n",
       "    <tr>\n",
       "      <th>4</th>\n",
       "      <td>Ghana</td>\n",
       "      <td>4</td>\n",
       "      <td>GHA</td>\n",
       "    </tr>\n",
       "    <tr>\n",
       "      <th>...</th>\n",
       "      <td>...</td>\n",
       "      <td>...</td>\n",
       "      <td>...</td>\n",
       "    </tr>\n",
       "    <tr>\n",
       "      <th>94</th>\n",
       "      <td>Turkey</td>\n",
       "      <td>8</td>\n",
       "      <td>TUR</td>\n",
       "    </tr>\n",
       "    <tr>\n",
       "      <th>95</th>\n",
       "      <td>Uganda</td>\n",
       "      <td>1</td>\n",
       "      <td>UGA</td>\n",
       "    </tr>\n",
       "    <tr>\n",
       "      <th>96</th>\n",
       "      <td>United Arab Emirates</td>\n",
       "      <td>2</td>\n",
       "      <td>ARE</td>\n",
       "    </tr>\n",
       "    <tr>\n",
       "      <th>97</th>\n",
       "      <td>United Kingdom</td>\n",
       "      <td>61</td>\n",
       "      <td>GBR</td>\n",
       "    </tr>\n",
       "    <tr>\n",
       "      <th>98</th>\n",
       "      <td>United States</td>\n",
       "      <td>327</td>\n",
       "      <td>USA</td>\n",
       "    </tr>\n",
       "  </tbody>\n",
       "</table>\n",
       "<p>99 rows × 3 columns</p>\n",
       "</div>"
      ],
      "text/plain": [
       "               countries  count code\n",
       "0                 Canada      8  CAN\n",
       "1                Denmark      1  DNK\n",
       "2                 France      6  FRA\n",
       "3                Germany      2  DEU\n",
       "4                  Ghana      4  GHA\n",
       "..                   ...    ...  ...\n",
       "94                Turkey      8  TUR\n",
       "95                Uganda      1  UGA\n",
       "96  United Arab Emirates      2  ARE\n",
       "97        United Kingdom     61  GBR\n",
       "98         United States    327  USA\n",
       "\n",
       "[99 rows x 3 columns]"
      ]
     },
     "execution_count": 306,
     "metadata": {},
     "output_type": "execute_result"
    }
   ],
   "source": [
    "data"
   ]
  },
  {
   "cell_type": "code",
   "execution_count": 307,
   "metadata": {},
   "outputs": [],
   "source": [
    "data.to_csv('../data/processed/map_data.csv')"
   ]
  },
  {
   "cell_type": "code",
   "execution_count": 325,
   "metadata": {},
   "outputs": [
    {
     "data": {
      "application/vnd.plotly.v1+json": {
       "config": {
        "plotlyServerURL": "https://plot.ly"
       },
       "data": [
        {
         "autocolorscale": false,
         "colorbar": {
          "title": {
           "text": "Number of Publications"
          }
         },
         "colorscale": [
          [
           0,
           "rgb(214, 249, 207)"
          ],
          [
           0.09090909090909091,
           "rgb(186, 228, 174)"
          ],
          [
           0.18181818181818182,
           "rgb(156, 209, 143)"
          ],
          [
           0.2727272727272727,
           "rgb(124, 191, 115)"
          ],
          [
           0.36363636363636365,
           "rgb(85, 174, 91)"
          ],
          [
           0.45454545454545453,
           "rgb(37, 157, 81)"
          ],
          [
           0.5454545454545454,
           "rgb(7, 138, 78)"
          ],
          [
           0.6363636363636364,
           "rgb(13, 117, 71)"
          ],
          [
           0.7272727272727273,
           "rgb(23, 95, 61)"
          ],
          [
           0.8181818181818182,
           "rgb(25, 75, 49)"
          ],
          [
           0.9090909090909091,
           "rgb(23, 55, 35)"
          ],
          [
           1,
           "rgb(17, 36, 20)"
          ]
         ],
         "locations": [
          "CAN",
          "DNK",
          "FRA",
          "DEU",
          "GHA",
          "GLP",
          "HKG",
          "IND",
          "ITA",
          "JAM",
          "JPN",
          "KEN",
          "KWT",
          "MWI",
          "MYS",
          "MLI",
          "MTQ",
          "MCO",
          "NLD",
          "NER",
          "NGA",
          "PAK",
          "PRT",
          "QAT",
          "SAU",
          "SEN",
          "SGP",
          "ZAF",
          "not found",
          "SWE",
          "CHE",
          "TGO",
          "TTO",
          "TUN",
          "GBR",
          "USA",
          "ZMB",
          "ZWE",
          "CIV",
          "ARG",
          "AUS",
          "BHR",
          "BEL",
          "BEN",
          "BRA",
          "BFA",
          "CMR",
          "CAN",
          "CHN",
          "CUB",
          "CUW",
          "DNK",
          "EGY",
          "FRA",
          "GUF",
          "GEO",
          "DEU",
          "GHA",
          "GRC",
          "GLP",
          "IND",
          "IRN",
          "IRL",
          "ISR",
          "ITA",
          "JAM",
          "JPN",
          "JEY",
          "JOR",
          "KEN",
          "LBN",
          "LTU",
          "MYS",
          "MLI",
          "MEX",
          "MAR",
          "NLD",
          "NZL",
          "NER",
          "NGA",
          "NOR",
          "OMN",
          "PAK",
          "POL",
          "PRT",
          "QAT",
          "RUS",
          "SAU",
          "ZAF",
          "KOR",
          "ESP",
          "CHE",
          "TGO",
          "TUN",
          "TUR",
          "UGA",
          "ARE",
          "GBR",
          "USA"
         ],
         "marker": {
          "line": {
           "color": "darkgray",
           "width": 0.5
          }
         },
         "reversescale": false,
         "text": [
          "  Canada",
          "  Denmark",
          "  France",
          "  Germany",
          "  Ghana",
          "  Guadeloupe",
          "  Hong Kong",
          "  India",
          "  Italy",
          "  Jamaica",
          "  Japan",
          "  Kenya",
          "  Kuwait",
          "  Malawi",
          "  Malaysia",
          "  Mali",
          "  Martinique",
          "  Monaco",
          "  Netherlands",
          "  Niger",
          "  Nigeria",
          "  Pakistan",
          "  Portugal",
          "  Qatar",
          "  Saudi Arabia",
          "  Senegal",
          "  Singapore",
          "  South Africa",
          "  South Korea",
          "  Sweden",
          "  Switzerland",
          "  Togo",
          "  Trinidad and Tobago",
          "  Tunisia",
          "  United Kingdom",
          "  United States",
          "  Zambia",
          "  Zimbabwe",
          "\"Cote dIvoire\"",
          "Argentina",
          "Australia",
          "Bahrain",
          "Belgium",
          "Benin",
          "Brazil",
          "Burkina Faso",
          "Cameroon",
          "Canada",
          "China",
          "Cuba",
          "Curaçao",
          "Denmark",
          "Egypt",
          "France",
          "French Guiana",
          "Georgia",
          "Germany",
          "Ghana",
          "Greece",
          "Guadeloupe",
          "India",
          "Iran",
          "Ireland",
          "Israel",
          "Italy",
          "Jamaica",
          "Japan",
          "Jersey",
          "Jordan",
          "Kenya",
          "Lebanon",
          "Lithuania",
          "Malaysia",
          "Mali",
          "Mexico",
          "Morocco",
          "Netherlands",
          "New Zealand",
          "Niger",
          "Nigeria",
          "Norway",
          "Oman",
          "Pakistan",
          "Poland",
          "Portugal",
          "Qatar",
          "Russian Federation",
          "Saudi Arabia",
          "South Africa",
          "South Korea",
          "Spain",
          "Switzerland",
          "Togo",
          "Tunisia",
          "Turkey",
          "Uganda",
          "United Arab Emirates",
          "United Kingdom",
          "United States"
         ],
         "type": "choropleth",
         "z": [
          8,
          1,
          6,
          2,
          4,
          8,
          1,
          1,
          4,
          14,
          1,
          2,
          2,
          1,
          2,
          2,
          1,
          1,
          8,
          2,
          23,
          1,
          1,
          3,
          3,
          3,
          2,
          3,
          1,
          3,
          1,
          1,
          1,
          1,
          10,
          71,
          1,
          1,
          4,
          2,
          2,
          1,
          4,
          1,
          46,
          3,
          1,
          14,
          5,
          3,
          4,
          2,
          10,
          61,
          1,
          6,
          14,
          2,
          3,
          1,
          16,
          1,
          4,
          2,
          15,
          29,
          5,
          5,
          6,
          1,
          1,
          1,
          4,
          1,
          5,
          3,
          6,
          3,
          21,
          2,
          1,
          1,
          4,
          1,
          3,
          1,
          1,
          5,
          2,
          1,
          3,
          3,
          2,
          2,
          8,
          1,
          2,
          61,
          327
         ]
        }
       ],
       "layout": {
        "annotations": [
         {
          "showarrow": false,
          "x": 0.55,
          "xref": "paper",
          "y": 0.1,
          "yref": "paper"
         }
        ],
        "geo": {
         "projection": {
          "type": "equirectangular"
         },
         "showcoastlines": false,
         "showframe": false
        },
        "template": {
         "data": {
          "bar": [
           {
            "error_x": {
             "color": "#2a3f5f"
            },
            "error_y": {
             "color": "#2a3f5f"
            },
            "marker": {
             "line": {
              "color": "#E5ECF6",
              "width": 0.5
             },
             "pattern": {
              "fillmode": "overlay",
              "size": 10,
              "solidity": 0.2
             }
            },
            "type": "bar"
           }
          ],
          "barpolar": [
           {
            "marker": {
             "line": {
              "color": "#E5ECF6",
              "width": 0.5
             },
             "pattern": {
              "fillmode": "overlay",
              "size": 10,
              "solidity": 0.2
             }
            },
            "type": "barpolar"
           }
          ],
          "carpet": [
           {
            "aaxis": {
             "endlinecolor": "#2a3f5f",
             "gridcolor": "white",
             "linecolor": "white",
             "minorgridcolor": "white",
             "startlinecolor": "#2a3f5f"
            },
            "baxis": {
             "endlinecolor": "#2a3f5f",
             "gridcolor": "white",
             "linecolor": "white",
             "minorgridcolor": "white",
             "startlinecolor": "#2a3f5f"
            },
            "type": "carpet"
           }
          ],
          "choropleth": [
           {
            "colorbar": {
             "outlinewidth": 0,
             "ticks": ""
            },
            "type": "choropleth"
           }
          ],
          "contour": [
           {
            "colorbar": {
             "outlinewidth": 0,
             "ticks": ""
            },
            "colorscale": [
             [
              0,
              "#0d0887"
             ],
             [
              0.1111111111111111,
              "#46039f"
             ],
             [
              0.2222222222222222,
              "#7201a8"
             ],
             [
              0.3333333333333333,
              "#9c179e"
             ],
             [
              0.4444444444444444,
              "#bd3786"
             ],
             [
              0.5555555555555556,
              "#d8576b"
             ],
             [
              0.6666666666666666,
              "#ed7953"
             ],
             [
              0.7777777777777778,
              "#fb9f3a"
             ],
             [
              0.8888888888888888,
              "#fdca26"
             ],
             [
              1,
              "#f0f921"
             ]
            ],
            "type": "contour"
           }
          ],
          "contourcarpet": [
           {
            "colorbar": {
             "outlinewidth": 0,
             "ticks": ""
            },
            "type": "contourcarpet"
           }
          ],
          "heatmap": [
           {
            "colorbar": {
             "outlinewidth": 0,
             "ticks": ""
            },
            "colorscale": [
             [
              0,
              "#0d0887"
             ],
             [
              0.1111111111111111,
              "#46039f"
             ],
             [
              0.2222222222222222,
              "#7201a8"
             ],
             [
              0.3333333333333333,
              "#9c179e"
             ],
             [
              0.4444444444444444,
              "#bd3786"
             ],
             [
              0.5555555555555556,
              "#d8576b"
             ],
             [
              0.6666666666666666,
              "#ed7953"
             ],
             [
              0.7777777777777778,
              "#fb9f3a"
             ],
             [
              0.8888888888888888,
              "#fdca26"
             ],
             [
              1,
              "#f0f921"
             ]
            ],
            "type": "heatmap"
           }
          ],
          "heatmapgl": [
           {
            "colorbar": {
             "outlinewidth": 0,
             "ticks": ""
            },
            "colorscale": [
             [
              0,
              "#0d0887"
             ],
             [
              0.1111111111111111,
              "#46039f"
             ],
             [
              0.2222222222222222,
              "#7201a8"
             ],
             [
              0.3333333333333333,
              "#9c179e"
             ],
             [
              0.4444444444444444,
              "#bd3786"
             ],
             [
              0.5555555555555556,
              "#d8576b"
             ],
             [
              0.6666666666666666,
              "#ed7953"
             ],
             [
              0.7777777777777778,
              "#fb9f3a"
             ],
             [
              0.8888888888888888,
              "#fdca26"
             ],
             [
              1,
              "#f0f921"
             ]
            ],
            "type": "heatmapgl"
           }
          ],
          "histogram": [
           {
            "marker": {
             "pattern": {
              "fillmode": "overlay",
              "size": 10,
              "solidity": 0.2
             }
            },
            "type": "histogram"
           }
          ],
          "histogram2d": [
           {
            "colorbar": {
             "outlinewidth": 0,
             "ticks": ""
            },
            "colorscale": [
             [
              0,
              "#0d0887"
             ],
             [
              0.1111111111111111,
              "#46039f"
             ],
             [
              0.2222222222222222,
              "#7201a8"
             ],
             [
              0.3333333333333333,
              "#9c179e"
             ],
             [
              0.4444444444444444,
              "#bd3786"
             ],
             [
              0.5555555555555556,
              "#d8576b"
             ],
             [
              0.6666666666666666,
              "#ed7953"
             ],
             [
              0.7777777777777778,
              "#fb9f3a"
             ],
             [
              0.8888888888888888,
              "#fdca26"
             ],
             [
              1,
              "#f0f921"
             ]
            ],
            "type": "histogram2d"
           }
          ],
          "histogram2dcontour": [
           {
            "colorbar": {
             "outlinewidth": 0,
             "ticks": ""
            },
            "colorscale": [
             [
              0,
              "#0d0887"
             ],
             [
              0.1111111111111111,
              "#46039f"
             ],
             [
              0.2222222222222222,
              "#7201a8"
             ],
             [
              0.3333333333333333,
              "#9c179e"
             ],
             [
              0.4444444444444444,
              "#bd3786"
             ],
             [
              0.5555555555555556,
              "#d8576b"
             ],
             [
              0.6666666666666666,
              "#ed7953"
             ],
             [
              0.7777777777777778,
              "#fb9f3a"
             ],
             [
              0.8888888888888888,
              "#fdca26"
             ],
             [
              1,
              "#f0f921"
             ]
            ],
            "type": "histogram2dcontour"
           }
          ],
          "mesh3d": [
           {
            "colorbar": {
             "outlinewidth": 0,
             "ticks": ""
            },
            "type": "mesh3d"
           }
          ],
          "parcoords": [
           {
            "line": {
             "colorbar": {
              "outlinewidth": 0,
              "ticks": ""
             }
            },
            "type": "parcoords"
           }
          ],
          "pie": [
           {
            "automargin": true,
            "type": "pie"
           }
          ],
          "scatter": [
           {
            "fillpattern": {
             "fillmode": "overlay",
             "size": 10,
             "solidity": 0.2
            },
            "type": "scatter"
           }
          ],
          "scatter3d": [
           {
            "line": {
             "colorbar": {
              "outlinewidth": 0,
              "ticks": ""
             }
            },
            "marker": {
             "colorbar": {
              "outlinewidth": 0,
              "ticks": ""
             }
            },
            "type": "scatter3d"
           }
          ],
          "scattercarpet": [
           {
            "marker": {
             "colorbar": {
              "outlinewidth": 0,
              "ticks": ""
             }
            },
            "type": "scattercarpet"
           }
          ],
          "scattergeo": [
           {
            "marker": {
             "colorbar": {
              "outlinewidth": 0,
              "ticks": ""
             }
            },
            "type": "scattergeo"
           }
          ],
          "scattergl": [
           {
            "marker": {
             "colorbar": {
              "outlinewidth": 0,
              "ticks": ""
             }
            },
            "type": "scattergl"
           }
          ],
          "scattermapbox": [
           {
            "marker": {
             "colorbar": {
              "outlinewidth": 0,
              "ticks": ""
             }
            },
            "type": "scattermapbox"
           }
          ],
          "scatterpolar": [
           {
            "marker": {
             "colorbar": {
              "outlinewidth": 0,
              "ticks": ""
             }
            },
            "type": "scatterpolar"
           }
          ],
          "scatterpolargl": [
           {
            "marker": {
             "colorbar": {
              "outlinewidth": 0,
              "ticks": ""
             }
            },
            "type": "scatterpolargl"
           }
          ],
          "scatterternary": [
           {
            "marker": {
             "colorbar": {
              "outlinewidth": 0,
              "ticks": ""
             }
            },
            "type": "scatterternary"
           }
          ],
          "surface": [
           {
            "colorbar": {
             "outlinewidth": 0,
             "ticks": ""
            },
            "colorscale": [
             [
              0,
              "#0d0887"
             ],
             [
              0.1111111111111111,
              "#46039f"
             ],
             [
              0.2222222222222222,
              "#7201a8"
             ],
             [
              0.3333333333333333,
              "#9c179e"
             ],
             [
              0.4444444444444444,
              "#bd3786"
             ],
             [
              0.5555555555555556,
              "#d8576b"
             ],
             [
              0.6666666666666666,
              "#ed7953"
             ],
             [
              0.7777777777777778,
              "#fb9f3a"
             ],
             [
              0.8888888888888888,
              "#fdca26"
             ],
             [
              1,
              "#f0f921"
             ]
            ],
            "type": "surface"
           }
          ],
          "table": [
           {
            "cells": {
             "fill": {
              "color": "#EBF0F8"
             },
             "line": {
              "color": "white"
             }
            },
            "header": {
             "fill": {
              "color": "#C8D4E3"
             },
             "line": {
              "color": "white"
             }
            },
            "type": "table"
           }
          ]
         },
         "layout": {
          "annotationdefaults": {
           "arrowcolor": "#2a3f5f",
           "arrowhead": 0,
           "arrowwidth": 1
          },
          "autotypenumbers": "strict",
          "coloraxis": {
           "colorbar": {
            "outlinewidth": 0,
            "ticks": ""
           }
          },
          "colorscale": {
           "diverging": [
            [
             0,
             "#8e0152"
            ],
            [
             0.1,
             "#c51b7d"
            ],
            [
             0.2,
             "#de77ae"
            ],
            [
             0.3,
             "#f1b6da"
            ],
            [
             0.4,
             "#fde0ef"
            ],
            [
             0.5,
             "#f7f7f7"
            ],
            [
             0.6,
             "#e6f5d0"
            ],
            [
             0.7,
             "#b8e186"
            ],
            [
             0.8,
             "#7fbc41"
            ],
            [
             0.9,
             "#4d9221"
            ],
            [
             1,
             "#276419"
            ]
           ],
           "sequential": [
            [
             0,
             "#0d0887"
            ],
            [
             0.1111111111111111,
             "#46039f"
            ],
            [
             0.2222222222222222,
             "#7201a8"
            ],
            [
             0.3333333333333333,
             "#9c179e"
            ],
            [
             0.4444444444444444,
             "#bd3786"
            ],
            [
             0.5555555555555556,
             "#d8576b"
            ],
            [
             0.6666666666666666,
             "#ed7953"
            ],
            [
             0.7777777777777778,
             "#fb9f3a"
            ],
            [
             0.8888888888888888,
             "#fdca26"
            ],
            [
             1,
             "#f0f921"
            ]
           ],
           "sequentialminus": [
            [
             0,
             "#0d0887"
            ],
            [
             0.1111111111111111,
             "#46039f"
            ],
            [
             0.2222222222222222,
             "#7201a8"
            ],
            [
             0.3333333333333333,
             "#9c179e"
            ],
            [
             0.4444444444444444,
             "#bd3786"
            ],
            [
             0.5555555555555556,
             "#d8576b"
            ],
            [
             0.6666666666666666,
             "#ed7953"
            ],
            [
             0.7777777777777778,
             "#fb9f3a"
            ],
            [
             0.8888888888888888,
             "#fdca26"
            ],
            [
             1,
             "#f0f921"
            ]
           ]
          },
          "colorway": [
           "#636efa",
           "#EF553B",
           "#00cc96",
           "#ab63fa",
           "#FFA15A",
           "#19d3f3",
           "#FF6692",
           "#B6E880",
           "#FF97FF",
           "#FECB52"
          ],
          "font": {
           "color": "#2a3f5f"
          },
          "geo": {
           "bgcolor": "white",
           "lakecolor": "white",
           "landcolor": "#E5ECF6",
           "showlakes": true,
           "showland": true,
           "subunitcolor": "white"
          },
          "hoverlabel": {
           "align": "left"
          },
          "hovermode": "closest",
          "mapbox": {
           "style": "light"
          },
          "paper_bgcolor": "white",
          "plot_bgcolor": "#E5ECF6",
          "polar": {
           "angularaxis": {
            "gridcolor": "white",
            "linecolor": "white",
            "ticks": ""
           },
           "bgcolor": "#E5ECF6",
           "radialaxis": {
            "gridcolor": "white",
            "linecolor": "white",
            "ticks": ""
           }
          },
          "scene": {
           "xaxis": {
            "backgroundcolor": "#E5ECF6",
            "gridcolor": "white",
            "gridwidth": 2,
            "linecolor": "white",
            "showbackground": true,
            "ticks": "",
            "zerolinecolor": "white"
           },
           "yaxis": {
            "backgroundcolor": "#E5ECF6",
            "gridcolor": "white",
            "gridwidth": 2,
            "linecolor": "white",
            "showbackground": true,
            "ticks": "",
            "zerolinecolor": "white"
           },
           "zaxis": {
            "backgroundcolor": "#E5ECF6",
            "gridcolor": "white",
            "gridwidth": 2,
            "linecolor": "white",
            "showbackground": true,
            "ticks": "",
            "zerolinecolor": "white"
           }
          },
          "shapedefaults": {
           "line": {
            "color": "#2a3f5f"
           }
          },
          "ternary": {
           "aaxis": {
            "gridcolor": "white",
            "linecolor": "white",
            "ticks": ""
           },
           "baxis": {
            "gridcolor": "white",
            "linecolor": "white",
            "ticks": ""
           },
           "bgcolor": "#E5ECF6",
           "caxis": {
            "gridcolor": "white",
            "linecolor": "white",
            "ticks": ""
           }
          },
          "title": {
           "x": 0.05
          },
          "xaxis": {
           "automargin": true,
           "gridcolor": "white",
           "linecolor": "white",
           "ticks": "",
           "title": {
            "standoff": 15
           },
           "zerolinecolor": "white",
           "zerolinewidth": 2
          },
          "yaxis": {
           "automargin": true,
           "gridcolor": "white",
           "linecolor": "white",
           "ticks": "",
           "title": {
            "standoff": 15
           },
           "zerolinecolor": "white",
           "zerolinewidth": 2
          }
         }
        },
        "title": {
         "text": "Number of Sickle cell retinopathy publications"
        }
       }
      }
     },
     "metadata": {},
     "output_type": "display_data"
    }
   ],
   "source": [
    "fig = go.Figure(data=go.Choropleth(\n",
    "    locations = data['code'],\n",
    "    z = data['count'],\n",
    "    text = data['countries'],\n",
    "    colorscale = 'algae',\n",
    "    autocolorscale=False,\n",
    "    reversescale=False,\n",
    "    marker_line_color='darkgray',\n",
    "    marker_line_width=0.5,\n",
    "    # colorbar_tickprefix = '$',\n",
    "    colorbar_title = 'Number of Publications',\n",
    "))\n",
    "\n",
    "fig.update_layout(\n",
    "    title_text='Number of Sickle cell retinopathy publications',\n",
    "    geo=dict(\n",
    "        showframe=False,\n",
    "        showcoastlines=False,\n",
    "        projection_type='equirectangular'\n",
    "    ),\n",
    "    annotations = [dict(\n",
    "        x=0.55,\n",
    "        y=0.1,\n",
    "        xref='paper',\n",
    "        yref='paper',\n",
    "        # text='Source: <a href=\"https://www.cia.gov/library/publications/the-world-factbook/fields/2195.html\">\\\n",
    "        #     CIA World Factbook</a>',\n",
    "        showarrow = False\n",
    "    )]\n",
    ")\n",
    "\n",
    "fig.show()\n",
    "\n",
    "#  ['aggrnyl', 'agsunset', 'algae', 'amp', 'armyrose', 'balance',\n",
    "#              'blackbody', 'bluered', 'blues', 'blugrn', 'bluyl', 'brbg',\n",
    "#              'brwnyl', 'bugn', 'bupu', 'burg', 'burgyl', 'cividis', 'curl',\n",
    "#              'darkmint', 'deep', 'delta', 'dense', 'earth', 'edge', 'electric',\n",
    "#              'emrld', 'fall', 'geyser', 'gnbu', 'gray', 'greens', 'greys',\n",
    "#              'haline', 'hot', 'hsv', 'ice', 'icefire', 'inferno', 'jet',\n",
    "#              'magenta', 'magma', 'matter', 'mint', 'mrybm', 'mygbm', 'oranges',\n",
    "#              'orrd', 'oryel', 'oxy', 'peach', 'phase', 'picnic', 'pinkyl',\n",
    "#              'piyg', 'plasma', 'plotly3', 'portland', 'prgn', 'pubu', 'pubugn',\n",
    "#              'puor', 'purd', 'purp', 'purples', 'purpor', 'rainbow', 'rdbu',\n",
    "#              'rdgy', 'rdpu', 'rdylbu', 'rdylgn', 'redor', 'reds', 'solar',\n",
    "#              'spectral', 'speed', 'sunset', 'sunsetdark', 'teal', 'tealgrn',\n",
    "#              'tealrose', 'tempo', 'temps', 'thermal', 'tropic', 'turbid',\n",
    "#              'turbo', 'twilight', 'viridis', 'ylgn', 'ylgnbu', 'ylorbr',\n",
    "#              'ylorrd']."
   ]
  },
  {
   "cell_type": "code",
   "execution_count": 322,
   "metadata": {},
   "outputs": [
    {
     "data": {
      "application/vnd.plotly.v1+json": {
       "config": {
        "plotlyServerURL": "https://plot.ly"
       },
       "data": [
        {
         "autocolorscale": true,
         "colorbar": {
          "title": {
           "text": "Number of Publications"
          }
         },
         "colorscale": [
          [
           0,
           "rgb(196, 230, 195)"
          ],
          [
           0.16666666666666666,
           "rgb(150, 210, 164)"
          ],
          [
           0.3333333333333333,
           "rgb(109, 188, 144)"
          ],
          [
           0.5,
           "rgb(77, 162, 132)"
          ],
          [
           0.6666666666666666,
           "rgb(54, 135, 122)"
          ],
          [
           0.8333333333333334,
           "rgb(38, 107, 110)"
          ],
          [
           1,
           "rgb(29, 79, 96)"
          ]
         ],
         "locations": [
          "CAN",
          "DNK",
          "FRA",
          "DEU",
          "GHA",
          "GLP",
          "HKG",
          "IND",
          "ITA",
          "JAM",
          "JPN",
          "KEN",
          "KWT",
          "MWI",
          "MYS",
          "MLI",
          "MTQ",
          "MCO",
          "NLD",
          "NER",
          "NGA",
          "PAK",
          "PRT",
          "QAT",
          "SAU",
          "SEN",
          "SGP",
          "ZAF",
          "not found",
          "SWE",
          "CHE",
          "TGO",
          "TTO",
          "TUN",
          "GBR",
          "USA",
          "ZMB",
          "ZWE",
          "CIV",
          "ARG",
          "AUS",
          "BHR",
          "BEL",
          "BEN",
          "BRA",
          "BFA",
          "CMR",
          "CAN",
          "CHN",
          "CUB",
          "CUW",
          "DNK",
          "EGY",
          "FRA",
          "GUF",
          "GEO",
          "DEU",
          "GHA",
          "GRC",
          "GLP",
          "IND",
          "IRN",
          "IRL",
          "ISR",
          "ITA",
          "JAM",
          "JPN",
          "JEY",
          "JOR",
          "KEN",
          "LBN",
          "LTU",
          "MYS",
          "MLI",
          "MEX",
          "MAR",
          "NLD",
          "NZL",
          "NER",
          "NGA",
          "NOR",
          "OMN",
          "PAK",
          "POL",
          "PRT",
          "QAT",
          "RUS",
          "SAU",
          "ZAF",
          "KOR",
          "ESP",
          "CHE",
          "TGO",
          "TUN",
          "TUR",
          "UGA",
          "ARE",
          "GBR",
          "USA"
         ],
         "marker": {
          "line": {
           "color": "darkgray",
           "width": 0.5
          }
         },
         "reversescale": false,
         "text": [
          "  Canada",
          "  Denmark",
          "  France",
          "  Germany",
          "  Ghana",
          "  Guadeloupe",
          "  Hong Kong",
          "  India",
          "  Italy",
          "  Jamaica",
          "  Japan",
          "  Kenya",
          "  Kuwait",
          "  Malawi",
          "  Malaysia",
          "  Mali",
          "  Martinique",
          "  Monaco",
          "  Netherlands",
          "  Niger",
          "  Nigeria",
          "  Pakistan",
          "  Portugal",
          "  Qatar",
          "  Saudi Arabia",
          "  Senegal",
          "  Singapore",
          "  South Africa",
          "  South Korea",
          "  Sweden",
          "  Switzerland",
          "  Togo",
          "  Trinidad and Tobago",
          "  Tunisia",
          "  United Kingdom",
          "  United States",
          "  Zambia",
          "  Zimbabwe",
          "\"Cote dIvoire\"",
          "Argentina",
          "Australia",
          "Bahrain",
          "Belgium",
          "Benin",
          "Brazil",
          "Burkina Faso",
          "Cameroon",
          "Canada",
          "China",
          "Cuba",
          "Curaçao",
          "Denmark",
          "Egypt",
          "France",
          "French Guiana",
          "Georgia",
          "Germany",
          "Ghana",
          "Greece",
          "Guadeloupe",
          "India",
          "Iran",
          "Ireland",
          "Israel",
          "Italy",
          "Jamaica",
          "Japan",
          "Jersey",
          "Jordan",
          "Kenya",
          "Lebanon",
          "Lithuania",
          "Malaysia",
          "Mali",
          "Mexico",
          "Morocco",
          "Netherlands",
          "New Zealand",
          "Niger",
          "Nigeria",
          "Norway",
          "Oman",
          "Pakistan",
          "Poland",
          "Portugal",
          "Qatar",
          "Russian Federation",
          "Saudi Arabia",
          "South Africa",
          "South Korea",
          "Spain",
          "Switzerland",
          "Togo",
          "Tunisia",
          "Turkey",
          "Uganda",
          "United Arab Emirates",
          "United Kingdom",
          "United States"
         ],
         "type": "choropleth",
         "z": [
          8,
          1,
          6,
          2,
          4,
          8,
          1,
          1,
          4,
          14,
          1,
          2,
          2,
          1,
          2,
          2,
          1,
          1,
          8,
          2,
          23,
          1,
          1,
          3,
          3,
          3,
          2,
          3,
          1,
          3,
          1,
          1,
          1,
          1,
          10,
          71,
          1,
          1,
          4,
          2,
          2,
          1,
          4,
          1,
          46,
          3,
          1,
          14,
          5,
          3,
          4,
          2,
          10,
          61,
          1,
          6,
          14,
          2,
          3,
          1,
          16,
          1,
          4,
          2,
          15,
          29,
          5,
          5,
          6,
          1,
          1,
          1,
          4,
          1,
          5,
          3,
          6,
          3,
          21,
          2,
          1,
          1,
          4,
          1,
          3,
          1,
          1,
          5,
          2,
          1,
          3,
          3,
          2,
          2,
          8,
          1,
          2,
          61,
          327
         ]
        }
       ],
       "layout": {
        "annotations": [
         {
          "showarrow": false,
          "x": 0.55,
          "xref": "paper",
          "y": 0.1,
          "yref": "paper"
         }
        ],
        "geo": {
         "projection": {
          "type": "equirectangular"
         },
         "showcoastlines": false,
         "showframe": false
        },
        "template": {
         "data": {
          "bar": [
           {
            "error_x": {
             "color": "#2a3f5f"
            },
            "error_y": {
             "color": "#2a3f5f"
            },
            "marker": {
             "line": {
              "color": "#E5ECF6",
              "width": 0.5
             },
             "pattern": {
              "fillmode": "overlay",
              "size": 10,
              "solidity": 0.2
             }
            },
            "type": "bar"
           }
          ],
          "barpolar": [
           {
            "marker": {
             "line": {
              "color": "#E5ECF6",
              "width": 0.5
             },
             "pattern": {
              "fillmode": "overlay",
              "size": 10,
              "solidity": 0.2
             }
            },
            "type": "barpolar"
           }
          ],
          "carpet": [
           {
            "aaxis": {
             "endlinecolor": "#2a3f5f",
             "gridcolor": "white",
             "linecolor": "white",
             "minorgridcolor": "white",
             "startlinecolor": "#2a3f5f"
            },
            "baxis": {
             "endlinecolor": "#2a3f5f",
             "gridcolor": "white",
             "linecolor": "white",
             "minorgridcolor": "white",
             "startlinecolor": "#2a3f5f"
            },
            "type": "carpet"
           }
          ],
          "choropleth": [
           {
            "colorbar": {
             "outlinewidth": 0,
             "ticks": ""
            },
            "type": "choropleth"
           }
          ],
          "contour": [
           {
            "colorbar": {
             "outlinewidth": 0,
             "ticks": ""
            },
            "colorscale": [
             [
              0,
              "#0d0887"
             ],
             [
              0.1111111111111111,
              "#46039f"
             ],
             [
              0.2222222222222222,
              "#7201a8"
             ],
             [
              0.3333333333333333,
              "#9c179e"
             ],
             [
              0.4444444444444444,
              "#bd3786"
             ],
             [
              0.5555555555555556,
              "#d8576b"
             ],
             [
              0.6666666666666666,
              "#ed7953"
             ],
             [
              0.7777777777777778,
              "#fb9f3a"
             ],
             [
              0.8888888888888888,
              "#fdca26"
             ],
             [
              1,
              "#f0f921"
             ]
            ],
            "type": "contour"
           }
          ],
          "contourcarpet": [
           {
            "colorbar": {
             "outlinewidth": 0,
             "ticks": ""
            },
            "type": "contourcarpet"
           }
          ],
          "heatmap": [
           {
            "colorbar": {
             "outlinewidth": 0,
             "ticks": ""
            },
            "colorscale": [
             [
              0,
              "#0d0887"
             ],
             [
              0.1111111111111111,
              "#46039f"
             ],
             [
              0.2222222222222222,
              "#7201a8"
             ],
             [
              0.3333333333333333,
              "#9c179e"
             ],
             [
              0.4444444444444444,
              "#bd3786"
             ],
             [
              0.5555555555555556,
              "#d8576b"
             ],
             [
              0.6666666666666666,
              "#ed7953"
             ],
             [
              0.7777777777777778,
              "#fb9f3a"
             ],
             [
              0.8888888888888888,
              "#fdca26"
             ],
             [
              1,
              "#f0f921"
             ]
            ],
            "type": "heatmap"
           }
          ],
          "heatmapgl": [
           {
            "colorbar": {
             "outlinewidth": 0,
             "ticks": ""
            },
            "colorscale": [
             [
              0,
              "#0d0887"
             ],
             [
              0.1111111111111111,
              "#46039f"
             ],
             [
              0.2222222222222222,
              "#7201a8"
             ],
             [
              0.3333333333333333,
              "#9c179e"
             ],
             [
              0.4444444444444444,
              "#bd3786"
             ],
             [
              0.5555555555555556,
              "#d8576b"
             ],
             [
              0.6666666666666666,
              "#ed7953"
             ],
             [
              0.7777777777777778,
              "#fb9f3a"
             ],
             [
              0.8888888888888888,
              "#fdca26"
             ],
             [
              1,
              "#f0f921"
             ]
            ],
            "type": "heatmapgl"
           }
          ],
          "histogram": [
           {
            "marker": {
             "pattern": {
              "fillmode": "overlay",
              "size": 10,
              "solidity": 0.2
             }
            },
            "type": "histogram"
           }
          ],
          "histogram2d": [
           {
            "colorbar": {
             "outlinewidth": 0,
             "ticks": ""
            },
            "colorscale": [
             [
              0,
              "#0d0887"
             ],
             [
              0.1111111111111111,
              "#46039f"
             ],
             [
              0.2222222222222222,
              "#7201a8"
             ],
             [
              0.3333333333333333,
              "#9c179e"
             ],
             [
              0.4444444444444444,
              "#bd3786"
             ],
             [
              0.5555555555555556,
              "#d8576b"
             ],
             [
              0.6666666666666666,
              "#ed7953"
             ],
             [
              0.7777777777777778,
              "#fb9f3a"
             ],
             [
              0.8888888888888888,
              "#fdca26"
             ],
             [
              1,
              "#f0f921"
             ]
            ],
            "type": "histogram2d"
           }
          ],
          "histogram2dcontour": [
           {
            "colorbar": {
             "outlinewidth": 0,
             "ticks": ""
            },
            "colorscale": [
             [
              0,
              "#0d0887"
             ],
             [
              0.1111111111111111,
              "#46039f"
             ],
             [
              0.2222222222222222,
              "#7201a8"
             ],
             [
              0.3333333333333333,
              "#9c179e"
             ],
             [
              0.4444444444444444,
              "#bd3786"
             ],
             [
              0.5555555555555556,
              "#d8576b"
             ],
             [
              0.6666666666666666,
              "#ed7953"
             ],
             [
              0.7777777777777778,
              "#fb9f3a"
             ],
             [
              0.8888888888888888,
              "#fdca26"
             ],
             [
              1,
              "#f0f921"
             ]
            ],
            "type": "histogram2dcontour"
           }
          ],
          "mesh3d": [
           {
            "colorbar": {
             "outlinewidth": 0,
             "ticks": ""
            },
            "type": "mesh3d"
           }
          ],
          "parcoords": [
           {
            "line": {
             "colorbar": {
              "outlinewidth": 0,
              "ticks": ""
             }
            },
            "type": "parcoords"
           }
          ],
          "pie": [
           {
            "automargin": true,
            "type": "pie"
           }
          ],
          "scatter": [
           {
            "fillpattern": {
             "fillmode": "overlay",
             "size": 10,
             "solidity": 0.2
            },
            "type": "scatter"
           }
          ],
          "scatter3d": [
           {
            "line": {
             "colorbar": {
              "outlinewidth": 0,
              "ticks": ""
             }
            },
            "marker": {
             "colorbar": {
              "outlinewidth": 0,
              "ticks": ""
             }
            },
            "type": "scatter3d"
           }
          ],
          "scattercarpet": [
           {
            "marker": {
             "colorbar": {
              "outlinewidth": 0,
              "ticks": ""
             }
            },
            "type": "scattercarpet"
           }
          ],
          "scattergeo": [
           {
            "marker": {
             "colorbar": {
              "outlinewidth": 0,
              "ticks": ""
             }
            },
            "type": "scattergeo"
           }
          ],
          "scattergl": [
           {
            "marker": {
             "colorbar": {
              "outlinewidth": 0,
              "ticks": ""
             }
            },
            "type": "scattergl"
           }
          ],
          "scattermapbox": [
           {
            "marker": {
             "colorbar": {
              "outlinewidth": 0,
              "ticks": ""
             }
            },
            "type": "scattermapbox"
           }
          ],
          "scatterpolar": [
           {
            "marker": {
             "colorbar": {
              "outlinewidth": 0,
              "ticks": ""
             }
            },
            "type": "scatterpolar"
           }
          ],
          "scatterpolargl": [
           {
            "marker": {
             "colorbar": {
              "outlinewidth": 0,
              "ticks": ""
             }
            },
            "type": "scatterpolargl"
           }
          ],
          "scatterternary": [
           {
            "marker": {
             "colorbar": {
              "outlinewidth": 0,
              "ticks": ""
             }
            },
            "type": "scatterternary"
           }
          ],
          "surface": [
           {
            "colorbar": {
             "outlinewidth": 0,
             "ticks": ""
            },
            "colorscale": [
             [
              0,
              "#0d0887"
             ],
             [
              0.1111111111111111,
              "#46039f"
             ],
             [
              0.2222222222222222,
              "#7201a8"
             ],
             [
              0.3333333333333333,
              "#9c179e"
             ],
             [
              0.4444444444444444,
              "#bd3786"
             ],
             [
              0.5555555555555556,
              "#d8576b"
             ],
             [
              0.6666666666666666,
              "#ed7953"
             ],
             [
              0.7777777777777778,
              "#fb9f3a"
             ],
             [
              0.8888888888888888,
              "#fdca26"
             ],
             [
              1,
              "#f0f921"
             ]
            ],
            "type": "surface"
           }
          ],
          "table": [
           {
            "cells": {
             "fill": {
              "color": "#EBF0F8"
             },
             "line": {
              "color": "white"
             }
            },
            "header": {
             "fill": {
              "color": "#C8D4E3"
             },
             "line": {
              "color": "white"
             }
            },
            "type": "table"
           }
          ]
         },
         "layout": {
          "annotationdefaults": {
           "arrowcolor": "#2a3f5f",
           "arrowhead": 0,
           "arrowwidth": 1
          },
          "autotypenumbers": "strict",
          "coloraxis": {
           "colorbar": {
            "outlinewidth": 0,
            "ticks": ""
           }
          },
          "colorscale": {
           "diverging": [
            [
             0,
             "#8e0152"
            ],
            [
             0.1,
             "#c51b7d"
            ],
            [
             0.2,
             "#de77ae"
            ],
            [
             0.3,
             "#f1b6da"
            ],
            [
             0.4,
             "#fde0ef"
            ],
            [
             0.5,
             "#f7f7f7"
            ],
            [
             0.6,
             "#e6f5d0"
            ],
            [
             0.7,
             "#b8e186"
            ],
            [
             0.8,
             "#7fbc41"
            ],
            [
             0.9,
             "#4d9221"
            ],
            [
             1,
             "#276419"
            ]
           ],
           "sequential": [
            [
             0,
             "#0d0887"
            ],
            [
             0.1111111111111111,
             "#46039f"
            ],
            [
             0.2222222222222222,
             "#7201a8"
            ],
            [
             0.3333333333333333,
             "#9c179e"
            ],
            [
             0.4444444444444444,
             "#bd3786"
            ],
            [
             0.5555555555555556,
             "#d8576b"
            ],
            [
             0.6666666666666666,
             "#ed7953"
            ],
            [
             0.7777777777777778,
             "#fb9f3a"
            ],
            [
             0.8888888888888888,
             "#fdca26"
            ],
            [
             1,
             "#f0f921"
            ]
           ],
           "sequentialminus": [
            [
             0,
             "#0d0887"
            ],
            [
             0.1111111111111111,
             "#46039f"
            ],
            [
             0.2222222222222222,
             "#7201a8"
            ],
            [
             0.3333333333333333,
             "#9c179e"
            ],
            [
             0.4444444444444444,
             "#bd3786"
            ],
            [
             0.5555555555555556,
             "#d8576b"
            ],
            [
             0.6666666666666666,
             "#ed7953"
            ],
            [
             0.7777777777777778,
             "#fb9f3a"
            ],
            [
             0.8888888888888888,
             "#fdca26"
            ],
            [
             1,
             "#f0f921"
            ]
           ]
          },
          "colorway": [
           "#636efa",
           "#EF553B",
           "#00cc96",
           "#ab63fa",
           "#FFA15A",
           "#19d3f3",
           "#FF6692",
           "#B6E880",
           "#FF97FF",
           "#FECB52"
          ],
          "font": {
           "color": "#2a3f5f"
          },
          "geo": {
           "bgcolor": "white",
           "lakecolor": "white",
           "landcolor": "#E5ECF6",
           "showlakes": true,
           "showland": true,
           "subunitcolor": "white"
          },
          "hoverlabel": {
           "align": "left"
          },
          "hovermode": "closest",
          "mapbox": {
           "style": "light"
          },
          "paper_bgcolor": "white",
          "plot_bgcolor": "#E5ECF6",
          "polar": {
           "angularaxis": {
            "gridcolor": "white",
            "linecolor": "white",
            "ticks": ""
           },
           "bgcolor": "#E5ECF6",
           "radialaxis": {
            "gridcolor": "white",
            "linecolor": "white",
            "ticks": ""
           }
          },
          "scene": {
           "xaxis": {
            "backgroundcolor": "#E5ECF6",
            "gridcolor": "white",
            "gridwidth": 2,
            "linecolor": "white",
            "showbackground": true,
            "ticks": "",
            "zerolinecolor": "white"
           },
           "yaxis": {
            "backgroundcolor": "#E5ECF6",
            "gridcolor": "white",
            "gridwidth": 2,
            "linecolor": "white",
            "showbackground": true,
            "ticks": "",
            "zerolinecolor": "white"
           },
           "zaxis": {
            "backgroundcolor": "#E5ECF6",
            "gridcolor": "white",
            "gridwidth": 2,
            "linecolor": "white",
            "showbackground": true,
            "ticks": "",
            "zerolinecolor": "white"
           }
          },
          "shapedefaults": {
           "line": {
            "color": "#2a3f5f"
           }
          },
          "ternary": {
           "aaxis": {
            "gridcolor": "white",
            "linecolor": "white",
            "ticks": ""
           },
           "baxis": {
            "gridcolor": "white",
            "linecolor": "white",
            "ticks": ""
           },
           "bgcolor": "#E5ECF6",
           "caxis": {
            "gridcolor": "white",
            "linecolor": "white",
            "ticks": ""
           }
          },
          "title": {
           "x": 0.05
          },
          "xaxis": {
           "automargin": true,
           "gridcolor": "white",
           "linecolor": "white",
           "ticks": "",
           "title": {
            "standoff": 15
           },
           "zerolinecolor": "white",
           "zerolinewidth": 2
          },
          "yaxis": {
           "automargin": true,
           "gridcolor": "white",
           "linecolor": "white",
           "ticks": "",
           "title": {
            "standoff": 15
           },
           "zerolinecolor": "white",
           "zerolinewidth": 2
          }
         }
        },
        "title": {
         "text": "Number of Sickle cell retinopathy publications"
        }
       }
      }
     },
     "metadata": {},
     "output_type": "display_data"
    }
   ],
   "source": [
    "fig = go.Figure(data=go.Choropleth(\n",
    "    locations = data['code'],\n",
    "    z = data['count'],\n",
    "    text = data['countries'],\n",
    "    colorscale = 'blugrn',\n",
    "    autocolorscale=True,\n",
    "    reversescale=False,\n",
    "    marker_line_color='darkgray',\n",
    "    marker_line_width=0.5,\n",
    "    # colorbar_tickprefix = '$',\n",
    "    colorbar_title = 'Number of Publications',\n",
    "))\n",
    "\n",
    "fig.update_layout(\n",
    "    title_text='Number of Sickle cell retinopathy publications',\n",
    "    geo=dict(\n",
    "        showframe=False,\n",
    "        showcoastlines=False,\n",
    "        projection_type='equirectangular'\n",
    "    ),\n",
    "    annotations = [dict(\n",
    "        x=0.55,\n",
    "        y=0.1,\n",
    "        xref='paper',\n",
    "        yref='paper',\n",
    "        # text='Source: <a href=\"https://www.cia.gov/library/publications/the-world-factbook/fields/2195.html\">\\\n",
    "        #     CIA World Factbook</a>',\n",
    "        showarrow = False\n",
    "    )]\n",
    ")\n",
    "\n",
    "fig.show()"
   ]
  }
 ],
 "metadata": {
  "kernelspec": {
   "display_name": "ophthoviz-venv",
   "language": "python",
   "name": "python3"
  },
  "language_info": {
   "codemirror_mode": {
    "name": "ipython",
    "version": 3
   },
   "file_extension": ".py",
   "mimetype": "text/x-python",
   "name": "python",
   "nbconvert_exporter": "python",
   "pygments_lexer": "ipython3",
   "version": "3.10.11"
  },
  "orig_nbformat": 4
 },
 "nbformat": 4,
 "nbformat_minor": 2
}
