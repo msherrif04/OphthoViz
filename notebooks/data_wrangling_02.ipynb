{
 "cells": [
  {
   "cell_type": "code",
   "execution_count": 1,
   "metadata": {},
   "outputs": [],
   "source": [
    "#importing the dependencies\n",
    "import pandas as pd\n",
    "import numpy as np\n",
    "import pycountry"
   ]
  },
  {
   "cell_type": "code",
   "execution_count": 3,
   "metadata": {},
   "outputs": [
    {
     "data": {
      "text/html": [
       "<div>\n",
       "<style scoped>\n",
       "    .dataframe tbody tr th:only-of-type {\n",
       "        vertical-align: middle;\n",
       "    }\n",
       "\n",
       "    .dataframe tbody tr th {\n",
       "        vertical-align: top;\n",
       "    }\n",
       "\n",
       "    .dataframe thead th {\n",
       "        text-align: right;\n",
       "    }\n",
       "</style>\n",
       "<table border=\"1\" class=\"dataframe\">\n",
       "  <thead>\n",
       "    <tr style=\"text-align: right;\">\n",
       "      <th></th>\n",
       "      <th>Title</th>\n",
       "      <th>Year</th>\n",
       "      <th>Source title</th>\n",
       "      <th>Abstract</th>\n",
       "      <th>Index Keywords</th>\n",
       "      <th>Cited by</th>\n",
       "      <th>Publisher</th>\n",
       "      <th>Language of Original Document</th>\n",
       "      <th>Document Type</th>\n",
       "      <th>countries</th>\n",
       "      <th>Funding Entities</th>\n",
       "      <th>Main Country</th>\n",
       "    </tr>\n",
       "  </thead>\n",
       "  <tbody>\n",
       "    <tr>\n",
       "      <th>0</th>\n",
       "      <td>Severe proliferative retinopathy in a patient ...</td>\n",
       "      <td>2023</td>\n",
       "      <td>American Journal of Ophthalmology Case Reports</td>\n",
       "      <td>[No abstract available]</td>\n",
       "      <td>['adult', ' Article', ' autoimmune hepatitis',...</td>\n",
       "      <td>NaN</td>\n",
       "      <td>Elsevier Inc.</td>\n",
       "      <td>English</td>\n",
       "      <td>Article</td>\n",
       "      <td>['United States']</td>\n",
       "      <td>[]</td>\n",
       "      <td>['United States']</td>\n",
       "    </tr>\n",
       "    <tr>\n",
       "      <th>1</th>\n",
       "      <td>Plasma levels of E-selectin are associated wit...</td>\n",
       "      <td>2023</td>\n",
       "      <td>European Journal of Haematology</td>\n",
       "      <td>Background: The vascular endothelium is marked...</td>\n",
       "      <td>['creatinine', ' endothelial leukocyte adhesio...</td>\n",
       "      <td>NaN</td>\n",
       "      <td>John Wiley and Sons Inc</td>\n",
       "      <td>English</td>\n",
       "      <td>Article</td>\n",
       "      <td>['France', 'Guadeloupe']</td>\n",
       "      <td>[]</td>\n",
       "      <td>['France']</td>\n",
       "    </tr>\n",
       "    <tr>\n",
       "      <th>2</th>\n",
       "      <td>Routine Ophthalmological Examination Rates in ...</td>\n",
       "      <td>2023</td>\n",
       "      <td>International Journal of Environmental Researc...</td>\n",
       "      <td>The American Academy of Ophthalmology and the ...</td>\n",
       "      <td>['blood', ' cell organelle', ' COVID-19', ' ep...</td>\n",
       "      <td>NaN</td>\n",
       "      <td>MDPI</td>\n",
       "      <td>English</td>\n",
       "      <td>Article</td>\n",
       "      <td>['United States']</td>\n",
       "      <td>[Albert Einstein College of Medicine, Yeshiva ...</td>\n",
       "      <td>['United States']</td>\n",
       "    </tr>\n",
       "    <tr>\n",
       "      <th>3</th>\n",
       "      <td>Progress in and Prospects of Genome Editing To...</td>\n",
       "      <td>2023</td>\n",
       "      <td>Genes</td>\n",
       "      <td>Programmable nucleases, such as zinc finger nu...</td>\n",
       "      <td>['atonal BHLH transcription factor 1', ' beta ...</td>\n",
       "      <td>NaN</td>\n",
       "      <td>MDPI</td>\n",
       "      <td>English</td>\n",
       "      <td>Review</td>\n",
       "      <td>['South Korea']</td>\n",
       "      <td>[National Research Foundation]</td>\n",
       "      <td>[]</td>\n",
       "    </tr>\n",
       "    <tr>\n",
       "      <th>4</th>\n",
       "      <td>Screening for sickle-cell retinopathy</td>\n",
       "      <td>2023</td>\n",
       "      <td>Eye (Basingstoke)</td>\n",
       "      <td>[No abstract available]</td>\n",
       "      <td>['crizanlizumab', ' vasculotropin antibody', '...</td>\n",
       "      <td>NaN</td>\n",
       "      <td>Springer Nature</td>\n",
       "      <td>English</td>\n",
       "      <td>Letter</td>\n",
       "      <td>['United Kingdom']</td>\n",
       "      <td>[]</td>\n",
       "      <td>['United Kingdom']</td>\n",
       "    </tr>\n",
       "  </tbody>\n",
       "</table>\n",
       "</div>"
      ],
      "text/plain": [
       "                                               Title  Year  \\\n",
       "0  Severe proliferative retinopathy in a patient ...  2023   \n",
       "1  Plasma levels of E-selectin are associated wit...  2023   \n",
       "2  Routine Ophthalmological Examination Rates in ...  2023   \n",
       "3  Progress in and Prospects of Genome Editing To...  2023   \n",
       "4              Screening for sickle-cell retinopathy  2023   \n",
       "\n",
       "                                        Source title  \\\n",
       "0     American Journal of Ophthalmology Case Reports   \n",
       "1                    European Journal of Haematology   \n",
       "2  International Journal of Environmental Researc...   \n",
       "3                                              Genes   \n",
       "4                                  Eye (Basingstoke)   \n",
       "\n",
       "                                            Abstract  \\\n",
       "0                            [No abstract available]   \n",
       "1  Background: The vascular endothelium is marked...   \n",
       "2  The American Academy of Ophthalmology and the ...   \n",
       "3  Programmable nucleases, such as zinc finger nu...   \n",
       "4                            [No abstract available]   \n",
       "\n",
       "                                      Index Keywords  Cited by  \\\n",
       "0  ['adult', ' Article', ' autoimmune hepatitis',...       NaN   \n",
       "1  ['creatinine', ' endothelial leukocyte adhesio...       NaN   \n",
       "2  ['blood', ' cell organelle', ' COVID-19', ' ep...       NaN   \n",
       "3  ['atonal BHLH transcription factor 1', ' beta ...       NaN   \n",
       "4  ['crizanlizumab', ' vasculotropin antibody', '...       NaN   \n",
       "\n",
       "                 Publisher Language of Original Document Document Type  \\\n",
       "0            Elsevier Inc.                       English       Article   \n",
       "1  John Wiley and Sons Inc                       English       Article   \n",
       "2                     MDPI                       English       Article   \n",
       "3                     MDPI                       English        Review   \n",
       "4          Springer Nature                       English        Letter   \n",
       "\n",
       "                  countries  \\\n",
       "0         ['United States']   \n",
       "1  ['France', 'Guadeloupe']   \n",
       "2         ['United States']   \n",
       "3           ['South Korea']   \n",
       "4        ['United Kingdom']   \n",
       "\n",
       "                                    Funding Entities        Main Country  \n",
       "0                                                 []   ['United States']  \n",
       "1                                                 []          ['France']  \n",
       "2  [Albert Einstein College of Medicine, Yeshiva ...   ['United States']  \n",
       "3                     [National Research Foundation]                  []  \n",
       "4                                                 []  ['United Kingdom']  "
      ]
     },
     "execution_count": 3,
     "metadata": {},
     "output_type": "execute_result"
    }
   ],
   "source": [
    "#Loading the dataset\n",
    "data = pd.read_csv('../data/interim/data.csv', index_col=0)\n",
    "data.head()"
   ]
  },
  {
   "attachments": {},
   "cell_type": "markdown",
   "metadata": {},
   "source": [
    "1. Total number of publications - 799"
   ]
  },
  {
   "attachments": {},
   "cell_type": "markdown",
   "metadata": {},
   "source": [
    "# Adding a decade column"
   ]
  },
  {
   "cell_type": "code",
   "execution_count": 28,
   "metadata": {},
   "outputs": [
    {
     "data": {
      "text/plain": [
       "0"
      ]
     },
     "execution_count": 28,
     "metadata": {},
     "output_type": "execute_result"
    }
   ],
   "source": [
    "period_length = 10\n",
    "start_year = 1954\n",
    "end_year = 2024\n",
    "\n",
    "year_range = end_year - start_year\n",
    "modulo = year_range % period_length\n",
    "modulo\n"
   ]
  },
  {
   "cell_type": "code",
   "execution_count": 29,
   "metadata": {},
   "outputs": [
    {
     "data": {
      "text/plain": [
       "2014"
      ]
     },
     "execution_count": 29,
     "metadata": {},
     "output_type": "execute_result"
    }
   ],
   "source": [
    "final_start = end_year - period_length\n",
    "final_start"
   ]
  },
  {
   "cell_type": "code",
   "execution_count": 34,
   "metadata": {},
   "outputs": [
    {
     "data": {
      "text/plain": [
       "IntervalIndex([[1954, 1964), [1964, 1974), [1974, 1984), [1984, 1994), [1994, 2004), [2004, 2014), [2014, 2024)], dtype='interval[int64, left]')"
      ]
     },
     "execution_count": 34,
     "metadata": {},
     "output_type": "execute_result"
    }
   ],
   "source": [
    "starts = np.arange(start_year, end_year,period_length).tolist()\n",
    "tuples = [(start, start + period_length) for start in starts]\n",
    "tuples\n",
    "bins = pd.IntervalIndex.from_tuples(tuples,closed='left')\n",
    "bins"
   ]
  },
  {
   "cell_type": "code",
   "execution_count": 35,
   "metadata": {},
   "outputs": [
    {
     "data": {
      "text/plain": [
       "{'[1954, 1964)': '1954 - 1963',\n",
       " '[1964, 1974)': '1964 - 1973',\n",
       " '[1974, 1984)': '1974 - 1983',\n",
       " '[1984, 1994)': '1984 - 1993',\n",
       " '[1994, 2004)': '1994 - 2003',\n",
       " '[2004, 2014)': '2004 - 2013',\n",
       " '[2014, 2024)': '2014 - 2023'}"
      ]
     },
     "execution_count": 35,
     "metadata": {},
     "output_type": "execute_result"
    }
   ],
   "source": [
    "original_labels = list(bins.astype(str))\n",
    "new_labels = ['{} - {}'.format(b.strip('[)').split(', ')[0], int(b.strip('[)').split(', ')[1])-1) for b in original_labels]\n",
    "\n",
    "label_dict = dict(zip(original_labels, new_labels))\n",
    "\n",
    "label_dict"
   ]
  },
  {
   "cell_type": "code",
   "execution_count": 45,
   "metadata": {},
   "outputs": [
    {
     "data": {
      "text/plain": [
       "dict_values(['1954 - 1963', '1964 - 1973', '1974 - 1983', '1984 - 1993', '1994 - 2003', '2004 - 2013', '2014 - 2023'])"
      ]
     },
     "execution_count": 45,
     "metadata": {},
     "output_type": "execute_result"
    }
   ],
   "source": [
    "label_dict.values()"
   ]
  },
  {
   "cell_type": "code",
   "execution_count": 40,
   "metadata": {},
   "outputs": [
    {
     "data": {
      "text/html": [
       "<div>\n",
       "<style scoped>\n",
       "    .dataframe tbody tr th:only-of-type {\n",
       "        vertical-align: middle;\n",
       "    }\n",
       "\n",
       "    .dataframe tbody tr th {\n",
       "        vertical-align: top;\n",
       "    }\n",
       "\n",
       "    .dataframe thead th {\n",
       "        text-align: right;\n",
       "    }\n",
       "</style>\n",
       "<table border=\"1\" class=\"dataframe\">\n",
       "  <thead>\n",
       "    <tr style=\"text-align: right;\">\n",
       "      <th></th>\n",
       "      <th>Year</th>\n",
       "    </tr>\n",
       "  </thead>\n",
       "  <tbody>\n",
       "    <tr>\n",
       "      <th>0</th>\n",
       "      <td>2023</td>\n",
       "    </tr>\n",
       "    <tr>\n",
       "      <th>1</th>\n",
       "      <td>2023</td>\n",
       "    </tr>\n",
       "    <tr>\n",
       "      <th>2</th>\n",
       "      <td>2023</td>\n",
       "    </tr>\n",
       "    <tr>\n",
       "      <th>3</th>\n",
       "      <td>2023</td>\n",
       "    </tr>\n",
       "    <tr>\n",
       "      <th>4</th>\n",
       "      <td>2023</td>\n",
       "    </tr>\n",
       "  </tbody>\n",
       "</table>\n",
       "</div>"
      ],
      "text/plain": [
       "   Year\n",
       "0  2023\n",
       "1  2023\n",
       "2  2023\n",
       "3  2023\n",
       "4  2023"
      ]
     },
     "execution_count": 40,
     "metadata": {},
     "output_type": "execute_result"
    }
   ],
   "source": [
    "decade_df = data[['Year']]\n",
    "decade_df.head()"
   ]
  },
  {
   "cell_type": "code",
   "execution_count": 49,
   "metadata": {},
   "outputs": [],
   "source": [
    "decade_df['Period'] = pd.cut(decade_df['Year'], bins=bins, include_lowest=True, precision=0)\n",
    "decade_df['Period'] = decade_df['Period'].astype(\"str\")\n",
    "decade_df = decade_df.replace(label_dict)\n"
   ]
  },
  {
   "cell_type": "code",
   "execution_count": 50,
   "metadata": {},
   "outputs": [
    {
     "data": {
      "text/html": [
       "<div>\n",
       "<style scoped>\n",
       "    .dataframe tbody tr th:only-of-type {\n",
       "        vertical-align: middle;\n",
       "    }\n",
       "\n",
       "    .dataframe tbody tr th {\n",
       "        vertical-align: top;\n",
       "    }\n",
       "\n",
       "    .dataframe thead th {\n",
       "        text-align: right;\n",
       "    }\n",
       "</style>\n",
       "<table border=\"1\" class=\"dataframe\">\n",
       "  <thead>\n",
       "    <tr style=\"text-align: right;\">\n",
       "      <th></th>\n",
       "      <th>Year</th>\n",
       "      <th>PERIOD</th>\n",
       "      <th>Period</th>\n",
       "    </tr>\n",
       "  </thead>\n",
       "  <tbody>\n",
       "    <tr>\n",
       "      <th>0</th>\n",
       "      <td>2023</td>\n",
       "      <td>2014 - 2023</td>\n",
       "      <td>2014 - 2023</td>\n",
       "    </tr>\n",
       "    <tr>\n",
       "      <th>1</th>\n",
       "      <td>2023</td>\n",
       "      <td>2014 - 2023</td>\n",
       "      <td>2014 - 2023</td>\n",
       "    </tr>\n",
       "    <tr>\n",
       "      <th>2</th>\n",
       "      <td>2023</td>\n",
       "      <td>2014 - 2023</td>\n",
       "      <td>2014 - 2023</td>\n",
       "    </tr>\n",
       "    <tr>\n",
       "      <th>3</th>\n",
       "      <td>2023</td>\n",
       "      <td>2014 - 2023</td>\n",
       "      <td>2014 - 2023</td>\n",
       "    </tr>\n",
       "    <tr>\n",
       "      <th>4</th>\n",
       "      <td>2023</td>\n",
       "      <td>2014 - 2023</td>\n",
       "      <td>2014 - 2023</td>\n",
       "    </tr>\n",
       "  </tbody>\n",
       "</table>\n",
       "</div>"
      ],
      "text/plain": [
       "   Year       PERIOD       Period\n",
       "0  2023  2014 - 2023  2014 - 2023\n",
       "1  2023  2014 - 2023  2014 - 2023\n",
       "2  2023  2014 - 2023  2014 - 2023\n",
       "3  2023  2014 - 2023  2014 - 2023\n",
       "4  2023  2014 - 2023  2014 - 2023"
      ]
     },
     "execution_count": 50,
     "metadata": {},
     "output_type": "execute_result"
    }
   ],
   "source": [
    "decade_df.head()"
   ]
  },
  {
   "cell_type": "code",
   "execution_count": 53,
   "metadata": {},
   "outputs": [
    {
     "data": {
      "text/html": [
       "<div>\n",
       "<style scoped>\n",
       "    .dataframe tbody tr th:only-of-type {\n",
       "        vertical-align: middle;\n",
       "    }\n",
       "\n",
       "    .dataframe tbody tr th {\n",
       "        vertical-align: top;\n",
       "    }\n",
       "\n",
       "    .dataframe thead th {\n",
       "        text-align: right;\n",
       "    }\n",
       "</style>\n",
       "<table border=\"1\" class=\"dataframe\">\n",
       "  <thead>\n",
       "    <tr style=\"text-align: right;\">\n",
       "      <th></th>\n",
       "      <th>Year</th>\n",
       "      <th>Period</th>\n",
       "    </tr>\n",
       "  </thead>\n",
       "  <tbody>\n",
       "    <tr>\n",
       "      <th>0</th>\n",
       "      <td>2023</td>\n",
       "      <td>2014 - 2023</td>\n",
       "    </tr>\n",
       "    <tr>\n",
       "      <th>1</th>\n",
       "      <td>2023</td>\n",
       "      <td>2014 - 2023</td>\n",
       "    </tr>\n",
       "    <tr>\n",
       "      <th>2</th>\n",
       "      <td>2023</td>\n",
       "      <td>2014 - 2023</td>\n",
       "    </tr>\n",
       "    <tr>\n",
       "      <th>3</th>\n",
       "      <td>2023</td>\n",
       "      <td>2014 - 2023</td>\n",
       "    </tr>\n",
       "    <tr>\n",
       "      <th>4</th>\n",
       "      <td>2023</td>\n",
       "      <td>2014 - 2023</td>\n",
       "    </tr>\n",
       "  </tbody>\n",
       "</table>\n",
       "</div>"
      ],
      "text/plain": [
       "   Year       Period\n",
       "0  2023  2014 - 2023\n",
       "1  2023  2014 - 2023\n",
       "2  2023  2014 - 2023\n",
       "3  2023  2014 - 2023\n",
       "4  2023  2014 - 2023"
      ]
     },
     "execution_count": 53,
     "metadata": {},
     "output_type": "execute_result"
    }
   ],
   "source": [
    "decade_df.drop('PERIOD', axis=1, inplace=True)\n",
    "decade_df.head()"
   ]
  },
  {
   "cell_type": "code",
   "execution_count": 57,
   "metadata": {},
   "outputs": [
    {
     "data": {
      "text/plain": [
       "Period\n",
       "1954 - 1963      4\n",
       "1964 - 1973     27\n",
       "1974 - 1983    112\n",
       "1984 - 1993     99\n",
       "1994 - 2003     75\n",
       "2004 - 2013    138\n",
       "2014 - 2023    344\n",
       "Name: Period, dtype: int64"
      ]
     },
     "execution_count": 57,
     "metadata": {},
     "output_type": "execute_result"
    }
   ],
   "source": [
    "decade_df.groupby('Period')['Period'].count()"
   ]
  },
  {
   "cell_type": "code",
   "execution_count": 58,
   "metadata": {},
   "outputs": [
    {
     "data": {
      "text/html": [
       "<div>\n",
       "<style scoped>\n",
       "    .dataframe tbody tr th:only-of-type {\n",
       "        vertical-align: middle;\n",
       "    }\n",
       "\n",
       "    .dataframe tbody tr th {\n",
       "        vertical-align: top;\n",
       "    }\n",
       "\n",
       "    .dataframe thead th {\n",
       "        text-align: right;\n",
       "    }\n",
       "</style>\n",
       "<table border=\"1\" class=\"dataframe\">\n",
       "  <thead>\n",
       "    <tr style=\"text-align: right;\">\n",
       "      <th></th>\n",
       "      <th>Title</th>\n",
       "      <th>Year</th>\n",
       "      <th>Source title</th>\n",
       "      <th>Abstract</th>\n",
       "      <th>Index Keywords</th>\n",
       "      <th>Cited by</th>\n",
       "      <th>Publisher</th>\n",
       "      <th>Language of Original Document</th>\n",
       "      <th>Document Type</th>\n",
       "      <th>countries</th>\n",
       "      <th>Funding Entities</th>\n",
       "      <th>Main Country</th>\n",
       "      <th>Period</th>\n",
       "    </tr>\n",
       "  </thead>\n",
       "  <tbody>\n",
       "    <tr>\n",
       "      <th>0</th>\n",
       "      <td>Severe proliferative retinopathy in a patient ...</td>\n",
       "      <td>2023</td>\n",
       "      <td>American Journal of Ophthalmology Case Reports</td>\n",
       "      <td>[No abstract available]</td>\n",
       "      <td>['adult', ' Article', ' autoimmune hepatitis',...</td>\n",
       "      <td>NaN</td>\n",
       "      <td>Elsevier Inc.</td>\n",
       "      <td>English</td>\n",
       "      <td>Article</td>\n",
       "      <td>['United States']</td>\n",
       "      <td>[]</td>\n",
       "      <td>['United States']</td>\n",
       "      <td>2014 - 2023</td>\n",
       "    </tr>\n",
       "    <tr>\n",
       "      <th>1</th>\n",
       "      <td>Plasma levels of E-selectin are associated wit...</td>\n",
       "      <td>2023</td>\n",
       "      <td>European Journal of Haematology</td>\n",
       "      <td>Background: The vascular endothelium is marked...</td>\n",
       "      <td>['creatinine', ' endothelial leukocyte adhesio...</td>\n",
       "      <td>NaN</td>\n",
       "      <td>John Wiley and Sons Inc</td>\n",
       "      <td>English</td>\n",
       "      <td>Article</td>\n",
       "      <td>['France', 'Guadeloupe']</td>\n",
       "      <td>[]</td>\n",
       "      <td>['France']</td>\n",
       "      <td>2014 - 2023</td>\n",
       "    </tr>\n",
       "    <tr>\n",
       "      <th>2</th>\n",
       "      <td>Routine Ophthalmological Examination Rates in ...</td>\n",
       "      <td>2023</td>\n",
       "      <td>International Journal of Environmental Researc...</td>\n",
       "      <td>The American Academy of Ophthalmology and the ...</td>\n",
       "      <td>['blood', ' cell organelle', ' COVID-19', ' ep...</td>\n",
       "      <td>NaN</td>\n",
       "      <td>MDPI</td>\n",
       "      <td>English</td>\n",
       "      <td>Article</td>\n",
       "      <td>['United States']</td>\n",
       "      <td>[Albert Einstein College of Medicine, Yeshiva ...</td>\n",
       "      <td>['United States']</td>\n",
       "      <td>2014 - 2023</td>\n",
       "    </tr>\n",
       "    <tr>\n",
       "      <th>3</th>\n",
       "      <td>Progress in and Prospects of Genome Editing To...</td>\n",
       "      <td>2023</td>\n",
       "      <td>Genes</td>\n",
       "      <td>Programmable nucleases, such as zinc finger nu...</td>\n",
       "      <td>['atonal BHLH transcription factor 1', ' beta ...</td>\n",
       "      <td>NaN</td>\n",
       "      <td>MDPI</td>\n",
       "      <td>English</td>\n",
       "      <td>Review</td>\n",
       "      <td>['South Korea']</td>\n",
       "      <td>[National Research Foundation]</td>\n",
       "      <td>[]</td>\n",
       "      <td>2014 - 2023</td>\n",
       "    </tr>\n",
       "    <tr>\n",
       "      <th>4</th>\n",
       "      <td>Screening for sickle-cell retinopathy</td>\n",
       "      <td>2023</td>\n",
       "      <td>Eye (Basingstoke)</td>\n",
       "      <td>[No abstract available]</td>\n",
       "      <td>['crizanlizumab', ' vasculotropin antibody', '...</td>\n",
       "      <td>NaN</td>\n",
       "      <td>Springer Nature</td>\n",
       "      <td>English</td>\n",
       "      <td>Letter</td>\n",
       "      <td>['United Kingdom']</td>\n",
       "      <td>[]</td>\n",
       "      <td>['United Kingdom']</td>\n",
       "      <td>2014 - 2023</td>\n",
       "    </tr>\n",
       "  </tbody>\n",
       "</table>\n",
       "</div>"
      ],
      "text/plain": [
       "                                               Title  Year  \\\n",
       "0  Severe proliferative retinopathy in a patient ...  2023   \n",
       "1  Plasma levels of E-selectin are associated wit...  2023   \n",
       "2  Routine Ophthalmological Examination Rates in ...  2023   \n",
       "3  Progress in and Prospects of Genome Editing To...  2023   \n",
       "4              Screening for sickle-cell retinopathy  2023   \n",
       "\n",
       "                                        Source title  \\\n",
       "0     American Journal of Ophthalmology Case Reports   \n",
       "1                    European Journal of Haematology   \n",
       "2  International Journal of Environmental Researc...   \n",
       "3                                              Genes   \n",
       "4                                  Eye (Basingstoke)   \n",
       "\n",
       "                                            Abstract  \\\n",
       "0                            [No abstract available]   \n",
       "1  Background: The vascular endothelium is marked...   \n",
       "2  The American Academy of Ophthalmology and the ...   \n",
       "3  Programmable nucleases, such as zinc finger nu...   \n",
       "4                            [No abstract available]   \n",
       "\n",
       "                                      Index Keywords  Cited by  \\\n",
       "0  ['adult', ' Article', ' autoimmune hepatitis',...       NaN   \n",
       "1  ['creatinine', ' endothelial leukocyte adhesio...       NaN   \n",
       "2  ['blood', ' cell organelle', ' COVID-19', ' ep...       NaN   \n",
       "3  ['atonal BHLH transcription factor 1', ' beta ...       NaN   \n",
       "4  ['crizanlizumab', ' vasculotropin antibody', '...       NaN   \n",
       "\n",
       "                 Publisher Language of Original Document Document Type  \\\n",
       "0            Elsevier Inc.                       English       Article   \n",
       "1  John Wiley and Sons Inc                       English       Article   \n",
       "2                     MDPI                       English       Article   \n",
       "3                     MDPI                       English        Review   \n",
       "4          Springer Nature                       English        Letter   \n",
       "\n",
       "                  countries  \\\n",
       "0         ['United States']   \n",
       "1  ['France', 'Guadeloupe']   \n",
       "2         ['United States']   \n",
       "3           ['South Korea']   \n",
       "4        ['United Kingdom']   \n",
       "\n",
       "                                    Funding Entities        Main Country  \\\n",
       "0                                                 []   ['United States']   \n",
       "1                                                 []          ['France']   \n",
       "2  [Albert Einstein College of Medicine, Yeshiva ...   ['United States']   \n",
       "3                     [National Research Foundation]                  []   \n",
       "4                                                 []  ['United Kingdom']   \n",
       "\n",
       "        Period  \n",
       "0  2014 - 2023  \n",
       "1  2014 - 2023  \n",
       "2  2014 - 2023  \n",
       "3  2014 - 2023  \n",
       "4  2014 - 2023  "
      ]
     },
     "execution_count": 58,
     "metadata": {},
     "output_type": "execute_result"
    }
   ],
   "source": [
    "data['Period'] = decade_df['Period']\n",
    "data.head()"
   ]
  },
  {
   "attachments": {},
   "cell_type": "markdown",
   "metadata": {},
   "source": [
    "# Working on the countries\n",
    "\n",
    "1. explode the list??\n",
    "2. Some sort of network"
   ]
  },
  {
   "cell_type": "code",
   "execution_count": 59,
   "metadata": {},
   "outputs": [
    {
     "data": {
      "text/plain": [
       "Index(['Title', 'Year', 'Source title', 'Abstract', 'Index Keywords',\n",
       "       'Cited by', 'Publisher', 'Language of Original Document',\n",
       "       'Document Type', 'countries', 'Funding Entities', 'Main Country',\n",
       "       'Period'],\n",
       "      dtype='object')"
      ]
     },
     "execution_count": 59,
     "metadata": {},
     "output_type": "execute_result"
    }
   ],
   "source": [
    "data.columns"
   ]
  },
  {
   "cell_type": "code",
   "execution_count": 60,
   "metadata": {},
   "outputs": [
    {
     "data": {
      "text/html": [
       "<div>\n",
       "<style scoped>\n",
       "    .dataframe tbody tr th:only-of-type {\n",
       "        vertical-align: middle;\n",
       "    }\n",
       "\n",
       "    .dataframe tbody tr th {\n",
       "        vertical-align: top;\n",
       "    }\n",
       "\n",
       "    .dataframe thead th {\n",
       "        text-align: right;\n",
       "    }\n",
       "</style>\n",
       "<table border=\"1\" class=\"dataframe\">\n",
       "  <thead>\n",
       "    <tr style=\"text-align: right;\">\n",
       "      <th></th>\n",
       "      <th>countries</th>\n",
       "      <th>Main Country</th>\n",
       "    </tr>\n",
       "  </thead>\n",
       "  <tbody>\n",
       "    <tr>\n",
       "      <th>0</th>\n",
       "      <td>['United States']</td>\n",
       "      <td>['United States']</td>\n",
       "    </tr>\n",
       "    <tr>\n",
       "      <th>1</th>\n",
       "      <td>['France', 'Guadeloupe']</td>\n",
       "      <td>['France']</td>\n",
       "    </tr>\n",
       "    <tr>\n",
       "      <th>2</th>\n",
       "      <td>['United States']</td>\n",
       "      <td>['United States']</td>\n",
       "    </tr>\n",
       "    <tr>\n",
       "      <th>3</th>\n",
       "      <td>['South Korea']</td>\n",
       "      <td>[]</td>\n",
       "    </tr>\n",
       "    <tr>\n",
       "      <th>4</th>\n",
       "      <td>['United Kingdom']</td>\n",
       "      <td>['United Kingdom']</td>\n",
       "    </tr>\n",
       "  </tbody>\n",
       "</table>\n",
       "</div>"
      ],
      "text/plain": [
       "                  countries        Main Country\n",
       "0         ['United States']   ['United States']\n",
       "1  ['France', 'Guadeloupe']          ['France']\n",
       "2         ['United States']   ['United States']\n",
       "3           ['South Korea']                  []\n",
       "4        ['United Kingdom']  ['United Kingdom']"
      ]
     },
     "execution_count": 60,
     "metadata": {},
     "output_type": "execute_result"
    }
   ],
   "source": [
    "cols = ['countries','Main Country']\n",
    "country_df = data[cols]\n",
    "country_df.head()"
   ]
  },
  {
   "cell_type": "code",
   "execution_count": 64,
   "metadata": {},
   "outputs": [
    {
     "data": {
      "text/plain": [
       "countries                     Main Country                \n",
       "['United States']             ['United States']               279\n",
       "[]                            []                               48\n",
       "['United States']             []                               41\n",
       "['Brazil']                    ['Brazil']                       35\n",
       "['France']                    ['France']                       33\n",
       "                                                             ... \n",
       "['Georgia', 'United States']  []                                1\n",
       "                              ['Georgia', 'United States']      1\n",
       "['French Guiana']             ['French Guiana']                 1\n",
       "['Belgium', 'United States']  []                                1\n",
       "[\"Cote d'Ivoire\"]             [\"Cote d'Ivoire\"]                 1\n",
       "Name: count, Length: 173, dtype: int64"
      ]
     },
     "execution_count": 64,
     "metadata": {},
     "output_type": "execute_result"
    }
   ],
   "source": [
    "country_df.value_counts()"
   ]
  },
  {
   "cell_type": "code",
   "execution_count": 63,
   "metadata": {},
   "outputs": [
    {
     "name": "stdout",
     "output_type": "stream",
     "text": [
      "0\n"
     ]
    }
   ],
   "source": [
    "#number of empty funding details\n",
    "print(len([i for i in country_df['Main Country'] if len(i) == 0])\n",
    ")\n",
    "\n",
    "#rows with no funding\n",
    "# funding_df[funding_df['Funding Details'].str.len() == 0]"
   ]
  },
  {
   "attachments": {},
   "cell_type": "markdown",
   "metadata": {},
   "source": [
    "# publication count over the years"
   ]
  }
 ],
 "metadata": {
  "kernelspec": {
   "display_name": "ophthoviz-venv",
   "language": "python",
   "name": "python3"
  },
  "language_info": {
   "codemirror_mode": {
    "name": "ipython",
    "version": 3
   },
   "file_extension": ".py",
   "mimetype": "text/x-python",
   "name": "python",
   "nbconvert_exporter": "python",
   "pygments_lexer": "ipython3",
   "version": "3.10.11"
  },
  "orig_nbformat": 4
 },
 "nbformat": 4,
 "nbformat_minor": 2
}
