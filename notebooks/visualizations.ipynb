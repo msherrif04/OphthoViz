{
 "cells": [
  {
   "cell_type": "code",
   "execution_count": 48,
   "metadata": {},
   "outputs": [],
   "source": [
    "import pandas as pd\n",
    "import numpy as np\n",
    "import plotly.express as px\n",
    "import plotly.graph_objects as go"
   ]
  },
  {
   "cell_type": "code",
   "execution_count": 49,
   "metadata": {},
   "outputs": [],
   "source": [
    "#loading the datasets\n",
    "df_num_citations = pd.read_csv('../data/processed/citation_count.csv', index_col=0)\n",
    "df_collaboration_network = pd.read_csv('../data/processed/collaborations.csv', index_col=0)\n",
    "df_doc_types = pd.read_csv('../data/processed/doc_type.csv', index_col=0)\n",
    "df_funding_ents = pd.read_csv('../data/processed/funding_data.csv', index_col=0)\n",
    "df_journals = pd.read_csv('../data/processed/journals_df.csv', index_col=0)\n",
    "df_languages = pd.read_csv('../data/processed/lang_data.csv', index_col=0)\n",
    "df_country_map = pd.read_csv('../data/processed/map_data.csv', index_col=0)\n",
    "df_num_collaborators = pd.read_csv('../data/processed/number_of_countries.csv', index_col=0)\n",
    "df_num_publications = pd.read_csv('../data/processed/publication_count.csv', index_col=0)\n"
   ]
  },
  {
   "cell_type": "markdown",
   "metadata": {},
   "source": [
    "# Number of publications from each country"
   ]
  },
  {
   "cell_type": "markdown",
   "metadata": {},
   "source": [
    "## Top 10 Countries"
   ]
  },
  {
   "cell_type": "code",
   "execution_count": 95,
   "metadata": {},
   "outputs": [
    {
     "data": {
      "text/html": [
       "<div>\n",
       "<style scoped>\n",
       "    .dataframe tbody tr th:only-of-type {\n",
       "        vertical-align: middle;\n",
       "    }\n",
       "\n",
       "    .dataframe tbody tr th {\n",
       "        vertical-align: top;\n",
       "    }\n",
       "\n",
       "    .dataframe thead th {\n",
       "        text-align: right;\n",
       "    }\n",
       "</style>\n",
       "<table border=\"1\" class=\"dataframe\">\n",
       "  <thead>\n",
       "    <tr style=\"text-align: right;\">\n",
       "      <th></th>\n",
       "      <th>countries</th>\n",
       "      <th>counts</th>\n",
       "    </tr>\n",
       "  </thead>\n",
       "  <tbody>\n",
       "    <tr>\n",
       "      <th>0</th>\n",
       "      <td>Canada</td>\n",
       "      <td>8</td>\n",
       "    </tr>\n",
       "    <tr>\n",
       "      <th>1</th>\n",
       "      <td>Denmark</td>\n",
       "      <td>1</td>\n",
       "    </tr>\n",
       "    <tr>\n",
       "      <th>2</th>\n",
       "      <td>France</td>\n",
       "      <td>6</td>\n",
       "    </tr>\n",
       "    <tr>\n",
       "      <th>3</th>\n",
       "      <td>Germany</td>\n",
       "      <td>2</td>\n",
       "    </tr>\n",
       "    <tr>\n",
       "      <th>4</th>\n",
       "      <td>Ghana</td>\n",
       "      <td>4</td>\n",
       "    </tr>\n",
       "    <tr>\n",
       "      <th>...</th>\n",
       "      <td>...</td>\n",
       "      <td>...</td>\n",
       "    </tr>\n",
       "    <tr>\n",
       "      <th>94</th>\n",
       "      <td>Turkey</td>\n",
       "      <td>8</td>\n",
       "    </tr>\n",
       "    <tr>\n",
       "      <th>95</th>\n",
       "      <td>Uganda</td>\n",
       "      <td>1</td>\n",
       "    </tr>\n",
       "    <tr>\n",
       "      <th>96</th>\n",
       "      <td>United Arab Emirates</td>\n",
       "      <td>2</td>\n",
       "    </tr>\n",
       "    <tr>\n",
       "      <th>97</th>\n",
       "      <td>United Kingdom</td>\n",
       "      <td>61</td>\n",
       "    </tr>\n",
       "    <tr>\n",
       "      <th>98</th>\n",
       "      <td>United States</td>\n",
       "      <td>327</td>\n",
       "    </tr>\n",
       "  </tbody>\n",
       "</table>\n",
       "<p>99 rows × 2 columns</p>\n",
       "</div>"
      ],
      "text/plain": [
       "               countries  counts\n",
       "0                 Canada       8\n",
       "1                Denmark       1\n",
       "2                 France       6\n",
       "3                Germany       2\n",
       "4                  Ghana       4\n",
       "..                   ...     ...\n",
       "94                Turkey       8\n",
       "95                Uganda       1\n",
       "96  United Arab Emirates       2\n",
       "97        United Kingdom      61\n",
       "98         United States     327\n",
       "\n",
       "[99 rows x 2 columns]"
      ]
     },
     "execution_count": 95,
     "metadata": {},
     "output_type": "execute_result"
    }
   ],
   "source": [
    "temp_df = df_num_publications.groupby(['countries'])['counts'].sum().reset_index(name='counts')\n",
    "temp_df"
   ]
  },
  {
   "cell_type": "code",
   "execution_count": 97,
   "metadata": {},
   "outputs": [
    {
     "data": {
      "text/html": [
       "<div>\n",
       "<style scoped>\n",
       "    .dataframe tbody tr th:only-of-type {\n",
       "        vertical-align: middle;\n",
       "    }\n",
       "\n",
       "    .dataframe tbody tr th {\n",
       "        vertical-align: top;\n",
       "    }\n",
       "\n",
       "    .dataframe thead th {\n",
       "        text-align: right;\n",
       "    }\n",
       "</style>\n",
       "<table border=\"1\" class=\"dataframe\">\n",
       "  <thead>\n",
       "    <tr style=\"text-align: right;\">\n",
       "      <th></th>\n",
       "      <th>countries</th>\n",
       "      <th>counts</th>\n",
       "    </tr>\n",
       "  </thead>\n",
       "  <tbody>\n",
       "    <tr>\n",
       "      <th>0</th>\n",
       "      <td>Canada</td>\n",
       "      <td>8</td>\n",
       "    </tr>\n",
       "    <tr>\n",
       "      <th>1</th>\n",
       "      <td>Denmark</td>\n",
       "      <td>1</td>\n",
       "    </tr>\n",
       "    <tr>\n",
       "      <th>2</th>\n",
       "      <td>France</td>\n",
       "      <td>6</td>\n",
       "    </tr>\n",
       "    <tr>\n",
       "      <th>3</th>\n",
       "      <td>Germany</td>\n",
       "      <td>2</td>\n",
       "    </tr>\n",
       "    <tr>\n",
       "      <th>4</th>\n",
       "      <td>Ghana</td>\n",
       "      <td>4</td>\n",
       "    </tr>\n",
       "    <tr>\n",
       "      <th>...</th>\n",
       "      <td>...</td>\n",
       "      <td>...</td>\n",
       "    </tr>\n",
       "    <tr>\n",
       "      <th>94</th>\n",
       "      <td>Turkey</td>\n",
       "      <td>8</td>\n",
       "    </tr>\n",
       "    <tr>\n",
       "      <th>95</th>\n",
       "      <td>Uganda</td>\n",
       "      <td>1</td>\n",
       "    </tr>\n",
       "    <tr>\n",
       "      <th>96</th>\n",
       "      <td>United Arab Emirates</td>\n",
       "      <td>2</td>\n",
       "    </tr>\n",
       "    <tr>\n",
       "      <th>97</th>\n",
       "      <td>United Kingdom</td>\n",
       "      <td>61</td>\n",
       "    </tr>\n",
       "    <tr>\n",
       "      <th>98</th>\n",
       "      <td>United States</td>\n",
       "      <td>327</td>\n",
       "    </tr>\n",
       "  </tbody>\n",
       "</table>\n",
       "<p>99 rows × 2 columns</p>\n",
       "</div>"
      ],
      "text/plain": [
       "               countries  counts\n",
       "0                 Canada       8\n",
       "1                Denmark       1\n",
       "2                 France       6\n",
       "3                Germany       2\n",
       "4                  Ghana       4\n",
       "..                   ...     ...\n",
       "94                Turkey       8\n",
       "95                Uganda       1\n",
       "96  United Arab Emirates       2\n",
       "97        United Kingdom      61\n",
       "98         United States     327\n",
       "\n",
       "[99 rows x 2 columns]"
      ]
     },
     "execution_count": 97,
     "metadata": {},
     "output_type": "execute_result"
    }
   ],
   "source": [
    "temp_df = temp_df.replace(r\"^ +| +$\", r\"\", regex=True)\n",
    "temp_df"
   ]
  },
  {
   "cell_type": "code",
   "execution_count": 99,
   "metadata": {},
   "outputs": [],
   "source": [
    "temp_df = temp_df.groupby(['countries'])['counts'].sum().reset_index(name='counts')\n"
   ]
  },
  {
   "cell_type": "code",
   "execution_count": 103,
   "metadata": {},
   "outputs": [],
   "source": [
    "top_20_countries_df = temp_df.sort_values(by='counts', ascending=False).head(20)"
   ]
  },
  {
   "cell_type": "code",
   "execution_count": 105,
   "metadata": {},
   "outputs": [
    {
     "data": {
      "application/vnd.plotly.v1+json": {
       "config": {
        "plotlyServerURL": "https://plot.ly"
       },
       "data": [
        {
         "alignmentgroup": "True",
         "hovertemplate": "countries=%{x}<br>counts=%{y}<extra></extra>",
         "legendgroup": "",
         "marker": {
          "color": "#636efa",
          "pattern": {
           "shape": ""
          }
         },
         "name": "",
         "offsetgroup": "",
         "orientation": "v",
         "showlegend": false,
         "textposition": "auto",
         "type": "bar",
         "x": [
          "United States",
          "United Kingdom",
          "France",
          "Brazil",
          "Jamaica",
          "Nigeria",
          "Niger",
          "Canada",
          "Italy",
          "India",
          "Germany",
          "Netherlands",
          "Egypt",
          "Guadeloupe",
          "Turkey",
          "Saudi Arabia",
          "Japan",
          "Georgia",
          "Ghana",
          "Malaysia"
         ],
         "xaxis": "x",
         "y": [
          398,
          71,
          67,
          46,
          43,
          25,
          23,
          22,
          19,
          17,
          16,
          14,
          10,
          9,
          8,
          8,
          6,
          6,
          6,
          6
         ],
         "yaxis": "y"
        }
       ],
       "layout": {
        "barmode": "relative",
        "legend": {
         "tracegroupgap": 0
        },
        "margin": {
         "t": 60
        },
        "template": {
         "data": {
          "bar": [
           {
            "error_x": {
             "color": "#2a3f5f"
            },
            "error_y": {
             "color": "#2a3f5f"
            },
            "marker": {
             "line": {
              "color": "#E5ECF6",
              "width": 0.5
             },
             "pattern": {
              "fillmode": "overlay",
              "size": 10,
              "solidity": 0.2
             }
            },
            "type": "bar"
           }
          ],
          "barpolar": [
           {
            "marker": {
             "line": {
              "color": "#E5ECF6",
              "width": 0.5
             },
             "pattern": {
              "fillmode": "overlay",
              "size": 10,
              "solidity": 0.2
             }
            },
            "type": "barpolar"
           }
          ],
          "carpet": [
           {
            "aaxis": {
             "endlinecolor": "#2a3f5f",
             "gridcolor": "white",
             "linecolor": "white",
             "minorgridcolor": "white",
             "startlinecolor": "#2a3f5f"
            },
            "baxis": {
             "endlinecolor": "#2a3f5f",
             "gridcolor": "white",
             "linecolor": "white",
             "minorgridcolor": "white",
             "startlinecolor": "#2a3f5f"
            },
            "type": "carpet"
           }
          ],
          "choropleth": [
           {
            "colorbar": {
             "outlinewidth": 0,
             "ticks": ""
            },
            "type": "choropleth"
           }
          ],
          "contour": [
           {
            "colorbar": {
             "outlinewidth": 0,
             "ticks": ""
            },
            "colorscale": [
             [
              0,
              "#0d0887"
             ],
             [
              0.1111111111111111,
              "#46039f"
             ],
             [
              0.2222222222222222,
              "#7201a8"
             ],
             [
              0.3333333333333333,
              "#9c179e"
             ],
             [
              0.4444444444444444,
              "#bd3786"
             ],
             [
              0.5555555555555556,
              "#d8576b"
             ],
             [
              0.6666666666666666,
              "#ed7953"
             ],
             [
              0.7777777777777778,
              "#fb9f3a"
             ],
             [
              0.8888888888888888,
              "#fdca26"
             ],
             [
              1,
              "#f0f921"
             ]
            ],
            "type": "contour"
           }
          ],
          "contourcarpet": [
           {
            "colorbar": {
             "outlinewidth": 0,
             "ticks": ""
            },
            "type": "contourcarpet"
           }
          ],
          "heatmap": [
           {
            "colorbar": {
             "outlinewidth": 0,
             "ticks": ""
            },
            "colorscale": [
             [
              0,
              "#0d0887"
             ],
             [
              0.1111111111111111,
              "#46039f"
             ],
             [
              0.2222222222222222,
              "#7201a8"
             ],
             [
              0.3333333333333333,
              "#9c179e"
             ],
             [
              0.4444444444444444,
              "#bd3786"
             ],
             [
              0.5555555555555556,
              "#d8576b"
             ],
             [
              0.6666666666666666,
              "#ed7953"
             ],
             [
              0.7777777777777778,
              "#fb9f3a"
             ],
             [
              0.8888888888888888,
              "#fdca26"
             ],
             [
              1,
              "#f0f921"
             ]
            ],
            "type": "heatmap"
           }
          ],
          "heatmapgl": [
           {
            "colorbar": {
             "outlinewidth": 0,
             "ticks": ""
            },
            "colorscale": [
             [
              0,
              "#0d0887"
             ],
             [
              0.1111111111111111,
              "#46039f"
             ],
             [
              0.2222222222222222,
              "#7201a8"
             ],
             [
              0.3333333333333333,
              "#9c179e"
             ],
             [
              0.4444444444444444,
              "#bd3786"
             ],
             [
              0.5555555555555556,
              "#d8576b"
             ],
             [
              0.6666666666666666,
              "#ed7953"
             ],
             [
              0.7777777777777778,
              "#fb9f3a"
             ],
             [
              0.8888888888888888,
              "#fdca26"
             ],
             [
              1,
              "#f0f921"
             ]
            ],
            "type": "heatmapgl"
           }
          ],
          "histogram": [
           {
            "marker": {
             "pattern": {
              "fillmode": "overlay",
              "size": 10,
              "solidity": 0.2
             }
            },
            "type": "histogram"
           }
          ],
          "histogram2d": [
           {
            "colorbar": {
             "outlinewidth": 0,
             "ticks": ""
            },
            "colorscale": [
             [
              0,
              "#0d0887"
             ],
             [
              0.1111111111111111,
              "#46039f"
             ],
             [
              0.2222222222222222,
              "#7201a8"
             ],
             [
              0.3333333333333333,
              "#9c179e"
             ],
             [
              0.4444444444444444,
              "#bd3786"
             ],
             [
              0.5555555555555556,
              "#d8576b"
             ],
             [
              0.6666666666666666,
              "#ed7953"
             ],
             [
              0.7777777777777778,
              "#fb9f3a"
             ],
             [
              0.8888888888888888,
              "#fdca26"
             ],
             [
              1,
              "#f0f921"
             ]
            ],
            "type": "histogram2d"
           }
          ],
          "histogram2dcontour": [
           {
            "colorbar": {
             "outlinewidth": 0,
             "ticks": ""
            },
            "colorscale": [
             [
              0,
              "#0d0887"
             ],
             [
              0.1111111111111111,
              "#46039f"
             ],
             [
              0.2222222222222222,
              "#7201a8"
             ],
             [
              0.3333333333333333,
              "#9c179e"
             ],
             [
              0.4444444444444444,
              "#bd3786"
             ],
             [
              0.5555555555555556,
              "#d8576b"
             ],
             [
              0.6666666666666666,
              "#ed7953"
             ],
             [
              0.7777777777777778,
              "#fb9f3a"
             ],
             [
              0.8888888888888888,
              "#fdca26"
             ],
             [
              1,
              "#f0f921"
             ]
            ],
            "type": "histogram2dcontour"
           }
          ],
          "mesh3d": [
           {
            "colorbar": {
             "outlinewidth": 0,
             "ticks": ""
            },
            "type": "mesh3d"
           }
          ],
          "parcoords": [
           {
            "line": {
             "colorbar": {
              "outlinewidth": 0,
              "ticks": ""
             }
            },
            "type": "parcoords"
           }
          ],
          "pie": [
           {
            "automargin": true,
            "type": "pie"
           }
          ],
          "scatter": [
           {
            "fillpattern": {
             "fillmode": "overlay",
             "size": 10,
             "solidity": 0.2
            },
            "type": "scatter"
           }
          ],
          "scatter3d": [
           {
            "line": {
             "colorbar": {
              "outlinewidth": 0,
              "ticks": ""
             }
            },
            "marker": {
             "colorbar": {
              "outlinewidth": 0,
              "ticks": ""
             }
            },
            "type": "scatter3d"
           }
          ],
          "scattercarpet": [
           {
            "marker": {
             "colorbar": {
              "outlinewidth": 0,
              "ticks": ""
             }
            },
            "type": "scattercarpet"
           }
          ],
          "scattergeo": [
           {
            "marker": {
             "colorbar": {
              "outlinewidth": 0,
              "ticks": ""
             }
            },
            "type": "scattergeo"
           }
          ],
          "scattergl": [
           {
            "marker": {
             "colorbar": {
              "outlinewidth": 0,
              "ticks": ""
             }
            },
            "type": "scattergl"
           }
          ],
          "scattermapbox": [
           {
            "marker": {
             "colorbar": {
              "outlinewidth": 0,
              "ticks": ""
             }
            },
            "type": "scattermapbox"
           }
          ],
          "scatterpolar": [
           {
            "marker": {
             "colorbar": {
              "outlinewidth": 0,
              "ticks": ""
             }
            },
            "type": "scatterpolar"
           }
          ],
          "scatterpolargl": [
           {
            "marker": {
             "colorbar": {
              "outlinewidth": 0,
              "ticks": ""
             }
            },
            "type": "scatterpolargl"
           }
          ],
          "scatterternary": [
           {
            "marker": {
             "colorbar": {
              "outlinewidth": 0,
              "ticks": ""
             }
            },
            "type": "scatterternary"
           }
          ],
          "surface": [
           {
            "colorbar": {
             "outlinewidth": 0,
             "ticks": ""
            },
            "colorscale": [
             [
              0,
              "#0d0887"
             ],
             [
              0.1111111111111111,
              "#46039f"
             ],
             [
              0.2222222222222222,
              "#7201a8"
             ],
             [
              0.3333333333333333,
              "#9c179e"
             ],
             [
              0.4444444444444444,
              "#bd3786"
             ],
             [
              0.5555555555555556,
              "#d8576b"
             ],
             [
              0.6666666666666666,
              "#ed7953"
             ],
             [
              0.7777777777777778,
              "#fb9f3a"
             ],
             [
              0.8888888888888888,
              "#fdca26"
             ],
             [
              1,
              "#f0f921"
             ]
            ],
            "type": "surface"
           }
          ],
          "table": [
           {
            "cells": {
             "fill": {
              "color": "#EBF0F8"
             },
             "line": {
              "color": "white"
             }
            },
            "header": {
             "fill": {
              "color": "#C8D4E3"
             },
             "line": {
              "color": "white"
             }
            },
            "type": "table"
           }
          ]
         },
         "layout": {
          "annotationdefaults": {
           "arrowcolor": "#2a3f5f",
           "arrowhead": 0,
           "arrowwidth": 1
          },
          "autotypenumbers": "strict",
          "coloraxis": {
           "colorbar": {
            "outlinewidth": 0,
            "ticks": ""
           }
          },
          "colorscale": {
           "diverging": [
            [
             0,
             "#8e0152"
            ],
            [
             0.1,
             "#c51b7d"
            ],
            [
             0.2,
             "#de77ae"
            ],
            [
             0.3,
             "#f1b6da"
            ],
            [
             0.4,
             "#fde0ef"
            ],
            [
             0.5,
             "#f7f7f7"
            ],
            [
             0.6,
             "#e6f5d0"
            ],
            [
             0.7,
             "#b8e186"
            ],
            [
             0.8,
             "#7fbc41"
            ],
            [
             0.9,
             "#4d9221"
            ],
            [
             1,
             "#276419"
            ]
           ],
           "sequential": [
            [
             0,
             "#0d0887"
            ],
            [
             0.1111111111111111,
             "#46039f"
            ],
            [
             0.2222222222222222,
             "#7201a8"
            ],
            [
             0.3333333333333333,
             "#9c179e"
            ],
            [
             0.4444444444444444,
             "#bd3786"
            ],
            [
             0.5555555555555556,
             "#d8576b"
            ],
            [
             0.6666666666666666,
             "#ed7953"
            ],
            [
             0.7777777777777778,
             "#fb9f3a"
            ],
            [
             0.8888888888888888,
             "#fdca26"
            ],
            [
             1,
             "#f0f921"
            ]
           ],
           "sequentialminus": [
            [
             0,
             "#0d0887"
            ],
            [
             0.1111111111111111,
             "#46039f"
            ],
            [
             0.2222222222222222,
             "#7201a8"
            ],
            [
             0.3333333333333333,
             "#9c179e"
            ],
            [
             0.4444444444444444,
             "#bd3786"
            ],
            [
             0.5555555555555556,
             "#d8576b"
            ],
            [
             0.6666666666666666,
             "#ed7953"
            ],
            [
             0.7777777777777778,
             "#fb9f3a"
            ],
            [
             0.8888888888888888,
             "#fdca26"
            ],
            [
             1,
             "#f0f921"
            ]
           ]
          },
          "colorway": [
           "#636efa",
           "#EF553B",
           "#00cc96",
           "#ab63fa",
           "#FFA15A",
           "#19d3f3",
           "#FF6692",
           "#B6E880",
           "#FF97FF",
           "#FECB52"
          ],
          "font": {
           "color": "#2a3f5f"
          },
          "geo": {
           "bgcolor": "white",
           "lakecolor": "white",
           "landcolor": "#E5ECF6",
           "showlakes": true,
           "showland": true,
           "subunitcolor": "white"
          },
          "hoverlabel": {
           "align": "left"
          },
          "hovermode": "closest",
          "mapbox": {
           "style": "light"
          },
          "paper_bgcolor": "white",
          "plot_bgcolor": "#E5ECF6",
          "polar": {
           "angularaxis": {
            "gridcolor": "white",
            "linecolor": "white",
            "ticks": ""
           },
           "bgcolor": "#E5ECF6",
           "radialaxis": {
            "gridcolor": "white",
            "linecolor": "white",
            "ticks": ""
           }
          },
          "scene": {
           "xaxis": {
            "backgroundcolor": "#E5ECF6",
            "gridcolor": "white",
            "gridwidth": 2,
            "linecolor": "white",
            "showbackground": true,
            "ticks": "",
            "zerolinecolor": "white"
           },
           "yaxis": {
            "backgroundcolor": "#E5ECF6",
            "gridcolor": "white",
            "gridwidth": 2,
            "linecolor": "white",
            "showbackground": true,
            "ticks": "",
            "zerolinecolor": "white"
           },
           "zaxis": {
            "backgroundcolor": "#E5ECF6",
            "gridcolor": "white",
            "gridwidth": 2,
            "linecolor": "white",
            "showbackground": true,
            "ticks": "",
            "zerolinecolor": "white"
           }
          },
          "shapedefaults": {
           "line": {
            "color": "#2a3f5f"
           }
          },
          "ternary": {
           "aaxis": {
            "gridcolor": "white",
            "linecolor": "white",
            "ticks": ""
           },
           "baxis": {
            "gridcolor": "white",
            "linecolor": "white",
            "ticks": ""
           },
           "bgcolor": "#E5ECF6",
           "caxis": {
            "gridcolor": "white",
            "linecolor": "white",
            "ticks": ""
           }
          },
          "title": {
           "x": 0.05
          },
          "xaxis": {
           "automargin": true,
           "gridcolor": "white",
           "linecolor": "white",
           "ticks": "",
           "title": {
            "standoff": 15
           },
           "zerolinecolor": "white",
           "zerolinewidth": 2
          },
          "yaxis": {
           "automargin": true,
           "gridcolor": "white",
           "linecolor": "white",
           "ticks": "",
           "title": {
            "standoff": 15
           },
           "zerolinecolor": "white",
           "zerolinewidth": 2
          }
         }
        },
        "xaxis": {
         "anchor": "y",
         "domain": [
          0,
          1
         ],
         "title": {
          "text": "countries"
         }
        },
        "yaxis": {
         "anchor": "x",
         "domain": [
          0,
          1
         ],
         "title": {
          "text": "counts"
         }
        }
       }
      }
     },
     "metadata": {},
     "output_type": "display_data"
    }
   ],
   "source": [
    "fig = px.bar(top_20_countries_df, x='countries', y='counts')\n",
    "fig.show()"
   ]
  },
  {
   "cell_type": "code",
   "execution_count": 106,
   "metadata": {},
   "outputs": [],
   "source": [
    "top_20_countries_df.to_csv('../data/processed/top_20_countries.csv')"
   ]
  },
  {
   "cell_type": "markdown",
   "metadata": {},
   "source": [
    "## By Year"
   ]
  },
  {
   "cell_type": "code",
   "execution_count": 50,
   "metadata": {},
   "outputs": [
    {
     "data": {
      "text/html": [
       "<div>\n",
       "<style scoped>\n",
       "    .dataframe tbody tr th:only-of-type {\n",
       "        vertical-align: middle;\n",
       "    }\n",
       "\n",
       "    .dataframe tbody tr th {\n",
       "        vertical-align: top;\n",
       "    }\n",
       "\n",
       "    .dataframe thead th {\n",
       "        text-align: right;\n",
       "    }\n",
       "</style>\n",
       "<table border=\"1\" class=\"dataframe\">\n",
       "  <thead>\n",
       "    <tr style=\"text-align: right;\">\n",
       "      <th></th>\n",
       "      <th>countries</th>\n",
       "      <th>Year</th>\n",
       "      <th>Document Type</th>\n",
       "      <th>counts</th>\n",
       "    </tr>\n",
       "  </thead>\n",
       "  <tbody>\n",
       "    <tr>\n",
       "      <th>0</th>\n",
       "      <td>Canada</td>\n",
       "      <td>2003</td>\n",
       "      <td>Article</td>\n",
       "      <td>1</td>\n",
       "    </tr>\n",
       "    <tr>\n",
       "      <th>1</th>\n",
       "      <td>Canada</td>\n",
       "      <td>2008</td>\n",
       "      <td>Article</td>\n",
       "      <td>1</td>\n",
       "    </tr>\n",
       "    <tr>\n",
       "      <th>2</th>\n",
       "      <td>Canada</td>\n",
       "      <td>2015</td>\n",
       "      <td>Article</td>\n",
       "      <td>2</td>\n",
       "    </tr>\n",
       "    <tr>\n",
       "      <th>3</th>\n",
       "      <td>Canada</td>\n",
       "      <td>2015</td>\n",
       "      <td>Review</td>\n",
       "      <td>1</td>\n",
       "    </tr>\n",
       "    <tr>\n",
       "      <th>4</th>\n",
       "      <td>Canada</td>\n",
       "      <td>2018</td>\n",
       "      <td>Letter</td>\n",
       "      <td>1</td>\n",
       "    </tr>\n",
       "    <tr>\n",
       "      <th>...</th>\n",
       "      <td>...</td>\n",
       "      <td>...</td>\n",
       "      <td>...</td>\n",
       "      <td>...</td>\n",
       "    </tr>\n",
       "    <tr>\n",
       "      <th>600</th>\n",
       "      <td>United States</td>\n",
       "      <td>2022</td>\n",
       "      <td>Article</td>\n",
       "      <td>14</td>\n",
       "    </tr>\n",
       "    <tr>\n",
       "      <th>601</th>\n",
       "      <td>United States</td>\n",
       "      <td>2022</td>\n",
       "      <td>Book Chapter</td>\n",
       "      <td>1</td>\n",
       "    </tr>\n",
       "    <tr>\n",
       "      <th>602</th>\n",
       "      <td>United States</td>\n",
       "      <td>2022</td>\n",
       "      <td>Note</td>\n",
       "      <td>2</td>\n",
       "    </tr>\n",
       "    <tr>\n",
       "      <th>603</th>\n",
       "      <td>United States</td>\n",
       "      <td>2022</td>\n",
       "      <td>Review</td>\n",
       "      <td>2</td>\n",
       "    </tr>\n",
       "    <tr>\n",
       "      <th>604</th>\n",
       "      <td>United States</td>\n",
       "      <td>2023</td>\n",
       "      <td>Article</td>\n",
       "      <td>3</td>\n",
       "    </tr>\n",
       "  </tbody>\n",
       "</table>\n",
       "<p>605 rows × 4 columns</p>\n",
       "</div>"
      ],
      "text/plain": [
       "         countries  Year Document Type  counts\n",
       "0           Canada  2003       Article       1\n",
       "1           Canada  2008       Article       1\n",
       "2           Canada  2015       Article       2\n",
       "3           Canada  2015        Review       1\n",
       "4           Canada  2018        Letter       1\n",
       "..             ...   ...           ...     ...\n",
       "600  United States  2022       Article      14\n",
       "601  United States  2022  Book Chapter       1\n",
       "602  United States  2022          Note       2\n",
       "603  United States  2022        Review       2\n",
       "604  United States  2023       Article       3\n",
       "\n",
       "[605 rows x 4 columns]"
      ]
     },
     "execution_count": 50,
     "metadata": {},
     "output_type": "execute_result"
    }
   ],
   "source": [
    "df_num_publications['counts']=1\n",
    "df_num_publications_yr = df_num_publications.groupby(['countries','Year','Document Type'])['countries'].count().reset_index(name='counts')\n",
    "df_num_publications_yr\n"
   ]
  },
  {
   "cell_type": "code",
   "execution_count": 51,
   "metadata": {},
   "outputs": [],
   "source": [
    "comp_list=['United Kingdom','United States']\n",
    "temp_df = df_num_publications_yr[df_num_publications_yr.countries.isin(comp_list)]\n"
   ]
  },
  {
   "cell_type": "code",
   "execution_count": 52,
   "metadata": {},
   "outputs": [
    {
     "data": {
      "text/html": [
       "<div>\n",
       "<style scoped>\n",
       "    .dataframe tbody tr th:only-of-type {\n",
       "        vertical-align: middle;\n",
       "    }\n",
       "\n",
       "    .dataframe tbody tr th {\n",
       "        vertical-align: top;\n",
       "    }\n",
       "\n",
       "    .dataframe thead th {\n",
       "        text-align: right;\n",
       "    }\n",
       "</style>\n",
       "<table border=\"1\" class=\"dataframe\">\n",
       "  <thead>\n",
       "    <tr style=\"text-align: right;\">\n",
       "      <th></th>\n",
       "      <th>countries</th>\n",
       "      <th>Year</th>\n",
       "      <th>Document Type</th>\n",
       "      <th>counts</th>\n",
       "    </tr>\n",
       "  </thead>\n",
       "  <tbody>\n",
       "    <tr>\n",
       "      <th>447</th>\n",
       "      <td>United Kingdom</td>\n",
       "      <td>1972</td>\n",
       "      <td>Article</td>\n",
       "      <td>3</td>\n",
       "    </tr>\n",
       "    <tr>\n",
       "      <th>448</th>\n",
       "      <td>United Kingdom</td>\n",
       "      <td>1974</td>\n",
       "      <td>Article</td>\n",
       "      <td>1</td>\n",
       "    </tr>\n",
       "    <tr>\n",
       "      <th>449</th>\n",
       "      <td>United Kingdom</td>\n",
       "      <td>1976</td>\n",
       "      <td>Article</td>\n",
       "      <td>1</td>\n",
       "    </tr>\n",
       "    <tr>\n",
       "      <th>450</th>\n",
       "      <td>United Kingdom</td>\n",
       "      <td>1977</td>\n",
       "      <td>Article</td>\n",
       "      <td>1</td>\n",
       "    </tr>\n",
       "    <tr>\n",
       "      <th>451</th>\n",
       "      <td>United Kingdom</td>\n",
       "      <td>1979</td>\n",
       "      <td>Article</td>\n",
       "      <td>1</td>\n",
       "    </tr>\n",
       "    <tr>\n",
       "      <th>...</th>\n",
       "      <td>...</td>\n",
       "      <td>...</td>\n",
       "      <td>...</td>\n",
       "      <td>...</td>\n",
       "    </tr>\n",
       "    <tr>\n",
       "      <th>600</th>\n",
       "      <td>United States</td>\n",
       "      <td>2022</td>\n",
       "      <td>Article</td>\n",
       "      <td>14</td>\n",
       "    </tr>\n",
       "    <tr>\n",
       "      <th>601</th>\n",
       "      <td>United States</td>\n",
       "      <td>2022</td>\n",
       "      <td>Book Chapter</td>\n",
       "      <td>1</td>\n",
       "    </tr>\n",
       "    <tr>\n",
       "      <th>602</th>\n",
       "      <td>United States</td>\n",
       "      <td>2022</td>\n",
       "      <td>Note</td>\n",
       "      <td>2</td>\n",
       "    </tr>\n",
       "    <tr>\n",
       "      <th>603</th>\n",
       "      <td>United States</td>\n",
       "      <td>2022</td>\n",
       "      <td>Review</td>\n",
       "      <td>2</td>\n",
       "    </tr>\n",
       "    <tr>\n",
       "      <th>604</th>\n",
       "      <td>United States</td>\n",
       "      <td>2023</td>\n",
       "      <td>Article</td>\n",
       "      <td>3</td>\n",
       "    </tr>\n",
       "  </tbody>\n",
       "</table>\n",
       "<p>158 rows × 4 columns</p>\n",
       "</div>"
      ],
      "text/plain": [
       "          countries  Year Document Type  counts\n",
       "447  United Kingdom  1972       Article       3\n",
       "448  United Kingdom  1974       Article       1\n",
       "449  United Kingdom  1976       Article       1\n",
       "450  United Kingdom  1977       Article       1\n",
       "451  United Kingdom  1979       Article       1\n",
       "..              ...   ...           ...     ...\n",
       "600   United States  2022       Article      14\n",
       "601   United States  2022  Book Chapter       1\n",
       "602   United States  2022          Note       2\n",
       "603   United States  2022        Review       2\n",
       "604   United States  2023       Article       3\n",
       "\n",
       "[158 rows x 4 columns]"
      ]
     },
     "execution_count": 52,
     "metadata": {},
     "output_type": "execute_result"
    }
   ],
   "source": [
    "temp_df"
   ]
  },
  {
   "cell_type": "code",
   "execution_count": 53,
   "metadata": {},
   "outputs": [
    {
     "data": {
      "application/vnd.plotly.v1+json": {
       "config": {
        "plotlyServerURL": "https://plot.ly"
       },
       "data": [
        {
         "name": "United Kingdom",
         "type": "bar",
         "x": [
          1972,
          1974,
          1976,
          1977,
          1979,
          1982,
          1984,
          1986,
          1987,
          1990,
          1993,
          1994,
          1995,
          1996,
          1997,
          2001,
          2001,
          2001,
          2002,
          2005,
          2006,
          2007,
          2007,
          2008,
          2009,
          2009,
          2011,
          2012,
          2013,
          2015,
          2015,
          2016,
          2016,
          2017,
          2017,
          2018,
          2018,
          2018,
          2019,
          2020,
          2021,
          2021,
          2021,
          2022,
          2023,
          2023
         ],
         "y": [
          3,
          1,
          1,
          1,
          1,
          1,
          1,
          3,
          1,
          1,
          1,
          3,
          1,
          2,
          1,
          1,
          1,
          1,
          1,
          2,
          1,
          1,
          1,
          1,
          1,
          1,
          1,
          1,
          1,
          1,
          1,
          1,
          1,
          2,
          1,
          3,
          1,
          1,
          3,
          1,
          3,
          1,
          1,
          1,
          1,
          1
         ]
        },
        {
         "name": "United States",
         "type": "bar",
         "x": [
          1954,
          1967,
          1969,
          1971,
          1972,
          1973,
          1974,
          1975,
          1976,
          1976,
          1977,
          1977,
          1978,
          1978,
          1979,
          1979,
          1980,
          1980,
          1981,
          1982,
          1982,
          1983,
          1984,
          1986,
          1987,
          1987,
          1988,
          1988,
          1989,
          1990,
          1991,
          1991,
          1992,
          1992,
          1993,
          1993,
          1994,
          1994,
          1994,
          1994,
          1995,
          1995,
          1996,
          1997,
          1997,
          1998,
          1998,
          1999,
          1999,
          2000,
          2001,
          2001,
          2002,
          2002,
          2003,
          2004,
          2004,
          2005,
          2005,
          2005,
          2006,
          2006,
          2006,
          2007,
          2007,
          2007,
          2008,
          2008,
          2009,
          2010,
          2010,
          2010,
          2010,
          2011,
          2011,
          2011,
          2012,
          2012,
          2012,
          2013,
          2013,
          2014,
          2014,
          2015,
          2015,
          2015,
          2016,
          2016,
          2016,
          2017,
          2017,
          2017,
          2018,
          2018,
          2019,
          2019,
          2019,
          2019,
          2020,
          2020,
          2020,
          2020,
          2021,
          2021,
          2021,
          2021,
          2021,
          2022,
          2022,
          2022,
          2022,
          2023
         ],
         "y": [
          1,
          1,
          1,
          4,
          2,
          5,
          5,
          9,
          6,
          1,
          6,
          1,
          4,
          1,
          4,
          1,
          6,
          1,
          4,
          6,
          1,
          5,
          3,
          5,
          11,
          1,
          4,
          1,
          6,
          3,
          8,
          1,
          2,
          1,
          3,
          2,
          5,
          1,
          1,
          2,
          2,
          1,
          3,
          5,
          2,
          1,
          1,
          3,
          2,
          3,
          1,
          1,
          2,
          1,
          2,
          2,
          1,
          3,
          3,
          2,
          1,
          1,
          2,
          2,
          1,
          1,
          3,
          1,
          2,
          1,
          2,
          1,
          1,
          6,
          1,
          2,
          1,
          1,
          3,
          5,
          1,
          1,
          5,
          6,
          1,
          1,
          11,
          2,
          3,
          8,
          1,
          5,
          9,
          1,
          9,
          1,
          1,
          2,
          5,
          1,
          2,
          1,
          8,
          1,
          1,
          1,
          3,
          14,
          1,
          2,
          2,
          3
         ]
        }
       ],
       "layout": {
        "template": {
         "data": {
          "bar": [
           {
            "error_x": {
             "color": "#2a3f5f"
            },
            "error_y": {
             "color": "#2a3f5f"
            },
            "marker": {
             "line": {
              "color": "#E5ECF6",
              "width": 0.5
             },
             "pattern": {
              "fillmode": "overlay",
              "size": 10,
              "solidity": 0.2
             }
            },
            "type": "bar"
           }
          ],
          "barpolar": [
           {
            "marker": {
             "line": {
              "color": "#E5ECF6",
              "width": 0.5
             },
             "pattern": {
              "fillmode": "overlay",
              "size": 10,
              "solidity": 0.2
             }
            },
            "type": "barpolar"
           }
          ],
          "carpet": [
           {
            "aaxis": {
             "endlinecolor": "#2a3f5f",
             "gridcolor": "white",
             "linecolor": "white",
             "minorgridcolor": "white",
             "startlinecolor": "#2a3f5f"
            },
            "baxis": {
             "endlinecolor": "#2a3f5f",
             "gridcolor": "white",
             "linecolor": "white",
             "minorgridcolor": "white",
             "startlinecolor": "#2a3f5f"
            },
            "type": "carpet"
           }
          ],
          "choropleth": [
           {
            "colorbar": {
             "outlinewidth": 0,
             "ticks": ""
            },
            "type": "choropleth"
           }
          ],
          "contour": [
           {
            "colorbar": {
             "outlinewidth": 0,
             "ticks": ""
            },
            "colorscale": [
             [
              0,
              "#0d0887"
             ],
             [
              0.1111111111111111,
              "#46039f"
             ],
             [
              0.2222222222222222,
              "#7201a8"
             ],
             [
              0.3333333333333333,
              "#9c179e"
             ],
             [
              0.4444444444444444,
              "#bd3786"
             ],
             [
              0.5555555555555556,
              "#d8576b"
             ],
             [
              0.6666666666666666,
              "#ed7953"
             ],
             [
              0.7777777777777778,
              "#fb9f3a"
             ],
             [
              0.8888888888888888,
              "#fdca26"
             ],
             [
              1,
              "#f0f921"
             ]
            ],
            "type": "contour"
           }
          ],
          "contourcarpet": [
           {
            "colorbar": {
             "outlinewidth": 0,
             "ticks": ""
            },
            "type": "contourcarpet"
           }
          ],
          "heatmap": [
           {
            "colorbar": {
             "outlinewidth": 0,
             "ticks": ""
            },
            "colorscale": [
             [
              0,
              "#0d0887"
             ],
             [
              0.1111111111111111,
              "#46039f"
             ],
             [
              0.2222222222222222,
              "#7201a8"
             ],
             [
              0.3333333333333333,
              "#9c179e"
             ],
             [
              0.4444444444444444,
              "#bd3786"
             ],
             [
              0.5555555555555556,
              "#d8576b"
             ],
             [
              0.6666666666666666,
              "#ed7953"
             ],
             [
              0.7777777777777778,
              "#fb9f3a"
             ],
             [
              0.8888888888888888,
              "#fdca26"
             ],
             [
              1,
              "#f0f921"
             ]
            ],
            "type": "heatmap"
           }
          ],
          "heatmapgl": [
           {
            "colorbar": {
             "outlinewidth": 0,
             "ticks": ""
            },
            "colorscale": [
             [
              0,
              "#0d0887"
             ],
             [
              0.1111111111111111,
              "#46039f"
             ],
             [
              0.2222222222222222,
              "#7201a8"
             ],
             [
              0.3333333333333333,
              "#9c179e"
             ],
             [
              0.4444444444444444,
              "#bd3786"
             ],
             [
              0.5555555555555556,
              "#d8576b"
             ],
             [
              0.6666666666666666,
              "#ed7953"
             ],
             [
              0.7777777777777778,
              "#fb9f3a"
             ],
             [
              0.8888888888888888,
              "#fdca26"
             ],
             [
              1,
              "#f0f921"
             ]
            ],
            "type": "heatmapgl"
           }
          ],
          "histogram": [
           {
            "marker": {
             "pattern": {
              "fillmode": "overlay",
              "size": 10,
              "solidity": 0.2
             }
            },
            "type": "histogram"
           }
          ],
          "histogram2d": [
           {
            "colorbar": {
             "outlinewidth": 0,
             "ticks": ""
            },
            "colorscale": [
             [
              0,
              "#0d0887"
             ],
             [
              0.1111111111111111,
              "#46039f"
             ],
             [
              0.2222222222222222,
              "#7201a8"
             ],
             [
              0.3333333333333333,
              "#9c179e"
             ],
             [
              0.4444444444444444,
              "#bd3786"
             ],
             [
              0.5555555555555556,
              "#d8576b"
             ],
             [
              0.6666666666666666,
              "#ed7953"
             ],
             [
              0.7777777777777778,
              "#fb9f3a"
             ],
             [
              0.8888888888888888,
              "#fdca26"
             ],
             [
              1,
              "#f0f921"
             ]
            ],
            "type": "histogram2d"
           }
          ],
          "histogram2dcontour": [
           {
            "colorbar": {
             "outlinewidth": 0,
             "ticks": ""
            },
            "colorscale": [
             [
              0,
              "#0d0887"
             ],
             [
              0.1111111111111111,
              "#46039f"
             ],
             [
              0.2222222222222222,
              "#7201a8"
             ],
             [
              0.3333333333333333,
              "#9c179e"
             ],
             [
              0.4444444444444444,
              "#bd3786"
             ],
             [
              0.5555555555555556,
              "#d8576b"
             ],
             [
              0.6666666666666666,
              "#ed7953"
             ],
             [
              0.7777777777777778,
              "#fb9f3a"
             ],
             [
              0.8888888888888888,
              "#fdca26"
             ],
             [
              1,
              "#f0f921"
             ]
            ],
            "type": "histogram2dcontour"
           }
          ],
          "mesh3d": [
           {
            "colorbar": {
             "outlinewidth": 0,
             "ticks": ""
            },
            "type": "mesh3d"
           }
          ],
          "parcoords": [
           {
            "line": {
             "colorbar": {
              "outlinewidth": 0,
              "ticks": ""
             }
            },
            "type": "parcoords"
           }
          ],
          "pie": [
           {
            "automargin": true,
            "type": "pie"
           }
          ],
          "scatter": [
           {
            "fillpattern": {
             "fillmode": "overlay",
             "size": 10,
             "solidity": 0.2
            },
            "type": "scatter"
           }
          ],
          "scatter3d": [
           {
            "line": {
             "colorbar": {
              "outlinewidth": 0,
              "ticks": ""
             }
            },
            "marker": {
             "colorbar": {
              "outlinewidth": 0,
              "ticks": ""
             }
            },
            "type": "scatter3d"
           }
          ],
          "scattercarpet": [
           {
            "marker": {
             "colorbar": {
              "outlinewidth": 0,
              "ticks": ""
             }
            },
            "type": "scattercarpet"
           }
          ],
          "scattergeo": [
           {
            "marker": {
             "colorbar": {
              "outlinewidth": 0,
              "ticks": ""
             }
            },
            "type": "scattergeo"
           }
          ],
          "scattergl": [
           {
            "marker": {
             "colorbar": {
              "outlinewidth": 0,
              "ticks": ""
             }
            },
            "type": "scattergl"
           }
          ],
          "scattermapbox": [
           {
            "marker": {
             "colorbar": {
              "outlinewidth": 0,
              "ticks": ""
             }
            },
            "type": "scattermapbox"
           }
          ],
          "scatterpolar": [
           {
            "marker": {
             "colorbar": {
              "outlinewidth": 0,
              "ticks": ""
             }
            },
            "type": "scatterpolar"
           }
          ],
          "scatterpolargl": [
           {
            "marker": {
             "colorbar": {
              "outlinewidth": 0,
              "ticks": ""
             }
            },
            "type": "scatterpolargl"
           }
          ],
          "scatterternary": [
           {
            "marker": {
             "colorbar": {
              "outlinewidth": 0,
              "ticks": ""
             }
            },
            "type": "scatterternary"
           }
          ],
          "surface": [
           {
            "colorbar": {
             "outlinewidth": 0,
             "ticks": ""
            },
            "colorscale": [
             [
              0,
              "#0d0887"
             ],
             [
              0.1111111111111111,
              "#46039f"
             ],
             [
              0.2222222222222222,
              "#7201a8"
             ],
             [
              0.3333333333333333,
              "#9c179e"
             ],
             [
              0.4444444444444444,
              "#bd3786"
             ],
             [
              0.5555555555555556,
              "#d8576b"
             ],
             [
              0.6666666666666666,
              "#ed7953"
             ],
             [
              0.7777777777777778,
              "#fb9f3a"
             ],
             [
              0.8888888888888888,
              "#fdca26"
             ],
             [
              1,
              "#f0f921"
             ]
            ],
            "type": "surface"
           }
          ],
          "table": [
           {
            "cells": {
             "fill": {
              "color": "#EBF0F8"
             },
             "line": {
              "color": "white"
             }
            },
            "header": {
             "fill": {
              "color": "#C8D4E3"
             },
             "line": {
              "color": "white"
             }
            },
            "type": "table"
           }
          ]
         },
         "layout": {
          "annotationdefaults": {
           "arrowcolor": "#2a3f5f",
           "arrowhead": 0,
           "arrowwidth": 1
          },
          "autotypenumbers": "strict",
          "coloraxis": {
           "colorbar": {
            "outlinewidth": 0,
            "ticks": ""
           }
          },
          "colorscale": {
           "diverging": [
            [
             0,
             "#8e0152"
            ],
            [
             0.1,
             "#c51b7d"
            ],
            [
             0.2,
             "#de77ae"
            ],
            [
             0.3,
             "#f1b6da"
            ],
            [
             0.4,
             "#fde0ef"
            ],
            [
             0.5,
             "#f7f7f7"
            ],
            [
             0.6,
             "#e6f5d0"
            ],
            [
             0.7,
             "#b8e186"
            ],
            [
             0.8,
             "#7fbc41"
            ],
            [
             0.9,
             "#4d9221"
            ],
            [
             1,
             "#276419"
            ]
           ],
           "sequential": [
            [
             0,
             "#0d0887"
            ],
            [
             0.1111111111111111,
             "#46039f"
            ],
            [
             0.2222222222222222,
             "#7201a8"
            ],
            [
             0.3333333333333333,
             "#9c179e"
            ],
            [
             0.4444444444444444,
             "#bd3786"
            ],
            [
             0.5555555555555556,
             "#d8576b"
            ],
            [
             0.6666666666666666,
             "#ed7953"
            ],
            [
             0.7777777777777778,
             "#fb9f3a"
            ],
            [
             0.8888888888888888,
             "#fdca26"
            ],
            [
             1,
             "#f0f921"
            ]
           ],
           "sequentialminus": [
            [
             0,
             "#0d0887"
            ],
            [
             0.1111111111111111,
             "#46039f"
            ],
            [
             0.2222222222222222,
             "#7201a8"
            ],
            [
             0.3333333333333333,
             "#9c179e"
            ],
            [
             0.4444444444444444,
             "#bd3786"
            ],
            [
             0.5555555555555556,
             "#d8576b"
            ],
            [
             0.6666666666666666,
             "#ed7953"
            ],
            [
             0.7777777777777778,
             "#fb9f3a"
            ],
            [
             0.8888888888888888,
             "#fdca26"
            ],
            [
             1,
             "#f0f921"
            ]
           ]
          },
          "colorway": [
           "#636efa",
           "#EF553B",
           "#00cc96",
           "#ab63fa",
           "#FFA15A",
           "#19d3f3",
           "#FF6692",
           "#B6E880",
           "#FF97FF",
           "#FECB52"
          ],
          "font": {
           "color": "#2a3f5f"
          },
          "geo": {
           "bgcolor": "white",
           "lakecolor": "white",
           "landcolor": "#E5ECF6",
           "showlakes": true,
           "showland": true,
           "subunitcolor": "white"
          },
          "hoverlabel": {
           "align": "left"
          },
          "hovermode": "closest",
          "mapbox": {
           "style": "light"
          },
          "paper_bgcolor": "white",
          "plot_bgcolor": "#E5ECF6",
          "polar": {
           "angularaxis": {
            "gridcolor": "white",
            "linecolor": "white",
            "ticks": ""
           },
           "bgcolor": "#E5ECF6",
           "radialaxis": {
            "gridcolor": "white",
            "linecolor": "white",
            "ticks": ""
           }
          },
          "scene": {
           "xaxis": {
            "backgroundcolor": "#E5ECF6",
            "gridcolor": "white",
            "gridwidth": 2,
            "linecolor": "white",
            "showbackground": true,
            "ticks": "",
            "zerolinecolor": "white"
           },
           "yaxis": {
            "backgroundcolor": "#E5ECF6",
            "gridcolor": "white",
            "gridwidth": 2,
            "linecolor": "white",
            "showbackground": true,
            "ticks": "",
            "zerolinecolor": "white"
           },
           "zaxis": {
            "backgroundcolor": "#E5ECF6",
            "gridcolor": "white",
            "gridwidth": 2,
            "linecolor": "white",
            "showbackground": true,
            "ticks": "",
            "zerolinecolor": "white"
           }
          },
          "shapedefaults": {
           "line": {
            "color": "#2a3f5f"
           }
          },
          "ternary": {
           "aaxis": {
            "gridcolor": "white",
            "linecolor": "white",
            "ticks": ""
           },
           "baxis": {
            "gridcolor": "white",
            "linecolor": "white",
            "ticks": ""
           },
           "bgcolor": "#E5ECF6",
           "caxis": {
            "gridcolor": "white",
            "linecolor": "white",
            "ticks": ""
           }
          },
          "title": {
           "x": 0.05
          },
          "xaxis": {
           "automargin": true,
           "gridcolor": "white",
           "linecolor": "white",
           "ticks": "",
           "title": {
            "standoff": 15
           },
           "zerolinecolor": "white",
           "zerolinewidth": 2
          },
          "yaxis": {
           "automargin": true,
           "gridcolor": "white",
           "linecolor": "white",
           "ticks": "",
           "title": {
            "standoff": 15
           },
           "zerolinecolor": "white",
           "zerolinewidth": 2
          }
         }
        }
       }
      }
     },
     "metadata": {},
     "output_type": "display_data"
    }
   ],
   "source": [
    "fig = go.Figure()\n",
    "\n",
    "for y in temp_df.countries.unique():\n",
    "    dfy = temp_df[temp_df.countries == y]\n",
    "    fig.add_bar(x = dfy.Year, y = dfy.counts, name = str(y))\n",
    "\n",
    "fig.show()"
   ]
  },
  {
   "cell_type": "code",
   "execution_count": 54,
   "metadata": {},
   "outputs": [],
   "source": [
    "def comp_country_publications_yr(country1, country2):\n",
    "    comp_list=[country1, country2]\n",
    "    #create dataframe with values of chosen countries\n",
    "    temp_df = df_num_publications_yr[df_num_publications_yr.countries.isin(comp_list)]\n",
    "    #create grouped bar graph\n",
    "    fig = go.Figure()\n",
    "    \n",
    "    for y in temp_df.countries.unique():\n",
    "        dfy = temp_df[temp_df.countries == y]\n",
    "        fig.add_bar(x = dfy.Year, y = dfy.counts, name = str(y))\n",
    "    \n",
    "    return(fig.show())\n",
    "    "
   ]
  },
  {
   "cell_type": "code",
   "execution_count": 55,
   "metadata": {},
   "outputs": [
    {
     "data": {
      "application/vnd.plotly.v1+json": {
       "config": {
        "plotlyServerURL": "https://plot.ly"
       },
       "data": [
        {
         "name": "Germany",
         "type": "bar",
         "x": [
          1977,
          1983,
          1985,
          1999,
          2001,
          2004,
          2007,
          2008,
          2011,
          2019,
          2019,
          2021,
          2022,
          2023
         ],
         "y": [
          1,
          1,
          1,
          1,
          1,
          1,
          1,
          1,
          1,
          1,
          1,
          1,
          1,
          1
         ]
        },
        {
         "name": "United States",
         "type": "bar",
         "x": [
          1954,
          1967,
          1969,
          1971,
          1972,
          1973,
          1974,
          1975,
          1976,
          1976,
          1977,
          1977,
          1978,
          1978,
          1979,
          1979,
          1980,
          1980,
          1981,
          1982,
          1982,
          1983,
          1984,
          1986,
          1987,
          1987,
          1988,
          1988,
          1989,
          1990,
          1991,
          1991,
          1992,
          1992,
          1993,
          1993,
          1994,
          1994,
          1994,
          1994,
          1995,
          1995,
          1996,
          1997,
          1997,
          1998,
          1998,
          1999,
          1999,
          2000,
          2001,
          2001,
          2002,
          2002,
          2003,
          2004,
          2004,
          2005,
          2005,
          2005,
          2006,
          2006,
          2006,
          2007,
          2007,
          2007,
          2008,
          2008,
          2009,
          2010,
          2010,
          2010,
          2010,
          2011,
          2011,
          2011,
          2012,
          2012,
          2012,
          2013,
          2013,
          2014,
          2014,
          2015,
          2015,
          2015,
          2016,
          2016,
          2016,
          2017,
          2017,
          2017,
          2018,
          2018,
          2019,
          2019,
          2019,
          2019,
          2020,
          2020,
          2020,
          2020,
          2021,
          2021,
          2021,
          2021,
          2021,
          2022,
          2022,
          2022,
          2022,
          2023
         ],
         "y": [
          1,
          1,
          1,
          4,
          2,
          5,
          5,
          9,
          6,
          1,
          6,
          1,
          4,
          1,
          4,
          1,
          6,
          1,
          4,
          6,
          1,
          5,
          3,
          5,
          11,
          1,
          4,
          1,
          6,
          3,
          8,
          1,
          2,
          1,
          3,
          2,
          5,
          1,
          1,
          2,
          2,
          1,
          3,
          5,
          2,
          1,
          1,
          3,
          2,
          3,
          1,
          1,
          2,
          1,
          2,
          2,
          1,
          3,
          3,
          2,
          1,
          1,
          2,
          2,
          1,
          1,
          3,
          1,
          2,
          1,
          2,
          1,
          1,
          6,
          1,
          2,
          1,
          1,
          3,
          5,
          1,
          1,
          5,
          6,
          1,
          1,
          11,
          2,
          3,
          8,
          1,
          5,
          9,
          1,
          9,
          1,
          1,
          2,
          5,
          1,
          2,
          1,
          8,
          1,
          1,
          1,
          3,
          14,
          1,
          2,
          2,
          3
         ]
        }
       ],
       "layout": {
        "template": {
         "data": {
          "bar": [
           {
            "error_x": {
             "color": "#2a3f5f"
            },
            "error_y": {
             "color": "#2a3f5f"
            },
            "marker": {
             "line": {
              "color": "#E5ECF6",
              "width": 0.5
             },
             "pattern": {
              "fillmode": "overlay",
              "size": 10,
              "solidity": 0.2
             }
            },
            "type": "bar"
           }
          ],
          "barpolar": [
           {
            "marker": {
             "line": {
              "color": "#E5ECF6",
              "width": 0.5
             },
             "pattern": {
              "fillmode": "overlay",
              "size": 10,
              "solidity": 0.2
             }
            },
            "type": "barpolar"
           }
          ],
          "carpet": [
           {
            "aaxis": {
             "endlinecolor": "#2a3f5f",
             "gridcolor": "white",
             "linecolor": "white",
             "minorgridcolor": "white",
             "startlinecolor": "#2a3f5f"
            },
            "baxis": {
             "endlinecolor": "#2a3f5f",
             "gridcolor": "white",
             "linecolor": "white",
             "minorgridcolor": "white",
             "startlinecolor": "#2a3f5f"
            },
            "type": "carpet"
           }
          ],
          "choropleth": [
           {
            "colorbar": {
             "outlinewidth": 0,
             "ticks": ""
            },
            "type": "choropleth"
           }
          ],
          "contour": [
           {
            "colorbar": {
             "outlinewidth": 0,
             "ticks": ""
            },
            "colorscale": [
             [
              0,
              "#0d0887"
             ],
             [
              0.1111111111111111,
              "#46039f"
             ],
             [
              0.2222222222222222,
              "#7201a8"
             ],
             [
              0.3333333333333333,
              "#9c179e"
             ],
             [
              0.4444444444444444,
              "#bd3786"
             ],
             [
              0.5555555555555556,
              "#d8576b"
             ],
             [
              0.6666666666666666,
              "#ed7953"
             ],
             [
              0.7777777777777778,
              "#fb9f3a"
             ],
             [
              0.8888888888888888,
              "#fdca26"
             ],
             [
              1,
              "#f0f921"
             ]
            ],
            "type": "contour"
           }
          ],
          "contourcarpet": [
           {
            "colorbar": {
             "outlinewidth": 0,
             "ticks": ""
            },
            "type": "contourcarpet"
           }
          ],
          "heatmap": [
           {
            "colorbar": {
             "outlinewidth": 0,
             "ticks": ""
            },
            "colorscale": [
             [
              0,
              "#0d0887"
             ],
             [
              0.1111111111111111,
              "#46039f"
             ],
             [
              0.2222222222222222,
              "#7201a8"
             ],
             [
              0.3333333333333333,
              "#9c179e"
             ],
             [
              0.4444444444444444,
              "#bd3786"
             ],
             [
              0.5555555555555556,
              "#d8576b"
             ],
             [
              0.6666666666666666,
              "#ed7953"
             ],
             [
              0.7777777777777778,
              "#fb9f3a"
             ],
             [
              0.8888888888888888,
              "#fdca26"
             ],
             [
              1,
              "#f0f921"
             ]
            ],
            "type": "heatmap"
           }
          ],
          "heatmapgl": [
           {
            "colorbar": {
             "outlinewidth": 0,
             "ticks": ""
            },
            "colorscale": [
             [
              0,
              "#0d0887"
             ],
             [
              0.1111111111111111,
              "#46039f"
             ],
             [
              0.2222222222222222,
              "#7201a8"
             ],
             [
              0.3333333333333333,
              "#9c179e"
             ],
             [
              0.4444444444444444,
              "#bd3786"
             ],
             [
              0.5555555555555556,
              "#d8576b"
             ],
             [
              0.6666666666666666,
              "#ed7953"
             ],
             [
              0.7777777777777778,
              "#fb9f3a"
             ],
             [
              0.8888888888888888,
              "#fdca26"
             ],
             [
              1,
              "#f0f921"
             ]
            ],
            "type": "heatmapgl"
           }
          ],
          "histogram": [
           {
            "marker": {
             "pattern": {
              "fillmode": "overlay",
              "size": 10,
              "solidity": 0.2
             }
            },
            "type": "histogram"
           }
          ],
          "histogram2d": [
           {
            "colorbar": {
             "outlinewidth": 0,
             "ticks": ""
            },
            "colorscale": [
             [
              0,
              "#0d0887"
             ],
             [
              0.1111111111111111,
              "#46039f"
             ],
             [
              0.2222222222222222,
              "#7201a8"
             ],
             [
              0.3333333333333333,
              "#9c179e"
             ],
             [
              0.4444444444444444,
              "#bd3786"
             ],
             [
              0.5555555555555556,
              "#d8576b"
             ],
             [
              0.6666666666666666,
              "#ed7953"
             ],
             [
              0.7777777777777778,
              "#fb9f3a"
             ],
             [
              0.8888888888888888,
              "#fdca26"
             ],
             [
              1,
              "#f0f921"
             ]
            ],
            "type": "histogram2d"
           }
          ],
          "histogram2dcontour": [
           {
            "colorbar": {
             "outlinewidth": 0,
             "ticks": ""
            },
            "colorscale": [
             [
              0,
              "#0d0887"
             ],
             [
              0.1111111111111111,
              "#46039f"
             ],
             [
              0.2222222222222222,
              "#7201a8"
             ],
             [
              0.3333333333333333,
              "#9c179e"
             ],
             [
              0.4444444444444444,
              "#bd3786"
             ],
             [
              0.5555555555555556,
              "#d8576b"
             ],
             [
              0.6666666666666666,
              "#ed7953"
             ],
             [
              0.7777777777777778,
              "#fb9f3a"
             ],
             [
              0.8888888888888888,
              "#fdca26"
             ],
             [
              1,
              "#f0f921"
             ]
            ],
            "type": "histogram2dcontour"
           }
          ],
          "mesh3d": [
           {
            "colorbar": {
             "outlinewidth": 0,
             "ticks": ""
            },
            "type": "mesh3d"
           }
          ],
          "parcoords": [
           {
            "line": {
             "colorbar": {
              "outlinewidth": 0,
              "ticks": ""
             }
            },
            "type": "parcoords"
           }
          ],
          "pie": [
           {
            "automargin": true,
            "type": "pie"
           }
          ],
          "scatter": [
           {
            "fillpattern": {
             "fillmode": "overlay",
             "size": 10,
             "solidity": 0.2
            },
            "type": "scatter"
           }
          ],
          "scatter3d": [
           {
            "line": {
             "colorbar": {
              "outlinewidth": 0,
              "ticks": ""
             }
            },
            "marker": {
             "colorbar": {
              "outlinewidth": 0,
              "ticks": ""
             }
            },
            "type": "scatter3d"
           }
          ],
          "scattercarpet": [
           {
            "marker": {
             "colorbar": {
              "outlinewidth": 0,
              "ticks": ""
             }
            },
            "type": "scattercarpet"
           }
          ],
          "scattergeo": [
           {
            "marker": {
             "colorbar": {
              "outlinewidth": 0,
              "ticks": ""
             }
            },
            "type": "scattergeo"
           }
          ],
          "scattergl": [
           {
            "marker": {
             "colorbar": {
              "outlinewidth": 0,
              "ticks": ""
             }
            },
            "type": "scattergl"
           }
          ],
          "scattermapbox": [
           {
            "marker": {
             "colorbar": {
              "outlinewidth": 0,
              "ticks": ""
             }
            },
            "type": "scattermapbox"
           }
          ],
          "scatterpolar": [
           {
            "marker": {
             "colorbar": {
              "outlinewidth": 0,
              "ticks": ""
             }
            },
            "type": "scatterpolar"
           }
          ],
          "scatterpolargl": [
           {
            "marker": {
             "colorbar": {
              "outlinewidth": 0,
              "ticks": ""
             }
            },
            "type": "scatterpolargl"
           }
          ],
          "scatterternary": [
           {
            "marker": {
             "colorbar": {
              "outlinewidth": 0,
              "ticks": ""
             }
            },
            "type": "scatterternary"
           }
          ],
          "surface": [
           {
            "colorbar": {
             "outlinewidth": 0,
             "ticks": ""
            },
            "colorscale": [
             [
              0,
              "#0d0887"
             ],
             [
              0.1111111111111111,
              "#46039f"
             ],
             [
              0.2222222222222222,
              "#7201a8"
             ],
             [
              0.3333333333333333,
              "#9c179e"
             ],
             [
              0.4444444444444444,
              "#bd3786"
             ],
             [
              0.5555555555555556,
              "#d8576b"
             ],
             [
              0.6666666666666666,
              "#ed7953"
             ],
             [
              0.7777777777777778,
              "#fb9f3a"
             ],
             [
              0.8888888888888888,
              "#fdca26"
             ],
             [
              1,
              "#f0f921"
             ]
            ],
            "type": "surface"
           }
          ],
          "table": [
           {
            "cells": {
             "fill": {
              "color": "#EBF0F8"
             },
             "line": {
              "color": "white"
             }
            },
            "header": {
             "fill": {
              "color": "#C8D4E3"
             },
             "line": {
              "color": "white"
             }
            },
            "type": "table"
           }
          ]
         },
         "layout": {
          "annotationdefaults": {
           "arrowcolor": "#2a3f5f",
           "arrowhead": 0,
           "arrowwidth": 1
          },
          "autotypenumbers": "strict",
          "coloraxis": {
           "colorbar": {
            "outlinewidth": 0,
            "ticks": ""
           }
          },
          "colorscale": {
           "diverging": [
            [
             0,
             "#8e0152"
            ],
            [
             0.1,
             "#c51b7d"
            ],
            [
             0.2,
             "#de77ae"
            ],
            [
             0.3,
             "#f1b6da"
            ],
            [
             0.4,
             "#fde0ef"
            ],
            [
             0.5,
             "#f7f7f7"
            ],
            [
             0.6,
             "#e6f5d0"
            ],
            [
             0.7,
             "#b8e186"
            ],
            [
             0.8,
             "#7fbc41"
            ],
            [
             0.9,
             "#4d9221"
            ],
            [
             1,
             "#276419"
            ]
           ],
           "sequential": [
            [
             0,
             "#0d0887"
            ],
            [
             0.1111111111111111,
             "#46039f"
            ],
            [
             0.2222222222222222,
             "#7201a8"
            ],
            [
             0.3333333333333333,
             "#9c179e"
            ],
            [
             0.4444444444444444,
             "#bd3786"
            ],
            [
             0.5555555555555556,
             "#d8576b"
            ],
            [
             0.6666666666666666,
             "#ed7953"
            ],
            [
             0.7777777777777778,
             "#fb9f3a"
            ],
            [
             0.8888888888888888,
             "#fdca26"
            ],
            [
             1,
             "#f0f921"
            ]
           ],
           "sequentialminus": [
            [
             0,
             "#0d0887"
            ],
            [
             0.1111111111111111,
             "#46039f"
            ],
            [
             0.2222222222222222,
             "#7201a8"
            ],
            [
             0.3333333333333333,
             "#9c179e"
            ],
            [
             0.4444444444444444,
             "#bd3786"
            ],
            [
             0.5555555555555556,
             "#d8576b"
            ],
            [
             0.6666666666666666,
             "#ed7953"
            ],
            [
             0.7777777777777778,
             "#fb9f3a"
            ],
            [
             0.8888888888888888,
             "#fdca26"
            ],
            [
             1,
             "#f0f921"
            ]
           ]
          },
          "colorway": [
           "#636efa",
           "#EF553B",
           "#00cc96",
           "#ab63fa",
           "#FFA15A",
           "#19d3f3",
           "#FF6692",
           "#B6E880",
           "#FF97FF",
           "#FECB52"
          ],
          "font": {
           "color": "#2a3f5f"
          },
          "geo": {
           "bgcolor": "white",
           "lakecolor": "white",
           "landcolor": "#E5ECF6",
           "showlakes": true,
           "showland": true,
           "subunitcolor": "white"
          },
          "hoverlabel": {
           "align": "left"
          },
          "hovermode": "closest",
          "mapbox": {
           "style": "light"
          },
          "paper_bgcolor": "white",
          "plot_bgcolor": "#E5ECF6",
          "polar": {
           "angularaxis": {
            "gridcolor": "white",
            "linecolor": "white",
            "ticks": ""
           },
           "bgcolor": "#E5ECF6",
           "radialaxis": {
            "gridcolor": "white",
            "linecolor": "white",
            "ticks": ""
           }
          },
          "scene": {
           "xaxis": {
            "backgroundcolor": "#E5ECF6",
            "gridcolor": "white",
            "gridwidth": 2,
            "linecolor": "white",
            "showbackground": true,
            "ticks": "",
            "zerolinecolor": "white"
           },
           "yaxis": {
            "backgroundcolor": "#E5ECF6",
            "gridcolor": "white",
            "gridwidth": 2,
            "linecolor": "white",
            "showbackground": true,
            "ticks": "",
            "zerolinecolor": "white"
           },
           "zaxis": {
            "backgroundcolor": "#E5ECF6",
            "gridcolor": "white",
            "gridwidth": 2,
            "linecolor": "white",
            "showbackground": true,
            "ticks": "",
            "zerolinecolor": "white"
           }
          },
          "shapedefaults": {
           "line": {
            "color": "#2a3f5f"
           }
          },
          "ternary": {
           "aaxis": {
            "gridcolor": "white",
            "linecolor": "white",
            "ticks": ""
           },
           "baxis": {
            "gridcolor": "white",
            "linecolor": "white",
            "ticks": ""
           },
           "bgcolor": "#E5ECF6",
           "caxis": {
            "gridcolor": "white",
            "linecolor": "white",
            "ticks": ""
           }
          },
          "title": {
           "x": 0.05
          },
          "xaxis": {
           "automargin": true,
           "gridcolor": "white",
           "linecolor": "white",
           "ticks": "",
           "title": {
            "standoff": 15
           },
           "zerolinecolor": "white",
           "zerolinewidth": 2
          },
          "yaxis": {
           "automargin": true,
           "gridcolor": "white",
           "linecolor": "white",
           "ticks": "",
           "title": {
            "standoff": 15
           },
           "zerolinecolor": "white",
           "zerolinewidth": 2
          }
         }
        }
       }
      }
     },
     "metadata": {},
     "output_type": "display_data"
    }
   ],
   "source": [
    "#testing\n",
    "comp_country_publications_yr('Germany','United States')"
   ]
  },
  {
   "cell_type": "code",
   "execution_count": 65,
   "metadata": {},
   "outputs": [
    {
     "data": {
      "text/html": [
       "<div>\n",
       "<style scoped>\n",
       "    .dataframe tbody tr th:only-of-type {\n",
       "        vertical-align: middle;\n",
       "    }\n",
       "\n",
       "    .dataframe tbody tr th {\n",
       "        vertical-align: top;\n",
       "    }\n",
       "\n",
       "    .dataframe thead th {\n",
       "        text-align: right;\n",
       "    }\n",
       "</style>\n",
       "<table border=\"1\" class=\"dataframe\">\n",
       "  <thead>\n",
       "    <tr style=\"text-align: right;\">\n",
       "      <th></th>\n",
       "      <th>countries</th>\n",
       "      <th>Year</th>\n",
       "      <th>Document Type</th>\n",
       "      <th>counts</th>\n",
       "    </tr>\n",
       "  </thead>\n",
       "  <tbody>\n",
       "    <tr>\n",
       "      <th>447</th>\n",
       "      <td>United Kingdom</td>\n",
       "      <td>1972</td>\n",
       "      <td>Article</td>\n",
       "      <td>3</td>\n",
       "    </tr>\n",
       "    <tr>\n",
       "      <th>448</th>\n",
       "      <td>United Kingdom</td>\n",
       "      <td>1974</td>\n",
       "      <td>Article</td>\n",
       "      <td>1</td>\n",
       "    </tr>\n",
       "    <tr>\n",
       "      <th>449</th>\n",
       "      <td>United Kingdom</td>\n",
       "      <td>1976</td>\n",
       "      <td>Article</td>\n",
       "      <td>1</td>\n",
       "    </tr>\n",
       "    <tr>\n",
       "      <th>450</th>\n",
       "      <td>United Kingdom</td>\n",
       "      <td>1977</td>\n",
       "      <td>Article</td>\n",
       "      <td>1</td>\n",
       "    </tr>\n",
       "    <tr>\n",
       "      <th>451</th>\n",
       "      <td>United Kingdom</td>\n",
       "      <td>1979</td>\n",
       "      <td>Article</td>\n",
       "      <td>1</td>\n",
       "    </tr>\n",
       "    <tr>\n",
       "      <th>...</th>\n",
       "      <td>...</td>\n",
       "      <td>...</td>\n",
       "      <td>...</td>\n",
       "      <td>...</td>\n",
       "    </tr>\n",
       "    <tr>\n",
       "      <th>600</th>\n",
       "      <td>United States</td>\n",
       "      <td>2022</td>\n",
       "      <td>Article</td>\n",
       "      <td>14</td>\n",
       "    </tr>\n",
       "    <tr>\n",
       "      <th>601</th>\n",
       "      <td>United States</td>\n",
       "      <td>2022</td>\n",
       "      <td>Book Chapter</td>\n",
       "      <td>1</td>\n",
       "    </tr>\n",
       "    <tr>\n",
       "      <th>602</th>\n",
       "      <td>United States</td>\n",
       "      <td>2022</td>\n",
       "      <td>Note</td>\n",
       "      <td>2</td>\n",
       "    </tr>\n",
       "    <tr>\n",
       "      <th>603</th>\n",
       "      <td>United States</td>\n",
       "      <td>2022</td>\n",
       "      <td>Review</td>\n",
       "      <td>2</td>\n",
       "    </tr>\n",
       "    <tr>\n",
       "      <th>604</th>\n",
       "      <td>United States</td>\n",
       "      <td>2023</td>\n",
       "      <td>Article</td>\n",
       "      <td>3</td>\n",
       "    </tr>\n",
       "  </tbody>\n",
       "</table>\n",
       "<p>158 rows × 4 columns</p>\n",
       "</div>"
      ],
      "text/plain": [
       "          countries  Year Document Type  counts\n",
       "447  United Kingdom  1972       Article       3\n",
       "448  United Kingdom  1974       Article       1\n",
       "449  United Kingdom  1976       Article       1\n",
       "450  United Kingdom  1977       Article       1\n",
       "451  United Kingdom  1979       Article       1\n",
       "..              ...   ...           ...     ...\n",
       "600   United States  2022       Article      14\n",
       "601   United States  2022  Book Chapter       1\n",
       "602   United States  2022          Note       2\n",
       "603   United States  2022        Review       2\n",
       "604   United States  2023       Article       3\n",
       "\n",
       "[158 rows x 4 columns]"
      ]
     },
     "execution_count": 65,
     "metadata": {},
     "output_type": "execute_result"
    }
   ],
   "source": [
    "comp_list=['United Kingdom','United States']\n",
    "temp_df = df_num_publications_yr[df_num_publications_yr.countries.isin(comp_list)]\n",
    "temp_df\n"
   ]
  },
  {
   "cell_type": "code",
   "execution_count": 71,
   "metadata": {},
   "outputs": [
    {
     "data": {
      "application/vnd.plotly.v1+json": {
       "config": {
        "plotlyServerURL": "https://plot.ly"
       },
       "data": [
        {
         "domain": {
          "x": [
           0,
           1
          ],
          "y": [
           0,
           1
          ]
         },
         "hole": 0.3,
         "hovertemplate": "countries=%{label}<br>counts=%{value}<extra></extra>",
         "labels": [
          "United Kingdom",
          "United States"
         ],
         "legendgroup": "",
         "name": "",
         "showlegend": true,
         "type": "pie",
         "values": [
          61,
          327
         ]
        }
       ],
       "layout": {
        "legend": {
         "tracegroupgap": 0
        },
        "template": {
         "data": {
          "bar": [
           {
            "error_x": {
             "color": "#2a3f5f"
            },
            "error_y": {
             "color": "#2a3f5f"
            },
            "marker": {
             "line": {
              "color": "#E5ECF6",
              "width": 0.5
             },
             "pattern": {
              "fillmode": "overlay",
              "size": 10,
              "solidity": 0.2
             }
            },
            "type": "bar"
           }
          ],
          "barpolar": [
           {
            "marker": {
             "line": {
              "color": "#E5ECF6",
              "width": 0.5
             },
             "pattern": {
              "fillmode": "overlay",
              "size": 10,
              "solidity": 0.2
             }
            },
            "type": "barpolar"
           }
          ],
          "carpet": [
           {
            "aaxis": {
             "endlinecolor": "#2a3f5f",
             "gridcolor": "white",
             "linecolor": "white",
             "minorgridcolor": "white",
             "startlinecolor": "#2a3f5f"
            },
            "baxis": {
             "endlinecolor": "#2a3f5f",
             "gridcolor": "white",
             "linecolor": "white",
             "minorgridcolor": "white",
             "startlinecolor": "#2a3f5f"
            },
            "type": "carpet"
           }
          ],
          "choropleth": [
           {
            "colorbar": {
             "outlinewidth": 0,
             "ticks": ""
            },
            "type": "choropleth"
           }
          ],
          "contour": [
           {
            "colorbar": {
             "outlinewidth": 0,
             "ticks": ""
            },
            "colorscale": [
             [
              0,
              "#0d0887"
             ],
             [
              0.1111111111111111,
              "#46039f"
             ],
             [
              0.2222222222222222,
              "#7201a8"
             ],
             [
              0.3333333333333333,
              "#9c179e"
             ],
             [
              0.4444444444444444,
              "#bd3786"
             ],
             [
              0.5555555555555556,
              "#d8576b"
             ],
             [
              0.6666666666666666,
              "#ed7953"
             ],
             [
              0.7777777777777778,
              "#fb9f3a"
             ],
             [
              0.8888888888888888,
              "#fdca26"
             ],
             [
              1,
              "#f0f921"
             ]
            ],
            "type": "contour"
           }
          ],
          "contourcarpet": [
           {
            "colorbar": {
             "outlinewidth": 0,
             "ticks": ""
            },
            "type": "contourcarpet"
           }
          ],
          "heatmap": [
           {
            "colorbar": {
             "outlinewidth": 0,
             "ticks": ""
            },
            "colorscale": [
             [
              0,
              "#0d0887"
             ],
             [
              0.1111111111111111,
              "#46039f"
             ],
             [
              0.2222222222222222,
              "#7201a8"
             ],
             [
              0.3333333333333333,
              "#9c179e"
             ],
             [
              0.4444444444444444,
              "#bd3786"
             ],
             [
              0.5555555555555556,
              "#d8576b"
             ],
             [
              0.6666666666666666,
              "#ed7953"
             ],
             [
              0.7777777777777778,
              "#fb9f3a"
             ],
             [
              0.8888888888888888,
              "#fdca26"
             ],
             [
              1,
              "#f0f921"
             ]
            ],
            "type": "heatmap"
           }
          ],
          "heatmapgl": [
           {
            "colorbar": {
             "outlinewidth": 0,
             "ticks": ""
            },
            "colorscale": [
             [
              0,
              "#0d0887"
             ],
             [
              0.1111111111111111,
              "#46039f"
             ],
             [
              0.2222222222222222,
              "#7201a8"
             ],
             [
              0.3333333333333333,
              "#9c179e"
             ],
             [
              0.4444444444444444,
              "#bd3786"
             ],
             [
              0.5555555555555556,
              "#d8576b"
             ],
             [
              0.6666666666666666,
              "#ed7953"
             ],
             [
              0.7777777777777778,
              "#fb9f3a"
             ],
             [
              0.8888888888888888,
              "#fdca26"
             ],
             [
              1,
              "#f0f921"
             ]
            ],
            "type": "heatmapgl"
           }
          ],
          "histogram": [
           {
            "marker": {
             "pattern": {
              "fillmode": "overlay",
              "size": 10,
              "solidity": 0.2
             }
            },
            "type": "histogram"
           }
          ],
          "histogram2d": [
           {
            "colorbar": {
             "outlinewidth": 0,
             "ticks": ""
            },
            "colorscale": [
             [
              0,
              "#0d0887"
             ],
             [
              0.1111111111111111,
              "#46039f"
             ],
             [
              0.2222222222222222,
              "#7201a8"
             ],
             [
              0.3333333333333333,
              "#9c179e"
             ],
             [
              0.4444444444444444,
              "#bd3786"
             ],
             [
              0.5555555555555556,
              "#d8576b"
             ],
             [
              0.6666666666666666,
              "#ed7953"
             ],
             [
              0.7777777777777778,
              "#fb9f3a"
             ],
             [
              0.8888888888888888,
              "#fdca26"
             ],
             [
              1,
              "#f0f921"
             ]
            ],
            "type": "histogram2d"
           }
          ],
          "histogram2dcontour": [
           {
            "colorbar": {
             "outlinewidth": 0,
             "ticks": ""
            },
            "colorscale": [
             [
              0,
              "#0d0887"
             ],
             [
              0.1111111111111111,
              "#46039f"
             ],
             [
              0.2222222222222222,
              "#7201a8"
             ],
             [
              0.3333333333333333,
              "#9c179e"
             ],
             [
              0.4444444444444444,
              "#bd3786"
             ],
             [
              0.5555555555555556,
              "#d8576b"
             ],
             [
              0.6666666666666666,
              "#ed7953"
             ],
             [
              0.7777777777777778,
              "#fb9f3a"
             ],
             [
              0.8888888888888888,
              "#fdca26"
             ],
             [
              1,
              "#f0f921"
             ]
            ],
            "type": "histogram2dcontour"
           }
          ],
          "mesh3d": [
           {
            "colorbar": {
             "outlinewidth": 0,
             "ticks": ""
            },
            "type": "mesh3d"
           }
          ],
          "parcoords": [
           {
            "line": {
             "colorbar": {
              "outlinewidth": 0,
              "ticks": ""
             }
            },
            "type": "parcoords"
           }
          ],
          "pie": [
           {
            "automargin": true,
            "type": "pie"
           }
          ],
          "scatter": [
           {
            "fillpattern": {
             "fillmode": "overlay",
             "size": 10,
             "solidity": 0.2
            },
            "type": "scatter"
           }
          ],
          "scatter3d": [
           {
            "line": {
             "colorbar": {
              "outlinewidth": 0,
              "ticks": ""
             }
            },
            "marker": {
             "colorbar": {
              "outlinewidth": 0,
              "ticks": ""
             }
            },
            "type": "scatter3d"
           }
          ],
          "scattercarpet": [
           {
            "marker": {
             "colorbar": {
              "outlinewidth": 0,
              "ticks": ""
             }
            },
            "type": "scattercarpet"
           }
          ],
          "scattergeo": [
           {
            "marker": {
             "colorbar": {
              "outlinewidth": 0,
              "ticks": ""
             }
            },
            "type": "scattergeo"
           }
          ],
          "scattergl": [
           {
            "marker": {
             "colorbar": {
              "outlinewidth": 0,
              "ticks": ""
             }
            },
            "type": "scattergl"
           }
          ],
          "scattermapbox": [
           {
            "marker": {
             "colorbar": {
              "outlinewidth": 0,
              "ticks": ""
             }
            },
            "type": "scattermapbox"
           }
          ],
          "scatterpolar": [
           {
            "marker": {
             "colorbar": {
              "outlinewidth": 0,
              "ticks": ""
             }
            },
            "type": "scatterpolar"
           }
          ],
          "scatterpolargl": [
           {
            "marker": {
             "colorbar": {
              "outlinewidth": 0,
              "ticks": ""
             }
            },
            "type": "scatterpolargl"
           }
          ],
          "scatterternary": [
           {
            "marker": {
             "colorbar": {
              "outlinewidth": 0,
              "ticks": ""
             }
            },
            "type": "scatterternary"
           }
          ],
          "surface": [
           {
            "colorbar": {
             "outlinewidth": 0,
             "ticks": ""
            },
            "colorscale": [
             [
              0,
              "#0d0887"
             ],
             [
              0.1111111111111111,
              "#46039f"
             ],
             [
              0.2222222222222222,
              "#7201a8"
             ],
             [
              0.3333333333333333,
              "#9c179e"
             ],
             [
              0.4444444444444444,
              "#bd3786"
             ],
             [
              0.5555555555555556,
              "#d8576b"
             ],
             [
              0.6666666666666666,
              "#ed7953"
             ],
             [
              0.7777777777777778,
              "#fb9f3a"
             ],
             [
              0.8888888888888888,
              "#fdca26"
             ],
             [
              1,
              "#f0f921"
             ]
            ],
            "type": "surface"
           }
          ],
          "table": [
           {
            "cells": {
             "fill": {
              "color": "#EBF0F8"
             },
             "line": {
              "color": "white"
             }
            },
            "header": {
             "fill": {
              "color": "#C8D4E3"
             },
             "line": {
              "color": "white"
             }
            },
            "type": "table"
           }
          ]
         },
         "layout": {
          "annotationdefaults": {
           "arrowcolor": "#2a3f5f",
           "arrowhead": 0,
           "arrowwidth": 1
          },
          "autotypenumbers": "strict",
          "coloraxis": {
           "colorbar": {
            "outlinewidth": 0,
            "ticks": ""
           }
          },
          "colorscale": {
           "diverging": [
            [
             0,
             "#8e0152"
            ],
            [
             0.1,
             "#c51b7d"
            ],
            [
             0.2,
             "#de77ae"
            ],
            [
             0.3,
             "#f1b6da"
            ],
            [
             0.4,
             "#fde0ef"
            ],
            [
             0.5,
             "#f7f7f7"
            ],
            [
             0.6,
             "#e6f5d0"
            ],
            [
             0.7,
             "#b8e186"
            ],
            [
             0.8,
             "#7fbc41"
            ],
            [
             0.9,
             "#4d9221"
            ],
            [
             1,
             "#276419"
            ]
           ],
           "sequential": [
            [
             0,
             "#0d0887"
            ],
            [
             0.1111111111111111,
             "#46039f"
            ],
            [
             0.2222222222222222,
             "#7201a8"
            ],
            [
             0.3333333333333333,
             "#9c179e"
            ],
            [
             0.4444444444444444,
             "#bd3786"
            ],
            [
             0.5555555555555556,
             "#d8576b"
            ],
            [
             0.6666666666666666,
             "#ed7953"
            ],
            [
             0.7777777777777778,
             "#fb9f3a"
            ],
            [
             0.8888888888888888,
             "#fdca26"
            ],
            [
             1,
             "#f0f921"
            ]
           ],
           "sequentialminus": [
            [
             0,
             "#0d0887"
            ],
            [
             0.1111111111111111,
             "#46039f"
            ],
            [
             0.2222222222222222,
             "#7201a8"
            ],
            [
             0.3333333333333333,
             "#9c179e"
            ],
            [
             0.4444444444444444,
             "#bd3786"
            ],
            [
             0.5555555555555556,
             "#d8576b"
            ],
            [
             0.6666666666666666,
             "#ed7953"
            ],
            [
             0.7777777777777778,
             "#fb9f3a"
            ],
            [
             0.8888888888888888,
             "#fdca26"
            ],
            [
             1,
             "#f0f921"
            ]
           ]
          },
          "colorway": [
           "#636efa",
           "#EF553B",
           "#00cc96",
           "#ab63fa",
           "#FFA15A",
           "#19d3f3",
           "#FF6692",
           "#B6E880",
           "#FF97FF",
           "#FECB52"
          ],
          "font": {
           "color": "#2a3f5f"
          },
          "geo": {
           "bgcolor": "white",
           "lakecolor": "white",
           "landcolor": "#E5ECF6",
           "showlakes": true,
           "showland": true,
           "subunitcolor": "white"
          },
          "hoverlabel": {
           "align": "left"
          },
          "hovermode": "closest",
          "mapbox": {
           "style": "light"
          },
          "paper_bgcolor": "white",
          "plot_bgcolor": "#E5ECF6",
          "polar": {
           "angularaxis": {
            "gridcolor": "white",
            "linecolor": "white",
            "ticks": ""
           },
           "bgcolor": "#E5ECF6",
           "radialaxis": {
            "gridcolor": "white",
            "linecolor": "white",
            "ticks": ""
           }
          },
          "scene": {
           "xaxis": {
            "backgroundcolor": "#E5ECF6",
            "gridcolor": "white",
            "gridwidth": 2,
            "linecolor": "white",
            "showbackground": true,
            "ticks": "",
            "zerolinecolor": "white"
           },
           "yaxis": {
            "backgroundcolor": "#E5ECF6",
            "gridcolor": "white",
            "gridwidth": 2,
            "linecolor": "white",
            "showbackground": true,
            "ticks": "",
            "zerolinecolor": "white"
           },
           "zaxis": {
            "backgroundcolor": "#E5ECF6",
            "gridcolor": "white",
            "gridwidth": 2,
            "linecolor": "white",
            "showbackground": true,
            "ticks": "",
            "zerolinecolor": "white"
           }
          },
          "shapedefaults": {
           "line": {
            "color": "#2a3f5f"
           }
          },
          "ternary": {
           "aaxis": {
            "gridcolor": "white",
            "linecolor": "white",
            "ticks": ""
           },
           "baxis": {
            "gridcolor": "white",
            "linecolor": "white",
            "ticks": ""
           },
           "bgcolor": "#E5ECF6",
           "caxis": {
            "gridcolor": "white",
            "linecolor": "white",
            "ticks": ""
           }
          },
          "title": {
           "x": 0.05
          },
          "xaxis": {
           "automargin": true,
           "gridcolor": "white",
           "linecolor": "white",
           "ticks": "",
           "title": {
            "standoff": 15
           },
           "zerolinecolor": "white",
           "zerolinewidth": 2
          },
          "yaxis": {
           "automargin": true,
           "gridcolor": "white",
           "linecolor": "white",
           "ticks": "",
           "title": {
            "standoff": 15
           },
           "zerolinecolor": "white",
           "zerolinewidth": 2
          }
         }
        },
        "title": {
         "text": "Share of publications"
        }
       }
      }
     },
     "metadata": {},
     "output_type": "display_data"
    }
   ],
   "source": [
    "temp_df = temp_df.groupby(['countries'])['counts'].sum().reset_index(name='counts')\n",
    "fig = px.pie(temp_df, values = 'counts', names = 'countries', title='Share of publications', hole=.3)\n",
    "fig.show()"
   ]
  },
  {
   "cell_type": "code",
   "execution_count": 73,
   "metadata": {},
   "outputs": [],
   "source": [
    "def publication_comp_pie (country1, country2):\n",
    "    comp_list=[country1, country2]\n",
    "    temp_df = df_num_publications_yr[df_num_publications_yr.countries.isin(comp_list)]\n",
    "    temp_df = temp_df.groupby(['countries'])['counts'].sum().reset_index(name='counts')\n",
    "    fig = px.pie(temp_df, values = 'counts', names = 'countries', title='Share of publications', hole=.3)\n",
    "    \n",
    "    return (fig.show())"
   ]
  },
  {
   "cell_type": "code",
   "execution_count": 74,
   "metadata": {},
   "outputs": [
    {
     "data": {
      "application/vnd.plotly.v1+json": {
       "config": {
        "plotlyServerURL": "https://plot.ly"
       },
       "data": [
        {
         "domain": {
          "x": [
           0,
           1
          ],
          "y": [
           0,
           1
          ]
         },
         "hole": 0.3,
         "hovertemplate": "countries=%{label}<br>counts=%{value}<extra></extra>",
         "labels": [
          "Germany",
          "United States"
         ],
         "legendgroup": "",
         "name": "",
         "showlegend": true,
         "type": "pie",
         "values": [
          14,
          327
         ]
        }
       ],
       "layout": {
        "legend": {
         "tracegroupgap": 0
        },
        "template": {
         "data": {
          "bar": [
           {
            "error_x": {
             "color": "#2a3f5f"
            },
            "error_y": {
             "color": "#2a3f5f"
            },
            "marker": {
             "line": {
              "color": "#E5ECF6",
              "width": 0.5
             },
             "pattern": {
              "fillmode": "overlay",
              "size": 10,
              "solidity": 0.2
             }
            },
            "type": "bar"
           }
          ],
          "barpolar": [
           {
            "marker": {
             "line": {
              "color": "#E5ECF6",
              "width": 0.5
             },
             "pattern": {
              "fillmode": "overlay",
              "size": 10,
              "solidity": 0.2
             }
            },
            "type": "barpolar"
           }
          ],
          "carpet": [
           {
            "aaxis": {
             "endlinecolor": "#2a3f5f",
             "gridcolor": "white",
             "linecolor": "white",
             "minorgridcolor": "white",
             "startlinecolor": "#2a3f5f"
            },
            "baxis": {
             "endlinecolor": "#2a3f5f",
             "gridcolor": "white",
             "linecolor": "white",
             "minorgridcolor": "white",
             "startlinecolor": "#2a3f5f"
            },
            "type": "carpet"
           }
          ],
          "choropleth": [
           {
            "colorbar": {
             "outlinewidth": 0,
             "ticks": ""
            },
            "type": "choropleth"
           }
          ],
          "contour": [
           {
            "colorbar": {
             "outlinewidth": 0,
             "ticks": ""
            },
            "colorscale": [
             [
              0,
              "#0d0887"
             ],
             [
              0.1111111111111111,
              "#46039f"
             ],
             [
              0.2222222222222222,
              "#7201a8"
             ],
             [
              0.3333333333333333,
              "#9c179e"
             ],
             [
              0.4444444444444444,
              "#bd3786"
             ],
             [
              0.5555555555555556,
              "#d8576b"
             ],
             [
              0.6666666666666666,
              "#ed7953"
             ],
             [
              0.7777777777777778,
              "#fb9f3a"
             ],
             [
              0.8888888888888888,
              "#fdca26"
             ],
             [
              1,
              "#f0f921"
             ]
            ],
            "type": "contour"
           }
          ],
          "contourcarpet": [
           {
            "colorbar": {
             "outlinewidth": 0,
             "ticks": ""
            },
            "type": "contourcarpet"
           }
          ],
          "heatmap": [
           {
            "colorbar": {
             "outlinewidth": 0,
             "ticks": ""
            },
            "colorscale": [
             [
              0,
              "#0d0887"
             ],
             [
              0.1111111111111111,
              "#46039f"
             ],
             [
              0.2222222222222222,
              "#7201a8"
             ],
             [
              0.3333333333333333,
              "#9c179e"
             ],
             [
              0.4444444444444444,
              "#bd3786"
             ],
             [
              0.5555555555555556,
              "#d8576b"
             ],
             [
              0.6666666666666666,
              "#ed7953"
             ],
             [
              0.7777777777777778,
              "#fb9f3a"
             ],
             [
              0.8888888888888888,
              "#fdca26"
             ],
             [
              1,
              "#f0f921"
             ]
            ],
            "type": "heatmap"
           }
          ],
          "heatmapgl": [
           {
            "colorbar": {
             "outlinewidth": 0,
             "ticks": ""
            },
            "colorscale": [
             [
              0,
              "#0d0887"
             ],
             [
              0.1111111111111111,
              "#46039f"
             ],
             [
              0.2222222222222222,
              "#7201a8"
             ],
             [
              0.3333333333333333,
              "#9c179e"
             ],
             [
              0.4444444444444444,
              "#bd3786"
             ],
             [
              0.5555555555555556,
              "#d8576b"
             ],
             [
              0.6666666666666666,
              "#ed7953"
             ],
             [
              0.7777777777777778,
              "#fb9f3a"
             ],
             [
              0.8888888888888888,
              "#fdca26"
             ],
             [
              1,
              "#f0f921"
             ]
            ],
            "type": "heatmapgl"
           }
          ],
          "histogram": [
           {
            "marker": {
             "pattern": {
              "fillmode": "overlay",
              "size": 10,
              "solidity": 0.2
             }
            },
            "type": "histogram"
           }
          ],
          "histogram2d": [
           {
            "colorbar": {
             "outlinewidth": 0,
             "ticks": ""
            },
            "colorscale": [
             [
              0,
              "#0d0887"
             ],
             [
              0.1111111111111111,
              "#46039f"
             ],
             [
              0.2222222222222222,
              "#7201a8"
             ],
             [
              0.3333333333333333,
              "#9c179e"
             ],
             [
              0.4444444444444444,
              "#bd3786"
             ],
             [
              0.5555555555555556,
              "#d8576b"
             ],
             [
              0.6666666666666666,
              "#ed7953"
             ],
             [
              0.7777777777777778,
              "#fb9f3a"
             ],
             [
              0.8888888888888888,
              "#fdca26"
             ],
             [
              1,
              "#f0f921"
             ]
            ],
            "type": "histogram2d"
           }
          ],
          "histogram2dcontour": [
           {
            "colorbar": {
             "outlinewidth": 0,
             "ticks": ""
            },
            "colorscale": [
             [
              0,
              "#0d0887"
             ],
             [
              0.1111111111111111,
              "#46039f"
             ],
             [
              0.2222222222222222,
              "#7201a8"
             ],
             [
              0.3333333333333333,
              "#9c179e"
             ],
             [
              0.4444444444444444,
              "#bd3786"
             ],
             [
              0.5555555555555556,
              "#d8576b"
             ],
             [
              0.6666666666666666,
              "#ed7953"
             ],
             [
              0.7777777777777778,
              "#fb9f3a"
             ],
             [
              0.8888888888888888,
              "#fdca26"
             ],
             [
              1,
              "#f0f921"
             ]
            ],
            "type": "histogram2dcontour"
           }
          ],
          "mesh3d": [
           {
            "colorbar": {
             "outlinewidth": 0,
             "ticks": ""
            },
            "type": "mesh3d"
           }
          ],
          "parcoords": [
           {
            "line": {
             "colorbar": {
              "outlinewidth": 0,
              "ticks": ""
             }
            },
            "type": "parcoords"
           }
          ],
          "pie": [
           {
            "automargin": true,
            "type": "pie"
           }
          ],
          "scatter": [
           {
            "fillpattern": {
             "fillmode": "overlay",
             "size": 10,
             "solidity": 0.2
            },
            "type": "scatter"
           }
          ],
          "scatter3d": [
           {
            "line": {
             "colorbar": {
              "outlinewidth": 0,
              "ticks": ""
             }
            },
            "marker": {
             "colorbar": {
              "outlinewidth": 0,
              "ticks": ""
             }
            },
            "type": "scatter3d"
           }
          ],
          "scattercarpet": [
           {
            "marker": {
             "colorbar": {
              "outlinewidth": 0,
              "ticks": ""
             }
            },
            "type": "scattercarpet"
           }
          ],
          "scattergeo": [
           {
            "marker": {
             "colorbar": {
              "outlinewidth": 0,
              "ticks": ""
             }
            },
            "type": "scattergeo"
           }
          ],
          "scattergl": [
           {
            "marker": {
             "colorbar": {
              "outlinewidth": 0,
              "ticks": ""
             }
            },
            "type": "scattergl"
           }
          ],
          "scattermapbox": [
           {
            "marker": {
             "colorbar": {
              "outlinewidth": 0,
              "ticks": ""
             }
            },
            "type": "scattermapbox"
           }
          ],
          "scatterpolar": [
           {
            "marker": {
             "colorbar": {
              "outlinewidth": 0,
              "ticks": ""
             }
            },
            "type": "scatterpolar"
           }
          ],
          "scatterpolargl": [
           {
            "marker": {
             "colorbar": {
              "outlinewidth": 0,
              "ticks": ""
             }
            },
            "type": "scatterpolargl"
           }
          ],
          "scatterternary": [
           {
            "marker": {
             "colorbar": {
              "outlinewidth": 0,
              "ticks": ""
             }
            },
            "type": "scatterternary"
           }
          ],
          "surface": [
           {
            "colorbar": {
             "outlinewidth": 0,
             "ticks": ""
            },
            "colorscale": [
             [
              0,
              "#0d0887"
             ],
             [
              0.1111111111111111,
              "#46039f"
             ],
             [
              0.2222222222222222,
              "#7201a8"
             ],
             [
              0.3333333333333333,
              "#9c179e"
             ],
             [
              0.4444444444444444,
              "#bd3786"
             ],
             [
              0.5555555555555556,
              "#d8576b"
             ],
             [
              0.6666666666666666,
              "#ed7953"
             ],
             [
              0.7777777777777778,
              "#fb9f3a"
             ],
             [
              0.8888888888888888,
              "#fdca26"
             ],
             [
              1,
              "#f0f921"
             ]
            ],
            "type": "surface"
           }
          ],
          "table": [
           {
            "cells": {
             "fill": {
              "color": "#EBF0F8"
             },
             "line": {
              "color": "white"
             }
            },
            "header": {
             "fill": {
              "color": "#C8D4E3"
             },
             "line": {
              "color": "white"
             }
            },
            "type": "table"
           }
          ]
         },
         "layout": {
          "annotationdefaults": {
           "arrowcolor": "#2a3f5f",
           "arrowhead": 0,
           "arrowwidth": 1
          },
          "autotypenumbers": "strict",
          "coloraxis": {
           "colorbar": {
            "outlinewidth": 0,
            "ticks": ""
           }
          },
          "colorscale": {
           "diverging": [
            [
             0,
             "#8e0152"
            ],
            [
             0.1,
             "#c51b7d"
            ],
            [
             0.2,
             "#de77ae"
            ],
            [
             0.3,
             "#f1b6da"
            ],
            [
             0.4,
             "#fde0ef"
            ],
            [
             0.5,
             "#f7f7f7"
            ],
            [
             0.6,
             "#e6f5d0"
            ],
            [
             0.7,
             "#b8e186"
            ],
            [
             0.8,
             "#7fbc41"
            ],
            [
             0.9,
             "#4d9221"
            ],
            [
             1,
             "#276419"
            ]
           ],
           "sequential": [
            [
             0,
             "#0d0887"
            ],
            [
             0.1111111111111111,
             "#46039f"
            ],
            [
             0.2222222222222222,
             "#7201a8"
            ],
            [
             0.3333333333333333,
             "#9c179e"
            ],
            [
             0.4444444444444444,
             "#bd3786"
            ],
            [
             0.5555555555555556,
             "#d8576b"
            ],
            [
             0.6666666666666666,
             "#ed7953"
            ],
            [
             0.7777777777777778,
             "#fb9f3a"
            ],
            [
             0.8888888888888888,
             "#fdca26"
            ],
            [
             1,
             "#f0f921"
            ]
           ],
           "sequentialminus": [
            [
             0,
             "#0d0887"
            ],
            [
             0.1111111111111111,
             "#46039f"
            ],
            [
             0.2222222222222222,
             "#7201a8"
            ],
            [
             0.3333333333333333,
             "#9c179e"
            ],
            [
             0.4444444444444444,
             "#bd3786"
            ],
            [
             0.5555555555555556,
             "#d8576b"
            ],
            [
             0.6666666666666666,
             "#ed7953"
            ],
            [
             0.7777777777777778,
             "#fb9f3a"
            ],
            [
             0.8888888888888888,
             "#fdca26"
            ],
            [
             1,
             "#f0f921"
            ]
           ]
          },
          "colorway": [
           "#636efa",
           "#EF553B",
           "#00cc96",
           "#ab63fa",
           "#FFA15A",
           "#19d3f3",
           "#FF6692",
           "#B6E880",
           "#FF97FF",
           "#FECB52"
          ],
          "font": {
           "color": "#2a3f5f"
          },
          "geo": {
           "bgcolor": "white",
           "lakecolor": "white",
           "landcolor": "#E5ECF6",
           "showlakes": true,
           "showland": true,
           "subunitcolor": "white"
          },
          "hoverlabel": {
           "align": "left"
          },
          "hovermode": "closest",
          "mapbox": {
           "style": "light"
          },
          "paper_bgcolor": "white",
          "plot_bgcolor": "#E5ECF6",
          "polar": {
           "angularaxis": {
            "gridcolor": "white",
            "linecolor": "white",
            "ticks": ""
           },
           "bgcolor": "#E5ECF6",
           "radialaxis": {
            "gridcolor": "white",
            "linecolor": "white",
            "ticks": ""
           }
          },
          "scene": {
           "xaxis": {
            "backgroundcolor": "#E5ECF6",
            "gridcolor": "white",
            "gridwidth": 2,
            "linecolor": "white",
            "showbackground": true,
            "ticks": "",
            "zerolinecolor": "white"
           },
           "yaxis": {
            "backgroundcolor": "#E5ECF6",
            "gridcolor": "white",
            "gridwidth": 2,
            "linecolor": "white",
            "showbackground": true,
            "ticks": "",
            "zerolinecolor": "white"
           },
           "zaxis": {
            "backgroundcolor": "#E5ECF6",
            "gridcolor": "white",
            "gridwidth": 2,
            "linecolor": "white",
            "showbackground": true,
            "ticks": "",
            "zerolinecolor": "white"
           }
          },
          "shapedefaults": {
           "line": {
            "color": "#2a3f5f"
           }
          },
          "ternary": {
           "aaxis": {
            "gridcolor": "white",
            "linecolor": "white",
            "ticks": ""
           },
           "baxis": {
            "gridcolor": "white",
            "linecolor": "white",
            "ticks": ""
           },
           "bgcolor": "#E5ECF6",
           "caxis": {
            "gridcolor": "white",
            "linecolor": "white",
            "ticks": ""
           }
          },
          "title": {
           "x": 0.05
          },
          "xaxis": {
           "automargin": true,
           "gridcolor": "white",
           "linecolor": "white",
           "ticks": "",
           "title": {
            "standoff": 15
           },
           "zerolinecolor": "white",
           "zerolinewidth": 2
          },
          "yaxis": {
           "automargin": true,
           "gridcolor": "white",
           "linecolor": "white",
           "ticks": "",
           "title": {
            "standoff": 15
           },
           "zerolinecolor": "white",
           "zerolinewidth": 2
          }
         }
        },
        "title": {
         "text": "Share of publications"
        }
       }
      }
     },
     "metadata": {},
     "output_type": "display_data"
    }
   ],
   "source": [
    "publication_comp_pie('Germany','United States')"
   ]
  },
  {
   "cell_type": "markdown",
   "metadata": {},
   "source": [
    "## By Decade"
   ]
  },
  {
   "cell_type": "code",
   "execution_count": 56,
   "metadata": {},
   "outputs": [
    {
     "data": {
      "text/html": [
       "<div>\n",
       "<style scoped>\n",
       "    .dataframe tbody tr th:only-of-type {\n",
       "        vertical-align: middle;\n",
       "    }\n",
       "\n",
       "    .dataframe tbody tr th {\n",
       "        vertical-align: top;\n",
       "    }\n",
       "\n",
       "    .dataframe thead th {\n",
       "        text-align: right;\n",
       "    }\n",
       "</style>\n",
       "<table border=\"1\" class=\"dataframe\">\n",
       "  <thead>\n",
       "    <tr style=\"text-align: right;\">\n",
       "      <th></th>\n",
       "      <th>countries</th>\n",
       "      <th>Period</th>\n",
       "      <th>Document Type</th>\n",
       "      <th>counts</th>\n",
       "    </tr>\n",
       "  </thead>\n",
       "  <tbody>\n",
       "    <tr>\n",
       "      <th>0</th>\n",
       "      <td>Canada</td>\n",
       "      <td>1994 - 2003</td>\n",
       "      <td>Article</td>\n",
       "      <td>1</td>\n",
       "    </tr>\n",
       "    <tr>\n",
       "      <th>1</th>\n",
       "      <td>Canada</td>\n",
       "      <td>2004 - 2013</td>\n",
       "      <td>Article</td>\n",
       "      <td>1</td>\n",
       "    </tr>\n",
       "    <tr>\n",
       "      <th>2</th>\n",
       "      <td>Canada</td>\n",
       "      <td>2014 - 2023</td>\n",
       "      <td>Article</td>\n",
       "      <td>4</td>\n",
       "    </tr>\n",
       "    <tr>\n",
       "      <th>3</th>\n",
       "      <td>Canada</td>\n",
       "      <td>2014 - 2023</td>\n",
       "      <td>Letter</td>\n",
       "      <td>1</td>\n",
       "    </tr>\n",
       "    <tr>\n",
       "      <th>4</th>\n",
       "      <td>Canada</td>\n",
       "      <td>2014 - 2023</td>\n",
       "      <td>Review</td>\n",
       "      <td>1</td>\n",
       "    </tr>\n",
       "    <tr>\n",
       "      <th>...</th>\n",
       "      <td>...</td>\n",
       "      <td>...</td>\n",
       "      <td>...</td>\n",
       "      <td>...</td>\n",
       "    </tr>\n",
       "    <tr>\n",
       "      <th>293</th>\n",
       "      <td>United States</td>\n",
       "      <td>2014 - 2023</td>\n",
       "      <td>Book Chapter</td>\n",
       "      <td>2</td>\n",
       "    </tr>\n",
       "    <tr>\n",
       "      <th>294</th>\n",
       "      <td>United States</td>\n",
       "      <td>2014 - 2023</td>\n",
       "      <td>Conference Paper</td>\n",
       "      <td>5</td>\n",
       "    </tr>\n",
       "    <tr>\n",
       "      <th>295</th>\n",
       "      <td>United States</td>\n",
       "      <td>2014 - 2023</td>\n",
       "      <td>Letter</td>\n",
       "      <td>4</td>\n",
       "    </tr>\n",
       "    <tr>\n",
       "      <th>296</th>\n",
       "      <td>United States</td>\n",
       "      <td>2014 - 2023</td>\n",
       "      <td>Note</td>\n",
       "      <td>6</td>\n",
       "    </tr>\n",
       "    <tr>\n",
       "      <th>297</th>\n",
       "      <td>United States</td>\n",
       "      <td>2014 - 2023</td>\n",
       "      <td>Review</td>\n",
       "      <td>21</td>\n",
       "    </tr>\n",
       "  </tbody>\n",
       "</table>\n",
       "<p>298 rows × 4 columns</p>\n",
       "</div>"
      ],
      "text/plain": [
       "         countries       Period     Document Type  counts\n",
       "0           Canada  1994 - 2003           Article       1\n",
       "1           Canada  2004 - 2013           Article       1\n",
       "2           Canada  2014 - 2023           Article       4\n",
       "3           Canada  2014 - 2023            Letter       1\n",
       "4           Canada  2014 - 2023            Review       1\n",
       "..             ...          ...               ...     ...\n",
       "293  United States  2014 - 2023      Book Chapter       2\n",
       "294  United States  2014 - 2023  Conference Paper       5\n",
       "295  United States  2014 - 2023            Letter       4\n",
       "296  United States  2014 - 2023              Note       6\n",
       "297  United States  2014 - 2023            Review      21\n",
       "\n",
       "[298 rows x 4 columns]"
      ]
     },
     "execution_count": 56,
     "metadata": {},
     "output_type": "execute_result"
    }
   ],
   "source": [
    "df_num_publications['counts']=1\n",
    "df_num_publications_dc = df_num_publications.groupby(['countries','Period','Document Type'])['countries'].count().reset_index(name='counts')\n",
    "df_num_publications_dc\n"
   ]
  },
  {
   "cell_type": "code",
   "execution_count": 57,
   "metadata": {},
   "outputs": [
    {
     "data": {
      "text/html": [
       "<div>\n",
       "<style scoped>\n",
       "    .dataframe tbody tr th:only-of-type {\n",
       "        vertical-align: middle;\n",
       "    }\n",
       "\n",
       "    .dataframe tbody tr th {\n",
       "        vertical-align: top;\n",
       "    }\n",
       "\n",
       "    .dataframe thead th {\n",
       "        text-align: right;\n",
       "    }\n",
       "</style>\n",
       "<table border=\"1\" class=\"dataframe\">\n",
       "  <thead>\n",
       "    <tr style=\"text-align: right;\">\n",
       "      <th></th>\n",
       "      <th>countries</th>\n",
       "      <th>Period</th>\n",
       "      <th>Document Type</th>\n",
       "      <th>counts</th>\n",
       "    </tr>\n",
       "  </thead>\n",
       "  <tbody>\n",
       "    <tr>\n",
       "      <th>255</th>\n",
       "      <td>United Kingdom</td>\n",
       "      <td>1964 - 1973</td>\n",
       "      <td>Article</td>\n",
       "      <td>3</td>\n",
       "    </tr>\n",
       "    <tr>\n",
       "      <th>256</th>\n",
       "      <td>United Kingdom</td>\n",
       "      <td>1974 - 1983</td>\n",
       "      <td>Article</td>\n",
       "      <td>5</td>\n",
       "    </tr>\n",
       "    <tr>\n",
       "      <th>257</th>\n",
       "      <td>United Kingdom</td>\n",
       "      <td>1984 - 1993</td>\n",
       "      <td>Article</td>\n",
       "      <td>7</td>\n",
       "    </tr>\n",
       "    <tr>\n",
       "      <th>258</th>\n",
       "      <td>United Kingdom</td>\n",
       "      <td>1994 - 2003</td>\n",
       "      <td>Article</td>\n",
       "      <td>7</td>\n",
       "    </tr>\n",
       "    <tr>\n",
       "      <th>259</th>\n",
       "      <td>United Kingdom</td>\n",
       "      <td>1994 - 2003</td>\n",
       "      <td>Editorial</td>\n",
       "      <td>1</td>\n",
       "    </tr>\n",
       "    <tr>\n",
       "      <th>260</th>\n",
       "      <td>United Kingdom</td>\n",
       "      <td>1994 - 2003</td>\n",
       "      <td>Letter</td>\n",
       "      <td>2</td>\n",
       "    </tr>\n",
       "    <tr>\n",
       "      <th>261</th>\n",
       "      <td>United Kingdom</td>\n",
       "      <td>1994 - 2003</td>\n",
       "      <td>Review</td>\n",
       "      <td>1</td>\n",
       "    </tr>\n",
       "    <tr>\n",
       "      <th>262</th>\n",
       "      <td>United Kingdom</td>\n",
       "      <td>2004 - 2013</td>\n",
       "      <td>Article</td>\n",
       "      <td>5</td>\n",
       "    </tr>\n",
       "    <tr>\n",
       "      <th>263</th>\n",
       "      <td>United Kingdom</td>\n",
       "      <td>2004 - 2013</td>\n",
       "      <td>Book Chapter</td>\n",
       "      <td>2</td>\n",
       "    </tr>\n",
       "    <tr>\n",
       "      <th>264</th>\n",
       "      <td>United Kingdom</td>\n",
       "      <td>2004 - 2013</td>\n",
       "      <td>Conference Paper</td>\n",
       "      <td>1</td>\n",
       "    </tr>\n",
       "    <tr>\n",
       "      <th>265</th>\n",
       "      <td>United Kingdom</td>\n",
       "      <td>2004 - 2013</td>\n",
       "      <td>Review</td>\n",
       "      <td>3</td>\n",
       "    </tr>\n",
       "    <tr>\n",
       "      <th>266</th>\n",
       "      <td>United Kingdom</td>\n",
       "      <td>2014 - 2023</td>\n",
       "      <td>Article</td>\n",
       "      <td>15</td>\n",
       "    </tr>\n",
       "    <tr>\n",
       "      <th>267</th>\n",
       "      <td>United Kingdom</td>\n",
       "      <td>2014 - 2023</td>\n",
       "      <td>Book</td>\n",
       "      <td>1</td>\n",
       "    </tr>\n",
       "    <tr>\n",
       "      <th>268</th>\n",
       "      <td>United Kingdom</td>\n",
       "      <td>2014 - 2023</td>\n",
       "      <td>Book Chapter</td>\n",
       "      <td>1</td>\n",
       "    </tr>\n",
       "    <tr>\n",
       "      <th>269</th>\n",
       "      <td>United Kingdom</td>\n",
       "      <td>2014 - 2023</td>\n",
       "      <td>Editorial</td>\n",
       "      <td>2</td>\n",
       "    </tr>\n",
       "    <tr>\n",
       "      <th>270</th>\n",
       "      <td>United Kingdom</td>\n",
       "      <td>2014 - 2023</td>\n",
       "      <td>Letter</td>\n",
       "      <td>1</td>\n",
       "    </tr>\n",
       "    <tr>\n",
       "      <th>271</th>\n",
       "      <td>United Kingdom</td>\n",
       "      <td>2014 - 2023</td>\n",
       "      <td>Note</td>\n",
       "      <td>2</td>\n",
       "    </tr>\n",
       "    <tr>\n",
       "      <th>272</th>\n",
       "      <td>United Kingdom</td>\n",
       "      <td>2014 - 2023</td>\n",
       "      <td>Review</td>\n",
       "      <td>1</td>\n",
       "    </tr>\n",
       "    <tr>\n",
       "      <th>273</th>\n",
       "      <td>United Kingdom</td>\n",
       "      <td>2014 - 2023</td>\n",
       "      <td>Short Survey</td>\n",
       "      <td>1</td>\n",
       "    </tr>\n",
       "    <tr>\n",
       "      <th>274</th>\n",
       "      <td>United States</td>\n",
       "      <td>1954 - 1963</td>\n",
       "      <td>Article</td>\n",
       "      <td>1</td>\n",
       "    </tr>\n",
       "    <tr>\n",
       "      <th>275</th>\n",
       "      <td>United States</td>\n",
       "      <td>1964 - 1973</td>\n",
       "      <td>Article</td>\n",
       "      <td>13</td>\n",
       "    </tr>\n",
       "    <tr>\n",
       "      <th>276</th>\n",
       "      <td>United States</td>\n",
       "      <td>1974 - 1983</td>\n",
       "      <td>Article</td>\n",
       "      <td>55</td>\n",
       "    </tr>\n",
       "    <tr>\n",
       "      <th>277</th>\n",
       "      <td>United States</td>\n",
       "      <td>1974 - 1983</td>\n",
       "      <td>Review</td>\n",
       "      <td>6</td>\n",
       "    </tr>\n",
       "    <tr>\n",
       "      <th>278</th>\n",
       "      <td>United States</td>\n",
       "      <td>1984 - 1993</td>\n",
       "      <td>Article</td>\n",
       "      <td>45</td>\n",
       "    </tr>\n",
       "    <tr>\n",
       "      <th>279</th>\n",
       "      <td>United States</td>\n",
       "      <td>1984 - 1993</td>\n",
       "      <td>Letter</td>\n",
       "      <td>2</td>\n",
       "    </tr>\n",
       "    <tr>\n",
       "      <th>280</th>\n",
       "      <td>United States</td>\n",
       "      <td>1984 - 1993</td>\n",
       "      <td>Review</td>\n",
       "      <td>4</td>\n",
       "    </tr>\n",
       "    <tr>\n",
       "      <th>281</th>\n",
       "      <td>United States</td>\n",
       "      <td>1994 - 2003</td>\n",
       "      <td>Article</td>\n",
       "      <td>27</td>\n",
       "    </tr>\n",
       "    <tr>\n",
       "      <th>282</th>\n",
       "      <td>United States</td>\n",
       "      <td>1994 - 2003</td>\n",
       "      <td>Editorial</td>\n",
       "      <td>1</td>\n",
       "    </tr>\n",
       "    <tr>\n",
       "      <th>283</th>\n",
       "      <td>United States</td>\n",
       "      <td>1994 - 2003</td>\n",
       "      <td>Letter</td>\n",
       "      <td>1</td>\n",
       "    </tr>\n",
       "    <tr>\n",
       "      <th>284</th>\n",
       "      <td>United States</td>\n",
       "      <td>1994 - 2003</td>\n",
       "      <td>Review</td>\n",
       "      <td>10</td>\n",
       "    </tr>\n",
       "    <tr>\n",
       "      <th>285</th>\n",
       "      <td>United States</td>\n",
       "      <td>2004 - 2013</td>\n",
       "      <td>Article</td>\n",
       "      <td>24</td>\n",
       "    </tr>\n",
       "    <tr>\n",
       "      <th>286</th>\n",
       "      <td>United States</td>\n",
       "      <td>2004 - 2013</td>\n",
       "      <td>Book Chapter</td>\n",
       "      <td>3</td>\n",
       "    </tr>\n",
       "    <tr>\n",
       "      <th>287</th>\n",
       "      <td>United States</td>\n",
       "      <td>2004 - 2013</td>\n",
       "      <td>Conference Paper</td>\n",
       "      <td>3</td>\n",
       "    </tr>\n",
       "    <tr>\n",
       "      <th>288</th>\n",
       "      <td>United States</td>\n",
       "      <td>2004 - 2013</td>\n",
       "      <td>Letter</td>\n",
       "      <td>2</td>\n",
       "    </tr>\n",
       "    <tr>\n",
       "      <th>289</th>\n",
       "      <td>United States</td>\n",
       "      <td>2004 - 2013</td>\n",
       "      <td>Note</td>\n",
       "      <td>2</td>\n",
       "    </tr>\n",
       "    <tr>\n",
       "      <th>290</th>\n",
       "      <td>United States</td>\n",
       "      <td>2004 - 2013</td>\n",
       "      <td>Review</td>\n",
       "      <td>15</td>\n",
       "    </tr>\n",
       "    <tr>\n",
       "      <th>291</th>\n",
       "      <td>United States</td>\n",
       "      <td>2004 - 2013</td>\n",
       "      <td>Short Survey</td>\n",
       "      <td>1</td>\n",
       "    </tr>\n",
       "    <tr>\n",
       "      <th>292</th>\n",
       "      <td>United States</td>\n",
       "      <td>2014 - 2023</td>\n",
       "      <td>Article</td>\n",
       "      <td>74</td>\n",
       "    </tr>\n",
       "    <tr>\n",
       "      <th>293</th>\n",
       "      <td>United States</td>\n",
       "      <td>2014 - 2023</td>\n",
       "      <td>Book Chapter</td>\n",
       "      <td>2</td>\n",
       "    </tr>\n",
       "    <tr>\n",
       "      <th>294</th>\n",
       "      <td>United States</td>\n",
       "      <td>2014 - 2023</td>\n",
       "      <td>Conference Paper</td>\n",
       "      <td>5</td>\n",
       "    </tr>\n",
       "    <tr>\n",
       "      <th>295</th>\n",
       "      <td>United States</td>\n",
       "      <td>2014 - 2023</td>\n",
       "      <td>Letter</td>\n",
       "      <td>4</td>\n",
       "    </tr>\n",
       "    <tr>\n",
       "      <th>296</th>\n",
       "      <td>United States</td>\n",
       "      <td>2014 - 2023</td>\n",
       "      <td>Note</td>\n",
       "      <td>6</td>\n",
       "    </tr>\n",
       "    <tr>\n",
       "      <th>297</th>\n",
       "      <td>United States</td>\n",
       "      <td>2014 - 2023</td>\n",
       "      <td>Review</td>\n",
       "      <td>21</td>\n",
       "    </tr>\n",
       "  </tbody>\n",
       "</table>\n",
       "</div>"
      ],
      "text/plain": [
       "          countries       Period     Document Type  counts\n",
       "255  United Kingdom  1964 - 1973           Article       3\n",
       "256  United Kingdom  1974 - 1983           Article       5\n",
       "257  United Kingdom  1984 - 1993           Article       7\n",
       "258  United Kingdom  1994 - 2003           Article       7\n",
       "259  United Kingdom  1994 - 2003         Editorial       1\n",
       "260  United Kingdom  1994 - 2003            Letter       2\n",
       "261  United Kingdom  1994 - 2003            Review       1\n",
       "262  United Kingdom  2004 - 2013           Article       5\n",
       "263  United Kingdom  2004 - 2013      Book Chapter       2\n",
       "264  United Kingdom  2004 - 2013  Conference Paper       1\n",
       "265  United Kingdom  2004 - 2013            Review       3\n",
       "266  United Kingdom  2014 - 2023           Article      15\n",
       "267  United Kingdom  2014 - 2023              Book       1\n",
       "268  United Kingdom  2014 - 2023      Book Chapter       1\n",
       "269  United Kingdom  2014 - 2023         Editorial       2\n",
       "270  United Kingdom  2014 - 2023            Letter       1\n",
       "271  United Kingdom  2014 - 2023              Note       2\n",
       "272  United Kingdom  2014 - 2023            Review       1\n",
       "273  United Kingdom  2014 - 2023      Short Survey       1\n",
       "274   United States  1954 - 1963           Article       1\n",
       "275   United States  1964 - 1973           Article      13\n",
       "276   United States  1974 - 1983           Article      55\n",
       "277   United States  1974 - 1983            Review       6\n",
       "278   United States  1984 - 1993           Article      45\n",
       "279   United States  1984 - 1993            Letter       2\n",
       "280   United States  1984 - 1993            Review       4\n",
       "281   United States  1994 - 2003           Article      27\n",
       "282   United States  1994 - 2003         Editorial       1\n",
       "283   United States  1994 - 2003            Letter       1\n",
       "284   United States  1994 - 2003            Review      10\n",
       "285   United States  2004 - 2013           Article      24\n",
       "286   United States  2004 - 2013      Book Chapter       3\n",
       "287   United States  2004 - 2013  Conference Paper       3\n",
       "288   United States  2004 - 2013            Letter       2\n",
       "289   United States  2004 - 2013              Note       2\n",
       "290   United States  2004 - 2013            Review      15\n",
       "291   United States  2004 - 2013      Short Survey       1\n",
       "292   United States  2014 - 2023           Article      74\n",
       "293   United States  2014 - 2023      Book Chapter       2\n",
       "294   United States  2014 - 2023  Conference Paper       5\n",
       "295   United States  2014 - 2023            Letter       4\n",
       "296   United States  2014 - 2023              Note       6\n",
       "297   United States  2014 - 2023            Review      21"
      ]
     },
     "execution_count": 57,
     "metadata": {},
     "output_type": "execute_result"
    }
   ],
   "source": [
    "comp_list=['United Kingdom','United States']\n",
    "temp_df = df_num_publications_dc[df_num_publications_dc.countries.isin(comp_list)]\n",
    "temp_df"
   ]
  },
  {
   "cell_type": "code",
   "execution_count": 58,
   "metadata": {},
   "outputs": [
    {
     "data": {
      "application/vnd.plotly.v1+json": {
       "config": {
        "plotlyServerURL": "https://plot.ly"
       },
       "data": [
        {
         "name": "United Kingdom",
         "type": "bar",
         "x": [
          "1964 - 1973",
          "1974 - 1983",
          "1984 - 1993",
          "1994 - 2003",
          "1994 - 2003",
          "1994 - 2003",
          "1994 - 2003",
          "2004 - 2013",
          "2004 - 2013",
          "2004 - 2013",
          "2004 - 2013",
          "2014 - 2023",
          "2014 - 2023",
          "2014 - 2023",
          "2014 - 2023",
          "2014 - 2023",
          "2014 - 2023",
          "2014 - 2023",
          "2014 - 2023"
         ],
         "y": [
          3,
          5,
          7,
          7,
          1,
          2,
          1,
          5,
          2,
          1,
          3,
          15,
          1,
          1,
          2,
          1,
          2,
          1,
          1
         ]
        },
        {
         "name": "United States",
         "type": "bar",
         "x": [
          "1954 - 1963",
          "1964 - 1973",
          "1974 - 1983",
          "1974 - 1983",
          "1984 - 1993",
          "1984 - 1993",
          "1984 - 1993",
          "1994 - 2003",
          "1994 - 2003",
          "1994 - 2003",
          "1994 - 2003",
          "2004 - 2013",
          "2004 - 2013",
          "2004 - 2013",
          "2004 - 2013",
          "2004 - 2013",
          "2004 - 2013",
          "2004 - 2013",
          "2014 - 2023",
          "2014 - 2023",
          "2014 - 2023",
          "2014 - 2023",
          "2014 - 2023",
          "2014 - 2023"
         ],
         "y": [
          1,
          13,
          55,
          6,
          45,
          2,
          4,
          27,
          1,
          1,
          10,
          24,
          3,
          3,
          2,
          2,
          15,
          1,
          74,
          2,
          5,
          4,
          6,
          21
         ]
        }
       ],
       "layout": {
        "template": {
         "data": {
          "bar": [
           {
            "error_x": {
             "color": "#2a3f5f"
            },
            "error_y": {
             "color": "#2a3f5f"
            },
            "marker": {
             "line": {
              "color": "#E5ECF6",
              "width": 0.5
             },
             "pattern": {
              "fillmode": "overlay",
              "size": 10,
              "solidity": 0.2
             }
            },
            "type": "bar"
           }
          ],
          "barpolar": [
           {
            "marker": {
             "line": {
              "color": "#E5ECF6",
              "width": 0.5
             },
             "pattern": {
              "fillmode": "overlay",
              "size": 10,
              "solidity": 0.2
             }
            },
            "type": "barpolar"
           }
          ],
          "carpet": [
           {
            "aaxis": {
             "endlinecolor": "#2a3f5f",
             "gridcolor": "white",
             "linecolor": "white",
             "minorgridcolor": "white",
             "startlinecolor": "#2a3f5f"
            },
            "baxis": {
             "endlinecolor": "#2a3f5f",
             "gridcolor": "white",
             "linecolor": "white",
             "minorgridcolor": "white",
             "startlinecolor": "#2a3f5f"
            },
            "type": "carpet"
           }
          ],
          "choropleth": [
           {
            "colorbar": {
             "outlinewidth": 0,
             "ticks": ""
            },
            "type": "choropleth"
           }
          ],
          "contour": [
           {
            "colorbar": {
             "outlinewidth": 0,
             "ticks": ""
            },
            "colorscale": [
             [
              0,
              "#0d0887"
             ],
             [
              0.1111111111111111,
              "#46039f"
             ],
             [
              0.2222222222222222,
              "#7201a8"
             ],
             [
              0.3333333333333333,
              "#9c179e"
             ],
             [
              0.4444444444444444,
              "#bd3786"
             ],
             [
              0.5555555555555556,
              "#d8576b"
             ],
             [
              0.6666666666666666,
              "#ed7953"
             ],
             [
              0.7777777777777778,
              "#fb9f3a"
             ],
             [
              0.8888888888888888,
              "#fdca26"
             ],
             [
              1,
              "#f0f921"
             ]
            ],
            "type": "contour"
           }
          ],
          "contourcarpet": [
           {
            "colorbar": {
             "outlinewidth": 0,
             "ticks": ""
            },
            "type": "contourcarpet"
           }
          ],
          "heatmap": [
           {
            "colorbar": {
             "outlinewidth": 0,
             "ticks": ""
            },
            "colorscale": [
             [
              0,
              "#0d0887"
             ],
             [
              0.1111111111111111,
              "#46039f"
             ],
             [
              0.2222222222222222,
              "#7201a8"
             ],
             [
              0.3333333333333333,
              "#9c179e"
             ],
             [
              0.4444444444444444,
              "#bd3786"
             ],
             [
              0.5555555555555556,
              "#d8576b"
             ],
             [
              0.6666666666666666,
              "#ed7953"
             ],
             [
              0.7777777777777778,
              "#fb9f3a"
             ],
             [
              0.8888888888888888,
              "#fdca26"
             ],
             [
              1,
              "#f0f921"
             ]
            ],
            "type": "heatmap"
           }
          ],
          "heatmapgl": [
           {
            "colorbar": {
             "outlinewidth": 0,
             "ticks": ""
            },
            "colorscale": [
             [
              0,
              "#0d0887"
             ],
             [
              0.1111111111111111,
              "#46039f"
             ],
             [
              0.2222222222222222,
              "#7201a8"
             ],
             [
              0.3333333333333333,
              "#9c179e"
             ],
             [
              0.4444444444444444,
              "#bd3786"
             ],
             [
              0.5555555555555556,
              "#d8576b"
             ],
             [
              0.6666666666666666,
              "#ed7953"
             ],
             [
              0.7777777777777778,
              "#fb9f3a"
             ],
             [
              0.8888888888888888,
              "#fdca26"
             ],
             [
              1,
              "#f0f921"
             ]
            ],
            "type": "heatmapgl"
           }
          ],
          "histogram": [
           {
            "marker": {
             "pattern": {
              "fillmode": "overlay",
              "size": 10,
              "solidity": 0.2
             }
            },
            "type": "histogram"
           }
          ],
          "histogram2d": [
           {
            "colorbar": {
             "outlinewidth": 0,
             "ticks": ""
            },
            "colorscale": [
             [
              0,
              "#0d0887"
             ],
             [
              0.1111111111111111,
              "#46039f"
             ],
             [
              0.2222222222222222,
              "#7201a8"
             ],
             [
              0.3333333333333333,
              "#9c179e"
             ],
             [
              0.4444444444444444,
              "#bd3786"
             ],
             [
              0.5555555555555556,
              "#d8576b"
             ],
             [
              0.6666666666666666,
              "#ed7953"
             ],
             [
              0.7777777777777778,
              "#fb9f3a"
             ],
             [
              0.8888888888888888,
              "#fdca26"
             ],
             [
              1,
              "#f0f921"
             ]
            ],
            "type": "histogram2d"
           }
          ],
          "histogram2dcontour": [
           {
            "colorbar": {
             "outlinewidth": 0,
             "ticks": ""
            },
            "colorscale": [
             [
              0,
              "#0d0887"
             ],
             [
              0.1111111111111111,
              "#46039f"
             ],
             [
              0.2222222222222222,
              "#7201a8"
             ],
             [
              0.3333333333333333,
              "#9c179e"
             ],
             [
              0.4444444444444444,
              "#bd3786"
             ],
             [
              0.5555555555555556,
              "#d8576b"
             ],
             [
              0.6666666666666666,
              "#ed7953"
             ],
             [
              0.7777777777777778,
              "#fb9f3a"
             ],
             [
              0.8888888888888888,
              "#fdca26"
             ],
             [
              1,
              "#f0f921"
             ]
            ],
            "type": "histogram2dcontour"
           }
          ],
          "mesh3d": [
           {
            "colorbar": {
             "outlinewidth": 0,
             "ticks": ""
            },
            "type": "mesh3d"
           }
          ],
          "parcoords": [
           {
            "line": {
             "colorbar": {
              "outlinewidth": 0,
              "ticks": ""
             }
            },
            "type": "parcoords"
           }
          ],
          "pie": [
           {
            "automargin": true,
            "type": "pie"
           }
          ],
          "scatter": [
           {
            "fillpattern": {
             "fillmode": "overlay",
             "size": 10,
             "solidity": 0.2
            },
            "type": "scatter"
           }
          ],
          "scatter3d": [
           {
            "line": {
             "colorbar": {
              "outlinewidth": 0,
              "ticks": ""
             }
            },
            "marker": {
             "colorbar": {
              "outlinewidth": 0,
              "ticks": ""
             }
            },
            "type": "scatter3d"
           }
          ],
          "scattercarpet": [
           {
            "marker": {
             "colorbar": {
              "outlinewidth": 0,
              "ticks": ""
             }
            },
            "type": "scattercarpet"
           }
          ],
          "scattergeo": [
           {
            "marker": {
             "colorbar": {
              "outlinewidth": 0,
              "ticks": ""
             }
            },
            "type": "scattergeo"
           }
          ],
          "scattergl": [
           {
            "marker": {
             "colorbar": {
              "outlinewidth": 0,
              "ticks": ""
             }
            },
            "type": "scattergl"
           }
          ],
          "scattermapbox": [
           {
            "marker": {
             "colorbar": {
              "outlinewidth": 0,
              "ticks": ""
             }
            },
            "type": "scattermapbox"
           }
          ],
          "scatterpolar": [
           {
            "marker": {
             "colorbar": {
              "outlinewidth": 0,
              "ticks": ""
             }
            },
            "type": "scatterpolar"
           }
          ],
          "scatterpolargl": [
           {
            "marker": {
             "colorbar": {
              "outlinewidth": 0,
              "ticks": ""
             }
            },
            "type": "scatterpolargl"
           }
          ],
          "scatterternary": [
           {
            "marker": {
             "colorbar": {
              "outlinewidth": 0,
              "ticks": ""
             }
            },
            "type": "scatterternary"
           }
          ],
          "surface": [
           {
            "colorbar": {
             "outlinewidth": 0,
             "ticks": ""
            },
            "colorscale": [
             [
              0,
              "#0d0887"
             ],
             [
              0.1111111111111111,
              "#46039f"
             ],
             [
              0.2222222222222222,
              "#7201a8"
             ],
             [
              0.3333333333333333,
              "#9c179e"
             ],
             [
              0.4444444444444444,
              "#bd3786"
             ],
             [
              0.5555555555555556,
              "#d8576b"
             ],
             [
              0.6666666666666666,
              "#ed7953"
             ],
             [
              0.7777777777777778,
              "#fb9f3a"
             ],
             [
              0.8888888888888888,
              "#fdca26"
             ],
             [
              1,
              "#f0f921"
             ]
            ],
            "type": "surface"
           }
          ],
          "table": [
           {
            "cells": {
             "fill": {
              "color": "#EBF0F8"
             },
             "line": {
              "color": "white"
             }
            },
            "header": {
             "fill": {
              "color": "#C8D4E3"
             },
             "line": {
              "color": "white"
             }
            },
            "type": "table"
           }
          ]
         },
         "layout": {
          "annotationdefaults": {
           "arrowcolor": "#2a3f5f",
           "arrowhead": 0,
           "arrowwidth": 1
          },
          "autotypenumbers": "strict",
          "coloraxis": {
           "colorbar": {
            "outlinewidth": 0,
            "ticks": ""
           }
          },
          "colorscale": {
           "diverging": [
            [
             0,
             "#8e0152"
            ],
            [
             0.1,
             "#c51b7d"
            ],
            [
             0.2,
             "#de77ae"
            ],
            [
             0.3,
             "#f1b6da"
            ],
            [
             0.4,
             "#fde0ef"
            ],
            [
             0.5,
             "#f7f7f7"
            ],
            [
             0.6,
             "#e6f5d0"
            ],
            [
             0.7,
             "#b8e186"
            ],
            [
             0.8,
             "#7fbc41"
            ],
            [
             0.9,
             "#4d9221"
            ],
            [
             1,
             "#276419"
            ]
           ],
           "sequential": [
            [
             0,
             "#0d0887"
            ],
            [
             0.1111111111111111,
             "#46039f"
            ],
            [
             0.2222222222222222,
             "#7201a8"
            ],
            [
             0.3333333333333333,
             "#9c179e"
            ],
            [
             0.4444444444444444,
             "#bd3786"
            ],
            [
             0.5555555555555556,
             "#d8576b"
            ],
            [
             0.6666666666666666,
             "#ed7953"
            ],
            [
             0.7777777777777778,
             "#fb9f3a"
            ],
            [
             0.8888888888888888,
             "#fdca26"
            ],
            [
             1,
             "#f0f921"
            ]
           ],
           "sequentialminus": [
            [
             0,
             "#0d0887"
            ],
            [
             0.1111111111111111,
             "#46039f"
            ],
            [
             0.2222222222222222,
             "#7201a8"
            ],
            [
             0.3333333333333333,
             "#9c179e"
            ],
            [
             0.4444444444444444,
             "#bd3786"
            ],
            [
             0.5555555555555556,
             "#d8576b"
            ],
            [
             0.6666666666666666,
             "#ed7953"
            ],
            [
             0.7777777777777778,
             "#fb9f3a"
            ],
            [
             0.8888888888888888,
             "#fdca26"
            ],
            [
             1,
             "#f0f921"
            ]
           ]
          },
          "colorway": [
           "#636efa",
           "#EF553B",
           "#00cc96",
           "#ab63fa",
           "#FFA15A",
           "#19d3f3",
           "#FF6692",
           "#B6E880",
           "#FF97FF",
           "#FECB52"
          ],
          "font": {
           "color": "#2a3f5f"
          },
          "geo": {
           "bgcolor": "white",
           "lakecolor": "white",
           "landcolor": "#E5ECF6",
           "showlakes": true,
           "showland": true,
           "subunitcolor": "white"
          },
          "hoverlabel": {
           "align": "left"
          },
          "hovermode": "closest",
          "mapbox": {
           "style": "light"
          },
          "paper_bgcolor": "white",
          "plot_bgcolor": "#E5ECF6",
          "polar": {
           "angularaxis": {
            "gridcolor": "white",
            "linecolor": "white",
            "ticks": ""
           },
           "bgcolor": "#E5ECF6",
           "radialaxis": {
            "gridcolor": "white",
            "linecolor": "white",
            "ticks": ""
           }
          },
          "scene": {
           "xaxis": {
            "backgroundcolor": "#E5ECF6",
            "gridcolor": "white",
            "gridwidth": 2,
            "linecolor": "white",
            "showbackground": true,
            "ticks": "",
            "zerolinecolor": "white"
           },
           "yaxis": {
            "backgroundcolor": "#E5ECF6",
            "gridcolor": "white",
            "gridwidth": 2,
            "linecolor": "white",
            "showbackground": true,
            "ticks": "",
            "zerolinecolor": "white"
           },
           "zaxis": {
            "backgroundcolor": "#E5ECF6",
            "gridcolor": "white",
            "gridwidth": 2,
            "linecolor": "white",
            "showbackground": true,
            "ticks": "",
            "zerolinecolor": "white"
           }
          },
          "shapedefaults": {
           "line": {
            "color": "#2a3f5f"
           }
          },
          "ternary": {
           "aaxis": {
            "gridcolor": "white",
            "linecolor": "white",
            "ticks": ""
           },
           "baxis": {
            "gridcolor": "white",
            "linecolor": "white",
            "ticks": ""
           },
           "bgcolor": "#E5ECF6",
           "caxis": {
            "gridcolor": "white",
            "linecolor": "white",
            "ticks": ""
           }
          },
          "title": {
           "x": 0.05
          },
          "xaxis": {
           "automargin": true,
           "gridcolor": "white",
           "linecolor": "white",
           "ticks": "",
           "title": {
            "standoff": 15
           },
           "zerolinecolor": "white",
           "zerolinewidth": 2
          },
          "yaxis": {
           "automargin": true,
           "gridcolor": "white",
           "linecolor": "white",
           "ticks": "",
           "title": {
            "standoff": 15
           },
           "zerolinecolor": "white",
           "zerolinewidth": 2
          }
         }
        }
       }
      }
     },
     "metadata": {},
     "output_type": "display_data"
    }
   ],
   "source": [
    "fig = go.Figure()\n",
    "\n",
    "for y in temp_df.countries.unique():\n",
    "    dfy = temp_df[temp_df.countries == y]\n",
    "    fig.add_bar(x = dfy.Period, y = dfy.counts, name = str(y))\n",
    "\n",
    "fig.show()"
   ]
  },
  {
   "cell_type": "code",
   "execution_count": 61,
   "metadata": {},
   "outputs": [],
   "source": [
    "def comp_country_publications_dc(country1, country2):\n",
    "    comp_list=[country1, country2]\n",
    "    #create dataframe with values of chosen countries\n",
    "    temp_df = df_num_publications_dc[df_num_publications_dc.countries.isin(comp_list)]\n",
    "    #create grouped bar graph\n",
    "    fig = go.Figure()\n",
    "    \n",
    "    for y in temp_df.countries.unique():\n",
    "        dfy = temp_df[temp_df.countries == y]\n",
    "        fig.add_bar(x = dfy.Period, y = dfy.counts, name = str(y))\n",
    "    \n",
    "    return(fig.show())"
   ]
  },
  {
   "cell_type": "code",
   "execution_count": 62,
   "metadata": {},
   "outputs": [
    {
     "data": {
      "application/vnd.plotly.v1+json": {
       "config": {
        "plotlyServerURL": "https://plot.ly"
       },
       "data": [
        {
         "name": "Germany",
         "type": "bar",
         "x": [
          "1974 - 1983",
          "1984 - 1993",
          "1994 - 2003",
          "2004 - 2013",
          "2004 - 2013",
          "2004 - 2013",
          "2004 - 2013",
          "2014 - 2023",
          "2014 - 2023",
          "2014 - 2023"
         ],
         "y": [
          2,
          1,
          2,
          1,
          1,
          1,
          1,
          3,
          1,
          1
         ]
        },
        {
         "name": "United States",
         "type": "bar",
         "x": [
          "1954 - 1963",
          "1964 - 1973",
          "1974 - 1983",
          "1974 - 1983",
          "1984 - 1993",
          "1984 - 1993",
          "1984 - 1993",
          "1994 - 2003",
          "1994 - 2003",
          "1994 - 2003",
          "1994 - 2003",
          "2004 - 2013",
          "2004 - 2013",
          "2004 - 2013",
          "2004 - 2013",
          "2004 - 2013",
          "2004 - 2013",
          "2004 - 2013",
          "2014 - 2023",
          "2014 - 2023",
          "2014 - 2023",
          "2014 - 2023",
          "2014 - 2023",
          "2014 - 2023"
         ],
         "y": [
          1,
          13,
          55,
          6,
          45,
          2,
          4,
          27,
          1,
          1,
          10,
          24,
          3,
          3,
          2,
          2,
          15,
          1,
          74,
          2,
          5,
          4,
          6,
          21
         ]
        }
       ],
       "layout": {
        "template": {
         "data": {
          "bar": [
           {
            "error_x": {
             "color": "#2a3f5f"
            },
            "error_y": {
             "color": "#2a3f5f"
            },
            "marker": {
             "line": {
              "color": "#E5ECF6",
              "width": 0.5
             },
             "pattern": {
              "fillmode": "overlay",
              "size": 10,
              "solidity": 0.2
             }
            },
            "type": "bar"
           }
          ],
          "barpolar": [
           {
            "marker": {
             "line": {
              "color": "#E5ECF6",
              "width": 0.5
             },
             "pattern": {
              "fillmode": "overlay",
              "size": 10,
              "solidity": 0.2
             }
            },
            "type": "barpolar"
           }
          ],
          "carpet": [
           {
            "aaxis": {
             "endlinecolor": "#2a3f5f",
             "gridcolor": "white",
             "linecolor": "white",
             "minorgridcolor": "white",
             "startlinecolor": "#2a3f5f"
            },
            "baxis": {
             "endlinecolor": "#2a3f5f",
             "gridcolor": "white",
             "linecolor": "white",
             "minorgridcolor": "white",
             "startlinecolor": "#2a3f5f"
            },
            "type": "carpet"
           }
          ],
          "choropleth": [
           {
            "colorbar": {
             "outlinewidth": 0,
             "ticks": ""
            },
            "type": "choropleth"
           }
          ],
          "contour": [
           {
            "colorbar": {
             "outlinewidth": 0,
             "ticks": ""
            },
            "colorscale": [
             [
              0,
              "#0d0887"
             ],
             [
              0.1111111111111111,
              "#46039f"
             ],
             [
              0.2222222222222222,
              "#7201a8"
             ],
             [
              0.3333333333333333,
              "#9c179e"
             ],
             [
              0.4444444444444444,
              "#bd3786"
             ],
             [
              0.5555555555555556,
              "#d8576b"
             ],
             [
              0.6666666666666666,
              "#ed7953"
             ],
             [
              0.7777777777777778,
              "#fb9f3a"
             ],
             [
              0.8888888888888888,
              "#fdca26"
             ],
             [
              1,
              "#f0f921"
             ]
            ],
            "type": "contour"
           }
          ],
          "contourcarpet": [
           {
            "colorbar": {
             "outlinewidth": 0,
             "ticks": ""
            },
            "type": "contourcarpet"
           }
          ],
          "heatmap": [
           {
            "colorbar": {
             "outlinewidth": 0,
             "ticks": ""
            },
            "colorscale": [
             [
              0,
              "#0d0887"
             ],
             [
              0.1111111111111111,
              "#46039f"
             ],
             [
              0.2222222222222222,
              "#7201a8"
             ],
             [
              0.3333333333333333,
              "#9c179e"
             ],
             [
              0.4444444444444444,
              "#bd3786"
             ],
             [
              0.5555555555555556,
              "#d8576b"
             ],
             [
              0.6666666666666666,
              "#ed7953"
             ],
             [
              0.7777777777777778,
              "#fb9f3a"
             ],
             [
              0.8888888888888888,
              "#fdca26"
             ],
             [
              1,
              "#f0f921"
             ]
            ],
            "type": "heatmap"
           }
          ],
          "heatmapgl": [
           {
            "colorbar": {
             "outlinewidth": 0,
             "ticks": ""
            },
            "colorscale": [
             [
              0,
              "#0d0887"
             ],
             [
              0.1111111111111111,
              "#46039f"
             ],
             [
              0.2222222222222222,
              "#7201a8"
             ],
             [
              0.3333333333333333,
              "#9c179e"
             ],
             [
              0.4444444444444444,
              "#bd3786"
             ],
             [
              0.5555555555555556,
              "#d8576b"
             ],
             [
              0.6666666666666666,
              "#ed7953"
             ],
             [
              0.7777777777777778,
              "#fb9f3a"
             ],
             [
              0.8888888888888888,
              "#fdca26"
             ],
             [
              1,
              "#f0f921"
             ]
            ],
            "type": "heatmapgl"
           }
          ],
          "histogram": [
           {
            "marker": {
             "pattern": {
              "fillmode": "overlay",
              "size": 10,
              "solidity": 0.2
             }
            },
            "type": "histogram"
           }
          ],
          "histogram2d": [
           {
            "colorbar": {
             "outlinewidth": 0,
             "ticks": ""
            },
            "colorscale": [
             [
              0,
              "#0d0887"
             ],
             [
              0.1111111111111111,
              "#46039f"
             ],
             [
              0.2222222222222222,
              "#7201a8"
             ],
             [
              0.3333333333333333,
              "#9c179e"
             ],
             [
              0.4444444444444444,
              "#bd3786"
             ],
             [
              0.5555555555555556,
              "#d8576b"
             ],
             [
              0.6666666666666666,
              "#ed7953"
             ],
             [
              0.7777777777777778,
              "#fb9f3a"
             ],
             [
              0.8888888888888888,
              "#fdca26"
             ],
             [
              1,
              "#f0f921"
             ]
            ],
            "type": "histogram2d"
           }
          ],
          "histogram2dcontour": [
           {
            "colorbar": {
             "outlinewidth": 0,
             "ticks": ""
            },
            "colorscale": [
             [
              0,
              "#0d0887"
             ],
             [
              0.1111111111111111,
              "#46039f"
             ],
             [
              0.2222222222222222,
              "#7201a8"
             ],
             [
              0.3333333333333333,
              "#9c179e"
             ],
             [
              0.4444444444444444,
              "#bd3786"
             ],
             [
              0.5555555555555556,
              "#d8576b"
             ],
             [
              0.6666666666666666,
              "#ed7953"
             ],
             [
              0.7777777777777778,
              "#fb9f3a"
             ],
             [
              0.8888888888888888,
              "#fdca26"
             ],
             [
              1,
              "#f0f921"
             ]
            ],
            "type": "histogram2dcontour"
           }
          ],
          "mesh3d": [
           {
            "colorbar": {
             "outlinewidth": 0,
             "ticks": ""
            },
            "type": "mesh3d"
           }
          ],
          "parcoords": [
           {
            "line": {
             "colorbar": {
              "outlinewidth": 0,
              "ticks": ""
             }
            },
            "type": "parcoords"
           }
          ],
          "pie": [
           {
            "automargin": true,
            "type": "pie"
           }
          ],
          "scatter": [
           {
            "fillpattern": {
             "fillmode": "overlay",
             "size": 10,
             "solidity": 0.2
            },
            "type": "scatter"
           }
          ],
          "scatter3d": [
           {
            "line": {
             "colorbar": {
              "outlinewidth": 0,
              "ticks": ""
             }
            },
            "marker": {
             "colorbar": {
              "outlinewidth": 0,
              "ticks": ""
             }
            },
            "type": "scatter3d"
           }
          ],
          "scattercarpet": [
           {
            "marker": {
             "colorbar": {
              "outlinewidth": 0,
              "ticks": ""
             }
            },
            "type": "scattercarpet"
           }
          ],
          "scattergeo": [
           {
            "marker": {
             "colorbar": {
              "outlinewidth": 0,
              "ticks": ""
             }
            },
            "type": "scattergeo"
           }
          ],
          "scattergl": [
           {
            "marker": {
             "colorbar": {
              "outlinewidth": 0,
              "ticks": ""
             }
            },
            "type": "scattergl"
           }
          ],
          "scattermapbox": [
           {
            "marker": {
             "colorbar": {
              "outlinewidth": 0,
              "ticks": ""
             }
            },
            "type": "scattermapbox"
           }
          ],
          "scatterpolar": [
           {
            "marker": {
             "colorbar": {
              "outlinewidth": 0,
              "ticks": ""
             }
            },
            "type": "scatterpolar"
           }
          ],
          "scatterpolargl": [
           {
            "marker": {
             "colorbar": {
              "outlinewidth": 0,
              "ticks": ""
             }
            },
            "type": "scatterpolargl"
           }
          ],
          "scatterternary": [
           {
            "marker": {
             "colorbar": {
              "outlinewidth": 0,
              "ticks": ""
             }
            },
            "type": "scatterternary"
           }
          ],
          "surface": [
           {
            "colorbar": {
             "outlinewidth": 0,
             "ticks": ""
            },
            "colorscale": [
             [
              0,
              "#0d0887"
             ],
             [
              0.1111111111111111,
              "#46039f"
             ],
             [
              0.2222222222222222,
              "#7201a8"
             ],
             [
              0.3333333333333333,
              "#9c179e"
             ],
             [
              0.4444444444444444,
              "#bd3786"
             ],
             [
              0.5555555555555556,
              "#d8576b"
             ],
             [
              0.6666666666666666,
              "#ed7953"
             ],
             [
              0.7777777777777778,
              "#fb9f3a"
             ],
             [
              0.8888888888888888,
              "#fdca26"
             ],
             [
              1,
              "#f0f921"
             ]
            ],
            "type": "surface"
           }
          ],
          "table": [
           {
            "cells": {
             "fill": {
              "color": "#EBF0F8"
             },
             "line": {
              "color": "white"
             }
            },
            "header": {
             "fill": {
              "color": "#C8D4E3"
             },
             "line": {
              "color": "white"
             }
            },
            "type": "table"
           }
          ]
         },
         "layout": {
          "annotationdefaults": {
           "arrowcolor": "#2a3f5f",
           "arrowhead": 0,
           "arrowwidth": 1
          },
          "autotypenumbers": "strict",
          "coloraxis": {
           "colorbar": {
            "outlinewidth": 0,
            "ticks": ""
           }
          },
          "colorscale": {
           "diverging": [
            [
             0,
             "#8e0152"
            ],
            [
             0.1,
             "#c51b7d"
            ],
            [
             0.2,
             "#de77ae"
            ],
            [
             0.3,
             "#f1b6da"
            ],
            [
             0.4,
             "#fde0ef"
            ],
            [
             0.5,
             "#f7f7f7"
            ],
            [
             0.6,
             "#e6f5d0"
            ],
            [
             0.7,
             "#b8e186"
            ],
            [
             0.8,
             "#7fbc41"
            ],
            [
             0.9,
             "#4d9221"
            ],
            [
             1,
             "#276419"
            ]
           ],
           "sequential": [
            [
             0,
             "#0d0887"
            ],
            [
             0.1111111111111111,
             "#46039f"
            ],
            [
             0.2222222222222222,
             "#7201a8"
            ],
            [
             0.3333333333333333,
             "#9c179e"
            ],
            [
             0.4444444444444444,
             "#bd3786"
            ],
            [
             0.5555555555555556,
             "#d8576b"
            ],
            [
             0.6666666666666666,
             "#ed7953"
            ],
            [
             0.7777777777777778,
             "#fb9f3a"
            ],
            [
             0.8888888888888888,
             "#fdca26"
            ],
            [
             1,
             "#f0f921"
            ]
           ],
           "sequentialminus": [
            [
             0,
             "#0d0887"
            ],
            [
             0.1111111111111111,
             "#46039f"
            ],
            [
             0.2222222222222222,
             "#7201a8"
            ],
            [
             0.3333333333333333,
             "#9c179e"
            ],
            [
             0.4444444444444444,
             "#bd3786"
            ],
            [
             0.5555555555555556,
             "#d8576b"
            ],
            [
             0.6666666666666666,
             "#ed7953"
            ],
            [
             0.7777777777777778,
             "#fb9f3a"
            ],
            [
             0.8888888888888888,
             "#fdca26"
            ],
            [
             1,
             "#f0f921"
            ]
           ]
          },
          "colorway": [
           "#636efa",
           "#EF553B",
           "#00cc96",
           "#ab63fa",
           "#FFA15A",
           "#19d3f3",
           "#FF6692",
           "#B6E880",
           "#FF97FF",
           "#FECB52"
          ],
          "font": {
           "color": "#2a3f5f"
          },
          "geo": {
           "bgcolor": "white",
           "lakecolor": "white",
           "landcolor": "#E5ECF6",
           "showlakes": true,
           "showland": true,
           "subunitcolor": "white"
          },
          "hoverlabel": {
           "align": "left"
          },
          "hovermode": "closest",
          "mapbox": {
           "style": "light"
          },
          "paper_bgcolor": "white",
          "plot_bgcolor": "#E5ECF6",
          "polar": {
           "angularaxis": {
            "gridcolor": "white",
            "linecolor": "white",
            "ticks": ""
           },
           "bgcolor": "#E5ECF6",
           "radialaxis": {
            "gridcolor": "white",
            "linecolor": "white",
            "ticks": ""
           }
          },
          "scene": {
           "xaxis": {
            "backgroundcolor": "#E5ECF6",
            "gridcolor": "white",
            "gridwidth": 2,
            "linecolor": "white",
            "showbackground": true,
            "ticks": "",
            "zerolinecolor": "white"
           },
           "yaxis": {
            "backgroundcolor": "#E5ECF6",
            "gridcolor": "white",
            "gridwidth": 2,
            "linecolor": "white",
            "showbackground": true,
            "ticks": "",
            "zerolinecolor": "white"
           },
           "zaxis": {
            "backgroundcolor": "#E5ECF6",
            "gridcolor": "white",
            "gridwidth": 2,
            "linecolor": "white",
            "showbackground": true,
            "ticks": "",
            "zerolinecolor": "white"
           }
          },
          "shapedefaults": {
           "line": {
            "color": "#2a3f5f"
           }
          },
          "ternary": {
           "aaxis": {
            "gridcolor": "white",
            "linecolor": "white",
            "ticks": ""
           },
           "baxis": {
            "gridcolor": "white",
            "linecolor": "white",
            "ticks": ""
           },
           "bgcolor": "#E5ECF6",
           "caxis": {
            "gridcolor": "white",
            "linecolor": "white",
            "ticks": ""
           }
          },
          "title": {
           "x": 0.05
          },
          "xaxis": {
           "automargin": true,
           "gridcolor": "white",
           "linecolor": "white",
           "ticks": "",
           "title": {
            "standoff": 15
           },
           "zerolinecolor": "white",
           "zerolinewidth": 2
          },
          "yaxis": {
           "automargin": true,
           "gridcolor": "white",
           "linecolor": "white",
           "ticks": "",
           "title": {
            "standoff": 15
           },
           "zerolinecolor": "white",
           "zerolinewidth": 2
          }
         }
        }
       }
      }
     },
     "metadata": {},
     "output_type": "display_data"
    }
   ],
   "source": [
    "comp_country_publications_dc('Germany','United States')"
   ]
  },
  {
   "cell_type": "markdown",
   "metadata": {},
   "source": [
    "## Top 10 publishing countries"
   ]
  },
  {
   "cell_type": "markdown",
   "metadata": {},
   "source": [
    "# Chloropleth map"
   ]
  },
  {
   "cell_type": "code",
   "execution_count": 42,
   "metadata": {},
   "outputs": [
    {
     "data": {
      "application/vnd.plotly.v1+json": {
       "config": {
        "plotlyServerURL": "https://plot.ly"
       },
       "data": [
        {
         "autocolorscale": false,
         "colorbar": {
          "title": {
           "text": "Number of SCR Publications"
          }
         },
         "colorscale": [
          [
           0,
           "rgb(254, 246, 181)"
          ],
          [
           0.16666666666666666,
           "rgb(255, 221, 154)"
          ],
          [
           0.3333333333333333,
           "rgb(255, 194, 133)"
          ],
          [
           0.5,
           "rgb(255, 166, 121)"
          ],
          [
           0.6666666666666666,
           "rgb(250, 138, 118)"
          ],
          [
           0.8333333333333334,
           "rgb(241, 109, 122)"
          ],
          [
           1,
           "rgb(225, 83, 131)"
          ]
         ],
         "locations": [
          "CAN",
          "DNK",
          "FRA",
          "DEU",
          "GHA",
          "GLP",
          "HKG",
          "IND",
          "ITA",
          "JAM",
          "JPN",
          "KEN",
          "KWT",
          "MWI",
          "MYS",
          "MLI",
          "MTQ",
          "MCO",
          "NLD",
          "NER",
          "NGA",
          "PAK",
          "PRT",
          "QAT",
          "SAU",
          "SEN",
          "SGP",
          "ZAF",
          "not found",
          "SWE",
          "CHE",
          "TGO",
          "TTO",
          "TUN",
          "GBR",
          "USA",
          "ZMB",
          "ZWE",
          "CIV",
          "ARG",
          "AUS",
          "BHR",
          "BEL",
          "BEN",
          "BRA",
          "BFA",
          "CMR",
          "CAN",
          "CHN",
          "CUB",
          "CUW",
          "DNK",
          "EGY",
          "FRA",
          "GUF",
          "GEO",
          "DEU",
          "GHA",
          "GRC",
          "GLP",
          "IND",
          "IRN",
          "IRL",
          "ISR",
          "ITA",
          "JAM",
          "JPN",
          "JEY",
          "JOR",
          "KEN",
          "LBN",
          "LTU",
          "MYS",
          "MLI",
          "MEX",
          "MAR",
          "NLD",
          "NZL",
          "NER",
          "NGA",
          "NOR",
          "OMN",
          "PAK",
          "POL",
          "PRT",
          "QAT",
          "RUS",
          "SAU",
          "ZAF",
          "KOR",
          "ESP",
          "CHE",
          "TGO",
          "TUN",
          "TUR",
          "UGA",
          "ARE",
          "GBR",
          "USA"
         ],
         "marker": {
          "line": {
           "color": "darkgray",
           "width": 0.5
          }
         },
         "reversescale": false,
         "text": [
          "  Canada",
          "  Denmark",
          "  France",
          "  Germany",
          "  Ghana",
          "  Guadeloupe",
          "  Hong Kong",
          "  India",
          "  Italy",
          "  Jamaica",
          "  Japan",
          "  Kenya",
          "  Kuwait",
          "  Malawi",
          "  Malaysia",
          "  Mali",
          "  Martinique",
          "  Monaco",
          "  Netherlands",
          "  Niger",
          "  Nigeria",
          "  Pakistan",
          "  Portugal",
          "  Qatar",
          "  Saudi Arabia",
          "  Senegal",
          "  Singapore",
          "  South Africa",
          "  South Korea",
          "  Sweden",
          "  Switzerland",
          "  Togo",
          "  Trinidad and Tobago",
          "  Tunisia",
          "  United Kingdom",
          "  United States",
          "  Zambia",
          "  Zimbabwe",
          "\"Cote dIvoire\"",
          "Argentina",
          "Australia",
          "Bahrain",
          "Belgium",
          "Benin",
          "Brazil",
          "Burkina Faso",
          "Cameroon",
          "Canada",
          "China",
          "Cuba",
          "Curaçao",
          "Denmark",
          "Egypt",
          "France",
          "French Guiana",
          "Georgia",
          "Germany",
          "Ghana",
          "Greece",
          "Guadeloupe",
          "India",
          "Iran",
          "Ireland",
          "Israel",
          "Italy",
          "Jamaica",
          "Japan",
          "Jersey",
          "Jordan",
          "Kenya",
          "Lebanon",
          "Lithuania",
          "Malaysia",
          "Mali",
          "Mexico",
          "Morocco",
          "Netherlands",
          "New Zealand",
          "Niger",
          "Nigeria",
          "Norway",
          "Oman",
          "Pakistan",
          "Poland",
          "Portugal",
          "Qatar",
          "Russian Federation",
          "Saudi Arabia",
          "South Africa",
          "South Korea",
          "Spain",
          "Switzerland",
          "Togo",
          "Tunisia",
          "Turkey",
          "Uganda",
          "United Arab Emirates",
          "United Kingdom",
          "United States"
         ],
         "type": "choropleth",
         "z": [
          8,
          1,
          6,
          2,
          4,
          8,
          1,
          1,
          4,
          14,
          1,
          2,
          2,
          1,
          2,
          2,
          1,
          1,
          8,
          2,
          23,
          1,
          1,
          3,
          3,
          3,
          2,
          3,
          1,
          3,
          1,
          1,
          1,
          1,
          10,
          71,
          1,
          1,
          4,
          2,
          2,
          1,
          4,
          1,
          46,
          3,
          1,
          14,
          5,
          3,
          4,
          2,
          10,
          61,
          1,
          6,
          14,
          2,
          3,
          1,
          16,
          1,
          4,
          2,
          15,
          29,
          5,
          5,
          6,
          1,
          1,
          1,
          4,
          1,
          5,
          3,
          6,
          3,
          21,
          2,
          1,
          1,
          4,
          1,
          3,
          1,
          1,
          5,
          2,
          1,
          3,
          3,
          2,
          2,
          8,
          1,
          2,
          61,
          327
         ]
        }
       ],
       "layout": {
        "annotations": [
         {
          "showarrow": false,
          "x": 0.55,
          "xref": "paper",
          "y": 0.1,
          "yref": "paper"
         }
        ],
        "geo": {
         "projection": {
          "type": "equirectangular"
         },
         "showcoastlines": false,
         "showframe": false
        },
        "template": {
         "data": {
          "bar": [
           {
            "error_x": {
             "color": "#2a3f5f"
            },
            "error_y": {
             "color": "#2a3f5f"
            },
            "marker": {
             "line": {
              "color": "#E5ECF6",
              "width": 0.5
             },
             "pattern": {
              "fillmode": "overlay",
              "size": 10,
              "solidity": 0.2
             }
            },
            "type": "bar"
           }
          ],
          "barpolar": [
           {
            "marker": {
             "line": {
              "color": "#E5ECF6",
              "width": 0.5
             },
             "pattern": {
              "fillmode": "overlay",
              "size": 10,
              "solidity": 0.2
             }
            },
            "type": "barpolar"
           }
          ],
          "carpet": [
           {
            "aaxis": {
             "endlinecolor": "#2a3f5f",
             "gridcolor": "white",
             "linecolor": "white",
             "minorgridcolor": "white",
             "startlinecolor": "#2a3f5f"
            },
            "baxis": {
             "endlinecolor": "#2a3f5f",
             "gridcolor": "white",
             "linecolor": "white",
             "minorgridcolor": "white",
             "startlinecolor": "#2a3f5f"
            },
            "type": "carpet"
           }
          ],
          "choropleth": [
           {
            "colorbar": {
             "outlinewidth": 0,
             "ticks": ""
            },
            "type": "choropleth"
           }
          ],
          "contour": [
           {
            "colorbar": {
             "outlinewidth": 0,
             "ticks": ""
            },
            "colorscale": [
             [
              0,
              "#0d0887"
             ],
             [
              0.1111111111111111,
              "#46039f"
             ],
             [
              0.2222222222222222,
              "#7201a8"
             ],
             [
              0.3333333333333333,
              "#9c179e"
             ],
             [
              0.4444444444444444,
              "#bd3786"
             ],
             [
              0.5555555555555556,
              "#d8576b"
             ],
             [
              0.6666666666666666,
              "#ed7953"
             ],
             [
              0.7777777777777778,
              "#fb9f3a"
             ],
             [
              0.8888888888888888,
              "#fdca26"
             ],
             [
              1,
              "#f0f921"
             ]
            ],
            "type": "contour"
           }
          ],
          "contourcarpet": [
           {
            "colorbar": {
             "outlinewidth": 0,
             "ticks": ""
            },
            "type": "contourcarpet"
           }
          ],
          "heatmap": [
           {
            "colorbar": {
             "outlinewidth": 0,
             "ticks": ""
            },
            "colorscale": [
             [
              0,
              "#0d0887"
             ],
             [
              0.1111111111111111,
              "#46039f"
             ],
             [
              0.2222222222222222,
              "#7201a8"
             ],
             [
              0.3333333333333333,
              "#9c179e"
             ],
             [
              0.4444444444444444,
              "#bd3786"
             ],
             [
              0.5555555555555556,
              "#d8576b"
             ],
             [
              0.6666666666666666,
              "#ed7953"
             ],
             [
              0.7777777777777778,
              "#fb9f3a"
             ],
             [
              0.8888888888888888,
              "#fdca26"
             ],
             [
              1,
              "#f0f921"
             ]
            ],
            "type": "heatmap"
           }
          ],
          "heatmapgl": [
           {
            "colorbar": {
             "outlinewidth": 0,
             "ticks": ""
            },
            "colorscale": [
             [
              0,
              "#0d0887"
             ],
             [
              0.1111111111111111,
              "#46039f"
             ],
             [
              0.2222222222222222,
              "#7201a8"
             ],
             [
              0.3333333333333333,
              "#9c179e"
             ],
             [
              0.4444444444444444,
              "#bd3786"
             ],
             [
              0.5555555555555556,
              "#d8576b"
             ],
             [
              0.6666666666666666,
              "#ed7953"
             ],
             [
              0.7777777777777778,
              "#fb9f3a"
             ],
             [
              0.8888888888888888,
              "#fdca26"
             ],
             [
              1,
              "#f0f921"
             ]
            ],
            "type": "heatmapgl"
           }
          ],
          "histogram": [
           {
            "marker": {
             "pattern": {
              "fillmode": "overlay",
              "size": 10,
              "solidity": 0.2
             }
            },
            "type": "histogram"
           }
          ],
          "histogram2d": [
           {
            "colorbar": {
             "outlinewidth": 0,
             "ticks": ""
            },
            "colorscale": [
             [
              0,
              "#0d0887"
             ],
             [
              0.1111111111111111,
              "#46039f"
             ],
             [
              0.2222222222222222,
              "#7201a8"
             ],
             [
              0.3333333333333333,
              "#9c179e"
             ],
             [
              0.4444444444444444,
              "#bd3786"
             ],
             [
              0.5555555555555556,
              "#d8576b"
             ],
             [
              0.6666666666666666,
              "#ed7953"
             ],
             [
              0.7777777777777778,
              "#fb9f3a"
             ],
             [
              0.8888888888888888,
              "#fdca26"
             ],
             [
              1,
              "#f0f921"
             ]
            ],
            "type": "histogram2d"
           }
          ],
          "histogram2dcontour": [
           {
            "colorbar": {
             "outlinewidth": 0,
             "ticks": ""
            },
            "colorscale": [
             [
              0,
              "#0d0887"
             ],
             [
              0.1111111111111111,
              "#46039f"
             ],
             [
              0.2222222222222222,
              "#7201a8"
             ],
             [
              0.3333333333333333,
              "#9c179e"
             ],
             [
              0.4444444444444444,
              "#bd3786"
             ],
             [
              0.5555555555555556,
              "#d8576b"
             ],
             [
              0.6666666666666666,
              "#ed7953"
             ],
             [
              0.7777777777777778,
              "#fb9f3a"
             ],
             [
              0.8888888888888888,
              "#fdca26"
             ],
             [
              1,
              "#f0f921"
             ]
            ],
            "type": "histogram2dcontour"
           }
          ],
          "mesh3d": [
           {
            "colorbar": {
             "outlinewidth": 0,
             "ticks": ""
            },
            "type": "mesh3d"
           }
          ],
          "parcoords": [
           {
            "line": {
             "colorbar": {
              "outlinewidth": 0,
              "ticks": ""
             }
            },
            "type": "parcoords"
           }
          ],
          "pie": [
           {
            "automargin": true,
            "type": "pie"
           }
          ],
          "scatter": [
           {
            "fillpattern": {
             "fillmode": "overlay",
             "size": 10,
             "solidity": 0.2
            },
            "type": "scatter"
           }
          ],
          "scatter3d": [
           {
            "line": {
             "colorbar": {
              "outlinewidth": 0,
              "ticks": ""
             }
            },
            "marker": {
             "colorbar": {
              "outlinewidth": 0,
              "ticks": ""
             }
            },
            "type": "scatter3d"
           }
          ],
          "scattercarpet": [
           {
            "marker": {
             "colorbar": {
              "outlinewidth": 0,
              "ticks": ""
             }
            },
            "type": "scattercarpet"
           }
          ],
          "scattergeo": [
           {
            "marker": {
             "colorbar": {
              "outlinewidth": 0,
              "ticks": ""
             }
            },
            "type": "scattergeo"
           }
          ],
          "scattergl": [
           {
            "marker": {
             "colorbar": {
              "outlinewidth": 0,
              "ticks": ""
             }
            },
            "type": "scattergl"
           }
          ],
          "scattermapbox": [
           {
            "marker": {
             "colorbar": {
              "outlinewidth": 0,
              "ticks": ""
             }
            },
            "type": "scattermapbox"
           }
          ],
          "scatterpolar": [
           {
            "marker": {
             "colorbar": {
              "outlinewidth": 0,
              "ticks": ""
             }
            },
            "type": "scatterpolar"
           }
          ],
          "scatterpolargl": [
           {
            "marker": {
             "colorbar": {
              "outlinewidth": 0,
              "ticks": ""
             }
            },
            "type": "scatterpolargl"
           }
          ],
          "scatterternary": [
           {
            "marker": {
             "colorbar": {
              "outlinewidth": 0,
              "ticks": ""
             }
            },
            "type": "scatterternary"
           }
          ],
          "surface": [
           {
            "colorbar": {
             "outlinewidth": 0,
             "ticks": ""
            },
            "colorscale": [
             [
              0,
              "#0d0887"
             ],
             [
              0.1111111111111111,
              "#46039f"
             ],
             [
              0.2222222222222222,
              "#7201a8"
             ],
             [
              0.3333333333333333,
              "#9c179e"
             ],
             [
              0.4444444444444444,
              "#bd3786"
             ],
             [
              0.5555555555555556,
              "#d8576b"
             ],
             [
              0.6666666666666666,
              "#ed7953"
             ],
             [
              0.7777777777777778,
              "#fb9f3a"
             ],
             [
              0.8888888888888888,
              "#fdca26"
             ],
             [
              1,
              "#f0f921"
             ]
            ],
            "type": "surface"
           }
          ],
          "table": [
           {
            "cells": {
             "fill": {
              "color": "#EBF0F8"
             },
             "line": {
              "color": "white"
             }
            },
            "header": {
             "fill": {
              "color": "#C8D4E3"
             },
             "line": {
              "color": "white"
             }
            },
            "type": "table"
           }
          ]
         },
         "layout": {
          "annotationdefaults": {
           "arrowcolor": "#2a3f5f",
           "arrowhead": 0,
           "arrowwidth": 1
          },
          "autotypenumbers": "strict",
          "coloraxis": {
           "colorbar": {
            "outlinewidth": 0,
            "ticks": ""
           }
          },
          "colorscale": {
           "diverging": [
            [
             0,
             "#8e0152"
            ],
            [
             0.1,
             "#c51b7d"
            ],
            [
             0.2,
             "#de77ae"
            ],
            [
             0.3,
             "#f1b6da"
            ],
            [
             0.4,
             "#fde0ef"
            ],
            [
             0.5,
             "#f7f7f7"
            ],
            [
             0.6,
             "#e6f5d0"
            ],
            [
             0.7,
             "#b8e186"
            ],
            [
             0.8,
             "#7fbc41"
            ],
            [
             0.9,
             "#4d9221"
            ],
            [
             1,
             "#276419"
            ]
           ],
           "sequential": [
            [
             0,
             "#0d0887"
            ],
            [
             0.1111111111111111,
             "#46039f"
            ],
            [
             0.2222222222222222,
             "#7201a8"
            ],
            [
             0.3333333333333333,
             "#9c179e"
            ],
            [
             0.4444444444444444,
             "#bd3786"
            ],
            [
             0.5555555555555556,
             "#d8576b"
            ],
            [
             0.6666666666666666,
             "#ed7953"
            ],
            [
             0.7777777777777778,
             "#fb9f3a"
            ],
            [
             0.8888888888888888,
             "#fdca26"
            ],
            [
             1,
             "#f0f921"
            ]
           ],
           "sequentialminus": [
            [
             0,
             "#0d0887"
            ],
            [
             0.1111111111111111,
             "#46039f"
            ],
            [
             0.2222222222222222,
             "#7201a8"
            ],
            [
             0.3333333333333333,
             "#9c179e"
            ],
            [
             0.4444444444444444,
             "#bd3786"
            ],
            [
             0.5555555555555556,
             "#d8576b"
            ],
            [
             0.6666666666666666,
             "#ed7953"
            ],
            [
             0.7777777777777778,
             "#fb9f3a"
            ],
            [
             0.8888888888888888,
             "#fdca26"
            ],
            [
             1,
             "#f0f921"
            ]
           ]
          },
          "colorway": [
           "#636efa",
           "#EF553B",
           "#00cc96",
           "#ab63fa",
           "#FFA15A",
           "#19d3f3",
           "#FF6692",
           "#B6E880",
           "#FF97FF",
           "#FECB52"
          ],
          "font": {
           "color": "#2a3f5f"
          },
          "geo": {
           "bgcolor": "white",
           "lakecolor": "white",
           "landcolor": "#E5ECF6",
           "showlakes": true,
           "showland": true,
           "subunitcolor": "white"
          },
          "hoverlabel": {
           "align": "left"
          },
          "hovermode": "closest",
          "mapbox": {
           "style": "light"
          },
          "paper_bgcolor": "white",
          "plot_bgcolor": "#E5ECF6",
          "polar": {
           "angularaxis": {
            "gridcolor": "white",
            "linecolor": "white",
            "ticks": ""
           },
           "bgcolor": "#E5ECF6",
           "radialaxis": {
            "gridcolor": "white",
            "linecolor": "white",
            "ticks": ""
           }
          },
          "scene": {
           "xaxis": {
            "backgroundcolor": "#E5ECF6",
            "gridcolor": "white",
            "gridwidth": 2,
            "linecolor": "white",
            "showbackground": true,
            "ticks": "",
            "zerolinecolor": "white"
           },
           "yaxis": {
            "backgroundcolor": "#E5ECF6",
            "gridcolor": "white",
            "gridwidth": 2,
            "linecolor": "white",
            "showbackground": true,
            "ticks": "",
            "zerolinecolor": "white"
           },
           "zaxis": {
            "backgroundcolor": "#E5ECF6",
            "gridcolor": "white",
            "gridwidth": 2,
            "linecolor": "white",
            "showbackground": true,
            "ticks": "",
            "zerolinecolor": "white"
           }
          },
          "shapedefaults": {
           "line": {
            "color": "#2a3f5f"
           }
          },
          "ternary": {
           "aaxis": {
            "gridcolor": "white",
            "linecolor": "white",
            "ticks": ""
           },
           "baxis": {
            "gridcolor": "white",
            "linecolor": "white",
            "ticks": ""
           },
           "bgcolor": "#E5ECF6",
           "caxis": {
            "gridcolor": "white",
            "linecolor": "white",
            "ticks": ""
           }
          },
          "title": {
           "x": 0.05
          },
          "xaxis": {
           "automargin": true,
           "gridcolor": "white",
           "linecolor": "white",
           "ticks": "",
           "title": {
            "standoff": 15
           },
           "zerolinecolor": "white",
           "zerolinewidth": 2
          },
          "yaxis": {
           "automargin": true,
           "gridcolor": "white",
           "linecolor": "white",
           "ticks": "",
           "title": {
            "standoff": 15
           },
           "zerolinecolor": "white",
           "zerolinewidth": 2
          }
         }
        },
        "title": {
         "text": "Sickle cell Retinopathy Publications"
        }
       }
      }
     },
     "metadata": {},
     "output_type": "display_data"
    }
   ],
   "source": [
    "fig = go.Figure(data=go.Choropleth(\n",
    "    locations = df_country_map['code'],\n",
    "    z = df_country_map['count'],\n",
    "    text = df_country_map['countries'],\n",
    "    colorscale = 'pinkyl',\n",
    "    autocolorscale=False,\n",
    "    reversescale=False,\n",
    "    marker_line_color='darkgray',\n",
    "    marker_line_width=0.5,\n",
    "    colorbar_title = 'Number of SCR Publications',\n",
    "))\n",
    "\n",
    "fig.update_layout(\n",
    "    title_text='Sickle cell Retinopathy Publications',\n",
    "    geo=dict(\n",
    "        showframe=False,\n",
    "        showcoastlines=False,\n",
    "        projection_type='equirectangular'\n",
    "    ),\n",
    "    annotations = [dict(\n",
    "        x=0.55,\n",
    "        y=0.1,\n",
    "        xref='paper',\n",
    "        yref='paper',\n",
    "        # text='Source: <a href=\"https://www.cia.gov/library/publications/the-world-factbook/fields/2195.html\">\\\n",
    "        #     CIA World Factbook</a>',\n",
    "        showarrow = False\n",
    "    )]\n",
    ")\n",
    "\n",
    "fig.show()"
   ]
  },
  {
   "cell_type": "markdown",
   "metadata": {},
   "source": [
    "# citation counts comparison"
   ]
  },
  {
   "cell_type": "code",
   "execution_count": 108,
   "metadata": {},
   "outputs": [
    {
     "data": {
      "application/vnd.plotly.v1+json": {
       "config": {
        "plotlyServerURL": "https://plot.ly"
       },
       "data": [
        {
         "alignmentgroup": "True",
         "hovertemplate": "countries=%{x}<br>Cited by=%{y}<extra></extra>",
         "legendgroup": "",
         "marker": {
          "color": "#636efa",
          "pattern": {
           "shape": ""
          }
         },
         "name": "",
         "offsetgroup": "",
         "orientation": "v",
         "showlegend": false,
         "textposition": "auto",
         "type": "bar",
         "x": [
          "United States",
          "United Kingdom",
          "Jamaica",
          "New Zealand",
          "France",
          "Brazil",
          "Canada",
          "Netherlands",
          "Italy",
          "Israel",
          "Guadeloupe",
          "Egypt",
          "Nigeria",
          "Niger",
          "Georgia",
          "Germany",
          "Curaçao",
          "India",
          "Denmark",
          "Turkey",
          "Mexico",
          "Japan",
          "Trinidad and Tobago",
          "Ireland",
          "Switzerland",
          "Australia",
          "Saudi Arabia",
          "China",
          "Malaysia",
          "Portugal",
          "Ghana",
          "Sweden",
          "Pakistan",
          "Jersey",
          "Norway",
          "Kenya",
          "Spain",
          "Martinique",
          "South Africa",
          "Argentina",
          "Senegal",
          "United Arab Emirates",
          "Mali",
          "Burkina Faso",
          "Togo",
          "Jordan",
          "Malawi",
          "Greece",
          "\"Cote dIvoire\"",
          "Qatar",
          "Singapore",
          "Kuwait",
          "Belgium",
          "Monaco",
          "Hong Kong",
          "Poland",
          "Oman",
          "Morocco",
          "Zambia",
          "Benin",
          "Iran",
          "Cuba",
          "Cameroon"
         ],
         "xaxis": "x",
         "y": [
          12244,
          1468,
          1221,
          1145,
          849,
          646,
          533,
          270,
          256,
          195,
          186,
          154,
          139,
          137,
          120,
          110,
          103,
          95,
          92,
          87,
          77,
          73,
          67,
          62,
          60,
          56,
          53,
          50,
          46,
          46,
          44,
          44,
          40,
          35,
          32,
          31,
          30,
          28,
          27,
          25,
          24,
          24,
          23,
          23,
          22,
          20,
          16,
          13,
          12,
          10,
          8,
          8,
          8,
          7,
          7,
          6,
          6,
          5,
          3,
          2,
          1,
          1,
          1
         ],
         "yaxis": "y"
        }
       ],
       "layout": {
        "barmode": "relative",
        "legend": {
         "tracegroupgap": 0
        },
        "margin": {
         "t": 60
        },
        "template": {
         "data": {
          "bar": [
           {
            "error_x": {
             "color": "#2a3f5f"
            },
            "error_y": {
             "color": "#2a3f5f"
            },
            "marker": {
             "line": {
              "color": "#E5ECF6",
              "width": 0.5
             },
             "pattern": {
              "fillmode": "overlay",
              "size": 10,
              "solidity": 0.2
             }
            },
            "type": "bar"
           }
          ],
          "barpolar": [
           {
            "marker": {
             "line": {
              "color": "#E5ECF6",
              "width": 0.5
             },
             "pattern": {
              "fillmode": "overlay",
              "size": 10,
              "solidity": 0.2
             }
            },
            "type": "barpolar"
           }
          ],
          "carpet": [
           {
            "aaxis": {
             "endlinecolor": "#2a3f5f",
             "gridcolor": "white",
             "linecolor": "white",
             "minorgridcolor": "white",
             "startlinecolor": "#2a3f5f"
            },
            "baxis": {
             "endlinecolor": "#2a3f5f",
             "gridcolor": "white",
             "linecolor": "white",
             "minorgridcolor": "white",
             "startlinecolor": "#2a3f5f"
            },
            "type": "carpet"
           }
          ],
          "choropleth": [
           {
            "colorbar": {
             "outlinewidth": 0,
             "ticks": ""
            },
            "type": "choropleth"
           }
          ],
          "contour": [
           {
            "colorbar": {
             "outlinewidth": 0,
             "ticks": ""
            },
            "colorscale": [
             [
              0,
              "#0d0887"
             ],
             [
              0.1111111111111111,
              "#46039f"
             ],
             [
              0.2222222222222222,
              "#7201a8"
             ],
             [
              0.3333333333333333,
              "#9c179e"
             ],
             [
              0.4444444444444444,
              "#bd3786"
             ],
             [
              0.5555555555555556,
              "#d8576b"
             ],
             [
              0.6666666666666666,
              "#ed7953"
             ],
             [
              0.7777777777777778,
              "#fb9f3a"
             ],
             [
              0.8888888888888888,
              "#fdca26"
             ],
             [
              1,
              "#f0f921"
             ]
            ],
            "type": "contour"
           }
          ],
          "contourcarpet": [
           {
            "colorbar": {
             "outlinewidth": 0,
             "ticks": ""
            },
            "type": "contourcarpet"
           }
          ],
          "heatmap": [
           {
            "colorbar": {
             "outlinewidth": 0,
             "ticks": ""
            },
            "colorscale": [
             [
              0,
              "#0d0887"
             ],
             [
              0.1111111111111111,
              "#46039f"
             ],
             [
              0.2222222222222222,
              "#7201a8"
             ],
             [
              0.3333333333333333,
              "#9c179e"
             ],
             [
              0.4444444444444444,
              "#bd3786"
             ],
             [
              0.5555555555555556,
              "#d8576b"
             ],
             [
              0.6666666666666666,
              "#ed7953"
             ],
             [
              0.7777777777777778,
              "#fb9f3a"
             ],
             [
              0.8888888888888888,
              "#fdca26"
             ],
             [
              1,
              "#f0f921"
             ]
            ],
            "type": "heatmap"
           }
          ],
          "heatmapgl": [
           {
            "colorbar": {
             "outlinewidth": 0,
             "ticks": ""
            },
            "colorscale": [
             [
              0,
              "#0d0887"
             ],
             [
              0.1111111111111111,
              "#46039f"
             ],
             [
              0.2222222222222222,
              "#7201a8"
             ],
             [
              0.3333333333333333,
              "#9c179e"
             ],
             [
              0.4444444444444444,
              "#bd3786"
             ],
             [
              0.5555555555555556,
              "#d8576b"
             ],
             [
              0.6666666666666666,
              "#ed7953"
             ],
             [
              0.7777777777777778,
              "#fb9f3a"
             ],
             [
              0.8888888888888888,
              "#fdca26"
             ],
             [
              1,
              "#f0f921"
             ]
            ],
            "type": "heatmapgl"
           }
          ],
          "histogram": [
           {
            "marker": {
             "pattern": {
              "fillmode": "overlay",
              "size": 10,
              "solidity": 0.2
             }
            },
            "type": "histogram"
           }
          ],
          "histogram2d": [
           {
            "colorbar": {
             "outlinewidth": 0,
             "ticks": ""
            },
            "colorscale": [
             [
              0,
              "#0d0887"
             ],
             [
              0.1111111111111111,
              "#46039f"
             ],
             [
              0.2222222222222222,
              "#7201a8"
             ],
             [
              0.3333333333333333,
              "#9c179e"
             ],
             [
              0.4444444444444444,
              "#bd3786"
             ],
             [
              0.5555555555555556,
              "#d8576b"
             ],
             [
              0.6666666666666666,
              "#ed7953"
             ],
             [
              0.7777777777777778,
              "#fb9f3a"
             ],
             [
              0.8888888888888888,
              "#fdca26"
             ],
             [
              1,
              "#f0f921"
             ]
            ],
            "type": "histogram2d"
           }
          ],
          "histogram2dcontour": [
           {
            "colorbar": {
             "outlinewidth": 0,
             "ticks": ""
            },
            "colorscale": [
             [
              0,
              "#0d0887"
             ],
             [
              0.1111111111111111,
              "#46039f"
             ],
             [
              0.2222222222222222,
              "#7201a8"
             ],
             [
              0.3333333333333333,
              "#9c179e"
             ],
             [
              0.4444444444444444,
              "#bd3786"
             ],
             [
              0.5555555555555556,
              "#d8576b"
             ],
             [
              0.6666666666666666,
              "#ed7953"
             ],
             [
              0.7777777777777778,
              "#fb9f3a"
             ],
             [
              0.8888888888888888,
              "#fdca26"
             ],
             [
              1,
              "#f0f921"
             ]
            ],
            "type": "histogram2dcontour"
           }
          ],
          "mesh3d": [
           {
            "colorbar": {
             "outlinewidth": 0,
             "ticks": ""
            },
            "type": "mesh3d"
           }
          ],
          "parcoords": [
           {
            "line": {
             "colorbar": {
              "outlinewidth": 0,
              "ticks": ""
             }
            },
            "type": "parcoords"
           }
          ],
          "pie": [
           {
            "automargin": true,
            "type": "pie"
           }
          ],
          "scatter": [
           {
            "fillpattern": {
             "fillmode": "overlay",
             "size": 10,
             "solidity": 0.2
            },
            "type": "scatter"
           }
          ],
          "scatter3d": [
           {
            "line": {
             "colorbar": {
              "outlinewidth": 0,
              "ticks": ""
             }
            },
            "marker": {
             "colorbar": {
              "outlinewidth": 0,
              "ticks": ""
             }
            },
            "type": "scatter3d"
           }
          ],
          "scattercarpet": [
           {
            "marker": {
             "colorbar": {
              "outlinewidth": 0,
              "ticks": ""
             }
            },
            "type": "scattercarpet"
           }
          ],
          "scattergeo": [
           {
            "marker": {
             "colorbar": {
              "outlinewidth": 0,
              "ticks": ""
             }
            },
            "type": "scattergeo"
           }
          ],
          "scattergl": [
           {
            "marker": {
             "colorbar": {
              "outlinewidth": 0,
              "ticks": ""
             }
            },
            "type": "scattergl"
           }
          ],
          "scattermapbox": [
           {
            "marker": {
             "colorbar": {
              "outlinewidth": 0,
              "ticks": ""
             }
            },
            "type": "scattermapbox"
           }
          ],
          "scatterpolar": [
           {
            "marker": {
             "colorbar": {
              "outlinewidth": 0,
              "ticks": ""
             }
            },
            "type": "scatterpolar"
           }
          ],
          "scatterpolargl": [
           {
            "marker": {
             "colorbar": {
              "outlinewidth": 0,
              "ticks": ""
             }
            },
            "type": "scatterpolargl"
           }
          ],
          "scatterternary": [
           {
            "marker": {
             "colorbar": {
              "outlinewidth": 0,
              "ticks": ""
             }
            },
            "type": "scatterternary"
           }
          ],
          "surface": [
           {
            "colorbar": {
             "outlinewidth": 0,
             "ticks": ""
            },
            "colorscale": [
             [
              0,
              "#0d0887"
             ],
             [
              0.1111111111111111,
              "#46039f"
             ],
             [
              0.2222222222222222,
              "#7201a8"
             ],
             [
              0.3333333333333333,
              "#9c179e"
             ],
             [
              0.4444444444444444,
              "#bd3786"
             ],
             [
              0.5555555555555556,
              "#d8576b"
             ],
             [
              0.6666666666666666,
              "#ed7953"
             ],
             [
              0.7777777777777778,
              "#fb9f3a"
             ],
             [
              0.8888888888888888,
              "#fdca26"
             ],
             [
              1,
              "#f0f921"
             ]
            ],
            "type": "surface"
           }
          ],
          "table": [
           {
            "cells": {
             "fill": {
              "color": "#EBF0F8"
             },
             "line": {
              "color": "white"
             }
            },
            "header": {
             "fill": {
              "color": "#C8D4E3"
             },
             "line": {
              "color": "white"
             }
            },
            "type": "table"
           }
          ]
         },
         "layout": {
          "annotationdefaults": {
           "arrowcolor": "#2a3f5f",
           "arrowhead": 0,
           "arrowwidth": 1
          },
          "autotypenumbers": "strict",
          "coloraxis": {
           "colorbar": {
            "outlinewidth": 0,
            "ticks": ""
           }
          },
          "colorscale": {
           "diverging": [
            [
             0,
             "#8e0152"
            ],
            [
             0.1,
             "#c51b7d"
            ],
            [
             0.2,
             "#de77ae"
            ],
            [
             0.3,
             "#f1b6da"
            ],
            [
             0.4,
             "#fde0ef"
            ],
            [
             0.5,
             "#f7f7f7"
            ],
            [
             0.6,
             "#e6f5d0"
            ],
            [
             0.7,
             "#b8e186"
            ],
            [
             0.8,
             "#7fbc41"
            ],
            [
             0.9,
             "#4d9221"
            ],
            [
             1,
             "#276419"
            ]
           ],
           "sequential": [
            [
             0,
             "#0d0887"
            ],
            [
             0.1111111111111111,
             "#46039f"
            ],
            [
             0.2222222222222222,
             "#7201a8"
            ],
            [
             0.3333333333333333,
             "#9c179e"
            ],
            [
             0.4444444444444444,
             "#bd3786"
            ],
            [
             0.5555555555555556,
             "#d8576b"
            ],
            [
             0.6666666666666666,
             "#ed7953"
            ],
            [
             0.7777777777777778,
             "#fb9f3a"
            ],
            [
             0.8888888888888888,
             "#fdca26"
            ],
            [
             1,
             "#f0f921"
            ]
           ],
           "sequentialminus": [
            [
             0,
             "#0d0887"
            ],
            [
             0.1111111111111111,
             "#46039f"
            ],
            [
             0.2222222222222222,
             "#7201a8"
            ],
            [
             0.3333333333333333,
             "#9c179e"
            ],
            [
             0.4444444444444444,
             "#bd3786"
            ],
            [
             0.5555555555555556,
             "#d8576b"
            ],
            [
             0.6666666666666666,
             "#ed7953"
            ],
            [
             0.7777777777777778,
             "#fb9f3a"
            ],
            [
             0.8888888888888888,
             "#fdca26"
            ],
            [
             1,
             "#f0f921"
            ]
           ]
          },
          "colorway": [
           "#636efa",
           "#EF553B",
           "#00cc96",
           "#ab63fa",
           "#FFA15A",
           "#19d3f3",
           "#FF6692",
           "#B6E880",
           "#FF97FF",
           "#FECB52"
          ],
          "font": {
           "color": "#2a3f5f"
          },
          "geo": {
           "bgcolor": "white",
           "lakecolor": "white",
           "landcolor": "#E5ECF6",
           "showlakes": true,
           "showland": true,
           "subunitcolor": "white"
          },
          "hoverlabel": {
           "align": "left"
          },
          "hovermode": "closest",
          "mapbox": {
           "style": "light"
          },
          "paper_bgcolor": "white",
          "plot_bgcolor": "#E5ECF6",
          "polar": {
           "angularaxis": {
            "gridcolor": "white",
            "linecolor": "white",
            "ticks": ""
           },
           "bgcolor": "#E5ECF6",
           "radialaxis": {
            "gridcolor": "white",
            "linecolor": "white",
            "ticks": ""
           }
          },
          "scene": {
           "xaxis": {
            "backgroundcolor": "#E5ECF6",
            "gridcolor": "white",
            "gridwidth": 2,
            "linecolor": "white",
            "showbackground": true,
            "ticks": "",
            "zerolinecolor": "white"
           },
           "yaxis": {
            "backgroundcolor": "#E5ECF6",
            "gridcolor": "white",
            "gridwidth": 2,
            "linecolor": "white",
            "showbackground": true,
            "ticks": "",
            "zerolinecolor": "white"
           },
           "zaxis": {
            "backgroundcolor": "#E5ECF6",
            "gridcolor": "white",
            "gridwidth": 2,
            "linecolor": "white",
            "showbackground": true,
            "ticks": "",
            "zerolinecolor": "white"
           }
          },
          "shapedefaults": {
           "line": {
            "color": "#2a3f5f"
           }
          },
          "ternary": {
           "aaxis": {
            "gridcolor": "white",
            "linecolor": "white",
            "ticks": ""
           },
           "baxis": {
            "gridcolor": "white",
            "linecolor": "white",
            "ticks": ""
           },
           "bgcolor": "#E5ECF6",
           "caxis": {
            "gridcolor": "white",
            "linecolor": "white",
            "ticks": ""
           }
          },
          "title": {
           "x": 0.05
          },
          "xaxis": {
           "automargin": true,
           "gridcolor": "white",
           "linecolor": "white",
           "ticks": "",
           "title": {
            "standoff": 15
           },
           "zerolinecolor": "white",
           "zerolinewidth": 2
          },
          "yaxis": {
           "automargin": true,
           "gridcolor": "white",
           "linecolor": "white",
           "ticks": "",
           "title": {
            "standoff": 15
           },
           "zerolinecolor": "white",
           "zerolinewidth": 2
          }
         }
        },
        "xaxis": {
         "anchor": "y",
         "domain": [
          0,
          1
         ],
         "title": {
          "text": "countries"
         }
        },
        "yaxis": {
         "anchor": "x",
         "domain": [
          0,
          1
         ],
         "title": {
          "text": "Cited by"
         }
        }
       }
      }
     },
     "metadata": {},
     "output_type": "display_data"
    }
   ],
   "source": [
    "temp_df = df_num_citations.sort_values(by='Cited by', ascending=False)\n",
    "fig = px.bar(temp_df, x='countries', y='Cited by')\n",
    "fig.show()"
   ]
  },
  {
   "cell_type": "code",
   "execution_count": 110,
   "metadata": {},
   "outputs": [
    {
     "data": {
      "application/vnd.plotly.v1+json": {
       "config": {
        "plotlyServerURL": "https://plot.ly"
       },
       "data": [
        {
         "alignmentgroup": "True",
         "hovertemplate": "countries=%{x}<br>Cited by=%{y}<extra></extra>",
         "legendgroup": "",
         "marker": {
          "color": "#636efa",
          "pattern": {
           "shape": ""
          }
         },
         "name": "",
         "offsetgroup": "",
         "orientation": "v",
         "showlegend": false,
         "textposition": "auto",
         "type": "bar",
         "x": [
          "United Kingdom",
          "United States"
         ],
         "xaxis": "x",
         "y": [
          1468,
          12244
         ],
         "yaxis": "y"
        }
       ],
       "layout": {
        "barmode": "relative",
        "legend": {
         "tracegroupgap": 0
        },
        "margin": {
         "t": 60
        },
        "template": {
         "data": {
          "bar": [
           {
            "error_x": {
             "color": "#2a3f5f"
            },
            "error_y": {
             "color": "#2a3f5f"
            },
            "marker": {
             "line": {
              "color": "#E5ECF6",
              "width": 0.5
             },
             "pattern": {
              "fillmode": "overlay",
              "size": 10,
              "solidity": 0.2
             }
            },
            "type": "bar"
           }
          ],
          "barpolar": [
           {
            "marker": {
             "line": {
              "color": "#E5ECF6",
              "width": 0.5
             },
             "pattern": {
              "fillmode": "overlay",
              "size": 10,
              "solidity": 0.2
             }
            },
            "type": "barpolar"
           }
          ],
          "carpet": [
           {
            "aaxis": {
             "endlinecolor": "#2a3f5f",
             "gridcolor": "white",
             "linecolor": "white",
             "minorgridcolor": "white",
             "startlinecolor": "#2a3f5f"
            },
            "baxis": {
             "endlinecolor": "#2a3f5f",
             "gridcolor": "white",
             "linecolor": "white",
             "minorgridcolor": "white",
             "startlinecolor": "#2a3f5f"
            },
            "type": "carpet"
           }
          ],
          "choropleth": [
           {
            "colorbar": {
             "outlinewidth": 0,
             "ticks": ""
            },
            "type": "choropleth"
           }
          ],
          "contour": [
           {
            "colorbar": {
             "outlinewidth": 0,
             "ticks": ""
            },
            "colorscale": [
             [
              0,
              "#0d0887"
             ],
             [
              0.1111111111111111,
              "#46039f"
             ],
             [
              0.2222222222222222,
              "#7201a8"
             ],
             [
              0.3333333333333333,
              "#9c179e"
             ],
             [
              0.4444444444444444,
              "#bd3786"
             ],
             [
              0.5555555555555556,
              "#d8576b"
             ],
             [
              0.6666666666666666,
              "#ed7953"
             ],
             [
              0.7777777777777778,
              "#fb9f3a"
             ],
             [
              0.8888888888888888,
              "#fdca26"
             ],
             [
              1,
              "#f0f921"
             ]
            ],
            "type": "contour"
           }
          ],
          "contourcarpet": [
           {
            "colorbar": {
             "outlinewidth": 0,
             "ticks": ""
            },
            "type": "contourcarpet"
           }
          ],
          "heatmap": [
           {
            "colorbar": {
             "outlinewidth": 0,
             "ticks": ""
            },
            "colorscale": [
             [
              0,
              "#0d0887"
             ],
             [
              0.1111111111111111,
              "#46039f"
             ],
             [
              0.2222222222222222,
              "#7201a8"
             ],
             [
              0.3333333333333333,
              "#9c179e"
             ],
             [
              0.4444444444444444,
              "#bd3786"
             ],
             [
              0.5555555555555556,
              "#d8576b"
             ],
             [
              0.6666666666666666,
              "#ed7953"
             ],
             [
              0.7777777777777778,
              "#fb9f3a"
             ],
             [
              0.8888888888888888,
              "#fdca26"
             ],
             [
              1,
              "#f0f921"
             ]
            ],
            "type": "heatmap"
           }
          ],
          "heatmapgl": [
           {
            "colorbar": {
             "outlinewidth": 0,
             "ticks": ""
            },
            "colorscale": [
             [
              0,
              "#0d0887"
             ],
             [
              0.1111111111111111,
              "#46039f"
             ],
             [
              0.2222222222222222,
              "#7201a8"
             ],
             [
              0.3333333333333333,
              "#9c179e"
             ],
             [
              0.4444444444444444,
              "#bd3786"
             ],
             [
              0.5555555555555556,
              "#d8576b"
             ],
             [
              0.6666666666666666,
              "#ed7953"
             ],
             [
              0.7777777777777778,
              "#fb9f3a"
             ],
             [
              0.8888888888888888,
              "#fdca26"
             ],
             [
              1,
              "#f0f921"
             ]
            ],
            "type": "heatmapgl"
           }
          ],
          "histogram": [
           {
            "marker": {
             "pattern": {
              "fillmode": "overlay",
              "size": 10,
              "solidity": 0.2
             }
            },
            "type": "histogram"
           }
          ],
          "histogram2d": [
           {
            "colorbar": {
             "outlinewidth": 0,
             "ticks": ""
            },
            "colorscale": [
             [
              0,
              "#0d0887"
             ],
             [
              0.1111111111111111,
              "#46039f"
             ],
             [
              0.2222222222222222,
              "#7201a8"
             ],
             [
              0.3333333333333333,
              "#9c179e"
             ],
             [
              0.4444444444444444,
              "#bd3786"
             ],
             [
              0.5555555555555556,
              "#d8576b"
             ],
             [
              0.6666666666666666,
              "#ed7953"
             ],
             [
              0.7777777777777778,
              "#fb9f3a"
             ],
             [
              0.8888888888888888,
              "#fdca26"
             ],
             [
              1,
              "#f0f921"
             ]
            ],
            "type": "histogram2d"
           }
          ],
          "histogram2dcontour": [
           {
            "colorbar": {
             "outlinewidth": 0,
             "ticks": ""
            },
            "colorscale": [
             [
              0,
              "#0d0887"
             ],
             [
              0.1111111111111111,
              "#46039f"
             ],
             [
              0.2222222222222222,
              "#7201a8"
             ],
             [
              0.3333333333333333,
              "#9c179e"
             ],
             [
              0.4444444444444444,
              "#bd3786"
             ],
             [
              0.5555555555555556,
              "#d8576b"
             ],
             [
              0.6666666666666666,
              "#ed7953"
             ],
             [
              0.7777777777777778,
              "#fb9f3a"
             ],
             [
              0.8888888888888888,
              "#fdca26"
             ],
             [
              1,
              "#f0f921"
             ]
            ],
            "type": "histogram2dcontour"
           }
          ],
          "mesh3d": [
           {
            "colorbar": {
             "outlinewidth": 0,
             "ticks": ""
            },
            "type": "mesh3d"
           }
          ],
          "parcoords": [
           {
            "line": {
             "colorbar": {
              "outlinewidth": 0,
              "ticks": ""
             }
            },
            "type": "parcoords"
           }
          ],
          "pie": [
           {
            "automargin": true,
            "type": "pie"
           }
          ],
          "scatter": [
           {
            "fillpattern": {
             "fillmode": "overlay",
             "size": 10,
             "solidity": 0.2
            },
            "type": "scatter"
           }
          ],
          "scatter3d": [
           {
            "line": {
             "colorbar": {
              "outlinewidth": 0,
              "ticks": ""
             }
            },
            "marker": {
             "colorbar": {
              "outlinewidth": 0,
              "ticks": ""
             }
            },
            "type": "scatter3d"
           }
          ],
          "scattercarpet": [
           {
            "marker": {
             "colorbar": {
              "outlinewidth": 0,
              "ticks": ""
             }
            },
            "type": "scattercarpet"
           }
          ],
          "scattergeo": [
           {
            "marker": {
             "colorbar": {
              "outlinewidth": 0,
              "ticks": ""
             }
            },
            "type": "scattergeo"
           }
          ],
          "scattergl": [
           {
            "marker": {
             "colorbar": {
              "outlinewidth": 0,
              "ticks": ""
             }
            },
            "type": "scattergl"
           }
          ],
          "scattermapbox": [
           {
            "marker": {
             "colorbar": {
              "outlinewidth": 0,
              "ticks": ""
             }
            },
            "type": "scattermapbox"
           }
          ],
          "scatterpolar": [
           {
            "marker": {
             "colorbar": {
              "outlinewidth": 0,
              "ticks": ""
             }
            },
            "type": "scatterpolar"
           }
          ],
          "scatterpolargl": [
           {
            "marker": {
             "colorbar": {
              "outlinewidth": 0,
              "ticks": ""
             }
            },
            "type": "scatterpolargl"
           }
          ],
          "scatterternary": [
           {
            "marker": {
             "colorbar": {
              "outlinewidth": 0,
              "ticks": ""
             }
            },
            "type": "scatterternary"
           }
          ],
          "surface": [
           {
            "colorbar": {
             "outlinewidth": 0,
             "ticks": ""
            },
            "colorscale": [
             [
              0,
              "#0d0887"
             ],
             [
              0.1111111111111111,
              "#46039f"
             ],
             [
              0.2222222222222222,
              "#7201a8"
             ],
             [
              0.3333333333333333,
              "#9c179e"
             ],
             [
              0.4444444444444444,
              "#bd3786"
             ],
             [
              0.5555555555555556,
              "#d8576b"
             ],
             [
              0.6666666666666666,
              "#ed7953"
             ],
             [
              0.7777777777777778,
              "#fb9f3a"
             ],
             [
              0.8888888888888888,
              "#fdca26"
             ],
             [
              1,
              "#f0f921"
             ]
            ],
            "type": "surface"
           }
          ],
          "table": [
           {
            "cells": {
             "fill": {
              "color": "#EBF0F8"
             },
             "line": {
              "color": "white"
             }
            },
            "header": {
             "fill": {
              "color": "#C8D4E3"
             },
             "line": {
              "color": "white"
             }
            },
            "type": "table"
           }
          ]
         },
         "layout": {
          "annotationdefaults": {
           "arrowcolor": "#2a3f5f",
           "arrowhead": 0,
           "arrowwidth": 1
          },
          "autotypenumbers": "strict",
          "coloraxis": {
           "colorbar": {
            "outlinewidth": 0,
            "ticks": ""
           }
          },
          "colorscale": {
           "diverging": [
            [
             0,
             "#8e0152"
            ],
            [
             0.1,
             "#c51b7d"
            ],
            [
             0.2,
             "#de77ae"
            ],
            [
             0.3,
             "#f1b6da"
            ],
            [
             0.4,
             "#fde0ef"
            ],
            [
             0.5,
             "#f7f7f7"
            ],
            [
             0.6,
             "#e6f5d0"
            ],
            [
             0.7,
             "#b8e186"
            ],
            [
             0.8,
             "#7fbc41"
            ],
            [
             0.9,
             "#4d9221"
            ],
            [
             1,
             "#276419"
            ]
           ],
           "sequential": [
            [
             0,
             "#0d0887"
            ],
            [
             0.1111111111111111,
             "#46039f"
            ],
            [
             0.2222222222222222,
             "#7201a8"
            ],
            [
             0.3333333333333333,
             "#9c179e"
            ],
            [
             0.4444444444444444,
             "#bd3786"
            ],
            [
             0.5555555555555556,
             "#d8576b"
            ],
            [
             0.6666666666666666,
             "#ed7953"
            ],
            [
             0.7777777777777778,
             "#fb9f3a"
            ],
            [
             0.8888888888888888,
             "#fdca26"
            ],
            [
             1,
             "#f0f921"
            ]
           ],
           "sequentialminus": [
            [
             0,
             "#0d0887"
            ],
            [
             0.1111111111111111,
             "#46039f"
            ],
            [
             0.2222222222222222,
             "#7201a8"
            ],
            [
             0.3333333333333333,
             "#9c179e"
            ],
            [
             0.4444444444444444,
             "#bd3786"
            ],
            [
             0.5555555555555556,
             "#d8576b"
            ],
            [
             0.6666666666666666,
             "#ed7953"
            ],
            [
             0.7777777777777778,
             "#fb9f3a"
            ],
            [
             0.8888888888888888,
             "#fdca26"
            ],
            [
             1,
             "#f0f921"
            ]
           ]
          },
          "colorway": [
           "#636efa",
           "#EF553B",
           "#00cc96",
           "#ab63fa",
           "#FFA15A",
           "#19d3f3",
           "#FF6692",
           "#B6E880",
           "#FF97FF",
           "#FECB52"
          ],
          "font": {
           "color": "#2a3f5f"
          },
          "geo": {
           "bgcolor": "white",
           "lakecolor": "white",
           "landcolor": "#E5ECF6",
           "showlakes": true,
           "showland": true,
           "subunitcolor": "white"
          },
          "hoverlabel": {
           "align": "left"
          },
          "hovermode": "closest",
          "mapbox": {
           "style": "light"
          },
          "paper_bgcolor": "white",
          "plot_bgcolor": "#E5ECF6",
          "polar": {
           "angularaxis": {
            "gridcolor": "white",
            "linecolor": "white",
            "ticks": ""
           },
           "bgcolor": "#E5ECF6",
           "radialaxis": {
            "gridcolor": "white",
            "linecolor": "white",
            "ticks": ""
           }
          },
          "scene": {
           "xaxis": {
            "backgroundcolor": "#E5ECF6",
            "gridcolor": "white",
            "gridwidth": 2,
            "linecolor": "white",
            "showbackground": true,
            "ticks": "",
            "zerolinecolor": "white"
           },
           "yaxis": {
            "backgroundcolor": "#E5ECF6",
            "gridcolor": "white",
            "gridwidth": 2,
            "linecolor": "white",
            "showbackground": true,
            "ticks": "",
            "zerolinecolor": "white"
           },
           "zaxis": {
            "backgroundcolor": "#E5ECF6",
            "gridcolor": "white",
            "gridwidth": 2,
            "linecolor": "white",
            "showbackground": true,
            "ticks": "",
            "zerolinecolor": "white"
           }
          },
          "shapedefaults": {
           "line": {
            "color": "#2a3f5f"
           }
          },
          "ternary": {
           "aaxis": {
            "gridcolor": "white",
            "linecolor": "white",
            "ticks": ""
           },
           "baxis": {
            "gridcolor": "white",
            "linecolor": "white",
            "ticks": ""
           },
           "bgcolor": "#E5ECF6",
           "caxis": {
            "gridcolor": "white",
            "linecolor": "white",
            "ticks": ""
           }
          },
          "title": {
           "x": 0.05
          },
          "xaxis": {
           "automargin": true,
           "gridcolor": "white",
           "linecolor": "white",
           "ticks": "",
           "title": {
            "standoff": 15
           },
           "zerolinecolor": "white",
           "zerolinewidth": 2
          },
          "yaxis": {
           "automargin": true,
           "gridcolor": "white",
           "linecolor": "white",
           "ticks": "",
           "title": {
            "standoff": 15
           },
           "zerolinecolor": "white",
           "zerolinewidth": 2
          }
         }
        },
        "xaxis": {
         "anchor": "y",
         "domain": [
          0,
          1
         ],
         "title": {
          "text": "countries"
         }
        },
        "yaxis": {
         "anchor": "x",
         "domain": [
          0,
          1
         ],
         "title": {
          "text": "Cited by"
         }
        }
       }
      }
     },
     "metadata": {},
     "output_type": "display_data"
    }
   ],
   "source": [
    "comp_list=['United Kingdom','United States']\n",
    "temp_df = df_num_citations[df_num_citations.countries.isin(comp_list)]\n",
    "fig = px.bar(temp_df, x='countries', y='Cited by')\n",
    "fig.show()"
   ]
  },
  {
   "cell_type": "code",
   "execution_count": 113,
   "metadata": {},
   "outputs": [],
   "source": [
    "def comp_country_citations(country1, country2):\n",
    "    comp_list=[country1, country2]\n",
    "    temp_df = df_num_citations[df_num_citations.countries.isin(comp_list)]\n",
    "    fig = px.bar(temp_df, x='countries', y='Cited by')\n",
    "    \n",
    "    return(fig.show())"
   ]
  },
  {
   "cell_type": "code",
   "execution_count": 115,
   "metadata": {},
   "outputs": [
    {
     "data": {
      "application/vnd.plotly.v1+json": {
       "config": {
        "plotlyServerURL": "https://plot.ly"
       },
       "data": [
        {
         "alignmentgroup": "True",
         "hovertemplate": "countries=%{x}<br>Cited by=%{y}<extra></extra>",
         "legendgroup": "",
         "marker": {
          "color": "#636efa",
          "pattern": {
           "shape": ""
          }
         },
         "name": "",
         "offsetgroup": "",
         "orientation": "v",
         "showlegend": false,
         "textposition": "auto",
         "type": "bar",
         "x": [
          "Germany",
          "Ghana"
         ],
         "xaxis": "x",
         "y": [
          110,
          44
         ],
         "yaxis": "y"
        }
       ],
       "layout": {
        "barmode": "relative",
        "legend": {
         "tracegroupgap": 0
        },
        "margin": {
         "t": 60
        },
        "template": {
         "data": {
          "bar": [
           {
            "error_x": {
             "color": "#2a3f5f"
            },
            "error_y": {
             "color": "#2a3f5f"
            },
            "marker": {
             "line": {
              "color": "#E5ECF6",
              "width": 0.5
             },
             "pattern": {
              "fillmode": "overlay",
              "size": 10,
              "solidity": 0.2
             }
            },
            "type": "bar"
           }
          ],
          "barpolar": [
           {
            "marker": {
             "line": {
              "color": "#E5ECF6",
              "width": 0.5
             },
             "pattern": {
              "fillmode": "overlay",
              "size": 10,
              "solidity": 0.2
             }
            },
            "type": "barpolar"
           }
          ],
          "carpet": [
           {
            "aaxis": {
             "endlinecolor": "#2a3f5f",
             "gridcolor": "white",
             "linecolor": "white",
             "minorgridcolor": "white",
             "startlinecolor": "#2a3f5f"
            },
            "baxis": {
             "endlinecolor": "#2a3f5f",
             "gridcolor": "white",
             "linecolor": "white",
             "minorgridcolor": "white",
             "startlinecolor": "#2a3f5f"
            },
            "type": "carpet"
           }
          ],
          "choropleth": [
           {
            "colorbar": {
             "outlinewidth": 0,
             "ticks": ""
            },
            "type": "choropleth"
           }
          ],
          "contour": [
           {
            "colorbar": {
             "outlinewidth": 0,
             "ticks": ""
            },
            "colorscale": [
             [
              0,
              "#0d0887"
             ],
             [
              0.1111111111111111,
              "#46039f"
             ],
             [
              0.2222222222222222,
              "#7201a8"
             ],
             [
              0.3333333333333333,
              "#9c179e"
             ],
             [
              0.4444444444444444,
              "#bd3786"
             ],
             [
              0.5555555555555556,
              "#d8576b"
             ],
             [
              0.6666666666666666,
              "#ed7953"
             ],
             [
              0.7777777777777778,
              "#fb9f3a"
             ],
             [
              0.8888888888888888,
              "#fdca26"
             ],
             [
              1,
              "#f0f921"
             ]
            ],
            "type": "contour"
           }
          ],
          "contourcarpet": [
           {
            "colorbar": {
             "outlinewidth": 0,
             "ticks": ""
            },
            "type": "contourcarpet"
           }
          ],
          "heatmap": [
           {
            "colorbar": {
             "outlinewidth": 0,
             "ticks": ""
            },
            "colorscale": [
             [
              0,
              "#0d0887"
             ],
             [
              0.1111111111111111,
              "#46039f"
             ],
             [
              0.2222222222222222,
              "#7201a8"
             ],
             [
              0.3333333333333333,
              "#9c179e"
             ],
             [
              0.4444444444444444,
              "#bd3786"
             ],
             [
              0.5555555555555556,
              "#d8576b"
             ],
             [
              0.6666666666666666,
              "#ed7953"
             ],
             [
              0.7777777777777778,
              "#fb9f3a"
             ],
             [
              0.8888888888888888,
              "#fdca26"
             ],
             [
              1,
              "#f0f921"
             ]
            ],
            "type": "heatmap"
           }
          ],
          "heatmapgl": [
           {
            "colorbar": {
             "outlinewidth": 0,
             "ticks": ""
            },
            "colorscale": [
             [
              0,
              "#0d0887"
             ],
             [
              0.1111111111111111,
              "#46039f"
             ],
             [
              0.2222222222222222,
              "#7201a8"
             ],
             [
              0.3333333333333333,
              "#9c179e"
             ],
             [
              0.4444444444444444,
              "#bd3786"
             ],
             [
              0.5555555555555556,
              "#d8576b"
             ],
             [
              0.6666666666666666,
              "#ed7953"
             ],
             [
              0.7777777777777778,
              "#fb9f3a"
             ],
             [
              0.8888888888888888,
              "#fdca26"
             ],
             [
              1,
              "#f0f921"
             ]
            ],
            "type": "heatmapgl"
           }
          ],
          "histogram": [
           {
            "marker": {
             "pattern": {
              "fillmode": "overlay",
              "size": 10,
              "solidity": 0.2
             }
            },
            "type": "histogram"
           }
          ],
          "histogram2d": [
           {
            "colorbar": {
             "outlinewidth": 0,
             "ticks": ""
            },
            "colorscale": [
             [
              0,
              "#0d0887"
             ],
             [
              0.1111111111111111,
              "#46039f"
             ],
             [
              0.2222222222222222,
              "#7201a8"
             ],
             [
              0.3333333333333333,
              "#9c179e"
             ],
             [
              0.4444444444444444,
              "#bd3786"
             ],
             [
              0.5555555555555556,
              "#d8576b"
             ],
             [
              0.6666666666666666,
              "#ed7953"
             ],
             [
              0.7777777777777778,
              "#fb9f3a"
             ],
             [
              0.8888888888888888,
              "#fdca26"
             ],
             [
              1,
              "#f0f921"
             ]
            ],
            "type": "histogram2d"
           }
          ],
          "histogram2dcontour": [
           {
            "colorbar": {
             "outlinewidth": 0,
             "ticks": ""
            },
            "colorscale": [
             [
              0,
              "#0d0887"
             ],
             [
              0.1111111111111111,
              "#46039f"
             ],
             [
              0.2222222222222222,
              "#7201a8"
             ],
             [
              0.3333333333333333,
              "#9c179e"
             ],
             [
              0.4444444444444444,
              "#bd3786"
             ],
             [
              0.5555555555555556,
              "#d8576b"
             ],
             [
              0.6666666666666666,
              "#ed7953"
             ],
             [
              0.7777777777777778,
              "#fb9f3a"
             ],
             [
              0.8888888888888888,
              "#fdca26"
             ],
             [
              1,
              "#f0f921"
             ]
            ],
            "type": "histogram2dcontour"
           }
          ],
          "mesh3d": [
           {
            "colorbar": {
             "outlinewidth": 0,
             "ticks": ""
            },
            "type": "mesh3d"
           }
          ],
          "parcoords": [
           {
            "line": {
             "colorbar": {
              "outlinewidth": 0,
              "ticks": ""
             }
            },
            "type": "parcoords"
           }
          ],
          "pie": [
           {
            "automargin": true,
            "type": "pie"
           }
          ],
          "scatter": [
           {
            "fillpattern": {
             "fillmode": "overlay",
             "size": 10,
             "solidity": 0.2
            },
            "type": "scatter"
           }
          ],
          "scatter3d": [
           {
            "line": {
             "colorbar": {
              "outlinewidth": 0,
              "ticks": ""
             }
            },
            "marker": {
             "colorbar": {
              "outlinewidth": 0,
              "ticks": ""
             }
            },
            "type": "scatter3d"
           }
          ],
          "scattercarpet": [
           {
            "marker": {
             "colorbar": {
              "outlinewidth": 0,
              "ticks": ""
             }
            },
            "type": "scattercarpet"
           }
          ],
          "scattergeo": [
           {
            "marker": {
             "colorbar": {
              "outlinewidth": 0,
              "ticks": ""
             }
            },
            "type": "scattergeo"
           }
          ],
          "scattergl": [
           {
            "marker": {
             "colorbar": {
              "outlinewidth": 0,
              "ticks": ""
             }
            },
            "type": "scattergl"
           }
          ],
          "scattermapbox": [
           {
            "marker": {
             "colorbar": {
              "outlinewidth": 0,
              "ticks": ""
             }
            },
            "type": "scattermapbox"
           }
          ],
          "scatterpolar": [
           {
            "marker": {
             "colorbar": {
              "outlinewidth": 0,
              "ticks": ""
             }
            },
            "type": "scatterpolar"
           }
          ],
          "scatterpolargl": [
           {
            "marker": {
             "colorbar": {
              "outlinewidth": 0,
              "ticks": ""
             }
            },
            "type": "scatterpolargl"
           }
          ],
          "scatterternary": [
           {
            "marker": {
             "colorbar": {
              "outlinewidth": 0,
              "ticks": ""
             }
            },
            "type": "scatterternary"
           }
          ],
          "surface": [
           {
            "colorbar": {
             "outlinewidth": 0,
             "ticks": ""
            },
            "colorscale": [
             [
              0,
              "#0d0887"
             ],
             [
              0.1111111111111111,
              "#46039f"
             ],
             [
              0.2222222222222222,
              "#7201a8"
             ],
             [
              0.3333333333333333,
              "#9c179e"
             ],
             [
              0.4444444444444444,
              "#bd3786"
             ],
             [
              0.5555555555555556,
              "#d8576b"
             ],
             [
              0.6666666666666666,
              "#ed7953"
             ],
             [
              0.7777777777777778,
              "#fb9f3a"
             ],
             [
              0.8888888888888888,
              "#fdca26"
             ],
             [
              1,
              "#f0f921"
             ]
            ],
            "type": "surface"
           }
          ],
          "table": [
           {
            "cells": {
             "fill": {
              "color": "#EBF0F8"
             },
             "line": {
              "color": "white"
             }
            },
            "header": {
             "fill": {
              "color": "#C8D4E3"
             },
             "line": {
              "color": "white"
             }
            },
            "type": "table"
           }
          ]
         },
         "layout": {
          "annotationdefaults": {
           "arrowcolor": "#2a3f5f",
           "arrowhead": 0,
           "arrowwidth": 1
          },
          "autotypenumbers": "strict",
          "coloraxis": {
           "colorbar": {
            "outlinewidth": 0,
            "ticks": ""
           }
          },
          "colorscale": {
           "diverging": [
            [
             0,
             "#8e0152"
            ],
            [
             0.1,
             "#c51b7d"
            ],
            [
             0.2,
             "#de77ae"
            ],
            [
             0.3,
             "#f1b6da"
            ],
            [
             0.4,
             "#fde0ef"
            ],
            [
             0.5,
             "#f7f7f7"
            ],
            [
             0.6,
             "#e6f5d0"
            ],
            [
             0.7,
             "#b8e186"
            ],
            [
             0.8,
             "#7fbc41"
            ],
            [
             0.9,
             "#4d9221"
            ],
            [
             1,
             "#276419"
            ]
           ],
           "sequential": [
            [
             0,
             "#0d0887"
            ],
            [
             0.1111111111111111,
             "#46039f"
            ],
            [
             0.2222222222222222,
             "#7201a8"
            ],
            [
             0.3333333333333333,
             "#9c179e"
            ],
            [
             0.4444444444444444,
             "#bd3786"
            ],
            [
             0.5555555555555556,
             "#d8576b"
            ],
            [
             0.6666666666666666,
             "#ed7953"
            ],
            [
             0.7777777777777778,
             "#fb9f3a"
            ],
            [
             0.8888888888888888,
             "#fdca26"
            ],
            [
             1,
             "#f0f921"
            ]
           ],
           "sequentialminus": [
            [
             0,
             "#0d0887"
            ],
            [
             0.1111111111111111,
             "#46039f"
            ],
            [
             0.2222222222222222,
             "#7201a8"
            ],
            [
             0.3333333333333333,
             "#9c179e"
            ],
            [
             0.4444444444444444,
             "#bd3786"
            ],
            [
             0.5555555555555556,
             "#d8576b"
            ],
            [
             0.6666666666666666,
             "#ed7953"
            ],
            [
             0.7777777777777778,
             "#fb9f3a"
            ],
            [
             0.8888888888888888,
             "#fdca26"
            ],
            [
             1,
             "#f0f921"
            ]
           ]
          },
          "colorway": [
           "#636efa",
           "#EF553B",
           "#00cc96",
           "#ab63fa",
           "#FFA15A",
           "#19d3f3",
           "#FF6692",
           "#B6E880",
           "#FF97FF",
           "#FECB52"
          ],
          "font": {
           "color": "#2a3f5f"
          },
          "geo": {
           "bgcolor": "white",
           "lakecolor": "white",
           "landcolor": "#E5ECF6",
           "showlakes": true,
           "showland": true,
           "subunitcolor": "white"
          },
          "hoverlabel": {
           "align": "left"
          },
          "hovermode": "closest",
          "mapbox": {
           "style": "light"
          },
          "paper_bgcolor": "white",
          "plot_bgcolor": "#E5ECF6",
          "polar": {
           "angularaxis": {
            "gridcolor": "white",
            "linecolor": "white",
            "ticks": ""
           },
           "bgcolor": "#E5ECF6",
           "radialaxis": {
            "gridcolor": "white",
            "linecolor": "white",
            "ticks": ""
           }
          },
          "scene": {
           "xaxis": {
            "backgroundcolor": "#E5ECF6",
            "gridcolor": "white",
            "gridwidth": 2,
            "linecolor": "white",
            "showbackground": true,
            "ticks": "",
            "zerolinecolor": "white"
           },
           "yaxis": {
            "backgroundcolor": "#E5ECF6",
            "gridcolor": "white",
            "gridwidth": 2,
            "linecolor": "white",
            "showbackground": true,
            "ticks": "",
            "zerolinecolor": "white"
           },
           "zaxis": {
            "backgroundcolor": "#E5ECF6",
            "gridcolor": "white",
            "gridwidth": 2,
            "linecolor": "white",
            "showbackground": true,
            "ticks": "",
            "zerolinecolor": "white"
           }
          },
          "shapedefaults": {
           "line": {
            "color": "#2a3f5f"
           }
          },
          "ternary": {
           "aaxis": {
            "gridcolor": "white",
            "linecolor": "white",
            "ticks": ""
           },
           "baxis": {
            "gridcolor": "white",
            "linecolor": "white",
            "ticks": ""
           },
           "bgcolor": "#E5ECF6",
           "caxis": {
            "gridcolor": "white",
            "linecolor": "white",
            "ticks": ""
           }
          },
          "title": {
           "x": 0.05
          },
          "xaxis": {
           "automargin": true,
           "gridcolor": "white",
           "linecolor": "white",
           "ticks": "",
           "title": {
            "standoff": 15
           },
           "zerolinecolor": "white",
           "zerolinewidth": 2
          },
          "yaxis": {
           "automargin": true,
           "gridcolor": "white",
           "linecolor": "white",
           "ticks": "",
           "title": {
            "standoff": 15
           },
           "zerolinecolor": "white",
           "zerolinewidth": 2
          }
         }
        },
        "xaxis": {
         "anchor": "y",
         "domain": [
          0,
          1
         ],
         "title": {
          "text": "countries"
         }
        },
        "yaxis": {
         "anchor": "x",
         "domain": [
          0,
          1
         ],
         "title": {
          "text": "Cited by"
         }
        }
       }
      }
     },
     "metadata": {},
     "output_type": "display_data"
    }
   ],
   "source": [
    "comp_country_citations('Germany','Ghana')"
   ]
  },
  {
   "cell_type": "markdown",
   "metadata": {},
   "source": [
    "# Document Type"
   ]
  },
  {
   "cell_type": "code",
   "execution_count": 116,
   "metadata": {},
   "outputs": [
    {
     "data": {
      "text/html": [
       "<div>\n",
       "<style scoped>\n",
       "    .dataframe tbody tr th:only-of-type {\n",
       "        vertical-align: middle;\n",
       "    }\n",
       "\n",
       "    .dataframe tbody tr th {\n",
       "        vertical-align: top;\n",
       "    }\n",
       "\n",
       "    .dataframe thead th {\n",
       "        text-align: right;\n",
       "    }\n",
       "</style>\n",
       "<table border=\"1\" class=\"dataframe\">\n",
       "  <thead>\n",
       "    <tr style=\"text-align: right;\">\n",
       "      <th></th>\n",
       "      <th>Document Type</th>\n",
       "      <th>counts</th>\n",
       "    </tr>\n",
       "  </thead>\n",
       "  <tbody>\n",
       "    <tr>\n",
       "      <th>0</th>\n",
       "      <td>Article</td>\n",
       "      <td>574</td>\n",
       "    </tr>\n",
       "    <tr>\n",
       "      <th>1</th>\n",
       "      <td>Book</td>\n",
       "      <td>1</td>\n",
       "    </tr>\n",
       "    <tr>\n",
       "      <th>2</th>\n",
       "      <td>Book Chapter</td>\n",
       "      <td>16</td>\n",
       "    </tr>\n",
       "    <tr>\n",
       "      <th>3</th>\n",
       "      <td>Conference Paper</td>\n",
       "      <td>12</td>\n",
       "    </tr>\n",
       "    <tr>\n",
       "      <th>4</th>\n",
       "      <td>Data Paper</td>\n",
       "      <td>1</td>\n",
       "    </tr>\n",
       "    <tr>\n",
       "      <th>5</th>\n",
       "      <td>Editorial</td>\n",
       "      <td>5</td>\n",
       "    </tr>\n",
       "    <tr>\n",
       "      <th>6</th>\n",
       "      <td>Erratum</td>\n",
       "      <td>2</td>\n",
       "    </tr>\n",
       "    <tr>\n",
       "      <th>7</th>\n",
       "      <td>Letter</td>\n",
       "      <td>39</td>\n",
       "    </tr>\n",
       "    <tr>\n",
       "      <th>8</th>\n",
       "      <td>Note</td>\n",
       "      <td>19</td>\n",
       "    </tr>\n",
       "    <tr>\n",
       "      <th>9</th>\n",
       "      <td>Review</td>\n",
       "      <td>125</td>\n",
       "    </tr>\n",
       "    <tr>\n",
       "      <th>10</th>\n",
       "      <td>Short Survey</td>\n",
       "      <td>2</td>\n",
       "    </tr>\n",
       "  </tbody>\n",
       "</table>\n",
       "</div>"
      ],
      "text/plain": [
       "       Document Type  counts\n",
       "0            Article     574\n",
       "1               Book       1\n",
       "2       Book Chapter      16\n",
       "3   Conference Paper      12\n",
       "4         Data Paper       1\n",
       "5          Editorial       5\n",
       "6            Erratum       2\n",
       "7             Letter      39\n",
       "8               Note      19\n",
       "9             Review     125\n",
       "10      Short Survey       2"
      ]
     },
     "execution_count": 116,
     "metadata": {},
     "output_type": "execute_result"
    }
   ],
   "source": [
    "df_doc_types"
   ]
  },
  {
   "cell_type": "code",
   "execution_count": 119,
   "metadata": {},
   "outputs": [
    {
     "data": {
      "application/vnd.plotly.v1+json": {
       "config": {
        "plotlyServerURL": "https://plot.ly"
       },
       "data": [
        {
         "branchvalues": "total",
         "domain": {
          "x": [
           0,
           1
          ],
          "y": [
           0,
           1
          ]
         },
         "hovertemplate": "labels=%{label}<br>counts=%{value}<br>parent=%{parent}<br>id=%{id}<extra></extra>",
         "ids": [
          "all/Article",
          "all/Book",
          "all/Book Chapter",
          "all/Conference Paper",
          "all/Data Paper",
          "all/Editorial",
          "all/Erratum",
          "all/Letter",
          "all/Note",
          "all/Review",
          "all/Short Survey",
          "all"
         ],
         "labels": [
          "Article",
          "Book",
          "Book Chapter",
          "Conference Paper",
          "Data Paper",
          "Editorial",
          "Erratum",
          "Letter",
          "Note",
          "Review",
          "Short Survey",
          "all"
         ],
         "marker": {
          "cornerradius": 5
         },
         "name": "",
         "parents": [
          "all",
          "all",
          "all",
          "all",
          "all",
          "all",
          "all",
          "all",
          "all",
          "all",
          "all",
          ""
         ],
         "root": {
          "color": "lightgrey"
         },
         "type": "treemap",
         "values": [
          574,
          1,
          16,
          12,
          1,
          5,
          2,
          39,
          19,
          125,
          2,
          796
         ]
        }
       ],
       "layout": {
        "legend": {
         "tracegroupgap": 0
        },
        "margin": {
         "b": 25,
         "l": 25,
         "r": 25,
         "t": 50
        },
        "template": {
         "data": {
          "bar": [
           {
            "error_x": {
             "color": "#2a3f5f"
            },
            "error_y": {
             "color": "#2a3f5f"
            },
            "marker": {
             "line": {
              "color": "#E5ECF6",
              "width": 0.5
             },
             "pattern": {
              "fillmode": "overlay",
              "size": 10,
              "solidity": 0.2
             }
            },
            "type": "bar"
           }
          ],
          "barpolar": [
           {
            "marker": {
             "line": {
              "color": "#E5ECF6",
              "width": 0.5
             },
             "pattern": {
              "fillmode": "overlay",
              "size": 10,
              "solidity": 0.2
             }
            },
            "type": "barpolar"
           }
          ],
          "carpet": [
           {
            "aaxis": {
             "endlinecolor": "#2a3f5f",
             "gridcolor": "white",
             "linecolor": "white",
             "minorgridcolor": "white",
             "startlinecolor": "#2a3f5f"
            },
            "baxis": {
             "endlinecolor": "#2a3f5f",
             "gridcolor": "white",
             "linecolor": "white",
             "minorgridcolor": "white",
             "startlinecolor": "#2a3f5f"
            },
            "type": "carpet"
           }
          ],
          "choropleth": [
           {
            "colorbar": {
             "outlinewidth": 0,
             "ticks": ""
            },
            "type": "choropleth"
           }
          ],
          "contour": [
           {
            "colorbar": {
             "outlinewidth": 0,
             "ticks": ""
            },
            "colorscale": [
             [
              0,
              "#0d0887"
             ],
             [
              0.1111111111111111,
              "#46039f"
             ],
             [
              0.2222222222222222,
              "#7201a8"
             ],
             [
              0.3333333333333333,
              "#9c179e"
             ],
             [
              0.4444444444444444,
              "#bd3786"
             ],
             [
              0.5555555555555556,
              "#d8576b"
             ],
             [
              0.6666666666666666,
              "#ed7953"
             ],
             [
              0.7777777777777778,
              "#fb9f3a"
             ],
             [
              0.8888888888888888,
              "#fdca26"
             ],
             [
              1,
              "#f0f921"
             ]
            ],
            "type": "contour"
           }
          ],
          "contourcarpet": [
           {
            "colorbar": {
             "outlinewidth": 0,
             "ticks": ""
            },
            "type": "contourcarpet"
           }
          ],
          "heatmap": [
           {
            "colorbar": {
             "outlinewidth": 0,
             "ticks": ""
            },
            "colorscale": [
             [
              0,
              "#0d0887"
             ],
             [
              0.1111111111111111,
              "#46039f"
             ],
             [
              0.2222222222222222,
              "#7201a8"
             ],
             [
              0.3333333333333333,
              "#9c179e"
             ],
             [
              0.4444444444444444,
              "#bd3786"
             ],
             [
              0.5555555555555556,
              "#d8576b"
             ],
             [
              0.6666666666666666,
              "#ed7953"
             ],
             [
              0.7777777777777778,
              "#fb9f3a"
             ],
             [
              0.8888888888888888,
              "#fdca26"
             ],
             [
              1,
              "#f0f921"
             ]
            ],
            "type": "heatmap"
           }
          ],
          "heatmapgl": [
           {
            "colorbar": {
             "outlinewidth": 0,
             "ticks": ""
            },
            "colorscale": [
             [
              0,
              "#0d0887"
             ],
             [
              0.1111111111111111,
              "#46039f"
             ],
             [
              0.2222222222222222,
              "#7201a8"
             ],
             [
              0.3333333333333333,
              "#9c179e"
             ],
             [
              0.4444444444444444,
              "#bd3786"
             ],
             [
              0.5555555555555556,
              "#d8576b"
             ],
             [
              0.6666666666666666,
              "#ed7953"
             ],
             [
              0.7777777777777778,
              "#fb9f3a"
             ],
             [
              0.8888888888888888,
              "#fdca26"
             ],
             [
              1,
              "#f0f921"
             ]
            ],
            "type": "heatmapgl"
           }
          ],
          "histogram": [
           {
            "marker": {
             "pattern": {
              "fillmode": "overlay",
              "size": 10,
              "solidity": 0.2
             }
            },
            "type": "histogram"
           }
          ],
          "histogram2d": [
           {
            "colorbar": {
             "outlinewidth": 0,
             "ticks": ""
            },
            "colorscale": [
             [
              0,
              "#0d0887"
             ],
             [
              0.1111111111111111,
              "#46039f"
             ],
             [
              0.2222222222222222,
              "#7201a8"
             ],
             [
              0.3333333333333333,
              "#9c179e"
             ],
             [
              0.4444444444444444,
              "#bd3786"
             ],
             [
              0.5555555555555556,
              "#d8576b"
             ],
             [
              0.6666666666666666,
              "#ed7953"
             ],
             [
              0.7777777777777778,
              "#fb9f3a"
             ],
             [
              0.8888888888888888,
              "#fdca26"
             ],
             [
              1,
              "#f0f921"
             ]
            ],
            "type": "histogram2d"
           }
          ],
          "histogram2dcontour": [
           {
            "colorbar": {
             "outlinewidth": 0,
             "ticks": ""
            },
            "colorscale": [
             [
              0,
              "#0d0887"
             ],
             [
              0.1111111111111111,
              "#46039f"
             ],
             [
              0.2222222222222222,
              "#7201a8"
             ],
             [
              0.3333333333333333,
              "#9c179e"
             ],
             [
              0.4444444444444444,
              "#bd3786"
             ],
             [
              0.5555555555555556,
              "#d8576b"
             ],
             [
              0.6666666666666666,
              "#ed7953"
             ],
             [
              0.7777777777777778,
              "#fb9f3a"
             ],
             [
              0.8888888888888888,
              "#fdca26"
             ],
             [
              1,
              "#f0f921"
             ]
            ],
            "type": "histogram2dcontour"
           }
          ],
          "mesh3d": [
           {
            "colorbar": {
             "outlinewidth": 0,
             "ticks": ""
            },
            "type": "mesh3d"
           }
          ],
          "parcoords": [
           {
            "line": {
             "colorbar": {
              "outlinewidth": 0,
              "ticks": ""
             }
            },
            "type": "parcoords"
           }
          ],
          "pie": [
           {
            "automargin": true,
            "type": "pie"
           }
          ],
          "scatter": [
           {
            "fillpattern": {
             "fillmode": "overlay",
             "size": 10,
             "solidity": 0.2
            },
            "type": "scatter"
           }
          ],
          "scatter3d": [
           {
            "line": {
             "colorbar": {
              "outlinewidth": 0,
              "ticks": ""
             }
            },
            "marker": {
             "colorbar": {
              "outlinewidth": 0,
              "ticks": ""
             }
            },
            "type": "scatter3d"
           }
          ],
          "scattercarpet": [
           {
            "marker": {
             "colorbar": {
              "outlinewidth": 0,
              "ticks": ""
             }
            },
            "type": "scattercarpet"
           }
          ],
          "scattergeo": [
           {
            "marker": {
             "colorbar": {
              "outlinewidth": 0,
              "ticks": ""
             }
            },
            "type": "scattergeo"
           }
          ],
          "scattergl": [
           {
            "marker": {
             "colorbar": {
              "outlinewidth": 0,
              "ticks": ""
             }
            },
            "type": "scattergl"
           }
          ],
          "scattermapbox": [
           {
            "marker": {
             "colorbar": {
              "outlinewidth": 0,
              "ticks": ""
             }
            },
            "type": "scattermapbox"
           }
          ],
          "scatterpolar": [
           {
            "marker": {
             "colorbar": {
              "outlinewidth": 0,
              "ticks": ""
             }
            },
            "type": "scatterpolar"
           }
          ],
          "scatterpolargl": [
           {
            "marker": {
             "colorbar": {
              "outlinewidth": 0,
              "ticks": ""
             }
            },
            "type": "scatterpolargl"
           }
          ],
          "scatterternary": [
           {
            "marker": {
             "colorbar": {
              "outlinewidth": 0,
              "ticks": ""
             }
            },
            "type": "scatterternary"
           }
          ],
          "surface": [
           {
            "colorbar": {
             "outlinewidth": 0,
             "ticks": ""
            },
            "colorscale": [
             [
              0,
              "#0d0887"
             ],
             [
              0.1111111111111111,
              "#46039f"
             ],
             [
              0.2222222222222222,
              "#7201a8"
             ],
             [
              0.3333333333333333,
              "#9c179e"
             ],
             [
              0.4444444444444444,
              "#bd3786"
             ],
             [
              0.5555555555555556,
              "#d8576b"
             ],
             [
              0.6666666666666666,
              "#ed7953"
             ],
             [
              0.7777777777777778,
              "#fb9f3a"
             ],
             [
              0.8888888888888888,
              "#fdca26"
             ],
             [
              1,
              "#f0f921"
             ]
            ],
            "type": "surface"
           }
          ],
          "table": [
           {
            "cells": {
             "fill": {
              "color": "#EBF0F8"
             },
             "line": {
              "color": "white"
             }
            },
            "header": {
             "fill": {
              "color": "#C8D4E3"
             },
             "line": {
              "color": "white"
             }
            },
            "type": "table"
           }
          ]
         },
         "layout": {
          "annotationdefaults": {
           "arrowcolor": "#2a3f5f",
           "arrowhead": 0,
           "arrowwidth": 1
          },
          "autotypenumbers": "strict",
          "coloraxis": {
           "colorbar": {
            "outlinewidth": 0,
            "ticks": ""
           }
          },
          "colorscale": {
           "diverging": [
            [
             0,
             "#8e0152"
            ],
            [
             0.1,
             "#c51b7d"
            ],
            [
             0.2,
             "#de77ae"
            ],
            [
             0.3,
             "#f1b6da"
            ],
            [
             0.4,
             "#fde0ef"
            ],
            [
             0.5,
             "#f7f7f7"
            ],
            [
             0.6,
             "#e6f5d0"
            ],
            [
             0.7,
             "#b8e186"
            ],
            [
             0.8,
             "#7fbc41"
            ],
            [
             0.9,
             "#4d9221"
            ],
            [
             1,
             "#276419"
            ]
           ],
           "sequential": [
            [
             0,
             "#0d0887"
            ],
            [
             0.1111111111111111,
             "#46039f"
            ],
            [
             0.2222222222222222,
             "#7201a8"
            ],
            [
             0.3333333333333333,
             "#9c179e"
            ],
            [
             0.4444444444444444,
             "#bd3786"
            ],
            [
             0.5555555555555556,
             "#d8576b"
            ],
            [
             0.6666666666666666,
             "#ed7953"
            ],
            [
             0.7777777777777778,
             "#fb9f3a"
            ],
            [
             0.8888888888888888,
             "#fdca26"
            ],
            [
             1,
             "#f0f921"
            ]
           ],
           "sequentialminus": [
            [
             0,
             "#0d0887"
            ],
            [
             0.1111111111111111,
             "#46039f"
            ],
            [
             0.2222222222222222,
             "#7201a8"
            ],
            [
             0.3333333333333333,
             "#9c179e"
            ],
            [
             0.4444444444444444,
             "#bd3786"
            ],
            [
             0.5555555555555556,
             "#d8576b"
            ],
            [
             0.6666666666666666,
             "#ed7953"
            ],
            [
             0.7777777777777778,
             "#fb9f3a"
            ],
            [
             0.8888888888888888,
             "#fdca26"
            ],
            [
             1,
             "#f0f921"
            ]
           ]
          },
          "colorway": [
           "#636efa",
           "#EF553B",
           "#00cc96",
           "#ab63fa",
           "#FFA15A",
           "#19d3f3",
           "#FF6692",
           "#B6E880",
           "#FF97FF",
           "#FECB52"
          ],
          "font": {
           "color": "#2a3f5f"
          },
          "geo": {
           "bgcolor": "white",
           "lakecolor": "white",
           "landcolor": "#E5ECF6",
           "showlakes": true,
           "showland": true,
           "subunitcolor": "white"
          },
          "hoverlabel": {
           "align": "left"
          },
          "hovermode": "closest",
          "mapbox": {
           "style": "light"
          },
          "paper_bgcolor": "white",
          "plot_bgcolor": "#E5ECF6",
          "polar": {
           "angularaxis": {
            "gridcolor": "white",
            "linecolor": "white",
            "ticks": ""
           },
           "bgcolor": "#E5ECF6",
           "radialaxis": {
            "gridcolor": "white",
            "linecolor": "white",
            "ticks": ""
           }
          },
          "scene": {
           "xaxis": {
            "backgroundcolor": "#E5ECF6",
            "gridcolor": "white",
            "gridwidth": 2,
            "linecolor": "white",
            "showbackground": true,
            "ticks": "",
            "zerolinecolor": "white"
           },
           "yaxis": {
            "backgroundcolor": "#E5ECF6",
            "gridcolor": "white",
            "gridwidth": 2,
            "linecolor": "white",
            "showbackground": true,
            "ticks": "",
            "zerolinecolor": "white"
           },
           "zaxis": {
            "backgroundcolor": "#E5ECF6",
            "gridcolor": "white",
            "gridwidth": 2,
            "linecolor": "white",
            "showbackground": true,
            "ticks": "",
            "zerolinecolor": "white"
           }
          },
          "shapedefaults": {
           "line": {
            "color": "#2a3f5f"
           }
          },
          "ternary": {
           "aaxis": {
            "gridcolor": "white",
            "linecolor": "white",
            "ticks": ""
           },
           "baxis": {
            "gridcolor": "white",
            "linecolor": "white",
            "ticks": ""
           },
           "bgcolor": "#E5ECF6",
           "caxis": {
            "gridcolor": "white",
            "linecolor": "white",
            "ticks": ""
           }
          },
          "title": {
           "x": 0.05
          },
          "xaxis": {
           "automargin": true,
           "gridcolor": "white",
           "linecolor": "white",
           "ticks": "",
           "title": {
            "standoff": 15
           },
           "zerolinecolor": "white",
           "zerolinewidth": 2
          },
          "yaxis": {
           "automargin": true,
           "gridcolor": "white",
           "linecolor": "white",
           "ticks": "",
           "title": {
            "standoff": 15
           },
           "zerolinecolor": "white",
           "zerolinewidth": 2
          }
         }
        }
       }
      }
     },
     "metadata": {},
     "output_type": "display_data"
    }
   ],
   "source": [
    "fig = px.treemap(df_doc_types, path=[px.Constant('all'), 'Document Type'], values='counts')\n",
    "fig.update_traces(root_color=\"lightgrey\")\n",
    "fig.update_layout(margin = dict(t=50, l=25, r=25, b=25))\n",
    "fig.update_traces(marker=dict(cornerradius=5))\n",
    "fig.show()"
   ]
  },
  {
   "cell_type": "markdown",
   "metadata": {},
   "source": [
    "# Publishing Journal\n"
   ]
  },
  {
   "cell_type": "code",
   "execution_count": 123,
   "metadata": {},
   "outputs": [
    {
     "data": {
      "text/html": [
       "<div>\n",
       "<style scoped>\n",
       "    .dataframe tbody tr th:only-of-type {\n",
       "        vertical-align: middle;\n",
       "    }\n",
       "\n",
       "    .dataframe tbody tr th {\n",
       "        vertical-align: top;\n",
       "    }\n",
       "\n",
       "    .dataframe thead th {\n",
       "        text-align: right;\n",
       "    }\n",
       "</style>\n",
       "<table border=\"1\" class=\"dataframe\">\n",
       "  <thead>\n",
       "    <tr style=\"text-align: right;\">\n",
       "      <th></th>\n",
       "      <th>Year</th>\n",
       "      <th>Source title</th>\n",
       "      <th>Period</th>\n",
       "      <th>counts</th>\n",
       "    </tr>\n",
       "  </thead>\n",
       "  <tbody>\n",
       "    <tr>\n",
       "      <th>0</th>\n",
       "      <td>2023</td>\n",
       "      <td>American Journal of Ophthalmology Case Reports</td>\n",
       "      <td>2014 - 2023</td>\n",
       "      <td>1</td>\n",
       "    </tr>\n",
       "    <tr>\n",
       "      <th>1</th>\n",
       "      <td>2023</td>\n",
       "      <td>European Journal of Haematology</td>\n",
       "      <td>2014 - 2023</td>\n",
       "      <td>1</td>\n",
       "    </tr>\n",
       "    <tr>\n",
       "      <th>2</th>\n",
       "      <td>2023</td>\n",
       "      <td>International Journal of Environmental Researc...</td>\n",
       "      <td>2014 - 2023</td>\n",
       "      <td>1</td>\n",
       "    </tr>\n",
       "    <tr>\n",
       "      <th>3</th>\n",
       "      <td>2023</td>\n",
       "      <td>Genes</td>\n",
       "      <td>2014 - 2023</td>\n",
       "      <td>1</td>\n",
       "    </tr>\n",
       "    <tr>\n",
       "      <th>4</th>\n",
       "      <td>2023</td>\n",
       "      <td>Eye (Basingstoke)</td>\n",
       "      <td>2014 - 2023</td>\n",
       "      <td>1</td>\n",
       "    </tr>\n",
       "    <tr>\n",
       "      <th>...</th>\n",
       "      <td>...</td>\n",
       "      <td>...</td>\n",
       "      <td>...</td>\n",
       "      <td>...</td>\n",
       "    </tr>\n",
       "    <tr>\n",
       "      <th>794</th>\n",
       "      <td>1964</td>\n",
       "      <td>Transactions - American Academy of Ophthalmolo...</td>\n",
       "      <td>1964 - 1973</td>\n",
       "      <td>1</td>\n",
       "    </tr>\n",
       "    <tr>\n",
       "      <th>795</th>\n",
       "      <td>1963</td>\n",
       "      <td>Belgisch tijdschrift voor geneeskunde</td>\n",
       "      <td>1954 - 1963</td>\n",
       "      <td>1</td>\n",
       "    </tr>\n",
       "    <tr>\n",
       "      <th>796</th>\n",
       "      <td>1960</td>\n",
       "      <td>Klinische Monatsblätter für Augenheilkunde und...</td>\n",
       "      <td>1954 - 1963</td>\n",
       "      <td>1</td>\n",
       "    </tr>\n",
       "    <tr>\n",
       "      <th>797</th>\n",
       "      <td>1958</td>\n",
       "      <td>The Mississippi doctor</td>\n",
       "      <td>1954 - 1963</td>\n",
       "      <td>1</td>\n",
       "    </tr>\n",
       "    <tr>\n",
       "      <th>798</th>\n",
       "      <td>1954</td>\n",
       "      <td>American Journal of Ophthalmology</td>\n",
       "      <td>1954 - 1963</td>\n",
       "      <td>1</td>\n",
       "    </tr>\n",
       "  </tbody>\n",
       "</table>\n",
       "<p>799 rows × 4 columns</p>\n",
       "</div>"
      ],
      "text/plain": [
       "     Year                                       Source title       Period  \\\n",
       "0    2023     American Journal of Ophthalmology Case Reports  2014 - 2023   \n",
       "1    2023                    European Journal of Haematology  2014 - 2023   \n",
       "2    2023  International Journal of Environmental Researc...  2014 - 2023   \n",
       "3    2023                                              Genes  2014 - 2023   \n",
       "4    2023                                  Eye (Basingstoke)  2014 - 2023   \n",
       "..    ...                                                ...          ...   \n",
       "794  1964  Transactions - American Academy of Ophthalmolo...  1964 - 1973   \n",
       "795  1963              Belgisch tijdschrift voor geneeskunde  1954 - 1963   \n",
       "796  1960  Klinische Monatsblätter für Augenheilkunde und...  1954 - 1963   \n",
       "797  1958                             The Mississippi doctor  1954 - 1963   \n",
       "798  1954                  American Journal of Ophthalmology  1954 - 1963   \n",
       "\n",
       "     counts  \n",
       "0         1  \n",
       "1         1  \n",
       "2         1  \n",
       "3         1  \n",
       "4         1  \n",
       "..      ...  \n",
       "794       1  \n",
       "795       1  \n",
       "796       1  \n",
       "797       1  \n",
       "798       1  \n",
       "\n",
       "[799 rows x 4 columns]"
      ]
     },
     "execution_count": 123,
     "metadata": {},
     "output_type": "execute_result"
    }
   ],
   "source": [
    "df_journals"
   ]
  },
  {
   "cell_type": "code",
   "execution_count": 130,
   "metadata": {},
   "outputs": [
    {
     "data": {
      "text/html": [
       "<div>\n",
       "<style scoped>\n",
       "    .dataframe tbody tr th:only-of-type {\n",
       "        vertical-align: middle;\n",
       "    }\n",
       "\n",
       "    .dataframe tbody tr th {\n",
       "        vertical-align: top;\n",
       "    }\n",
       "\n",
       "    .dataframe thead th {\n",
       "        text-align: right;\n",
       "    }\n",
       "</style>\n",
       "<table border=\"1\" class=\"dataframe\">\n",
       "  <thead>\n",
       "    <tr style=\"text-align: right;\">\n",
       "      <th></th>\n",
       "      <th>Source title</th>\n",
       "      <th>counts</th>\n",
       "    </tr>\n",
       "  </thead>\n",
       "  <tbody>\n",
       "    <tr>\n",
       "      <th>16</th>\n",
       "      <td>American Journal of Ophthalmology</td>\n",
       "      <td>40</td>\n",
       "    </tr>\n",
       "    <tr>\n",
       "      <th>69</th>\n",
       "      <td>British Journal of Ophthalmology</td>\n",
       "      <td>40</td>\n",
       "    </tr>\n",
       "    <tr>\n",
       "      <th>41</th>\n",
       "      <td>Archives of Ophthalmology</td>\n",
       "      <td>39</td>\n",
       "    </tr>\n",
       "    <tr>\n",
       "      <th>171</th>\n",
       "      <td>Journal Francais d'Ophtalmologie</td>\n",
       "      <td>19</td>\n",
       "    </tr>\n",
       "    <tr>\n",
       "      <th>14</th>\n",
       "      <td>American Journal of Hematology</td>\n",
       "      <td>19</td>\n",
       "    </tr>\n",
       "    <tr>\n",
       "      <th>119</th>\n",
       "      <td>Eye (Basingstoke)</td>\n",
       "      <td>14</td>\n",
       "    </tr>\n",
       "    <tr>\n",
       "      <th>245</th>\n",
       "      <td>Ophthalmology</td>\n",
       "      <td>13</td>\n",
       "    </tr>\n",
       "    <tr>\n",
       "      <th>68</th>\n",
       "      <td>British Journal of Haematology</td>\n",
       "      <td>13</td>\n",
       "    </tr>\n",
       "    <tr>\n",
       "      <th>270</th>\n",
       "      <td>Retina</td>\n",
       "      <td>12</td>\n",
       "    </tr>\n",
       "    <tr>\n",
       "      <th>131</th>\n",
       "      <td>Haematologica</td>\n",
       "      <td>9</td>\n",
       "    </tr>\n",
       "    <tr>\n",
       "      <th>159</th>\n",
       "      <td>Investigative Ophthalmology and Visual Science</td>\n",
       "      <td>8</td>\n",
       "    </tr>\n",
       "    <tr>\n",
       "      <th>313</th>\n",
       "      <td>Transactions of the Ophthalmological Societies...</td>\n",
       "      <td>8</td>\n",
       "    </tr>\n",
       "    <tr>\n",
       "      <th>189</th>\n",
       "      <td>Journal of Pediatric Hematology/Oncology</td>\n",
       "      <td>8</td>\n",
       "    </tr>\n",
       "    <tr>\n",
       "      <th>43</th>\n",
       "      <td>Arquivos Brasileiros de Oftalmologia</td>\n",
       "      <td>7</td>\n",
       "    </tr>\n",
       "    <tr>\n",
       "      <th>95</th>\n",
       "      <td>Current Opinion in Ophthalmology</td>\n",
       "      <td>7</td>\n",
       "    </tr>\n",
       "    <tr>\n",
       "      <th>111</th>\n",
       "      <td>European Journal of Ophthalmology</td>\n",
       "      <td>7</td>\n",
       "    </tr>\n",
       "    <tr>\n",
       "      <th>297</th>\n",
       "      <td>Survey of Ophthalmology</td>\n",
       "      <td>7</td>\n",
       "    </tr>\n",
       "    <tr>\n",
       "      <th>130</th>\n",
       "      <td>Graefe's Archive for Clinical and Experimental...</td>\n",
       "      <td>7</td>\n",
       "    </tr>\n",
       "    <tr>\n",
       "      <th>250</th>\n",
       "      <td>PLoS ONE</td>\n",
       "      <td>7</td>\n",
       "    </tr>\n",
       "    <tr>\n",
       "      <th>241</th>\n",
       "      <td>Ophthalmic Surgery</td>\n",
       "      <td>6</td>\n",
       "    </tr>\n",
       "    <tr>\n",
       "      <th>256</th>\n",
       "      <td>Pediatric Blood and Cancer</td>\n",
       "      <td>6</td>\n",
       "    </tr>\n",
       "    <tr>\n",
       "      <th>49</th>\n",
       "      <td>BMJ Case Reports</td>\n",
       "      <td>6</td>\n",
       "    </tr>\n",
       "    <tr>\n",
       "      <th>64</th>\n",
       "      <td>Blood Cells, Molecules, and Diseases</td>\n",
       "      <td>6</td>\n",
       "    </tr>\n",
       "    <tr>\n",
       "      <th>273</th>\n",
       "      <td>Retinal Cases and Brief Reports</td>\n",
       "      <td>6</td>\n",
       "    </tr>\n",
       "    <tr>\n",
       "      <th>29</th>\n",
       "      <td>Annals of Ophthalmology</td>\n",
       "      <td>6</td>\n",
       "    </tr>\n",
       "    <tr>\n",
       "      <th>74</th>\n",
       "      <td>Canadian Journal of Ophthalmology</td>\n",
       "      <td>6</td>\n",
       "    </tr>\n",
       "    <tr>\n",
       "      <th>82</th>\n",
       "      <td>Clinical Hemorheology and Microcirculation</td>\n",
       "      <td>5</td>\n",
       "    </tr>\n",
       "    <tr>\n",
       "      <th>200</th>\n",
       "      <td>Klinische Monatsblatter fur Augenheilkunde</td>\n",
       "      <td>5</td>\n",
       "    </tr>\n",
       "    <tr>\n",
       "      <th>176</th>\n",
       "      <td>Journal of Clinical Medicine</td>\n",
       "      <td>5</td>\n",
       "    </tr>\n",
       "    <tr>\n",
       "      <th>199</th>\n",
       "      <td>Journal of the National Medical Association</td>\n",
       "      <td>5</td>\n",
       "    </tr>\n",
       "  </tbody>\n",
       "</table>\n",
       "</div>"
      ],
      "text/plain": [
       "                                          Source title  counts\n",
       "16                   American Journal of Ophthalmology      40\n",
       "69                    British Journal of Ophthalmology      40\n",
       "41                           Archives of Ophthalmology      39\n",
       "171                   Journal Francais d'Ophtalmologie      19\n",
       "14                      American Journal of Hematology      19\n",
       "119                                  Eye (Basingstoke)      14\n",
       "245                                      Ophthalmology      13\n",
       "68                      British Journal of Haematology      13\n",
       "270                                             Retina      12\n",
       "131                                      Haematologica       9\n",
       "159     Investigative Ophthalmology and Visual Science       8\n",
       "313  Transactions of the Ophthalmological Societies...       8\n",
       "189           Journal of Pediatric Hematology/Oncology       8\n",
       "43                Arquivos Brasileiros de Oftalmologia       7\n",
       "95                    Current Opinion in Ophthalmology       7\n",
       "111                  European Journal of Ophthalmology       7\n",
       "297                            Survey of Ophthalmology       7\n",
       "130  Graefe's Archive for Clinical and Experimental...       7\n",
       "250                                           PLoS ONE       7\n",
       "241                                 Ophthalmic Surgery       6\n",
       "256                         Pediatric Blood and Cancer       6\n",
       "49                                    BMJ Case Reports       6\n",
       "64                Blood Cells, Molecules, and Diseases       6\n",
       "273                    Retinal Cases and Brief Reports       6\n",
       "29                             Annals of Ophthalmology       6\n",
       "74                   Canadian Journal of Ophthalmology       6\n",
       "82          Clinical Hemorheology and Microcirculation       5\n",
       "200         Klinische Monatsblatter fur Augenheilkunde       5\n",
       "176                       Journal of Clinical Medicine       5\n",
       "199        Journal of the National Medical Association       5"
      ]
     },
     "execution_count": 130,
     "metadata": {},
     "output_type": "execute_result"
    }
   ],
   "source": [
    "temp_df = df_journals.groupby('Source title')['counts'].sum().reset_index(name='counts').sort_values(by='counts', ascending=False).head(30)\n",
    "temp_df"
   ]
  },
  {
   "cell_type": "markdown",
   "metadata": {},
   "source": [
    "## Top 20 most prolific journals"
   ]
  },
  {
   "cell_type": "code",
   "execution_count": 131,
   "metadata": {},
   "outputs": [
    {
     "data": {
      "application/vnd.plotly.v1+json": {
       "config": {
        "plotlyServerURL": "https://plot.ly"
       },
       "data": [
        {
         "alignmentgroup": "True",
         "hovertemplate": "Source title=%{x}<br>counts=%{y}<extra></extra>",
         "legendgroup": "",
         "marker": {
          "color": "#636efa",
          "pattern": {
           "shape": ""
          }
         },
         "name": "",
         "offsetgroup": "",
         "orientation": "v",
         "showlegend": false,
         "textposition": "auto",
         "type": "bar",
         "x": [
          "American Journal of Ophthalmology",
          "British Journal of Ophthalmology",
          "Archives of Ophthalmology",
          "Journal Francais d'Ophtalmologie",
          "American Journal of Hematology",
          "Eye (Basingstoke)",
          "Ophthalmology",
          "British Journal of Haematology",
          "Retina",
          "Haematologica",
          "Investigative Ophthalmology and Visual Science",
          "Transactions of the Ophthalmological Societies of the United Kingdom",
          "Journal of Pediatric Hematology/Oncology",
          "Arquivos Brasileiros de Oftalmologia",
          "Current Opinion in Ophthalmology",
          "European Journal of Ophthalmology",
          "Survey of Ophthalmology",
          "Graefe's Archive for Clinical and Experimental Ophthalmology",
          "PLoS ONE",
          "Ophthalmic Surgery",
          "Pediatric Blood and Cancer",
          "BMJ Case Reports",
          "Blood Cells, Molecules, and Diseases",
          "Retinal Cases and Brief Reports",
          "Annals of Ophthalmology",
          "Canadian Journal of Ophthalmology",
          "Clinical Hemorheology and Microcirculation",
          "Klinische Monatsblatter fur Augenheilkunde",
          "Journal of Clinical Medicine",
          "Journal of the National Medical Association"
         ],
         "xaxis": "x",
         "y": [
          40,
          40,
          39,
          19,
          19,
          14,
          13,
          13,
          12,
          9,
          8,
          8,
          8,
          7,
          7,
          7,
          7,
          7,
          7,
          6,
          6,
          6,
          6,
          6,
          6,
          6,
          5,
          5,
          5,
          5
         ],
         "yaxis": "y"
        }
       ],
       "layout": {
        "barmode": "relative",
        "legend": {
         "tracegroupgap": 0
        },
        "margin": {
         "t": 60
        },
        "template": {
         "data": {
          "bar": [
           {
            "error_x": {
             "color": "#2a3f5f"
            },
            "error_y": {
             "color": "#2a3f5f"
            },
            "marker": {
             "line": {
              "color": "#E5ECF6",
              "width": 0.5
             },
             "pattern": {
              "fillmode": "overlay",
              "size": 10,
              "solidity": 0.2
             }
            },
            "type": "bar"
           }
          ],
          "barpolar": [
           {
            "marker": {
             "line": {
              "color": "#E5ECF6",
              "width": 0.5
             },
             "pattern": {
              "fillmode": "overlay",
              "size": 10,
              "solidity": 0.2
             }
            },
            "type": "barpolar"
           }
          ],
          "carpet": [
           {
            "aaxis": {
             "endlinecolor": "#2a3f5f",
             "gridcolor": "white",
             "linecolor": "white",
             "minorgridcolor": "white",
             "startlinecolor": "#2a3f5f"
            },
            "baxis": {
             "endlinecolor": "#2a3f5f",
             "gridcolor": "white",
             "linecolor": "white",
             "minorgridcolor": "white",
             "startlinecolor": "#2a3f5f"
            },
            "type": "carpet"
           }
          ],
          "choropleth": [
           {
            "colorbar": {
             "outlinewidth": 0,
             "ticks": ""
            },
            "type": "choropleth"
           }
          ],
          "contour": [
           {
            "colorbar": {
             "outlinewidth": 0,
             "ticks": ""
            },
            "colorscale": [
             [
              0,
              "#0d0887"
             ],
             [
              0.1111111111111111,
              "#46039f"
             ],
             [
              0.2222222222222222,
              "#7201a8"
             ],
             [
              0.3333333333333333,
              "#9c179e"
             ],
             [
              0.4444444444444444,
              "#bd3786"
             ],
             [
              0.5555555555555556,
              "#d8576b"
             ],
             [
              0.6666666666666666,
              "#ed7953"
             ],
             [
              0.7777777777777778,
              "#fb9f3a"
             ],
             [
              0.8888888888888888,
              "#fdca26"
             ],
             [
              1,
              "#f0f921"
             ]
            ],
            "type": "contour"
           }
          ],
          "contourcarpet": [
           {
            "colorbar": {
             "outlinewidth": 0,
             "ticks": ""
            },
            "type": "contourcarpet"
           }
          ],
          "heatmap": [
           {
            "colorbar": {
             "outlinewidth": 0,
             "ticks": ""
            },
            "colorscale": [
             [
              0,
              "#0d0887"
             ],
             [
              0.1111111111111111,
              "#46039f"
             ],
             [
              0.2222222222222222,
              "#7201a8"
             ],
             [
              0.3333333333333333,
              "#9c179e"
             ],
             [
              0.4444444444444444,
              "#bd3786"
             ],
             [
              0.5555555555555556,
              "#d8576b"
             ],
             [
              0.6666666666666666,
              "#ed7953"
             ],
             [
              0.7777777777777778,
              "#fb9f3a"
             ],
             [
              0.8888888888888888,
              "#fdca26"
             ],
             [
              1,
              "#f0f921"
             ]
            ],
            "type": "heatmap"
           }
          ],
          "heatmapgl": [
           {
            "colorbar": {
             "outlinewidth": 0,
             "ticks": ""
            },
            "colorscale": [
             [
              0,
              "#0d0887"
             ],
             [
              0.1111111111111111,
              "#46039f"
             ],
             [
              0.2222222222222222,
              "#7201a8"
             ],
             [
              0.3333333333333333,
              "#9c179e"
             ],
             [
              0.4444444444444444,
              "#bd3786"
             ],
             [
              0.5555555555555556,
              "#d8576b"
             ],
             [
              0.6666666666666666,
              "#ed7953"
             ],
             [
              0.7777777777777778,
              "#fb9f3a"
             ],
             [
              0.8888888888888888,
              "#fdca26"
             ],
             [
              1,
              "#f0f921"
             ]
            ],
            "type": "heatmapgl"
           }
          ],
          "histogram": [
           {
            "marker": {
             "pattern": {
              "fillmode": "overlay",
              "size": 10,
              "solidity": 0.2
             }
            },
            "type": "histogram"
           }
          ],
          "histogram2d": [
           {
            "colorbar": {
             "outlinewidth": 0,
             "ticks": ""
            },
            "colorscale": [
             [
              0,
              "#0d0887"
             ],
             [
              0.1111111111111111,
              "#46039f"
             ],
             [
              0.2222222222222222,
              "#7201a8"
             ],
             [
              0.3333333333333333,
              "#9c179e"
             ],
             [
              0.4444444444444444,
              "#bd3786"
             ],
             [
              0.5555555555555556,
              "#d8576b"
             ],
             [
              0.6666666666666666,
              "#ed7953"
             ],
             [
              0.7777777777777778,
              "#fb9f3a"
             ],
             [
              0.8888888888888888,
              "#fdca26"
             ],
             [
              1,
              "#f0f921"
             ]
            ],
            "type": "histogram2d"
           }
          ],
          "histogram2dcontour": [
           {
            "colorbar": {
             "outlinewidth": 0,
             "ticks": ""
            },
            "colorscale": [
             [
              0,
              "#0d0887"
             ],
             [
              0.1111111111111111,
              "#46039f"
             ],
             [
              0.2222222222222222,
              "#7201a8"
             ],
             [
              0.3333333333333333,
              "#9c179e"
             ],
             [
              0.4444444444444444,
              "#bd3786"
             ],
             [
              0.5555555555555556,
              "#d8576b"
             ],
             [
              0.6666666666666666,
              "#ed7953"
             ],
             [
              0.7777777777777778,
              "#fb9f3a"
             ],
             [
              0.8888888888888888,
              "#fdca26"
             ],
             [
              1,
              "#f0f921"
             ]
            ],
            "type": "histogram2dcontour"
           }
          ],
          "mesh3d": [
           {
            "colorbar": {
             "outlinewidth": 0,
             "ticks": ""
            },
            "type": "mesh3d"
           }
          ],
          "parcoords": [
           {
            "line": {
             "colorbar": {
              "outlinewidth": 0,
              "ticks": ""
             }
            },
            "type": "parcoords"
           }
          ],
          "pie": [
           {
            "automargin": true,
            "type": "pie"
           }
          ],
          "scatter": [
           {
            "fillpattern": {
             "fillmode": "overlay",
             "size": 10,
             "solidity": 0.2
            },
            "type": "scatter"
           }
          ],
          "scatter3d": [
           {
            "line": {
             "colorbar": {
              "outlinewidth": 0,
              "ticks": ""
             }
            },
            "marker": {
             "colorbar": {
              "outlinewidth": 0,
              "ticks": ""
             }
            },
            "type": "scatter3d"
           }
          ],
          "scattercarpet": [
           {
            "marker": {
             "colorbar": {
              "outlinewidth": 0,
              "ticks": ""
             }
            },
            "type": "scattercarpet"
           }
          ],
          "scattergeo": [
           {
            "marker": {
             "colorbar": {
              "outlinewidth": 0,
              "ticks": ""
             }
            },
            "type": "scattergeo"
           }
          ],
          "scattergl": [
           {
            "marker": {
             "colorbar": {
              "outlinewidth": 0,
              "ticks": ""
             }
            },
            "type": "scattergl"
           }
          ],
          "scattermapbox": [
           {
            "marker": {
             "colorbar": {
              "outlinewidth": 0,
              "ticks": ""
             }
            },
            "type": "scattermapbox"
           }
          ],
          "scatterpolar": [
           {
            "marker": {
             "colorbar": {
              "outlinewidth": 0,
              "ticks": ""
             }
            },
            "type": "scatterpolar"
           }
          ],
          "scatterpolargl": [
           {
            "marker": {
             "colorbar": {
              "outlinewidth": 0,
              "ticks": ""
             }
            },
            "type": "scatterpolargl"
           }
          ],
          "scatterternary": [
           {
            "marker": {
             "colorbar": {
              "outlinewidth": 0,
              "ticks": ""
             }
            },
            "type": "scatterternary"
           }
          ],
          "surface": [
           {
            "colorbar": {
             "outlinewidth": 0,
             "ticks": ""
            },
            "colorscale": [
             [
              0,
              "#0d0887"
             ],
             [
              0.1111111111111111,
              "#46039f"
             ],
             [
              0.2222222222222222,
              "#7201a8"
             ],
             [
              0.3333333333333333,
              "#9c179e"
             ],
             [
              0.4444444444444444,
              "#bd3786"
             ],
             [
              0.5555555555555556,
              "#d8576b"
             ],
             [
              0.6666666666666666,
              "#ed7953"
             ],
             [
              0.7777777777777778,
              "#fb9f3a"
             ],
             [
              0.8888888888888888,
              "#fdca26"
             ],
             [
              1,
              "#f0f921"
             ]
            ],
            "type": "surface"
           }
          ],
          "table": [
           {
            "cells": {
             "fill": {
              "color": "#EBF0F8"
             },
             "line": {
              "color": "white"
             }
            },
            "header": {
             "fill": {
              "color": "#C8D4E3"
             },
             "line": {
              "color": "white"
             }
            },
            "type": "table"
           }
          ]
         },
         "layout": {
          "annotationdefaults": {
           "arrowcolor": "#2a3f5f",
           "arrowhead": 0,
           "arrowwidth": 1
          },
          "autotypenumbers": "strict",
          "coloraxis": {
           "colorbar": {
            "outlinewidth": 0,
            "ticks": ""
           }
          },
          "colorscale": {
           "diverging": [
            [
             0,
             "#8e0152"
            ],
            [
             0.1,
             "#c51b7d"
            ],
            [
             0.2,
             "#de77ae"
            ],
            [
             0.3,
             "#f1b6da"
            ],
            [
             0.4,
             "#fde0ef"
            ],
            [
             0.5,
             "#f7f7f7"
            ],
            [
             0.6,
             "#e6f5d0"
            ],
            [
             0.7,
             "#b8e186"
            ],
            [
             0.8,
             "#7fbc41"
            ],
            [
             0.9,
             "#4d9221"
            ],
            [
             1,
             "#276419"
            ]
           ],
           "sequential": [
            [
             0,
             "#0d0887"
            ],
            [
             0.1111111111111111,
             "#46039f"
            ],
            [
             0.2222222222222222,
             "#7201a8"
            ],
            [
             0.3333333333333333,
             "#9c179e"
            ],
            [
             0.4444444444444444,
             "#bd3786"
            ],
            [
             0.5555555555555556,
             "#d8576b"
            ],
            [
             0.6666666666666666,
             "#ed7953"
            ],
            [
             0.7777777777777778,
             "#fb9f3a"
            ],
            [
             0.8888888888888888,
             "#fdca26"
            ],
            [
             1,
             "#f0f921"
            ]
           ],
           "sequentialminus": [
            [
             0,
             "#0d0887"
            ],
            [
             0.1111111111111111,
             "#46039f"
            ],
            [
             0.2222222222222222,
             "#7201a8"
            ],
            [
             0.3333333333333333,
             "#9c179e"
            ],
            [
             0.4444444444444444,
             "#bd3786"
            ],
            [
             0.5555555555555556,
             "#d8576b"
            ],
            [
             0.6666666666666666,
             "#ed7953"
            ],
            [
             0.7777777777777778,
             "#fb9f3a"
            ],
            [
             0.8888888888888888,
             "#fdca26"
            ],
            [
             1,
             "#f0f921"
            ]
           ]
          },
          "colorway": [
           "#636efa",
           "#EF553B",
           "#00cc96",
           "#ab63fa",
           "#FFA15A",
           "#19d3f3",
           "#FF6692",
           "#B6E880",
           "#FF97FF",
           "#FECB52"
          ],
          "font": {
           "color": "#2a3f5f"
          },
          "geo": {
           "bgcolor": "white",
           "lakecolor": "white",
           "landcolor": "#E5ECF6",
           "showlakes": true,
           "showland": true,
           "subunitcolor": "white"
          },
          "hoverlabel": {
           "align": "left"
          },
          "hovermode": "closest",
          "mapbox": {
           "style": "light"
          },
          "paper_bgcolor": "white",
          "plot_bgcolor": "#E5ECF6",
          "polar": {
           "angularaxis": {
            "gridcolor": "white",
            "linecolor": "white",
            "ticks": ""
           },
           "bgcolor": "#E5ECF6",
           "radialaxis": {
            "gridcolor": "white",
            "linecolor": "white",
            "ticks": ""
           }
          },
          "scene": {
           "xaxis": {
            "backgroundcolor": "#E5ECF6",
            "gridcolor": "white",
            "gridwidth": 2,
            "linecolor": "white",
            "showbackground": true,
            "ticks": "",
            "zerolinecolor": "white"
           },
           "yaxis": {
            "backgroundcolor": "#E5ECF6",
            "gridcolor": "white",
            "gridwidth": 2,
            "linecolor": "white",
            "showbackground": true,
            "ticks": "",
            "zerolinecolor": "white"
           },
           "zaxis": {
            "backgroundcolor": "#E5ECF6",
            "gridcolor": "white",
            "gridwidth": 2,
            "linecolor": "white",
            "showbackground": true,
            "ticks": "",
            "zerolinecolor": "white"
           }
          },
          "shapedefaults": {
           "line": {
            "color": "#2a3f5f"
           }
          },
          "ternary": {
           "aaxis": {
            "gridcolor": "white",
            "linecolor": "white",
            "ticks": ""
           },
           "baxis": {
            "gridcolor": "white",
            "linecolor": "white",
            "ticks": ""
           },
           "bgcolor": "#E5ECF6",
           "caxis": {
            "gridcolor": "white",
            "linecolor": "white",
            "ticks": ""
           }
          },
          "title": {
           "x": 0.05
          },
          "xaxis": {
           "automargin": true,
           "gridcolor": "white",
           "linecolor": "white",
           "ticks": "",
           "title": {
            "standoff": 15
           },
           "zerolinecolor": "white",
           "zerolinewidth": 2
          },
          "yaxis": {
           "automargin": true,
           "gridcolor": "white",
           "linecolor": "white",
           "ticks": "",
           "title": {
            "standoff": 15
           },
           "zerolinecolor": "white",
           "zerolinewidth": 2
          }
         }
        },
        "xaxis": {
         "anchor": "y",
         "domain": [
          0,
          1
         ],
         "title": {
          "text": "Source title"
         }
        },
        "yaxis": {
         "anchor": "x",
         "domain": [
          0,
          1
         ],
         "title": {
          "text": "counts"
         }
        }
       }
      }
     },
     "metadata": {},
     "output_type": "display_data"
    }
   ],
   "source": [
    "fig = px.bar(temp_df, x='Source title', y='counts')\n",
    "fig.show()"
   ]
  },
  {
   "cell_type": "code",
   "execution_count": 152,
   "metadata": {},
   "outputs": [],
   "source": [
    "data = pd.read_csv('../data/interim/data_02.csv')"
   ]
  },
  {
   "cell_type": "code",
   "execution_count": 153,
   "metadata": {},
   "outputs": [
    {
     "data": {
      "text/html": [
       "<div>\n",
       "<style scoped>\n",
       "    .dataframe tbody tr th:only-of-type {\n",
       "        vertical-align: middle;\n",
       "    }\n",
       "\n",
       "    .dataframe tbody tr th {\n",
       "        vertical-align: top;\n",
       "    }\n",
       "\n",
       "    .dataframe thead th {\n",
       "        text-align: right;\n",
       "    }\n",
       "</style>\n",
       "<table border=\"1\" class=\"dataframe\">\n",
       "  <thead>\n",
       "    <tr style=\"text-align: right;\">\n",
       "      <th></th>\n",
       "      <th>Year</th>\n",
       "      <th>Source title</th>\n",
       "      <th>Period</th>\n",
       "      <th>countries</th>\n",
       "    </tr>\n",
       "  </thead>\n",
       "  <tbody>\n",
       "    <tr>\n",
       "      <th>0</th>\n",
       "      <td>2023</td>\n",
       "      <td>American Journal of Ophthalmology Case Reports</td>\n",
       "      <td>2014 - 2023</td>\n",
       "      <td>['United States']</td>\n",
       "    </tr>\n",
       "    <tr>\n",
       "      <th>1</th>\n",
       "      <td>2023</td>\n",
       "      <td>European Journal of Haematology</td>\n",
       "      <td>2014 - 2023</td>\n",
       "      <td>['France', ' Guadeloupe']</td>\n",
       "    </tr>\n",
       "    <tr>\n",
       "      <th>2</th>\n",
       "      <td>2023</td>\n",
       "      <td>International Journal of Environmental Researc...</td>\n",
       "      <td>2014 - 2023</td>\n",
       "      <td>['United States']</td>\n",
       "    </tr>\n",
       "    <tr>\n",
       "      <th>3</th>\n",
       "      <td>2023</td>\n",
       "      <td>Genes</td>\n",
       "      <td>2014 - 2023</td>\n",
       "      <td>['South Korea']</td>\n",
       "    </tr>\n",
       "    <tr>\n",
       "      <th>4</th>\n",
       "      <td>2023</td>\n",
       "      <td>Eye (Basingstoke)</td>\n",
       "      <td>2014 - 2023</td>\n",
       "      <td>['United Kingdom']</td>\n",
       "    </tr>\n",
       "    <tr>\n",
       "      <th>...</th>\n",
       "      <td>...</td>\n",
       "      <td>...</td>\n",
       "      <td>...</td>\n",
       "      <td>...</td>\n",
       "    </tr>\n",
       "    <tr>\n",
       "      <th>794</th>\n",
       "      <td>1964</td>\n",
       "      <td>Transactions - American Academy of Ophthalmolo...</td>\n",
       "      <td>1964 - 1973</td>\n",
       "      <td>['']</td>\n",
       "    </tr>\n",
       "    <tr>\n",
       "      <th>795</th>\n",
       "      <td>1963</td>\n",
       "      <td>Belgisch tijdschrift voor geneeskunde</td>\n",
       "      <td>1954 - 1963</td>\n",
       "      <td>['']</td>\n",
       "    </tr>\n",
       "    <tr>\n",
       "      <th>796</th>\n",
       "      <td>1960</td>\n",
       "      <td>Klinische Monatsblätter für Augenheilkunde und...</td>\n",
       "      <td>1954 - 1963</td>\n",
       "      <td>['']</td>\n",
       "    </tr>\n",
       "    <tr>\n",
       "      <th>797</th>\n",
       "      <td>1958</td>\n",
       "      <td>The Mississippi doctor</td>\n",
       "      <td>1954 - 1963</td>\n",
       "      <td>['']</td>\n",
       "    </tr>\n",
       "    <tr>\n",
       "      <th>798</th>\n",
       "      <td>1954</td>\n",
       "      <td>American Journal of Ophthalmology</td>\n",
       "      <td>1954 - 1963</td>\n",
       "      <td>['United States']</td>\n",
       "    </tr>\n",
       "  </tbody>\n",
       "</table>\n",
       "<p>799 rows × 4 columns</p>\n",
       "</div>"
      ],
      "text/plain": [
       "     Year                                       Source title       Period  \\\n",
       "0    2023     American Journal of Ophthalmology Case Reports  2014 - 2023   \n",
       "1    2023                    European Journal of Haematology  2014 - 2023   \n",
       "2    2023  International Journal of Environmental Researc...  2014 - 2023   \n",
       "3    2023                                              Genes  2014 - 2023   \n",
       "4    2023                                  Eye (Basingstoke)  2014 - 2023   \n",
       "..    ...                                                ...          ...   \n",
       "794  1964  Transactions - American Academy of Ophthalmolo...  1964 - 1973   \n",
       "795  1963              Belgisch tijdschrift voor geneeskunde  1954 - 1963   \n",
       "796  1960  Klinische Monatsblätter für Augenheilkunde und...  1954 - 1963   \n",
       "797  1958                             The Mississippi doctor  1954 - 1963   \n",
       "798  1954                  American Journal of Ophthalmology  1954 - 1963   \n",
       "\n",
       "                     countries  \n",
       "0            ['United States']  \n",
       "1    ['France', ' Guadeloupe']  \n",
       "2            ['United States']  \n",
       "3              ['South Korea']  \n",
       "4           ['United Kingdom']  \n",
       "..                         ...  \n",
       "794                       ['']  \n",
       "795                       ['']  \n",
       "796                       ['']  \n",
       "797                       ['']  \n",
       "798          ['United States']  \n",
       "\n",
       "[799 rows x 4 columns]"
      ]
     },
     "execution_count": 153,
     "metadata": {},
     "output_type": "execute_result"
    }
   ],
   "source": [
    "cols = ['Year', 'Source title','Period','countries']\n",
    "journals = data[cols]\n",
    "journals"
   ]
  },
  {
   "cell_type": "code",
   "execution_count": 154,
   "metadata": {},
   "outputs": [
    {
     "name": "stderr",
     "output_type": "stream",
     "text": [
      "C:\\Users\\Sherrif\\AppData\\Local\\Temp\\ipykernel_1188\\3108103446.py:2: SettingWithCopyWarning:\n",
      "\n",
      "\n",
      "A value is trying to be set on a copy of a slice from a DataFrame.\n",
      "Try using .loc[row_indexer,col_indexer] = value instead\n",
      "\n",
      "See the caveats in the documentation: https://pandas.pydata.org/pandas-docs/stable/user_guide/indexing.html#returning-a-view-versus-a-copy\n",
      "\n"
     ]
    },
    {
     "data": {
      "text/html": [
       "<div>\n",
       "<style scoped>\n",
       "    .dataframe tbody tr th:only-of-type {\n",
       "        vertical-align: middle;\n",
       "    }\n",
       "\n",
       "    .dataframe tbody tr th {\n",
       "        vertical-align: top;\n",
       "    }\n",
       "\n",
       "    .dataframe thead th {\n",
       "        text-align: right;\n",
       "    }\n",
       "</style>\n",
       "<table border=\"1\" class=\"dataframe\">\n",
       "  <thead>\n",
       "    <tr style=\"text-align: right;\">\n",
       "      <th></th>\n",
       "      <th>Year</th>\n",
       "      <th>Source title</th>\n",
       "      <th>Period</th>\n",
       "      <th>countries</th>\n",
       "    </tr>\n",
       "  </thead>\n",
       "  <tbody>\n",
       "    <tr>\n",
       "      <th>0</th>\n",
       "      <td>2023</td>\n",
       "      <td>American Journal of Ophthalmology Case Reports</td>\n",
       "      <td>2014 - 2023</td>\n",
       "      <td>[United States]</td>\n",
       "    </tr>\n",
       "    <tr>\n",
       "      <th>1</th>\n",
       "      <td>2023</td>\n",
       "      <td>European Journal of Haematology</td>\n",
       "      <td>2014 - 2023</td>\n",
       "      <td>[France,  Guadeloupe]</td>\n",
       "    </tr>\n",
       "    <tr>\n",
       "      <th>2</th>\n",
       "      <td>2023</td>\n",
       "      <td>International Journal of Environmental Researc...</td>\n",
       "      <td>2014 - 2023</td>\n",
       "      <td>[United States]</td>\n",
       "    </tr>\n",
       "    <tr>\n",
       "      <th>3</th>\n",
       "      <td>2023</td>\n",
       "      <td>Genes</td>\n",
       "      <td>2014 - 2023</td>\n",
       "      <td>[South Korea]</td>\n",
       "    </tr>\n",
       "    <tr>\n",
       "      <th>4</th>\n",
       "      <td>2023</td>\n",
       "      <td>Eye (Basingstoke)</td>\n",
       "      <td>2014 - 2023</td>\n",
       "      <td>[United Kingdom]</td>\n",
       "    </tr>\n",
       "    <tr>\n",
       "      <th>...</th>\n",
       "      <td>...</td>\n",
       "      <td>...</td>\n",
       "      <td>...</td>\n",
       "      <td>...</td>\n",
       "    </tr>\n",
       "    <tr>\n",
       "      <th>794</th>\n",
       "      <td>1964</td>\n",
       "      <td>Transactions - American Academy of Ophthalmolo...</td>\n",
       "      <td>1964 - 1973</td>\n",
       "      <td>[]</td>\n",
       "    </tr>\n",
       "    <tr>\n",
       "      <th>795</th>\n",
       "      <td>1963</td>\n",
       "      <td>Belgisch tijdschrift voor geneeskunde</td>\n",
       "      <td>1954 - 1963</td>\n",
       "      <td>[]</td>\n",
       "    </tr>\n",
       "    <tr>\n",
       "      <th>796</th>\n",
       "      <td>1960</td>\n",
       "      <td>Klinische Monatsblätter für Augenheilkunde und...</td>\n",
       "      <td>1954 - 1963</td>\n",
       "      <td>[]</td>\n",
       "    </tr>\n",
       "    <tr>\n",
       "      <th>797</th>\n",
       "      <td>1958</td>\n",
       "      <td>The Mississippi doctor</td>\n",
       "      <td>1954 - 1963</td>\n",
       "      <td>[]</td>\n",
       "    </tr>\n",
       "    <tr>\n",
       "      <th>798</th>\n",
       "      <td>1954</td>\n",
       "      <td>American Journal of Ophthalmology</td>\n",
       "      <td>1954 - 1963</td>\n",
       "      <td>[United States]</td>\n",
       "    </tr>\n",
       "  </tbody>\n",
       "</table>\n",
       "<p>799 rows × 4 columns</p>\n",
       "</div>"
      ],
      "text/plain": [
       "     Year                                       Source title       Period  \\\n",
       "0    2023     American Journal of Ophthalmology Case Reports  2014 - 2023   \n",
       "1    2023                    European Journal of Haematology  2014 - 2023   \n",
       "2    2023  International Journal of Environmental Researc...  2014 - 2023   \n",
       "3    2023                                              Genes  2014 - 2023   \n",
       "4    2023                                  Eye (Basingstoke)  2014 - 2023   \n",
       "..    ...                                                ...          ...   \n",
       "794  1964  Transactions - American Academy of Ophthalmolo...  1964 - 1973   \n",
       "795  1963              Belgisch tijdschrift voor geneeskunde  1954 - 1963   \n",
       "796  1960  Klinische Monatsblätter für Augenheilkunde und...  1954 - 1963   \n",
       "797  1958                             The Mississippi doctor  1954 - 1963   \n",
       "798  1954                  American Journal of Ophthalmology  1954 - 1963   \n",
       "\n",
       "                 countries  \n",
       "0          [United States]  \n",
       "1    [France,  Guadeloupe]  \n",
       "2          [United States]  \n",
       "3            [South Korea]  \n",
       "4         [United Kingdom]  \n",
       "..                     ...  \n",
       "794                     []  \n",
       "795                     []  \n",
       "796                     []  \n",
       "797                     []  \n",
       "798        [United States]  \n",
       "\n",
       "[799 rows x 4 columns]"
      ]
     },
     "execution_count": 154,
     "metadata": {},
     "output_type": "execute_result"
    }
   ],
   "source": [
    "from ast import literal_eval\n",
    "journals['countries'] = journals['countries'].apply(lambda row: literal_eval(row))\n",
    "journals"
   ]
  },
  {
   "cell_type": "code",
   "execution_count": 155,
   "metadata": {},
   "outputs": [
    {
     "data": {
      "text/html": [
       "<div>\n",
       "<style scoped>\n",
       "    .dataframe tbody tr th:only-of-type {\n",
       "        vertical-align: middle;\n",
       "    }\n",
       "\n",
       "    .dataframe tbody tr th {\n",
       "        vertical-align: top;\n",
       "    }\n",
       "\n",
       "    .dataframe thead th {\n",
       "        text-align: right;\n",
       "    }\n",
       "</style>\n",
       "<table border=\"1\" class=\"dataframe\">\n",
       "  <thead>\n",
       "    <tr style=\"text-align: right;\">\n",
       "      <th></th>\n",
       "      <th>Year</th>\n",
       "      <th>Source title</th>\n",
       "      <th>Period</th>\n",
       "      <th>countries</th>\n",
       "    </tr>\n",
       "  </thead>\n",
       "  <tbody>\n",
       "    <tr>\n",
       "      <th>0</th>\n",
       "      <td>2023</td>\n",
       "      <td>American Journal of Ophthalmology Case Reports</td>\n",
       "      <td>2014 - 2023</td>\n",
       "      <td>United States</td>\n",
       "    </tr>\n",
       "    <tr>\n",
       "      <th>1</th>\n",
       "      <td>2023</td>\n",
       "      <td>European Journal of Haematology</td>\n",
       "      <td>2014 - 2023</td>\n",
       "      <td>France</td>\n",
       "    </tr>\n",
       "    <tr>\n",
       "      <th>1</th>\n",
       "      <td>2023</td>\n",
       "      <td>European Journal of Haematology</td>\n",
       "      <td>2014 - 2023</td>\n",
       "      <td>Guadeloupe</td>\n",
       "    </tr>\n",
       "    <tr>\n",
       "      <th>2</th>\n",
       "      <td>2023</td>\n",
       "      <td>International Journal of Environmental Researc...</td>\n",
       "      <td>2014 - 2023</td>\n",
       "      <td>United States</td>\n",
       "    </tr>\n",
       "    <tr>\n",
       "      <th>3</th>\n",
       "      <td>2023</td>\n",
       "      <td>Genes</td>\n",
       "      <td>2014 - 2023</td>\n",
       "      <td>South Korea</td>\n",
       "    </tr>\n",
       "    <tr>\n",
       "      <th>...</th>\n",
       "      <td>...</td>\n",
       "      <td>...</td>\n",
       "      <td>...</td>\n",
       "      <td>...</td>\n",
       "    </tr>\n",
       "    <tr>\n",
       "      <th>794</th>\n",
       "      <td>1964</td>\n",
       "      <td>Transactions - American Academy of Ophthalmolo...</td>\n",
       "      <td>1964 - 1973</td>\n",
       "      <td></td>\n",
       "    </tr>\n",
       "    <tr>\n",
       "      <th>795</th>\n",
       "      <td>1963</td>\n",
       "      <td>Belgisch tijdschrift voor geneeskunde</td>\n",
       "      <td>1954 - 1963</td>\n",
       "      <td></td>\n",
       "    </tr>\n",
       "    <tr>\n",
       "      <th>796</th>\n",
       "      <td>1960</td>\n",
       "      <td>Klinische Monatsblätter für Augenheilkunde und...</td>\n",
       "      <td>1954 - 1963</td>\n",
       "      <td></td>\n",
       "    </tr>\n",
       "    <tr>\n",
       "      <th>797</th>\n",
       "      <td>1958</td>\n",
       "      <td>The Mississippi doctor</td>\n",
       "      <td>1954 - 1963</td>\n",
       "      <td></td>\n",
       "    </tr>\n",
       "    <tr>\n",
       "      <th>798</th>\n",
       "      <td>1954</td>\n",
       "      <td>American Journal of Ophthalmology</td>\n",
       "      <td>1954 - 1963</td>\n",
       "      <td>United States</td>\n",
       "    </tr>\n",
       "  </tbody>\n",
       "</table>\n",
       "<p>1000 rows × 4 columns</p>\n",
       "</div>"
      ],
      "text/plain": [
       "     Year                                       Source title       Period  \\\n",
       "0    2023     American Journal of Ophthalmology Case Reports  2014 - 2023   \n",
       "1    2023                    European Journal of Haematology  2014 - 2023   \n",
       "1    2023                    European Journal of Haematology  2014 - 2023   \n",
       "2    2023  International Journal of Environmental Researc...  2014 - 2023   \n",
       "3    2023                                              Genes  2014 - 2023   \n",
       "..    ...                                                ...          ...   \n",
       "794  1964  Transactions - American Academy of Ophthalmolo...  1964 - 1973   \n",
       "795  1963              Belgisch tijdschrift voor geneeskunde  1954 - 1963   \n",
       "796  1960  Klinische Monatsblätter für Augenheilkunde und...  1954 - 1963   \n",
       "797  1958                             The Mississippi doctor  1954 - 1963   \n",
       "798  1954                  American Journal of Ophthalmology  1954 - 1963   \n",
       "\n",
       "         countries  \n",
       "0    United States  \n",
       "1           France  \n",
       "1       Guadeloupe  \n",
       "2    United States  \n",
       "3      South Korea  \n",
       "..             ...  \n",
       "794                 \n",
       "795                 \n",
       "796                 \n",
       "797                 \n",
       "798  United States  \n",
       "\n",
       "[1000 rows x 4 columns]"
      ]
     },
     "execution_count": 155,
     "metadata": {},
     "output_type": "execute_result"
    }
   ],
   "source": [
    "journals = journals.explode('countries')\n",
    "journals"
   ]
  },
  {
   "cell_type": "code",
   "execution_count": 156,
   "metadata": {},
   "outputs": [],
   "source": [
    "journals.countries = journals.countries.replace(r\"^ +| +$\", r\"\", regex=True)"
   ]
  },
  {
   "cell_type": "code",
   "execution_count": 157,
   "metadata": {},
   "outputs": [
    {
     "data": {
      "text/plain": [
       "countries\n",
       "United States         398\n",
       "United Kingdom         72\n",
       "France                 67\n",
       "                       48\n",
       "Brazil                 46\n",
       "                     ... \n",
       "Monaco                  1\n",
       "Zimbabwe                1\n",
       "Russian Federation      1\n",
       "Uganda                  1\n",
       "Hong Kong               1\n",
       "Name: count, Length: 73, dtype: int64"
      ]
     },
     "execution_count": 157,
     "metadata": {},
     "output_type": "execute_result"
    }
   ],
   "source": [
    "journals.countries.value_counts()"
   ]
  },
  {
   "cell_type": "code",
   "execution_count": 158,
   "metadata": {},
   "outputs": [],
   "source": [
    "journals = journals[journals['countries'] !='']"
   ]
  },
  {
   "cell_type": "code",
   "execution_count": 159,
   "metadata": {},
   "outputs": [
    {
     "data": {
      "text/html": [
       "<div>\n",
       "<style scoped>\n",
       "    .dataframe tbody tr th:only-of-type {\n",
       "        vertical-align: middle;\n",
       "    }\n",
       "\n",
       "    .dataframe tbody tr th {\n",
       "        vertical-align: top;\n",
       "    }\n",
       "\n",
       "    .dataframe thead th {\n",
       "        text-align: right;\n",
       "    }\n",
       "</style>\n",
       "<table border=\"1\" class=\"dataframe\">\n",
       "  <thead>\n",
       "    <tr style=\"text-align: right;\">\n",
       "      <th></th>\n",
       "      <th>Year</th>\n",
       "      <th>Source title</th>\n",
       "      <th>Period</th>\n",
       "      <th>countries</th>\n",
       "    </tr>\n",
       "  </thead>\n",
       "  <tbody>\n",
       "    <tr>\n",
       "      <th>0</th>\n",
       "      <td>2023</td>\n",
       "      <td>American Journal of Ophthalmology Case Reports</td>\n",
       "      <td>2014 - 2023</td>\n",
       "      <td>United States</td>\n",
       "    </tr>\n",
       "    <tr>\n",
       "      <th>1</th>\n",
       "      <td>2023</td>\n",
       "      <td>European Journal of Haematology</td>\n",
       "      <td>2014 - 2023</td>\n",
       "      <td>France</td>\n",
       "    </tr>\n",
       "    <tr>\n",
       "      <th>1</th>\n",
       "      <td>2023</td>\n",
       "      <td>European Journal of Haematology</td>\n",
       "      <td>2014 - 2023</td>\n",
       "      <td>Guadeloupe</td>\n",
       "    </tr>\n",
       "    <tr>\n",
       "      <th>2</th>\n",
       "      <td>2023</td>\n",
       "      <td>International Journal of Environmental Researc...</td>\n",
       "      <td>2014 - 2023</td>\n",
       "      <td>United States</td>\n",
       "    </tr>\n",
       "    <tr>\n",
       "      <th>3</th>\n",
       "      <td>2023</td>\n",
       "      <td>Genes</td>\n",
       "      <td>2014 - 2023</td>\n",
       "      <td>South Korea</td>\n",
       "    </tr>\n",
       "    <tr>\n",
       "      <th>...</th>\n",
       "      <td>...</td>\n",
       "      <td>...</td>\n",
       "      <td>...</td>\n",
       "      <td>...</td>\n",
       "    </tr>\n",
       "    <tr>\n",
       "      <th>785</th>\n",
       "      <td>1971</td>\n",
       "      <td>Archives of Ophthalmology</td>\n",
       "      <td>1964 - 1973</td>\n",
       "      <td>United States</td>\n",
       "    </tr>\n",
       "    <tr>\n",
       "      <th>786</th>\n",
       "      <td>1971</td>\n",
       "      <td>American Journal of Ophthalmology</td>\n",
       "      <td>1964 - 1973</td>\n",
       "      <td>United States</td>\n",
       "    </tr>\n",
       "    <tr>\n",
       "      <th>789</th>\n",
       "      <td>1969</td>\n",
       "      <td>Documenta Ophthalmologica</td>\n",
       "      <td>1964 - 1973</td>\n",
       "      <td>United States</td>\n",
       "    </tr>\n",
       "    <tr>\n",
       "      <th>791</th>\n",
       "      <td>1967</td>\n",
       "      <td>American Journal of Ophthalmology</td>\n",
       "      <td>1964 - 1973</td>\n",
       "      <td>United States</td>\n",
       "    </tr>\n",
       "    <tr>\n",
       "      <th>798</th>\n",
       "      <td>1954</td>\n",
       "      <td>American Journal of Ophthalmology</td>\n",
       "      <td>1954 - 1963</td>\n",
       "      <td>United States</td>\n",
       "    </tr>\n",
       "  </tbody>\n",
       "</table>\n",
       "<p>952 rows × 4 columns</p>\n",
       "</div>"
      ],
      "text/plain": [
       "     Year                                       Source title       Period  \\\n",
       "0    2023     American Journal of Ophthalmology Case Reports  2014 - 2023   \n",
       "1    2023                    European Journal of Haematology  2014 - 2023   \n",
       "1    2023                    European Journal of Haematology  2014 - 2023   \n",
       "2    2023  International Journal of Environmental Researc...  2014 - 2023   \n",
       "3    2023                                              Genes  2014 - 2023   \n",
       "..    ...                                                ...          ...   \n",
       "785  1971                          Archives of Ophthalmology  1964 - 1973   \n",
       "786  1971                  American Journal of Ophthalmology  1964 - 1973   \n",
       "789  1969                          Documenta Ophthalmologica  1964 - 1973   \n",
       "791  1967                  American Journal of Ophthalmology  1964 - 1973   \n",
       "798  1954                  American Journal of Ophthalmology  1954 - 1963   \n",
       "\n",
       "         countries  \n",
       "0    United States  \n",
       "1           France  \n",
       "1       Guadeloupe  \n",
       "2    United States  \n",
       "3      South Korea  \n",
       "..             ...  \n",
       "785  United States  \n",
       "786  United States  \n",
       "789  United States  \n",
       "791  United States  \n",
       "798  United States  \n",
       "\n",
       "[952 rows x 4 columns]"
      ]
     },
     "execution_count": 159,
     "metadata": {},
     "output_type": "execute_result"
    }
   ],
   "source": [
    "journals"
   ]
  },
  {
   "cell_type": "code",
   "execution_count": 160,
   "metadata": {},
   "outputs": [
    {
     "name": "stderr",
     "output_type": "stream",
     "text": [
      "C:\\Users\\Sherrif\\AppData\\Local\\Temp\\ipykernel_1188\\3618795696.py:1: SettingWithCopyWarning:\n",
      "\n",
      "\n",
      "A value is trying to be set on a copy of a slice from a DataFrame.\n",
      "Try using .loc[row_indexer,col_indexer] = value instead\n",
      "\n",
      "See the caveats in the documentation: https://pandas.pydata.org/pandas-docs/stable/user_guide/indexing.html#returning-a-view-versus-a-copy\n",
      "\n"
     ]
    }
   ],
   "source": [
    "journals['counts'] = 1\n",
    "journals = journals.groupby(['countries','Source title'])['counts'].sum().reset_index(name='counts')"
   ]
  },
  {
   "cell_type": "code",
   "execution_count": 161,
   "metadata": {},
   "outputs": [
    {
     "data": {
      "text/html": [
       "<div>\n",
       "<style scoped>\n",
       "    .dataframe tbody tr th:only-of-type {\n",
       "        vertical-align: middle;\n",
       "    }\n",
       "\n",
       "    .dataframe tbody tr th {\n",
       "        vertical-align: top;\n",
       "    }\n",
       "\n",
       "    .dataframe thead th {\n",
       "        text-align: right;\n",
       "    }\n",
       "</style>\n",
       "<table border=\"1\" class=\"dataframe\">\n",
       "  <thead>\n",
       "    <tr style=\"text-align: right;\">\n",
       "      <th></th>\n",
       "      <th>countries</th>\n",
       "      <th>Source title</th>\n",
       "      <th>counts</th>\n",
       "    </tr>\n",
       "  </thead>\n",
       "  <tbody>\n",
       "    <tr>\n",
       "      <th>0</th>\n",
       "      <td>\"Cote dIvoire\"</td>\n",
       "      <td>Journal Francais d'Ophtalmologie</td>\n",
       "      <td>3</td>\n",
       "    </tr>\n",
       "    <tr>\n",
       "      <th>1</th>\n",
       "      <td>\"Cote dIvoire\"</td>\n",
       "      <td>Medecine d'Afrique Noire</td>\n",
       "      <td>1</td>\n",
       "    </tr>\n",
       "    <tr>\n",
       "      <th>2</th>\n",
       "      <td>Argentina</td>\n",
       "      <td>ASN Neuro</td>\n",
       "      <td>1</td>\n",
       "    </tr>\n",
       "    <tr>\n",
       "      <th>3</th>\n",
       "      <td>Argentina</td>\n",
       "      <td>Experimental Eye Research</td>\n",
       "      <td>1</td>\n",
       "    </tr>\n",
       "    <tr>\n",
       "      <th>4</th>\n",
       "      <td>Australia</td>\n",
       "      <td>Pharmaceuticals</td>\n",
       "      <td>1</td>\n",
       "    </tr>\n",
       "    <tr>\n",
       "      <th>...</th>\n",
       "      <td>...</td>\n",
       "      <td>...</td>\n",
       "      <td>...</td>\n",
       "    </tr>\n",
       "    <tr>\n",
       "      <th>577</th>\n",
       "      <td>United States</td>\n",
       "      <td>Undersea and Hyperbaric Medicine</td>\n",
       "      <td>1</td>\n",
       "    </tr>\n",
       "    <tr>\n",
       "      <th>578</th>\n",
       "      <td>United States</td>\n",
       "      <td>Vision Research</td>\n",
       "      <td>1</td>\n",
       "    </tr>\n",
       "    <tr>\n",
       "      <th>579</th>\n",
       "      <td>United States</td>\n",
       "      <td>eLife</td>\n",
       "      <td>1</td>\n",
       "    </tr>\n",
       "    <tr>\n",
       "      <th>580</th>\n",
       "      <td>Zambia</td>\n",
       "      <td>Neurology</td>\n",
       "      <td>1</td>\n",
       "    </tr>\n",
       "    <tr>\n",
       "      <th>581</th>\n",
       "      <td>Zimbabwe</td>\n",
       "      <td>American Journal of Ophthalmology Case Reports</td>\n",
       "      <td>1</td>\n",
       "    </tr>\n",
       "  </tbody>\n",
       "</table>\n",
       "<p>582 rows × 3 columns</p>\n",
       "</div>"
      ],
      "text/plain": [
       "          countries                                    Source title  counts\n",
       "0    \"Cote dIvoire\"                Journal Francais d'Ophtalmologie       3\n",
       "1    \"Cote dIvoire\"                        Medecine d'Afrique Noire       1\n",
       "2         Argentina                                       ASN Neuro       1\n",
       "3         Argentina                       Experimental Eye Research       1\n",
       "4         Australia                                 Pharmaceuticals       1\n",
       "..              ...                                             ...     ...\n",
       "577   United States                Undersea and Hyperbaric Medicine       1\n",
       "578   United States                                 Vision Research       1\n",
       "579   United States                                           eLife       1\n",
       "580          Zambia                                       Neurology       1\n",
       "581        Zimbabwe  American Journal of Ophthalmology Case Reports       1\n",
       "\n",
       "[582 rows x 3 columns]"
      ]
     },
     "execution_count": 161,
     "metadata": {},
     "output_type": "execute_result"
    }
   ],
   "source": [
    "journals"
   ]
  },
  {
   "cell_type": "markdown",
   "metadata": {},
   "source": [
    "## Journals by Countries"
   ]
  },
  {
   "cell_type": "code",
   "execution_count": 166,
   "metadata": {},
   "outputs": [
    {
     "data": {
      "application/vnd.plotly.v1+json": {
       "config": {
        "plotlyServerURL": "https://plot.ly"
       },
       "data": [
        {
         "branchvalues": "total",
         "customdata": [
          [
           1
          ],
          [
           1
          ],
          [
           1
          ],
          [
           1
          ],
          [
           1
          ],
          [
           1
          ],
          [
           1
          ],
          [
           1
          ],
          [
           1
          ],
          [
           1
          ],
          [
           1
          ],
          [
           2
          ],
          [
           1
          ],
          [
           1
          ],
          [
           1
          ],
          [
           1
          ],
          [
           1
          ],
          [
           1
          ],
          [
           1
          ],
          [
           3
          ],
          [
           2
          ],
          [
           2
          ],
          [
           1
          ],
          [
           1
          ],
          [
           1
          ],
          [
           5
          ],
          [
           1
          ],
          [
           2
          ],
          [
           1
          ],
          [
           11
          ],
          [
           2
          ],
          [
           1
          ],
          [
           2
          ],
          [
           1
          ],
          [
           1
          ],
          [
           3
          ],
          [
           4
          ],
          [
           36
          ],
          [
           1
          ],
          [
           1
          ],
          [
           4
          ],
          [
           1
          ],
          [
           1
          ],
          [
           1
          ],
          [
           1
          ],
          [
           1
          ],
          [
           1
          ],
          [
           1
          ],
          [
           1
          ],
          [
           1
          ],
          [
           1
          ],
          [
           1
          ],
          [
           1
          ],
          [
           1
          ],
          [
           1
          ],
          [
           4
          ],
          [
           1
          ],
          [
           1
          ],
          [
           1
          ],
          [
           1
          ],
          [
           1
          ],
          [
           3
          ],
          [
           1
          ],
          [
           1
          ],
          [
           1
          ],
          [
           1
          ],
          [
           1
          ],
          [
           1
          ],
          [
           1
          ],
          [
           1
          ],
          [
           2
          ],
          [
           1
          ],
          [
           1
          ],
          [
           4
          ],
          [
           1
          ],
          [
           37
          ],
          [
           1
          ],
          [
           7
          ],
          [
           1
          ],
          [
           1
          ],
          [
           1
          ],
          [
           1
          ],
          [
           1
          ],
          [
           1
          ],
          [
           1
          ],
          [
           1
          ],
          [
           1
          ],
          [
           1
          ],
          [
           1
          ],
          [
           2
          ],
          [
           2
          ],
          [
           1
          ],
          [
           1
          ],
          [
           1
          ],
          [
           1
          ],
          [
           1
          ],
          [
           1
          ],
          [
           1
          ],
          [
           1
          ],
          [
           1
          ],
          [
           2
          ],
          [
           4
          ],
          [
           1
          ],
          [
           1
          ],
          [
           1
          ],
          [
           1
          ],
          [
           1
          ],
          [
           2
          ],
          [
           1
          ],
          [
           1
          ],
          [
           1
          ],
          [
           1
          ],
          [
           3
          ],
          [
           1
          ],
          [
           1
          ],
          [
           2
          ],
          [
           1
          ],
          [
           2
          ],
          [
           1
          ],
          [
           1
          ],
          [
           2
          ],
          [
           1
          ],
          [
           1
          ],
          [
           1
          ],
          [
           1
          ],
          [
           1
          ],
          [
           1
          ],
          [
           1
          ],
          [
           1
          ],
          [
           1
          ],
          [
           1
          ],
          [
           2
          ],
          [
           2
          ],
          [
           2
          ],
          [
           1
          ],
          [
           1
          ],
          [
           1
          ],
          [
           2
          ],
          [
           7
          ],
          [
           3
          ],
          [
           1
          ],
          [
           1
          ],
          [
           1
          ],
          [
           1
          ],
          [
           1
          ],
          [
           22
          ],
          [
           1
          ],
          [
           1
          ],
          [
           1
          ],
          [
           1
          ],
          [
           12
          ],
          [
           12
          ],
          [
           1
          ],
          [
           1
          ],
          [
           5
          ],
          [
           1
          ],
          [
           1
          ],
          [
           1
          ],
          [
           2
          ],
          [
           1
          ],
          [
           1
          ],
          [
           1
          ],
          [
           1
          ],
          [
           1
          ],
          [
           1
          ],
          [
           1
          ],
          [
           1
          ],
          [
           1
          ],
          [
           1
          ],
          [
           1
          ],
          [
           1
          ],
          [
           3
          ],
          [
           4
          ],
          [
           2
          ],
          [
           1
          ],
          [
           1
          ],
          [
           1
          ],
          [
           1
          ],
          [
           1
          ],
          [
           1
          ],
          [
           1
          ],
          [
           1
          ],
          [
           1
          ],
          [
           1
          ],
          [
           3
          ],
          [
           1
          ],
          [
           3
          ],
          [
           1
          ],
          [
           6
          ],
          [
           1
          ],
          [
           1
          ],
          [
           1
          ],
          [
           1
          ],
          [
           1
          ],
          [
           1
          ],
          [
           1
          ],
          [
           1
          ],
          [
           1
          ],
          [
           1
          ],
          [
           1
          ],
          [
           1
          ],
          [
           1
          ],
          [
           3
          ],
          [
           1
          ],
          [
           1
          ],
          [
           2
          ],
          [
           1
          ],
          [
           1
          ],
          [
           1
          ],
          [
           1
          ],
          [
           1
          ],
          [
           1
          ],
          [
           2
          ],
          [
           1
          ],
          [
           1
          ],
          [
           1
          ],
          [
           1
          ],
          [
           1
          ],
          [
           1
          ],
          [
           1
          ],
          [
           2
          ],
          [
           1
          ],
          [
           1
          ],
          [
           1
          ],
          [
           1
          ],
          [
           3
          ],
          [
           1
          ],
          [
           2
          ],
          [
           1
          ],
          [
           1
          ],
          [
           1
          ],
          [
           1
          ],
          [
           1
          ],
          [
           1
          ],
          [
           1
          ],
          [
           1
          ],
          [
           3
          ],
          [
           1
          ],
          [
           3
          ],
          [
           1
          ],
          [
           6
          ],
          [
           5
          ],
          [
           1
          ],
          [
           1
          ],
          [
           1
          ],
          [
           1
          ],
          [
           1
          ],
          [
           1
          ],
          [
           1
          ],
          [
           1
          ],
          [
           1
          ],
          [
           1
          ],
          [
           1
          ],
          [
           1
          ],
          [
           1
          ],
          [
           1
          ],
          [
           1
          ],
          [
           1
          ],
          [
           1
          ],
          [
           1
          ],
          [
           1
          ],
          [
           1
          ],
          [
           1
          ],
          [
           1
          ],
          [
           1
          ],
          [
           1
          ],
          [
           2
          ],
          [
           1
          ],
          [
           1
          ],
          [
           1
          ],
          [
           1
          ],
          [
           2
          ],
          [
           2
          ],
          [
           2
          ],
          [
           1
          ],
          [
           1
          ],
          [
           1
          ],
          [
           1
          ],
          [
           4
          ],
          [
           1
          ],
          [
           1
          ],
          [
           1
          ],
          [
           1
          ],
          [
           1
          ],
          [
           3
          ],
          [
           1
          ],
          [
           1
          ],
          [
           1
          ],
          [
           4
          ],
          [
           1
          ],
          [
           1
          ],
          [
           1
          ],
          [
           1
          ],
          [
           2
          ],
          [
           1
          ],
          [
           1
          ],
          [
           1
          ],
          [
           1
          ],
          [
           1
          ],
          [
           1
          ],
          [
           1
          ],
          [
           1
          ],
          [
           1
          ],
          [
           1
          ],
          [
           1
          ],
          [
           1
          ],
          [
           1
          ],
          [
           2
          ],
          [
           1
          ],
          [
           1
          ],
          [
           1
          ],
          [
           1
          ],
          [
           1
          ],
          [
           1
          ],
          [
           4
          ],
          [
           2
          ],
          [
           1
          ],
          [
           2
          ],
          [
           1
          ],
          [
           1
          ],
          [
           1
          ],
          [
           1
          ],
          [
           1
          ],
          [
           8
          ],
          [
           1
          ],
          [
           1
          ],
          [
           1
          ],
          [
           1
          ],
          [
           1
          ],
          [
           1
          ],
          [
           4
          ],
          [
           1
          ],
          [
           1
          ],
          [
           2
          ],
          [
           1
          ],
          [
           3
          ],
          [
           1
          ],
          [
           2
          ],
          [
           1
          ],
          [
           11
          ],
          [
           1
          ],
          [
           1
          ],
          [
           1
          ],
          [
           2
          ],
          [
           1
          ],
          [
           1
          ],
          [
           3
          ],
          [
           1
          ],
          [
           1
          ],
          [
           1
          ],
          [
           1
          ],
          [
           1
          ],
          [
           4
          ],
          [
           1
          ],
          [
           1
          ],
          [
           2
          ],
          [
           1
          ],
          [
           1
          ],
          [
           1
          ],
          [
           1
          ],
          [
           1
          ],
          [
           1
          ],
          [
           1
          ],
          [
           1
          ],
          [
           1
          ],
          [
           1
          ],
          [
           1
          ],
          [
           1
          ],
          [
           1
          ],
          [
           1
          ],
          [
           1
          ],
          [
           1
          ],
          [
           1
          ],
          [
           1
          ],
          [
           2
          ],
          [
           2
          ],
          [
           2
          ],
          [
           1
          ],
          [
           1
          ],
          [
           3
          ],
          [
           1
          ],
          [
           1
          ],
          [
           1
          ],
          [
           1
          ],
          [
           2
          ],
          [
           1
          ],
          [
           1
          ],
          [
           1
          ],
          [
           1
          ],
          [
           1
          ],
          [
           3
          ],
          [
           1
          ],
          [
           3
          ],
          [
           2
          ],
          [
           1
          ],
          [
           1
          ],
          [
           1
          ],
          [
           1
          ],
          [
           1
          ],
          [
           1
          ],
          [
           1
          ],
          [
           1
          ],
          [
           1
          ],
          [
           1
          ],
          [
           1
          ],
          [
           1
          ],
          [
           1
          ],
          [
           1
          ],
          [
           1
          ],
          [
           1
          ],
          [
           1
          ],
          [
           1
          ],
          [
           1
          ],
          [
           1
          ],
          [
           1
          ],
          [
           1
          ],
          [
           1
          ],
          [
           1
          ],
          [
           1
          ],
          [
           1
          ],
          [
           1
          ],
          [
           1
          ],
          [
           1
          ],
          [
           1
          ],
          [
           1
          ],
          [
           1
          ],
          [
           5
          ],
          [
           1
          ],
          [
           1
          ],
          [
           1
          ],
          [
           1
          ],
          [
           1
          ],
          [
           1
          ],
          [
           1
          ],
          [
           1
          ],
          [
           1
          ],
          [
           1
          ],
          [
           1
          ],
          [
           1
          ],
          [
           2
          ],
          [
           1
          ],
          [
           6
          ],
          [
           1
          ],
          [
           1
          ],
          [
           3
          ],
          [
           3
          ],
          [
           1
          ],
          [
           1
          ],
          [
           1
          ],
          [
           1
          ],
          [
           1
          ],
          [
           1
          ],
          [
           3
          ],
          [
           2
          ],
          [
           12
          ],
          [
           1
          ],
          [
           1
          ],
          [
           1
          ],
          [
           3
          ],
          [
           1
          ],
          [
           3
          ],
          [
           3
          ],
          [
           1
          ],
          [
           1
          ],
          [
           1
          ],
          [
           1
          ],
          [
           5
          ],
          [
           1
          ],
          [
           1
          ],
          [
           1
          ],
          [
           1
          ],
          [
           1
          ],
          [
           1
          ],
          [
           1
          ],
          [
           1
          ],
          [
           1
          ],
          [
           1
          ],
          [
           1
          ],
          [
           1
          ],
          [
           2
          ],
          [
           1
          ],
          [
           1
          ],
          [
           4
          ],
          [
           1
          ],
          [
           2
          ],
          [
           1
          ],
          [
           1
          ],
          [
           1
          ],
          [
           1
          ],
          [
           1
          ],
          [
           1
          ],
          [
           1
          ],
          [
           1
          ],
          [
           1
          ],
          [
           1
          ],
          [
           1
          ],
          [
           1
          ],
          [
           1
          ],
          [
           1
          ],
          [
           1
          ],
          [
           1
          ],
          [
           1
          ],
          [
           1
          ],
          [
           1
          ],
          [
           1
          ],
          [
           1
          ],
          [
           1
          ],
          [
           1
          ],
          [
           8
          ],
          [
           1
          ],
          [
           1
          ],
          [
           2
          ],
          [
           6
          ],
          [
           1
          ],
          [
           1
          ],
          [
           1
          ],
          [
           2
          ],
          [
           1
          ],
          [
           5
          ],
          [
           5
          ],
          [
           3
          ],
          [
           1
          ],
          [
           1
          ],
          [
           1
          ],
          [
           2
          ],
          [
           1
          ],
          [
           2
          ],
          [
           1
          ],
          [
           1
          ],
          [
           1
          ],
          [
           1
          ],
          [
           1
          ],
          [
           1
          ],
          [
           1
          ],
          [
           1
          ],
          [
           1
          ],
          [
           1
          ],
          [
           1
          ],
          [
           1
          ],
          [
           3
          ],
          [
           1
          ],
          [
           1
          ],
          [
           1
          ],
          [
           1
          ],
          [
           6
          ],
          [
           1
          ],
          [
           1
          ],
          [
           1
          ],
          [
           1
          ],
          [
           2
          ],
          [
           2
          ],
          [
           1
          ],
          [
           1
          ],
          [
           1
          ],
          [
           2
          ],
          [
           3
          ],
          [
           2
          ],
          [
           1
          ],
          [
           1
          ],
          [
           3
          ],
          [
           2
          ],
          [
           1
          ],
          [
           1
          ],
          [
           1
          ],
          [
           1
          ],
          [
           1
          ],
          [
           1
          ],
          [
           1
          ],
          [
           1
          ],
          [
           1
          ],
          [
           1
          ],
          [
           1
          ],
          [
           1
          ],
          [
           1
          ],
          [
           1
          ],
          [
           1
          ],
          [
           1
          ],
          [
           1
          ],
          [
           1
          ],
          [
           1
          ],
          [
           1
          ],
          [
           1
          ],
          [
           2.5
          ],
          [
           1
          ],
          [
           1
          ],
          [
           1
          ],
          [
           1
          ],
          [
           1
          ],
          [
           2.869565217391304
          ],
          [
           1.6666666666666667
          ],
          [
           1
          ],
          [
           2.6363636363636362
          ],
          [
           1.4
          ],
          [
           3
          ],
          [
           1.5
          ],
          [
           1
          ],
          [
           1.2
          ],
          [
           3.3582089552238807
          ],
          [
           1
          ],
          [
           1
          ],
          [
           1.75
          ],
          [
           1
          ],
          [
           1
          ],
          [
           2.3333333333333335
          ],
          [
           1
          ],
          [
           1.2352941176470589
          ],
          [
           1
          ],
          [
           1
          ],
          [
           1
          ],
          [
           1.2105263157894737
          ],
          [
           12.44186046511628
          ],
          [
           1.3333333333333333
          ],
          [
           1
          ],
          [
           1.3333333333333333
          ],
          [
           1
          ],
          [
           1
          ],
          [
           1
          ],
          [
           1
          ],
          [
           1
          ],
          [
           2
          ],
          [
           1
          ],
          [
           1
          ],
          [
           1
          ],
          [
           1
          ],
          [
           1
          ],
          [
           1.4285714285714286
          ],
          [
           3
          ],
          [
           1.0869565217391304
          ],
          [
           1.08
          ],
          [
           1
          ],
          [
           1
          ],
          [
           1
          ],
          [
           1
          ],
          [
           1
          ],
          [
           1
          ],
          [
           1
          ],
          [
           1
          ],
          [
           1
          ],
          [
           1
          ],
          [
           1
          ],
          [
           1
          ],
          [
           1
          ],
          [
           1
          ],
          [
           1.5
          ],
          [
           1.6666666666666667
          ],
          [
           1
          ],
          [
           1
          ],
          [
           1
          ],
          [
           1
          ],
          [
           1
          ],
          [
           3.6666666666666665
          ],
          [
           9.869346733668342
          ],
          [
           1
          ],
          [
           1
          ],
          [
           5.80672268907563
          ]
         ],
         "domain": {
          "x": [
           0,
           1
          ],
          "y": [
           0,
           1
          ]
         },
         "hovertemplate": "labels=%{label}<br>counts_sum=%{value}<br>parent=%{parent}<br>id=%{id}<br>counts=%{color}<extra></extra>",
         "ids": [
          "World/United Kingdom/A Practical Manual of Diabetic Retinopathy Management",
          "World/Argentina/ASN Neuro",
          "World/Niger/Acta Haematologica",
          "World/Nigeria/Acta Haematologica",
          "World/Turkey/Acta Haematologica",
          "World/United States/Acta Haematologica",
          "World/United States/Acta Ophthalmologica",
          "World/Brazil/Acta Ophthalmologica Scandinavica",
          "World/United Kingdom/Acta Ophthalmologica Scandinavica",
          "World/United States/Acta Ophthalmologica Scandinavica",
          "World/Belgium/Acta clinica Belgica",
          "World/United States/Advances in Ophthalmology and Optometry",
          "World/United States/Advances in experimental medicine and biology",
          "World/Niger/African Journal of Medicine and Medical Sciences",
          "World/Nigeria/African Journal of Medicine and Medical Sciences",
          "World/Niger/African journal of medicine and medical sciences",
          "World/Nigeria/African journal of medicine and medical sciences",
          "World/India/Albert and Jakobiec's Principles and Practice of Ophthalmology: Fourth Edition",
          "World/Japan/Albert and Jakobiec's Principles and Practice of Ophthalmology: Fourth Edition",
          "World/United States/Albert and Jakobiec's Principles and Practice of Ophthalmology: Fourth Edition",
          "World/United States/Albrecht von Graefes Archiv für Klinische und Experimentelle Ophthalmologie",
          "World/United States/American Family Physician",
          "World/Mexico/American Journal of Emergency Medicine",
          "World/United States/American Journal of Emergency Medicine",
          "World/Curaçao/American Journal of Hematology",
          "World/France/American Journal of Hematology",
          "World/Guadeloupe/American Journal of Hematology",
          "World/Netherlands/American Journal of Hematology",
          "World/Turkey/American Journal of Hematology",
          "World/United States/American Journal of Hematology",
          "World/United States/American Journal of Medicine",
          "World/Brazil/American Journal of Ophthalmology",
          "World/Canada/American Journal of Ophthalmology",
          "World/France/American Journal of Ophthalmology",
          "World/Guadeloupe/American Journal of Ophthalmology",
          "World/Jamaica/American Journal of Ophthalmology",
          "World/United Kingdom/American Journal of Ophthalmology",
          "World/United States/American Journal of Ophthalmology",
          "World/Niger/American Journal of Ophthalmology Case Reports",
          "World/Nigeria/American Journal of Ophthalmology Case Reports",
          "World/United States/American Journal of Ophthalmology Case Reports",
          "World/Zimbabwe/American Journal of Ophthalmology Case Reports",
          "World/United States/American Journal of Pathology",
          "World/United States/American Journal of Veterinary Research",
          "World/Jamaica/Annales Nestle",
          "World/France/Annales de Medecine Interne",
          "World/Italy/Annali di Ottalmologia e Clinica Oculistica",
          "World/Niger/Annals of African Medicine",
          "World/Nigeria/Annals of African Medicine",
          "World/Germany/Annals of Hematology",
          "World/United States/Annals of Internal Medicine",
          "World/Saudi Arabia/Annals of Medicine and Surgery",
          "World/Greece/Annals of Ophthalmology",
          "World/Niger/Annals of Ophthalmology",
          "World/Nigeria/Annals of Ophthalmology",
          "World/United States/Annals of Ophthalmology",
          "World/Brazil/Annals of Tropical Paediatrics",
          "World/Jordan/Annals of Tropical Paediatrics",
          "World/United Kingdom/Annals of Tropical Paediatrics",
          "World/United States/Annals of Vascular Surgery",
          "World/Jersey/Annals of ophthalmology",
          "World/United States/Annals of ophthalmology",
          "World/United Kingdom/Annals of the New York Academy of Sciences",
          "World/United States/Annals of the New York Academy of Sciences",
          "World/United Kingdom/Annals of the Royal College of Surgeons of England",
          "World/United States/Annual Review of Medicine",
          "World/Georgia/Antioxidants and Redox Signaling",
          "World/United States/Antioxidants and Redox Signaling",
          "World/France/Archives d'Ophtalmologie et Revue Generale d'Ophtalmologie",
          "World/France/Archives of Cardiovascular Diseases",
          "World/United States/Archives of Internal Medicine",
          "World/United States/Archives of Neurology",
          "World/Brazil/Archives of Ophthalmology",
          "World/Jamaica/Archives of Ophthalmology",
          "World/Jersey/Archives of Ophthalmology",
          "World/United States/Archives of Ophthalmology",
          "World/Spain/Archivos de la Sociedad Espanola de Oftalmologia",
          "World/Brazil/Arquivos Brasileiros de Oftalmologia",
          "World/India/Asian Journal of Pharmaceutical and Clinical Research",
          "World/Morocco/BMC Ophthalmology",
          "World/Saudi Arabia/BMC Ophthalmology",
          "World/France/BMC Pulmonary Medicine",
          "World/France/BMJ",
          "World/France/BMJ (Online)",
          "World/United Kingdom/BMJ (Online)",
          "World/Niger/BMJ Case Reports",
          "World/Nigeria/BMJ Case Reports",
          "World/Portugal/BMJ Case Reports",
          "World/Singapore/BMJ Case Reports",
          "World/United Kingdom/BMJ Case Reports",
          "World/United States/BMJ Case Reports",
          "World/France/BMJ Open Ophthalmology",
          "World/Ghana/BMJ Open Ophthalmology",
          "World/Niger/BMJ Open Ophthalmology",
          "World/Nigeria/BMJ Open Ophthalmology",
          "World/Bahrain/Bahrain Medical Bulletin",
          "World/Singapore/Best Practice and Research: Clinical Obstetrics and Gynaecology",
          "World/United Kingdom/Best Practice and Research: Clinical Obstetrics and Gynaecology",
          "World/Brazil/Biology of Blood and Marrow Transplantation",
          "World/United Kingdom/Biology of Blood and Marrow Transplantation",
          "World/United States/Biology of Blood and Marrow Transplantation",
          "World/United States/Biomedical Optics Express",
          "World/Ghana/Biomedical Physics and Engineering Express",
          "World/United Kingdom/Biomedical Physics and Engineering Express",
          "World/India/Biomedical and Pharmacology Journal",
          "World/Lithuania/Biophysical Properties in Glaucoma: Diagnostic Technologies",
          "World/Brazil/Bioscience Reports",
          "World/China/Bioscience Reports",
          "World/Ireland/Birth Defects: Original Article Series",
          "World/United States/Birth Defects: Original Article Series",
          "World/Canada/Blood",
          "World/France/Blood",
          "World/United States/Blood",
          "World/Qatar/Blood Advances",
          "World/United States/Blood Advances",
          "World/Brazil/Blood Cells, Molecules, and Diseases",
          "World/Canada/Blood Cells, Molecules, and Diseases",
          "World/Curaçao/Blood Cells, Molecules, and Diseases",
          "World/Denmark/Blood Cells, Molecules, and Diseases",
          "World/France/Blood Cells, Molecules, and Diseases",
          "World/Netherlands/Blood Cells, Molecules, and Diseases",
          "World/United Kingdom/Blood Cells, Molecules, and Diseases",
          "World/United States/Blood Cells, Molecules, and Diseases",
          "World/Brazil/Blood Reviews",
          "World/France/Blood Reviews",
          "World/Guadeloupe/Blood Reviews",
          "World/Netherlands/Blood Reviews",
          "World/United States/Blood Reviews",
          "World/Brazil/Blood cells, molecules & diseases",
          "World/Brazil/Brazilian Journal of Medical and Biological Research",
          "World/Brazil/British Journal of Haematology",
          "World/Canada/British Journal of Haematology",
          "World/France/British Journal of Haematology",
          "World/Italy/British Journal of Haematology",
          "World/Jamaica/British Journal of Haematology",
          "World/Mali/British Journal of Haematology",
          "World/Senegal/British Journal of Haematology",
          "World/United Kingdom/British Journal of Haematology",
          "World/United States/British Journal of Haematology",
          "World/Canada/British Journal of Ophthalmology",
          "World/Denmark/British Journal of Ophthalmology",
          "World/France/British Journal of Ophthalmology",
          "World/Germany/British Journal of Ophthalmology",
          "World/Hong Kong/British Journal of Ophthalmology",
          "World/Ireland/British Journal of Ophthalmology",
          "World/Jamaica/British Journal of Ophthalmology",
          "World/Jersey/British Journal of Ophthalmology",
          "World/Kuwait/British Journal of Ophthalmology",
          "World/Saudi Arabia/British Journal of Ophthalmology",
          "World/Trinidad and Tobago/British Journal of Ophthalmology",
          "World/United Kingdom/British Journal of Ophthalmology",
          "World/United States/British Journal of Ophthalmology",
          "World/Belgium/Bulletin de la Société belge d'ophtalmologie",
          "World/United States/CONTINUUM Lifelong Learning in Neurology",
          "World/Canada/Canadian Journal of Ophthalmology",
          "World/Niger/Canadian Journal of Ophthalmology",
          "World/Nigeria/Canadian Journal of Ophthalmology",
          "World/United Kingdom/Canadian Journal of Ophthalmology",
          "World/United States/Canadian Journal of Ophthalmology",
          "World/Italy/Capsula Eburnea",
          "World/France/Case Reports in Ophthalmology",
          "World/Mexico/Case Reports in Ophthalmology",
          "World/United States/Case Reports in Ophthalmology",
          "World/France/Cells",
          "World/Netherlands/Cells",
          "World/United States/Cells",
          "World/United States/Cleveland Clinic Journal of Medicine",
          "World/Italy/Clinical Chemistry and Laboratory Medicine",
          "World/United States/Clinical Eye and Vision Care",
          "World/United Kingdom/Clinical Hemorheology",
          "World/Brazil/Clinical Hemorheology and Microcirculation",
          "World/France/Clinical Hemorheology and Microcirculation",
          "World/Guadeloupe/Clinical Hemorheology and Microcirculation",
          "World/Canada/Clinical Journal of Pain",
          "World/Jamaica/Clinical Journal of Pain",
          "World/United States/Clinical Journal of the American Society of Nephrology",
          "World/United Kingdom/Clinical Medicine",
          "World/Niger/Clinical Ophthalmology",
          "World/Nigeria/Clinical Ophthalmology",
          "World/United States/Clinical Ophthalmology",
          "World/Israel/Clinical Rheumatology",
          "World/United States/Clinical and Refractive Optometry",
          "World/United States/Clinical hemorheology and microcirculation",
          "World/United States/ClinicoEconomics and Outcomes Research",
          "World/Malaysia/Cochrane Database of Systematic Reviews",
          "World/United States/Consultant",
          "World/United States/Current Eye Research",
          "World/Jamaica/Current Opinion in Ophthalmology",
          "World/United States/Current Opinion in Ophthalmology",
          "World/Brazil/Cytokine",
          "World/United Kingdom/Cytokine",
          "World/United States/Cytokine",
          "World/Georgia/Data in Brief",
          "World/United States/Data in Brief",
          "World/Germany/Deutsche Medizinische Wochenschrift",
          "World/Italy/Diabetes",
          "World/United States/Diabetes",
          "World/France/Diabetes Care",
          "World/Senegal/Diabetes Care",
          "World/United States/Diabetes Spectrum",
          "World/Ireland/Documenta Ophthalmologica",
          "World/United States/Documenta Ophthalmologica",
          "World/New Zealand/Drugs",
          "World/United States/Drugs",
          "World/Spain/Drugs of the Future",
          "World/United States/Emergency Medicine Clinics of North America",
          "World/United States/Encyclopedia of the Eye",
          "World/United States/Encyclopedia of the Eye, Four-Volume Set",
          "World/France/European Journal of Haematology",
          "World/Guadeloupe/European Journal of Haematology",
          "World/Portugal/European Journal of Haematology",
          "World/United States/European Journal of Internal Medicine",
          "World/France/European Journal of Ophthalmology",
          "World/Germany/European Journal of Ophthalmology",
          "World/Ghana/European Journal of Ophthalmology",
          "World/Italy/European Journal of Ophthalmology",
          "World/Kenya/European Journal of Ophthalmology",
          "World/Niger/European Journal of Ophthalmology",
          "World/Nigeria/European Journal of Ophthalmology",
          "World/United Kingdom/European Journal of Ophthalmology",
          "World/United States/European Journal of Ophthalmology",
          "World/United States/Evidence-Based Ophthalmology",
          "World/United States/Experientia",
          "World/Brazil/Experimental Biology and Medicine",
          "World/Turkey/Experimental Biology and Medicine",
          "World/United States/Experimental Biology and Medicine",
          "World/Argentina/Experimental Eye Research",
          "World/United States/Experimental Eye Research",
          "World/Curaçao/Experimental Hematology",
          "World/Netherlands/Experimental Hematology",
          "World/France/Expert Review of Ophthalmology",
          "World/Italy/Expert Review of Ophthalmology",
          "World/Pakistan/Expert Review of Ophthalmology",
          "World/United Arab Emirates/Expert Review of Ophthalmology",
          "World/United Kingdom/Expert Review of Ophthalmology",
          "World/United States/Expert Review of Ophthalmology",
          "World/United Kingdom/Eye",
          "World/Ghana/Eye (Basingstoke)",
          "World/Jamaica/Eye (Basingstoke)",
          "World/Oman/Eye (Basingstoke)",
          "World/United Kingdom/Eye (Basingstoke)",
          "World/United States/Eye (Basingstoke)",
          "World/United States/Eye (London, England)",
          "World/France/Frontiers in Cardiovascular Medicine",
          "World/Ghana/Frontiers in Genetics",
          "World/Niger/Frontiers in Genetics",
          "World/Nigeria/Frontiers in Genetics",
          "World/South Africa/Frontiers in Genetics",
          "World/United Kingdom/Frontiers in Genetics",
          "World/Brazil/Frontiers in Immunology",
          "World/France/Frontiers in Immunology",
          "World/Italy/Frontiers in Immunology",
          "World/Monaco/Frontiers in Immunology",
          "World/Senegal/Frontiers in Immunology",
          "World/Germany/Frontiers in Medicine",
          "World/Malaysia/Frontiers in Medicine",
          "World/Pakistan/Frontiers in Medicine",
          "World/South Korea/Frontiers in Medicine",
          "World/United States/Frontiers in Physiology",
          "World/Brazil/Future Medicinal Chemistry",
          "World/Mexico/Gaceta Medica de Mexico",
          "World/Poland/Genes",
          "World/South Korea/Genes",
          "World/United States/Genomics Insights",
          "World/France/Graefe's Archive for Clinical and Experimental Ophthalmology",
          "World/Italy/Graefe's Archive for Clinical and Experimental Ophthalmology",
          "World/Netherlands/Graefe's Archive for Clinical and Experimental Ophthalmology",
          "World/Saudi Arabia/Graefe's Archive for Clinical and Experimental Ophthalmology",
          "World/Sweden/Graefe's Archive for Clinical and Experimental Ophthalmology",
          "World/Tunisia/Graefe's Archive for Clinical and Experimental Ophthalmology",
          "World/United Arab Emirates/Graefe's Archive for Clinical and Experimental Ophthalmology",
          "World/United States/Graefe's Archive for Clinical and Experimental Ophthalmology",
          "World/Brazil/Haematologica",
          "World/France/Haematologica",
          "World/Guadeloupe/Haematologica",
          "World/India/Haematologica",
          "World/Portugal/Haematologica",
          "World/United Kingdom/Haematologica",
          "World/United States/Haematologica",
          "World/United States/Handbook of Pediatric Retinal OCT and the Eye-Brain Connection",
          "World/United States/Hematology (United Kingdom)",
          "World/United States/Hematology (United States)",
          "World/United Kingdom/Hematology Journal",
          "World/Israel/Hematology/Oncology Clinics of North America",
          "World/United States/Hematology/Oncology Clinics of North America",
          "World/Niger/Hemoglobin",
          "World/Nigeria/Hemoglobin",
          "World/United Kingdom/Hemoglobin",
          "World/United States/Hemoglobin",
          "World/United States/High Altitude Medicine and Biology",
          "World/United States/Hospital Practice",
          "World/Egypt/Indian Journal of Hematology and Blood Transfusion",
          "World/India/Indian Journal of Medical Research",
          "World/India/Indian Journal of Ophthalmology",
          "World/India/Indian journal of ophthalmology",
          "World/Jordan/Indian journal of ophthalmology",
          "World/Japan/Internal Medicine",
          "World/China/International Eye Science",
          "World/Japan/International Eye Science",
          "World/United States/International Journal of Behavioral Medicine",
          "World/Egypt/International Journal of Clinical Practice",
          "World/Niger/International Journal of Clinical Practice",
          "World/Nigeria/International Journal of Clinical Practice",
          "World/Saudi Arabia/International Journal of Clinical Practice",
          "World/United States/International Journal of Clinical Practice",
          "World/United States/International Journal of Environmental Research and Public Health",
          "World/French Guiana/International Journal of Hematology",
          "World/Canada/International Journal of Lower Extremity Wounds",
          "World/United States/International Journal of Lower Extremity Wounds",
          "World/India/International Journal of Research in Pharmaceutical Sciences",
          "World/Egypt/International Journal of Retina and Vitreous",
          "World/Jordan/International Journal of Retina and Vitreous",
          "World/Kuwait/International Journal of Retina and Vitreous",
          "World/Qatar/International Journal of Retina and Vitreous",
          "World/United States/International Journal of Retina and Vitreous",
          "World/Italy/International Ophthalmology",
          "World/Netherlands/International Ophthalmology",
          "World/United States/International Ophthalmology",
          "World/United States/International Ophthalmology Clinics",
          "World/France/International Wound Journal",
          "World/France/Investigative Ophthalmology and Visual Science",
          "World/Japan/Investigative Ophthalmology and Visual Science",
          "World/Netherlands/Investigative Ophthalmology and Visual Science",
          "World/United States/Investigative Ophthalmology and Visual Science",
          "World/Georgia/Investigative ophthalmology & visual science",
          "World/United States/Investigative ophthalmology & visual science",
          "World/Italy/Italian Journal of Pediatrics",
          "World/United States/JAMA",
          "World/United States/JAMA - Journal of the American Medical Association",
          "World/Brazil/JAMA Ophthalmology",
          "World/United States/JAMA Ophthalmology",
          "World/United States/JAMA: The Journal of the American Medical Association",
          "World/India/JK Practitioner",
          "World/Japan/Japanese Journal of Clinical Ophthalmology",
          "World/Brazil/Jornal de Pediatria",
          "World/\"Cote dIvoire\"/Journal Francais d'Ophtalmologie",
          "World/Benin/Journal Francais d'Ophtalmologie",
          "World/Burkina Faso/Journal Francais d'Ophtalmologie",
          "World/Cameroon/Journal Francais d'Ophtalmologie",
          "World/France/Journal Francais d'Ophtalmologie",
          "World/Italy/Journal Francais d'Ophtalmologie",
          "World/Morocco/Journal Francais d'Ophtalmologie",
          "World/South Africa/Journal Francais d'Ophtalmologie",
          "World/Togo/Journal Francais d'Ophtalmologie",
          "World/Tunisia/Journal Francais d'Ophtalmologie",
          "World/Brazil/Journal of AAPOS",
          "World/United States/Journal of AAPOS",
          "World/Pakistan/Journal of Ayub Medical College, Abbottabad : JAMC",
          "World/Mexico/Journal of Biomedicine and Biotechnology",
          "World/United States/Journal of Biomedicine and Biotechnology",
          "World/China/Journal of Clinical Investigation",
          "World/United States/Journal of Clinical Investigation",
          "World/France/Journal of Clinical Medicine",
          "World/United States/Journal of Clinical Medicine",
          "World/Egypt/Journal of Clinical and Diagnostic Research",
          "World/India/Journal of Clinical and Diagnostic Research",
          "World/Niger/Journal of Clinical and Diagnostic Research",
          "World/Nigeria/Journal of Clinical and Diagnostic Research",
          "World/Qatar/Journal of Clinical and Diagnostic Research",
          "World/Turkey/Journal of Current Ophthalmology",
          "World/Brazil/Journal of Diabetes and its Complications",
          "World/Jordan/Journal of International Medical Research",
          "World/United States/Journal of Leukocyte Biology",
          "World/Canada/Journal of Medical Economics",
          "World/India/Journal of Medical Economics",
          "World/United States/Journal of Medical Economics",
          "World/Italy/Journal of Medical Investigation",
          "World/France/Journal of Multidisciplinary Healthcare",
          "World/Pakistan/Journal of Multidisciplinary Healthcare",
          "World/United States/Journal of Multidisciplinary Healthcare",
          "World/United Kingdom/Journal of Neurology",
          "World/Brazil/Journal of Obstetrics and Gynaecology",
          "World/Niger/Journal of Ocular Therapy and Surgery",
          "World/Nigeria/Journal of Ocular Therapy and Surgery",
          "World/United States/Journal of Ophthalmic and Vision Research",
          "World/Canada/Journal of Pediatric Hematology/Oncology",
          "World/Egypt/Journal of Pediatric Hematology/Oncology",
          "World/Jamaica/Journal of Pediatric Hematology/Oncology",
          "World/Turkey/Journal of Pediatric Hematology/Oncology",
          "World/United States/Journal of Pediatric Hematology/Oncology",
          "World/Jersey/Journal of Pediatric Ophthalmology and Strabismus",
          "World/United States/Journal of Pediatric Ophthalmology and Strabismus",
          "World/United States/Journal of Stroke and Cerebrovascular Diseases",
          "World/United States/Journal of Thrombosis and Haemostasis",
          "World/United States/Journal of VitreoRetinal Diseases",
          "World/United States/Journal of Women's Health",
          "World/United States/Journal of pediatric ophthalmology and strabismus",
          "World/United States/Journal of the American Optometric Association",
          "World/United States/Journal of the American Osteopathic Association",
          "World/Georgia/Journal of the National Medical Association",
          "World/United States/Journal of the National Medical Association",
          "World/France/Klinische Monatsblatter fur Augenheilkunde",
          "World/Germany/Klinische Monatsblatter fur Augenheilkunde",
          "World/Switzerland/Klinische Monatsblatter fur Augenheilkunde",
          "World/United States/Lab on a Chip",
          "World/United Kingdom/Lancet",
          "World/Brazil/Lasers in Medical Science",
          "World/United States/Life",
          "World/United Kingdom/METABOL.OPHTHALMOL.",
          "World/United States/Maryland State Medical Journal",
          "World/United States/Mayo Clinic Proceedings",
          "World/Mali/Medecine Tropicale",
          "World/Togo/Medecine Tropicale",
          "World/\"Cote dIvoire\"/Medecine d'Afrique Noire",
          "World/Jersey/Medical Clinics of North America",
          "World/United States/Medical Clinics of North America",
          "World/United States/Medical Engineering and Physics",
          "World/United States/Medical Hypotheses",
          "World/Italy/Medical Retina",
          "World/France/Medicine",
          "World/United States/Medicine",
          "World/Egypt/Medicine (United States)",
          "World/Italy/Mediterranean Journal of Hematology and Infectious Diseases",
          "World/United States/Mediterranean Journal of Hematology and Infectious Diseases",
          "World/United Kingdom/Metabolic, pediatric, and systemic ophthalmology (New York, N.Y. : 1985)",
          "World/United States/Microcirculation",
          "World/United States/Microvascular Research",
          "World/Saudi Arabia/Middle East African Journal of Ophthalmology",
          "World/United States/Middle East African Journal of Ophthalmology",
          "World/United States/Mount Sinai Journal of Medicine",
          "World/United States/Nanotoxicology: Characterization, Dosing and Health Effects",
          "World/Netherlands/Nederlands Tijdschrift voor Geneeskunde",
          "World/United States/Neurology",
          "World/Zambia/Neurology",
          "World/Saudi Arabia/Neurosciences",
          "World/Belgium/New England Journal of Medicine",
          "World/United States/New England Journal of Medicine",
          "World/Niger/Nigerian Journal of Clinical Practice",
          "World/Nigeria/Nigerian Journal of Clinical Practice",
          "World/Nigeria/Nigerian medical journal : journal of the Nigeria Medical Association",
          "World/Nigeria/Nigerian quarterly journal of hospital medicine",
          "World/Greece/Nitric Oxide - Biology and Chemistry",
          "World/United Kingdom/Obstetrics, Gynaecology and Reproductive Medicine",
          "World/Belgium/Ocular Immunology and Inflammation",
          "World/France/Ocular Immunology and Inflammation",
          "World/United States/Ocular Oncology and Pathology",
          "World/Russian Federation/Oftalmologiya",
          "World/Niger/Open Ophthalmology Journal",
          "World/Nigeria/Open Ophthalmology Journal",
          "World/Jordan/Ophthalmic Epidemiology",
          "World/Qatar/Ophthalmic Epidemiology",
          "World/United States/Ophthalmic Surgery",
          "World/Malaysia/Ophthalmic Surgery Lasers and Imaging Retina",
          "World/United Kingdom/Ophthalmic Surgery Lasers and Imaging Retina",
          "World/United States/Ophthalmic Surgery Lasers and Imaging Retina",
          "World/Germany/Ophthalmologe",
          "World/Kenya/Ophthalmologe",
          "World/Brazil/Ophthalmologica",
          "World/Malaysia/Ophthalmologica",
          "World/United Kingdom/Ophthalmologica",
          "World/United States/Ophthalmologica",
          "World/Germany/Ophthalmology",
          "World/Jamaica/Ophthalmology",
          "World/United Kingdom/Ophthalmology",
          "World/United States/Ophthalmology",
          "World/France/Ophthalmology Retina",
          "World/Germany/Ophthalmology Retina",
          "World/United Kingdom/Ophthalmology Retina",
          "World/United States/Ophthalmology Retina",
          "World/United Kingdom/Ophthalmology and Therapy",
          "World/United States/Optometry",
          "World/United States/Optometry and Vision Science",
          "World/Italy/PLoS ONE",
          "World/Saudi Arabia/PLoS ONE",
          "World/Sweden/PLoS ONE",
          "World/Uganda/PLoS ONE",
          "World/United States/PLoS ONE",
          "World/Burkina Faso/Pan African Medical Journal",
          "World/Ghana/Pan African Medical Journal",
          "World/Jamaica/Pan African Medical Journal",
          "World/Morocco/Pan African Medical Journal",
          "World/United Kingdom/Pan African Medical Journal",
          "World/Mexico/Pathobiology of Human Disease: A Dynamic Encyclopedia of Disease Mechanisms",
          "World/United States/Pathobiology of Human Disease: A Dynamic Encyclopedia of Disease Mechanisms",
          "World/China/Pathology Research and Practice",
          "World/Iran/Pathology Research and Practice",
          "World/United States/Pathology Research and Practice",
          "World/France/Pattern Recognition Letters",
          "World/Georgia/Pediatric Annals",
          "World/United States/Pediatric Annals",
          "World/Italy/Pediatric Blood and Cancer",
          "World/Spain/Pediatric Blood and Cancer",
          "World/United States/Pediatric Blood and Cancer",
          "World/United States/Pediatric Clinics of North America",
          "World/United States/Pediatrics",
          "World/United States/Pediatrics in Review",
          "World/Australia/Pharmaceuticals",
          "World/Switzerland/Pharmaceuticals",
          "World/Australia/Pharmacological Reviews",
          "World/Denmark/Pharmacological Reviews",
          "World/Germany/Pharmacological Reviews",
          "World/Netherlands/Pharmacological Reviews",
          "World/South Africa/Pharmacological Reviews",
          "World/Sweden/Pharmacological Reviews",
          "World/United States/Pharmacological Reviews",
          "World/United States/Pharmacotherapy",
          "World/United States/Population Health Management",
          "World/United States/Proceedings of the National Academy of Sciences of the United States of America",
          "World/Georgia/Progress in Retinal and Eye Research",
          "World/United States/Progress in Retinal and Eye Research",
          "World/Germany/Proteomics - Clinical Applications",
          "World/United Kingdom/QJM",
          "World/Pakistan/Rawal Medical Journal",
          "World/United Kingdom/Reactive Oxygen Species in Biology and Human Health",
          "World/Brazil/Retina",
          "World/Egypt/Retina",
          "World/Greece/Retina",
          "World/Switzerland/Retina",
          "World/United States/Retina",
          "World/United States/Retina (Philadelphia, Pa.)",
          "World/Portugal/Retina Today",
          "World/United States/Retina Today",
          "World/United States/Retinal Cases and Brief Reports",
          "World/Germany/Retinal Vascular Disease",
          "World/Netherlands/Retinal Vascular Disease",
          "World/United Kingdom/Retinal Vascular Disease",
          "World/United States/Retinal Vascular Disease",
          "World/United States/Retinal cases & brief reports",
          "World/Brazil/Revista Brasileira de Hematologia e Hemoterapia",
          "World/Brazil/Revista Brasileira de Oftalmologia",
          "World/Cuba/Revista Cubana de Hematologia, Inmunologia y Hemoterapia",
          "World/Brazil/Revista da Associacao Medica Brasileira",
          "World/France/Revue d'Oto-Neuro-Ophthalmologie",
          "World/France/Revue de Chirurgie Orthopedique et Reparatrice de l'Appareil Moteur",
          "World/France/Revue de Medecine Interne",
          "World/Mali/Revue de Medecine Interne",
          "World/France/Revue du Praticien",
          "World/United Kingdom/Scandinavian Journal of Clinical and Laboratory Investigation",
          "World/France/Scientific Reports",
          "World/France/Seminars in Arthritis and Rheumatism",
          "World/Martinique/Seminars in Arthritis and Rheumatism",
          "World/United States/Seminars in Hematology",
          "World/United States/Seminars in Nephrology",
          "World/India/Seminars in Ophthalmology",
          "World/United States/Seminars in Ophthalmology",
          "World/South Africa/Seminars in Thrombosis and Hemostasis",
          "World/Brazil/Sickle Cell Anemia: From Basic Science to Clinical Practice",
          "World/Lebanon/Sickle Cell Anemia: From Basic Science to Clinical Practice",
          "World/South Africa/South African Medical Journal",
          "World/United States/Southern Medical Journal",
          "World/France/Stem Cell Reviews and Reports",
          "World/United Kingdom/Stem Cells Translational Medicine",
          "World/Egypt/Survey of Ophthalmology",
          "World/United Kingdom/Survey of Ophthalmology",
          "World/United States/Survey of Ophthalmology",
          "World/India/Taiwan Journal of Ophthalmology",
          "World/United Kingdom/The Curated Reference Collection in Neuroscience and Biobehavioral Psychology",
          "World/United States/The Curated Reference Collection in Neuroscience and Biobehavioral Psychology",
          "World/France/The Lancet",
          "World/Niger/The Nigerian postgraduate medical journal",
          "World/Nigeria/The Nigerian postgraduate medical journal",
          "World/United States/Therapeutic Advances in Ophthalmology",
          "World/India/Thrombosis Research",
          "World/Norway/Thrombosis Research",
          "World/United States/Thrombosis Research",
          "World/United States/Transactions of the American Academy of Ophthalmology and Otolaryngology",
          "World/United States/Transactions of the American Ophthalmological Society",
          "World/Ireland/Transactions of the Ophthalmological Societies of the United Kingdom",
          "World/Jamaica/Transactions of the Ophthalmological Societies of the United Kingdom",
          "World/United Kingdom/Transactions of the Ophthalmological Societies of the United Kingdom",
          "World/United States/Transactions of the Ophthalmological Societies of the United Kingdom",
          "World/Egypt/Transactions of the Royal Society of Tropical Medicine and Hygiene",
          "World/Canada/Transfusion",
          "World/India/Transfusion Clinique et Biologique",
          "World/Turkey/Translational Vision Science and Technology",
          "World/United States/Translational Vision Science and Technology",
          "World/Kenya/Tropical Doctor",
          "World/Tunisia/Tunisie Medicale",
          "World/Turkey/Turkish Journal of Ophthalmology",
          "World/Turkey/Turkish Journal of Pediatrics",
          "World/Niger/Ultrasonography",
          "World/Nigeria/Ultrasonography",
          "World/United States/Undersea and Hyperbaric Medicine",
          "World/United States/Vision Research",
          "World/Niger/West African Journal of Medicine",
          "World/Nigeria/West African Journal of Medicine",
          "World/Niger/West African journal of medicine",
          "World/Nigeria/West African journal of medicine",
          "World/Jamaica/West Indian Medical Journal",
          "World/Malawi/eLife",
          "World/United Kingdom/eLife",
          "World/United States/eLife",
          "World/\"Cote dIvoire\"",
          "World/Argentina",
          "World/Australia",
          "World/Bahrain",
          "World/Belgium",
          "World/Benin",
          "World/Brazil",
          "World/Burkina Faso",
          "World/Cameroon",
          "World/Canada",
          "World/China",
          "World/Cuba",
          "World/Curaçao",
          "World/Denmark",
          "World/Egypt",
          "World/France",
          "World/French Guiana",
          "World/Georgia",
          "World/Germany",
          "World/Ghana",
          "World/Greece",
          "World/Guadeloupe",
          "World/Hong Kong",
          "World/India",
          "World/Iran",
          "World/Ireland",
          "World/Israel",
          "World/Italy",
          "World/Jamaica",
          "World/Japan",
          "World/Jersey",
          "World/Jordan",
          "World/Kenya",
          "World/Kuwait",
          "World/Lebanon",
          "World/Lithuania",
          "World/Malawi",
          "World/Malaysia",
          "World/Mali",
          "World/Martinique",
          "World/Mexico",
          "World/Monaco",
          "World/Morocco",
          "World/Netherlands",
          "World/New Zealand",
          "World/Niger",
          "World/Nigeria",
          "World/Norway",
          "World/Oman",
          "World/Pakistan",
          "World/Poland",
          "World/Portugal",
          "World/Qatar",
          "World/Russian Federation",
          "World/Saudi Arabia",
          "World/Senegal",
          "World/Singapore",
          "World/South Africa",
          "World/South Korea",
          "World/Spain",
          "World/Sweden",
          "World/Switzerland",
          "World/Togo",
          "World/Trinidad and Tobago",
          "World/Tunisia",
          "World/Turkey",
          "World/Uganda",
          "World/United Arab Emirates",
          "World/United Kingdom",
          "World/United States",
          "World/Zambia",
          "World/Zimbabwe",
          "World"
         ],
         "labels": [
          "A Practical Manual of Diabetic Retinopathy Management",
          "ASN Neuro",
          "Acta Haematologica",
          "Acta Haematologica",
          "Acta Haematologica",
          "Acta Haematologica",
          "Acta Ophthalmologica",
          "Acta Ophthalmologica Scandinavica",
          "Acta Ophthalmologica Scandinavica",
          "Acta Ophthalmologica Scandinavica",
          "Acta clinica Belgica",
          "Advances in Ophthalmology and Optometry",
          "Advances in experimental medicine and biology",
          "African Journal of Medicine and Medical Sciences",
          "African Journal of Medicine and Medical Sciences",
          "African journal of medicine and medical sciences",
          "African journal of medicine and medical sciences",
          "Albert and Jakobiec's Principles and Practice of Ophthalmology: Fourth Edition",
          "Albert and Jakobiec's Principles and Practice of Ophthalmology: Fourth Edition",
          "Albert and Jakobiec's Principles and Practice of Ophthalmology: Fourth Edition",
          "Albrecht von Graefes Archiv für Klinische und Experimentelle Ophthalmologie",
          "American Family Physician",
          "American Journal of Emergency Medicine",
          "American Journal of Emergency Medicine",
          "American Journal of Hematology",
          "American Journal of Hematology",
          "American Journal of Hematology",
          "American Journal of Hematology",
          "American Journal of Hematology",
          "American Journal of Hematology",
          "American Journal of Medicine",
          "American Journal of Ophthalmology",
          "American Journal of Ophthalmology",
          "American Journal of Ophthalmology",
          "American Journal of Ophthalmology",
          "American Journal of Ophthalmology",
          "American Journal of Ophthalmology",
          "American Journal of Ophthalmology",
          "American Journal of Ophthalmology Case Reports",
          "American Journal of Ophthalmology Case Reports",
          "American Journal of Ophthalmology Case Reports",
          "American Journal of Ophthalmology Case Reports",
          "American Journal of Pathology",
          "American Journal of Veterinary Research",
          "Annales Nestle",
          "Annales de Medecine Interne",
          "Annali di Ottalmologia e Clinica Oculistica",
          "Annals of African Medicine",
          "Annals of African Medicine",
          "Annals of Hematology",
          "Annals of Internal Medicine",
          "Annals of Medicine and Surgery",
          "Annals of Ophthalmology",
          "Annals of Ophthalmology",
          "Annals of Ophthalmology",
          "Annals of Ophthalmology",
          "Annals of Tropical Paediatrics",
          "Annals of Tropical Paediatrics",
          "Annals of Tropical Paediatrics",
          "Annals of Vascular Surgery",
          "Annals of ophthalmology",
          "Annals of ophthalmology",
          "Annals of the New York Academy of Sciences",
          "Annals of the New York Academy of Sciences",
          "Annals of the Royal College of Surgeons of England",
          "Annual Review of Medicine",
          "Antioxidants and Redox Signaling",
          "Antioxidants and Redox Signaling",
          "Archives d'Ophtalmologie et Revue Generale d'Ophtalmologie",
          "Archives of Cardiovascular Diseases",
          "Archives of Internal Medicine",
          "Archives of Neurology",
          "Archives of Ophthalmology",
          "Archives of Ophthalmology",
          "Archives of Ophthalmology",
          "Archives of Ophthalmology",
          "Archivos de la Sociedad Espanola de Oftalmologia",
          "Arquivos Brasileiros de Oftalmologia",
          "Asian Journal of Pharmaceutical and Clinical Research",
          "BMC Ophthalmology",
          "BMC Ophthalmology",
          "BMC Pulmonary Medicine",
          "BMJ",
          "BMJ (Online)",
          "BMJ (Online)",
          "BMJ Case Reports",
          "BMJ Case Reports",
          "BMJ Case Reports",
          "BMJ Case Reports",
          "BMJ Case Reports",
          "BMJ Case Reports",
          "BMJ Open Ophthalmology",
          "BMJ Open Ophthalmology",
          "BMJ Open Ophthalmology",
          "BMJ Open Ophthalmology",
          "Bahrain Medical Bulletin",
          "Best Practice and Research: Clinical Obstetrics and Gynaecology",
          "Best Practice and Research: Clinical Obstetrics and Gynaecology",
          "Biology of Blood and Marrow Transplantation",
          "Biology of Blood and Marrow Transplantation",
          "Biology of Blood and Marrow Transplantation",
          "Biomedical Optics Express",
          "Biomedical Physics and Engineering Express",
          "Biomedical Physics and Engineering Express",
          "Biomedical and Pharmacology Journal",
          "Biophysical Properties in Glaucoma: Diagnostic Technologies",
          "Bioscience Reports",
          "Bioscience Reports",
          "Birth Defects: Original Article Series",
          "Birth Defects: Original Article Series",
          "Blood",
          "Blood",
          "Blood",
          "Blood Advances",
          "Blood Advances",
          "Blood Cells, Molecules, and Diseases",
          "Blood Cells, Molecules, and Diseases",
          "Blood Cells, Molecules, and Diseases",
          "Blood Cells, Molecules, and Diseases",
          "Blood Cells, Molecules, and Diseases",
          "Blood Cells, Molecules, and Diseases",
          "Blood Cells, Molecules, and Diseases",
          "Blood Cells, Molecules, and Diseases",
          "Blood Reviews",
          "Blood Reviews",
          "Blood Reviews",
          "Blood Reviews",
          "Blood Reviews",
          "Blood cells, molecules & diseases",
          "Brazilian Journal of Medical and Biological Research",
          "British Journal of Haematology",
          "British Journal of Haematology",
          "British Journal of Haematology",
          "British Journal of Haematology",
          "British Journal of Haematology",
          "British Journal of Haematology",
          "British Journal of Haematology",
          "British Journal of Haematology",
          "British Journal of Haematology",
          "British Journal of Ophthalmology",
          "British Journal of Ophthalmology",
          "British Journal of Ophthalmology",
          "British Journal of Ophthalmology",
          "British Journal of Ophthalmology",
          "British Journal of Ophthalmology",
          "British Journal of Ophthalmology",
          "British Journal of Ophthalmology",
          "British Journal of Ophthalmology",
          "British Journal of Ophthalmology",
          "British Journal of Ophthalmology",
          "British Journal of Ophthalmology",
          "British Journal of Ophthalmology",
          "Bulletin de la Société belge d'ophtalmologie",
          "CONTINUUM Lifelong Learning in Neurology",
          "Canadian Journal of Ophthalmology",
          "Canadian Journal of Ophthalmology",
          "Canadian Journal of Ophthalmology",
          "Canadian Journal of Ophthalmology",
          "Canadian Journal of Ophthalmology",
          "Capsula Eburnea",
          "Case Reports in Ophthalmology",
          "Case Reports in Ophthalmology",
          "Case Reports in Ophthalmology",
          "Cells",
          "Cells",
          "Cells",
          "Cleveland Clinic Journal of Medicine",
          "Clinical Chemistry and Laboratory Medicine",
          "Clinical Eye and Vision Care",
          "Clinical Hemorheology",
          "Clinical Hemorheology and Microcirculation",
          "Clinical Hemorheology and Microcirculation",
          "Clinical Hemorheology and Microcirculation",
          "Clinical Journal of Pain",
          "Clinical Journal of Pain",
          "Clinical Journal of the American Society of Nephrology",
          "Clinical Medicine",
          "Clinical Ophthalmology",
          "Clinical Ophthalmology",
          "Clinical Ophthalmology",
          "Clinical Rheumatology",
          "Clinical and Refractive Optometry",
          "Clinical hemorheology and microcirculation",
          "ClinicoEconomics and Outcomes Research",
          "Cochrane Database of Systematic Reviews",
          "Consultant",
          "Current Eye Research",
          "Current Opinion in Ophthalmology",
          "Current Opinion in Ophthalmology",
          "Cytokine",
          "Cytokine",
          "Cytokine",
          "Data in Brief",
          "Data in Brief",
          "Deutsche Medizinische Wochenschrift",
          "Diabetes",
          "Diabetes",
          "Diabetes Care",
          "Diabetes Care",
          "Diabetes Spectrum",
          "Documenta Ophthalmologica",
          "Documenta Ophthalmologica",
          "Drugs",
          "Drugs",
          "Drugs of the Future",
          "Emergency Medicine Clinics of North America",
          "Encyclopedia of the Eye",
          "Encyclopedia of the Eye, Four-Volume Set",
          "European Journal of Haematology",
          "European Journal of Haematology",
          "European Journal of Haematology",
          "European Journal of Internal Medicine",
          "European Journal of Ophthalmology",
          "European Journal of Ophthalmology",
          "European Journal of Ophthalmology",
          "European Journal of Ophthalmology",
          "European Journal of Ophthalmology",
          "European Journal of Ophthalmology",
          "European Journal of Ophthalmology",
          "European Journal of Ophthalmology",
          "European Journal of Ophthalmology",
          "Evidence-Based Ophthalmology",
          "Experientia",
          "Experimental Biology and Medicine",
          "Experimental Biology and Medicine",
          "Experimental Biology and Medicine",
          "Experimental Eye Research",
          "Experimental Eye Research",
          "Experimental Hematology",
          "Experimental Hematology",
          "Expert Review of Ophthalmology",
          "Expert Review of Ophthalmology",
          "Expert Review of Ophthalmology",
          "Expert Review of Ophthalmology",
          "Expert Review of Ophthalmology",
          "Expert Review of Ophthalmology",
          "Eye",
          "Eye (Basingstoke)",
          "Eye (Basingstoke)",
          "Eye (Basingstoke)",
          "Eye (Basingstoke)",
          "Eye (Basingstoke)",
          "Eye (London, England)",
          "Frontiers in Cardiovascular Medicine",
          "Frontiers in Genetics",
          "Frontiers in Genetics",
          "Frontiers in Genetics",
          "Frontiers in Genetics",
          "Frontiers in Genetics",
          "Frontiers in Immunology",
          "Frontiers in Immunology",
          "Frontiers in Immunology",
          "Frontiers in Immunology",
          "Frontiers in Immunology",
          "Frontiers in Medicine",
          "Frontiers in Medicine",
          "Frontiers in Medicine",
          "Frontiers in Medicine",
          "Frontiers in Physiology",
          "Future Medicinal Chemistry",
          "Gaceta Medica de Mexico",
          "Genes",
          "Genes",
          "Genomics Insights",
          "Graefe's Archive for Clinical and Experimental Ophthalmology",
          "Graefe's Archive for Clinical and Experimental Ophthalmology",
          "Graefe's Archive for Clinical and Experimental Ophthalmology",
          "Graefe's Archive for Clinical and Experimental Ophthalmology",
          "Graefe's Archive for Clinical and Experimental Ophthalmology",
          "Graefe's Archive for Clinical and Experimental Ophthalmology",
          "Graefe's Archive for Clinical and Experimental Ophthalmology",
          "Graefe's Archive for Clinical and Experimental Ophthalmology",
          "Haematologica",
          "Haematologica",
          "Haematologica",
          "Haematologica",
          "Haematologica",
          "Haematologica",
          "Haematologica",
          "Handbook of Pediatric Retinal OCT and the Eye-Brain Connection",
          "Hematology (United Kingdom)",
          "Hematology (United States)",
          "Hematology Journal",
          "Hematology/Oncology Clinics of North America",
          "Hematology/Oncology Clinics of North America",
          "Hemoglobin",
          "Hemoglobin",
          "Hemoglobin",
          "Hemoglobin",
          "High Altitude Medicine and Biology",
          "Hospital Practice",
          "Indian Journal of Hematology and Blood Transfusion",
          "Indian Journal of Medical Research",
          "Indian Journal of Ophthalmology",
          "Indian journal of ophthalmology",
          "Indian journal of ophthalmology",
          "Internal Medicine",
          "International Eye Science",
          "International Eye Science",
          "International Journal of Behavioral Medicine",
          "International Journal of Clinical Practice",
          "International Journal of Clinical Practice",
          "International Journal of Clinical Practice",
          "International Journal of Clinical Practice",
          "International Journal of Clinical Practice",
          "International Journal of Environmental Research and Public Health",
          "International Journal of Hematology",
          "International Journal of Lower Extremity Wounds",
          "International Journal of Lower Extremity Wounds",
          "International Journal of Research in Pharmaceutical Sciences",
          "International Journal of Retina and Vitreous",
          "International Journal of Retina and Vitreous",
          "International Journal of Retina and Vitreous",
          "International Journal of Retina and Vitreous",
          "International Journal of Retina and Vitreous",
          "International Ophthalmology",
          "International Ophthalmology",
          "International Ophthalmology",
          "International Ophthalmology Clinics",
          "International Wound Journal",
          "Investigative Ophthalmology and Visual Science",
          "Investigative Ophthalmology and Visual Science",
          "Investigative Ophthalmology and Visual Science",
          "Investigative Ophthalmology and Visual Science",
          "Investigative ophthalmology & visual science",
          "Investigative ophthalmology & visual science",
          "Italian Journal of Pediatrics",
          "JAMA",
          "JAMA - Journal of the American Medical Association",
          "JAMA Ophthalmology",
          "JAMA Ophthalmology",
          "JAMA: The Journal of the American Medical Association",
          "JK Practitioner",
          "Japanese Journal of Clinical Ophthalmology",
          "Jornal de Pediatria",
          "Journal Francais d'Ophtalmologie",
          "Journal Francais d'Ophtalmologie",
          "Journal Francais d'Ophtalmologie",
          "Journal Francais d'Ophtalmologie",
          "Journal Francais d'Ophtalmologie",
          "Journal Francais d'Ophtalmologie",
          "Journal Francais d'Ophtalmologie",
          "Journal Francais d'Ophtalmologie",
          "Journal Francais d'Ophtalmologie",
          "Journal Francais d'Ophtalmologie",
          "Journal of AAPOS",
          "Journal of AAPOS",
          "Journal of Ayub Medical College, Abbottabad : JAMC",
          "Journal of Biomedicine and Biotechnology",
          "Journal of Biomedicine and Biotechnology",
          "Journal of Clinical Investigation",
          "Journal of Clinical Investigation",
          "Journal of Clinical Medicine",
          "Journal of Clinical Medicine",
          "Journal of Clinical and Diagnostic Research",
          "Journal of Clinical and Diagnostic Research",
          "Journal of Clinical and Diagnostic Research",
          "Journal of Clinical and Diagnostic Research",
          "Journal of Clinical and Diagnostic Research",
          "Journal of Current Ophthalmology",
          "Journal of Diabetes and its Complications",
          "Journal of International Medical Research",
          "Journal of Leukocyte Biology",
          "Journal of Medical Economics",
          "Journal of Medical Economics",
          "Journal of Medical Economics",
          "Journal of Medical Investigation",
          "Journal of Multidisciplinary Healthcare",
          "Journal of Multidisciplinary Healthcare",
          "Journal of Multidisciplinary Healthcare",
          "Journal of Neurology",
          "Journal of Obstetrics and Gynaecology",
          "Journal of Ocular Therapy and Surgery",
          "Journal of Ocular Therapy and Surgery",
          "Journal of Ophthalmic and Vision Research",
          "Journal of Pediatric Hematology/Oncology",
          "Journal of Pediatric Hematology/Oncology",
          "Journal of Pediatric Hematology/Oncology",
          "Journal of Pediatric Hematology/Oncology",
          "Journal of Pediatric Hematology/Oncology",
          "Journal of Pediatric Ophthalmology and Strabismus",
          "Journal of Pediatric Ophthalmology and Strabismus",
          "Journal of Stroke and Cerebrovascular Diseases",
          "Journal of Thrombosis and Haemostasis",
          "Journal of VitreoRetinal Diseases",
          "Journal of Women's Health",
          "Journal of pediatric ophthalmology and strabismus",
          "Journal of the American Optometric Association",
          "Journal of the American Osteopathic Association",
          "Journal of the National Medical Association",
          "Journal of the National Medical Association",
          "Klinische Monatsblatter fur Augenheilkunde",
          "Klinische Monatsblatter fur Augenheilkunde",
          "Klinische Monatsblatter fur Augenheilkunde",
          "Lab on a Chip",
          "Lancet",
          "Lasers in Medical Science",
          "Life",
          "METABOL.OPHTHALMOL.",
          "Maryland State Medical Journal",
          "Mayo Clinic Proceedings",
          "Medecine Tropicale",
          "Medecine Tropicale",
          "Medecine d'Afrique Noire",
          "Medical Clinics of North America",
          "Medical Clinics of North America",
          "Medical Engineering and Physics",
          "Medical Hypotheses",
          "Medical Retina",
          "Medicine",
          "Medicine",
          "Medicine (United States)",
          "Mediterranean Journal of Hematology and Infectious Diseases",
          "Mediterranean Journal of Hematology and Infectious Diseases",
          "Metabolic, pediatric, and systemic ophthalmology (New York, N.Y. : 1985)",
          "Microcirculation",
          "Microvascular Research",
          "Middle East African Journal of Ophthalmology",
          "Middle East African Journal of Ophthalmology",
          "Mount Sinai Journal of Medicine",
          "Nanotoxicology: Characterization, Dosing and Health Effects",
          "Nederlands Tijdschrift voor Geneeskunde",
          "Neurology",
          "Neurology",
          "Neurosciences",
          "New England Journal of Medicine",
          "New England Journal of Medicine",
          "Nigerian Journal of Clinical Practice",
          "Nigerian Journal of Clinical Practice",
          "Nigerian medical journal : journal of the Nigeria Medical Association",
          "Nigerian quarterly journal of hospital medicine",
          "Nitric Oxide - Biology and Chemistry",
          "Obstetrics, Gynaecology and Reproductive Medicine",
          "Ocular Immunology and Inflammation",
          "Ocular Immunology and Inflammation",
          "Ocular Oncology and Pathology",
          "Oftalmologiya",
          "Open Ophthalmology Journal",
          "Open Ophthalmology Journal",
          "Ophthalmic Epidemiology",
          "Ophthalmic Epidemiology",
          "Ophthalmic Surgery",
          "Ophthalmic Surgery Lasers and Imaging Retina",
          "Ophthalmic Surgery Lasers and Imaging Retina",
          "Ophthalmic Surgery Lasers and Imaging Retina",
          "Ophthalmologe",
          "Ophthalmologe",
          "Ophthalmologica",
          "Ophthalmologica",
          "Ophthalmologica",
          "Ophthalmologica",
          "Ophthalmology",
          "Ophthalmology",
          "Ophthalmology",
          "Ophthalmology",
          "Ophthalmology Retina",
          "Ophthalmology Retina",
          "Ophthalmology Retina",
          "Ophthalmology Retina",
          "Ophthalmology and Therapy",
          "Optometry",
          "Optometry and Vision Science",
          "PLoS ONE",
          "PLoS ONE",
          "PLoS ONE",
          "PLoS ONE",
          "PLoS ONE",
          "Pan African Medical Journal",
          "Pan African Medical Journal",
          "Pan African Medical Journal",
          "Pan African Medical Journal",
          "Pan African Medical Journal",
          "Pathobiology of Human Disease: A Dynamic Encyclopedia of Disease Mechanisms",
          "Pathobiology of Human Disease: A Dynamic Encyclopedia of Disease Mechanisms",
          "Pathology Research and Practice",
          "Pathology Research and Practice",
          "Pathology Research and Practice",
          "Pattern Recognition Letters",
          "Pediatric Annals",
          "Pediatric Annals",
          "Pediatric Blood and Cancer",
          "Pediatric Blood and Cancer",
          "Pediatric Blood and Cancer",
          "Pediatric Clinics of North America",
          "Pediatrics",
          "Pediatrics in Review",
          "Pharmaceuticals",
          "Pharmaceuticals",
          "Pharmacological Reviews",
          "Pharmacological Reviews",
          "Pharmacological Reviews",
          "Pharmacological Reviews",
          "Pharmacological Reviews",
          "Pharmacological Reviews",
          "Pharmacological Reviews",
          "Pharmacotherapy",
          "Population Health Management",
          "Proceedings of the National Academy of Sciences of the United States of America",
          "Progress in Retinal and Eye Research",
          "Progress in Retinal and Eye Research",
          "Proteomics - Clinical Applications",
          "QJM",
          "Rawal Medical Journal",
          "Reactive Oxygen Species in Biology and Human Health",
          "Retina",
          "Retina",
          "Retina",
          "Retina",
          "Retina",
          "Retina (Philadelphia, Pa.)",
          "Retina Today",
          "Retina Today",
          "Retinal Cases and Brief Reports",
          "Retinal Vascular Disease",
          "Retinal Vascular Disease",
          "Retinal Vascular Disease",
          "Retinal Vascular Disease",
          "Retinal cases & brief reports",
          "Revista Brasileira de Hematologia e Hemoterapia",
          "Revista Brasileira de Oftalmologia",
          "Revista Cubana de Hematologia, Inmunologia y Hemoterapia",
          "Revista da Associacao Medica Brasileira",
          "Revue d'Oto-Neuro-Ophthalmologie",
          "Revue de Chirurgie Orthopedique et Reparatrice de l'Appareil Moteur",
          "Revue de Medecine Interne",
          "Revue de Medecine Interne",
          "Revue du Praticien",
          "Scandinavian Journal of Clinical and Laboratory Investigation",
          "Scientific Reports",
          "Seminars in Arthritis and Rheumatism",
          "Seminars in Arthritis and Rheumatism",
          "Seminars in Hematology",
          "Seminars in Nephrology",
          "Seminars in Ophthalmology",
          "Seminars in Ophthalmology",
          "Seminars in Thrombosis and Hemostasis",
          "Sickle Cell Anemia: From Basic Science to Clinical Practice",
          "Sickle Cell Anemia: From Basic Science to Clinical Practice",
          "South African Medical Journal",
          "Southern Medical Journal",
          "Stem Cell Reviews and Reports",
          "Stem Cells Translational Medicine",
          "Survey of Ophthalmology",
          "Survey of Ophthalmology",
          "Survey of Ophthalmology",
          "Taiwan Journal of Ophthalmology",
          "The Curated Reference Collection in Neuroscience and Biobehavioral Psychology",
          "The Curated Reference Collection in Neuroscience and Biobehavioral Psychology",
          "The Lancet",
          "The Nigerian postgraduate medical journal",
          "The Nigerian postgraduate medical journal",
          "Therapeutic Advances in Ophthalmology",
          "Thrombosis Research",
          "Thrombosis Research",
          "Thrombosis Research",
          "Transactions of the American Academy of Ophthalmology and Otolaryngology",
          "Transactions of the American Ophthalmological Society",
          "Transactions of the Ophthalmological Societies of the United Kingdom",
          "Transactions of the Ophthalmological Societies of the United Kingdom",
          "Transactions of the Ophthalmological Societies of the United Kingdom",
          "Transactions of the Ophthalmological Societies of the United Kingdom",
          "Transactions of the Royal Society of Tropical Medicine and Hygiene",
          "Transfusion",
          "Transfusion Clinique et Biologique",
          "Translational Vision Science and Technology",
          "Translational Vision Science and Technology",
          "Tropical Doctor",
          "Tunisie Medicale",
          "Turkish Journal of Ophthalmology",
          "Turkish Journal of Pediatrics",
          "Ultrasonography",
          "Ultrasonography",
          "Undersea and Hyperbaric Medicine",
          "Vision Research",
          "West African Journal of Medicine",
          "West African Journal of Medicine",
          "West African journal of medicine",
          "West African journal of medicine",
          "West Indian Medical Journal",
          "eLife",
          "eLife",
          "eLife",
          "\"Cote dIvoire\"",
          "Argentina",
          "Australia",
          "Bahrain",
          "Belgium",
          "Benin",
          "Brazil",
          "Burkina Faso",
          "Cameroon",
          "Canada",
          "China",
          "Cuba",
          "Curaçao",
          "Denmark",
          "Egypt",
          "France",
          "French Guiana",
          "Georgia",
          "Germany",
          "Ghana",
          "Greece",
          "Guadeloupe",
          "Hong Kong",
          "India",
          "Iran",
          "Ireland",
          "Israel",
          "Italy",
          "Jamaica",
          "Japan",
          "Jersey",
          "Jordan",
          "Kenya",
          "Kuwait",
          "Lebanon",
          "Lithuania",
          "Malawi",
          "Malaysia",
          "Mali",
          "Martinique",
          "Mexico",
          "Monaco",
          "Morocco",
          "Netherlands",
          "New Zealand",
          "Niger",
          "Nigeria",
          "Norway",
          "Oman",
          "Pakistan",
          "Poland",
          "Portugal",
          "Qatar",
          "Russian Federation",
          "Saudi Arabia",
          "Senegal",
          "Singapore",
          "South Africa",
          "South Korea",
          "Spain",
          "Sweden",
          "Switzerland",
          "Togo",
          "Trinidad and Tobago",
          "Tunisia",
          "Turkey",
          "Uganda",
          "United Arab Emirates",
          "United Kingdom",
          "United States",
          "Zambia",
          "Zimbabwe",
          "World"
         ],
         "marker": {
          "coloraxis": "coloraxis",
          "colors": [
           1,
           1,
           1,
           1,
           1,
           1,
           1,
           1,
           1,
           1,
           1,
           2,
           1,
           1,
           1,
           1,
           1,
           1,
           1,
           3,
           2,
           2,
           1,
           1,
           1,
           5,
           1,
           2,
           1,
           11,
           2,
           1,
           2,
           1,
           1,
           3,
           4,
           36,
           1,
           1,
           4,
           1,
           1,
           1,
           1,
           1,
           1,
           1,
           1,
           1,
           1,
           1,
           1,
           1,
           1,
           4,
           1,
           1,
           1,
           1,
           1,
           3,
           1,
           1,
           1,
           1,
           1,
           1,
           1,
           1,
           2,
           1,
           1,
           4,
           1,
           37,
           1,
           7,
           1,
           1,
           1,
           1,
           1,
           1,
           1,
           1,
           1,
           1,
           1,
           2,
           2,
           1,
           1,
           1,
           1,
           1,
           1,
           1,
           1,
           1,
           2,
           4,
           1,
           1,
           1,
           1,
           1,
           2,
           1,
           1,
           1,
           1,
           3,
           1,
           1,
           2,
           1,
           2,
           1,
           1,
           2,
           1,
           1,
           1,
           1,
           1,
           1,
           1,
           1,
           1,
           1,
           2,
           2,
           2,
           1,
           1,
           1,
           2,
           7,
           3,
           1,
           1,
           1,
           1,
           1,
           22,
           1,
           1,
           1,
           1,
           12,
           12,
           1,
           1,
           5,
           1,
           1,
           1,
           2,
           1,
           1,
           1,
           1,
           1,
           1,
           1,
           1,
           1,
           1,
           1,
           1,
           3,
           4,
           2,
           1,
           1,
           1,
           1,
           1,
           1,
           1,
           1,
           1,
           1,
           3,
           1,
           3,
           1,
           6,
           1,
           1,
           1,
           1,
           1,
           1,
           1,
           1,
           1,
           1,
           1,
           1,
           1,
           3,
           1,
           1,
           2,
           1,
           1,
           1,
           1,
           1,
           1,
           2,
           1,
           1,
           1,
           1,
           1,
           1,
           1,
           2,
           1,
           1,
           1,
           1,
           3,
           1,
           2,
           1,
           1,
           1,
           1,
           1,
           1,
           1,
           1,
           3,
           1,
           3,
           1,
           6,
           5,
           1,
           1,
           1,
           1,
           1,
           1,
           1,
           1,
           1,
           1,
           1,
           1,
           1,
           1,
           1,
           1,
           1,
           1,
           1,
           1,
           1,
           1,
           1,
           1,
           2,
           1,
           1,
           1,
           1,
           2,
           2,
           2,
           1,
           1,
           1,
           1,
           4,
           1,
           1,
           1,
           1,
           1,
           3,
           1,
           1,
           1,
           4,
           1,
           1,
           1,
           1,
           2,
           1,
           1,
           1,
           1,
           1,
           1,
           1,
           1,
           1,
           1,
           1,
           1,
           1,
           2,
           1,
           1,
           1,
           1,
           1,
           1,
           4,
           2,
           1,
           2,
           1,
           1,
           1,
           1,
           1,
           8,
           1,
           1,
           1,
           1,
           1,
           1,
           4,
           1,
           1,
           2,
           1,
           3,
           1,
           2,
           1,
           11,
           1,
           1,
           1,
           2,
           1,
           1,
           3,
           1,
           1,
           1,
           1,
           1,
           4,
           1,
           1,
           2,
           1,
           1,
           1,
           1,
           1,
           1,
           1,
           1,
           1,
           1,
           1,
           1,
           1,
           1,
           1,
           1,
           1,
           1,
           2,
           2,
           2,
           1,
           1,
           3,
           1,
           1,
           1,
           1,
           2,
           1,
           1,
           1,
           1,
           1,
           3,
           1,
           3,
           2,
           1,
           1,
           1,
           1,
           1,
           1,
           1,
           1,
           1,
           1,
           1,
           1,
           1,
           1,
           1,
           1,
           1,
           1,
           1,
           1,
           1,
           1,
           1,
           1,
           1,
           1,
           1,
           1,
           1,
           1,
           1,
           1,
           5,
           1,
           1,
           1,
           1,
           1,
           1,
           1,
           1,
           1,
           1,
           1,
           1,
           2,
           1,
           6,
           1,
           1,
           3,
           3,
           1,
           1,
           1,
           1,
           1,
           1,
           3,
           2,
           12,
           1,
           1,
           1,
           3,
           1,
           3,
           3,
           1,
           1,
           1,
           1,
           5,
           1,
           1,
           1,
           1,
           1,
           1,
           1,
           1,
           1,
           1,
           1,
           1,
           2,
           1,
           1,
           4,
           1,
           2,
           1,
           1,
           1,
           1,
           1,
           1,
           1,
           1,
           1,
           1,
           1,
           1,
           1,
           1,
           1,
           1,
           1,
           1,
           1,
           1,
           1,
           1,
           1,
           8,
           1,
           1,
           2,
           6,
           1,
           1,
           1,
           2,
           1,
           5,
           5,
           3,
           1,
           1,
           1,
           2,
           1,
           2,
           1,
           1,
           1,
           1,
           1,
           1,
           1,
           1,
           1,
           1,
           1,
           1,
           3,
           1,
           1,
           1,
           1,
           6,
           1,
           1,
           1,
           1,
           2,
           2,
           1,
           1,
           1,
           2,
           3,
           2,
           1,
           1,
           3,
           2,
           1,
           1,
           1,
           1,
           1,
           1,
           1,
           1,
           1,
           1,
           1,
           1,
           1,
           1,
           1,
           1,
           1,
           1,
           1,
           1,
           1,
           2.5,
           1,
           1,
           1,
           1,
           1,
           2.869565217391304,
           1.6666666666666667,
           1,
           2.6363636363636362,
           1.4,
           3,
           1.5,
           1,
           1.2,
           3.3582089552238807,
           1,
           1,
           1.75,
           1,
           1,
           2.3333333333333335,
           1,
           1.2352941176470589,
           1,
           1,
           1,
           1.2105263157894737,
           12.44186046511628,
           1.3333333333333333,
           1,
           1.3333333333333333,
           1,
           1,
           1,
           1,
           1,
           2,
           1,
           1,
           1,
           1,
           1,
           1.4285714285714286,
           3,
           1.0869565217391304,
           1.08,
           1,
           1,
           1,
           1,
           1,
           1,
           1,
           1,
           1,
           1,
           1,
           1,
           1,
           1,
           1.5,
           1.6666666666666667,
           1,
           1,
           1,
           1,
           1,
           3.6666666666666665,
           9.869346733668342,
           1,
           1,
           5.80672268907563
          ],
          "cornerradius": 5
         },
         "name": "",
         "parents": [
          "World/United Kingdom",
          "World/Argentina",
          "World/Niger",
          "World/Nigeria",
          "World/Turkey",
          "World/United States",
          "World/United States",
          "World/Brazil",
          "World/United Kingdom",
          "World/United States",
          "World/Belgium",
          "World/United States",
          "World/United States",
          "World/Niger",
          "World/Nigeria",
          "World/Niger",
          "World/Nigeria",
          "World/India",
          "World/Japan",
          "World/United States",
          "World/United States",
          "World/United States",
          "World/Mexico",
          "World/United States",
          "World/Curaçao",
          "World/France",
          "World/Guadeloupe",
          "World/Netherlands",
          "World/Turkey",
          "World/United States",
          "World/United States",
          "World/Brazil",
          "World/Canada",
          "World/France",
          "World/Guadeloupe",
          "World/Jamaica",
          "World/United Kingdom",
          "World/United States",
          "World/Niger",
          "World/Nigeria",
          "World/United States",
          "World/Zimbabwe",
          "World/United States",
          "World/United States",
          "World/Jamaica",
          "World/France",
          "World/Italy",
          "World/Niger",
          "World/Nigeria",
          "World/Germany",
          "World/United States",
          "World/Saudi Arabia",
          "World/Greece",
          "World/Niger",
          "World/Nigeria",
          "World/United States",
          "World/Brazil",
          "World/Jordan",
          "World/United Kingdom",
          "World/United States",
          "World/Jersey",
          "World/United States",
          "World/United Kingdom",
          "World/United States",
          "World/United Kingdom",
          "World/United States",
          "World/Georgia",
          "World/United States",
          "World/France",
          "World/France",
          "World/United States",
          "World/United States",
          "World/Brazil",
          "World/Jamaica",
          "World/Jersey",
          "World/United States",
          "World/Spain",
          "World/Brazil",
          "World/India",
          "World/Morocco",
          "World/Saudi Arabia",
          "World/France",
          "World/France",
          "World/France",
          "World/United Kingdom",
          "World/Niger",
          "World/Nigeria",
          "World/Portugal",
          "World/Singapore",
          "World/United Kingdom",
          "World/United States",
          "World/France",
          "World/Ghana",
          "World/Niger",
          "World/Nigeria",
          "World/Bahrain",
          "World/Singapore",
          "World/United Kingdom",
          "World/Brazil",
          "World/United Kingdom",
          "World/United States",
          "World/United States",
          "World/Ghana",
          "World/United Kingdom",
          "World/India",
          "World/Lithuania",
          "World/Brazil",
          "World/China",
          "World/Ireland",
          "World/United States",
          "World/Canada",
          "World/France",
          "World/United States",
          "World/Qatar",
          "World/United States",
          "World/Brazil",
          "World/Canada",
          "World/Curaçao",
          "World/Denmark",
          "World/France",
          "World/Netherlands",
          "World/United Kingdom",
          "World/United States",
          "World/Brazil",
          "World/France",
          "World/Guadeloupe",
          "World/Netherlands",
          "World/United States",
          "World/Brazil",
          "World/Brazil",
          "World/Brazil",
          "World/Canada",
          "World/France",
          "World/Italy",
          "World/Jamaica",
          "World/Mali",
          "World/Senegal",
          "World/United Kingdom",
          "World/United States",
          "World/Canada",
          "World/Denmark",
          "World/France",
          "World/Germany",
          "World/Hong Kong",
          "World/Ireland",
          "World/Jamaica",
          "World/Jersey",
          "World/Kuwait",
          "World/Saudi Arabia",
          "World/Trinidad and Tobago",
          "World/United Kingdom",
          "World/United States",
          "World/Belgium",
          "World/United States",
          "World/Canada",
          "World/Niger",
          "World/Nigeria",
          "World/United Kingdom",
          "World/United States",
          "World/Italy",
          "World/France",
          "World/Mexico",
          "World/United States",
          "World/France",
          "World/Netherlands",
          "World/United States",
          "World/United States",
          "World/Italy",
          "World/United States",
          "World/United Kingdom",
          "World/Brazil",
          "World/France",
          "World/Guadeloupe",
          "World/Canada",
          "World/Jamaica",
          "World/United States",
          "World/United Kingdom",
          "World/Niger",
          "World/Nigeria",
          "World/United States",
          "World/Israel",
          "World/United States",
          "World/United States",
          "World/United States",
          "World/Malaysia",
          "World/United States",
          "World/United States",
          "World/Jamaica",
          "World/United States",
          "World/Brazil",
          "World/United Kingdom",
          "World/United States",
          "World/Georgia",
          "World/United States",
          "World/Germany",
          "World/Italy",
          "World/United States",
          "World/France",
          "World/Senegal",
          "World/United States",
          "World/Ireland",
          "World/United States",
          "World/New Zealand",
          "World/United States",
          "World/Spain",
          "World/United States",
          "World/United States",
          "World/United States",
          "World/France",
          "World/Guadeloupe",
          "World/Portugal",
          "World/United States",
          "World/France",
          "World/Germany",
          "World/Ghana",
          "World/Italy",
          "World/Kenya",
          "World/Niger",
          "World/Nigeria",
          "World/United Kingdom",
          "World/United States",
          "World/United States",
          "World/United States",
          "World/Brazil",
          "World/Turkey",
          "World/United States",
          "World/Argentina",
          "World/United States",
          "World/Curaçao",
          "World/Netherlands",
          "World/France",
          "World/Italy",
          "World/Pakistan",
          "World/United Arab Emirates",
          "World/United Kingdom",
          "World/United States",
          "World/United Kingdom",
          "World/Ghana",
          "World/Jamaica",
          "World/Oman",
          "World/United Kingdom",
          "World/United States",
          "World/United States",
          "World/France",
          "World/Ghana",
          "World/Niger",
          "World/Nigeria",
          "World/South Africa",
          "World/United Kingdom",
          "World/Brazil",
          "World/France",
          "World/Italy",
          "World/Monaco",
          "World/Senegal",
          "World/Germany",
          "World/Malaysia",
          "World/Pakistan",
          "World/South Korea",
          "World/United States",
          "World/Brazil",
          "World/Mexico",
          "World/Poland",
          "World/South Korea",
          "World/United States",
          "World/France",
          "World/Italy",
          "World/Netherlands",
          "World/Saudi Arabia",
          "World/Sweden",
          "World/Tunisia",
          "World/United Arab Emirates",
          "World/United States",
          "World/Brazil",
          "World/France",
          "World/Guadeloupe",
          "World/India",
          "World/Portugal",
          "World/United Kingdom",
          "World/United States",
          "World/United States",
          "World/United States",
          "World/United States",
          "World/United Kingdom",
          "World/Israel",
          "World/United States",
          "World/Niger",
          "World/Nigeria",
          "World/United Kingdom",
          "World/United States",
          "World/United States",
          "World/United States",
          "World/Egypt",
          "World/India",
          "World/India",
          "World/India",
          "World/Jordan",
          "World/Japan",
          "World/China",
          "World/Japan",
          "World/United States",
          "World/Egypt",
          "World/Niger",
          "World/Nigeria",
          "World/Saudi Arabia",
          "World/United States",
          "World/United States",
          "World/French Guiana",
          "World/Canada",
          "World/United States",
          "World/India",
          "World/Egypt",
          "World/Jordan",
          "World/Kuwait",
          "World/Qatar",
          "World/United States",
          "World/Italy",
          "World/Netherlands",
          "World/United States",
          "World/United States",
          "World/France",
          "World/France",
          "World/Japan",
          "World/Netherlands",
          "World/United States",
          "World/Georgia",
          "World/United States",
          "World/Italy",
          "World/United States",
          "World/United States",
          "World/Brazil",
          "World/United States",
          "World/United States",
          "World/India",
          "World/Japan",
          "World/Brazil",
          "World/\"Cote dIvoire\"",
          "World/Benin",
          "World/Burkina Faso",
          "World/Cameroon",
          "World/France",
          "World/Italy",
          "World/Morocco",
          "World/South Africa",
          "World/Togo",
          "World/Tunisia",
          "World/Brazil",
          "World/United States",
          "World/Pakistan",
          "World/Mexico",
          "World/United States",
          "World/China",
          "World/United States",
          "World/France",
          "World/United States",
          "World/Egypt",
          "World/India",
          "World/Niger",
          "World/Nigeria",
          "World/Qatar",
          "World/Turkey",
          "World/Brazil",
          "World/Jordan",
          "World/United States",
          "World/Canada",
          "World/India",
          "World/United States",
          "World/Italy",
          "World/France",
          "World/Pakistan",
          "World/United States",
          "World/United Kingdom",
          "World/Brazil",
          "World/Niger",
          "World/Nigeria",
          "World/United States",
          "World/Canada",
          "World/Egypt",
          "World/Jamaica",
          "World/Turkey",
          "World/United States",
          "World/Jersey",
          "World/United States",
          "World/United States",
          "World/United States",
          "World/United States",
          "World/United States",
          "World/United States",
          "World/United States",
          "World/United States",
          "World/Georgia",
          "World/United States",
          "World/France",
          "World/Germany",
          "World/Switzerland",
          "World/United States",
          "World/United Kingdom",
          "World/Brazil",
          "World/United States",
          "World/United Kingdom",
          "World/United States",
          "World/United States",
          "World/Mali",
          "World/Togo",
          "World/\"Cote dIvoire\"",
          "World/Jersey",
          "World/United States",
          "World/United States",
          "World/United States",
          "World/Italy",
          "World/France",
          "World/United States",
          "World/Egypt",
          "World/Italy",
          "World/United States",
          "World/United Kingdom",
          "World/United States",
          "World/United States",
          "World/Saudi Arabia",
          "World/United States",
          "World/United States",
          "World/United States",
          "World/Netherlands",
          "World/United States",
          "World/Zambia",
          "World/Saudi Arabia",
          "World/Belgium",
          "World/United States",
          "World/Niger",
          "World/Nigeria",
          "World/Nigeria",
          "World/Nigeria",
          "World/Greece",
          "World/United Kingdom",
          "World/Belgium",
          "World/France",
          "World/United States",
          "World/Russian Federation",
          "World/Niger",
          "World/Nigeria",
          "World/Jordan",
          "World/Qatar",
          "World/United States",
          "World/Malaysia",
          "World/United Kingdom",
          "World/United States",
          "World/Germany",
          "World/Kenya",
          "World/Brazil",
          "World/Malaysia",
          "World/United Kingdom",
          "World/United States",
          "World/Germany",
          "World/Jamaica",
          "World/United Kingdom",
          "World/United States",
          "World/France",
          "World/Germany",
          "World/United Kingdom",
          "World/United States",
          "World/United Kingdom",
          "World/United States",
          "World/United States",
          "World/Italy",
          "World/Saudi Arabia",
          "World/Sweden",
          "World/Uganda",
          "World/United States",
          "World/Burkina Faso",
          "World/Ghana",
          "World/Jamaica",
          "World/Morocco",
          "World/United Kingdom",
          "World/Mexico",
          "World/United States",
          "World/China",
          "World/Iran",
          "World/United States",
          "World/France",
          "World/Georgia",
          "World/United States",
          "World/Italy",
          "World/Spain",
          "World/United States",
          "World/United States",
          "World/United States",
          "World/United States",
          "World/Australia",
          "World/Switzerland",
          "World/Australia",
          "World/Denmark",
          "World/Germany",
          "World/Netherlands",
          "World/South Africa",
          "World/Sweden",
          "World/United States",
          "World/United States",
          "World/United States",
          "World/United States",
          "World/Georgia",
          "World/United States",
          "World/Germany",
          "World/United Kingdom",
          "World/Pakistan",
          "World/United Kingdom",
          "World/Brazil",
          "World/Egypt",
          "World/Greece",
          "World/Switzerland",
          "World/United States",
          "World/United States",
          "World/Portugal",
          "World/United States",
          "World/United States",
          "World/Germany",
          "World/Netherlands",
          "World/United Kingdom",
          "World/United States",
          "World/United States",
          "World/Brazil",
          "World/Brazil",
          "World/Cuba",
          "World/Brazil",
          "World/France",
          "World/France",
          "World/France",
          "World/Mali",
          "World/France",
          "World/United Kingdom",
          "World/France",
          "World/France",
          "World/Martinique",
          "World/United States",
          "World/United States",
          "World/India",
          "World/United States",
          "World/South Africa",
          "World/Brazil",
          "World/Lebanon",
          "World/South Africa",
          "World/United States",
          "World/France",
          "World/United Kingdom",
          "World/Egypt",
          "World/United Kingdom",
          "World/United States",
          "World/India",
          "World/United Kingdom",
          "World/United States",
          "World/France",
          "World/Niger",
          "World/Nigeria",
          "World/United States",
          "World/India",
          "World/Norway",
          "World/United States",
          "World/United States",
          "World/United States",
          "World/Ireland",
          "World/Jamaica",
          "World/United Kingdom",
          "World/United States",
          "World/Egypt",
          "World/Canada",
          "World/India",
          "World/Turkey",
          "World/United States",
          "World/Kenya",
          "World/Tunisia",
          "World/Turkey",
          "World/Turkey",
          "World/Niger",
          "World/Nigeria",
          "World/United States",
          "World/United States",
          "World/Niger",
          "World/Nigeria",
          "World/Niger",
          "World/Nigeria",
          "World/Jamaica",
          "World/Malawi",
          "World/United Kingdom",
          "World/United States",
          "World",
          "World",
          "World",
          "World",
          "World",
          "World",
          "World",
          "World",
          "World",
          "World",
          "World",
          "World",
          "World",
          "World",
          "World",
          "World",
          "World",
          "World",
          "World",
          "World",
          "World",
          "World",
          "World",
          "World",
          "World",
          "World",
          "World",
          "World",
          "World",
          "World",
          "World",
          "World",
          "World",
          "World",
          "World",
          "World",
          "World",
          "World",
          "World",
          "World",
          "World",
          "World",
          "World",
          "World",
          "World",
          "World",
          "World",
          "World",
          "World",
          "World",
          "World",
          "World",
          "World",
          "World",
          "World",
          "World",
          "World",
          "World",
          "World",
          "World",
          "World",
          "World",
          "World",
          "World",
          "World",
          "World",
          "World",
          "World",
          "World",
          "World",
          "World",
          "World",
          ""
         ],
         "root": {
          "color": "lightgrey"
         },
         "type": "treemap",
         "values": [
          1,
          1,
          1,
          1,
          1,
          1,
          1,
          1,
          1,
          1,
          1,
          2,
          1,
          1,
          1,
          1,
          1,
          1,
          1,
          3,
          2,
          2,
          1,
          1,
          1,
          5,
          1,
          2,
          1,
          11,
          2,
          1,
          2,
          1,
          1,
          3,
          4,
          36,
          1,
          1,
          4,
          1,
          1,
          1,
          1,
          1,
          1,
          1,
          1,
          1,
          1,
          1,
          1,
          1,
          1,
          4,
          1,
          1,
          1,
          1,
          1,
          3,
          1,
          1,
          1,
          1,
          1,
          1,
          1,
          1,
          2,
          1,
          1,
          4,
          1,
          37,
          1,
          7,
          1,
          1,
          1,
          1,
          1,
          1,
          1,
          1,
          1,
          1,
          1,
          2,
          2,
          1,
          1,
          1,
          1,
          1,
          1,
          1,
          1,
          1,
          2,
          4,
          1,
          1,
          1,
          1,
          1,
          2,
          1,
          1,
          1,
          1,
          3,
          1,
          1,
          2,
          1,
          2,
          1,
          1,
          2,
          1,
          1,
          1,
          1,
          1,
          1,
          1,
          1,
          1,
          1,
          2,
          2,
          2,
          1,
          1,
          1,
          2,
          7,
          3,
          1,
          1,
          1,
          1,
          1,
          22,
          1,
          1,
          1,
          1,
          12,
          12,
          1,
          1,
          5,
          1,
          1,
          1,
          2,
          1,
          1,
          1,
          1,
          1,
          1,
          1,
          1,
          1,
          1,
          1,
          1,
          3,
          4,
          2,
          1,
          1,
          1,
          1,
          1,
          1,
          1,
          1,
          1,
          1,
          3,
          1,
          3,
          1,
          6,
          1,
          1,
          1,
          1,
          1,
          1,
          1,
          1,
          1,
          1,
          1,
          1,
          1,
          3,
          1,
          1,
          2,
          1,
          1,
          1,
          1,
          1,
          1,
          2,
          1,
          1,
          1,
          1,
          1,
          1,
          1,
          2,
          1,
          1,
          1,
          1,
          3,
          1,
          2,
          1,
          1,
          1,
          1,
          1,
          1,
          1,
          1,
          3,
          1,
          3,
          1,
          6,
          5,
          1,
          1,
          1,
          1,
          1,
          1,
          1,
          1,
          1,
          1,
          1,
          1,
          1,
          1,
          1,
          1,
          1,
          1,
          1,
          1,
          1,
          1,
          1,
          1,
          2,
          1,
          1,
          1,
          1,
          2,
          2,
          2,
          1,
          1,
          1,
          1,
          4,
          1,
          1,
          1,
          1,
          1,
          3,
          1,
          1,
          1,
          4,
          1,
          1,
          1,
          1,
          2,
          1,
          1,
          1,
          1,
          1,
          1,
          1,
          1,
          1,
          1,
          1,
          1,
          1,
          2,
          1,
          1,
          1,
          1,
          1,
          1,
          4,
          2,
          1,
          2,
          1,
          1,
          1,
          1,
          1,
          8,
          1,
          1,
          1,
          1,
          1,
          1,
          4,
          1,
          1,
          2,
          1,
          3,
          1,
          2,
          1,
          11,
          1,
          1,
          1,
          2,
          1,
          1,
          3,
          1,
          1,
          1,
          1,
          1,
          4,
          1,
          1,
          2,
          1,
          1,
          1,
          1,
          1,
          1,
          1,
          1,
          1,
          1,
          1,
          1,
          1,
          1,
          1,
          1,
          1,
          1,
          2,
          2,
          2,
          1,
          1,
          3,
          1,
          1,
          1,
          1,
          2,
          1,
          1,
          1,
          1,
          1,
          3,
          1,
          3,
          2,
          1,
          1,
          1,
          1,
          1,
          1,
          1,
          1,
          1,
          1,
          1,
          1,
          1,
          1,
          1,
          1,
          1,
          1,
          1,
          1,
          1,
          1,
          1,
          1,
          1,
          1,
          1,
          1,
          1,
          1,
          1,
          1,
          5,
          1,
          1,
          1,
          1,
          1,
          1,
          1,
          1,
          1,
          1,
          1,
          1,
          2,
          1,
          6,
          1,
          1,
          3,
          3,
          1,
          1,
          1,
          1,
          1,
          1,
          3,
          2,
          12,
          1,
          1,
          1,
          3,
          1,
          3,
          3,
          1,
          1,
          1,
          1,
          5,
          1,
          1,
          1,
          1,
          1,
          1,
          1,
          1,
          1,
          1,
          1,
          1,
          2,
          1,
          1,
          4,
          1,
          2,
          1,
          1,
          1,
          1,
          1,
          1,
          1,
          1,
          1,
          1,
          1,
          1,
          1,
          1,
          1,
          1,
          1,
          1,
          1,
          1,
          1,
          1,
          1,
          8,
          1,
          1,
          2,
          6,
          1,
          1,
          1,
          2,
          1,
          5,
          5,
          3,
          1,
          1,
          1,
          2,
          1,
          2,
          1,
          1,
          1,
          1,
          1,
          1,
          1,
          1,
          1,
          1,
          1,
          1,
          3,
          1,
          1,
          1,
          1,
          6,
          1,
          1,
          1,
          1,
          2,
          2,
          1,
          1,
          1,
          2,
          3,
          2,
          1,
          1,
          3,
          2,
          1,
          1,
          1,
          1,
          1,
          1,
          1,
          1,
          1,
          1,
          1,
          1,
          1,
          1,
          1,
          1,
          1,
          1,
          1,
          1,
          1,
          4,
          2,
          2,
          1,
          4,
          1,
          46,
          3,
          1,
          22,
          5,
          3,
          4,
          3,
          10,
          67,
          1,
          6,
          16,
          6,
          3,
          9,
          1,
          17,
          1,
          4,
          2,
          19,
          43,
          6,
          5,
          6,
          3,
          2,
          1,
          1,
          1,
          6,
          3,
          1,
          5,
          1,
          3,
          14,
          3,
          23,
          25,
          1,
          1,
          5,
          1,
          4,
          4,
          1,
          8,
          3,
          2,
          5,
          2,
          3,
          3,
          4,
          3,
          1,
          3,
          8,
          1,
          2,
          72,
          398,
          1,
          1,
          952
         ]
        }
       ],
       "layout": {
        "coloraxis": {
         "colorbar": {
          "title": {
           "text": "counts"
          }
         },
         "colorscale": [
          [
           0,
           "rgb(247,251,255)"
          ],
          [
           0.125,
           "rgb(222,235,247)"
          ],
          [
           0.25,
           "rgb(198,219,239)"
          ],
          [
           0.375,
           "rgb(158,202,225)"
          ],
          [
           0.5,
           "rgb(107,174,214)"
          ],
          [
           0.625,
           "rgb(66,146,198)"
          ],
          [
           0.75,
           "rgb(33,113,181)"
          ],
          [
           0.875,
           "rgb(8,81,156)"
          ],
          [
           1,
           "rgb(8,48,107)"
          ]
         ]
        },
        "legend": {
         "tracegroupgap": 0
        },
        "margin": {
         "b": 25,
         "l": 25,
         "r": 25,
         "t": 50
        },
        "template": {
         "data": {
          "bar": [
           {
            "error_x": {
             "color": "#2a3f5f"
            },
            "error_y": {
             "color": "#2a3f5f"
            },
            "marker": {
             "line": {
              "color": "#E5ECF6",
              "width": 0.5
             },
             "pattern": {
              "fillmode": "overlay",
              "size": 10,
              "solidity": 0.2
             }
            },
            "type": "bar"
           }
          ],
          "barpolar": [
           {
            "marker": {
             "line": {
              "color": "#E5ECF6",
              "width": 0.5
             },
             "pattern": {
              "fillmode": "overlay",
              "size": 10,
              "solidity": 0.2
             }
            },
            "type": "barpolar"
           }
          ],
          "carpet": [
           {
            "aaxis": {
             "endlinecolor": "#2a3f5f",
             "gridcolor": "white",
             "linecolor": "white",
             "minorgridcolor": "white",
             "startlinecolor": "#2a3f5f"
            },
            "baxis": {
             "endlinecolor": "#2a3f5f",
             "gridcolor": "white",
             "linecolor": "white",
             "minorgridcolor": "white",
             "startlinecolor": "#2a3f5f"
            },
            "type": "carpet"
           }
          ],
          "choropleth": [
           {
            "colorbar": {
             "outlinewidth": 0,
             "ticks": ""
            },
            "type": "choropleth"
           }
          ],
          "contour": [
           {
            "colorbar": {
             "outlinewidth": 0,
             "ticks": ""
            },
            "colorscale": [
             [
              0,
              "#0d0887"
             ],
             [
              0.1111111111111111,
              "#46039f"
             ],
             [
              0.2222222222222222,
              "#7201a8"
             ],
             [
              0.3333333333333333,
              "#9c179e"
             ],
             [
              0.4444444444444444,
              "#bd3786"
             ],
             [
              0.5555555555555556,
              "#d8576b"
             ],
             [
              0.6666666666666666,
              "#ed7953"
             ],
             [
              0.7777777777777778,
              "#fb9f3a"
             ],
             [
              0.8888888888888888,
              "#fdca26"
             ],
             [
              1,
              "#f0f921"
             ]
            ],
            "type": "contour"
           }
          ],
          "contourcarpet": [
           {
            "colorbar": {
             "outlinewidth": 0,
             "ticks": ""
            },
            "type": "contourcarpet"
           }
          ],
          "heatmap": [
           {
            "colorbar": {
             "outlinewidth": 0,
             "ticks": ""
            },
            "colorscale": [
             [
              0,
              "#0d0887"
             ],
             [
              0.1111111111111111,
              "#46039f"
             ],
             [
              0.2222222222222222,
              "#7201a8"
             ],
             [
              0.3333333333333333,
              "#9c179e"
             ],
             [
              0.4444444444444444,
              "#bd3786"
             ],
             [
              0.5555555555555556,
              "#d8576b"
             ],
             [
              0.6666666666666666,
              "#ed7953"
             ],
             [
              0.7777777777777778,
              "#fb9f3a"
             ],
             [
              0.8888888888888888,
              "#fdca26"
             ],
             [
              1,
              "#f0f921"
             ]
            ],
            "type": "heatmap"
           }
          ],
          "heatmapgl": [
           {
            "colorbar": {
             "outlinewidth": 0,
             "ticks": ""
            },
            "colorscale": [
             [
              0,
              "#0d0887"
             ],
             [
              0.1111111111111111,
              "#46039f"
             ],
             [
              0.2222222222222222,
              "#7201a8"
             ],
             [
              0.3333333333333333,
              "#9c179e"
             ],
             [
              0.4444444444444444,
              "#bd3786"
             ],
             [
              0.5555555555555556,
              "#d8576b"
             ],
             [
              0.6666666666666666,
              "#ed7953"
             ],
             [
              0.7777777777777778,
              "#fb9f3a"
             ],
             [
              0.8888888888888888,
              "#fdca26"
             ],
             [
              1,
              "#f0f921"
             ]
            ],
            "type": "heatmapgl"
           }
          ],
          "histogram": [
           {
            "marker": {
             "pattern": {
              "fillmode": "overlay",
              "size": 10,
              "solidity": 0.2
             }
            },
            "type": "histogram"
           }
          ],
          "histogram2d": [
           {
            "colorbar": {
             "outlinewidth": 0,
             "ticks": ""
            },
            "colorscale": [
             [
              0,
              "#0d0887"
             ],
             [
              0.1111111111111111,
              "#46039f"
             ],
             [
              0.2222222222222222,
              "#7201a8"
             ],
             [
              0.3333333333333333,
              "#9c179e"
             ],
             [
              0.4444444444444444,
              "#bd3786"
             ],
             [
              0.5555555555555556,
              "#d8576b"
             ],
             [
              0.6666666666666666,
              "#ed7953"
             ],
             [
              0.7777777777777778,
              "#fb9f3a"
             ],
             [
              0.8888888888888888,
              "#fdca26"
             ],
             [
              1,
              "#f0f921"
             ]
            ],
            "type": "histogram2d"
           }
          ],
          "histogram2dcontour": [
           {
            "colorbar": {
             "outlinewidth": 0,
             "ticks": ""
            },
            "colorscale": [
             [
              0,
              "#0d0887"
             ],
             [
              0.1111111111111111,
              "#46039f"
             ],
             [
              0.2222222222222222,
              "#7201a8"
             ],
             [
              0.3333333333333333,
              "#9c179e"
             ],
             [
              0.4444444444444444,
              "#bd3786"
             ],
             [
              0.5555555555555556,
              "#d8576b"
             ],
             [
              0.6666666666666666,
              "#ed7953"
             ],
             [
              0.7777777777777778,
              "#fb9f3a"
             ],
             [
              0.8888888888888888,
              "#fdca26"
             ],
             [
              1,
              "#f0f921"
             ]
            ],
            "type": "histogram2dcontour"
           }
          ],
          "mesh3d": [
           {
            "colorbar": {
             "outlinewidth": 0,
             "ticks": ""
            },
            "type": "mesh3d"
           }
          ],
          "parcoords": [
           {
            "line": {
             "colorbar": {
              "outlinewidth": 0,
              "ticks": ""
             }
            },
            "type": "parcoords"
           }
          ],
          "pie": [
           {
            "automargin": true,
            "type": "pie"
           }
          ],
          "scatter": [
           {
            "fillpattern": {
             "fillmode": "overlay",
             "size": 10,
             "solidity": 0.2
            },
            "type": "scatter"
           }
          ],
          "scatter3d": [
           {
            "line": {
             "colorbar": {
              "outlinewidth": 0,
              "ticks": ""
             }
            },
            "marker": {
             "colorbar": {
              "outlinewidth": 0,
              "ticks": ""
             }
            },
            "type": "scatter3d"
           }
          ],
          "scattercarpet": [
           {
            "marker": {
             "colorbar": {
              "outlinewidth": 0,
              "ticks": ""
             }
            },
            "type": "scattercarpet"
           }
          ],
          "scattergeo": [
           {
            "marker": {
             "colorbar": {
              "outlinewidth": 0,
              "ticks": ""
             }
            },
            "type": "scattergeo"
           }
          ],
          "scattergl": [
           {
            "marker": {
             "colorbar": {
              "outlinewidth": 0,
              "ticks": ""
             }
            },
            "type": "scattergl"
           }
          ],
          "scattermapbox": [
           {
            "marker": {
             "colorbar": {
              "outlinewidth": 0,
              "ticks": ""
             }
            },
            "type": "scattermapbox"
           }
          ],
          "scatterpolar": [
           {
            "marker": {
             "colorbar": {
              "outlinewidth": 0,
              "ticks": ""
             }
            },
            "type": "scatterpolar"
           }
          ],
          "scatterpolargl": [
           {
            "marker": {
             "colorbar": {
              "outlinewidth": 0,
              "ticks": ""
             }
            },
            "type": "scatterpolargl"
           }
          ],
          "scatterternary": [
           {
            "marker": {
             "colorbar": {
              "outlinewidth": 0,
              "ticks": ""
             }
            },
            "type": "scatterternary"
           }
          ],
          "surface": [
           {
            "colorbar": {
             "outlinewidth": 0,
             "ticks": ""
            },
            "colorscale": [
             [
              0,
              "#0d0887"
             ],
             [
              0.1111111111111111,
              "#46039f"
             ],
             [
              0.2222222222222222,
              "#7201a8"
             ],
             [
              0.3333333333333333,
              "#9c179e"
             ],
             [
              0.4444444444444444,
              "#bd3786"
             ],
             [
              0.5555555555555556,
              "#d8576b"
             ],
             [
              0.6666666666666666,
              "#ed7953"
             ],
             [
              0.7777777777777778,
              "#fb9f3a"
             ],
             [
              0.8888888888888888,
              "#fdca26"
             ],
             [
              1,
              "#f0f921"
             ]
            ],
            "type": "surface"
           }
          ],
          "table": [
           {
            "cells": {
             "fill": {
              "color": "#EBF0F8"
             },
             "line": {
              "color": "white"
             }
            },
            "header": {
             "fill": {
              "color": "#C8D4E3"
             },
             "line": {
              "color": "white"
             }
            },
            "type": "table"
           }
          ]
         },
         "layout": {
          "annotationdefaults": {
           "arrowcolor": "#2a3f5f",
           "arrowhead": 0,
           "arrowwidth": 1
          },
          "autotypenumbers": "strict",
          "coloraxis": {
           "colorbar": {
            "outlinewidth": 0,
            "ticks": ""
           }
          },
          "colorscale": {
           "diverging": [
            [
             0,
             "#8e0152"
            ],
            [
             0.1,
             "#c51b7d"
            ],
            [
             0.2,
             "#de77ae"
            ],
            [
             0.3,
             "#f1b6da"
            ],
            [
             0.4,
             "#fde0ef"
            ],
            [
             0.5,
             "#f7f7f7"
            ],
            [
             0.6,
             "#e6f5d0"
            ],
            [
             0.7,
             "#b8e186"
            ],
            [
             0.8,
             "#7fbc41"
            ],
            [
             0.9,
             "#4d9221"
            ],
            [
             1,
             "#276419"
            ]
           ],
           "sequential": [
            [
             0,
             "#0d0887"
            ],
            [
             0.1111111111111111,
             "#46039f"
            ],
            [
             0.2222222222222222,
             "#7201a8"
            ],
            [
             0.3333333333333333,
             "#9c179e"
            ],
            [
             0.4444444444444444,
             "#bd3786"
            ],
            [
             0.5555555555555556,
             "#d8576b"
            ],
            [
             0.6666666666666666,
             "#ed7953"
            ],
            [
             0.7777777777777778,
             "#fb9f3a"
            ],
            [
             0.8888888888888888,
             "#fdca26"
            ],
            [
             1,
             "#f0f921"
            ]
           ],
           "sequentialminus": [
            [
             0,
             "#0d0887"
            ],
            [
             0.1111111111111111,
             "#46039f"
            ],
            [
             0.2222222222222222,
             "#7201a8"
            ],
            [
             0.3333333333333333,
             "#9c179e"
            ],
            [
             0.4444444444444444,
             "#bd3786"
            ],
            [
             0.5555555555555556,
             "#d8576b"
            ],
            [
             0.6666666666666666,
             "#ed7953"
            ],
            [
             0.7777777777777778,
             "#fb9f3a"
            ],
            [
             0.8888888888888888,
             "#fdca26"
            ],
            [
             1,
             "#f0f921"
            ]
           ]
          },
          "colorway": [
           "#636efa",
           "#EF553B",
           "#00cc96",
           "#ab63fa",
           "#FFA15A",
           "#19d3f3",
           "#FF6692",
           "#B6E880",
           "#FF97FF",
           "#FECB52"
          ],
          "font": {
           "color": "#2a3f5f"
          },
          "geo": {
           "bgcolor": "white",
           "lakecolor": "white",
           "landcolor": "#E5ECF6",
           "showlakes": true,
           "showland": true,
           "subunitcolor": "white"
          },
          "hoverlabel": {
           "align": "left"
          },
          "hovermode": "closest",
          "mapbox": {
           "style": "light"
          },
          "paper_bgcolor": "white",
          "plot_bgcolor": "#E5ECF6",
          "polar": {
           "angularaxis": {
            "gridcolor": "white",
            "linecolor": "white",
            "ticks": ""
           },
           "bgcolor": "#E5ECF6",
           "radialaxis": {
            "gridcolor": "white",
            "linecolor": "white",
            "ticks": ""
           }
          },
          "scene": {
           "xaxis": {
            "backgroundcolor": "#E5ECF6",
            "gridcolor": "white",
            "gridwidth": 2,
            "linecolor": "white",
            "showbackground": true,
            "ticks": "",
            "zerolinecolor": "white"
           },
           "yaxis": {
            "backgroundcolor": "#E5ECF6",
            "gridcolor": "white",
            "gridwidth": 2,
            "linecolor": "white",
            "showbackground": true,
            "ticks": "",
            "zerolinecolor": "white"
           },
           "zaxis": {
            "backgroundcolor": "#E5ECF6",
            "gridcolor": "white",
            "gridwidth": 2,
            "linecolor": "white",
            "showbackground": true,
            "ticks": "",
            "zerolinecolor": "white"
           }
          },
          "shapedefaults": {
           "line": {
            "color": "#2a3f5f"
           }
          },
          "ternary": {
           "aaxis": {
            "gridcolor": "white",
            "linecolor": "white",
            "ticks": ""
           },
           "baxis": {
            "gridcolor": "white",
            "linecolor": "white",
            "ticks": ""
           },
           "bgcolor": "#E5ECF6",
           "caxis": {
            "gridcolor": "white",
            "linecolor": "white",
            "ticks": ""
           }
          },
          "title": {
           "x": 0.05
          },
          "xaxis": {
           "automargin": true,
           "gridcolor": "white",
           "linecolor": "white",
           "ticks": "",
           "title": {
            "standoff": 15
           },
           "zerolinecolor": "white",
           "zerolinewidth": 2
          },
          "yaxis": {
           "automargin": true,
           "gridcolor": "white",
           "linecolor": "white",
           "ticks": "",
           "title": {
            "standoff": 15
           },
           "zerolinecolor": "white",
           "zerolinewidth": 2
          }
         }
        }
       }
      }
     },
     "metadata": {},
     "output_type": "display_data"
    }
   ],
   "source": [
    "fig = px.treemap(journals, path=[px.Constant('World'),'countries','Source title'], values = 'counts', color='counts', color_continuous_scale='Blues')\n",
    "fig.update_traces(root_color=\"lightgrey\")\n",
    "fig.update_layout(margin = dict(t=50, l=25, r=25, b=25))\n",
    "fig.update_traces(marker=dict(cornerradius=5))\n",
    "fig.show()"
   ]
  },
  {
   "cell_type": "markdown",
   "metadata": {},
   "source": [
    "# Funding"
   ]
  },
  {
   "cell_type": "code",
   "execution_count": 167,
   "metadata": {},
   "outputs": [
    {
     "data": {
      "text/html": [
       "<div>\n",
       "<style scoped>\n",
       "    .dataframe tbody tr th:only-of-type {\n",
       "        vertical-align: middle;\n",
       "    }\n",
       "\n",
       "    .dataframe tbody tr th {\n",
       "        vertical-align: top;\n",
       "    }\n",
       "\n",
       "    .dataframe thead th {\n",
       "        text-align: right;\n",
       "    }\n",
       "</style>\n",
       "<table border=\"1\" class=\"dataframe\">\n",
       "  <thead>\n",
       "    <tr style=\"text-align: right;\">\n",
       "      <th></th>\n",
       "      <th>Funding Entites</th>\n",
       "      <th>counts</th>\n",
       "    </tr>\n",
       "  </thead>\n",
       "  <tbody>\n",
       "    <tr>\n",
       "      <th>0</th>\n",
       "      <td>ACC</td>\n",
       "      <td>1</td>\n",
       "    </tr>\n",
       "    <tr>\n",
       "      <th>1</th>\n",
       "      <td>AHA</td>\n",
       "      <td>1</td>\n",
       "    </tr>\n",
       "    <tr>\n",
       "      <th>2</th>\n",
       "      <td>ANR</td>\n",
       "      <td>1</td>\n",
       "    </tr>\n",
       "    <tr>\n",
       "      <th>3</th>\n",
       "      <td>ANR‐11‐IDEX‐0005‐02</td>\n",
       "      <td>1</td>\n",
       "    </tr>\n",
       "    <tr>\n",
       "      <th>4</th>\n",
       "      <td>ASH</td>\n",
       "      <td>1</td>\n",
       "    </tr>\n",
       "    <tr>\n",
       "      <th>...</th>\n",
       "      <td>...</td>\n",
       "      <td>...</td>\n",
       "    </tr>\n",
       "    <tr>\n",
       "      <th>161</th>\n",
       "      <td>Yale University</td>\n",
       "      <td>1</td>\n",
       "    </tr>\n",
       "    <tr>\n",
       "      <th>162</th>\n",
       "      <td>Yeshiva University</td>\n",
       "      <td>1</td>\n",
       "    </tr>\n",
       "    <tr>\n",
       "      <th>163</th>\n",
       "      <td>Z01DK075008</td>\n",
       "      <td>1</td>\n",
       "    </tr>\n",
       "    <tr>\n",
       "      <th>164</th>\n",
       "      <td>de Pessoal de N&amp;#x00ED;vel Superior</td>\n",
       "      <td>1</td>\n",
       "    </tr>\n",
       "    <tr>\n",
       "      <th>165</th>\n",
       "      <td>the National Institutes of Health</td>\n",
       "      <td>2</td>\n",
       "    </tr>\n",
       "  </tbody>\n",
       "</table>\n",
       "<p>166 rows × 2 columns</p>\n",
       "</div>"
      ],
      "text/plain": [
       "                         Funding Entites  counts\n",
       "0                                    ACC       1\n",
       "1                                    AHA       1\n",
       "2                                    ANR       1\n",
       "3                    ANR‐11‐IDEX‐0005‐02       1\n",
       "4                                    ASH       1\n",
       "..                                   ...     ...\n",
       "161                      Yale University       1\n",
       "162                   Yeshiva University       1\n",
       "163                          Z01DK075008       1\n",
       "164  de Pessoal de N&#x00ED;vel Superior       1\n",
       "165    the National Institutes of Health       2\n",
       "\n",
       "[166 rows x 2 columns]"
      ]
     },
     "execution_count": 167,
     "metadata": {},
     "output_type": "execute_result"
    }
   ],
   "source": [
    "df_funding_ents"
   ]
  },
  {
   "cell_type": "code",
   "execution_count": 185,
   "metadata": {},
   "outputs": [
    {
     "data": {
      "text/html": [
       "<div>\n",
       "<style scoped>\n",
       "    .dataframe tbody tr th:only-of-type {\n",
       "        vertical-align: middle;\n",
       "    }\n",
       "\n",
       "    .dataframe tbody tr th {\n",
       "        vertical-align: top;\n",
       "    }\n",
       "\n",
       "    .dataframe thead th {\n",
       "        text-align: right;\n",
       "    }\n",
       "</style>\n",
       "<table border=\"1\" class=\"dataframe\">\n",
       "  <thead>\n",
       "    <tr style=\"text-align: right;\">\n",
       "      <th></th>\n",
       "      <th>Funding Entities</th>\n",
       "      <th>countries</th>\n",
       "    </tr>\n",
       "  </thead>\n",
       "  <tbody>\n",
       "    <tr>\n",
       "      <th>0</th>\n",
       "      <td>[]</td>\n",
       "      <td>['United States']</td>\n",
       "    </tr>\n",
       "    <tr>\n",
       "      <th>1</th>\n",
       "      <td>[]</td>\n",
       "      <td>['France', ' Guadeloupe']</td>\n",
       "    </tr>\n",
       "    <tr>\n",
       "      <th>2</th>\n",
       "      <td>[Albert Einstein College of Medicine, Yeshiva ...</td>\n",
       "      <td>['United States']</td>\n",
       "    </tr>\n",
       "    <tr>\n",
       "      <th>3</th>\n",
       "      <td>[National Research Foundation]</td>\n",
       "      <td>['South Korea']</td>\n",
       "    </tr>\n",
       "    <tr>\n",
       "      <th>4</th>\n",
       "      <td>[]</td>\n",
       "      <td>['United Kingdom']</td>\n",
       "    </tr>\n",
       "    <tr>\n",
       "      <th>...</th>\n",
       "      <td>...</td>\n",
       "      <td>...</td>\n",
       "    </tr>\n",
       "    <tr>\n",
       "      <th>794</th>\n",
       "      <td>[]</td>\n",
       "      <td>['']</td>\n",
       "    </tr>\n",
       "    <tr>\n",
       "      <th>795</th>\n",
       "      <td>[]</td>\n",
       "      <td>['']</td>\n",
       "    </tr>\n",
       "    <tr>\n",
       "      <th>796</th>\n",
       "      <td>[]</td>\n",
       "      <td>['']</td>\n",
       "    </tr>\n",
       "    <tr>\n",
       "      <th>797</th>\n",
       "      <td>[]</td>\n",
       "      <td>['']</td>\n",
       "    </tr>\n",
       "    <tr>\n",
       "      <th>798</th>\n",
       "      <td>[]</td>\n",
       "      <td>['United States']</td>\n",
       "    </tr>\n",
       "  </tbody>\n",
       "</table>\n",
       "<p>799 rows × 2 columns</p>\n",
       "</div>"
      ],
      "text/plain": [
       "                                      Funding Entities  \\\n",
       "0                                                   []   \n",
       "1                                                   []   \n",
       "2    [Albert Einstein College of Medicine, Yeshiva ...   \n",
       "3                       [National Research Foundation]   \n",
       "4                                                   []   \n",
       "..                                                 ...   \n",
       "794                                                 []   \n",
       "795                                                 []   \n",
       "796                                                 []   \n",
       "797                                                 []   \n",
       "798                                                 []   \n",
       "\n",
       "                     countries  \n",
       "0            ['United States']  \n",
       "1    ['France', ' Guadeloupe']  \n",
       "2            ['United States']  \n",
       "3              ['South Korea']  \n",
       "4           ['United Kingdom']  \n",
       "..                         ...  \n",
       "794                       ['']  \n",
       "795                       ['']  \n",
       "796                       ['']  \n",
       "797                       ['']  \n",
       "798          ['United States']  \n",
       "\n",
       "[799 rows x 2 columns]"
      ]
     },
     "execution_count": 185,
     "metadata": {},
     "output_type": "execute_result"
    }
   ],
   "source": [
    "funding_df = data[['Funding Entities','countries']]\n",
    "funding_df"
   ]
  },
  {
   "cell_type": "code",
   "execution_count": 186,
   "metadata": {},
   "outputs": [],
   "source": [
    "funding_df = funding_df[funding_df['Funding Entities']!='[]']"
   ]
  },
  {
   "cell_type": "code",
   "execution_count": 187,
   "metadata": {},
   "outputs": [
    {
     "data": {
      "text/html": [
       "<div>\n",
       "<style scoped>\n",
       "    .dataframe tbody tr th:only-of-type {\n",
       "        vertical-align: middle;\n",
       "    }\n",
       "\n",
       "    .dataframe tbody tr th {\n",
       "        vertical-align: top;\n",
       "    }\n",
       "\n",
       "    .dataframe thead th {\n",
       "        text-align: right;\n",
       "    }\n",
       "</style>\n",
       "<table border=\"1\" class=\"dataframe\">\n",
       "  <thead>\n",
       "    <tr style=\"text-align: right;\">\n",
       "      <th></th>\n",
       "      <th>Funding Entities</th>\n",
       "      <th>countries</th>\n",
       "    </tr>\n",
       "  </thead>\n",
       "  <tbody>\n",
       "    <tr>\n",
       "      <th>2</th>\n",
       "      <td>[Albert Einstein College of Medicine, Yeshiva ...</td>\n",
       "      <td>['United States']</td>\n",
       "    </tr>\n",
       "    <tr>\n",
       "      <th>3</th>\n",
       "      <td>[National Research Foundation]</td>\n",
       "      <td>['South Korea']</td>\n",
       "    </tr>\n",
       "    <tr>\n",
       "      <th>5</th>\n",
       "      <td>[Ministry of Science, ICT, Future Planning, Na...</td>\n",
       "      <td>['Pakistan', ' South Korea']</td>\n",
       "    </tr>\n",
       "    <tr>\n",
       "      <th>6</th>\n",
       "      <td>[National Heart, Blood Institute]</td>\n",
       "      <td>['United Kingdom', ' Ghana', ' Niger', ' Niger...</td>\n",
       "    </tr>\n",
       "    <tr>\n",
       "      <th>9</th>\n",
       "      <td>[Fundação de Amparo à Pesquisa, Conselho Nacio...</td>\n",
       "      <td>['Brazil']</td>\n",
       "    </tr>\n",
       "    <tr>\n",
       "      <th>...</th>\n",
       "      <td>...</td>\n",
       "      <td>...</td>\n",
       "    </tr>\n",
       "    <tr>\n",
       "      <th>766</th>\n",
       "      <td>[U.S. Public Health Service, USPHS, National H...</td>\n",
       "      <td>['United States']</td>\n",
       "    </tr>\n",
       "    <tr>\n",
       "      <th>777</th>\n",
       "      <td>[Wellcome Trust, WT]</td>\n",
       "      <td>['United Kingdom', ' Jamaica']</td>\n",
       "    </tr>\n",
       "    <tr>\n",
       "      <th>778</th>\n",
       "      <td>[Wellcome Trust, WT]</td>\n",
       "      <td>['United Kingdom', ' Jamaica']</td>\n",
       "    </tr>\n",
       "    <tr>\n",
       "      <th>781</th>\n",
       "      <td>[Wellcome Trust, WT]</td>\n",
       "      <td>['United Kingdom', ' Jamaica']</td>\n",
       "    </tr>\n",
       "    <tr>\n",
       "      <th>786</th>\n",
       "      <td>[U.S. Public Health Service, USPHS]</td>\n",
       "      <td>['United States']</td>\n",
       "    </tr>\n",
       "  </tbody>\n",
       "</table>\n",
       "<p>189 rows × 2 columns</p>\n",
       "</div>"
      ],
      "text/plain": [
       "                                      Funding Entities  \\\n",
       "2    [Albert Einstein College of Medicine, Yeshiva ...   \n",
       "3                       [National Research Foundation]   \n",
       "5    [Ministry of Science, ICT, Future Planning, Na...   \n",
       "6                    [National Heart, Blood Institute]   \n",
       "9    [Fundação de Amparo à Pesquisa, Conselho Nacio...   \n",
       "..                                                 ...   \n",
       "766  [U.S. Public Health Service, USPHS, National H...   \n",
       "777                               [Wellcome Trust, WT]   \n",
       "778                               [Wellcome Trust, WT]   \n",
       "781                               [Wellcome Trust, WT]   \n",
       "786                [U.S. Public Health Service, USPHS]   \n",
       "\n",
       "                                             countries  \n",
       "2                                    ['United States']  \n",
       "3                                      ['South Korea']  \n",
       "5                         ['Pakistan', ' South Korea']  \n",
       "6    ['United Kingdom', ' Ghana', ' Niger', ' Niger...  \n",
       "9                                           ['Brazil']  \n",
       "..                                                 ...  \n",
       "766                                  ['United States']  \n",
       "777                     ['United Kingdom', ' Jamaica']  \n",
       "778                     ['United Kingdom', ' Jamaica']  \n",
       "781                     ['United Kingdom', ' Jamaica']  \n",
       "786                                  ['United States']  \n",
       "\n",
       "[189 rows x 2 columns]"
      ]
     },
     "execution_count": 187,
     "metadata": {},
     "output_type": "execute_result"
    }
   ],
   "source": [
    "funding_df"
   ]
  },
  {
   "cell_type": "code",
   "execution_count": 180,
   "metadata": {},
   "outputs": [
    {
     "name": "stderr",
     "output_type": "stream",
     "text": [
      "C:\\Users\\Sherrif\\AppData\\Local\\Temp\\ipykernel_1188\\509984488.py:1: SettingWithCopyWarning:\n",
      "\n",
      "\n",
      "A value is trying to be set on a copy of a slice from a DataFrame.\n",
      "Try using .loc[row_indexer,col_indexer] = value instead\n",
      "\n",
      "See the caveats in the documentation: https://pandas.pydata.org/pandas-docs/stable/user_guide/indexing.html#returning-a-view-versus-a-copy\n",
      "\n"
     ]
    },
    {
     "data": {
      "text/html": [
       "<div>\n",
       "<style scoped>\n",
       "    .dataframe tbody tr th:only-of-type {\n",
       "        vertical-align: middle;\n",
       "    }\n",
       "\n",
       "    .dataframe tbody tr th {\n",
       "        vertical-align: top;\n",
       "    }\n",
       "\n",
       "    .dataframe thead th {\n",
       "        text-align: right;\n",
       "    }\n",
       "</style>\n",
       "<table border=\"1\" class=\"dataframe\">\n",
       "  <thead>\n",
       "    <tr style=\"text-align: right;\">\n",
       "      <th></th>\n",
       "      <th>Funding Entities</th>\n",
       "      <th>countries</th>\n",
       "    </tr>\n",
       "  </thead>\n",
       "  <tbody>\n",
       "    <tr>\n",
       "      <th>2</th>\n",
       "      <td>[Albert Einstein College of Medicine, Yeshiva ...</td>\n",
       "      <td>[United States]</td>\n",
       "    </tr>\n",
       "    <tr>\n",
       "      <th>3</th>\n",
       "      <td>[National Research Foundation]</td>\n",
       "      <td>[South Korea]</td>\n",
       "    </tr>\n",
       "    <tr>\n",
       "      <th>5</th>\n",
       "      <td>[Ministry of Science, ICT, Future Planning, Na...</td>\n",
       "      <td>[Pakistan,  South Korea]</td>\n",
       "    </tr>\n",
       "    <tr>\n",
       "      <th>6</th>\n",
       "      <td>[National Heart, Blood Institute]</td>\n",
       "      <td>[United Kingdom,  Ghana,  Niger,  Nigeria,  So...</td>\n",
       "    </tr>\n",
       "    <tr>\n",
       "      <th>9</th>\n",
       "      <td>[Fundação de Amparo à Pesquisa, Conselho Nacio...</td>\n",
       "      <td>[Brazil]</td>\n",
       "    </tr>\n",
       "    <tr>\n",
       "      <th>...</th>\n",
       "      <td>...</td>\n",
       "      <td>...</td>\n",
       "    </tr>\n",
       "    <tr>\n",
       "      <th>766</th>\n",
       "      <td>[U.S. Public Health Service, USPHS, National H...</td>\n",
       "      <td>[United States]</td>\n",
       "    </tr>\n",
       "    <tr>\n",
       "      <th>777</th>\n",
       "      <td>[Wellcome Trust, WT]</td>\n",
       "      <td>[United Kingdom,  Jamaica]</td>\n",
       "    </tr>\n",
       "    <tr>\n",
       "      <th>778</th>\n",
       "      <td>[Wellcome Trust, WT]</td>\n",
       "      <td>[United Kingdom,  Jamaica]</td>\n",
       "    </tr>\n",
       "    <tr>\n",
       "      <th>781</th>\n",
       "      <td>[Wellcome Trust, WT]</td>\n",
       "      <td>[United Kingdom,  Jamaica]</td>\n",
       "    </tr>\n",
       "    <tr>\n",
       "      <th>786</th>\n",
       "      <td>[U.S. Public Health Service, USPHS]</td>\n",
       "      <td>[United States]</td>\n",
       "    </tr>\n",
       "  </tbody>\n",
       "</table>\n",
       "<p>189 rows × 2 columns</p>\n",
       "</div>"
      ],
      "text/plain": [
       "                                      Funding Entities  \\\n",
       "2    [Albert Einstein College of Medicine, Yeshiva ...   \n",
       "3                       [National Research Foundation]   \n",
       "5    [Ministry of Science, ICT, Future Planning, Na...   \n",
       "6                    [National Heart, Blood Institute]   \n",
       "9    [Fundação de Amparo à Pesquisa, Conselho Nacio...   \n",
       "..                                                 ...   \n",
       "766  [U.S. Public Health Service, USPHS, National H...   \n",
       "777                               [Wellcome Trust, WT]   \n",
       "778                               [Wellcome Trust, WT]   \n",
       "781                               [Wellcome Trust, WT]   \n",
       "786                [U.S. Public Health Service, USPHS]   \n",
       "\n",
       "                                             countries  \n",
       "2                                      [United States]  \n",
       "3                                        [South Korea]  \n",
       "5                             [Pakistan,  South Korea]  \n",
       "6    [United Kingdom,  Ghana,  Niger,  Nigeria,  So...  \n",
       "9                                             [Brazil]  \n",
       "..                                                 ...  \n",
       "766                                    [United States]  \n",
       "777                         [United Kingdom,  Jamaica]  \n",
       "778                         [United Kingdom,  Jamaica]  \n",
       "781                         [United Kingdom,  Jamaica]  \n",
       "786                                    [United States]  \n",
       "\n",
       "[189 rows x 2 columns]"
      ]
     },
     "execution_count": 180,
     "metadata": {},
     "output_type": "execute_result"
    }
   ],
   "source": [
    "funding_df['countries']=funding_df['countries'].apply(lambda row: literal_eval(row))\n",
    "funding_df"
   ]
  },
  {
   "cell_type": "code",
   "execution_count": 191,
   "metadata": {},
   "outputs": [
    {
     "name": "stderr",
     "output_type": "stream",
     "text": [
      "C:\\Users\\Sherrif\\AppData\\Local\\Temp\\ipykernel_1188\\1817027175.py:1: SettingWithCopyWarning:\n",
      "\n",
      "\n",
      "A value is trying to be set on a copy of a slice from a DataFrame.\n",
      "Try using .loc[row_indexer,col_indexer] = value instead\n",
      "\n",
      "See the caveats in the documentation: https://pandas.pydata.org/pandas-docs/stable/user_guide/indexing.html#returning-a-view-versus-a-copy\n",
      "\n",
      "C:\\Users\\Sherrif\\AppData\\Local\\Temp\\ipykernel_1188\\1817027175.py:2: SettingWithCopyWarning:\n",
      "\n",
      "\n",
      "A value is trying to be set on a copy of a slice from a DataFrame.\n",
      "Try using .loc[row_indexer,col_indexer] = value instead\n",
      "\n",
      "See the caveats in the documentation: https://pandas.pydata.org/pandas-docs/stable/user_guide/indexing.html#returning-a-view-versus-a-copy\n",
      "\n"
     ]
    },
    {
     "data": {
      "text/html": [
       "<div>\n",
       "<style scoped>\n",
       "    .dataframe tbody tr th:only-of-type {\n",
       "        vertical-align: middle;\n",
       "    }\n",
       "\n",
       "    .dataframe tbody tr th {\n",
       "        vertical-align: top;\n",
       "    }\n",
       "\n",
       "    .dataframe thead th {\n",
       "        text-align: right;\n",
       "    }\n",
       "</style>\n",
       "<table border=\"1\" class=\"dataframe\">\n",
       "  <thead>\n",
       "    <tr style=\"text-align: right;\">\n",
       "      <th></th>\n",
       "      <th>Funding Entities</th>\n",
       "      <th>countries</th>\n",
       "    </tr>\n",
       "  </thead>\n",
       "  <tbody>\n",
       "    <tr>\n",
       "      <th>2</th>\n",
       "      <td>[Albert Einstein College of Medicine,  Yeshiva...</td>\n",
       "      <td>['United States']</td>\n",
       "    </tr>\n",
       "    <tr>\n",
       "      <th>3</th>\n",
       "      <td>[National Research Foundation]</td>\n",
       "      <td>['South Korea']</td>\n",
       "    </tr>\n",
       "    <tr>\n",
       "      <th>5</th>\n",
       "      <td>[Ministry of Science,  ICT,  Future Planning, ...</td>\n",
       "      <td>['Pakistan', ' South Korea']</td>\n",
       "    </tr>\n",
       "    <tr>\n",
       "      <th>6</th>\n",
       "      <td>[National Heart,  Blood Institute]</td>\n",
       "      <td>['United Kingdom', ' Ghana', ' Niger', ' Niger...</td>\n",
       "    </tr>\n",
       "    <tr>\n",
       "      <th>9</th>\n",
       "      <td>[Fundação de Amparo à Pesquisa,  Conselho Naci...</td>\n",
       "      <td>['Brazil']</td>\n",
       "    </tr>\n",
       "    <tr>\n",
       "      <th>...</th>\n",
       "      <td>...</td>\n",
       "      <td>...</td>\n",
       "    </tr>\n",
       "    <tr>\n",
       "      <th>766</th>\n",
       "      <td>[U.S. Public Health Service,  USPHS,  National...</td>\n",
       "      <td>['United States']</td>\n",
       "    </tr>\n",
       "    <tr>\n",
       "      <th>777</th>\n",
       "      <td>[Wellcome Trust,  WT]</td>\n",
       "      <td>['United Kingdom', ' Jamaica']</td>\n",
       "    </tr>\n",
       "    <tr>\n",
       "      <th>778</th>\n",
       "      <td>[Wellcome Trust,  WT]</td>\n",
       "      <td>['United Kingdom', ' Jamaica']</td>\n",
       "    </tr>\n",
       "    <tr>\n",
       "      <th>781</th>\n",
       "      <td>[Wellcome Trust,  WT]</td>\n",
       "      <td>['United Kingdom', ' Jamaica']</td>\n",
       "    </tr>\n",
       "    <tr>\n",
       "      <th>786</th>\n",
       "      <td>[U.S. Public Health Service,  USPHS]</td>\n",
       "      <td>['United States']</td>\n",
       "    </tr>\n",
       "  </tbody>\n",
       "</table>\n",
       "<p>189 rows × 2 columns</p>\n",
       "</div>"
      ],
      "text/plain": [
       "                                      Funding Entities  \\\n",
       "2    [Albert Einstein College of Medicine,  Yeshiva...   \n",
       "3                       [National Research Foundation]   \n",
       "5    [Ministry of Science,  ICT,  Future Planning, ...   \n",
       "6                   [National Heart,  Blood Institute]   \n",
       "9    [Fundação de Amparo à Pesquisa,  Conselho Naci...   \n",
       "..                                                 ...   \n",
       "766  [U.S. Public Health Service,  USPHS,  National...   \n",
       "777                              [Wellcome Trust,  WT]   \n",
       "778                              [Wellcome Trust,  WT]   \n",
       "781                              [Wellcome Trust,  WT]   \n",
       "786               [U.S. Public Health Service,  USPHS]   \n",
       "\n",
       "                                             countries  \n",
       "2                                    ['United States']  \n",
       "3                                      ['South Korea']  \n",
       "5                         ['Pakistan', ' South Korea']  \n",
       "6    ['United Kingdom', ' Ghana', ' Niger', ' Niger...  \n",
       "9                                           ['Brazil']  \n",
       "..                                                 ...  \n",
       "766                                  ['United States']  \n",
       "777                     ['United Kingdom', ' Jamaica']  \n",
       "778                     ['United Kingdom', ' Jamaica']  \n",
       "781                     ['United Kingdom', ' Jamaica']  \n",
       "786                                  ['United States']  \n",
       "\n",
       "[189 rows x 2 columns]"
      ]
     },
     "execution_count": 191,
     "metadata": {},
     "output_type": "execute_result"
    }
   ],
   "source": [
    "funding_df ['Funding Entities'] = funding_df ['Funding Entities'].str.replace('[','').str.replace(\"'\",'').str.replace(']','')\n",
    "funding_df ['Funding Entities']=funding_df ['Funding Entities'].str.split(',')\n",
    "funding_df"
   ]
  },
  {
   "cell_type": "code",
   "execution_count": 192,
   "metadata": {},
   "outputs": [
    {
     "name": "stdout",
     "output_type": "stream",
     "text": [
      "<class 'str'> <class 'list'>\n",
      "<class 'str'> <class 'list'>\n",
      "<class 'str'> <class 'list'>\n",
      "<class 'str'> <class 'list'>\n",
      "<class 'str'> <class 'list'>\n",
      "<class 'str'> <class 'list'>\n",
      "<class 'str'> <class 'list'>\n",
      "<class 'str'> <class 'list'>\n",
      "<class 'str'> <class 'list'>\n",
      "<class 'str'> <class 'list'>\n",
      "<class 'str'> <class 'list'>\n",
      "<class 'str'> <class 'list'>\n",
      "<class 'str'> <class 'list'>\n",
      "<class 'str'> <class 'list'>\n",
      "<class 'str'> <class 'list'>\n",
      "<class 'str'> <class 'list'>\n",
      "<class 'str'> <class 'list'>\n",
      "<class 'str'> <class 'list'>\n",
      "<class 'str'> <class 'list'>\n",
      "<class 'str'> <class 'list'>\n",
      "<class 'str'> <class 'list'>\n",
      "<class 'str'> <class 'list'>\n",
      "<class 'str'> <class 'list'>\n",
      "<class 'str'> <class 'list'>\n",
      "<class 'str'> <class 'list'>\n",
      "<class 'str'> <class 'list'>\n",
      "<class 'str'> <class 'list'>\n",
      "<class 'str'> <class 'list'>\n",
      "<class 'str'> <class 'list'>\n",
      "<class 'str'> <class 'list'>\n",
      "<class 'str'> <class 'list'>\n",
      "<class 'str'> <class 'list'>\n",
      "<class 'str'> <class 'list'>\n",
      "<class 'str'> <class 'list'>\n",
      "<class 'str'> <class 'list'>\n",
      "<class 'str'> <class 'list'>\n",
      "<class 'str'> <class 'list'>\n",
      "<class 'str'> <class 'list'>\n",
      "<class 'str'> <class 'list'>\n",
      "<class 'str'> <class 'list'>\n",
      "<class 'str'> <class 'list'>\n",
      "<class 'str'> <class 'list'>\n",
      "<class 'str'> <class 'list'>\n",
      "<class 'str'> <class 'list'>\n",
      "<class 'str'> <class 'list'>\n",
      "<class 'str'> <class 'list'>\n",
      "<class 'str'> <class 'list'>\n",
      "<class 'str'> <class 'list'>\n",
      "<class 'str'> <class 'list'>\n",
      "<class 'str'> <class 'list'>\n",
      "<class 'str'> <class 'list'>\n",
      "<class 'str'> <class 'list'>\n",
      "<class 'str'> <class 'list'>\n",
      "<class 'str'> <class 'list'>\n",
      "<class 'str'> <class 'list'>\n",
      "<class 'str'> <class 'list'>\n",
      "<class 'str'> <class 'list'>\n",
      "<class 'str'> <class 'list'>\n",
      "<class 'str'> <class 'list'>\n",
      "<class 'str'> <class 'list'>\n",
      "<class 'str'> <class 'list'>\n",
      "<class 'str'> <class 'list'>\n",
      "<class 'str'> <class 'list'>\n",
      "<class 'str'> <class 'list'>\n",
      "<class 'str'> <class 'list'>\n",
      "<class 'str'> <class 'list'>\n",
      "<class 'str'> <class 'list'>\n",
      "<class 'str'> <class 'list'>\n",
      "<class 'str'> <class 'list'>\n",
      "<class 'str'> <class 'list'>\n",
      "<class 'str'> <class 'list'>\n",
      "<class 'str'> <class 'list'>\n",
      "<class 'str'> <class 'list'>\n",
      "<class 'str'> <class 'list'>\n",
      "<class 'str'> <class 'list'>\n",
      "<class 'str'> <class 'list'>\n",
      "<class 'str'> <class 'list'>\n",
      "<class 'str'> <class 'list'>\n",
      "<class 'str'> <class 'list'>\n",
      "<class 'str'> <class 'list'>\n",
      "<class 'str'> <class 'list'>\n",
      "<class 'str'> <class 'list'>\n",
      "<class 'str'> <class 'list'>\n",
      "<class 'str'> <class 'list'>\n",
      "<class 'str'> <class 'list'>\n",
      "<class 'str'> <class 'list'>\n",
      "<class 'str'> <class 'list'>\n",
      "<class 'str'> <class 'list'>\n",
      "<class 'str'> <class 'list'>\n",
      "<class 'str'> <class 'list'>\n",
      "<class 'str'> <class 'list'>\n",
      "<class 'str'> <class 'list'>\n",
      "<class 'str'> <class 'list'>\n",
      "<class 'str'> <class 'list'>\n",
      "<class 'str'> <class 'list'>\n",
      "<class 'str'> <class 'list'>\n",
      "<class 'str'> <class 'list'>\n",
      "<class 'str'> <class 'list'>\n",
      "<class 'str'> <class 'list'>\n",
      "<class 'str'> <class 'list'>\n",
      "<class 'str'> <class 'list'>\n",
      "<class 'str'> <class 'list'>\n",
      "<class 'str'> <class 'list'>\n",
      "<class 'str'> <class 'list'>\n",
      "<class 'str'> <class 'list'>\n",
      "<class 'str'> <class 'list'>\n",
      "<class 'str'> <class 'list'>\n",
      "<class 'str'> <class 'list'>\n",
      "<class 'str'> <class 'list'>\n",
      "<class 'str'> <class 'list'>\n",
      "<class 'str'> <class 'list'>\n",
      "<class 'str'> <class 'list'>\n",
      "<class 'str'> <class 'list'>\n",
      "<class 'str'> <class 'list'>\n",
      "<class 'str'> <class 'list'>\n",
      "<class 'str'> <class 'list'>\n",
      "<class 'str'> <class 'list'>\n",
      "<class 'str'> <class 'list'>\n",
      "<class 'str'> <class 'list'>\n",
      "<class 'str'> <class 'list'>\n",
      "<class 'str'> <class 'list'>\n",
      "<class 'str'> <class 'list'>\n",
      "<class 'str'> <class 'list'>\n",
      "<class 'str'> <class 'list'>\n",
      "<class 'str'> <class 'list'>\n",
      "<class 'str'> <class 'list'>\n",
      "<class 'str'> <class 'list'>\n",
      "<class 'str'> <class 'list'>\n",
      "<class 'str'> <class 'list'>\n",
      "<class 'str'> <class 'list'>\n",
      "<class 'str'> <class 'list'>\n",
      "<class 'str'> <class 'list'>\n",
      "<class 'str'> <class 'list'>\n",
      "<class 'str'> <class 'list'>\n",
      "<class 'str'> <class 'list'>\n",
      "<class 'str'> <class 'list'>\n",
      "<class 'str'> <class 'list'>\n",
      "<class 'str'> <class 'list'>\n",
      "<class 'str'> <class 'list'>\n",
      "<class 'str'> <class 'list'>\n",
      "<class 'str'> <class 'list'>\n",
      "<class 'str'> <class 'list'>\n",
      "<class 'str'> <class 'list'>\n",
      "<class 'str'> <class 'list'>\n",
      "<class 'str'> <class 'list'>\n",
      "<class 'str'> <class 'list'>\n",
      "<class 'str'> <class 'list'>\n",
      "<class 'str'> <class 'list'>\n",
      "<class 'str'> <class 'list'>\n",
      "<class 'str'> <class 'list'>\n",
      "<class 'str'> <class 'list'>\n",
      "<class 'str'> <class 'list'>\n",
      "<class 'str'> <class 'list'>\n",
      "<class 'str'> <class 'list'>\n",
      "<class 'str'> <class 'list'>\n",
      "<class 'str'> <class 'list'>\n",
      "<class 'str'> <class 'list'>\n",
      "<class 'str'> <class 'list'>\n",
      "<class 'str'> <class 'list'>\n",
      "<class 'str'> <class 'list'>\n",
      "<class 'str'> <class 'list'>\n",
      "<class 'str'> <class 'list'>\n",
      "<class 'str'> <class 'list'>\n",
      "<class 'str'> <class 'list'>\n",
      "<class 'str'> <class 'list'>\n",
      "<class 'str'> <class 'list'>\n",
      "<class 'str'> <class 'list'>\n",
      "<class 'str'> <class 'list'>\n",
      "<class 'str'> <class 'list'>\n",
      "<class 'str'> <class 'list'>\n",
      "<class 'str'> <class 'list'>\n",
      "<class 'str'> <class 'list'>\n",
      "<class 'str'> <class 'list'>\n",
      "<class 'str'> <class 'list'>\n",
      "<class 'str'> <class 'list'>\n",
      "<class 'str'> <class 'list'>\n",
      "<class 'str'> <class 'list'>\n",
      "<class 'str'> <class 'list'>\n",
      "<class 'str'> <class 'list'>\n",
      "<class 'str'> <class 'list'>\n",
      "<class 'str'> <class 'list'>\n",
      "<class 'str'> <class 'list'>\n",
      "<class 'str'> <class 'list'>\n",
      "<class 'str'> <class 'list'>\n",
      "<class 'str'> <class 'list'>\n",
      "<class 'str'> <class 'list'>\n",
      "<class 'str'> <class 'list'>\n",
      "<class 'str'> <class 'list'>\n",
      "<class 'str'> <class 'list'>\n"
     ]
    }
   ],
   "source": [
    "for index, row in df.iterrows():\n",
    "    print (type(row[0]), type(row[1]))"
   ]
  },
  {
   "cell_type": "code",
   "execution_count": 207,
   "metadata": {},
   "outputs": [
    {
     "data": {
      "text/html": [
       "<div>\n",
       "<style scoped>\n",
       "    .dataframe tbody tr th:only-of-type {\n",
       "        vertical-align: middle;\n",
       "    }\n",
       "\n",
       "    .dataframe tbody tr th {\n",
       "        vertical-align: top;\n",
       "    }\n",
       "\n",
       "    .dataframe thead th {\n",
       "        text-align: right;\n",
       "    }\n",
       "</style>\n",
       "<table border=\"1\" class=\"dataframe\">\n",
       "  <thead>\n",
       "    <tr style=\"text-align: right;\">\n",
       "      <th></th>\n",
       "      <th>Funding Entities</th>\n",
       "      <th>countries</th>\n",
       "    </tr>\n",
       "  </thead>\n",
       "  <tbody>\n",
       "    <tr>\n",
       "      <th>2</th>\n",
       "      <td>Albert Einstein College of Medicine</td>\n",
       "      <td>['United States']</td>\n",
       "    </tr>\n",
       "    <tr>\n",
       "      <th>2</th>\n",
       "      <td>Yeshiva University</td>\n",
       "      <td>['United States']</td>\n",
       "    </tr>\n",
       "    <tr>\n",
       "      <th>3</th>\n",
       "      <td>National Research Foundation</td>\n",
       "      <td>['South Korea']</td>\n",
       "    </tr>\n",
       "    <tr>\n",
       "      <th>5</th>\n",
       "      <td>Ministry of Science</td>\n",
       "      <td>['Pakistan', ' South Korea']</td>\n",
       "    </tr>\n",
       "    <tr>\n",
       "      <th>5</th>\n",
       "      <td>ICT</td>\n",
       "      <td>['Pakistan', ' South Korea']</td>\n",
       "    </tr>\n",
       "    <tr>\n",
       "      <th>...</th>\n",
       "      <td>...</td>\n",
       "      <td>...</td>\n",
       "    </tr>\n",
       "    <tr>\n",
       "      <th>778</th>\n",
       "      <td>WT</td>\n",
       "      <td>['United Kingdom', ' Jamaica']</td>\n",
       "    </tr>\n",
       "    <tr>\n",
       "      <th>781</th>\n",
       "      <td>Wellcome Trust</td>\n",
       "      <td>['United Kingdom', ' Jamaica']</td>\n",
       "    </tr>\n",
       "    <tr>\n",
       "      <th>781</th>\n",
       "      <td>WT</td>\n",
       "      <td>['United Kingdom', ' Jamaica']</td>\n",
       "    </tr>\n",
       "    <tr>\n",
       "      <th>786</th>\n",
       "      <td>U.S. Public Health Service</td>\n",
       "      <td>['United States']</td>\n",
       "    </tr>\n",
       "    <tr>\n",
       "      <th>786</th>\n",
       "      <td>USPHS</td>\n",
       "      <td>['United States']</td>\n",
       "    </tr>\n",
       "  </tbody>\n",
       "</table>\n",
       "<p>615 rows × 2 columns</p>\n",
       "</div>"
      ],
      "text/plain": [
       "                        Funding Entities                       countries\n",
       "2    Albert Einstein College of Medicine               ['United States']\n",
       "2                     Yeshiva University               ['United States']\n",
       "3           National Research Foundation                 ['South Korea']\n",
       "5                    Ministry of Science    ['Pakistan', ' South Korea']\n",
       "5                                    ICT    ['Pakistan', ' South Korea']\n",
       "..                                   ...                             ...\n",
       "778                                   WT  ['United Kingdom', ' Jamaica']\n",
       "781                       Wellcome Trust  ['United Kingdom', ' Jamaica']\n",
       "781                                   WT  ['United Kingdom', ' Jamaica']\n",
       "786           U.S. Public Health Service               ['United States']\n",
       "786                                USPHS               ['United States']\n",
       "\n",
       "[615 rows x 2 columns]"
      ]
     },
     "execution_count": 207,
     "metadata": {},
     "output_type": "execute_result"
    }
   ],
   "source": [
    "df= funding_df.explode('Funding Entities')\n",
    "df"
   ]
  },
  {
   "cell_type": "code",
   "execution_count": 208,
   "metadata": {},
   "outputs": [],
   "source": [
    "df['Funding Entities'] = df['Funding Entities'].replace(r\"^ +| +$\", r\"\", regex=True)\n",
    "\n",
    "\n"
   ]
  },
  {
   "cell_type": "code",
   "execution_count": 209,
   "metadata": {},
   "outputs": [
    {
     "data": {
      "text/html": [
       "<div>\n",
       "<style scoped>\n",
       "    .dataframe tbody tr th:only-of-type {\n",
       "        vertical-align: middle;\n",
       "    }\n",
       "\n",
       "    .dataframe tbody tr th {\n",
       "        vertical-align: top;\n",
       "    }\n",
       "\n",
       "    .dataframe thead th {\n",
       "        text-align: right;\n",
       "    }\n",
       "</style>\n",
       "<table border=\"1\" class=\"dataframe\">\n",
       "  <thead>\n",
       "    <tr style=\"text-align: right;\">\n",
       "      <th></th>\n",
       "      <th>Funding Entities</th>\n",
       "      <th>countries</th>\n",
       "    </tr>\n",
       "  </thead>\n",
       "  <tbody>\n",
       "    <tr>\n",
       "      <th>2</th>\n",
       "      <td>Albert Einstein College of Medicine</td>\n",
       "      <td>['United States']</td>\n",
       "    </tr>\n",
       "    <tr>\n",
       "      <th>2</th>\n",
       "      <td>Yeshiva University</td>\n",
       "      <td>['United States']</td>\n",
       "    </tr>\n",
       "    <tr>\n",
       "      <th>3</th>\n",
       "      <td>National Research Foundation</td>\n",
       "      <td>['South Korea']</td>\n",
       "    </tr>\n",
       "    <tr>\n",
       "      <th>5</th>\n",
       "      <td>Ministry of Science</td>\n",
       "      <td>['Pakistan', ' South Korea']</td>\n",
       "    </tr>\n",
       "    <tr>\n",
       "      <th>5</th>\n",
       "      <td>ICT</td>\n",
       "      <td>['Pakistan', ' South Korea']</td>\n",
       "    </tr>\n",
       "    <tr>\n",
       "      <th>...</th>\n",
       "      <td>...</td>\n",
       "      <td>...</td>\n",
       "    </tr>\n",
       "    <tr>\n",
       "      <th>778</th>\n",
       "      <td>WT</td>\n",
       "      <td>['United Kingdom', ' Jamaica']</td>\n",
       "    </tr>\n",
       "    <tr>\n",
       "      <th>781</th>\n",
       "      <td>Wellcome Trust</td>\n",
       "      <td>['United Kingdom', ' Jamaica']</td>\n",
       "    </tr>\n",
       "    <tr>\n",
       "      <th>781</th>\n",
       "      <td>WT</td>\n",
       "      <td>['United Kingdom', ' Jamaica']</td>\n",
       "    </tr>\n",
       "    <tr>\n",
       "      <th>786</th>\n",
       "      <td>U.S. Public Health Service</td>\n",
       "      <td>['United States']</td>\n",
       "    </tr>\n",
       "    <tr>\n",
       "      <th>786</th>\n",
       "      <td>USPHS</td>\n",
       "      <td>['United States']</td>\n",
       "    </tr>\n",
       "  </tbody>\n",
       "</table>\n",
       "<p>615 rows × 2 columns</p>\n",
       "</div>"
      ],
      "text/plain": [
       "                        Funding Entities                       countries\n",
       "2    Albert Einstein College of Medicine               ['United States']\n",
       "2                     Yeshiva University               ['United States']\n",
       "3           National Research Foundation                 ['South Korea']\n",
       "5                    Ministry of Science    ['Pakistan', ' South Korea']\n",
       "5                                    ICT    ['Pakistan', ' South Korea']\n",
       "..                                   ...                             ...\n",
       "778                                   WT  ['United Kingdom', ' Jamaica']\n",
       "781                       Wellcome Trust  ['United Kingdom', ' Jamaica']\n",
       "781                                   WT  ['United Kingdom', ' Jamaica']\n",
       "786           U.S. Public Health Service               ['United States']\n",
       "786                                USPHS               ['United States']\n",
       "\n",
       "[615 rows x 2 columns]"
      ]
     },
     "execution_count": 209,
     "metadata": {},
     "output_type": "execute_result"
    }
   ],
   "source": [
    "df"
   ]
  },
  {
   "cell_type": "code",
   "execution_count": 210,
   "metadata": {},
   "outputs": [
    {
     "data": {
      "text/html": [
       "<div>\n",
       "<style scoped>\n",
       "    .dataframe tbody tr th:only-of-type {\n",
       "        vertical-align: middle;\n",
       "    }\n",
       "\n",
       "    .dataframe tbody tr th {\n",
       "        vertical-align: top;\n",
       "    }\n",
       "\n",
       "    .dataframe thead th {\n",
       "        text-align: right;\n",
       "    }\n",
       "</style>\n",
       "<table border=\"1\" class=\"dataframe\">\n",
       "  <thead>\n",
       "    <tr style=\"text-align: right;\">\n",
       "      <th></th>\n",
       "      <th>Funding Entities</th>\n",
       "      <th>countries</th>\n",
       "    </tr>\n",
       "  </thead>\n",
       "  <tbody>\n",
       "    <tr>\n",
       "      <th>2</th>\n",
       "      <td>Albert Einstein College of Medicine</td>\n",
       "      <td>['United States']</td>\n",
       "    </tr>\n",
       "    <tr>\n",
       "      <th>2</th>\n",
       "      <td>Yeshiva University</td>\n",
       "      <td>['United States']</td>\n",
       "    </tr>\n",
       "    <tr>\n",
       "      <th>3</th>\n",
       "      <td>National Research Foundation</td>\n",
       "      <td>['South Korea']</td>\n",
       "    </tr>\n",
       "    <tr>\n",
       "      <th>5</th>\n",
       "      <td>Ministry of Science</td>\n",
       "      <td>['Pakistan', ' South Korea']</td>\n",
       "    </tr>\n",
       "    <tr>\n",
       "      <th>5</th>\n",
       "      <td>ICT</td>\n",
       "      <td>['Pakistan', ' South Korea']</td>\n",
       "    </tr>\n",
       "    <tr>\n",
       "      <th>...</th>\n",
       "      <td>...</td>\n",
       "      <td>...</td>\n",
       "    </tr>\n",
       "    <tr>\n",
       "      <th>778</th>\n",
       "      <td>WT</td>\n",
       "      <td>['United Kingdom', ' Jamaica']</td>\n",
       "    </tr>\n",
       "    <tr>\n",
       "      <th>781</th>\n",
       "      <td>Wellcome Trust</td>\n",
       "      <td>['United Kingdom', ' Jamaica']</td>\n",
       "    </tr>\n",
       "    <tr>\n",
       "      <th>781</th>\n",
       "      <td>WT</td>\n",
       "      <td>['United Kingdom', ' Jamaica']</td>\n",
       "    </tr>\n",
       "    <tr>\n",
       "      <th>786</th>\n",
       "      <td>U.S. Public Health Service</td>\n",
       "      <td>['United States']</td>\n",
       "    </tr>\n",
       "    <tr>\n",
       "      <th>786</th>\n",
       "      <td>USPHS</td>\n",
       "      <td>['United States']</td>\n",
       "    </tr>\n",
       "  </tbody>\n",
       "</table>\n",
       "<p>615 rows × 2 columns</p>\n",
       "</div>"
      ],
      "text/plain": [
       "                        Funding Entities                       countries\n",
       "2    Albert Einstein College of Medicine               ['United States']\n",
       "2                     Yeshiva University               ['United States']\n",
       "3           National Research Foundation                 ['South Korea']\n",
       "5                    Ministry of Science    ['Pakistan', ' South Korea']\n",
       "5                                    ICT    ['Pakistan', ' South Korea']\n",
       "..                                   ...                             ...\n",
       "778                                   WT  ['United Kingdom', ' Jamaica']\n",
       "781                       Wellcome Trust  ['United Kingdom', ' Jamaica']\n",
       "781                                   WT  ['United Kingdom', ' Jamaica']\n",
       "786           U.S. Public Health Service               ['United States']\n",
       "786                                USPHS               ['United States']\n",
       "\n",
       "[615 rows x 2 columns]"
      ]
     },
     "execution_count": 210,
     "metadata": {},
     "output_type": "execute_result"
    }
   ],
   "source": [
    "to_replace = ['Blood Institute','National Heart','Lung Institute']\n",
    "df['Funding Entities'].loc[df['Funding Entities'].isin(to_replace)] = 'National Heart,Lung and Blood Institute'\n",
    "df"
   ]
  },
  {
   "cell_type": "code",
   "execution_count": 211,
   "metadata": {},
   "outputs": [
    {
     "data": {
      "text/html": [
       "<div>\n",
       "<style scoped>\n",
       "    .dataframe tbody tr th:only-of-type {\n",
       "        vertical-align: middle;\n",
       "    }\n",
       "\n",
       "    .dataframe tbody tr th {\n",
       "        vertical-align: top;\n",
       "    }\n",
       "\n",
       "    .dataframe thead th {\n",
       "        text-align: right;\n",
       "    }\n",
       "</style>\n",
       "<table border=\"1\" class=\"dataframe\">\n",
       "  <thead>\n",
       "    <tr style=\"text-align: right;\">\n",
       "      <th></th>\n",
       "      <th>Funding Entities</th>\n",
       "      <th>countries</th>\n",
       "    </tr>\n",
       "  </thead>\n",
       "  <tbody>\n",
       "    <tr>\n",
       "      <th>2</th>\n",
       "      <td>Albert Einstein College of Medicine</td>\n",
       "      <td>[United States]</td>\n",
       "    </tr>\n",
       "    <tr>\n",
       "      <th>2</th>\n",
       "      <td>Yeshiva University</td>\n",
       "      <td>[United States]</td>\n",
       "    </tr>\n",
       "    <tr>\n",
       "      <th>3</th>\n",
       "      <td>National Research Foundation</td>\n",
       "      <td>[South Korea]</td>\n",
       "    </tr>\n",
       "    <tr>\n",
       "      <th>5</th>\n",
       "      <td>Ministry of Science</td>\n",
       "      <td>[Pakistan,  South Korea]</td>\n",
       "    </tr>\n",
       "    <tr>\n",
       "      <th>5</th>\n",
       "      <td>ICT</td>\n",
       "      <td>[Pakistan,  South Korea]</td>\n",
       "    </tr>\n",
       "    <tr>\n",
       "      <th>...</th>\n",
       "      <td>...</td>\n",
       "      <td>...</td>\n",
       "    </tr>\n",
       "    <tr>\n",
       "      <th>778</th>\n",
       "      <td>WT</td>\n",
       "      <td>[United Kingdom,  Jamaica]</td>\n",
       "    </tr>\n",
       "    <tr>\n",
       "      <th>781</th>\n",
       "      <td>Wellcome Trust</td>\n",
       "      <td>[United Kingdom,  Jamaica]</td>\n",
       "    </tr>\n",
       "    <tr>\n",
       "      <th>781</th>\n",
       "      <td>WT</td>\n",
       "      <td>[United Kingdom,  Jamaica]</td>\n",
       "    </tr>\n",
       "    <tr>\n",
       "      <th>786</th>\n",
       "      <td>U.S. Public Health Service</td>\n",
       "      <td>[United States]</td>\n",
       "    </tr>\n",
       "    <tr>\n",
       "      <th>786</th>\n",
       "      <td>USPHS</td>\n",
       "      <td>[United States]</td>\n",
       "    </tr>\n",
       "  </tbody>\n",
       "</table>\n",
       "<p>615 rows × 2 columns</p>\n",
       "</div>"
      ],
      "text/plain": [
       "                        Funding Entities                   countries\n",
       "2    Albert Einstein College of Medicine             [United States]\n",
       "2                     Yeshiva University             [United States]\n",
       "3           National Research Foundation               [South Korea]\n",
       "5                    Ministry of Science    [Pakistan,  South Korea]\n",
       "5                                    ICT    [Pakistan,  South Korea]\n",
       "..                                   ...                         ...\n",
       "778                                   WT  [United Kingdom,  Jamaica]\n",
       "781                       Wellcome Trust  [United Kingdom,  Jamaica]\n",
       "781                                   WT  [United Kingdom,  Jamaica]\n",
       "786           U.S. Public Health Service             [United States]\n",
       "786                                USPHS             [United States]\n",
       "\n",
       "[615 rows x 2 columns]"
      ]
     },
     "execution_count": 211,
     "metadata": {},
     "output_type": "execute_result"
    }
   ],
   "source": [
    "df.countries = df.countries.apply(lambda row: literal_eval(row))\n",
    "df"
   ]
  },
  {
   "cell_type": "code",
   "execution_count": 212,
   "metadata": {},
   "outputs": [
    {
     "data": {
      "text/html": [
       "<div>\n",
       "<style scoped>\n",
       "    .dataframe tbody tr th:only-of-type {\n",
       "        vertical-align: middle;\n",
       "    }\n",
       "\n",
       "    .dataframe tbody tr th {\n",
       "        vertical-align: top;\n",
       "    }\n",
       "\n",
       "    .dataframe thead th {\n",
       "        text-align: right;\n",
       "    }\n",
       "</style>\n",
       "<table border=\"1\" class=\"dataframe\">\n",
       "  <thead>\n",
       "    <tr style=\"text-align: right;\">\n",
       "      <th></th>\n",
       "      <th>Funding Entities</th>\n",
       "      <th>countries</th>\n",
       "    </tr>\n",
       "  </thead>\n",
       "  <tbody>\n",
       "    <tr>\n",
       "      <th>2</th>\n",
       "      <td>Albert Einstein College of Medicine</td>\n",
       "      <td>United States</td>\n",
       "    </tr>\n",
       "    <tr>\n",
       "      <th>2</th>\n",
       "      <td>Yeshiva University</td>\n",
       "      <td>United States</td>\n",
       "    </tr>\n",
       "    <tr>\n",
       "      <th>3</th>\n",
       "      <td>National Research Foundation</td>\n",
       "      <td>South Korea</td>\n",
       "    </tr>\n",
       "    <tr>\n",
       "      <th>5</th>\n",
       "      <td>Ministry of Science</td>\n",
       "      <td>Pakistan</td>\n",
       "    </tr>\n",
       "    <tr>\n",
       "      <th>5</th>\n",
       "      <td>Ministry of Science</td>\n",
       "      <td>South Korea</td>\n",
       "    </tr>\n",
       "    <tr>\n",
       "      <th>...</th>\n",
       "      <td>...</td>\n",
       "      <td>...</td>\n",
       "    </tr>\n",
       "    <tr>\n",
       "      <th>781</th>\n",
       "      <td>Wellcome Trust</td>\n",
       "      <td>Jamaica</td>\n",
       "    </tr>\n",
       "    <tr>\n",
       "      <th>781</th>\n",
       "      <td>WT</td>\n",
       "      <td>United Kingdom</td>\n",
       "    </tr>\n",
       "    <tr>\n",
       "      <th>781</th>\n",
       "      <td>WT</td>\n",
       "      <td>Jamaica</td>\n",
       "    </tr>\n",
       "    <tr>\n",
       "      <th>786</th>\n",
       "      <td>U.S. Public Health Service</td>\n",
       "      <td>United States</td>\n",
       "    </tr>\n",
       "    <tr>\n",
       "      <th>786</th>\n",
       "      <td>USPHS</td>\n",
       "      <td>United States</td>\n",
       "    </tr>\n",
       "  </tbody>\n",
       "</table>\n",
       "<p>838 rows × 2 columns</p>\n",
       "</div>"
      ],
      "text/plain": [
       "                        Funding Entities       countries\n",
       "2    Albert Einstein College of Medicine   United States\n",
       "2                     Yeshiva University   United States\n",
       "3           National Research Foundation     South Korea\n",
       "5                    Ministry of Science        Pakistan\n",
       "5                    Ministry of Science     South Korea\n",
       "..                                   ...             ...\n",
       "781                       Wellcome Trust         Jamaica\n",
       "781                                   WT  United Kingdom\n",
       "781                                   WT         Jamaica\n",
       "786           U.S. Public Health Service   United States\n",
       "786                                USPHS   United States\n",
       "\n",
       "[838 rows x 2 columns]"
      ]
     },
     "execution_count": 212,
     "metadata": {},
     "output_type": "execute_result"
    }
   ],
   "source": [
    "df = df.explode('countries')\n",
    "df"
   ]
  },
  {
   "cell_type": "code",
   "execution_count": 213,
   "metadata": {},
   "outputs": [
    {
     "data": {
      "text/html": [
       "<div>\n",
       "<style scoped>\n",
       "    .dataframe tbody tr th:only-of-type {\n",
       "        vertical-align: middle;\n",
       "    }\n",
       "\n",
       "    .dataframe tbody tr th {\n",
       "        vertical-align: top;\n",
       "    }\n",
       "\n",
       "    .dataframe thead th {\n",
       "        text-align: right;\n",
       "    }\n",
       "</style>\n",
       "<table border=\"1\" class=\"dataframe\">\n",
       "  <thead>\n",
       "    <tr style=\"text-align: right;\">\n",
       "      <th></th>\n",
       "      <th>Funding Entities</th>\n",
       "      <th>countries</th>\n",
       "    </tr>\n",
       "  </thead>\n",
       "  <tbody>\n",
       "    <tr>\n",
       "      <th>2</th>\n",
       "      <td>Albert Einstein College of Medicine</td>\n",
       "      <td>United States</td>\n",
       "    </tr>\n",
       "    <tr>\n",
       "      <th>2</th>\n",
       "      <td>Yeshiva University</td>\n",
       "      <td>United States</td>\n",
       "    </tr>\n",
       "    <tr>\n",
       "      <th>3</th>\n",
       "      <td>National Research Foundation</td>\n",
       "      <td>South Korea</td>\n",
       "    </tr>\n",
       "    <tr>\n",
       "      <th>5</th>\n",
       "      <td>Ministry of Science</td>\n",
       "      <td>Pakistan</td>\n",
       "    </tr>\n",
       "    <tr>\n",
       "      <th>5</th>\n",
       "      <td>Ministry of Science</td>\n",
       "      <td>South Korea</td>\n",
       "    </tr>\n",
       "    <tr>\n",
       "      <th>...</th>\n",
       "      <td>...</td>\n",
       "      <td>...</td>\n",
       "    </tr>\n",
       "    <tr>\n",
       "      <th>781</th>\n",
       "      <td>Wellcome Trust</td>\n",
       "      <td>Jamaica</td>\n",
       "    </tr>\n",
       "    <tr>\n",
       "      <th>781</th>\n",
       "      <td>WT</td>\n",
       "      <td>United Kingdom</td>\n",
       "    </tr>\n",
       "    <tr>\n",
       "      <th>781</th>\n",
       "      <td>WT</td>\n",
       "      <td>Jamaica</td>\n",
       "    </tr>\n",
       "    <tr>\n",
       "      <th>786</th>\n",
       "      <td>U.S. Public Health Service</td>\n",
       "      <td>United States</td>\n",
       "    </tr>\n",
       "    <tr>\n",
       "      <th>786</th>\n",
       "      <td>USPHS</td>\n",
       "      <td>United States</td>\n",
       "    </tr>\n",
       "  </tbody>\n",
       "</table>\n",
       "<p>838 rows × 2 columns</p>\n",
       "</div>"
      ],
      "text/plain": [
       "                        Funding Entities       countries\n",
       "2    Albert Einstein College of Medicine   United States\n",
       "2                     Yeshiva University   United States\n",
       "3           National Research Foundation     South Korea\n",
       "5                    Ministry of Science        Pakistan\n",
       "5                    Ministry of Science     South Korea\n",
       "..                                   ...             ...\n",
       "781                       Wellcome Trust         Jamaica\n",
       "781                                   WT  United Kingdom\n",
       "781                                   WT         Jamaica\n",
       "786           U.S. Public Health Service   United States\n",
       "786                                USPHS   United States\n",
       "\n",
       "[838 rows x 2 columns]"
      ]
     },
     "execution_count": 213,
     "metadata": {},
     "output_type": "execute_result"
    }
   ],
   "source": [
    "df['countries'] = df['countries'].replace(r\"^ +| +$\", r\"\", regex=True)\n",
    "df"
   ]
  },
  {
   "cell_type": "code",
   "execution_count": 214,
   "metadata": {},
   "outputs": [
    {
     "data": {
      "text/html": [
       "<div>\n",
       "<style scoped>\n",
       "    .dataframe tbody tr th:only-of-type {\n",
       "        vertical-align: middle;\n",
       "    }\n",
       "\n",
       "    .dataframe tbody tr th {\n",
       "        vertical-align: top;\n",
       "    }\n",
       "\n",
       "    .dataframe thead th {\n",
       "        text-align: right;\n",
       "    }\n",
       "</style>\n",
       "<table border=\"1\" class=\"dataframe\">\n",
       "  <thead>\n",
       "    <tr style=\"text-align: right;\">\n",
       "      <th></th>\n",
       "      <th>countries</th>\n",
       "      <th>Funding Entities</th>\n",
       "      <th>Times Funded</th>\n",
       "    </tr>\n",
       "  </thead>\n",
       "  <tbody>\n",
       "    <tr>\n",
       "      <th>0</th>\n",
       "      <td></td>\n",
       "      <td>DDCF</td>\n",
       "      <td>1</td>\n",
       "    </tr>\n",
       "    <tr>\n",
       "      <th>1</th>\n",
       "      <td></td>\n",
       "      <td>Doris Duke Charitable Foundation</td>\n",
       "      <td>1</td>\n",
       "    </tr>\n",
       "    <tr>\n",
       "      <th>2</th>\n",
       "      <td></td>\n",
       "      <td>NIH</td>\n",
       "      <td>2</td>\n",
       "    </tr>\n",
       "    <tr>\n",
       "      <th>3</th>\n",
       "      <td></td>\n",
       "      <td>National Center for Advancing Translational Sc...</td>\n",
       "      <td>1</td>\n",
       "    </tr>\n",
       "    <tr>\n",
       "      <th>4</th>\n",
       "      <td></td>\n",
       "      <td>National Eye Institute</td>\n",
       "      <td>1</td>\n",
       "    </tr>\n",
       "    <tr>\n",
       "      <th>...</th>\n",
       "      <td>...</td>\n",
       "      <td>...</td>\n",
       "      <td>...</td>\n",
       "    </tr>\n",
       "    <tr>\n",
       "      <th>341</th>\n",
       "      <td>Zambia</td>\n",
       "      <td>Doris Duke Charitable Foundation</td>\n",
       "      <td>1</td>\n",
       "    </tr>\n",
       "    <tr>\n",
       "      <th>342</th>\n",
       "      <td>Zambia</td>\n",
       "      <td>NIH</td>\n",
       "      <td>1</td>\n",
       "    </tr>\n",
       "    <tr>\n",
       "      <th>343</th>\n",
       "      <td>Zambia</td>\n",
       "      <td>National Institutes of Health</td>\n",
       "      <td>1</td>\n",
       "    </tr>\n",
       "    <tr>\n",
       "      <th>344</th>\n",
       "      <td>Zambia</td>\n",
       "      <td>RBF</td>\n",
       "      <td>1</td>\n",
       "    </tr>\n",
       "    <tr>\n",
       "      <th>345</th>\n",
       "      <td>Zambia</td>\n",
       "      <td>Rockefeller Brothers Fund</td>\n",
       "      <td>1</td>\n",
       "    </tr>\n",
       "  </tbody>\n",
       "</table>\n",
       "<p>346 rows × 3 columns</p>\n",
       "</div>"
      ],
      "text/plain": [
       "    countries                                   Funding Entities  Times Funded\n",
       "0                                                           DDCF             1\n",
       "1                               Doris Duke Charitable Foundation             1\n",
       "2                                                            NIH             2\n",
       "3              National Center for Advancing Translational Sc...             1\n",
       "4                                         National Eye Institute             1\n",
       "..        ...                                                ...           ...\n",
       "341    Zambia                   Doris Duke Charitable Foundation             1\n",
       "342    Zambia                                                NIH             1\n",
       "343    Zambia                      National Institutes of Health             1\n",
       "344    Zambia                                                RBF             1\n",
       "345    Zambia                          Rockefeller Brothers Fund             1\n",
       "\n",
       "[346 rows x 3 columns]"
      ]
     },
     "execution_count": 214,
     "metadata": {},
     "output_type": "execute_result"
    }
   ],
   "source": [
    "df['Times Funded']=1\n",
    "df = df.groupby(['countries', 'Funding Entities'])['Times Funded'].sum().reset_index(name='Times Funded')\n",
    "df"
   ]
  },
  {
   "cell_type": "code",
   "execution_count": 221,
   "metadata": {},
   "outputs": [],
   "source": [
    "df.to_csv('../data/processed/funding_treemap_df.csv')"
   ]
  },
  {
   "cell_type": "code",
   "execution_count": 217,
   "metadata": {},
   "outputs": [
    {
     "data": {
      "application/vnd.plotly.v1+json": {
       "config": {
        "plotlyServerURL": "https://plot.ly"
       },
       "data": [
        {
         "branchvalues": "total",
         "customdata": [
          [
           1
          ],
          [
           1
          ],
          [
           1
          ],
          [
           1
          ],
          [
           1
          ],
          [
           1
          ],
          [
           1
          ],
          [
           1
          ],
          [
           1
          ],
          [
           1
          ],
          [
           1
          ],
          [
           1
          ],
          [
           1
          ],
          [
           1
          ],
          [
           1
          ],
          [
           1
          ],
          [
           1
          ],
          [
           1
          ],
          [
           3
          ],
          [
           1
          ],
          [
           1
          ],
          [
           1
          ],
          [
           1
          ],
          [
           1
          ],
          [
           1
          ],
          [
           1
          ],
          [
           2
          ],
          [
           1
          ],
          [
           1
          ],
          [
           2
          ],
          [
           1
          ],
          [
           2
          ],
          [
           1
          ],
          [
           1
          ],
          [
           1
          ],
          [
           1
          ],
          [
           1
          ],
          [
           1
          ],
          [
           1
          ],
          [
           1
          ],
          [
           1
          ],
          [
           1
          ],
          [
           1
          ],
          [
           1
          ],
          [
           1
          ],
          [
           2
          ],
          [
           2
          ],
          [
           2
          ],
          [
           1
          ],
          [
           1
          ],
          [
           1
          ],
          [
           1
          ],
          [
           1
          ],
          [
           1
          ],
          [
           1
          ],
          [
           1
          ],
          [
           4
          ],
          [
           1
          ],
          [
           1
          ],
          [
           1
          ],
          [
           2
          ],
          [
           2
          ],
          [
           4
          ],
          [
           1
          ],
          [
           1
          ],
          [
           1
          ],
          [
           1
          ],
          [
           1
          ],
          [
           2
          ],
          [
           2
          ],
          [
           5
          ],
          [
           1
          ],
          [
           2
          ],
          [
           1
          ],
          [
           1
          ],
          [
           1
          ],
          [
           3
          ],
          [
           1
          ],
          [
           1
          ],
          [
           1
          ],
          [
           1
          ],
          [
           1
          ],
          [
           1
          ],
          [
           1
          ],
          [
           1
          ],
          [
           2
          ],
          [
           2
          ],
          [
           2
          ],
          [
           1
          ],
          [
           7
          ],
          [
           1
          ],
          [
           1
          ],
          [
           1
          ],
          [
           1
          ],
          [
           1
          ],
          [
           1
          ],
          [
           1
          ],
          [
           1
          ],
          [
           1
          ],
          [
           4
          ],
          [
           1
          ],
          [
           1
          ],
          [
           1
          ],
          [
           1
          ],
          [
           1
          ],
          [
           1
          ],
          [
           1
          ],
          [
           1
          ],
          [
           1
          ],
          [
           1
          ],
          [
           1
          ],
          [
           1
          ],
          [
           1
          ],
          [
           1
          ],
          [
           1
          ],
          [
           1
          ],
          [
           2
          ],
          [
           1
          ],
          [
           1
          ],
          [
           1
          ],
          [
           1
          ],
          [
           1
          ],
          [
           1
          ],
          [
           1
          ],
          [
           1
          ],
          [
           1
          ],
          [
           1
          ],
          [
           1
          ],
          [
           1
          ],
          [
           1
          ],
          [
           1
          ],
          [
           1
          ],
          [
           1
          ],
          [
           1
          ],
          [
           1
          ],
          [
           1
          ],
          [
           3
          ],
          [
           1
          ],
          [
           1
          ],
          [
           1
          ],
          [
           1
          ],
          [
           1
          ],
          [
           5
          ],
          [
           2
          ],
          [
           1
          ],
          [
           1
          ],
          [
           1
          ],
          [
           1
          ],
          [
           1
          ],
          [
           1
          ],
          [
           1
          ],
          [
           2
          ],
          [
           1
          ],
          [
           3
          ],
          [
           1
          ],
          [
           1
          ],
          [
           5
          ],
          [
           1
          ],
          [
           1
          ],
          [
           4
          ],
          [
           2
          ],
          [
           1
          ],
          [
           2
          ],
          [
           1
          ],
          [
           2
          ],
          [
           1
          ],
          [
           4
          ],
          [
           1
          ],
          [
           1
          ],
          [
           1
          ],
          [
           1
          ],
          [
           1
          ],
          [
           1
          ],
          [
           42
          ],
          [
           1
          ],
          [
           1
          ],
          [
           1
          ],
          [
           1
          ],
          [
           1
          ],
          [
           3
          ],
          [
           1
          ],
          [
           3
          ],
          [
           1
          ],
          [
           1
          ],
          [
           3
          ],
          [
           1
          ],
          [
           4
          ],
          [
           2
          ],
          [
           1
          ],
          [
           1
          ],
          [
           1
          ],
          [
           4
          ],
          [
           1
          ],
          [
           2
          ],
          [
           1
          ],
          [
           2
          ],
          [
           1
          ],
          [
           62
          ],
          [
           4
          ],
          [
           2
          ],
          [
           4
          ],
          [
           6
          ],
          [
           4
          ],
          [
           2
          ],
          [
           2
          ],
          [
           2
          ],
          [
           18
          ],
          [
           4
          ],
          [
           2
          ],
          [
           2
          ],
          [
           2
          ],
          [
           2
          ],
          [
           6
          ],
          [
           129
          ],
          [
           1
          ],
          [
           1
          ],
          [
           1
          ],
          [
           1
          ],
          [
           1
          ],
          [
           5
          ],
          [
           2
          ],
          [
           2
          ],
          [
           2
          ],
          [
           1
          ],
          [
           2
          ],
          [
           1
          ],
          [
           2
          ],
          [
           1
          ],
          [
           4
          ],
          [
           2
          ],
          [
           1
          ],
          [
           1
          ],
          [
           1
          ],
          [
           1
          ],
          [
           1
          ],
          [
           43
          ],
          [
           1
          ],
          [
           1
          ],
          [
           2
          ],
          [
           1
          ],
          [
           3
          ],
          [
           1
          ],
          [
           1
          ],
          [
           1
          ],
          [
           1
          ],
          [
           3
          ],
          [
           1
          ],
          [
           1
          ],
          [
           2
          ],
          [
           2
          ],
          [
           2
          ],
          [
           2
          ],
          [
           2
          ],
          [
           1
          ],
          [
           1
          ],
          [
           1
          ],
          [
           1
          ],
          [
           14
          ],
          [
           1
          ],
          [
           1
          ],
          [
           1
          ],
          [
           1
          ],
          [
           1
          ],
          [
           1
          ],
          [
           2
          ],
          [
           1
          ],
          [
           1
          ],
          [
           2
          ],
          [
           1
          ],
          [
           1
          ],
          [
           2
          ],
          [
           2
          ],
          [
           2
          ],
          [
           1
          ],
          [
           1
          ],
          [
           2
          ],
          [
           1
          ],
          [
           1
          ],
          [
           1
          ],
          [
           1
          ],
          [
           1
          ],
          [
           1
          ],
          [
           1
          ],
          [
           1
          ],
          [
           1
          ],
          [
           1
          ],
          [
           25
          ],
          [
           1
          ],
          [
           1
          ],
          [
           1
          ],
          [
           1
          ],
          [
           1
          ],
          [
           1
          ],
          [
           1
          ],
          [
           1
          ],
          [
           1
          ],
          [
           1
          ],
          [
           1
          ],
          [
           1
          ],
          [
           1
          ],
          [
           1
          ],
          [
           1
          ],
          [
           2
          ],
          [
           1
          ],
          [
           1
          ],
          [
           1
          ],
          [
           7
          ],
          [
           1
          ],
          [
           1
          ],
          [
           1
          ],
          [
           2
          ],
          [
           1
          ],
          [
           1
          ],
          [
           7
          ],
          [
           1
          ],
          [
           1
          ],
          [
           1
          ],
          [
           1
          ],
          [
           1
          ],
          [
           1
          ],
          [
           1
          ],
          [
           1
          ],
          [
           2
          ],
          [
           1
          ],
          [
           1
          ],
          [
           1
          ],
          [
           4
          ],
          [
           4
          ],
          [
           1
          ],
          [
           4
          ],
          [
           1
          ],
          [
           7
          ],
          [
           2
          ],
          [
           1
          ],
          [
           1
          ],
          [
           1
          ],
          [
           1
          ],
          [
           1
          ],
          [
           1
          ],
          [
           1
          ],
          [
           1
          ],
          [
           1
          ],
          [
           1
          ],
          [
           1
          ],
          [
           1
          ],
          [
           1
          ],
          [
           2.142857142857143
          ],
          [
           1.1111111111111112
          ],
          [
           1
          ],
          [
           3.1481481481481484
          ],
          [
           2.1818181818181817
          ],
          [
           1
          ],
          [
           1
          ],
          [
           2.4375
          ],
          [
           1
          ],
          [
           2.12
          ],
          [
           1
          ],
          [
           2
          ],
          [
           1.6666666666666667
          ],
          [
           1
          ],
          [
           1.25
          ],
          [
           1.3333333333333333
          ],
          [
           10.368421052631579
          ],
          [
           1
          ],
          [
           1
          ],
          [
           1
          ],
          [
           2.0434782608695654
          ],
          [
           1
          ],
          [
           2
          ],
          [
           1
          ],
          [
           1
          ],
          [
           2
          ],
          [
           2
          ],
          [
           1
          ],
          [
           1
          ],
          [
           1
          ],
          [
           2
          ],
          [
           1.4
          ],
          [
           1
          ],
          [
           1
          ],
          [
           1
          ],
          [
           3.789473684210526
          ],
          [
           51.056338028169016
          ],
          [
           1
          ]
         ],
         "domain": {
          "x": [
           0,
           1
          ],
          "y": [
           0,
           1
          ]
         },
         "hovertemplate": "labels=%{label}<br>Times Funded_sum=%{value}<br>parent=%{parent}<br>id=%{id}<br>Times Funded=%{color}<extra></extra>",
         "ids": [
          "Argentina/ACC",
          "United States/ACC",
          "Georgia/AHA",
          "United States/AHA",
          "France/ANR",
          "Mali/ANR",
          "Senegal/ANR",
          "France/ANR‐11‐IDEX‐0005‐02",
          "Mali/ANR‐11‐IDEX‐0005‐02",
          "Senegal/ANR‐11‐IDEX‐0005‐02",
          "Malaysia/ASH",
          "France/Agence Nationale de la Recherche",
          "Mali/Agence Nationale de la Recherche",
          "Senegal/Agence Nationale de la Recherche",
          "United States/Albert Einstein College of Medicine",
          "United States/American Association for Dental",
          "Georgia/American Heart Association",
          "United States/American Heart Association",
          "Malaysia/American Society of Hematology",
          "Argentina/BID",
          "United States/BID",
          "French Guiana/BP 6006",
          "Netherlands/Bayer",
          "Georgia/Biomedical Laboratory Research and Development",
          "United States/Biomedical Laboratory Research and Development",
          "Netherlands/Blood Transfusion Research",
          "Canada/Brandan’s Eye Research Foundation",
          "Hong Kong/Brandan’s Eye Research Foundation",
          "Kuwait/Brandan’s Eye Research Foundation",
          "Malaysia/British Society for Haematology",
          "United States/C06RR016511",
          "Brazil/CAPES",
          "France/CAPES",
          "Italy/CAPES",
          "Monaco/CAPES",
          "Senegal/CAPES",
          "United States/CDC",
          "Zambia/CDC",
          "China/CU",
          "United States/CU",
          "France/Campus France",
          "Senegal/Campus France",
          "Canada/Canada Research Chairs",
          "France/Canada Research Chairs",
          "United States/Canada Research Chairs",
          "Canada/Canadian Institutes of Health Research",
          "France/Canadian Institutes of Health Research",
          "United States/Canadian Institutes of Health Research",
          "Malaysia/Center for Outcomes Research and Evaluation",
          "United States/Centers for Disease Control and Prevention",
          "Zambia/Centers for Disease Control and Prevention",
          "Argentina/Centro de Investigaciones Energéticas",
          "United States/Centro de Investigaciones Energéticas",
          "United States/Colgate-Palmolive Company",
          "Argentina/Consejo Nacional de Investigaciones Científicas",
          "United States/Consejo Nacional de Investigaciones Científicas",
          "Brazil/Conselho Nacional de Desenvolvimento Científico",
          "Brazil/Coordenação de Aperfeiçoamento de Pessoal de Nível Superior",
          "United States/Craniofacial Research",
          "/DDCF",
          "Canada/DDCF",
          "France/DDCF",
          "United States/DDCF",
          "Zambia/DDCF",
          "United Kingdom/De La Salle University",
          "India/Department of Science and Technology",
          "United States/Deutsche Forschungsgemeinschaft",
          "/Doris Duke Charitable Foundation",
          "Canada/Doris Duke Charitable Foundation",
          "France/Doris Duke Charitable Foundation",
          "United States/Doris Duke Charitable Foundation",
          "Zambia/Doris Duke Charitable Foundation",
          "United States/EY01765",
          "United States/EYEY001765",
          "Brazil/Estado de Minas Gerais",
          "Argentina/FFB",
          "United States/FFB",
          "United States/FFS",
          "Uganda/FIC",
          "Brazil/FIOCRUZ",
          "Malawi/FNIH",
          "United Kingdom/FNIH",
          "United States/FNIH",
          "Brazil/FUNTTEL",
          "Uganda/Fogarty International Center",
          "France/Fondation",
          "Italy/Fondazione Città",
          "Argentina/Fondo",
          "United States/Fondo",
          "Brazil/Fundação de Amparo à Pesquisa",
          "United Kingdom/Fundação de Amparo à Pesquisa",
          "United States/Fundação de Amparo à Pesquisa",
          "Pakistan/Future Planning",
          "South Korea/Future Planning",
          "Brazil/G0000111",
          "United Kingdom/G0000111",
          "United States/G0000111",
          "United States/GHF",
          "Italy/Genentech",
          "United States/Genentech",
          "Georgia/Georgia Regents University",
          "United States/Georgia Regents University",
          "United States/Gilead Sciences",
          "United States/Grant Healthcare Foundation",
          "United States/HHS",
          "United States/HOF",
          "Georgia/Health Services Research and Development",
          "United States/Health Services Research and Development",
          "United States/Heed Ophthalmic Foundation",
          "France/Horizon 2020 Framework Programme",
          "Netherlands/Horizon 2020 Framework Programme",
          "Pakistan/ICT",
          "South Korea/ICT",
          "Canada/Icahn School of Medicine",
          "France/Icahn School of Medicine",
          "United States/Icahn School of Medicine",
          "France/Institut National de la Santé et de la Recherche Médicale",
          "French Guiana/Institut National de la Santé et de la Recherche Médicale",
          "Mali/Institut National de la Santé et de la Recherche Médicale",
          "Senegal/Institut National de la Santé et de la Recherche Médicale",
          "Brazil/Instituto Nacional de Ciência e Tecnologia de Estudos",
          "United States/Janssen Pharmaceuticals",
          "China/Jilin University",
          "Brazil/Johns Hopkins University",
          "United States/Johns Hopkins University",
          "United States/K08-EY021189",
          "United States/K23-EY022947-01A1",
          "France/K23HL119627",
          "Guadeloupe/K23HL119627",
          "United States/K23HL119627",
          "Netherlands/LSBR",
          "Netherlands/Landsteiner Foundation",
          "United Kingdom/MRC",
          "United States/MU",
          "United Kingdom/Macula Foundation",
          "United States/Macula Foundation",
          "United States/Marrus Family Foundation",
          "Brazil/Massachusetts Lions Eye Research Fund",
          "United States/Massachusetts Lions Eye Research Fund",
          "Brazil/Medical Research Council",
          "Denmark/Medical Research Council",
          "Malawi/Medical Research Council",
          "United Kingdom/Medical Research Council",
          "United States/Medical Research Council",
          "Argentina/Medioambientales y Tecnológicas",
          "United States/Medioambientales y Tecnológicas",
          "United States/Milbank Foundation",
          "Pakistan/Ministry of Science",
          "South Korea/Ministry of Science",
          "India/Ministry of Science and Technology",
          "Germany/Moorfields Eye Hospital NHS Foundation Trust",
          "United Kingdom/Moorfields Eye Hospital NHS Foundation Trust",
          "China/NCI",
          "United States/NCI",
          "Jamaica/NEI",
          "Malaysia/NEI",
          "United States/NEI",
          "Georgia/NIDDK",
          "Norway/NIDDK",
          "United States/NIDDK",
          "/NIH",
          "Argentina/NIH",
          "Canada/NIH",
          "China/NIH",
          "France/NIH",
          "India/NIH",
          "Jamaica/NIH",
          "Malaysia/NIH",
          "Netherlands/NIH",
          "Norway/NIH",
          "Turkey/NIH",
          "Uganda/NIH",
          "United Kingdom/NIH",
          "United States/NIH",
          "Zambia/NIH",
          "Malaysia/NIHR",
          "United Kingdom/NIHR Bristol Biomedical Research Centre",
          "Canada/NPC",
          "India/NPC",
          "United States/NPC",
          "China/NSF",
          "United States/NSF",
          "Netherlands/NWO",
          "China/National Cancer Institute",
          "United States/National Cancer Institute",
          "/National Center for Advancing Translational Sciences",
          "United States/National Center for Advancing Translational Sciences",
          "United States/National Center for Research Resources",
          "/National Eye Institute",
          "Argentina/National Eye Institute",
          "China/National Eye Institute",
          "Georgia/National Eye Institute",
          "Italy/National Eye Institute",
          "Jamaica/National Eye Institute",
          "Jersey/National Eye Institute",
          "Malaysia/National Eye Institute",
          "Turkey/National Eye Institute",
          "United States/National Eye Institute",
          "/National Heart,Lung and Blood Institute",
          "Brazil/National Heart,Lung and Blood Institute",
          "Canada/National Heart,Lung and Blood Institute",
          "France/National Heart,Lung and Blood Institute",
          "Georgia/National Heart,Lung and Blood Institute",
          "Ghana/National Heart,Lung and Blood Institute",
          "Guadeloupe/National Heart,Lung and Blood Institute",
          "India/National Heart,Lung and Blood Institute",
          "Jamaica/National Heart,Lung and Blood Institute",
          "Malaysia/National Heart,Lung and Blood Institute",
          "Mexico/National Heart,Lung and Blood Institute",
          "Niger/National Heart,Lung and Blood Institute",
          "Nigeria/National Heart,Lung and Blood Institute",
          "South Africa/National Heart,Lung and Blood Institute",
          "United Kingdom/National Heart,Lung and Blood Institute",
          "United States/National Heart,Lung and Blood Institute",
          "Malaysia/National Institute for Health Research",
          "United Kingdom/National Institute for Health Research Biomedical Research Centre",
          "Malaysia/National Institute for Health and Care Research",
          "Georgia/National Institute of Diabetes and",
          "Norway/National Institute of Diabetes and",
          "United States/National Institute of Diabetes and",
          "United States/National Institute of General Medical Sciences",
          "United States/National Institute of Neurological Disorders and Stroke",
          "/National Institutes of Health",
          "Argentina/National Institutes of Health",
          "Canada/National Institutes of Health",
          "China/National Institutes of Health",
          "France/National Institutes of Health",
          "India/National Institutes of Health",
          "Jamaica/National Institutes of Health",
          "Malaysia/National Institutes of Health",
          "Netherlands/National Institutes of Health",
          "Norway/National Institutes of Health",
          "Turkey/National Institutes of Health",
          "Uganda/National Institutes of Health",
          "United Kingdom/National Institutes of Health",
          "United States/National Institutes of Health",
          "Zambia/National Institutes of Health",
          "Pakistan/National Research Foundation",
          "South Korea/National Research Foundation",
          "China/National Science Foundation",
          "United States/National Science Foundation",
          "United States/New York Eye",
          "United States/NorthShore University HealthSystem",
          "Canada/Novartis Pharmaceuticals Corporation",
          "India/Novartis Pharmaceuticals Corporation",
          "United States/Novartis Pharmaceuticals Corporation",
          "Argentina/OC-AR PICT N",
          "United States/OC-AR PICT N",
          "Georgia/ORD",
          "United States/ORD",
          "Georgia/Office of Research and Development",
          "United States/Office of Research and Development",
          "United States/P01HL055552",
          "United States/P20GM103446",
          "United States/P30CA008748",
          "Argentina/P30EY001765",
          "China/P30EY001765",
          "United States/P30EY001765",
          "United States/PHS",
          "Netherlands/Pfizer",
          "United States/Pfizer",
          "United States/R00NS060764",
          "United States/R01 EY023522 R01",
          "Argentina/R01EY009357",
          "United States/R01EY009357",
          "Georgia/R01EY011766",
          "United States/R01EY011766",
          "United States/R01EY024969",
          "Turkey/R01EY030101",
          "United States/R01EY030101",
          "Canada/R01HL068922",
          "France/R01HL068922",
          "United States/R01HL068922",
          "Georgia/R01HL070215",
          "United States/R01HL070215",
          "United States/R01HL111659",
          "Georgia/RBC",
          "United States/RBC",
          "United States/RBF",
          "Zambia/RBF",
          "/RPB",
          "Argentina/RPB",
          "China/RPB",
          "Jamaica/RPB",
          "Malaysia/RPB",
          "Turkey/RPB",
          "United States/RPB",
          "Brazil/RTI",
          "United Kingdom/RTI",
          "United States/RTI",
          "United States/Regeneron Pharmaceuticals",
          "Brazil/Research Triangle Institute",
          "United Kingdom/Research Triangle Institute",
          "United States/Research Triangle Institute",
          "United States/Research to Prevent Blindness",
          "United States/Rockefeller Brothers Fund",
          "Zambia/Rockefeller Brothers Fund",
          "Georgia/Royal Bank of Canada",
          "United States/Royal Bank of Canada",
          "Argentina/SECYT",
          "United States/SECYT",
          "Georgia/U.S. Department",
          "United States/U.S. Department",
          "/U.S. Department of Defense",
          "United States/U.S. Department of Defense",
          "United States/U.S. Department of Health and Human Services",
          "United States/U.S. Public Health Service",
          "United States/U01EY025477",
          "United Kingdom/UCL Institute of Ophthalmology",
          "United States/UIC",
          "United States/UL1TR001873",
          "Argentina/UNC",
          "United States/UNC",
          "United States/USPHS",
          "Argentina/Universidad de Buenos Aires",
          "United States/Universidad de Buenos Aires",
          "China/University of Colorado",
          "United States/University of Colorado",
          "United States/University of Illinois",
          "United States/University of Illinois at Chicago",
          "United States/University of Missouri",
          "Georgia/Veterans Affairs",
          "United States/Veterans Affairs",
          "Australia/Victoria University",
          "Switzerland/Victoria University",
          "United States/VitreoRetinal Surgery Foundation",
          "Jamaica/WT",
          "United Kingdom/WT",
          "United States/WT",
          "Jamaica/Wellcome Trust",
          "Malawi/Wellcome Trust",
          "United Kingdom/Wellcome Trust",
          "United States/Wellcome Trust",
          "Malaysia/Yale School of Medicine",
          "United States/Yale University",
          "United States/Yeshiva University",
          "United States/Z01DK075008",
          "Brazil/de Pessoal de N&#x00ED;vel Superior",
          "France/de Pessoal de N&#x00ED;vel Superior",
          "Italy/de Pessoal de N&#x00ED;vel Superior",
          "Monaco/de Pessoal de N&#x00ED;vel Superior",
          "Senegal/de Pessoal de N&#x00ED;vel Superior",
          "Malawi/the National Institutes of Health",
          "Malaysia/the National Institutes of Health",
          "United Kingdom/the National Institutes of Health",
          "United States/the National Institutes of Health",
          "",
          "Argentina",
          "Australia",
          "Brazil",
          "Canada",
          "China",
          "Denmark",
          "France",
          "French Guiana",
          "Georgia",
          "Germany",
          "Ghana",
          "Guadeloupe",
          "Hong Kong",
          "India",
          "Italy",
          "Jamaica",
          "Jersey",
          "Kuwait",
          "Malawi",
          "Malaysia",
          "Mali",
          "Mexico",
          "Monaco",
          "Netherlands",
          "Niger",
          "Nigeria",
          "Norway",
          "Pakistan",
          "Senegal",
          "South Africa",
          "South Korea",
          "Switzerland",
          "Turkey",
          "Uganda",
          "United Kingdom",
          "United States",
          "Zambia"
         ],
         "labels": [
          "ACC",
          "ACC",
          "AHA",
          "AHA",
          "ANR",
          "ANR",
          "ANR",
          "ANR‐11‐IDEX‐0005‐02",
          "ANR‐11‐IDEX‐0005‐02",
          "ANR‐11‐IDEX‐0005‐02",
          "ASH",
          "Agence Nationale de la Recherche",
          "Agence Nationale de la Recherche",
          "Agence Nationale de la Recherche",
          "Albert Einstein College of Medicine",
          "American Association for Dental",
          "American Heart Association",
          "American Heart Association",
          "American Society of Hematology",
          "BID",
          "BID",
          "BP 6006",
          "Bayer",
          "Biomedical Laboratory Research and Development",
          "Biomedical Laboratory Research and Development",
          "Blood Transfusion Research",
          "Brandan’s Eye Research Foundation",
          "Brandan’s Eye Research Foundation",
          "Brandan’s Eye Research Foundation",
          "British Society for Haematology",
          "C06RR016511",
          "CAPES",
          "CAPES",
          "CAPES",
          "CAPES",
          "CAPES",
          "CDC",
          "CDC",
          "CU",
          "CU",
          "Campus France",
          "Campus France",
          "Canada Research Chairs",
          "Canada Research Chairs",
          "Canada Research Chairs",
          "Canadian Institutes of Health Research",
          "Canadian Institutes of Health Research",
          "Canadian Institutes of Health Research",
          "Center for Outcomes Research and Evaluation",
          "Centers for Disease Control and Prevention",
          "Centers for Disease Control and Prevention",
          "Centro de Investigaciones Energéticas",
          "Centro de Investigaciones Energéticas",
          "Colgate-Palmolive Company",
          "Consejo Nacional de Investigaciones Científicas",
          "Consejo Nacional de Investigaciones Científicas",
          "Conselho Nacional de Desenvolvimento Científico",
          "Coordenação de Aperfeiçoamento de Pessoal de Nível Superior",
          "Craniofacial Research",
          "DDCF",
          "DDCF",
          "DDCF",
          "DDCF",
          "DDCF",
          "De La Salle University",
          "Department of Science and Technology",
          "Deutsche Forschungsgemeinschaft",
          "Doris Duke Charitable Foundation",
          "Doris Duke Charitable Foundation",
          "Doris Duke Charitable Foundation",
          "Doris Duke Charitable Foundation",
          "Doris Duke Charitable Foundation",
          "EY01765",
          "EYEY001765",
          "Estado de Minas Gerais",
          "FFB",
          "FFB",
          "FFS",
          "FIC",
          "FIOCRUZ",
          "FNIH",
          "FNIH",
          "FNIH",
          "FUNTTEL",
          "Fogarty International Center",
          "Fondation",
          "Fondazione Città",
          "Fondo",
          "Fondo",
          "Fundação de Amparo à Pesquisa",
          "Fundação de Amparo à Pesquisa",
          "Fundação de Amparo à Pesquisa",
          "Future Planning",
          "Future Planning",
          "G0000111",
          "G0000111",
          "G0000111",
          "GHF",
          "Genentech",
          "Genentech",
          "Georgia Regents University",
          "Georgia Regents University",
          "Gilead Sciences",
          "Grant Healthcare Foundation",
          "HHS",
          "HOF",
          "Health Services Research and Development",
          "Health Services Research and Development",
          "Heed Ophthalmic Foundation",
          "Horizon 2020 Framework Programme",
          "Horizon 2020 Framework Programme",
          "ICT",
          "ICT",
          "Icahn School of Medicine",
          "Icahn School of Medicine",
          "Icahn School of Medicine",
          "Institut National de la Santé et de la Recherche Médicale",
          "Institut National de la Santé et de la Recherche Médicale",
          "Institut National de la Santé et de la Recherche Médicale",
          "Institut National de la Santé et de la Recherche Médicale",
          "Instituto Nacional de Ciência e Tecnologia de Estudos",
          "Janssen Pharmaceuticals",
          "Jilin University",
          "Johns Hopkins University",
          "Johns Hopkins University",
          "K08-EY021189",
          "K23-EY022947-01A1",
          "K23HL119627",
          "K23HL119627",
          "K23HL119627",
          "LSBR",
          "Landsteiner Foundation",
          "MRC",
          "MU",
          "Macula Foundation",
          "Macula Foundation",
          "Marrus Family Foundation",
          "Massachusetts Lions Eye Research Fund",
          "Massachusetts Lions Eye Research Fund",
          "Medical Research Council",
          "Medical Research Council",
          "Medical Research Council",
          "Medical Research Council",
          "Medical Research Council",
          "Medioambientales y Tecnológicas",
          "Medioambientales y Tecnológicas",
          "Milbank Foundation",
          "Ministry of Science",
          "Ministry of Science",
          "Ministry of Science and Technology",
          "Moorfields Eye Hospital NHS Foundation Trust",
          "Moorfields Eye Hospital NHS Foundation Trust",
          "NCI",
          "NCI",
          "NEI",
          "NEI",
          "NEI",
          "NIDDK",
          "NIDDK",
          "NIDDK",
          "NIH",
          "NIH",
          "NIH",
          "NIH",
          "NIH",
          "NIH",
          "NIH",
          "NIH",
          "NIH",
          "NIH",
          "NIH",
          "NIH",
          "NIH",
          "NIH",
          "NIH",
          "NIHR",
          "NIHR Bristol Biomedical Research Centre",
          "NPC",
          "NPC",
          "NPC",
          "NSF",
          "NSF",
          "NWO",
          "National Cancer Institute",
          "National Cancer Institute",
          "National Center for Advancing Translational Sciences",
          "National Center for Advancing Translational Sciences",
          "National Center for Research Resources",
          "National Eye Institute",
          "National Eye Institute",
          "National Eye Institute",
          "National Eye Institute",
          "National Eye Institute",
          "National Eye Institute",
          "National Eye Institute",
          "National Eye Institute",
          "National Eye Institute",
          "National Eye Institute",
          "National Heart,Lung and Blood Institute",
          "National Heart,Lung and Blood Institute",
          "National Heart,Lung and Blood Institute",
          "National Heart,Lung and Blood Institute",
          "National Heart,Lung and Blood Institute",
          "National Heart,Lung and Blood Institute",
          "National Heart,Lung and Blood Institute",
          "National Heart,Lung and Blood Institute",
          "National Heart,Lung and Blood Institute",
          "National Heart,Lung and Blood Institute",
          "National Heart,Lung and Blood Institute",
          "National Heart,Lung and Blood Institute",
          "National Heart,Lung and Blood Institute",
          "National Heart,Lung and Blood Institute",
          "National Heart,Lung and Blood Institute",
          "National Heart,Lung and Blood Institute",
          "National Institute for Health Research",
          "National Institute for Health Research Biomedical Research Centre",
          "National Institute for Health and Care Research",
          "National Institute of Diabetes and",
          "National Institute of Diabetes and",
          "National Institute of Diabetes and",
          "National Institute of General Medical Sciences",
          "National Institute of Neurological Disorders and Stroke",
          "National Institutes of Health",
          "National Institutes of Health",
          "National Institutes of Health",
          "National Institutes of Health",
          "National Institutes of Health",
          "National Institutes of Health",
          "National Institutes of Health",
          "National Institutes of Health",
          "National Institutes of Health",
          "National Institutes of Health",
          "National Institutes of Health",
          "National Institutes of Health",
          "National Institutes of Health",
          "National Institutes of Health",
          "National Institutes of Health",
          "National Research Foundation",
          "National Research Foundation",
          "National Science Foundation",
          "National Science Foundation",
          "New York Eye",
          "NorthShore University HealthSystem",
          "Novartis Pharmaceuticals Corporation",
          "Novartis Pharmaceuticals Corporation",
          "Novartis Pharmaceuticals Corporation",
          "OC-AR PICT N",
          "OC-AR PICT N",
          "ORD",
          "ORD",
          "Office of Research and Development",
          "Office of Research and Development",
          "P01HL055552",
          "P20GM103446",
          "P30CA008748",
          "P30EY001765",
          "P30EY001765",
          "P30EY001765",
          "PHS",
          "Pfizer",
          "Pfizer",
          "R00NS060764",
          "R01 EY023522 R01",
          "R01EY009357",
          "R01EY009357",
          "R01EY011766",
          "R01EY011766",
          "R01EY024969",
          "R01EY030101",
          "R01EY030101",
          "R01HL068922",
          "R01HL068922",
          "R01HL068922",
          "R01HL070215",
          "R01HL070215",
          "R01HL111659",
          "RBC",
          "RBC",
          "RBF",
          "RBF",
          "RPB",
          "RPB",
          "RPB",
          "RPB",
          "RPB",
          "RPB",
          "RPB",
          "RTI",
          "RTI",
          "RTI",
          "Regeneron Pharmaceuticals",
          "Research Triangle Institute",
          "Research Triangle Institute",
          "Research Triangle Institute",
          "Research to Prevent Blindness",
          "Rockefeller Brothers Fund",
          "Rockefeller Brothers Fund",
          "Royal Bank of Canada",
          "Royal Bank of Canada",
          "SECYT",
          "SECYT",
          "U.S. Department",
          "U.S. Department",
          "U.S. Department of Defense",
          "U.S. Department of Defense",
          "U.S. Department of Health and Human Services",
          "U.S. Public Health Service",
          "U01EY025477",
          "UCL Institute of Ophthalmology",
          "UIC",
          "UL1TR001873",
          "UNC",
          "UNC",
          "USPHS",
          "Universidad de Buenos Aires",
          "Universidad de Buenos Aires",
          "University of Colorado",
          "University of Colorado",
          "University of Illinois",
          "University of Illinois at Chicago",
          "University of Missouri",
          "Veterans Affairs",
          "Veterans Affairs",
          "Victoria University",
          "Victoria University",
          "VitreoRetinal Surgery Foundation",
          "WT",
          "WT",
          "WT",
          "Wellcome Trust",
          "Wellcome Trust",
          "Wellcome Trust",
          "Wellcome Trust",
          "Yale School of Medicine",
          "Yale University",
          "Yeshiva University",
          "Z01DK075008",
          "de Pessoal de N&#x00ED;vel Superior",
          "de Pessoal de N&#x00ED;vel Superior",
          "de Pessoal de N&#x00ED;vel Superior",
          "de Pessoal de N&#x00ED;vel Superior",
          "de Pessoal de N&#x00ED;vel Superior",
          "the National Institutes of Health",
          "the National Institutes of Health",
          "the National Institutes of Health",
          "the National Institutes of Health",
          "",
          "Argentina",
          "Australia",
          "Brazil",
          "Canada",
          "China",
          "Denmark",
          "France",
          "French Guiana",
          "Georgia",
          "Germany",
          "Ghana",
          "Guadeloupe",
          "Hong Kong",
          "India",
          "Italy",
          "Jamaica",
          "Jersey",
          "Kuwait",
          "Malawi",
          "Malaysia",
          "Mali",
          "Mexico",
          "Monaco",
          "Netherlands",
          "Niger",
          "Nigeria",
          "Norway",
          "Pakistan",
          "Senegal",
          "South Africa",
          "South Korea",
          "Switzerland",
          "Turkey",
          "Uganda",
          "United Kingdom",
          "United States",
          "Zambia"
         ],
         "marker": {
          "coloraxis": "coloraxis",
          "colors": [
           1,
           1,
           1,
           1,
           1,
           1,
           1,
           1,
           1,
           1,
           1,
           1,
           1,
           1,
           1,
           1,
           1,
           1,
           3,
           1,
           1,
           1,
           1,
           1,
           1,
           1,
           2,
           1,
           1,
           2,
           1,
           2,
           1,
           1,
           1,
           1,
           1,
           1,
           1,
           1,
           1,
           1,
           1,
           1,
           1,
           2,
           2,
           2,
           1,
           1,
           1,
           1,
           1,
           1,
           1,
           1,
           4,
           1,
           1,
           1,
           2,
           2,
           4,
           1,
           1,
           1,
           1,
           1,
           2,
           2,
           5,
           1,
           2,
           1,
           1,
           1,
           3,
           1,
           1,
           1,
           1,
           1,
           1,
           1,
           1,
           2,
           2,
           2,
           1,
           7,
           1,
           1,
           1,
           1,
           1,
           1,
           1,
           1,
           1,
           4,
           1,
           1,
           1,
           1,
           1,
           1,
           1,
           1,
           1,
           1,
           1,
           1,
           1,
           1,
           1,
           1,
           2,
           1,
           1,
           1,
           1,
           1,
           1,
           1,
           1,
           1,
           1,
           1,
           1,
           1,
           1,
           1,
           1,
           1,
           1,
           1,
           3,
           1,
           1,
           1,
           1,
           1,
           5,
           2,
           1,
           1,
           1,
           1,
           1,
           1,
           1,
           2,
           1,
           3,
           1,
           1,
           5,
           1,
           1,
           4,
           2,
           1,
           2,
           1,
           2,
           1,
           4,
           1,
           1,
           1,
           1,
           1,
           1,
           42,
           1,
           1,
           1,
           1,
           1,
           3,
           1,
           3,
           1,
           1,
           3,
           1,
           4,
           2,
           1,
           1,
           1,
           4,
           1,
           2,
           1,
           2,
           1,
           62,
           4,
           2,
           4,
           6,
           4,
           2,
           2,
           2,
           18,
           4,
           2,
           2,
           2,
           2,
           6,
           129,
           1,
           1,
           1,
           1,
           1,
           5,
           2,
           2,
           2,
           1,
           2,
           1,
           2,
           1,
           4,
           2,
           1,
           1,
           1,
           1,
           1,
           43,
           1,
           1,
           2,
           1,
           3,
           1,
           1,
           1,
           1,
           3,
           1,
           1,
           2,
           2,
           2,
           2,
           2,
           1,
           1,
           1,
           1,
           14,
           1,
           1,
           1,
           1,
           1,
           1,
           2,
           1,
           1,
           2,
           1,
           1,
           2,
           2,
           2,
           1,
           1,
           2,
           1,
           1,
           1,
           1,
           1,
           1,
           1,
           1,
           1,
           1,
           25,
           1,
           1,
           1,
           1,
           1,
           1,
           1,
           1,
           1,
           1,
           1,
           1,
           1,
           1,
           1,
           2,
           1,
           1,
           1,
           7,
           1,
           1,
           1,
           2,
           1,
           1,
           7,
           1,
           1,
           1,
           1,
           1,
           1,
           1,
           1,
           2,
           1,
           1,
           1,
           4,
           4,
           1,
           4,
           1,
           7,
           2,
           1,
           1,
           1,
           1,
           1,
           1,
           1,
           1,
           1,
           1,
           1,
           1,
           1,
           2.142857142857143,
           1.1111111111111112,
           1,
           3.1481481481481484,
           2.1818181818181817,
           1,
           1,
           2.4375,
           1,
           2.12,
           1,
           2,
           1.6666666666666667,
           1,
           1.25,
           1.3333333333333333,
           10.368421052631579,
           1,
           1,
           1,
           2.0434782608695654,
           1,
           2,
           1,
           1,
           2,
           2,
           1,
           1,
           1,
           2,
           1.4,
           1,
           1,
           1,
           3.789473684210526,
           51.056338028169016,
           1
          ]
         },
         "name": "",
         "parents": [
          "Argentina",
          "United States",
          "Georgia",
          "United States",
          "France",
          "Mali",
          "Senegal",
          "France",
          "Mali",
          "Senegal",
          "Malaysia",
          "France",
          "Mali",
          "Senegal",
          "United States",
          "United States",
          "Georgia",
          "United States",
          "Malaysia",
          "Argentina",
          "United States",
          "French Guiana",
          "Netherlands",
          "Georgia",
          "United States",
          "Netherlands",
          "Canada",
          "Hong Kong",
          "Kuwait",
          "Malaysia",
          "United States",
          "Brazil",
          "France",
          "Italy",
          "Monaco",
          "Senegal",
          "United States",
          "Zambia",
          "China",
          "United States",
          "France",
          "Senegal",
          "Canada",
          "France",
          "United States",
          "Canada",
          "France",
          "United States",
          "Malaysia",
          "United States",
          "Zambia",
          "Argentina",
          "United States",
          "United States",
          "Argentina",
          "United States",
          "Brazil",
          "Brazil",
          "United States",
          "",
          "Canada",
          "France",
          "United States",
          "Zambia",
          "United Kingdom",
          "India",
          "United States",
          "",
          "Canada",
          "France",
          "United States",
          "Zambia",
          "United States",
          "United States",
          "Brazil",
          "Argentina",
          "United States",
          "United States",
          "Uganda",
          "Brazil",
          "Malawi",
          "United Kingdom",
          "United States",
          "Brazil",
          "Uganda",
          "France",
          "Italy",
          "Argentina",
          "United States",
          "Brazil",
          "United Kingdom",
          "United States",
          "Pakistan",
          "South Korea",
          "Brazil",
          "United Kingdom",
          "United States",
          "United States",
          "Italy",
          "United States",
          "Georgia",
          "United States",
          "United States",
          "United States",
          "United States",
          "United States",
          "Georgia",
          "United States",
          "United States",
          "France",
          "Netherlands",
          "Pakistan",
          "South Korea",
          "Canada",
          "France",
          "United States",
          "France",
          "French Guiana",
          "Mali",
          "Senegal",
          "Brazil",
          "United States",
          "China",
          "Brazil",
          "United States",
          "United States",
          "United States",
          "France",
          "Guadeloupe",
          "United States",
          "Netherlands",
          "Netherlands",
          "United Kingdom",
          "United States",
          "United Kingdom",
          "United States",
          "United States",
          "Brazil",
          "United States",
          "Brazil",
          "Denmark",
          "Malawi",
          "United Kingdom",
          "United States",
          "Argentina",
          "United States",
          "United States",
          "Pakistan",
          "South Korea",
          "India",
          "Germany",
          "United Kingdom",
          "China",
          "United States",
          "Jamaica",
          "Malaysia",
          "United States",
          "Georgia",
          "Norway",
          "United States",
          "",
          "Argentina",
          "Canada",
          "China",
          "France",
          "India",
          "Jamaica",
          "Malaysia",
          "Netherlands",
          "Norway",
          "Turkey",
          "Uganda",
          "United Kingdom",
          "United States",
          "Zambia",
          "Malaysia",
          "United Kingdom",
          "Canada",
          "India",
          "United States",
          "China",
          "United States",
          "Netherlands",
          "China",
          "United States",
          "",
          "United States",
          "United States",
          "",
          "Argentina",
          "China",
          "Georgia",
          "Italy",
          "Jamaica",
          "Jersey",
          "Malaysia",
          "Turkey",
          "United States",
          "",
          "Brazil",
          "Canada",
          "France",
          "Georgia",
          "Ghana",
          "Guadeloupe",
          "India",
          "Jamaica",
          "Malaysia",
          "Mexico",
          "Niger",
          "Nigeria",
          "South Africa",
          "United Kingdom",
          "United States",
          "Malaysia",
          "United Kingdom",
          "Malaysia",
          "Georgia",
          "Norway",
          "United States",
          "United States",
          "United States",
          "",
          "Argentina",
          "Canada",
          "China",
          "France",
          "India",
          "Jamaica",
          "Malaysia",
          "Netherlands",
          "Norway",
          "Turkey",
          "Uganda",
          "United Kingdom",
          "United States",
          "Zambia",
          "Pakistan",
          "South Korea",
          "China",
          "United States",
          "United States",
          "United States",
          "Canada",
          "India",
          "United States",
          "Argentina",
          "United States",
          "Georgia",
          "United States",
          "Georgia",
          "United States",
          "United States",
          "United States",
          "United States",
          "Argentina",
          "China",
          "United States",
          "United States",
          "Netherlands",
          "United States",
          "United States",
          "United States",
          "Argentina",
          "United States",
          "Georgia",
          "United States",
          "United States",
          "Turkey",
          "United States",
          "Canada",
          "France",
          "United States",
          "Georgia",
          "United States",
          "United States",
          "Georgia",
          "United States",
          "United States",
          "Zambia",
          "",
          "Argentina",
          "China",
          "Jamaica",
          "Malaysia",
          "Turkey",
          "United States",
          "Brazil",
          "United Kingdom",
          "United States",
          "United States",
          "Brazil",
          "United Kingdom",
          "United States",
          "United States",
          "United States",
          "Zambia",
          "Georgia",
          "United States",
          "Argentina",
          "United States",
          "Georgia",
          "United States",
          "",
          "United States",
          "United States",
          "United States",
          "United States",
          "United Kingdom",
          "United States",
          "United States",
          "Argentina",
          "United States",
          "United States",
          "Argentina",
          "United States",
          "China",
          "United States",
          "United States",
          "United States",
          "United States",
          "Georgia",
          "United States",
          "Australia",
          "Switzerland",
          "United States",
          "Jamaica",
          "United Kingdom",
          "United States",
          "Jamaica",
          "Malawi",
          "United Kingdom",
          "United States",
          "Malaysia",
          "United States",
          "United States",
          "United States",
          "Brazil",
          "France",
          "Italy",
          "Monaco",
          "Senegal",
          "Malawi",
          "Malaysia",
          "United Kingdom",
          "United States",
          "",
          "",
          "",
          "",
          "",
          "",
          "",
          "",
          "",
          "",
          "",
          "",
          "",
          "",
          "",
          "",
          "",
          "",
          "",
          "",
          "",
          "",
          "",
          "",
          "",
          "",
          "",
          "",
          "",
          "",
          "",
          "",
          "",
          "",
          "",
          "",
          "",
          ""
         ],
         "type": "treemap",
         "values": [
          1,
          1,
          1,
          1,
          1,
          1,
          1,
          1,
          1,
          1,
          1,
          1,
          1,
          1,
          1,
          1,
          1,
          1,
          3,
          1,
          1,
          1,
          1,
          1,
          1,
          1,
          2,
          1,
          1,
          2,
          1,
          2,
          1,
          1,
          1,
          1,
          1,
          1,
          1,
          1,
          1,
          1,
          1,
          1,
          1,
          2,
          2,
          2,
          1,
          1,
          1,
          1,
          1,
          1,
          1,
          1,
          4,
          1,
          1,
          1,
          2,
          2,
          4,
          1,
          1,
          1,
          1,
          1,
          2,
          2,
          5,
          1,
          2,
          1,
          1,
          1,
          3,
          1,
          1,
          1,
          1,
          1,
          1,
          1,
          1,
          2,
          2,
          2,
          1,
          7,
          1,
          1,
          1,
          1,
          1,
          1,
          1,
          1,
          1,
          4,
          1,
          1,
          1,
          1,
          1,
          1,
          1,
          1,
          1,
          1,
          1,
          1,
          1,
          1,
          1,
          1,
          2,
          1,
          1,
          1,
          1,
          1,
          1,
          1,
          1,
          1,
          1,
          1,
          1,
          1,
          1,
          1,
          1,
          1,
          1,
          1,
          3,
          1,
          1,
          1,
          1,
          1,
          5,
          2,
          1,
          1,
          1,
          1,
          1,
          1,
          1,
          2,
          1,
          3,
          1,
          1,
          5,
          1,
          1,
          4,
          2,
          1,
          2,
          1,
          2,
          1,
          4,
          1,
          1,
          1,
          1,
          1,
          1,
          42,
          1,
          1,
          1,
          1,
          1,
          3,
          1,
          3,
          1,
          1,
          3,
          1,
          4,
          2,
          1,
          1,
          1,
          4,
          1,
          2,
          1,
          2,
          1,
          62,
          4,
          2,
          4,
          6,
          4,
          2,
          2,
          2,
          18,
          4,
          2,
          2,
          2,
          2,
          6,
          129,
          1,
          1,
          1,
          1,
          1,
          5,
          2,
          2,
          2,
          1,
          2,
          1,
          2,
          1,
          4,
          2,
          1,
          1,
          1,
          1,
          1,
          43,
          1,
          1,
          2,
          1,
          3,
          1,
          1,
          1,
          1,
          3,
          1,
          1,
          2,
          2,
          2,
          2,
          2,
          1,
          1,
          1,
          1,
          14,
          1,
          1,
          1,
          1,
          1,
          1,
          2,
          1,
          1,
          2,
          1,
          1,
          2,
          2,
          2,
          1,
          1,
          2,
          1,
          1,
          1,
          1,
          1,
          1,
          1,
          1,
          1,
          1,
          25,
          1,
          1,
          1,
          1,
          1,
          1,
          1,
          1,
          1,
          1,
          1,
          1,
          1,
          1,
          1,
          2,
          1,
          1,
          1,
          7,
          1,
          1,
          1,
          2,
          1,
          1,
          7,
          1,
          1,
          1,
          1,
          1,
          1,
          1,
          1,
          2,
          1,
          1,
          1,
          4,
          4,
          1,
          4,
          1,
          7,
          2,
          1,
          1,
          1,
          1,
          1,
          1,
          1,
          1,
          1,
          1,
          1,
          1,
          1,
          14,
          18,
          1,
          27,
          22,
          12,
          1,
          32,
          2,
          25,
          1,
          2,
          3,
          1,
          8,
          6,
          38,
          1,
          1,
          4,
          23,
          4,
          2,
          2,
          9,
          2,
          2,
          4,
          4,
          7,
          2,
          5,
          1,
          5,
          4,
          38,
          497,
          8
         ]
        }
       ],
       "layout": {
        "coloraxis": {
         "colorbar": {
          "title": {
           "text": "Times Funded"
          }
         },
         "colorscale": [
          [
           0,
           "rgb(247,251,255)"
          ],
          [
           0.125,
           "rgb(222,235,247)"
          ],
          [
           0.25,
           "rgb(198,219,239)"
          ],
          [
           0.375,
           "rgb(158,202,225)"
          ],
          [
           0.5,
           "rgb(107,174,214)"
          ],
          [
           0.625,
           "rgb(66,146,198)"
          ],
          [
           0.75,
           "rgb(33,113,181)"
          ],
          [
           0.875,
           "rgb(8,81,156)"
          ],
          [
           1,
           "rgb(8,48,107)"
          ]
         ]
        },
        "legend": {
         "tracegroupgap": 0
        },
        "margin": {
         "t": 60
        },
        "template": {
         "data": {
          "bar": [
           {
            "error_x": {
             "color": "#2a3f5f"
            },
            "error_y": {
             "color": "#2a3f5f"
            },
            "marker": {
             "line": {
              "color": "#E5ECF6",
              "width": 0.5
             },
             "pattern": {
              "fillmode": "overlay",
              "size": 10,
              "solidity": 0.2
             }
            },
            "type": "bar"
           }
          ],
          "barpolar": [
           {
            "marker": {
             "line": {
              "color": "#E5ECF6",
              "width": 0.5
             },
             "pattern": {
              "fillmode": "overlay",
              "size": 10,
              "solidity": 0.2
             }
            },
            "type": "barpolar"
           }
          ],
          "carpet": [
           {
            "aaxis": {
             "endlinecolor": "#2a3f5f",
             "gridcolor": "white",
             "linecolor": "white",
             "minorgridcolor": "white",
             "startlinecolor": "#2a3f5f"
            },
            "baxis": {
             "endlinecolor": "#2a3f5f",
             "gridcolor": "white",
             "linecolor": "white",
             "minorgridcolor": "white",
             "startlinecolor": "#2a3f5f"
            },
            "type": "carpet"
           }
          ],
          "choropleth": [
           {
            "colorbar": {
             "outlinewidth": 0,
             "ticks": ""
            },
            "type": "choropleth"
           }
          ],
          "contour": [
           {
            "colorbar": {
             "outlinewidth": 0,
             "ticks": ""
            },
            "colorscale": [
             [
              0,
              "#0d0887"
             ],
             [
              0.1111111111111111,
              "#46039f"
             ],
             [
              0.2222222222222222,
              "#7201a8"
             ],
             [
              0.3333333333333333,
              "#9c179e"
             ],
             [
              0.4444444444444444,
              "#bd3786"
             ],
             [
              0.5555555555555556,
              "#d8576b"
             ],
             [
              0.6666666666666666,
              "#ed7953"
             ],
             [
              0.7777777777777778,
              "#fb9f3a"
             ],
             [
              0.8888888888888888,
              "#fdca26"
             ],
             [
              1,
              "#f0f921"
             ]
            ],
            "type": "contour"
           }
          ],
          "contourcarpet": [
           {
            "colorbar": {
             "outlinewidth": 0,
             "ticks": ""
            },
            "type": "contourcarpet"
           }
          ],
          "heatmap": [
           {
            "colorbar": {
             "outlinewidth": 0,
             "ticks": ""
            },
            "colorscale": [
             [
              0,
              "#0d0887"
             ],
             [
              0.1111111111111111,
              "#46039f"
             ],
             [
              0.2222222222222222,
              "#7201a8"
             ],
             [
              0.3333333333333333,
              "#9c179e"
             ],
             [
              0.4444444444444444,
              "#bd3786"
             ],
             [
              0.5555555555555556,
              "#d8576b"
             ],
             [
              0.6666666666666666,
              "#ed7953"
             ],
             [
              0.7777777777777778,
              "#fb9f3a"
             ],
             [
              0.8888888888888888,
              "#fdca26"
             ],
             [
              1,
              "#f0f921"
             ]
            ],
            "type": "heatmap"
           }
          ],
          "heatmapgl": [
           {
            "colorbar": {
             "outlinewidth": 0,
             "ticks": ""
            },
            "colorscale": [
             [
              0,
              "#0d0887"
             ],
             [
              0.1111111111111111,
              "#46039f"
             ],
             [
              0.2222222222222222,
              "#7201a8"
             ],
             [
              0.3333333333333333,
              "#9c179e"
             ],
             [
              0.4444444444444444,
              "#bd3786"
             ],
             [
              0.5555555555555556,
              "#d8576b"
             ],
             [
              0.6666666666666666,
              "#ed7953"
             ],
             [
              0.7777777777777778,
              "#fb9f3a"
             ],
             [
              0.8888888888888888,
              "#fdca26"
             ],
             [
              1,
              "#f0f921"
             ]
            ],
            "type": "heatmapgl"
           }
          ],
          "histogram": [
           {
            "marker": {
             "pattern": {
              "fillmode": "overlay",
              "size": 10,
              "solidity": 0.2
             }
            },
            "type": "histogram"
           }
          ],
          "histogram2d": [
           {
            "colorbar": {
             "outlinewidth": 0,
             "ticks": ""
            },
            "colorscale": [
             [
              0,
              "#0d0887"
             ],
             [
              0.1111111111111111,
              "#46039f"
             ],
             [
              0.2222222222222222,
              "#7201a8"
             ],
             [
              0.3333333333333333,
              "#9c179e"
             ],
             [
              0.4444444444444444,
              "#bd3786"
             ],
             [
              0.5555555555555556,
              "#d8576b"
             ],
             [
              0.6666666666666666,
              "#ed7953"
             ],
             [
              0.7777777777777778,
              "#fb9f3a"
             ],
             [
              0.8888888888888888,
              "#fdca26"
             ],
             [
              1,
              "#f0f921"
             ]
            ],
            "type": "histogram2d"
           }
          ],
          "histogram2dcontour": [
           {
            "colorbar": {
             "outlinewidth": 0,
             "ticks": ""
            },
            "colorscale": [
             [
              0,
              "#0d0887"
             ],
             [
              0.1111111111111111,
              "#46039f"
             ],
             [
              0.2222222222222222,
              "#7201a8"
             ],
             [
              0.3333333333333333,
              "#9c179e"
             ],
             [
              0.4444444444444444,
              "#bd3786"
             ],
             [
              0.5555555555555556,
              "#d8576b"
             ],
             [
              0.6666666666666666,
              "#ed7953"
             ],
             [
              0.7777777777777778,
              "#fb9f3a"
             ],
             [
              0.8888888888888888,
              "#fdca26"
             ],
             [
              1,
              "#f0f921"
             ]
            ],
            "type": "histogram2dcontour"
           }
          ],
          "mesh3d": [
           {
            "colorbar": {
             "outlinewidth": 0,
             "ticks": ""
            },
            "type": "mesh3d"
           }
          ],
          "parcoords": [
           {
            "line": {
             "colorbar": {
              "outlinewidth": 0,
              "ticks": ""
             }
            },
            "type": "parcoords"
           }
          ],
          "pie": [
           {
            "automargin": true,
            "type": "pie"
           }
          ],
          "scatter": [
           {
            "fillpattern": {
             "fillmode": "overlay",
             "size": 10,
             "solidity": 0.2
            },
            "type": "scatter"
           }
          ],
          "scatter3d": [
           {
            "line": {
             "colorbar": {
              "outlinewidth": 0,
              "ticks": ""
             }
            },
            "marker": {
             "colorbar": {
              "outlinewidth": 0,
              "ticks": ""
             }
            },
            "type": "scatter3d"
           }
          ],
          "scattercarpet": [
           {
            "marker": {
             "colorbar": {
              "outlinewidth": 0,
              "ticks": ""
             }
            },
            "type": "scattercarpet"
           }
          ],
          "scattergeo": [
           {
            "marker": {
             "colorbar": {
              "outlinewidth": 0,
              "ticks": ""
             }
            },
            "type": "scattergeo"
           }
          ],
          "scattergl": [
           {
            "marker": {
             "colorbar": {
              "outlinewidth": 0,
              "ticks": ""
             }
            },
            "type": "scattergl"
           }
          ],
          "scattermapbox": [
           {
            "marker": {
             "colorbar": {
              "outlinewidth": 0,
              "ticks": ""
             }
            },
            "type": "scattermapbox"
           }
          ],
          "scatterpolar": [
           {
            "marker": {
             "colorbar": {
              "outlinewidth": 0,
              "ticks": ""
             }
            },
            "type": "scatterpolar"
           }
          ],
          "scatterpolargl": [
           {
            "marker": {
             "colorbar": {
              "outlinewidth": 0,
              "ticks": ""
             }
            },
            "type": "scatterpolargl"
           }
          ],
          "scatterternary": [
           {
            "marker": {
             "colorbar": {
              "outlinewidth": 0,
              "ticks": ""
             }
            },
            "type": "scatterternary"
           }
          ],
          "surface": [
           {
            "colorbar": {
             "outlinewidth": 0,
             "ticks": ""
            },
            "colorscale": [
             [
              0,
              "#0d0887"
             ],
             [
              0.1111111111111111,
              "#46039f"
             ],
             [
              0.2222222222222222,
              "#7201a8"
             ],
             [
              0.3333333333333333,
              "#9c179e"
             ],
             [
              0.4444444444444444,
              "#bd3786"
             ],
             [
              0.5555555555555556,
              "#d8576b"
             ],
             [
              0.6666666666666666,
              "#ed7953"
             ],
             [
              0.7777777777777778,
              "#fb9f3a"
             ],
             [
              0.8888888888888888,
              "#fdca26"
             ],
             [
              1,
              "#f0f921"
             ]
            ],
            "type": "surface"
           }
          ],
          "table": [
           {
            "cells": {
             "fill": {
              "color": "#EBF0F8"
             },
             "line": {
              "color": "white"
             }
            },
            "header": {
             "fill": {
              "color": "#C8D4E3"
             },
             "line": {
              "color": "white"
             }
            },
            "type": "table"
           }
          ]
         },
         "layout": {
          "annotationdefaults": {
           "arrowcolor": "#2a3f5f",
           "arrowhead": 0,
           "arrowwidth": 1
          },
          "autotypenumbers": "strict",
          "coloraxis": {
           "colorbar": {
            "outlinewidth": 0,
            "ticks": ""
           }
          },
          "colorscale": {
           "diverging": [
            [
             0,
             "#8e0152"
            ],
            [
             0.1,
             "#c51b7d"
            ],
            [
             0.2,
             "#de77ae"
            ],
            [
             0.3,
             "#f1b6da"
            ],
            [
             0.4,
             "#fde0ef"
            ],
            [
             0.5,
             "#f7f7f7"
            ],
            [
             0.6,
             "#e6f5d0"
            ],
            [
             0.7,
             "#b8e186"
            ],
            [
             0.8,
             "#7fbc41"
            ],
            [
             0.9,
             "#4d9221"
            ],
            [
             1,
             "#276419"
            ]
           ],
           "sequential": [
            [
             0,
             "#0d0887"
            ],
            [
             0.1111111111111111,
             "#46039f"
            ],
            [
             0.2222222222222222,
             "#7201a8"
            ],
            [
             0.3333333333333333,
             "#9c179e"
            ],
            [
             0.4444444444444444,
             "#bd3786"
            ],
            [
             0.5555555555555556,
             "#d8576b"
            ],
            [
             0.6666666666666666,
             "#ed7953"
            ],
            [
             0.7777777777777778,
             "#fb9f3a"
            ],
            [
             0.8888888888888888,
             "#fdca26"
            ],
            [
             1,
             "#f0f921"
            ]
           ],
           "sequentialminus": [
            [
             0,
             "#0d0887"
            ],
            [
             0.1111111111111111,
             "#46039f"
            ],
            [
             0.2222222222222222,
             "#7201a8"
            ],
            [
             0.3333333333333333,
             "#9c179e"
            ],
            [
             0.4444444444444444,
             "#bd3786"
            ],
            [
             0.5555555555555556,
             "#d8576b"
            ],
            [
             0.6666666666666666,
             "#ed7953"
            ],
            [
             0.7777777777777778,
             "#fb9f3a"
            ],
            [
             0.8888888888888888,
             "#fdca26"
            ],
            [
             1,
             "#f0f921"
            ]
           ]
          },
          "colorway": [
           "#636efa",
           "#EF553B",
           "#00cc96",
           "#ab63fa",
           "#FFA15A",
           "#19d3f3",
           "#FF6692",
           "#B6E880",
           "#FF97FF",
           "#FECB52"
          ],
          "font": {
           "color": "#2a3f5f"
          },
          "geo": {
           "bgcolor": "white",
           "lakecolor": "white",
           "landcolor": "#E5ECF6",
           "showlakes": true,
           "showland": true,
           "subunitcolor": "white"
          },
          "hoverlabel": {
           "align": "left"
          },
          "hovermode": "closest",
          "mapbox": {
           "style": "light"
          },
          "paper_bgcolor": "white",
          "plot_bgcolor": "#E5ECF6",
          "polar": {
           "angularaxis": {
            "gridcolor": "white",
            "linecolor": "white",
            "ticks": ""
           },
           "bgcolor": "#E5ECF6",
           "radialaxis": {
            "gridcolor": "white",
            "linecolor": "white",
            "ticks": ""
           }
          },
          "scene": {
           "xaxis": {
            "backgroundcolor": "#E5ECF6",
            "gridcolor": "white",
            "gridwidth": 2,
            "linecolor": "white",
            "showbackground": true,
            "ticks": "",
            "zerolinecolor": "white"
           },
           "yaxis": {
            "backgroundcolor": "#E5ECF6",
            "gridcolor": "white",
            "gridwidth": 2,
            "linecolor": "white",
            "showbackground": true,
            "ticks": "",
            "zerolinecolor": "white"
           },
           "zaxis": {
            "backgroundcolor": "#E5ECF6",
            "gridcolor": "white",
            "gridwidth": 2,
            "linecolor": "white",
            "showbackground": true,
            "ticks": "",
            "zerolinecolor": "white"
           }
          },
          "shapedefaults": {
           "line": {
            "color": "#2a3f5f"
           }
          },
          "ternary": {
           "aaxis": {
            "gridcolor": "white",
            "linecolor": "white",
            "ticks": ""
           },
           "baxis": {
            "gridcolor": "white",
            "linecolor": "white",
            "ticks": ""
           },
           "bgcolor": "#E5ECF6",
           "caxis": {
            "gridcolor": "white",
            "linecolor": "white",
            "ticks": ""
           }
          },
          "title": {
           "x": 0.05
          },
          "xaxis": {
           "automargin": true,
           "gridcolor": "white",
           "linecolor": "white",
           "ticks": "",
           "title": {
            "standoff": 15
           },
           "zerolinecolor": "white",
           "zerolinewidth": 2
          },
          "yaxis": {
           "automargin": true,
           "gridcolor": "white",
           "linecolor": "white",
           "ticks": "",
           "title": {
            "standoff": 15
           },
           "zerolinecolor": "white",
           "zerolinewidth": 2
          }
         }
        }
       }
      }
     },
     "metadata": {},
     "output_type": "display_data"
    }
   ],
   "source": [
    "fig = px.treemap(df, path= ['countries', 'Funding Entities'], values = 'Times Funded',color='Times Funded', color_continuous_scale='Blues')\n",
    "fig.show()\n",
    "\n",
    "# fig = px.treemap(journals, path=[px.Constant('World'),'countries','Source title'], values = 'counts', color='counts', color_continuous_scale='Blues')"
   ]
  },
  {
   "cell_type": "code",
   "execution_count": 220,
   "metadata": {},
   "outputs": [
    {
     "data": {
      "application/vnd.plotly.v1+json": {
       "config": {
        "plotlyServerURL": "https://plot.ly"
       },
       "data": [
        {
         "branchvalues": "total",
         "customdata": [
          [
           1
          ],
          [
           1
          ],
          [
           1
          ],
          [
           1
          ],
          [
           1
          ],
          [
           1
          ],
          [
           1
          ],
          [
           1
          ],
          [
           1
          ],
          [
           1
          ],
          [
           1
          ],
          [
           1
          ],
          [
           1
          ],
          [
           1
          ],
          [
           1
          ],
          [
           1
          ],
          [
           1
          ],
          [
           1
          ],
          [
           3
          ],
          [
           1
          ],
          [
           1
          ],
          [
           1
          ],
          [
           1
          ],
          [
           1
          ],
          [
           1
          ],
          [
           1
          ],
          [
           2
          ],
          [
           1
          ],
          [
           1
          ],
          [
           2
          ],
          [
           1
          ],
          [
           2
          ],
          [
           1
          ],
          [
           1
          ],
          [
           1
          ],
          [
           1
          ],
          [
           1
          ],
          [
           1
          ],
          [
           1
          ],
          [
           1
          ],
          [
           1
          ],
          [
           1
          ],
          [
           1
          ],
          [
           1
          ],
          [
           1
          ],
          [
           2
          ],
          [
           2
          ],
          [
           2
          ],
          [
           1
          ],
          [
           1
          ],
          [
           1
          ],
          [
           1
          ],
          [
           1
          ],
          [
           1
          ],
          [
           1
          ],
          [
           1
          ],
          [
           4
          ],
          [
           1
          ],
          [
           1
          ],
          [
           1
          ],
          [
           2
          ],
          [
           2
          ],
          [
           4
          ],
          [
           1
          ],
          [
           1
          ],
          [
           1
          ],
          [
           1
          ],
          [
           1
          ],
          [
           2
          ],
          [
           2
          ],
          [
           5
          ],
          [
           1
          ],
          [
           2
          ],
          [
           1
          ],
          [
           1
          ],
          [
           1
          ],
          [
           3
          ],
          [
           1
          ],
          [
           1
          ],
          [
           1
          ],
          [
           1
          ],
          [
           1
          ],
          [
           1
          ],
          [
           1
          ],
          [
           1
          ],
          [
           2
          ],
          [
           2
          ],
          [
           2
          ],
          [
           1
          ],
          [
           7
          ],
          [
           1
          ],
          [
           1
          ],
          [
           1
          ],
          [
           1
          ],
          [
           1
          ],
          [
           1
          ],
          [
           1
          ],
          [
           1
          ],
          [
           1
          ],
          [
           4
          ],
          [
           1
          ],
          [
           1
          ],
          [
           1
          ],
          [
           1
          ],
          [
           1
          ],
          [
           1
          ],
          [
           1
          ],
          [
           1
          ],
          [
           1
          ],
          [
           1
          ],
          [
           1
          ],
          [
           1
          ],
          [
           1
          ],
          [
           1
          ],
          [
           1
          ],
          [
           1
          ],
          [
           2
          ],
          [
           1
          ],
          [
           1
          ],
          [
           1
          ],
          [
           1
          ],
          [
           1
          ],
          [
           1
          ],
          [
           1
          ],
          [
           1
          ],
          [
           1
          ],
          [
           1
          ],
          [
           1
          ],
          [
           1
          ],
          [
           1
          ],
          [
           1
          ],
          [
           1
          ],
          [
           1
          ],
          [
           1
          ],
          [
           1
          ],
          [
           1
          ],
          [
           3
          ],
          [
           1
          ],
          [
           1
          ],
          [
           1
          ],
          [
           1
          ],
          [
           1
          ],
          [
           5
          ],
          [
           2
          ],
          [
           1
          ],
          [
           1
          ],
          [
           1
          ],
          [
           1
          ],
          [
           1
          ],
          [
           1
          ],
          [
           1
          ],
          [
           2
          ],
          [
           1
          ],
          [
           3
          ],
          [
           1
          ],
          [
           1
          ],
          [
           5
          ],
          [
           1
          ],
          [
           1
          ],
          [
           4
          ],
          [
           2
          ],
          [
           1
          ],
          [
           2
          ],
          [
           1
          ],
          [
           2
          ],
          [
           1
          ],
          [
           4
          ],
          [
           1
          ],
          [
           1
          ],
          [
           1
          ],
          [
           1
          ],
          [
           1
          ],
          [
           1
          ],
          [
           42
          ],
          [
           1
          ],
          [
           1
          ],
          [
           1
          ],
          [
           1
          ],
          [
           1
          ],
          [
           3
          ],
          [
           1
          ],
          [
           3
          ],
          [
           1
          ],
          [
           1
          ],
          [
           3
          ],
          [
           1
          ],
          [
           4
          ],
          [
           2
          ],
          [
           1
          ],
          [
           1
          ],
          [
           1
          ],
          [
           4
          ],
          [
           1
          ],
          [
           2
          ],
          [
           1
          ],
          [
           2
          ],
          [
           1
          ],
          [
           62
          ],
          [
           4
          ],
          [
           2
          ],
          [
           4
          ],
          [
           6
          ],
          [
           4
          ],
          [
           2
          ],
          [
           2
          ],
          [
           2
          ],
          [
           18
          ],
          [
           4
          ],
          [
           2
          ],
          [
           2
          ],
          [
           2
          ],
          [
           2
          ],
          [
           6
          ],
          [
           129
          ],
          [
           1
          ],
          [
           1
          ],
          [
           1
          ],
          [
           1
          ],
          [
           1
          ],
          [
           5
          ],
          [
           2
          ],
          [
           2
          ],
          [
           2
          ],
          [
           1
          ],
          [
           2
          ],
          [
           1
          ],
          [
           2
          ],
          [
           1
          ],
          [
           4
          ],
          [
           2
          ],
          [
           1
          ],
          [
           1
          ],
          [
           1
          ],
          [
           1
          ],
          [
           1
          ],
          [
           43
          ],
          [
           1
          ],
          [
           1
          ],
          [
           2
          ],
          [
           1
          ],
          [
           3
          ],
          [
           1
          ],
          [
           1
          ],
          [
           1
          ],
          [
           1
          ],
          [
           3
          ],
          [
           1
          ],
          [
           1
          ],
          [
           2
          ],
          [
           2
          ],
          [
           2
          ],
          [
           2
          ],
          [
           2
          ],
          [
           1
          ],
          [
           1
          ],
          [
           1
          ],
          [
           1
          ],
          [
           14
          ],
          [
           1
          ],
          [
           1
          ],
          [
           1
          ],
          [
           1
          ],
          [
           1
          ],
          [
           1
          ],
          [
           2
          ],
          [
           1
          ],
          [
           1
          ],
          [
           2
          ],
          [
           1
          ],
          [
           1
          ],
          [
           2
          ],
          [
           2
          ],
          [
           2
          ],
          [
           1
          ],
          [
           1
          ],
          [
           2
          ],
          [
           1
          ],
          [
           1
          ],
          [
           1
          ],
          [
           1
          ],
          [
           1
          ],
          [
           1
          ],
          [
           1
          ],
          [
           1
          ],
          [
           1
          ],
          [
           1
          ],
          [
           25
          ],
          [
           1
          ],
          [
           1
          ],
          [
           1
          ],
          [
           1
          ],
          [
           1
          ],
          [
           1
          ],
          [
           1
          ],
          [
           1
          ],
          [
           1
          ],
          [
           1
          ],
          [
           1
          ],
          [
           1
          ],
          [
           1
          ],
          [
           1
          ],
          [
           1
          ],
          [
           2
          ],
          [
           1
          ],
          [
           1
          ],
          [
           1
          ],
          [
           7
          ],
          [
           1
          ],
          [
           1
          ],
          [
           1
          ],
          [
           2
          ],
          [
           1
          ],
          [
           1
          ],
          [
           7
          ],
          [
           1
          ],
          [
           1
          ],
          [
           1
          ],
          [
           1
          ],
          [
           1
          ],
          [
           1
          ],
          [
           1
          ],
          [
           1
          ],
          [
           2
          ],
          [
           1
          ],
          [
           1
          ],
          [
           1
          ],
          [
           4
          ],
          [
           4
          ],
          [
           1
          ],
          [
           4
          ],
          [
           1
          ],
          [
           7
          ],
          [
           2
          ],
          [
           1
          ],
          [
           1
          ],
          [
           1
          ],
          [
           1
          ],
          [
           1
          ],
          [
           1
          ],
          [
           1
          ],
          [
           1
          ],
          [
           1
          ],
          [
           1
          ],
          [
           1
          ],
          [
           1
          ],
          [
           1
          ],
          [
           2.142857142857143
          ],
          [
           1.1111111111111112
          ],
          [
           1
          ],
          [
           3.1481481481481484
          ],
          [
           2.1818181818181817
          ],
          [
           1
          ],
          [
           1
          ],
          [
           2.4375
          ],
          [
           1
          ],
          [
           2.12
          ],
          [
           1
          ],
          [
           2
          ],
          [
           1.6666666666666667
          ],
          [
           1
          ],
          [
           1.25
          ],
          [
           1.3333333333333333
          ],
          [
           10.368421052631579
          ],
          [
           1
          ],
          [
           1
          ],
          [
           1
          ],
          [
           2.0434782608695654
          ],
          [
           1
          ],
          [
           2
          ],
          [
           1
          ],
          [
           1
          ],
          [
           2
          ],
          [
           2
          ],
          [
           1
          ],
          [
           1
          ],
          [
           1
          ],
          [
           2
          ],
          [
           1.4
          ],
          [
           1
          ],
          [
           1
          ],
          [
           1
          ],
          [
           3.789473684210526
          ],
          [
           51.056338028169016
          ],
          [
           1
          ]
         ],
         "domain": {
          "x": [
           0,
           1
          ],
          "y": [
           0,
           1
          ]
         },
         "hovertemplate": "labels=%{label}<br>Times Funded_sum=%{value}<br>parent=%{parent}<br>id=%{id}<br>Times Funded=%{color}<extra></extra>",
         "ids": [
          "Argentina/ACC",
          "United States/ACC",
          "Georgia/AHA",
          "United States/AHA",
          "France/ANR",
          "Mali/ANR",
          "Senegal/ANR",
          "France/ANR‐11‐IDEX‐0005‐02",
          "Mali/ANR‐11‐IDEX‐0005‐02",
          "Senegal/ANR‐11‐IDEX‐0005‐02",
          "Malaysia/ASH",
          "France/Agence Nationale de la Recherche",
          "Mali/Agence Nationale de la Recherche",
          "Senegal/Agence Nationale de la Recherche",
          "United States/Albert Einstein College of Medicine",
          "United States/American Association for Dental",
          "Georgia/American Heart Association",
          "United States/American Heart Association",
          "Malaysia/American Society of Hematology",
          "Argentina/BID",
          "United States/BID",
          "French Guiana/BP 6006",
          "Netherlands/Bayer",
          "Georgia/Biomedical Laboratory Research and Development",
          "United States/Biomedical Laboratory Research and Development",
          "Netherlands/Blood Transfusion Research",
          "Canada/Brandan’s Eye Research Foundation",
          "Hong Kong/Brandan’s Eye Research Foundation",
          "Kuwait/Brandan’s Eye Research Foundation",
          "Malaysia/British Society for Haematology",
          "United States/C06RR016511",
          "Brazil/CAPES",
          "France/CAPES",
          "Italy/CAPES",
          "Monaco/CAPES",
          "Senegal/CAPES",
          "United States/CDC",
          "Zambia/CDC",
          "China/CU",
          "United States/CU",
          "France/Campus France",
          "Senegal/Campus France",
          "Canada/Canada Research Chairs",
          "France/Canada Research Chairs",
          "United States/Canada Research Chairs",
          "Canada/Canadian Institutes of Health Research",
          "France/Canadian Institutes of Health Research",
          "United States/Canadian Institutes of Health Research",
          "Malaysia/Center for Outcomes Research and Evaluation",
          "United States/Centers for Disease Control and Prevention",
          "Zambia/Centers for Disease Control and Prevention",
          "Argentina/Centro de Investigaciones Energéticas",
          "United States/Centro de Investigaciones Energéticas",
          "United States/Colgate-Palmolive Company",
          "Argentina/Consejo Nacional de Investigaciones Científicas",
          "United States/Consejo Nacional de Investigaciones Científicas",
          "Brazil/Conselho Nacional de Desenvolvimento Científico",
          "Brazil/Coordenação de Aperfeiçoamento de Pessoal de Nível Superior",
          "United States/Craniofacial Research",
          "/DDCF",
          "Canada/DDCF",
          "France/DDCF",
          "United States/DDCF",
          "Zambia/DDCF",
          "United Kingdom/De La Salle University",
          "India/Department of Science and Technology",
          "United States/Deutsche Forschungsgemeinschaft",
          "/Doris Duke Charitable Foundation",
          "Canada/Doris Duke Charitable Foundation",
          "France/Doris Duke Charitable Foundation",
          "United States/Doris Duke Charitable Foundation",
          "Zambia/Doris Duke Charitable Foundation",
          "United States/EY01765",
          "United States/EYEY001765",
          "Brazil/Estado de Minas Gerais",
          "Argentina/FFB",
          "United States/FFB",
          "United States/FFS",
          "Uganda/FIC",
          "Brazil/FIOCRUZ",
          "Malawi/FNIH",
          "United Kingdom/FNIH",
          "United States/FNIH",
          "Brazil/FUNTTEL",
          "Uganda/Fogarty International Center",
          "France/Fondation",
          "Italy/Fondazione Città",
          "Argentina/Fondo",
          "United States/Fondo",
          "Brazil/Fundação de Amparo à Pesquisa",
          "United Kingdom/Fundação de Amparo à Pesquisa",
          "United States/Fundação de Amparo à Pesquisa",
          "Pakistan/Future Planning",
          "South Korea/Future Planning",
          "Brazil/G0000111",
          "United Kingdom/G0000111",
          "United States/G0000111",
          "United States/GHF",
          "Italy/Genentech",
          "United States/Genentech",
          "Georgia/Georgia Regents University",
          "United States/Georgia Regents University",
          "United States/Gilead Sciences",
          "United States/Grant Healthcare Foundation",
          "United States/HHS",
          "United States/HOF",
          "Georgia/Health Services Research and Development",
          "United States/Health Services Research and Development",
          "United States/Heed Ophthalmic Foundation",
          "France/Horizon 2020 Framework Programme",
          "Netherlands/Horizon 2020 Framework Programme",
          "Pakistan/ICT",
          "South Korea/ICT",
          "Canada/Icahn School of Medicine",
          "France/Icahn School of Medicine",
          "United States/Icahn School of Medicine",
          "France/Institut National de la Santé et de la Recherche Médicale",
          "French Guiana/Institut National de la Santé et de la Recherche Médicale",
          "Mali/Institut National de la Santé et de la Recherche Médicale",
          "Senegal/Institut National de la Santé et de la Recherche Médicale",
          "Brazil/Instituto Nacional de Ciência e Tecnologia de Estudos",
          "United States/Janssen Pharmaceuticals",
          "China/Jilin University",
          "Brazil/Johns Hopkins University",
          "United States/Johns Hopkins University",
          "United States/K08-EY021189",
          "United States/K23-EY022947-01A1",
          "France/K23HL119627",
          "Guadeloupe/K23HL119627",
          "United States/K23HL119627",
          "Netherlands/LSBR",
          "Netherlands/Landsteiner Foundation",
          "United Kingdom/MRC",
          "United States/MU",
          "United Kingdom/Macula Foundation",
          "United States/Macula Foundation",
          "United States/Marrus Family Foundation",
          "Brazil/Massachusetts Lions Eye Research Fund",
          "United States/Massachusetts Lions Eye Research Fund",
          "Brazil/Medical Research Council",
          "Denmark/Medical Research Council",
          "Malawi/Medical Research Council",
          "United Kingdom/Medical Research Council",
          "United States/Medical Research Council",
          "Argentina/Medioambientales y Tecnológicas",
          "United States/Medioambientales y Tecnológicas",
          "United States/Milbank Foundation",
          "Pakistan/Ministry of Science",
          "South Korea/Ministry of Science",
          "India/Ministry of Science and Technology",
          "Germany/Moorfields Eye Hospital NHS Foundation Trust",
          "United Kingdom/Moorfields Eye Hospital NHS Foundation Trust",
          "China/NCI",
          "United States/NCI",
          "Jamaica/NEI",
          "Malaysia/NEI",
          "United States/NEI",
          "Georgia/NIDDK",
          "Norway/NIDDK",
          "United States/NIDDK",
          "/NIH",
          "Argentina/NIH",
          "Canada/NIH",
          "China/NIH",
          "France/NIH",
          "India/NIH",
          "Jamaica/NIH",
          "Malaysia/NIH",
          "Netherlands/NIH",
          "Norway/NIH",
          "Turkey/NIH",
          "Uganda/NIH",
          "United Kingdom/NIH",
          "United States/NIH",
          "Zambia/NIH",
          "Malaysia/NIHR",
          "United Kingdom/NIHR Bristol Biomedical Research Centre",
          "Canada/NPC",
          "India/NPC",
          "United States/NPC",
          "China/NSF",
          "United States/NSF",
          "Netherlands/NWO",
          "China/National Cancer Institute",
          "United States/National Cancer Institute",
          "/National Center for Advancing Translational Sciences",
          "United States/National Center for Advancing Translational Sciences",
          "United States/National Center for Research Resources",
          "/National Eye Institute",
          "Argentina/National Eye Institute",
          "China/National Eye Institute",
          "Georgia/National Eye Institute",
          "Italy/National Eye Institute",
          "Jamaica/National Eye Institute",
          "Jersey/National Eye Institute",
          "Malaysia/National Eye Institute",
          "Turkey/National Eye Institute",
          "United States/National Eye Institute",
          "/National Heart,Lung and Blood Institute",
          "Brazil/National Heart,Lung and Blood Institute",
          "Canada/National Heart,Lung and Blood Institute",
          "France/National Heart,Lung and Blood Institute",
          "Georgia/National Heart,Lung and Blood Institute",
          "Ghana/National Heart,Lung and Blood Institute",
          "Guadeloupe/National Heart,Lung and Blood Institute",
          "India/National Heart,Lung and Blood Institute",
          "Jamaica/National Heart,Lung and Blood Institute",
          "Malaysia/National Heart,Lung and Blood Institute",
          "Mexico/National Heart,Lung and Blood Institute",
          "Niger/National Heart,Lung and Blood Institute",
          "Nigeria/National Heart,Lung and Blood Institute",
          "South Africa/National Heart,Lung and Blood Institute",
          "United Kingdom/National Heart,Lung and Blood Institute",
          "United States/National Heart,Lung and Blood Institute",
          "Malaysia/National Institute for Health Research",
          "United Kingdom/National Institute for Health Research Biomedical Research Centre",
          "Malaysia/National Institute for Health and Care Research",
          "Georgia/National Institute of Diabetes and",
          "Norway/National Institute of Diabetes and",
          "United States/National Institute of Diabetes and",
          "United States/National Institute of General Medical Sciences",
          "United States/National Institute of Neurological Disorders and Stroke",
          "/National Institutes of Health",
          "Argentina/National Institutes of Health",
          "Canada/National Institutes of Health",
          "China/National Institutes of Health",
          "France/National Institutes of Health",
          "India/National Institutes of Health",
          "Jamaica/National Institutes of Health",
          "Malaysia/National Institutes of Health",
          "Netherlands/National Institutes of Health",
          "Norway/National Institutes of Health",
          "Turkey/National Institutes of Health",
          "Uganda/National Institutes of Health",
          "United Kingdom/National Institutes of Health",
          "United States/National Institutes of Health",
          "Zambia/National Institutes of Health",
          "Pakistan/National Research Foundation",
          "South Korea/National Research Foundation",
          "China/National Science Foundation",
          "United States/National Science Foundation",
          "United States/New York Eye",
          "United States/NorthShore University HealthSystem",
          "Canada/Novartis Pharmaceuticals Corporation",
          "India/Novartis Pharmaceuticals Corporation",
          "United States/Novartis Pharmaceuticals Corporation",
          "Argentina/OC-AR PICT N",
          "United States/OC-AR PICT N",
          "Georgia/ORD",
          "United States/ORD",
          "Georgia/Office of Research and Development",
          "United States/Office of Research and Development",
          "United States/P01HL055552",
          "United States/P20GM103446",
          "United States/P30CA008748",
          "Argentina/P30EY001765",
          "China/P30EY001765",
          "United States/P30EY001765",
          "United States/PHS",
          "Netherlands/Pfizer",
          "United States/Pfizer",
          "United States/R00NS060764",
          "United States/R01 EY023522 R01",
          "Argentina/R01EY009357",
          "United States/R01EY009357",
          "Georgia/R01EY011766",
          "United States/R01EY011766",
          "United States/R01EY024969",
          "Turkey/R01EY030101",
          "United States/R01EY030101",
          "Canada/R01HL068922",
          "France/R01HL068922",
          "United States/R01HL068922",
          "Georgia/R01HL070215",
          "United States/R01HL070215",
          "United States/R01HL111659",
          "Georgia/RBC",
          "United States/RBC",
          "United States/RBF",
          "Zambia/RBF",
          "/RPB",
          "Argentina/RPB",
          "China/RPB",
          "Jamaica/RPB",
          "Malaysia/RPB",
          "Turkey/RPB",
          "United States/RPB",
          "Brazil/RTI",
          "United Kingdom/RTI",
          "United States/RTI",
          "United States/Regeneron Pharmaceuticals",
          "Brazil/Research Triangle Institute",
          "United Kingdom/Research Triangle Institute",
          "United States/Research Triangle Institute",
          "United States/Research to Prevent Blindness",
          "United States/Rockefeller Brothers Fund",
          "Zambia/Rockefeller Brothers Fund",
          "Georgia/Royal Bank of Canada",
          "United States/Royal Bank of Canada",
          "Argentina/SECYT",
          "United States/SECYT",
          "Georgia/U.S. Department",
          "United States/U.S. Department",
          "/U.S. Department of Defense",
          "United States/U.S. Department of Defense",
          "United States/U.S. Department of Health and Human Services",
          "United States/U.S. Public Health Service",
          "United States/U01EY025477",
          "United Kingdom/UCL Institute of Ophthalmology",
          "United States/UIC",
          "United States/UL1TR001873",
          "Argentina/UNC",
          "United States/UNC",
          "United States/USPHS",
          "Argentina/Universidad de Buenos Aires",
          "United States/Universidad de Buenos Aires",
          "China/University of Colorado",
          "United States/University of Colorado",
          "United States/University of Illinois",
          "United States/University of Illinois at Chicago",
          "United States/University of Missouri",
          "Georgia/Veterans Affairs",
          "United States/Veterans Affairs",
          "Australia/Victoria University",
          "Switzerland/Victoria University",
          "United States/VitreoRetinal Surgery Foundation",
          "Jamaica/WT",
          "United Kingdom/WT",
          "United States/WT",
          "Jamaica/Wellcome Trust",
          "Malawi/Wellcome Trust",
          "United Kingdom/Wellcome Trust",
          "United States/Wellcome Trust",
          "Malaysia/Yale School of Medicine",
          "United States/Yale University",
          "United States/Yeshiva University",
          "United States/Z01DK075008",
          "Brazil/de Pessoal de N&#x00ED;vel Superior",
          "France/de Pessoal de N&#x00ED;vel Superior",
          "Italy/de Pessoal de N&#x00ED;vel Superior",
          "Monaco/de Pessoal de N&#x00ED;vel Superior",
          "Senegal/de Pessoal de N&#x00ED;vel Superior",
          "Malawi/the National Institutes of Health",
          "Malaysia/the National Institutes of Health",
          "United Kingdom/the National Institutes of Health",
          "United States/the National Institutes of Health",
          "",
          "Argentina",
          "Australia",
          "Brazil",
          "Canada",
          "China",
          "Denmark",
          "France",
          "French Guiana",
          "Georgia",
          "Germany",
          "Ghana",
          "Guadeloupe",
          "Hong Kong",
          "India",
          "Italy",
          "Jamaica",
          "Jersey",
          "Kuwait",
          "Malawi",
          "Malaysia",
          "Mali",
          "Mexico",
          "Monaco",
          "Netherlands",
          "Niger",
          "Nigeria",
          "Norway",
          "Pakistan",
          "Senegal",
          "South Africa",
          "South Korea",
          "Switzerland",
          "Turkey",
          "Uganda",
          "United Kingdom",
          "United States",
          "Zambia"
         ],
         "labels": [
          "ACC",
          "ACC",
          "AHA",
          "AHA",
          "ANR",
          "ANR",
          "ANR",
          "ANR‐11‐IDEX‐0005‐02",
          "ANR‐11‐IDEX‐0005‐02",
          "ANR‐11‐IDEX‐0005‐02",
          "ASH",
          "Agence Nationale de la Recherche",
          "Agence Nationale de la Recherche",
          "Agence Nationale de la Recherche",
          "Albert Einstein College of Medicine",
          "American Association for Dental",
          "American Heart Association",
          "American Heart Association",
          "American Society of Hematology",
          "BID",
          "BID",
          "BP 6006",
          "Bayer",
          "Biomedical Laboratory Research and Development",
          "Biomedical Laboratory Research and Development",
          "Blood Transfusion Research",
          "Brandan’s Eye Research Foundation",
          "Brandan’s Eye Research Foundation",
          "Brandan’s Eye Research Foundation",
          "British Society for Haematology",
          "C06RR016511",
          "CAPES",
          "CAPES",
          "CAPES",
          "CAPES",
          "CAPES",
          "CDC",
          "CDC",
          "CU",
          "CU",
          "Campus France",
          "Campus France",
          "Canada Research Chairs",
          "Canada Research Chairs",
          "Canada Research Chairs",
          "Canadian Institutes of Health Research",
          "Canadian Institutes of Health Research",
          "Canadian Institutes of Health Research",
          "Center for Outcomes Research and Evaluation",
          "Centers for Disease Control and Prevention",
          "Centers for Disease Control and Prevention",
          "Centro de Investigaciones Energéticas",
          "Centro de Investigaciones Energéticas",
          "Colgate-Palmolive Company",
          "Consejo Nacional de Investigaciones Científicas",
          "Consejo Nacional de Investigaciones Científicas",
          "Conselho Nacional de Desenvolvimento Científico",
          "Coordenação de Aperfeiçoamento de Pessoal de Nível Superior",
          "Craniofacial Research",
          "DDCF",
          "DDCF",
          "DDCF",
          "DDCF",
          "DDCF",
          "De La Salle University",
          "Department of Science and Technology",
          "Deutsche Forschungsgemeinschaft",
          "Doris Duke Charitable Foundation",
          "Doris Duke Charitable Foundation",
          "Doris Duke Charitable Foundation",
          "Doris Duke Charitable Foundation",
          "Doris Duke Charitable Foundation",
          "EY01765",
          "EYEY001765",
          "Estado de Minas Gerais",
          "FFB",
          "FFB",
          "FFS",
          "FIC",
          "FIOCRUZ",
          "FNIH",
          "FNIH",
          "FNIH",
          "FUNTTEL",
          "Fogarty International Center",
          "Fondation",
          "Fondazione Città",
          "Fondo",
          "Fondo",
          "Fundação de Amparo à Pesquisa",
          "Fundação de Amparo à Pesquisa",
          "Fundação de Amparo à Pesquisa",
          "Future Planning",
          "Future Planning",
          "G0000111",
          "G0000111",
          "G0000111",
          "GHF",
          "Genentech",
          "Genentech",
          "Georgia Regents University",
          "Georgia Regents University",
          "Gilead Sciences",
          "Grant Healthcare Foundation",
          "HHS",
          "HOF",
          "Health Services Research and Development",
          "Health Services Research and Development",
          "Heed Ophthalmic Foundation",
          "Horizon 2020 Framework Programme",
          "Horizon 2020 Framework Programme",
          "ICT",
          "ICT",
          "Icahn School of Medicine",
          "Icahn School of Medicine",
          "Icahn School of Medicine",
          "Institut National de la Santé et de la Recherche Médicale",
          "Institut National de la Santé et de la Recherche Médicale",
          "Institut National de la Santé et de la Recherche Médicale",
          "Institut National de la Santé et de la Recherche Médicale",
          "Instituto Nacional de Ciência e Tecnologia de Estudos",
          "Janssen Pharmaceuticals",
          "Jilin University",
          "Johns Hopkins University",
          "Johns Hopkins University",
          "K08-EY021189",
          "K23-EY022947-01A1",
          "K23HL119627",
          "K23HL119627",
          "K23HL119627",
          "LSBR",
          "Landsteiner Foundation",
          "MRC",
          "MU",
          "Macula Foundation",
          "Macula Foundation",
          "Marrus Family Foundation",
          "Massachusetts Lions Eye Research Fund",
          "Massachusetts Lions Eye Research Fund",
          "Medical Research Council",
          "Medical Research Council",
          "Medical Research Council",
          "Medical Research Council",
          "Medical Research Council",
          "Medioambientales y Tecnológicas",
          "Medioambientales y Tecnológicas",
          "Milbank Foundation",
          "Ministry of Science",
          "Ministry of Science",
          "Ministry of Science and Technology",
          "Moorfields Eye Hospital NHS Foundation Trust",
          "Moorfields Eye Hospital NHS Foundation Trust",
          "NCI",
          "NCI",
          "NEI",
          "NEI",
          "NEI",
          "NIDDK",
          "NIDDK",
          "NIDDK",
          "NIH",
          "NIH",
          "NIH",
          "NIH",
          "NIH",
          "NIH",
          "NIH",
          "NIH",
          "NIH",
          "NIH",
          "NIH",
          "NIH",
          "NIH",
          "NIH",
          "NIH",
          "NIHR",
          "NIHR Bristol Biomedical Research Centre",
          "NPC",
          "NPC",
          "NPC",
          "NSF",
          "NSF",
          "NWO",
          "National Cancer Institute",
          "National Cancer Institute",
          "National Center for Advancing Translational Sciences",
          "National Center for Advancing Translational Sciences",
          "National Center for Research Resources",
          "National Eye Institute",
          "National Eye Institute",
          "National Eye Institute",
          "National Eye Institute",
          "National Eye Institute",
          "National Eye Institute",
          "National Eye Institute",
          "National Eye Institute",
          "National Eye Institute",
          "National Eye Institute",
          "National Heart,Lung and Blood Institute",
          "National Heart,Lung and Blood Institute",
          "National Heart,Lung and Blood Institute",
          "National Heart,Lung and Blood Institute",
          "National Heart,Lung and Blood Institute",
          "National Heart,Lung and Blood Institute",
          "National Heart,Lung and Blood Institute",
          "National Heart,Lung and Blood Institute",
          "National Heart,Lung and Blood Institute",
          "National Heart,Lung and Blood Institute",
          "National Heart,Lung and Blood Institute",
          "National Heart,Lung and Blood Institute",
          "National Heart,Lung and Blood Institute",
          "National Heart,Lung and Blood Institute",
          "National Heart,Lung and Blood Institute",
          "National Heart,Lung and Blood Institute",
          "National Institute for Health Research",
          "National Institute for Health Research Biomedical Research Centre",
          "National Institute for Health and Care Research",
          "National Institute of Diabetes and",
          "National Institute of Diabetes and",
          "National Institute of Diabetes and",
          "National Institute of General Medical Sciences",
          "National Institute of Neurological Disorders and Stroke",
          "National Institutes of Health",
          "National Institutes of Health",
          "National Institutes of Health",
          "National Institutes of Health",
          "National Institutes of Health",
          "National Institutes of Health",
          "National Institutes of Health",
          "National Institutes of Health",
          "National Institutes of Health",
          "National Institutes of Health",
          "National Institutes of Health",
          "National Institutes of Health",
          "National Institutes of Health",
          "National Institutes of Health",
          "National Institutes of Health",
          "National Research Foundation",
          "National Research Foundation",
          "National Science Foundation",
          "National Science Foundation",
          "New York Eye",
          "NorthShore University HealthSystem",
          "Novartis Pharmaceuticals Corporation",
          "Novartis Pharmaceuticals Corporation",
          "Novartis Pharmaceuticals Corporation",
          "OC-AR PICT N",
          "OC-AR PICT N",
          "ORD",
          "ORD",
          "Office of Research and Development",
          "Office of Research and Development",
          "P01HL055552",
          "P20GM103446",
          "P30CA008748",
          "P30EY001765",
          "P30EY001765",
          "P30EY001765",
          "PHS",
          "Pfizer",
          "Pfizer",
          "R00NS060764",
          "R01 EY023522 R01",
          "R01EY009357",
          "R01EY009357",
          "R01EY011766",
          "R01EY011766",
          "R01EY024969",
          "R01EY030101",
          "R01EY030101",
          "R01HL068922",
          "R01HL068922",
          "R01HL068922",
          "R01HL070215",
          "R01HL070215",
          "R01HL111659",
          "RBC",
          "RBC",
          "RBF",
          "RBF",
          "RPB",
          "RPB",
          "RPB",
          "RPB",
          "RPB",
          "RPB",
          "RPB",
          "RTI",
          "RTI",
          "RTI",
          "Regeneron Pharmaceuticals",
          "Research Triangle Institute",
          "Research Triangle Institute",
          "Research Triangle Institute",
          "Research to Prevent Blindness",
          "Rockefeller Brothers Fund",
          "Rockefeller Brothers Fund",
          "Royal Bank of Canada",
          "Royal Bank of Canada",
          "SECYT",
          "SECYT",
          "U.S. Department",
          "U.S. Department",
          "U.S. Department of Defense",
          "U.S. Department of Defense",
          "U.S. Department of Health and Human Services",
          "U.S. Public Health Service",
          "U01EY025477",
          "UCL Institute of Ophthalmology",
          "UIC",
          "UL1TR001873",
          "UNC",
          "UNC",
          "USPHS",
          "Universidad de Buenos Aires",
          "Universidad de Buenos Aires",
          "University of Colorado",
          "University of Colorado",
          "University of Illinois",
          "University of Illinois at Chicago",
          "University of Missouri",
          "Veterans Affairs",
          "Veterans Affairs",
          "Victoria University",
          "Victoria University",
          "VitreoRetinal Surgery Foundation",
          "WT",
          "WT",
          "WT",
          "Wellcome Trust",
          "Wellcome Trust",
          "Wellcome Trust",
          "Wellcome Trust",
          "Yale School of Medicine",
          "Yale University",
          "Yeshiva University",
          "Z01DK075008",
          "de Pessoal de N&#x00ED;vel Superior",
          "de Pessoal de N&#x00ED;vel Superior",
          "de Pessoal de N&#x00ED;vel Superior",
          "de Pessoal de N&#x00ED;vel Superior",
          "de Pessoal de N&#x00ED;vel Superior",
          "the National Institutes of Health",
          "the National Institutes of Health",
          "the National Institutes of Health",
          "the National Institutes of Health",
          "",
          "Argentina",
          "Australia",
          "Brazil",
          "Canada",
          "China",
          "Denmark",
          "France",
          "French Guiana",
          "Georgia",
          "Germany",
          "Ghana",
          "Guadeloupe",
          "Hong Kong",
          "India",
          "Italy",
          "Jamaica",
          "Jersey",
          "Kuwait",
          "Malawi",
          "Malaysia",
          "Mali",
          "Mexico",
          "Monaco",
          "Netherlands",
          "Niger",
          "Nigeria",
          "Norway",
          "Pakistan",
          "Senegal",
          "South Africa",
          "South Korea",
          "Switzerland",
          "Turkey",
          "Uganda",
          "United Kingdom",
          "United States",
          "Zambia"
         ],
         "marker": {
          "coloraxis": "coloraxis",
          "colors": [
           1,
           1,
           1,
           1,
           1,
           1,
           1,
           1,
           1,
           1,
           1,
           1,
           1,
           1,
           1,
           1,
           1,
           1,
           3,
           1,
           1,
           1,
           1,
           1,
           1,
           1,
           2,
           1,
           1,
           2,
           1,
           2,
           1,
           1,
           1,
           1,
           1,
           1,
           1,
           1,
           1,
           1,
           1,
           1,
           1,
           2,
           2,
           2,
           1,
           1,
           1,
           1,
           1,
           1,
           1,
           1,
           4,
           1,
           1,
           1,
           2,
           2,
           4,
           1,
           1,
           1,
           1,
           1,
           2,
           2,
           5,
           1,
           2,
           1,
           1,
           1,
           3,
           1,
           1,
           1,
           1,
           1,
           1,
           1,
           1,
           2,
           2,
           2,
           1,
           7,
           1,
           1,
           1,
           1,
           1,
           1,
           1,
           1,
           1,
           4,
           1,
           1,
           1,
           1,
           1,
           1,
           1,
           1,
           1,
           1,
           1,
           1,
           1,
           1,
           1,
           1,
           2,
           1,
           1,
           1,
           1,
           1,
           1,
           1,
           1,
           1,
           1,
           1,
           1,
           1,
           1,
           1,
           1,
           1,
           1,
           1,
           3,
           1,
           1,
           1,
           1,
           1,
           5,
           2,
           1,
           1,
           1,
           1,
           1,
           1,
           1,
           2,
           1,
           3,
           1,
           1,
           5,
           1,
           1,
           4,
           2,
           1,
           2,
           1,
           2,
           1,
           4,
           1,
           1,
           1,
           1,
           1,
           1,
           42,
           1,
           1,
           1,
           1,
           1,
           3,
           1,
           3,
           1,
           1,
           3,
           1,
           4,
           2,
           1,
           1,
           1,
           4,
           1,
           2,
           1,
           2,
           1,
           62,
           4,
           2,
           4,
           6,
           4,
           2,
           2,
           2,
           18,
           4,
           2,
           2,
           2,
           2,
           6,
           129,
           1,
           1,
           1,
           1,
           1,
           5,
           2,
           2,
           2,
           1,
           2,
           1,
           2,
           1,
           4,
           2,
           1,
           1,
           1,
           1,
           1,
           43,
           1,
           1,
           2,
           1,
           3,
           1,
           1,
           1,
           1,
           3,
           1,
           1,
           2,
           2,
           2,
           2,
           2,
           1,
           1,
           1,
           1,
           14,
           1,
           1,
           1,
           1,
           1,
           1,
           2,
           1,
           1,
           2,
           1,
           1,
           2,
           2,
           2,
           1,
           1,
           2,
           1,
           1,
           1,
           1,
           1,
           1,
           1,
           1,
           1,
           1,
           25,
           1,
           1,
           1,
           1,
           1,
           1,
           1,
           1,
           1,
           1,
           1,
           1,
           1,
           1,
           1,
           2,
           1,
           1,
           1,
           7,
           1,
           1,
           1,
           2,
           1,
           1,
           7,
           1,
           1,
           1,
           1,
           1,
           1,
           1,
           1,
           2,
           1,
           1,
           1,
           4,
           4,
           1,
           4,
           1,
           7,
           2,
           1,
           1,
           1,
           1,
           1,
           1,
           1,
           1,
           1,
           1,
           1,
           1,
           1,
           2.142857142857143,
           1.1111111111111112,
           1,
           3.1481481481481484,
           2.1818181818181817,
           1,
           1,
           2.4375,
           1,
           2.12,
           1,
           2,
           1.6666666666666667,
           1,
           1.25,
           1.3333333333333333,
           10.368421052631579,
           1,
           1,
           1,
           2.0434782608695654,
           1,
           2,
           1,
           1,
           2,
           2,
           1,
           1,
           1,
           2,
           1.4,
           1,
           1,
           1,
           3.789473684210526,
           51.056338028169016,
           1
          ]
         },
         "name": "",
         "parents": [
          "Argentina",
          "United States",
          "Georgia",
          "United States",
          "France",
          "Mali",
          "Senegal",
          "France",
          "Mali",
          "Senegal",
          "Malaysia",
          "France",
          "Mali",
          "Senegal",
          "United States",
          "United States",
          "Georgia",
          "United States",
          "Malaysia",
          "Argentina",
          "United States",
          "French Guiana",
          "Netherlands",
          "Georgia",
          "United States",
          "Netherlands",
          "Canada",
          "Hong Kong",
          "Kuwait",
          "Malaysia",
          "United States",
          "Brazil",
          "France",
          "Italy",
          "Monaco",
          "Senegal",
          "United States",
          "Zambia",
          "China",
          "United States",
          "France",
          "Senegal",
          "Canada",
          "France",
          "United States",
          "Canada",
          "France",
          "United States",
          "Malaysia",
          "United States",
          "Zambia",
          "Argentina",
          "United States",
          "United States",
          "Argentina",
          "United States",
          "Brazil",
          "Brazil",
          "United States",
          "",
          "Canada",
          "France",
          "United States",
          "Zambia",
          "United Kingdom",
          "India",
          "United States",
          "",
          "Canada",
          "France",
          "United States",
          "Zambia",
          "United States",
          "United States",
          "Brazil",
          "Argentina",
          "United States",
          "United States",
          "Uganda",
          "Brazil",
          "Malawi",
          "United Kingdom",
          "United States",
          "Brazil",
          "Uganda",
          "France",
          "Italy",
          "Argentina",
          "United States",
          "Brazil",
          "United Kingdom",
          "United States",
          "Pakistan",
          "South Korea",
          "Brazil",
          "United Kingdom",
          "United States",
          "United States",
          "Italy",
          "United States",
          "Georgia",
          "United States",
          "United States",
          "United States",
          "United States",
          "United States",
          "Georgia",
          "United States",
          "United States",
          "France",
          "Netherlands",
          "Pakistan",
          "South Korea",
          "Canada",
          "France",
          "United States",
          "France",
          "French Guiana",
          "Mali",
          "Senegal",
          "Brazil",
          "United States",
          "China",
          "Brazil",
          "United States",
          "United States",
          "United States",
          "France",
          "Guadeloupe",
          "United States",
          "Netherlands",
          "Netherlands",
          "United Kingdom",
          "United States",
          "United Kingdom",
          "United States",
          "United States",
          "Brazil",
          "United States",
          "Brazil",
          "Denmark",
          "Malawi",
          "United Kingdom",
          "United States",
          "Argentina",
          "United States",
          "United States",
          "Pakistan",
          "South Korea",
          "India",
          "Germany",
          "United Kingdom",
          "China",
          "United States",
          "Jamaica",
          "Malaysia",
          "United States",
          "Georgia",
          "Norway",
          "United States",
          "",
          "Argentina",
          "Canada",
          "China",
          "France",
          "India",
          "Jamaica",
          "Malaysia",
          "Netherlands",
          "Norway",
          "Turkey",
          "Uganda",
          "United Kingdom",
          "United States",
          "Zambia",
          "Malaysia",
          "United Kingdom",
          "Canada",
          "India",
          "United States",
          "China",
          "United States",
          "Netherlands",
          "China",
          "United States",
          "",
          "United States",
          "United States",
          "",
          "Argentina",
          "China",
          "Georgia",
          "Italy",
          "Jamaica",
          "Jersey",
          "Malaysia",
          "Turkey",
          "United States",
          "",
          "Brazil",
          "Canada",
          "France",
          "Georgia",
          "Ghana",
          "Guadeloupe",
          "India",
          "Jamaica",
          "Malaysia",
          "Mexico",
          "Niger",
          "Nigeria",
          "South Africa",
          "United Kingdom",
          "United States",
          "Malaysia",
          "United Kingdom",
          "Malaysia",
          "Georgia",
          "Norway",
          "United States",
          "United States",
          "United States",
          "",
          "Argentina",
          "Canada",
          "China",
          "France",
          "India",
          "Jamaica",
          "Malaysia",
          "Netherlands",
          "Norway",
          "Turkey",
          "Uganda",
          "United Kingdom",
          "United States",
          "Zambia",
          "Pakistan",
          "South Korea",
          "China",
          "United States",
          "United States",
          "United States",
          "Canada",
          "India",
          "United States",
          "Argentina",
          "United States",
          "Georgia",
          "United States",
          "Georgia",
          "United States",
          "United States",
          "United States",
          "United States",
          "Argentina",
          "China",
          "United States",
          "United States",
          "Netherlands",
          "United States",
          "United States",
          "United States",
          "Argentina",
          "United States",
          "Georgia",
          "United States",
          "United States",
          "Turkey",
          "United States",
          "Canada",
          "France",
          "United States",
          "Georgia",
          "United States",
          "United States",
          "Georgia",
          "United States",
          "United States",
          "Zambia",
          "",
          "Argentina",
          "China",
          "Jamaica",
          "Malaysia",
          "Turkey",
          "United States",
          "Brazil",
          "United Kingdom",
          "United States",
          "United States",
          "Brazil",
          "United Kingdom",
          "United States",
          "United States",
          "United States",
          "Zambia",
          "Georgia",
          "United States",
          "Argentina",
          "United States",
          "Georgia",
          "United States",
          "",
          "United States",
          "United States",
          "United States",
          "United States",
          "United Kingdom",
          "United States",
          "United States",
          "Argentina",
          "United States",
          "United States",
          "Argentina",
          "United States",
          "China",
          "United States",
          "United States",
          "United States",
          "United States",
          "Georgia",
          "United States",
          "Australia",
          "Switzerland",
          "United States",
          "Jamaica",
          "United Kingdom",
          "United States",
          "Jamaica",
          "Malawi",
          "United Kingdom",
          "United States",
          "Malaysia",
          "United States",
          "United States",
          "United States",
          "Brazil",
          "France",
          "Italy",
          "Monaco",
          "Senegal",
          "Malawi",
          "Malaysia",
          "United Kingdom",
          "United States",
          "",
          "",
          "",
          "",
          "",
          "",
          "",
          "",
          "",
          "",
          "",
          "",
          "",
          "",
          "",
          "",
          "",
          "",
          "",
          "",
          "",
          "",
          "",
          "",
          "",
          "",
          "",
          "",
          "",
          "",
          "",
          "",
          "",
          "",
          "",
          "",
          "",
          ""
         ],
         "type": "sunburst",
         "values": [
          1,
          1,
          1,
          1,
          1,
          1,
          1,
          1,
          1,
          1,
          1,
          1,
          1,
          1,
          1,
          1,
          1,
          1,
          3,
          1,
          1,
          1,
          1,
          1,
          1,
          1,
          2,
          1,
          1,
          2,
          1,
          2,
          1,
          1,
          1,
          1,
          1,
          1,
          1,
          1,
          1,
          1,
          1,
          1,
          1,
          2,
          2,
          2,
          1,
          1,
          1,
          1,
          1,
          1,
          1,
          1,
          4,
          1,
          1,
          1,
          2,
          2,
          4,
          1,
          1,
          1,
          1,
          1,
          2,
          2,
          5,
          1,
          2,
          1,
          1,
          1,
          3,
          1,
          1,
          1,
          1,
          1,
          1,
          1,
          1,
          2,
          2,
          2,
          1,
          7,
          1,
          1,
          1,
          1,
          1,
          1,
          1,
          1,
          1,
          4,
          1,
          1,
          1,
          1,
          1,
          1,
          1,
          1,
          1,
          1,
          1,
          1,
          1,
          1,
          1,
          1,
          2,
          1,
          1,
          1,
          1,
          1,
          1,
          1,
          1,
          1,
          1,
          1,
          1,
          1,
          1,
          1,
          1,
          1,
          1,
          1,
          3,
          1,
          1,
          1,
          1,
          1,
          5,
          2,
          1,
          1,
          1,
          1,
          1,
          1,
          1,
          2,
          1,
          3,
          1,
          1,
          5,
          1,
          1,
          4,
          2,
          1,
          2,
          1,
          2,
          1,
          4,
          1,
          1,
          1,
          1,
          1,
          1,
          42,
          1,
          1,
          1,
          1,
          1,
          3,
          1,
          3,
          1,
          1,
          3,
          1,
          4,
          2,
          1,
          1,
          1,
          4,
          1,
          2,
          1,
          2,
          1,
          62,
          4,
          2,
          4,
          6,
          4,
          2,
          2,
          2,
          18,
          4,
          2,
          2,
          2,
          2,
          6,
          129,
          1,
          1,
          1,
          1,
          1,
          5,
          2,
          2,
          2,
          1,
          2,
          1,
          2,
          1,
          4,
          2,
          1,
          1,
          1,
          1,
          1,
          43,
          1,
          1,
          2,
          1,
          3,
          1,
          1,
          1,
          1,
          3,
          1,
          1,
          2,
          2,
          2,
          2,
          2,
          1,
          1,
          1,
          1,
          14,
          1,
          1,
          1,
          1,
          1,
          1,
          2,
          1,
          1,
          2,
          1,
          1,
          2,
          2,
          2,
          1,
          1,
          2,
          1,
          1,
          1,
          1,
          1,
          1,
          1,
          1,
          1,
          1,
          25,
          1,
          1,
          1,
          1,
          1,
          1,
          1,
          1,
          1,
          1,
          1,
          1,
          1,
          1,
          1,
          2,
          1,
          1,
          1,
          7,
          1,
          1,
          1,
          2,
          1,
          1,
          7,
          1,
          1,
          1,
          1,
          1,
          1,
          1,
          1,
          2,
          1,
          1,
          1,
          4,
          4,
          1,
          4,
          1,
          7,
          2,
          1,
          1,
          1,
          1,
          1,
          1,
          1,
          1,
          1,
          1,
          1,
          1,
          1,
          14,
          18,
          1,
          27,
          22,
          12,
          1,
          32,
          2,
          25,
          1,
          2,
          3,
          1,
          8,
          6,
          38,
          1,
          1,
          4,
          23,
          4,
          2,
          2,
          9,
          2,
          2,
          4,
          4,
          7,
          2,
          5,
          1,
          5,
          4,
          38,
          497,
          8
         ]
        }
       ],
       "layout": {
        "coloraxis": {
         "colorbar": {
          "title": {
           "text": "Times Funded"
          }
         },
         "colorscale": [
          [
           0,
           "rgb(247,251,255)"
          ],
          [
           0.125,
           "rgb(222,235,247)"
          ],
          [
           0.25,
           "rgb(198,219,239)"
          ],
          [
           0.375,
           "rgb(158,202,225)"
          ],
          [
           0.5,
           "rgb(107,174,214)"
          ],
          [
           0.625,
           "rgb(66,146,198)"
          ],
          [
           0.75,
           "rgb(33,113,181)"
          ],
          [
           0.875,
           "rgb(8,81,156)"
          ],
          [
           1,
           "rgb(8,48,107)"
          ]
         ]
        },
        "legend": {
         "tracegroupgap": 0
        },
        "margin": {
         "t": 60
        },
        "template": {
         "data": {
          "bar": [
           {
            "error_x": {
             "color": "#2a3f5f"
            },
            "error_y": {
             "color": "#2a3f5f"
            },
            "marker": {
             "line": {
              "color": "#E5ECF6",
              "width": 0.5
             },
             "pattern": {
              "fillmode": "overlay",
              "size": 10,
              "solidity": 0.2
             }
            },
            "type": "bar"
           }
          ],
          "barpolar": [
           {
            "marker": {
             "line": {
              "color": "#E5ECF6",
              "width": 0.5
             },
             "pattern": {
              "fillmode": "overlay",
              "size": 10,
              "solidity": 0.2
             }
            },
            "type": "barpolar"
           }
          ],
          "carpet": [
           {
            "aaxis": {
             "endlinecolor": "#2a3f5f",
             "gridcolor": "white",
             "linecolor": "white",
             "minorgridcolor": "white",
             "startlinecolor": "#2a3f5f"
            },
            "baxis": {
             "endlinecolor": "#2a3f5f",
             "gridcolor": "white",
             "linecolor": "white",
             "minorgridcolor": "white",
             "startlinecolor": "#2a3f5f"
            },
            "type": "carpet"
           }
          ],
          "choropleth": [
           {
            "colorbar": {
             "outlinewidth": 0,
             "ticks": ""
            },
            "type": "choropleth"
           }
          ],
          "contour": [
           {
            "colorbar": {
             "outlinewidth": 0,
             "ticks": ""
            },
            "colorscale": [
             [
              0,
              "#0d0887"
             ],
             [
              0.1111111111111111,
              "#46039f"
             ],
             [
              0.2222222222222222,
              "#7201a8"
             ],
             [
              0.3333333333333333,
              "#9c179e"
             ],
             [
              0.4444444444444444,
              "#bd3786"
             ],
             [
              0.5555555555555556,
              "#d8576b"
             ],
             [
              0.6666666666666666,
              "#ed7953"
             ],
             [
              0.7777777777777778,
              "#fb9f3a"
             ],
             [
              0.8888888888888888,
              "#fdca26"
             ],
             [
              1,
              "#f0f921"
             ]
            ],
            "type": "contour"
           }
          ],
          "contourcarpet": [
           {
            "colorbar": {
             "outlinewidth": 0,
             "ticks": ""
            },
            "type": "contourcarpet"
           }
          ],
          "heatmap": [
           {
            "colorbar": {
             "outlinewidth": 0,
             "ticks": ""
            },
            "colorscale": [
             [
              0,
              "#0d0887"
             ],
             [
              0.1111111111111111,
              "#46039f"
             ],
             [
              0.2222222222222222,
              "#7201a8"
             ],
             [
              0.3333333333333333,
              "#9c179e"
             ],
             [
              0.4444444444444444,
              "#bd3786"
             ],
             [
              0.5555555555555556,
              "#d8576b"
             ],
             [
              0.6666666666666666,
              "#ed7953"
             ],
             [
              0.7777777777777778,
              "#fb9f3a"
             ],
             [
              0.8888888888888888,
              "#fdca26"
             ],
             [
              1,
              "#f0f921"
             ]
            ],
            "type": "heatmap"
           }
          ],
          "heatmapgl": [
           {
            "colorbar": {
             "outlinewidth": 0,
             "ticks": ""
            },
            "colorscale": [
             [
              0,
              "#0d0887"
             ],
             [
              0.1111111111111111,
              "#46039f"
             ],
             [
              0.2222222222222222,
              "#7201a8"
             ],
             [
              0.3333333333333333,
              "#9c179e"
             ],
             [
              0.4444444444444444,
              "#bd3786"
             ],
             [
              0.5555555555555556,
              "#d8576b"
             ],
             [
              0.6666666666666666,
              "#ed7953"
             ],
             [
              0.7777777777777778,
              "#fb9f3a"
             ],
             [
              0.8888888888888888,
              "#fdca26"
             ],
             [
              1,
              "#f0f921"
             ]
            ],
            "type": "heatmapgl"
           }
          ],
          "histogram": [
           {
            "marker": {
             "pattern": {
              "fillmode": "overlay",
              "size": 10,
              "solidity": 0.2
             }
            },
            "type": "histogram"
           }
          ],
          "histogram2d": [
           {
            "colorbar": {
             "outlinewidth": 0,
             "ticks": ""
            },
            "colorscale": [
             [
              0,
              "#0d0887"
             ],
             [
              0.1111111111111111,
              "#46039f"
             ],
             [
              0.2222222222222222,
              "#7201a8"
             ],
             [
              0.3333333333333333,
              "#9c179e"
             ],
             [
              0.4444444444444444,
              "#bd3786"
             ],
             [
              0.5555555555555556,
              "#d8576b"
             ],
             [
              0.6666666666666666,
              "#ed7953"
             ],
             [
              0.7777777777777778,
              "#fb9f3a"
             ],
             [
              0.8888888888888888,
              "#fdca26"
             ],
             [
              1,
              "#f0f921"
             ]
            ],
            "type": "histogram2d"
           }
          ],
          "histogram2dcontour": [
           {
            "colorbar": {
             "outlinewidth": 0,
             "ticks": ""
            },
            "colorscale": [
             [
              0,
              "#0d0887"
             ],
             [
              0.1111111111111111,
              "#46039f"
             ],
             [
              0.2222222222222222,
              "#7201a8"
             ],
             [
              0.3333333333333333,
              "#9c179e"
             ],
             [
              0.4444444444444444,
              "#bd3786"
             ],
             [
              0.5555555555555556,
              "#d8576b"
             ],
             [
              0.6666666666666666,
              "#ed7953"
             ],
             [
              0.7777777777777778,
              "#fb9f3a"
             ],
             [
              0.8888888888888888,
              "#fdca26"
             ],
             [
              1,
              "#f0f921"
             ]
            ],
            "type": "histogram2dcontour"
           }
          ],
          "mesh3d": [
           {
            "colorbar": {
             "outlinewidth": 0,
             "ticks": ""
            },
            "type": "mesh3d"
           }
          ],
          "parcoords": [
           {
            "line": {
             "colorbar": {
              "outlinewidth": 0,
              "ticks": ""
             }
            },
            "type": "parcoords"
           }
          ],
          "pie": [
           {
            "automargin": true,
            "type": "pie"
           }
          ],
          "scatter": [
           {
            "fillpattern": {
             "fillmode": "overlay",
             "size": 10,
             "solidity": 0.2
            },
            "type": "scatter"
           }
          ],
          "scatter3d": [
           {
            "line": {
             "colorbar": {
              "outlinewidth": 0,
              "ticks": ""
             }
            },
            "marker": {
             "colorbar": {
              "outlinewidth": 0,
              "ticks": ""
             }
            },
            "type": "scatter3d"
           }
          ],
          "scattercarpet": [
           {
            "marker": {
             "colorbar": {
              "outlinewidth": 0,
              "ticks": ""
             }
            },
            "type": "scattercarpet"
           }
          ],
          "scattergeo": [
           {
            "marker": {
             "colorbar": {
              "outlinewidth": 0,
              "ticks": ""
             }
            },
            "type": "scattergeo"
           }
          ],
          "scattergl": [
           {
            "marker": {
             "colorbar": {
              "outlinewidth": 0,
              "ticks": ""
             }
            },
            "type": "scattergl"
           }
          ],
          "scattermapbox": [
           {
            "marker": {
             "colorbar": {
              "outlinewidth": 0,
              "ticks": ""
             }
            },
            "type": "scattermapbox"
           }
          ],
          "scatterpolar": [
           {
            "marker": {
             "colorbar": {
              "outlinewidth": 0,
              "ticks": ""
             }
            },
            "type": "scatterpolar"
           }
          ],
          "scatterpolargl": [
           {
            "marker": {
             "colorbar": {
              "outlinewidth": 0,
              "ticks": ""
             }
            },
            "type": "scatterpolargl"
           }
          ],
          "scatterternary": [
           {
            "marker": {
             "colorbar": {
              "outlinewidth": 0,
              "ticks": ""
             }
            },
            "type": "scatterternary"
           }
          ],
          "surface": [
           {
            "colorbar": {
             "outlinewidth": 0,
             "ticks": ""
            },
            "colorscale": [
             [
              0,
              "#0d0887"
             ],
             [
              0.1111111111111111,
              "#46039f"
             ],
             [
              0.2222222222222222,
              "#7201a8"
             ],
             [
              0.3333333333333333,
              "#9c179e"
             ],
             [
              0.4444444444444444,
              "#bd3786"
             ],
             [
              0.5555555555555556,
              "#d8576b"
             ],
             [
              0.6666666666666666,
              "#ed7953"
             ],
             [
              0.7777777777777778,
              "#fb9f3a"
             ],
             [
              0.8888888888888888,
              "#fdca26"
             ],
             [
              1,
              "#f0f921"
             ]
            ],
            "type": "surface"
           }
          ],
          "table": [
           {
            "cells": {
             "fill": {
              "color": "#EBF0F8"
             },
             "line": {
              "color": "white"
             }
            },
            "header": {
             "fill": {
              "color": "#C8D4E3"
             },
             "line": {
              "color": "white"
             }
            },
            "type": "table"
           }
          ]
         },
         "layout": {
          "annotationdefaults": {
           "arrowcolor": "#2a3f5f",
           "arrowhead": 0,
           "arrowwidth": 1
          },
          "autotypenumbers": "strict",
          "coloraxis": {
           "colorbar": {
            "outlinewidth": 0,
            "ticks": ""
           }
          },
          "colorscale": {
           "diverging": [
            [
             0,
             "#8e0152"
            ],
            [
             0.1,
             "#c51b7d"
            ],
            [
             0.2,
             "#de77ae"
            ],
            [
             0.3,
             "#f1b6da"
            ],
            [
             0.4,
             "#fde0ef"
            ],
            [
             0.5,
             "#f7f7f7"
            ],
            [
             0.6,
             "#e6f5d0"
            ],
            [
             0.7,
             "#b8e186"
            ],
            [
             0.8,
             "#7fbc41"
            ],
            [
             0.9,
             "#4d9221"
            ],
            [
             1,
             "#276419"
            ]
           ],
           "sequential": [
            [
             0,
             "#0d0887"
            ],
            [
             0.1111111111111111,
             "#46039f"
            ],
            [
             0.2222222222222222,
             "#7201a8"
            ],
            [
             0.3333333333333333,
             "#9c179e"
            ],
            [
             0.4444444444444444,
             "#bd3786"
            ],
            [
             0.5555555555555556,
             "#d8576b"
            ],
            [
             0.6666666666666666,
             "#ed7953"
            ],
            [
             0.7777777777777778,
             "#fb9f3a"
            ],
            [
             0.8888888888888888,
             "#fdca26"
            ],
            [
             1,
             "#f0f921"
            ]
           ],
           "sequentialminus": [
            [
             0,
             "#0d0887"
            ],
            [
             0.1111111111111111,
             "#46039f"
            ],
            [
             0.2222222222222222,
             "#7201a8"
            ],
            [
             0.3333333333333333,
             "#9c179e"
            ],
            [
             0.4444444444444444,
             "#bd3786"
            ],
            [
             0.5555555555555556,
             "#d8576b"
            ],
            [
             0.6666666666666666,
             "#ed7953"
            ],
            [
             0.7777777777777778,
             "#fb9f3a"
            ],
            [
             0.8888888888888888,
             "#fdca26"
            ],
            [
             1,
             "#f0f921"
            ]
           ]
          },
          "colorway": [
           "#636efa",
           "#EF553B",
           "#00cc96",
           "#ab63fa",
           "#FFA15A",
           "#19d3f3",
           "#FF6692",
           "#B6E880",
           "#FF97FF",
           "#FECB52"
          ],
          "font": {
           "color": "#2a3f5f"
          },
          "geo": {
           "bgcolor": "white",
           "lakecolor": "white",
           "landcolor": "#E5ECF6",
           "showlakes": true,
           "showland": true,
           "subunitcolor": "white"
          },
          "hoverlabel": {
           "align": "left"
          },
          "hovermode": "closest",
          "mapbox": {
           "style": "light"
          },
          "paper_bgcolor": "white",
          "plot_bgcolor": "#E5ECF6",
          "polar": {
           "angularaxis": {
            "gridcolor": "white",
            "linecolor": "white",
            "ticks": ""
           },
           "bgcolor": "#E5ECF6",
           "radialaxis": {
            "gridcolor": "white",
            "linecolor": "white",
            "ticks": ""
           }
          },
          "scene": {
           "xaxis": {
            "backgroundcolor": "#E5ECF6",
            "gridcolor": "white",
            "gridwidth": 2,
            "linecolor": "white",
            "showbackground": true,
            "ticks": "",
            "zerolinecolor": "white"
           },
           "yaxis": {
            "backgroundcolor": "#E5ECF6",
            "gridcolor": "white",
            "gridwidth": 2,
            "linecolor": "white",
            "showbackground": true,
            "ticks": "",
            "zerolinecolor": "white"
           },
           "zaxis": {
            "backgroundcolor": "#E5ECF6",
            "gridcolor": "white",
            "gridwidth": 2,
            "linecolor": "white",
            "showbackground": true,
            "ticks": "",
            "zerolinecolor": "white"
           }
          },
          "shapedefaults": {
           "line": {
            "color": "#2a3f5f"
           }
          },
          "ternary": {
           "aaxis": {
            "gridcolor": "white",
            "linecolor": "white",
            "ticks": ""
           },
           "baxis": {
            "gridcolor": "white",
            "linecolor": "white",
            "ticks": ""
           },
           "bgcolor": "#E5ECF6",
           "caxis": {
            "gridcolor": "white",
            "linecolor": "white",
            "ticks": ""
           }
          },
          "title": {
           "x": 0.05
          },
          "xaxis": {
           "automargin": true,
           "gridcolor": "white",
           "linecolor": "white",
           "ticks": "",
           "title": {
            "standoff": 15
           },
           "zerolinecolor": "white",
           "zerolinewidth": 2
          },
          "yaxis": {
           "automargin": true,
           "gridcolor": "white",
           "linecolor": "white",
           "ticks": "",
           "title": {
            "standoff": 15
           },
           "zerolinecolor": "white",
           "zerolinewidth": 2
          }
         }
        }
       }
      }
     },
     "metadata": {},
     "output_type": "display_data"
    }
   ],
   "source": [
    "fig = px.sunburst(df, path=['countries', 'Funding Entities'], values='Times Funded',\n",
    "                color='Times Funded', \n",
    "                color_continuous_scale='Blues',\n",
    "                )\n",
    "fig.show()"
   ]
  }
 ],
 "metadata": {
  "kernelspec": {
   "display_name": "ophthoviz-venv",
   "language": "python",
   "name": "python3"
  },
  "language_info": {
   "codemirror_mode": {
    "name": "ipython",
    "version": 3
   },
   "file_extension": ".py",
   "mimetype": "text/x-python",
   "name": "python",
   "nbconvert_exporter": "python",
   "pygments_lexer": "ipython3",
   "version": "3.10.11"
  },
  "orig_nbformat": 4
 },
 "nbformat": 4,
 "nbformat_minor": 2
}
